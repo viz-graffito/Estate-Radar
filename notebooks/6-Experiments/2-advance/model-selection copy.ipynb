{
 "cells": [
  {
   "cell_type": "code",
   "execution_count": 3,
   "id": "d37ff281",
   "metadata": {},
   "outputs": [],
   "source": [
    "import numpy as np\n",
    "import pandas as pd\n",
    "\n",
    "from sklearn.model_selection import KFold, cross_val_score\n",
    "from sklearn.linear_model import LinearRegression\n",
    "from sklearn.pipeline import Pipeline\n",
    "from sklearn.preprocessing import OneHotEncoder, StandardScaler, OrdinalEncoder\n",
    "from sklearn.compose import ColumnTransformer\n",
    "from sklearn.svm import SVR\n",
    "from sklearn.linear_model import Ridge, Lasso\n",
    "from sklearn.tree import DecisionTreeRegressor\n",
    "from sklearn.ensemble import (\n",
    "    RandomForestRegressor,\n",
    "    ExtraTreesRegressor,\n",
    "    GradientBoostingRegressor,\n",
    "    AdaBoostRegressor\n",
    ")\n",
    "from sklearn.neural_network import MLPRegressor\n",
    "from xgboost import XGBRegressor\n",
    "\n",
    "from sklearn.model_selection import train_test_split\n",
    "from sklearn.metrics import mean_absolute_error,r2_score\n",
    "\n",
    "from sklearn.decomposition import PCA"
   ]
  },
  {
   "cell_type": "code",
   "execution_count": 4,
   "id": "80eb1b6e",
   "metadata": {},
   "outputs": [],
   "source": [
    "df = pd.read_csv('../../../data/processed/advance/gurgaon_properties_post_feature_selection_v2.csv')"
   ]
  },
  {
   "cell_type": "code",
   "execution_count": 5,
   "id": "a07f9fb5",
   "metadata": {},
   "outputs": [
    {
     "data": {
      "text/html": [
       "<div>\n",
       "<style scoped>\n",
       "    .dataframe tbody tr th:only-of-type {\n",
       "        vertical-align: middle;\n",
       "    }\n",
       "\n",
       "    .dataframe tbody tr th {\n",
       "        vertical-align: top;\n",
       "    }\n",
       "\n",
       "    .dataframe thead th {\n",
       "        text-align: right;\n",
       "    }\n",
       "</style>\n",
       "<table border=\"1\" class=\"dataframe\">\n",
       "  <thead>\n",
       "    <tr style=\"text-align: right;\">\n",
       "      <th></th>\n",
       "      <th>property_type</th>\n",
       "      <th>sector</th>\n",
       "      <th>price</th>\n",
       "      <th>bedRoom</th>\n",
       "      <th>bathroom</th>\n",
       "      <th>balcony</th>\n",
       "      <th>agePossession</th>\n",
       "      <th>built_up_area</th>\n",
       "      <th>servant room</th>\n",
       "      <th>store room</th>\n",
       "      <th>furnishing_type</th>\n",
       "      <th>luxury_category</th>\n",
       "      <th>floor_category</th>\n",
       "    </tr>\n",
       "  </thead>\n",
       "  <tbody>\n",
       "    <tr>\n",
       "      <th>0</th>\n",
       "      <td>flat</td>\n",
       "      <td>sector 36</td>\n",
       "      <td>0.82</td>\n",
       "      <td>3.0</td>\n",
       "      <td>2.0</td>\n",
       "      <td>2</td>\n",
       "      <td>New Property</td>\n",
       "      <td>850.0</td>\n",
       "      <td>0.0</td>\n",
       "      <td>0.0</td>\n",
       "      <td>0.0</td>\n",
       "      <td>Low</td>\n",
       "      <td>Low Floor</td>\n",
       "    </tr>\n",
       "    <tr>\n",
       "      <th>1</th>\n",
       "      <td>flat</td>\n",
       "      <td>sector 89</td>\n",
       "      <td>0.95</td>\n",
       "      <td>2.0</td>\n",
       "      <td>2.0</td>\n",
       "      <td>2</td>\n",
       "      <td>New Property</td>\n",
       "      <td>1226.0</td>\n",
       "      <td>1.0</td>\n",
       "      <td>0.0</td>\n",
       "      <td>0.0</td>\n",
       "      <td>Low</td>\n",
       "      <td>Mid Floor</td>\n",
       "    </tr>\n",
       "    <tr>\n",
       "      <th>2</th>\n",
       "      <td>flat</td>\n",
       "      <td>sohna road</td>\n",
       "      <td>0.32</td>\n",
       "      <td>2.0</td>\n",
       "      <td>2.0</td>\n",
       "      <td>1</td>\n",
       "      <td>New Property</td>\n",
       "      <td>1000.0</td>\n",
       "      <td>0.0</td>\n",
       "      <td>0.0</td>\n",
       "      <td>0.0</td>\n",
       "      <td>Low</td>\n",
       "      <td>High Floor</td>\n",
       "    </tr>\n",
       "    <tr>\n",
       "      <th>3</th>\n",
       "      <td>flat</td>\n",
       "      <td>sector 92</td>\n",
       "      <td>1.60</td>\n",
       "      <td>3.0</td>\n",
       "      <td>4.0</td>\n",
       "      <td>3+</td>\n",
       "      <td>Relatively New</td>\n",
       "      <td>1615.0</td>\n",
       "      <td>1.0</td>\n",
       "      <td>0.0</td>\n",
       "      <td>1.0</td>\n",
       "      <td>High</td>\n",
       "      <td>Mid Floor</td>\n",
       "    </tr>\n",
       "    <tr>\n",
       "      <th>4</th>\n",
       "      <td>flat</td>\n",
       "      <td>sector 102</td>\n",
       "      <td>0.48</td>\n",
       "      <td>2.0</td>\n",
       "      <td>2.0</td>\n",
       "      <td>1</td>\n",
       "      <td>Relatively New</td>\n",
       "      <td>582.0</td>\n",
       "      <td>0.0</td>\n",
       "      <td>1.0</td>\n",
       "      <td>0.0</td>\n",
       "      <td>High</td>\n",
       "      <td>Mid Floor</td>\n",
       "    </tr>\n",
       "  </tbody>\n",
       "</table>\n",
       "</div>"
      ],
      "text/plain": [
       "  property_type      sector  price  bedRoom  bathroom balcony   agePossession  \\\n",
       "0          flat   sector 36   0.82      3.0       2.0       2    New Property   \n",
       "1          flat   sector 89   0.95      2.0       2.0       2    New Property   \n",
       "2          flat  sohna road   0.32      2.0       2.0       1    New Property   \n",
       "3          flat   sector 92   1.60      3.0       4.0      3+  Relatively New   \n",
       "4          flat  sector 102   0.48      2.0       2.0       1  Relatively New   \n",
       "\n",
       "   built_up_area  servant room  store room  furnishing_type luxury_category  \\\n",
       "0          850.0           0.0         0.0              0.0             Low   \n",
       "1         1226.0           1.0         0.0              0.0             Low   \n",
       "2         1000.0           0.0         0.0              0.0             Low   \n",
       "3         1615.0           1.0         0.0              1.0            High   \n",
       "4          582.0           0.0         1.0              0.0            High   \n",
       "\n",
       "  floor_category  \n",
       "0      Low Floor  \n",
       "1      Mid Floor  \n",
       "2     High Floor  \n",
       "3      Mid Floor  \n",
       "4      Mid Floor  "
      ]
     },
     "execution_count": 5,
     "metadata": {},
     "output_type": "execute_result"
    }
   ],
   "source": [
    "df.head()"
   ]
  },
  {
   "cell_type": "code",
   "execution_count": 6,
   "id": "0399fef1",
   "metadata": {},
   "outputs": [
    {
     "data": {
      "text/plain": [
       "furnishing_type\n",
       "0.0    2349\n",
       "1.0    1018\n",
       "2.0     187\n",
       "Name: count, dtype: int64"
      ]
     },
     "execution_count": 6,
     "metadata": {},
     "output_type": "execute_result"
    }
   ],
   "source": [
    "df['furnishing_type'].value_counts()"
   ]
  },
  {
   "cell_type": "code",
   "execution_count": 7,
   "id": "d91ed92e",
   "metadata": {},
   "outputs": [],
   "source": [
    "# 0 -> unfurnished\n",
    "# 1 -> semifurnished\n",
    "# 2 -> furnished\n",
    "df['furnishing_type'] = df['furnishing_type'].replace({0.0:'unfurnished',1.0:'semifurnished',2.0:'furnished'})"
   ]
  },
  {
   "cell_type": "code",
   "execution_count": 8,
   "id": "705dba8f",
   "metadata": {},
   "outputs": [
    {
     "data": {
      "text/html": [
       "<div>\n",
       "<style scoped>\n",
       "    .dataframe tbody tr th:only-of-type {\n",
       "        vertical-align: middle;\n",
       "    }\n",
       "\n",
       "    .dataframe tbody tr th {\n",
       "        vertical-align: top;\n",
       "    }\n",
       "\n",
       "    .dataframe thead th {\n",
       "        text-align: right;\n",
       "    }\n",
       "</style>\n",
       "<table border=\"1\" class=\"dataframe\">\n",
       "  <thead>\n",
       "    <tr style=\"text-align: right;\">\n",
       "      <th></th>\n",
       "      <th>property_type</th>\n",
       "      <th>sector</th>\n",
       "      <th>price</th>\n",
       "      <th>bedRoom</th>\n",
       "      <th>bathroom</th>\n",
       "      <th>balcony</th>\n",
       "      <th>agePossession</th>\n",
       "      <th>built_up_area</th>\n",
       "      <th>servant room</th>\n",
       "      <th>store room</th>\n",
       "      <th>furnishing_type</th>\n",
       "      <th>luxury_category</th>\n",
       "      <th>floor_category</th>\n",
       "    </tr>\n",
       "  </thead>\n",
       "  <tbody>\n",
       "    <tr>\n",
       "      <th>0</th>\n",
       "      <td>flat</td>\n",
       "      <td>sector 36</td>\n",
       "      <td>0.82</td>\n",
       "      <td>3.0</td>\n",
       "      <td>2.0</td>\n",
       "      <td>2</td>\n",
       "      <td>New Property</td>\n",
       "      <td>850.0</td>\n",
       "      <td>0.0</td>\n",
       "      <td>0.0</td>\n",
       "      <td>unfurnished</td>\n",
       "      <td>Low</td>\n",
       "      <td>Low Floor</td>\n",
       "    </tr>\n",
       "    <tr>\n",
       "      <th>1</th>\n",
       "      <td>flat</td>\n",
       "      <td>sector 89</td>\n",
       "      <td>0.95</td>\n",
       "      <td>2.0</td>\n",
       "      <td>2.0</td>\n",
       "      <td>2</td>\n",
       "      <td>New Property</td>\n",
       "      <td>1226.0</td>\n",
       "      <td>1.0</td>\n",
       "      <td>0.0</td>\n",
       "      <td>unfurnished</td>\n",
       "      <td>Low</td>\n",
       "      <td>Mid Floor</td>\n",
       "    </tr>\n",
       "    <tr>\n",
       "      <th>2</th>\n",
       "      <td>flat</td>\n",
       "      <td>sohna road</td>\n",
       "      <td>0.32</td>\n",
       "      <td>2.0</td>\n",
       "      <td>2.0</td>\n",
       "      <td>1</td>\n",
       "      <td>New Property</td>\n",
       "      <td>1000.0</td>\n",
       "      <td>0.0</td>\n",
       "      <td>0.0</td>\n",
       "      <td>unfurnished</td>\n",
       "      <td>Low</td>\n",
       "      <td>High Floor</td>\n",
       "    </tr>\n",
       "    <tr>\n",
       "      <th>3</th>\n",
       "      <td>flat</td>\n",
       "      <td>sector 92</td>\n",
       "      <td>1.60</td>\n",
       "      <td>3.0</td>\n",
       "      <td>4.0</td>\n",
       "      <td>3+</td>\n",
       "      <td>Relatively New</td>\n",
       "      <td>1615.0</td>\n",
       "      <td>1.0</td>\n",
       "      <td>0.0</td>\n",
       "      <td>semifurnished</td>\n",
       "      <td>High</td>\n",
       "      <td>Mid Floor</td>\n",
       "    </tr>\n",
       "    <tr>\n",
       "      <th>4</th>\n",
       "      <td>flat</td>\n",
       "      <td>sector 102</td>\n",
       "      <td>0.48</td>\n",
       "      <td>2.0</td>\n",
       "      <td>2.0</td>\n",
       "      <td>1</td>\n",
       "      <td>Relatively New</td>\n",
       "      <td>582.0</td>\n",
       "      <td>0.0</td>\n",
       "      <td>1.0</td>\n",
       "      <td>unfurnished</td>\n",
       "      <td>High</td>\n",
       "      <td>Mid Floor</td>\n",
       "    </tr>\n",
       "  </tbody>\n",
       "</table>\n",
       "</div>"
      ],
      "text/plain": [
       "  property_type      sector  price  bedRoom  bathroom balcony   agePossession  \\\n",
       "0          flat   sector 36   0.82      3.0       2.0       2    New Property   \n",
       "1          flat   sector 89   0.95      2.0       2.0       2    New Property   \n",
       "2          flat  sohna road   0.32      2.0       2.0       1    New Property   \n",
       "3          flat   sector 92   1.60      3.0       4.0      3+  Relatively New   \n",
       "4          flat  sector 102   0.48      2.0       2.0       1  Relatively New   \n",
       "\n",
       "   built_up_area  servant room  store room furnishing_type luxury_category  \\\n",
       "0          850.0           0.0         0.0     unfurnished             Low   \n",
       "1         1226.0           1.0         0.0     unfurnished             Low   \n",
       "2         1000.0           0.0         0.0     unfurnished             Low   \n",
       "3         1615.0           1.0         0.0   semifurnished            High   \n",
       "4          582.0           0.0         1.0     unfurnished            High   \n",
       "\n",
       "  floor_category  \n",
       "0      Low Floor  \n",
       "1      Mid Floor  \n",
       "2     High Floor  \n",
       "3      Mid Floor  \n",
       "4      Mid Floor  "
      ]
     },
     "execution_count": 8,
     "metadata": {},
     "output_type": "execute_result"
    }
   ],
   "source": [
    "df.head()"
   ]
  },
  {
   "cell_type": "code",
   "execution_count": 9,
   "id": "b2da31ad",
   "metadata": {},
   "outputs": [],
   "source": [
    "X = df.drop(columns=['price'])\n",
    "y = df['price']"
   ]
  },
  {
   "cell_type": "code",
   "execution_count": 10,
   "id": "15996e23",
   "metadata": {},
   "outputs": [],
   "source": [
    "# Applying the log1p transformation to the target variable\n",
    "y_transformed = np.log1p(y)"
   ]
  },
  {
   "cell_type": "markdown",
   "id": "a517f036",
   "metadata": {},
   "source": [
    "### Ordinal Encoding"
   ]
  },
  {
   "cell_type": "code",
   "execution_count": 11,
   "id": "4eeb02e8",
   "metadata": {},
   "outputs": [],
   "source": [
    "columns_to_encode = ['property_type','sector', 'balcony', 'agePossession', 'furnishing_type', 'luxury_category', 'floor_category']"
   ]
  },
  {
   "cell_type": "code",
   "execution_count": 14,
   "id": "05b6dfb3",
   "metadata": {},
   "outputs": [],
   "source": [
    "# Creating a column transformer for preprocessing\n",
    "preprocessor = ColumnTransformer(\n",
    "    transformers=[\n",
    "        ('num', StandardScaler(), ['bedRoom', 'bathroom', 'built_up_area', 'servant room', 'store room']),\n",
    "        ('cat', OrdinalEncoder(), columns_to_encode)\n",
    "    ], \n",
    "    remainder='passthrough'\n",
    ")"
   ]
  },
  {
   "cell_type": "code",
   "execution_count": 15,
   "id": "7d54aa51",
   "metadata": {},
   "outputs": [],
   "source": [
    "# Creating a pipeline\n",
    "pipeline = Pipeline([\n",
    "    ('preprocessor', preprocessor),\n",
    "    ('regressor', LinearRegression())\n",
    "])"
   ]
  },
  {
   "cell_type": "code",
   "execution_count": 16,
   "id": "d1964a83",
   "metadata": {},
   "outputs": [],
   "source": [
    "# K-fold cross-validation\n",
    "kfold = KFold(n_splits=10, shuffle=True, random_state=42)\n",
    "scores = cross_val_score(pipeline, X, y_transformed, cv=kfold, scoring='r2')"
   ]
  },
  {
   "cell_type": "code",
   "execution_count": 17,
   "id": "e56f149e",
   "metadata": {},
   "outputs": [
    {
     "data": {
      "text/plain": [
       "(np.float64(0.7363096633436828), np.float64(0.03238005754429938))"
      ]
     },
     "execution_count": 17,
     "metadata": {},
     "output_type": "execute_result"
    }
   ],
   "source": [
    "scores.mean(),scores.std()"
   ]
  },
  {
   "cell_type": "code",
   "execution_count": 18,
   "id": "5d2e1b72",
   "metadata": {},
   "outputs": [],
   "source": [
    "X_train, X_test, y_train, y_test = train_test_split(X,y_transformed,test_size=0.2,random_state=42)"
   ]
  },
  {
   "cell_type": "code",
   "execution_count": 19,
   "id": "c1cc86ee",
   "metadata": {},
   "outputs": [
    {
     "data": {
      "text/html": [
       "<style>#sk-container-id-1 {\n",
       "  /* Definition of color scheme common for light and dark mode */\n",
       "  --sklearn-color-text: black;\n",
       "  --sklearn-color-line: gray;\n",
       "  /* Definition of color scheme for unfitted estimators */\n",
       "  --sklearn-color-unfitted-level-0: #fff5e6;\n",
       "  --sklearn-color-unfitted-level-1: #f6e4d2;\n",
       "  --sklearn-color-unfitted-level-2: #ffe0b3;\n",
       "  --sklearn-color-unfitted-level-3: chocolate;\n",
       "  /* Definition of color scheme for fitted estimators */\n",
       "  --sklearn-color-fitted-level-0: #f0f8ff;\n",
       "  --sklearn-color-fitted-level-1: #d4ebff;\n",
       "  --sklearn-color-fitted-level-2: #b3dbfd;\n",
       "  --sklearn-color-fitted-level-3: cornflowerblue;\n",
       "\n",
       "  /* Specific color for light theme */\n",
       "  --sklearn-color-text-on-default-background: var(--sg-text-color, var(--theme-code-foreground, var(--jp-content-font-color1, black)));\n",
       "  --sklearn-color-background: var(--sg-background-color, var(--theme-background, var(--jp-layout-color0, white)));\n",
       "  --sklearn-color-border-box: var(--sg-text-color, var(--theme-code-foreground, var(--jp-content-font-color1, black)));\n",
       "  --sklearn-color-icon: #696969;\n",
       "\n",
       "  @media (prefers-color-scheme: dark) {\n",
       "    /* Redefinition of color scheme for dark theme */\n",
       "    --sklearn-color-text-on-default-background: var(--sg-text-color, var(--theme-code-foreground, var(--jp-content-font-color1, white)));\n",
       "    --sklearn-color-background: var(--sg-background-color, var(--theme-background, var(--jp-layout-color0, #111)));\n",
       "    --sklearn-color-border-box: var(--sg-text-color, var(--theme-code-foreground, var(--jp-content-font-color1, white)));\n",
       "    --sklearn-color-icon: #878787;\n",
       "  }\n",
       "}\n",
       "\n",
       "#sk-container-id-1 {\n",
       "  color: var(--sklearn-color-text);\n",
       "}\n",
       "\n",
       "#sk-container-id-1 pre {\n",
       "  padding: 0;\n",
       "}\n",
       "\n",
       "#sk-container-id-1 input.sk-hidden--visually {\n",
       "  border: 0;\n",
       "  clip: rect(1px 1px 1px 1px);\n",
       "  clip: rect(1px, 1px, 1px, 1px);\n",
       "  height: 1px;\n",
       "  margin: -1px;\n",
       "  overflow: hidden;\n",
       "  padding: 0;\n",
       "  position: absolute;\n",
       "  width: 1px;\n",
       "}\n",
       "\n",
       "#sk-container-id-1 div.sk-dashed-wrapped {\n",
       "  border: 1px dashed var(--sklearn-color-line);\n",
       "  margin: 0 0.4em 0.5em 0.4em;\n",
       "  box-sizing: border-box;\n",
       "  padding-bottom: 0.4em;\n",
       "  background-color: var(--sklearn-color-background);\n",
       "}\n",
       "\n",
       "#sk-container-id-1 div.sk-container {\n",
       "  /* jupyter's `normalize.less` sets `[hidden] { display: none; }`\n",
       "     but bootstrap.min.css set `[hidden] { display: none !important; }`\n",
       "     so we also need the `!important` here to be able to override the\n",
       "     default hidden behavior on the sphinx rendered scikit-learn.org.\n",
       "     See: https://github.com/scikit-learn/scikit-learn/issues/21755 */\n",
       "  display: inline-block !important;\n",
       "  position: relative;\n",
       "}\n",
       "\n",
       "#sk-container-id-1 div.sk-text-repr-fallback {\n",
       "  display: none;\n",
       "}\n",
       "\n",
       "div.sk-parallel-item,\n",
       "div.sk-serial,\n",
       "div.sk-item {\n",
       "  /* draw centered vertical line to link estimators */\n",
       "  background-image: linear-gradient(var(--sklearn-color-text-on-default-background), var(--sklearn-color-text-on-default-background));\n",
       "  background-size: 2px 100%;\n",
       "  background-repeat: no-repeat;\n",
       "  background-position: center center;\n",
       "}\n",
       "\n",
       "/* Parallel-specific style estimator block */\n",
       "\n",
       "#sk-container-id-1 div.sk-parallel-item::after {\n",
       "  content: \"\";\n",
       "  width: 100%;\n",
       "  border-bottom: 2px solid var(--sklearn-color-text-on-default-background);\n",
       "  flex-grow: 1;\n",
       "}\n",
       "\n",
       "#sk-container-id-1 div.sk-parallel {\n",
       "  display: flex;\n",
       "  align-items: stretch;\n",
       "  justify-content: center;\n",
       "  background-color: var(--sklearn-color-background);\n",
       "  position: relative;\n",
       "}\n",
       "\n",
       "#sk-container-id-1 div.sk-parallel-item {\n",
       "  display: flex;\n",
       "  flex-direction: column;\n",
       "}\n",
       "\n",
       "#sk-container-id-1 div.sk-parallel-item:first-child::after {\n",
       "  align-self: flex-end;\n",
       "  width: 50%;\n",
       "}\n",
       "\n",
       "#sk-container-id-1 div.sk-parallel-item:last-child::after {\n",
       "  align-self: flex-start;\n",
       "  width: 50%;\n",
       "}\n",
       "\n",
       "#sk-container-id-1 div.sk-parallel-item:only-child::after {\n",
       "  width: 0;\n",
       "}\n",
       "\n",
       "/* Serial-specific style estimator block */\n",
       "\n",
       "#sk-container-id-1 div.sk-serial {\n",
       "  display: flex;\n",
       "  flex-direction: column;\n",
       "  align-items: center;\n",
       "  background-color: var(--sklearn-color-background);\n",
       "  padding-right: 1em;\n",
       "  padding-left: 1em;\n",
       "}\n",
       "\n",
       "\n",
       "/* Toggleable style: style used for estimator/Pipeline/ColumnTransformer box that is\n",
       "clickable and can be expanded/collapsed.\n",
       "- Pipeline and ColumnTransformer use this feature and define the default style\n",
       "- Estimators will overwrite some part of the style using the `sk-estimator` class\n",
       "*/\n",
       "\n",
       "/* Pipeline and ColumnTransformer style (default) */\n",
       "\n",
       "#sk-container-id-1 div.sk-toggleable {\n",
       "  /* Default theme specific background. It is overwritten whether we have a\n",
       "  specific estimator or a Pipeline/ColumnTransformer */\n",
       "  background-color: var(--sklearn-color-background);\n",
       "}\n",
       "\n",
       "/* Toggleable label */\n",
       "#sk-container-id-1 label.sk-toggleable__label {\n",
       "  cursor: pointer;\n",
       "  display: block;\n",
       "  width: 100%;\n",
       "  margin-bottom: 0;\n",
       "  padding: 0.5em;\n",
       "  box-sizing: border-box;\n",
       "  text-align: center;\n",
       "}\n",
       "\n",
       "#sk-container-id-1 label.sk-toggleable__label-arrow:before {\n",
       "  /* Arrow on the left of the label */\n",
       "  content: \"▸\";\n",
       "  float: left;\n",
       "  margin-right: 0.25em;\n",
       "  color: var(--sklearn-color-icon);\n",
       "}\n",
       "\n",
       "#sk-container-id-1 label.sk-toggleable__label-arrow:hover:before {\n",
       "  color: var(--sklearn-color-text);\n",
       "}\n",
       "\n",
       "/* Toggleable content - dropdown */\n",
       "\n",
       "#sk-container-id-1 div.sk-toggleable__content {\n",
       "  max-height: 0;\n",
       "  max-width: 0;\n",
       "  overflow: hidden;\n",
       "  text-align: left;\n",
       "  /* unfitted */\n",
       "  background-color: var(--sklearn-color-unfitted-level-0);\n",
       "}\n",
       "\n",
       "#sk-container-id-1 div.sk-toggleable__content.fitted {\n",
       "  /* fitted */\n",
       "  background-color: var(--sklearn-color-fitted-level-0);\n",
       "}\n",
       "\n",
       "#sk-container-id-1 div.sk-toggleable__content pre {\n",
       "  margin: 0.2em;\n",
       "  border-radius: 0.25em;\n",
       "  color: var(--sklearn-color-text);\n",
       "  /* unfitted */\n",
       "  background-color: var(--sklearn-color-unfitted-level-0);\n",
       "}\n",
       "\n",
       "#sk-container-id-1 div.sk-toggleable__content.fitted pre {\n",
       "  /* unfitted */\n",
       "  background-color: var(--sklearn-color-fitted-level-0);\n",
       "}\n",
       "\n",
       "#sk-container-id-1 input.sk-toggleable__control:checked~div.sk-toggleable__content {\n",
       "  /* Expand drop-down */\n",
       "  max-height: 200px;\n",
       "  max-width: 100%;\n",
       "  overflow: auto;\n",
       "}\n",
       "\n",
       "#sk-container-id-1 input.sk-toggleable__control:checked~label.sk-toggleable__label-arrow:before {\n",
       "  content: \"▾\";\n",
       "}\n",
       "\n",
       "/* Pipeline/ColumnTransformer-specific style */\n",
       "\n",
       "#sk-container-id-1 div.sk-label input.sk-toggleable__control:checked~label.sk-toggleable__label {\n",
       "  color: var(--sklearn-color-text);\n",
       "  background-color: var(--sklearn-color-unfitted-level-2);\n",
       "}\n",
       "\n",
       "#sk-container-id-1 div.sk-label.fitted input.sk-toggleable__control:checked~label.sk-toggleable__label {\n",
       "  background-color: var(--sklearn-color-fitted-level-2);\n",
       "}\n",
       "\n",
       "/* Estimator-specific style */\n",
       "\n",
       "/* Colorize estimator box */\n",
       "#sk-container-id-1 div.sk-estimator input.sk-toggleable__control:checked~label.sk-toggleable__label {\n",
       "  /* unfitted */\n",
       "  background-color: var(--sklearn-color-unfitted-level-2);\n",
       "}\n",
       "\n",
       "#sk-container-id-1 div.sk-estimator.fitted input.sk-toggleable__control:checked~label.sk-toggleable__label {\n",
       "  /* fitted */\n",
       "  background-color: var(--sklearn-color-fitted-level-2);\n",
       "}\n",
       "\n",
       "#sk-container-id-1 div.sk-label label.sk-toggleable__label,\n",
       "#sk-container-id-1 div.sk-label label {\n",
       "  /* The background is the default theme color */\n",
       "  color: var(--sklearn-color-text-on-default-background);\n",
       "}\n",
       "\n",
       "/* On hover, darken the color of the background */\n",
       "#sk-container-id-1 div.sk-label:hover label.sk-toggleable__label {\n",
       "  color: var(--sklearn-color-text);\n",
       "  background-color: var(--sklearn-color-unfitted-level-2);\n",
       "}\n",
       "\n",
       "/* Label box, darken color on hover, fitted */\n",
       "#sk-container-id-1 div.sk-label.fitted:hover label.sk-toggleable__label.fitted {\n",
       "  color: var(--sklearn-color-text);\n",
       "  background-color: var(--sklearn-color-fitted-level-2);\n",
       "}\n",
       "\n",
       "/* Estimator label */\n",
       "\n",
       "#sk-container-id-1 div.sk-label label {\n",
       "  font-family: monospace;\n",
       "  font-weight: bold;\n",
       "  display: inline-block;\n",
       "  line-height: 1.2em;\n",
       "}\n",
       "\n",
       "#sk-container-id-1 div.sk-label-container {\n",
       "  text-align: center;\n",
       "}\n",
       "\n",
       "/* Estimator-specific */\n",
       "#sk-container-id-1 div.sk-estimator {\n",
       "  font-family: monospace;\n",
       "  border: 1px dotted var(--sklearn-color-border-box);\n",
       "  border-radius: 0.25em;\n",
       "  box-sizing: border-box;\n",
       "  margin-bottom: 0.5em;\n",
       "  /* unfitted */\n",
       "  background-color: var(--sklearn-color-unfitted-level-0);\n",
       "}\n",
       "\n",
       "#sk-container-id-1 div.sk-estimator.fitted {\n",
       "  /* fitted */\n",
       "  background-color: var(--sklearn-color-fitted-level-0);\n",
       "}\n",
       "\n",
       "/* on hover */\n",
       "#sk-container-id-1 div.sk-estimator:hover {\n",
       "  /* unfitted */\n",
       "  background-color: var(--sklearn-color-unfitted-level-2);\n",
       "}\n",
       "\n",
       "#sk-container-id-1 div.sk-estimator.fitted:hover {\n",
       "  /* fitted */\n",
       "  background-color: var(--sklearn-color-fitted-level-2);\n",
       "}\n",
       "\n",
       "/* Specification for estimator info (e.g. \"i\" and \"?\") */\n",
       "\n",
       "/* Common style for \"i\" and \"?\" */\n",
       "\n",
       ".sk-estimator-doc-link,\n",
       "a:link.sk-estimator-doc-link,\n",
       "a:visited.sk-estimator-doc-link {\n",
       "  float: right;\n",
       "  font-size: smaller;\n",
       "  line-height: 1em;\n",
       "  font-family: monospace;\n",
       "  background-color: var(--sklearn-color-background);\n",
       "  border-radius: 1em;\n",
       "  height: 1em;\n",
       "  width: 1em;\n",
       "  text-decoration: none !important;\n",
       "  margin-left: 1ex;\n",
       "  /* unfitted */\n",
       "  border: var(--sklearn-color-unfitted-level-1) 1pt solid;\n",
       "  color: var(--sklearn-color-unfitted-level-1);\n",
       "}\n",
       "\n",
       ".sk-estimator-doc-link.fitted,\n",
       "a:link.sk-estimator-doc-link.fitted,\n",
       "a:visited.sk-estimator-doc-link.fitted {\n",
       "  /* fitted */\n",
       "  border: var(--sklearn-color-fitted-level-1) 1pt solid;\n",
       "  color: var(--sklearn-color-fitted-level-1);\n",
       "}\n",
       "\n",
       "/* On hover */\n",
       "div.sk-estimator:hover .sk-estimator-doc-link:hover,\n",
       ".sk-estimator-doc-link:hover,\n",
       "div.sk-label-container:hover .sk-estimator-doc-link:hover,\n",
       ".sk-estimator-doc-link:hover {\n",
       "  /* unfitted */\n",
       "  background-color: var(--sklearn-color-unfitted-level-3);\n",
       "  color: var(--sklearn-color-background);\n",
       "  text-decoration: none;\n",
       "}\n",
       "\n",
       "div.sk-estimator.fitted:hover .sk-estimator-doc-link.fitted:hover,\n",
       ".sk-estimator-doc-link.fitted:hover,\n",
       "div.sk-label-container:hover .sk-estimator-doc-link.fitted:hover,\n",
       ".sk-estimator-doc-link.fitted:hover {\n",
       "  /* fitted */\n",
       "  background-color: var(--sklearn-color-fitted-level-3);\n",
       "  color: var(--sklearn-color-background);\n",
       "  text-decoration: none;\n",
       "}\n",
       "\n",
       "/* Span, style for the box shown on hovering the info icon */\n",
       ".sk-estimator-doc-link span {\n",
       "  display: none;\n",
       "  z-index: 9999;\n",
       "  position: relative;\n",
       "  font-weight: normal;\n",
       "  right: .2ex;\n",
       "  padding: .5ex;\n",
       "  margin: .5ex;\n",
       "  width: min-content;\n",
       "  min-width: 20ex;\n",
       "  max-width: 50ex;\n",
       "  color: var(--sklearn-color-text);\n",
       "  box-shadow: 2pt 2pt 4pt #999;\n",
       "  /* unfitted */\n",
       "  background: var(--sklearn-color-unfitted-level-0);\n",
       "  border: .5pt solid var(--sklearn-color-unfitted-level-3);\n",
       "}\n",
       "\n",
       ".sk-estimator-doc-link.fitted span {\n",
       "  /* fitted */\n",
       "  background: var(--sklearn-color-fitted-level-0);\n",
       "  border: var(--sklearn-color-fitted-level-3);\n",
       "}\n",
       "\n",
       ".sk-estimator-doc-link:hover span {\n",
       "  display: block;\n",
       "}\n",
       "\n",
       "/* \"?\"-specific style due to the `<a>` HTML tag */\n",
       "\n",
       "#sk-container-id-1 a.estimator_doc_link {\n",
       "  float: right;\n",
       "  font-size: 1rem;\n",
       "  line-height: 1em;\n",
       "  font-family: monospace;\n",
       "  background-color: var(--sklearn-color-background);\n",
       "  border-radius: 1rem;\n",
       "  height: 1rem;\n",
       "  width: 1rem;\n",
       "  text-decoration: none;\n",
       "  /* unfitted */\n",
       "  color: var(--sklearn-color-unfitted-level-1);\n",
       "  border: var(--sklearn-color-unfitted-level-1) 1pt solid;\n",
       "}\n",
       "\n",
       "#sk-container-id-1 a.estimator_doc_link.fitted {\n",
       "  /* fitted */\n",
       "  border: var(--sklearn-color-fitted-level-1) 1pt solid;\n",
       "  color: var(--sklearn-color-fitted-level-1);\n",
       "}\n",
       "\n",
       "/* On hover */\n",
       "#sk-container-id-1 a.estimator_doc_link:hover {\n",
       "  /* unfitted */\n",
       "  background-color: var(--sklearn-color-unfitted-level-3);\n",
       "  color: var(--sklearn-color-background);\n",
       "  text-decoration: none;\n",
       "}\n",
       "\n",
       "#sk-container-id-1 a.estimator_doc_link.fitted:hover {\n",
       "  /* fitted */\n",
       "  background-color: var(--sklearn-color-fitted-level-3);\n",
       "}\n",
       "</style><div id=\"sk-container-id-1\" class=\"sk-top-container\"><div class=\"sk-text-repr-fallback\"><pre>Pipeline(steps=[(&#x27;preprocessor&#x27;,\n",
       "                 ColumnTransformer(remainder=&#x27;passthrough&#x27;,\n",
       "                                   transformers=[(&#x27;num&#x27;, StandardScaler(),\n",
       "                                                  [&#x27;bedRoom&#x27;, &#x27;bathroom&#x27;,\n",
       "                                                   &#x27;built_up_area&#x27;,\n",
       "                                                   &#x27;servant room&#x27;,\n",
       "                                                   &#x27;store room&#x27;]),\n",
       "                                                 (&#x27;cat&#x27;, OrdinalEncoder(),\n",
       "                                                  [&#x27;property_type&#x27;, &#x27;sector&#x27;,\n",
       "                                                   &#x27;balcony&#x27;, &#x27;agePossession&#x27;,\n",
       "                                                   &#x27;furnishing_type&#x27;,\n",
       "                                                   &#x27;luxury_category&#x27;,\n",
       "                                                   &#x27;floor_category&#x27;])])),\n",
       "                (&#x27;regressor&#x27;, LinearRegression())])</pre><b>In a Jupyter environment, please rerun this cell to show the HTML representation or trust the notebook. <br />On GitHub, the HTML representation is unable to render, please try loading this page with nbviewer.org.</b></div><div class=\"sk-container\" hidden><div class=\"sk-item sk-dashed-wrapped\"><div class=\"sk-label-container\"><div class=\"sk-label fitted sk-toggleable\"><input class=\"sk-toggleable__control sk-hidden--visually\" id=\"sk-estimator-id-1\" type=\"checkbox\" ><label for=\"sk-estimator-id-1\" class=\"sk-toggleable__label fitted sk-toggleable__label-arrow fitted\">&nbsp;&nbsp;Pipeline<a class=\"sk-estimator-doc-link fitted\" rel=\"noreferrer\" target=\"_blank\" href=\"https://scikit-learn.org/1.5/modules/generated/sklearn.pipeline.Pipeline.html\">?<span>Documentation for Pipeline</span></a><span class=\"sk-estimator-doc-link fitted\">i<span>Fitted</span></span></label><div class=\"sk-toggleable__content fitted\"><pre>Pipeline(steps=[(&#x27;preprocessor&#x27;,\n",
       "                 ColumnTransformer(remainder=&#x27;passthrough&#x27;,\n",
       "                                   transformers=[(&#x27;num&#x27;, StandardScaler(),\n",
       "                                                  [&#x27;bedRoom&#x27;, &#x27;bathroom&#x27;,\n",
       "                                                   &#x27;built_up_area&#x27;,\n",
       "                                                   &#x27;servant room&#x27;,\n",
       "                                                   &#x27;store room&#x27;]),\n",
       "                                                 (&#x27;cat&#x27;, OrdinalEncoder(),\n",
       "                                                  [&#x27;property_type&#x27;, &#x27;sector&#x27;,\n",
       "                                                   &#x27;balcony&#x27;, &#x27;agePossession&#x27;,\n",
       "                                                   &#x27;furnishing_type&#x27;,\n",
       "                                                   &#x27;luxury_category&#x27;,\n",
       "                                                   &#x27;floor_category&#x27;])])),\n",
       "                (&#x27;regressor&#x27;, LinearRegression())])</pre></div> </div></div><div class=\"sk-serial\"><div class=\"sk-item sk-dashed-wrapped\"><div class=\"sk-label-container\"><div class=\"sk-label fitted sk-toggleable\"><input class=\"sk-toggleable__control sk-hidden--visually\" id=\"sk-estimator-id-2\" type=\"checkbox\" ><label for=\"sk-estimator-id-2\" class=\"sk-toggleable__label fitted sk-toggleable__label-arrow fitted\">&nbsp;preprocessor: ColumnTransformer<a class=\"sk-estimator-doc-link fitted\" rel=\"noreferrer\" target=\"_blank\" href=\"https://scikit-learn.org/1.5/modules/generated/sklearn.compose.ColumnTransformer.html\">?<span>Documentation for preprocessor: ColumnTransformer</span></a></label><div class=\"sk-toggleable__content fitted\"><pre>ColumnTransformer(remainder=&#x27;passthrough&#x27;,\n",
       "                  transformers=[(&#x27;num&#x27;, StandardScaler(),\n",
       "                                 [&#x27;bedRoom&#x27;, &#x27;bathroom&#x27;, &#x27;built_up_area&#x27;,\n",
       "                                  &#x27;servant room&#x27;, &#x27;store room&#x27;]),\n",
       "                                (&#x27;cat&#x27;, OrdinalEncoder(),\n",
       "                                 [&#x27;property_type&#x27;, &#x27;sector&#x27;, &#x27;balcony&#x27;,\n",
       "                                  &#x27;agePossession&#x27;, &#x27;furnishing_type&#x27;,\n",
       "                                  &#x27;luxury_category&#x27;, &#x27;floor_category&#x27;])])</pre></div> </div></div><div class=\"sk-parallel\"><div class=\"sk-parallel-item\"><div class=\"sk-item\"><div class=\"sk-label-container\"><div class=\"sk-label fitted sk-toggleable\"><input class=\"sk-toggleable__control sk-hidden--visually\" id=\"sk-estimator-id-3\" type=\"checkbox\" ><label for=\"sk-estimator-id-3\" class=\"sk-toggleable__label fitted sk-toggleable__label-arrow fitted\">num</label><div class=\"sk-toggleable__content fitted\"><pre>[&#x27;bedRoom&#x27;, &#x27;bathroom&#x27;, &#x27;built_up_area&#x27;, &#x27;servant room&#x27;, &#x27;store room&#x27;]</pre></div> </div></div><div class=\"sk-serial\"><div class=\"sk-item\"><div class=\"sk-estimator fitted sk-toggleable\"><input class=\"sk-toggleable__control sk-hidden--visually\" id=\"sk-estimator-id-4\" type=\"checkbox\" ><label for=\"sk-estimator-id-4\" class=\"sk-toggleable__label fitted sk-toggleable__label-arrow fitted\">&nbsp;StandardScaler<a class=\"sk-estimator-doc-link fitted\" rel=\"noreferrer\" target=\"_blank\" href=\"https://scikit-learn.org/1.5/modules/generated/sklearn.preprocessing.StandardScaler.html\">?<span>Documentation for StandardScaler</span></a></label><div class=\"sk-toggleable__content fitted\"><pre>StandardScaler()</pre></div> </div></div></div></div></div><div class=\"sk-parallel-item\"><div class=\"sk-item\"><div class=\"sk-label-container\"><div class=\"sk-label fitted sk-toggleable\"><input class=\"sk-toggleable__control sk-hidden--visually\" id=\"sk-estimator-id-5\" type=\"checkbox\" ><label for=\"sk-estimator-id-5\" class=\"sk-toggleable__label fitted sk-toggleable__label-arrow fitted\">cat</label><div class=\"sk-toggleable__content fitted\"><pre>[&#x27;property_type&#x27;, &#x27;sector&#x27;, &#x27;balcony&#x27;, &#x27;agePossession&#x27;, &#x27;furnishing_type&#x27;, &#x27;luxury_category&#x27;, &#x27;floor_category&#x27;]</pre></div> </div></div><div class=\"sk-serial\"><div class=\"sk-item\"><div class=\"sk-estimator fitted sk-toggleable\"><input class=\"sk-toggleable__control sk-hidden--visually\" id=\"sk-estimator-id-6\" type=\"checkbox\" ><label for=\"sk-estimator-id-6\" class=\"sk-toggleable__label fitted sk-toggleable__label-arrow fitted\">&nbsp;OrdinalEncoder<a class=\"sk-estimator-doc-link fitted\" rel=\"noreferrer\" target=\"_blank\" href=\"https://scikit-learn.org/1.5/modules/generated/sklearn.preprocessing.OrdinalEncoder.html\">?<span>Documentation for OrdinalEncoder</span></a></label><div class=\"sk-toggleable__content fitted\"><pre>OrdinalEncoder()</pre></div> </div></div></div></div></div><div class=\"sk-parallel-item\"><div class=\"sk-item\"><div class=\"sk-label-container\"><div class=\"sk-label fitted sk-toggleable\"><input class=\"sk-toggleable__control sk-hidden--visually\" id=\"sk-estimator-id-7\" type=\"checkbox\" ><label for=\"sk-estimator-id-7\" class=\"sk-toggleable__label fitted sk-toggleable__label-arrow fitted\">remainder</label><div class=\"sk-toggleable__content fitted\"><pre>[]</pre></div> </div></div><div class=\"sk-serial\"><div class=\"sk-item\"><div class=\"sk-estimator fitted sk-toggleable\"><input class=\"sk-toggleable__control sk-hidden--visually\" id=\"sk-estimator-id-8\" type=\"checkbox\" ><label for=\"sk-estimator-id-8\" class=\"sk-toggleable__label fitted sk-toggleable__label-arrow fitted\">passthrough</label><div class=\"sk-toggleable__content fitted\"><pre>passthrough</pre></div> </div></div></div></div></div></div></div><div class=\"sk-item\"><div class=\"sk-estimator fitted sk-toggleable\"><input class=\"sk-toggleable__control sk-hidden--visually\" id=\"sk-estimator-id-9\" type=\"checkbox\" ><label for=\"sk-estimator-id-9\" class=\"sk-toggleable__label fitted sk-toggleable__label-arrow fitted\">&nbsp;LinearRegression<a class=\"sk-estimator-doc-link fitted\" rel=\"noreferrer\" target=\"_blank\" href=\"https://scikit-learn.org/1.5/modules/generated/sklearn.linear_model.LinearRegression.html\">?<span>Documentation for LinearRegression</span></a></label><div class=\"sk-toggleable__content fitted\"><pre>LinearRegression()</pre></div> </div></div></div></div></div></div>"
      ],
      "text/plain": [
       "Pipeline(steps=[('preprocessor',\n",
       "                 ColumnTransformer(remainder='passthrough',\n",
       "                                   transformers=[('num', StandardScaler(),\n",
       "                                                  ['bedRoom', 'bathroom',\n",
       "                                                   'built_up_area',\n",
       "                                                   'servant room',\n",
       "                                                   'store room']),\n",
       "                                                 ('cat', OrdinalEncoder(),\n",
       "                                                  ['property_type', 'sector',\n",
       "                                                   'balcony', 'agePossession',\n",
       "                                                   'furnishing_type',\n",
       "                                                   'luxury_category',\n",
       "                                                   'floor_category'])])),\n",
       "                ('regressor', LinearRegression())])"
      ]
     },
     "execution_count": 19,
     "metadata": {},
     "output_type": "execute_result"
    }
   ],
   "source": [
    "pipeline.fit(X_train,y_train)"
   ]
  },
  {
   "cell_type": "code",
   "execution_count": 20,
   "id": "1fbcc89d",
   "metadata": {},
   "outputs": [],
   "source": [
    "y_pred = pipeline.predict(X_test)"
   ]
  },
  {
   "cell_type": "code",
   "execution_count": 21,
   "id": "1aae4a7c",
   "metadata": {},
   "outputs": [],
   "source": [
    "y_pred = np.expm1(y_pred)"
   ]
  },
  {
   "cell_type": "code",
   "execution_count": 22,
   "id": "fcc15b04",
   "metadata": {},
   "outputs": [
    {
     "data": {
      "text/plain": [
       "np.float64(0.9463822160089355)"
      ]
     },
     "execution_count": 22,
     "metadata": {},
     "output_type": "execute_result"
    }
   ],
   "source": [
    "mean_absolute_error(np.expm1(y_test),y_pred)"
   ]
  },
  {
   "cell_type": "code",
   "execution_count": 23,
   "id": "2051ad70",
   "metadata": {},
   "outputs": [],
   "source": [
    "def scorer(model_name, model):\n",
    "    \n",
    "    output = []\n",
    "    \n",
    "    output.append(model_name)\n",
    "    \n",
    "    pipeline = Pipeline([\n",
    "        ('preprocessor', preprocessor),\n",
    "        ('regressor', model)\n",
    "    ])\n",
    "    \n",
    "    # K-fold cross-validation\n",
    "    kfold = KFold(n_splits=10, shuffle=True, random_state=42)\n",
    "    scores = cross_val_score(pipeline, X, y_transformed, cv=kfold, scoring='r2')\n",
    "    \n",
    "    output.append(scores.mean())\n",
    "    \n",
    "    X_train, X_test, y_train, y_test = train_test_split(X,y_transformed,test_size=0.2,random_state=42)\n",
    "    \n",
    "    pipeline.fit(X_train,y_train)\n",
    "    \n",
    "    y_pred = pipeline.predict(X_test)\n",
    "    \n",
    "    y_pred = np.expm1(y_pred)\n",
    "    \n",
    "    output.append(mean_absolute_error(np.expm1(y_test),y_pred))\n",
    "    \n",
    "    return output\n",
    "    "
   ]
  },
  {
   "cell_type": "code",
   "execution_count": 24,
   "id": "dca9553e",
   "metadata": {},
   "outputs": [],
   "source": [
    "model_dict = {\n",
    "    'linear_reg':LinearRegression(),\n",
    "    'svr':SVR(),\n",
    "    'ridge':Ridge(),\n",
    "    'LASSO':Lasso(),\n",
    "    'decision tree': DecisionTreeRegressor(),\n",
    "    'random forest':RandomForestRegressor(),\n",
    "    'extra trees': ExtraTreesRegressor(),\n",
    "    'gradient boosting': GradientBoostingRegressor(),\n",
    "    'adaboost': AdaBoostRegressor(),\n",
    "    'mlp': MLPRegressor(),\n",
    "    'xgboost':XGBRegressor()\n",
    "}"
   ]
  },
  {
   "cell_type": "code",
   "execution_count": 25,
   "id": "b8a9d1d4",
   "metadata": {},
   "outputs": [],
   "source": [
    "model_output = []\n",
    "for model_name,model in model_dict.items():\n",
    "    model_output.append(scorer(model_name, model))"
   ]
  },
  {
   "cell_type": "code",
   "execution_count": 26,
   "id": "fab0a513",
   "metadata": {},
   "outputs": [
    {
     "data": {
      "text/plain": [
       "[['linear_reg',\n",
       "  np.float64(0.7363096633436828),\n",
       "  np.float64(0.9463822160089355)],\n",
       " ['svr', np.float64(0.7642012011196353), np.float64(0.8472636473483927)],\n",
       " ['ridge', np.float64(0.7363125343993554), np.float64(0.9463387741853388)],\n",
       " ['LASSO', np.float64(0.05943378064493572), np.float64(1.528905986892753)],\n",
       " ['decision tree',\n",
       "  np.float64(0.7673085026151244),\n",
       "  np.float64(0.7442615607081917)],\n",
       " ['random forest',\n",
       "  np.float64(0.8821227799147175),\n",
       "  np.float64(0.5328741406130693)],\n",
       " ['extra trees',\n",
       "  np.float64(0.8669776195842113),\n",
       "  np.float64(0.5484517439895076)],\n",
       " ['gradient boosting',\n",
       "  np.float64(0.8726504776846961),\n",
       "  np.float64(0.5759827420192102)],\n",
       " ['adaboost', np.float64(0.7538773267354032), np.float64(0.8319593806608996)],\n",
       " ['mlp', np.float64(0.8090576243465157), np.float64(0.7177366996634695)],\n",
       " ['xgboost', np.float64(0.8894876835260124), np.float64(0.5040475141482346)]]"
      ]
     },
     "execution_count": 26,
     "metadata": {},
     "output_type": "execute_result"
    }
   ],
   "source": [
    "model_output"
   ]
  },
  {
   "cell_type": "code",
   "execution_count": 27,
   "id": "ac628d76",
   "metadata": {},
   "outputs": [],
   "source": [
    "model_df = pd.DataFrame(model_output, columns=['name','r2','mae'])"
   ]
  },
  {
   "cell_type": "code",
   "execution_count": 28,
   "id": "143ff7b2",
   "metadata": {},
   "outputs": [
    {
     "data": {
      "text/html": [
       "<div>\n",
       "<style scoped>\n",
       "    .dataframe tbody tr th:only-of-type {\n",
       "        vertical-align: middle;\n",
       "    }\n",
       "\n",
       "    .dataframe tbody tr th {\n",
       "        vertical-align: top;\n",
       "    }\n",
       "\n",
       "    .dataframe thead th {\n",
       "        text-align: right;\n",
       "    }\n",
       "</style>\n",
       "<table border=\"1\" class=\"dataframe\">\n",
       "  <thead>\n",
       "    <tr style=\"text-align: right;\">\n",
       "      <th></th>\n",
       "      <th>name</th>\n",
       "      <th>r2</th>\n",
       "      <th>mae</th>\n",
       "    </tr>\n",
       "  </thead>\n",
       "  <tbody>\n",
       "    <tr>\n",
       "      <th>10</th>\n",
       "      <td>xgboost</td>\n",
       "      <td>0.889488</td>\n",
       "      <td>0.504048</td>\n",
       "    </tr>\n",
       "    <tr>\n",
       "      <th>5</th>\n",
       "      <td>random forest</td>\n",
       "      <td>0.882123</td>\n",
       "      <td>0.532874</td>\n",
       "    </tr>\n",
       "    <tr>\n",
       "      <th>6</th>\n",
       "      <td>extra trees</td>\n",
       "      <td>0.866978</td>\n",
       "      <td>0.548452</td>\n",
       "    </tr>\n",
       "    <tr>\n",
       "      <th>7</th>\n",
       "      <td>gradient boosting</td>\n",
       "      <td>0.872650</td>\n",
       "      <td>0.575983</td>\n",
       "    </tr>\n",
       "    <tr>\n",
       "      <th>9</th>\n",
       "      <td>mlp</td>\n",
       "      <td>0.809058</td>\n",
       "      <td>0.717737</td>\n",
       "    </tr>\n",
       "    <tr>\n",
       "      <th>4</th>\n",
       "      <td>decision tree</td>\n",
       "      <td>0.767309</td>\n",
       "      <td>0.744262</td>\n",
       "    </tr>\n",
       "    <tr>\n",
       "      <th>8</th>\n",
       "      <td>adaboost</td>\n",
       "      <td>0.753877</td>\n",
       "      <td>0.831959</td>\n",
       "    </tr>\n",
       "    <tr>\n",
       "      <th>1</th>\n",
       "      <td>svr</td>\n",
       "      <td>0.764201</td>\n",
       "      <td>0.847264</td>\n",
       "    </tr>\n",
       "    <tr>\n",
       "      <th>2</th>\n",
       "      <td>ridge</td>\n",
       "      <td>0.736313</td>\n",
       "      <td>0.946339</td>\n",
       "    </tr>\n",
       "    <tr>\n",
       "      <th>0</th>\n",
       "      <td>linear_reg</td>\n",
       "      <td>0.736310</td>\n",
       "      <td>0.946382</td>\n",
       "    </tr>\n",
       "    <tr>\n",
       "      <th>3</th>\n",
       "      <td>LASSO</td>\n",
       "      <td>0.059434</td>\n",
       "      <td>1.528906</td>\n",
       "    </tr>\n",
       "  </tbody>\n",
       "</table>\n",
       "</div>"
      ],
      "text/plain": [
       "                 name        r2       mae\n",
       "10            xgboost  0.889488  0.504048\n",
       "5       random forest  0.882123  0.532874\n",
       "6         extra trees  0.866978  0.548452\n",
       "7   gradient boosting  0.872650  0.575983\n",
       "9                 mlp  0.809058  0.717737\n",
       "4       decision tree  0.767309  0.744262\n",
       "8            adaboost  0.753877  0.831959\n",
       "1                 svr  0.764201  0.847264\n",
       "2               ridge  0.736313  0.946339\n",
       "0          linear_reg  0.736310  0.946382\n",
       "3               LASSO  0.059434  1.528906"
      ]
     },
     "execution_count": 28,
     "metadata": {},
     "output_type": "execute_result"
    }
   ],
   "source": [
    "model_df.sort_values(['mae'])"
   ]
  },
  {
   "cell_type": "markdown",
   "id": "60ca5697",
   "metadata": {},
   "source": [
    "### OneHotEncoding"
   ]
  },
  {
   "cell_type": "code",
   "execution_count": 29,
   "id": "50130423",
   "metadata": {},
   "outputs": [],
   "source": [
    "# Creating a column transformer for preprocessing\n",
    "preprocessor = ColumnTransformer(\n",
    "    transformers=[\n",
    "        ('num', StandardScaler(), ['bedRoom', 'bathroom', 'built_up_area', 'servant room', 'store room']),\n",
    "        ('cat', OrdinalEncoder(), columns_to_encode),\n",
    "        ('cat1',OneHotEncoder(drop='first'),['sector','agePossession','furnishing_type'])\n",
    "    ], \n",
    "    remainder='passthrough'\n",
    ")"
   ]
  },
  {
   "cell_type": "code",
   "execution_count": 30,
   "id": "861b508b",
   "metadata": {},
   "outputs": [],
   "source": [
    "# Creating a pipeline\n",
    "pipeline = Pipeline([\n",
    "    ('preprocessor', preprocessor),\n",
    "    ('regressor', LinearRegression())\n",
    "])"
   ]
  },
  {
   "cell_type": "code",
   "execution_count": 31,
   "id": "d9455a15",
   "metadata": {},
   "outputs": [],
   "source": [
    "# K-fold cross-validation\n",
    "kfold = KFold(n_splits=10, shuffle=True, random_state=42)\n",
    "scores = cross_val_score(pipeline, X, y_transformed, cv=kfold, scoring='r2')"
   ]
  },
  {
   "cell_type": "code",
   "execution_count": 32,
   "id": "5d8dc0df",
   "metadata": {},
   "outputs": [
    {
     "data": {
      "text/plain": [
       "np.float64(0.8546054073648314)"
      ]
     },
     "execution_count": 32,
     "metadata": {},
     "output_type": "execute_result"
    }
   ],
   "source": [
    "scores.mean()"
   ]
  },
  {
   "cell_type": "code",
   "execution_count": 33,
   "id": "6ff52ada",
   "metadata": {},
   "outputs": [
    {
     "data": {
      "text/plain": [
       "np.float64(0.01599847663314007)"
      ]
     },
     "execution_count": 33,
     "metadata": {},
     "output_type": "execute_result"
    }
   ],
   "source": [
    "scores.std()"
   ]
  },
  {
   "cell_type": "code",
   "execution_count": 34,
   "id": "594d17c7",
   "metadata": {},
   "outputs": [],
   "source": [
    "X_train, X_test, y_train, y_test = train_test_split(X,y_transformed,test_size=0.2,random_state=42)"
   ]
  },
  {
   "cell_type": "code",
   "execution_count": 35,
   "id": "6c182b60",
   "metadata": {},
   "outputs": [
    {
     "data": {
      "text/html": [
       "<style>#sk-container-id-2 {\n",
       "  /* Definition of color scheme common for light and dark mode */\n",
       "  --sklearn-color-text: black;\n",
       "  --sklearn-color-line: gray;\n",
       "  /* Definition of color scheme for unfitted estimators */\n",
       "  --sklearn-color-unfitted-level-0: #fff5e6;\n",
       "  --sklearn-color-unfitted-level-1: #f6e4d2;\n",
       "  --sklearn-color-unfitted-level-2: #ffe0b3;\n",
       "  --sklearn-color-unfitted-level-3: chocolate;\n",
       "  /* Definition of color scheme for fitted estimators */\n",
       "  --sklearn-color-fitted-level-0: #f0f8ff;\n",
       "  --sklearn-color-fitted-level-1: #d4ebff;\n",
       "  --sklearn-color-fitted-level-2: #b3dbfd;\n",
       "  --sklearn-color-fitted-level-3: cornflowerblue;\n",
       "\n",
       "  /* Specific color for light theme */\n",
       "  --sklearn-color-text-on-default-background: var(--sg-text-color, var(--theme-code-foreground, var(--jp-content-font-color1, black)));\n",
       "  --sklearn-color-background: var(--sg-background-color, var(--theme-background, var(--jp-layout-color0, white)));\n",
       "  --sklearn-color-border-box: var(--sg-text-color, var(--theme-code-foreground, var(--jp-content-font-color1, black)));\n",
       "  --sklearn-color-icon: #696969;\n",
       "\n",
       "  @media (prefers-color-scheme: dark) {\n",
       "    /* Redefinition of color scheme for dark theme */\n",
       "    --sklearn-color-text-on-default-background: var(--sg-text-color, var(--theme-code-foreground, var(--jp-content-font-color1, white)));\n",
       "    --sklearn-color-background: var(--sg-background-color, var(--theme-background, var(--jp-layout-color0, #111)));\n",
       "    --sklearn-color-border-box: var(--sg-text-color, var(--theme-code-foreground, var(--jp-content-font-color1, white)));\n",
       "    --sklearn-color-icon: #878787;\n",
       "  }\n",
       "}\n",
       "\n",
       "#sk-container-id-2 {\n",
       "  color: var(--sklearn-color-text);\n",
       "}\n",
       "\n",
       "#sk-container-id-2 pre {\n",
       "  padding: 0;\n",
       "}\n",
       "\n",
       "#sk-container-id-2 input.sk-hidden--visually {\n",
       "  border: 0;\n",
       "  clip: rect(1px 1px 1px 1px);\n",
       "  clip: rect(1px, 1px, 1px, 1px);\n",
       "  height: 1px;\n",
       "  margin: -1px;\n",
       "  overflow: hidden;\n",
       "  padding: 0;\n",
       "  position: absolute;\n",
       "  width: 1px;\n",
       "}\n",
       "\n",
       "#sk-container-id-2 div.sk-dashed-wrapped {\n",
       "  border: 1px dashed var(--sklearn-color-line);\n",
       "  margin: 0 0.4em 0.5em 0.4em;\n",
       "  box-sizing: border-box;\n",
       "  padding-bottom: 0.4em;\n",
       "  background-color: var(--sklearn-color-background);\n",
       "}\n",
       "\n",
       "#sk-container-id-2 div.sk-container {\n",
       "  /* jupyter's `normalize.less` sets `[hidden] { display: none; }`\n",
       "     but bootstrap.min.css set `[hidden] { display: none !important; }`\n",
       "     so we also need the `!important` here to be able to override the\n",
       "     default hidden behavior on the sphinx rendered scikit-learn.org.\n",
       "     See: https://github.com/scikit-learn/scikit-learn/issues/21755 */\n",
       "  display: inline-block !important;\n",
       "  position: relative;\n",
       "}\n",
       "\n",
       "#sk-container-id-2 div.sk-text-repr-fallback {\n",
       "  display: none;\n",
       "}\n",
       "\n",
       "div.sk-parallel-item,\n",
       "div.sk-serial,\n",
       "div.sk-item {\n",
       "  /* draw centered vertical line to link estimators */\n",
       "  background-image: linear-gradient(var(--sklearn-color-text-on-default-background), var(--sklearn-color-text-on-default-background));\n",
       "  background-size: 2px 100%;\n",
       "  background-repeat: no-repeat;\n",
       "  background-position: center center;\n",
       "}\n",
       "\n",
       "/* Parallel-specific style estimator block */\n",
       "\n",
       "#sk-container-id-2 div.sk-parallel-item::after {\n",
       "  content: \"\";\n",
       "  width: 100%;\n",
       "  border-bottom: 2px solid var(--sklearn-color-text-on-default-background);\n",
       "  flex-grow: 1;\n",
       "}\n",
       "\n",
       "#sk-container-id-2 div.sk-parallel {\n",
       "  display: flex;\n",
       "  align-items: stretch;\n",
       "  justify-content: center;\n",
       "  background-color: var(--sklearn-color-background);\n",
       "  position: relative;\n",
       "}\n",
       "\n",
       "#sk-container-id-2 div.sk-parallel-item {\n",
       "  display: flex;\n",
       "  flex-direction: column;\n",
       "}\n",
       "\n",
       "#sk-container-id-2 div.sk-parallel-item:first-child::after {\n",
       "  align-self: flex-end;\n",
       "  width: 50%;\n",
       "}\n",
       "\n",
       "#sk-container-id-2 div.sk-parallel-item:last-child::after {\n",
       "  align-self: flex-start;\n",
       "  width: 50%;\n",
       "}\n",
       "\n",
       "#sk-container-id-2 div.sk-parallel-item:only-child::after {\n",
       "  width: 0;\n",
       "}\n",
       "\n",
       "/* Serial-specific style estimator block */\n",
       "\n",
       "#sk-container-id-2 div.sk-serial {\n",
       "  display: flex;\n",
       "  flex-direction: column;\n",
       "  align-items: center;\n",
       "  background-color: var(--sklearn-color-background);\n",
       "  padding-right: 1em;\n",
       "  padding-left: 1em;\n",
       "}\n",
       "\n",
       "\n",
       "/* Toggleable style: style used for estimator/Pipeline/ColumnTransformer box that is\n",
       "clickable and can be expanded/collapsed.\n",
       "- Pipeline and ColumnTransformer use this feature and define the default style\n",
       "- Estimators will overwrite some part of the style using the `sk-estimator` class\n",
       "*/\n",
       "\n",
       "/* Pipeline and ColumnTransformer style (default) */\n",
       "\n",
       "#sk-container-id-2 div.sk-toggleable {\n",
       "  /* Default theme specific background. It is overwritten whether we have a\n",
       "  specific estimator or a Pipeline/ColumnTransformer */\n",
       "  background-color: var(--sklearn-color-background);\n",
       "}\n",
       "\n",
       "/* Toggleable label */\n",
       "#sk-container-id-2 label.sk-toggleable__label {\n",
       "  cursor: pointer;\n",
       "  display: block;\n",
       "  width: 100%;\n",
       "  margin-bottom: 0;\n",
       "  padding: 0.5em;\n",
       "  box-sizing: border-box;\n",
       "  text-align: center;\n",
       "}\n",
       "\n",
       "#sk-container-id-2 label.sk-toggleable__label-arrow:before {\n",
       "  /* Arrow on the left of the label */\n",
       "  content: \"▸\";\n",
       "  float: left;\n",
       "  margin-right: 0.25em;\n",
       "  color: var(--sklearn-color-icon);\n",
       "}\n",
       "\n",
       "#sk-container-id-2 label.sk-toggleable__label-arrow:hover:before {\n",
       "  color: var(--sklearn-color-text);\n",
       "}\n",
       "\n",
       "/* Toggleable content - dropdown */\n",
       "\n",
       "#sk-container-id-2 div.sk-toggleable__content {\n",
       "  max-height: 0;\n",
       "  max-width: 0;\n",
       "  overflow: hidden;\n",
       "  text-align: left;\n",
       "  /* unfitted */\n",
       "  background-color: var(--sklearn-color-unfitted-level-0);\n",
       "}\n",
       "\n",
       "#sk-container-id-2 div.sk-toggleable__content.fitted {\n",
       "  /* fitted */\n",
       "  background-color: var(--sklearn-color-fitted-level-0);\n",
       "}\n",
       "\n",
       "#sk-container-id-2 div.sk-toggleable__content pre {\n",
       "  margin: 0.2em;\n",
       "  border-radius: 0.25em;\n",
       "  color: var(--sklearn-color-text);\n",
       "  /* unfitted */\n",
       "  background-color: var(--sklearn-color-unfitted-level-0);\n",
       "}\n",
       "\n",
       "#sk-container-id-2 div.sk-toggleable__content.fitted pre {\n",
       "  /* unfitted */\n",
       "  background-color: var(--sklearn-color-fitted-level-0);\n",
       "}\n",
       "\n",
       "#sk-container-id-2 input.sk-toggleable__control:checked~div.sk-toggleable__content {\n",
       "  /* Expand drop-down */\n",
       "  max-height: 200px;\n",
       "  max-width: 100%;\n",
       "  overflow: auto;\n",
       "}\n",
       "\n",
       "#sk-container-id-2 input.sk-toggleable__control:checked~label.sk-toggleable__label-arrow:before {\n",
       "  content: \"▾\";\n",
       "}\n",
       "\n",
       "/* Pipeline/ColumnTransformer-specific style */\n",
       "\n",
       "#sk-container-id-2 div.sk-label input.sk-toggleable__control:checked~label.sk-toggleable__label {\n",
       "  color: var(--sklearn-color-text);\n",
       "  background-color: var(--sklearn-color-unfitted-level-2);\n",
       "}\n",
       "\n",
       "#sk-container-id-2 div.sk-label.fitted input.sk-toggleable__control:checked~label.sk-toggleable__label {\n",
       "  background-color: var(--sklearn-color-fitted-level-2);\n",
       "}\n",
       "\n",
       "/* Estimator-specific style */\n",
       "\n",
       "/* Colorize estimator box */\n",
       "#sk-container-id-2 div.sk-estimator input.sk-toggleable__control:checked~label.sk-toggleable__label {\n",
       "  /* unfitted */\n",
       "  background-color: var(--sklearn-color-unfitted-level-2);\n",
       "}\n",
       "\n",
       "#sk-container-id-2 div.sk-estimator.fitted input.sk-toggleable__control:checked~label.sk-toggleable__label {\n",
       "  /* fitted */\n",
       "  background-color: var(--sklearn-color-fitted-level-2);\n",
       "}\n",
       "\n",
       "#sk-container-id-2 div.sk-label label.sk-toggleable__label,\n",
       "#sk-container-id-2 div.sk-label label {\n",
       "  /* The background is the default theme color */\n",
       "  color: var(--sklearn-color-text-on-default-background);\n",
       "}\n",
       "\n",
       "/* On hover, darken the color of the background */\n",
       "#sk-container-id-2 div.sk-label:hover label.sk-toggleable__label {\n",
       "  color: var(--sklearn-color-text);\n",
       "  background-color: var(--sklearn-color-unfitted-level-2);\n",
       "}\n",
       "\n",
       "/* Label box, darken color on hover, fitted */\n",
       "#sk-container-id-2 div.sk-label.fitted:hover label.sk-toggleable__label.fitted {\n",
       "  color: var(--sklearn-color-text);\n",
       "  background-color: var(--sklearn-color-fitted-level-2);\n",
       "}\n",
       "\n",
       "/* Estimator label */\n",
       "\n",
       "#sk-container-id-2 div.sk-label label {\n",
       "  font-family: monospace;\n",
       "  font-weight: bold;\n",
       "  display: inline-block;\n",
       "  line-height: 1.2em;\n",
       "}\n",
       "\n",
       "#sk-container-id-2 div.sk-label-container {\n",
       "  text-align: center;\n",
       "}\n",
       "\n",
       "/* Estimator-specific */\n",
       "#sk-container-id-2 div.sk-estimator {\n",
       "  font-family: monospace;\n",
       "  border: 1px dotted var(--sklearn-color-border-box);\n",
       "  border-radius: 0.25em;\n",
       "  box-sizing: border-box;\n",
       "  margin-bottom: 0.5em;\n",
       "  /* unfitted */\n",
       "  background-color: var(--sklearn-color-unfitted-level-0);\n",
       "}\n",
       "\n",
       "#sk-container-id-2 div.sk-estimator.fitted {\n",
       "  /* fitted */\n",
       "  background-color: var(--sklearn-color-fitted-level-0);\n",
       "}\n",
       "\n",
       "/* on hover */\n",
       "#sk-container-id-2 div.sk-estimator:hover {\n",
       "  /* unfitted */\n",
       "  background-color: var(--sklearn-color-unfitted-level-2);\n",
       "}\n",
       "\n",
       "#sk-container-id-2 div.sk-estimator.fitted:hover {\n",
       "  /* fitted */\n",
       "  background-color: var(--sklearn-color-fitted-level-2);\n",
       "}\n",
       "\n",
       "/* Specification for estimator info (e.g. \"i\" and \"?\") */\n",
       "\n",
       "/* Common style for \"i\" and \"?\" */\n",
       "\n",
       ".sk-estimator-doc-link,\n",
       "a:link.sk-estimator-doc-link,\n",
       "a:visited.sk-estimator-doc-link {\n",
       "  float: right;\n",
       "  font-size: smaller;\n",
       "  line-height: 1em;\n",
       "  font-family: monospace;\n",
       "  background-color: var(--sklearn-color-background);\n",
       "  border-radius: 1em;\n",
       "  height: 1em;\n",
       "  width: 1em;\n",
       "  text-decoration: none !important;\n",
       "  margin-left: 1ex;\n",
       "  /* unfitted */\n",
       "  border: var(--sklearn-color-unfitted-level-1) 1pt solid;\n",
       "  color: var(--sklearn-color-unfitted-level-1);\n",
       "}\n",
       "\n",
       ".sk-estimator-doc-link.fitted,\n",
       "a:link.sk-estimator-doc-link.fitted,\n",
       "a:visited.sk-estimator-doc-link.fitted {\n",
       "  /* fitted */\n",
       "  border: var(--sklearn-color-fitted-level-1) 1pt solid;\n",
       "  color: var(--sklearn-color-fitted-level-1);\n",
       "}\n",
       "\n",
       "/* On hover */\n",
       "div.sk-estimator:hover .sk-estimator-doc-link:hover,\n",
       ".sk-estimator-doc-link:hover,\n",
       "div.sk-label-container:hover .sk-estimator-doc-link:hover,\n",
       ".sk-estimator-doc-link:hover {\n",
       "  /* unfitted */\n",
       "  background-color: var(--sklearn-color-unfitted-level-3);\n",
       "  color: var(--sklearn-color-background);\n",
       "  text-decoration: none;\n",
       "}\n",
       "\n",
       "div.sk-estimator.fitted:hover .sk-estimator-doc-link.fitted:hover,\n",
       ".sk-estimator-doc-link.fitted:hover,\n",
       "div.sk-label-container:hover .sk-estimator-doc-link.fitted:hover,\n",
       ".sk-estimator-doc-link.fitted:hover {\n",
       "  /* fitted */\n",
       "  background-color: var(--sklearn-color-fitted-level-3);\n",
       "  color: var(--sklearn-color-background);\n",
       "  text-decoration: none;\n",
       "}\n",
       "\n",
       "/* Span, style for the box shown on hovering the info icon */\n",
       ".sk-estimator-doc-link span {\n",
       "  display: none;\n",
       "  z-index: 9999;\n",
       "  position: relative;\n",
       "  font-weight: normal;\n",
       "  right: .2ex;\n",
       "  padding: .5ex;\n",
       "  margin: .5ex;\n",
       "  width: min-content;\n",
       "  min-width: 20ex;\n",
       "  max-width: 50ex;\n",
       "  color: var(--sklearn-color-text);\n",
       "  box-shadow: 2pt 2pt 4pt #999;\n",
       "  /* unfitted */\n",
       "  background: var(--sklearn-color-unfitted-level-0);\n",
       "  border: .5pt solid var(--sklearn-color-unfitted-level-3);\n",
       "}\n",
       "\n",
       ".sk-estimator-doc-link.fitted span {\n",
       "  /* fitted */\n",
       "  background: var(--sklearn-color-fitted-level-0);\n",
       "  border: var(--sklearn-color-fitted-level-3);\n",
       "}\n",
       "\n",
       ".sk-estimator-doc-link:hover span {\n",
       "  display: block;\n",
       "}\n",
       "\n",
       "/* \"?\"-specific style due to the `<a>` HTML tag */\n",
       "\n",
       "#sk-container-id-2 a.estimator_doc_link {\n",
       "  float: right;\n",
       "  font-size: 1rem;\n",
       "  line-height: 1em;\n",
       "  font-family: monospace;\n",
       "  background-color: var(--sklearn-color-background);\n",
       "  border-radius: 1rem;\n",
       "  height: 1rem;\n",
       "  width: 1rem;\n",
       "  text-decoration: none;\n",
       "  /* unfitted */\n",
       "  color: var(--sklearn-color-unfitted-level-1);\n",
       "  border: var(--sklearn-color-unfitted-level-1) 1pt solid;\n",
       "}\n",
       "\n",
       "#sk-container-id-2 a.estimator_doc_link.fitted {\n",
       "  /* fitted */\n",
       "  border: var(--sklearn-color-fitted-level-1) 1pt solid;\n",
       "  color: var(--sklearn-color-fitted-level-1);\n",
       "}\n",
       "\n",
       "/* On hover */\n",
       "#sk-container-id-2 a.estimator_doc_link:hover {\n",
       "  /* unfitted */\n",
       "  background-color: var(--sklearn-color-unfitted-level-3);\n",
       "  color: var(--sklearn-color-background);\n",
       "  text-decoration: none;\n",
       "}\n",
       "\n",
       "#sk-container-id-2 a.estimator_doc_link.fitted:hover {\n",
       "  /* fitted */\n",
       "  background-color: var(--sklearn-color-fitted-level-3);\n",
       "}\n",
       "</style><div id=\"sk-container-id-2\" class=\"sk-top-container\"><div class=\"sk-text-repr-fallback\"><pre>Pipeline(steps=[(&#x27;preprocessor&#x27;,\n",
       "                 ColumnTransformer(remainder=&#x27;passthrough&#x27;,\n",
       "                                   transformers=[(&#x27;num&#x27;, StandardScaler(),\n",
       "                                                  [&#x27;bedRoom&#x27;, &#x27;bathroom&#x27;,\n",
       "                                                   &#x27;built_up_area&#x27;,\n",
       "                                                   &#x27;servant room&#x27;,\n",
       "                                                   &#x27;store room&#x27;]),\n",
       "                                                 (&#x27;cat&#x27;, OrdinalEncoder(),\n",
       "                                                  [&#x27;property_type&#x27;, &#x27;sector&#x27;,\n",
       "                                                   &#x27;balcony&#x27;, &#x27;agePossession&#x27;,\n",
       "                                                   &#x27;furnishing_type&#x27;,\n",
       "                                                   &#x27;luxury_category&#x27;,\n",
       "                                                   &#x27;floor_category&#x27;]),\n",
       "                                                 (&#x27;cat1&#x27;,\n",
       "                                                  OneHotEncoder(drop=&#x27;first&#x27;),\n",
       "                                                  [&#x27;sector&#x27;, &#x27;agePossession&#x27;,\n",
       "                                                   &#x27;furnishing_type&#x27;])])),\n",
       "                (&#x27;regressor&#x27;, LinearRegression())])</pre><b>In a Jupyter environment, please rerun this cell to show the HTML representation or trust the notebook. <br />On GitHub, the HTML representation is unable to render, please try loading this page with nbviewer.org.</b></div><div class=\"sk-container\" hidden><div class=\"sk-item sk-dashed-wrapped\"><div class=\"sk-label-container\"><div class=\"sk-label fitted sk-toggleable\"><input class=\"sk-toggleable__control sk-hidden--visually\" id=\"sk-estimator-id-10\" type=\"checkbox\" ><label for=\"sk-estimator-id-10\" class=\"sk-toggleable__label fitted sk-toggleable__label-arrow fitted\">&nbsp;&nbsp;Pipeline<a class=\"sk-estimator-doc-link fitted\" rel=\"noreferrer\" target=\"_blank\" href=\"https://scikit-learn.org/1.5/modules/generated/sklearn.pipeline.Pipeline.html\">?<span>Documentation for Pipeline</span></a><span class=\"sk-estimator-doc-link fitted\">i<span>Fitted</span></span></label><div class=\"sk-toggleable__content fitted\"><pre>Pipeline(steps=[(&#x27;preprocessor&#x27;,\n",
       "                 ColumnTransformer(remainder=&#x27;passthrough&#x27;,\n",
       "                                   transformers=[(&#x27;num&#x27;, StandardScaler(),\n",
       "                                                  [&#x27;bedRoom&#x27;, &#x27;bathroom&#x27;,\n",
       "                                                   &#x27;built_up_area&#x27;,\n",
       "                                                   &#x27;servant room&#x27;,\n",
       "                                                   &#x27;store room&#x27;]),\n",
       "                                                 (&#x27;cat&#x27;, OrdinalEncoder(),\n",
       "                                                  [&#x27;property_type&#x27;, &#x27;sector&#x27;,\n",
       "                                                   &#x27;balcony&#x27;, &#x27;agePossession&#x27;,\n",
       "                                                   &#x27;furnishing_type&#x27;,\n",
       "                                                   &#x27;luxury_category&#x27;,\n",
       "                                                   &#x27;floor_category&#x27;]),\n",
       "                                                 (&#x27;cat1&#x27;,\n",
       "                                                  OneHotEncoder(drop=&#x27;first&#x27;),\n",
       "                                                  [&#x27;sector&#x27;, &#x27;agePossession&#x27;,\n",
       "                                                   &#x27;furnishing_type&#x27;])])),\n",
       "                (&#x27;regressor&#x27;, LinearRegression())])</pre></div> </div></div><div class=\"sk-serial\"><div class=\"sk-item sk-dashed-wrapped\"><div class=\"sk-label-container\"><div class=\"sk-label fitted sk-toggleable\"><input class=\"sk-toggleable__control sk-hidden--visually\" id=\"sk-estimator-id-11\" type=\"checkbox\" ><label for=\"sk-estimator-id-11\" class=\"sk-toggleable__label fitted sk-toggleable__label-arrow fitted\">&nbsp;preprocessor: ColumnTransformer<a class=\"sk-estimator-doc-link fitted\" rel=\"noreferrer\" target=\"_blank\" href=\"https://scikit-learn.org/1.5/modules/generated/sklearn.compose.ColumnTransformer.html\">?<span>Documentation for preprocessor: ColumnTransformer</span></a></label><div class=\"sk-toggleable__content fitted\"><pre>ColumnTransformer(remainder=&#x27;passthrough&#x27;,\n",
       "                  transformers=[(&#x27;num&#x27;, StandardScaler(),\n",
       "                                 [&#x27;bedRoom&#x27;, &#x27;bathroom&#x27;, &#x27;built_up_area&#x27;,\n",
       "                                  &#x27;servant room&#x27;, &#x27;store room&#x27;]),\n",
       "                                (&#x27;cat&#x27;, OrdinalEncoder(),\n",
       "                                 [&#x27;property_type&#x27;, &#x27;sector&#x27;, &#x27;balcony&#x27;,\n",
       "                                  &#x27;agePossession&#x27;, &#x27;furnishing_type&#x27;,\n",
       "                                  &#x27;luxury_category&#x27;, &#x27;floor_category&#x27;]),\n",
       "                                (&#x27;cat1&#x27;, OneHotEncoder(drop=&#x27;first&#x27;),\n",
       "                                 [&#x27;sector&#x27;, &#x27;agePossession&#x27;,\n",
       "                                  &#x27;furnishing_type&#x27;])])</pre></div> </div></div><div class=\"sk-parallel\"><div class=\"sk-parallel-item\"><div class=\"sk-item\"><div class=\"sk-label-container\"><div class=\"sk-label fitted sk-toggleable\"><input class=\"sk-toggleable__control sk-hidden--visually\" id=\"sk-estimator-id-12\" type=\"checkbox\" ><label for=\"sk-estimator-id-12\" class=\"sk-toggleable__label fitted sk-toggleable__label-arrow fitted\">num</label><div class=\"sk-toggleable__content fitted\"><pre>[&#x27;bedRoom&#x27;, &#x27;bathroom&#x27;, &#x27;built_up_area&#x27;, &#x27;servant room&#x27;, &#x27;store room&#x27;]</pre></div> </div></div><div class=\"sk-serial\"><div class=\"sk-item\"><div class=\"sk-estimator fitted sk-toggleable\"><input class=\"sk-toggleable__control sk-hidden--visually\" id=\"sk-estimator-id-13\" type=\"checkbox\" ><label for=\"sk-estimator-id-13\" class=\"sk-toggleable__label fitted sk-toggleable__label-arrow fitted\">&nbsp;StandardScaler<a class=\"sk-estimator-doc-link fitted\" rel=\"noreferrer\" target=\"_blank\" href=\"https://scikit-learn.org/1.5/modules/generated/sklearn.preprocessing.StandardScaler.html\">?<span>Documentation for StandardScaler</span></a></label><div class=\"sk-toggleable__content fitted\"><pre>StandardScaler()</pre></div> </div></div></div></div></div><div class=\"sk-parallel-item\"><div class=\"sk-item\"><div class=\"sk-label-container\"><div class=\"sk-label fitted sk-toggleable\"><input class=\"sk-toggleable__control sk-hidden--visually\" id=\"sk-estimator-id-14\" type=\"checkbox\" ><label for=\"sk-estimator-id-14\" class=\"sk-toggleable__label fitted sk-toggleable__label-arrow fitted\">cat</label><div class=\"sk-toggleable__content fitted\"><pre>[&#x27;property_type&#x27;, &#x27;sector&#x27;, &#x27;balcony&#x27;, &#x27;agePossession&#x27;, &#x27;furnishing_type&#x27;, &#x27;luxury_category&#x27;, &#x27;floor_category&#x27;]</pre></div> </div></div><div class=\"sk-serial\"><div class=\"sk-item\"><div class=\"sk-estimator fitted sk-toggleable\"><input class=\"sk-toggleable__control sk-hidden--visually\" id=\"sk-estimator-id-15\" type=\"checkbox\" ><label for=\"sk-estimator-id-15\" class=\"sk-toggleable__label fitted sk-toggleable__label-arrow fitted\">&nbsp;OrdinalEncoder<a class=\"sk-estimator-doc-link fitted\" rel=\"noreferrer\" target=\"_blank\" href=\"https://scikit-learn.org/1.5/modules/generated/sklearn.preprocessing.OrdinalEncoder.html\">?<span>Documentation for OrdinalEncoder</span></a></label><div class=\"sk-toggleable__content fitted\"><pre>OrdinalEncoder()</pre></div> </div></div></div></div></div><div class=\"sk-parallel-item\"><div class=\"sk-item\"><div class=\"sk-label-container\"><div class=\"sk-label fitted sk-toggleable\"><input class=\"sk-toggleable__control sk-hidden--visually\" id=\"sk-estimator-id-16\" type=\"checkbox\" ><label for=\"sk-estimator-id-16\" class=\"sk-toggleable__label fitted sk-toggleable__label-arrow fitted\">cat1</label><div class=\"sk-toggleable__content fitted\"><pre>[&#x27;sector&#x27;, &#x27;agePossession&#x27;, &#x27;furnishing_type&#x27;]</pre></div> </div></div><div class=\"sk-serial\"><div class=\"sk-item\"><div class=\"sk-estimator fitted sk-toggleable\"><input class=\"sk-toggleable__control sk-hidden--visually\" id=\"sk-estimator-id-17\" type=\"checkbox\" ><label for=\"sk-estimator-id-17\" class=\"sk-toggleable__label fitted sk-toggleable__label-arrow fitted\">&nbsp;OneHotEncoder<a class=\"sk-estimator-doc-link fitted\" rel=\"noreferrer\" target=\"_blank\" href=\"https://scikit-learn.org/1.5/modules/generated/sklearn.preprocessing.OneHotEncoder.html\">?<span>Documentation for OneHotEncoder</span></a></label><div class=\"sk-toggleable__content fitted\"><pre>OneHotEncoder(drop=&#x27;first&#x27;)</pre></div> </div></div></div></div></div><div class=\"sk-parallel-item\"><div class=\"sk-item\"><div class=\"sk-label-container\"><div class=\"sk-label fitted sk-toggleable\"><input class=\"sk-toggleable__control sk-hidden--visually\" id=\"sk-estimator-id-18\" type=\"checkbox\" ><label for=\"sk-estimator-id-18\" class=\"sk-toggleable__label fitted sk-toggleable__label-arrow fitted\">remainder</label><div class=\"sk-toggleable__content fitted\"><pre>[]</pre></div> </div></div><div class=\"sk-serial\"><div class=\"sk-item\"><div class=\"sk-estimator fitted sk-toggleable\"><input class=\"sk-toggleable__control sk-hidden--visually\" id=\"sk-estimator-id-19\" type=\"checkbox\" ><label for=\"sk-estimator-id-19\" class=\"sk-toggleable__label fitted sk-toggleable__label-arrow fitted\">passthrough</label><div class=\"sk-toggleable__content fitted\"><pre>passthrough</pre></div> </div></div></div></div></div></div></div><div class=\"sk-item\"><div class=\"sk-estimator fitted sk-toggleable\"><input class=\"sk-toggleable__control sk-hidden--visually\" id=\"sk-estimator-id-20\" type=\"checkbox\" ><label for=\"sk-estimator-id-20\" class=\"sk-toggleable__label fitted sk-toggleable__label-arrow fitted\">&nbsp;LinearRegression<a class=\"sk-estimator-doc-link fitted\" rel=\"noreferrer\" target=\"_blank\" href=\"https://scikit-learn.org/1.5/modules/generated/sklearn.linear_model.LinearRegression.html\">?<span>Documentation for LinearRegression</span></a></label><div class=\"sk-toggleable__content fitted\"><pre>LinearRegression()</pre></div> </div></div></div></div></div></div>"
      ],
      "text/plain": [
       "Pipeline(steps=[('preprocessor',\n",
       "                 ColumnTransformer(remainder='passthrough',\n",
       "                                   transformers=[('num', StandardScaler(),\n",
       "                                                  ['bedRoom', 'bathroom',\n",
       "                                                   'built_up_area',\n",
       "                                                   'servant room',\n",
       "                                                   'store room']),\n",
       "                                                 ('cat', OrdinalEncoder(),\n",
       "                                                  ['property_type', 'sector',\n",
       "                                                   'balcony', 'agePossession',\n",
       "                                                   'furnishing_type',\n",
       "                                                   'luxury_category',\n",
       "                                                   'floor_category']),\n",
       "                                                 ('cat1',\n",
       "                                                  OneHotEncoder(drop='first'),\n",
       "                                                  ['sector', 'agePossession',\n",
       "                                                   'furnishing_type'])])),\n",
       "                ('regressor', LinearRegression())])"
      ]
     },
     "execution_count": 35,
     "metadata": {},
     "output_type": "execute_result"
    }
   ],
   "source": [
    "pipeline.fit(X_train,y_train)"
   ]
  },
  {
   "cell_type": "code",
   "execution_count": 36,
   "id": "f50b7f8f",
   "metadata": {},
   "outputs": [],
   "source": [
    "y_pred = pipeline.predict(X_test)"
   ]
  },
  {
   "cell_type": "code",
   "execution_count": 37,
   "id": "56328d6a",
   "metadata": {},
   "outputs": [],
   "source": [
    "y_pred = np.expm1(y_pred)"
   ]
  },
  {
   "cell_type": "code",
   "execution_count": 38,
   "id": "47cb17aa",
   "metadata": {},
   "outputs": [
    {
     "data": {
      "text/plain": [
       "np.float64(0.6497382874070646)"
      ]
     },
     "execution_count": 38,
     "metadata": {},
     "output_type": "execute_result"
    }
   ],
   "source": [
    "mean_absolute_error(np.expm1(y_test),y_pred)"
   ]
  },
  {
   "cell_type": "code",
   "execution_count": 39,
   "id": "16b2d377",
   "metadata": {},
   "outputs": [],
   "source": [
    "def scorer(model_name, model):\n",
    "    \n",
    "    output = []\n",
    "    \n",
    "    output.append(model_name)\n",
    "    \n",
    "    pipeline = Pipeline([\n",
    "        ('preprocessor', preprocessor),\n",
    "        ('regressor', model)\n",
    "    ])\n",
    "    \n",
    "    # K-fold cross-validation\n",
    "    kfold = KFold(n_splits=10, shuffle=True, random_state=42)\n",
    "    scores = cross_val_score(pipeline, X, y_transformed, cv=kfold, scoring='r2')\n",
    "    \n",
    "    output.append(scores.mean())\n",
    "    \n",
    "    X_train, X_test, y_train, y_test = train_test_split(X,y_transformed,test_size=0.2,random_state=42)\n",
    "    \n",
    "    pipeline.fit(X_train,y_train)\n",
    "    \n",
    "    y_pred = pipeline.predict(X_test)\n",
    "    \n",
    "    y_pred = np.expm1(y_pred)\n",
    "    \n",
    "    output.append(mean_absolute_error(np.expm1(y_test),y_pred))\n",
    "    \n",
    "    return output\n",
    "    "
   ]
  },
  {
   "cell_type": "code",
   "execution_count": 40,
   "id": "3fdef9c9",
   "metadata": {},
   "outputs": [],
   "source": [
    "model_dict = {\n",
    "    'linear_reg':LinearRegression(),\n",
    "    'svr':SVR(),\n",
    "    'ridge':Ridge(),\n",
    "    'LASSO':Lasso(),\n",
    "    'decision tree': DecisionTreeRegressor(),\n",
    "    'random forest':RandomForestRegressor(),\n",
    "    'extra trees': ExtraTreesRegressor(),\n",
    "    'gradient boosting': GradientBoostingRegressor(),\n",
    "    'adaboost': AdaBoostRegressor(),\n",
    "    'mlp': MLPRegressor(),\n",
    "    'xgboost':XGBRegressor()\n",
    "}"
   ]
  },
  {
   "cell_type": "code",
   "execution_count": 41,
   "id": "bd43a9ac",
   "metadata": {},
   "outputs": [],
   "source": [
    "model_output = []\n",
    "for model_name,model in model_dict.items():\n",
    "    model_output.append(scorer(model_name, model))"
   ]
  },
  {
   "cell_type": "code",
   "execution_count": 42,
   "id": "99f87bf1",
   "metadata": {},
   "outputs": [],
   "source": [
    "model_df = pd.DataFrame(model_output, columns=['name','r2','mae'])"
   ]
  },
  {
   "cell_type": "code",
   "execution_count": 43,
   "id": "077430c8",
   "metadata": {},
   "outputs": [
    {
     "data": {
      "text/html": [
       "<div>\n",
       "<style scoped>\n",
       "    .dataframe tbody tr th:only-of-type {\n",
       "        vertical-align: middle;\n",
       "    }\n",
       "\n",
       "    .dataframe tbody tr th {\n",
       "        vertical-align: top;\n",
       "    }\n",
       "\n",
       "    .dataframe thead th {\n",
       "        text-align: right;\n",
       "    }\n",
       "</style>\n",
       "<table border=\"1\" class=\"dataframe\">\n",
       "  <thead>\n",
       "    <tr style=\"text-align: right;\">\n",
       "      <th></th>\n",
       "      <th>name</th>\n",
       "      <th>r2</th>\n",
       "      <th>mae</th>\n",
       "    </tr>\n",
       "  </thead>\n",
       "  <tbody>\n",
       "    <tr>\n",
       "      <th>6</th>\n",
       "      <td>extra trees</td>\n",
       "      <td>0.894422</td>\n",
       "      <td>0.466914</td>\n",
       "    </tr>\n",
       "    <tr>\n",
       "      <th>10</th>\n",
       "      <td>xgboost</td>\n",
       "      <td>0.895850</td>\n",
       "      <td>0.493456</td>\n",
       "    </tr>\n",
       "    <tr>\n",
       "      <th>5</th>\n",
       "      <td>random forest</td>\n",
       "      <td>0.890771</td>\n",
       "      <td>0.500038</td>\n",
       "    </tr>\n",
       "    <tr>\n",
       "      <th>9</th>\n",
       "      <td>mlp</td>\n",
       "      <td>0.874392</td>\n",
       "      <td>0.543562</td>\n",
       "    </tr>\n",
       "    <tr>\n",
       "      <th>7</th>\n",
       "      <td>gradient boosting</td>\n",
       "      <td>0.876294</td>\n",
       "      <td>0.570925</td>\n",
       "    </tr>\n",
       "    <tr>\n",
       "      <th>0</th>\n",
       "      <td>linear_reg</td>\n",
       "      <td>0.854605</td>\n",
       "      <td>0.649738</td>\n",
       "    </tr>\n",
       "    <tr>\n",
       "      <th>2</th>\n",
       "      <td>ridge</td>\n",
       "      <td>0.854678</td>\n",
       "      <td>0.652914</td>\n",
       "    </tr>\n",
       "    <tr>\n",
       "      <th>4</th>\n",
       "      <td>decision tree</td>\n",
       "      <td>0.807073</td>\n",
       "      <td>0.698884</td>\n",
       "    </tr>\n",
       "    <tr>\n",
       "      <th>1</th>\n",
       "      <td>svr</td>\n",
       "      <td>0.769741</td>\n",
       "      <td>0.834124</td>\n",
       "    </tr>\n",
       "    <tr>\n",
       "      <th>8</th>\n",
       "      <td>adaboost</td>\n",
       "      <td>0.751862</td>\n",
       "      <td>0.846813</td>\n",
       "    </tr>\n",
       "    <tr>\n",
       "      <th>3</th>\n",
       "      <td>LASSO</td>\n",
       "      <td>0.059434</td>\n",
       "      <td>1.528906</td>\n",
       "    </tr>\n",
       "  </tbody>\n",
       "</table>\n",
       "</div>"
      ],
      "text/plain": [
       "                 name        r2       mae\n",
       "6         extra trees  0.894422  0.466914\n",
       "10            xgboost  0.895850  0.493456\n",
       "5       random forest  0.890771  0.500038\n",
       "9                 mlp  0.874392  0.543562\n",
       "7   gradient boosting  0.876294  0.570925\n",
       "0          linear_reg  0.854605  0.649738\n",
       "2               ridge  0.854678  0.652914\n",
       "4       decision tree  0.807073  0.698884\n",
       "1                 svr  0.769741  0.834124\n",
       "8            adaboost  0.751862  0.846813\n",
       "3               LASSO  0.059434  1.528906"
      ]
     },
     "execution_count": 43,
     "metadata": {},
     "output_type": "execute_result"
    }
   ],
   "source": [
    "model_df.sort_values(['mae'])"
   ]
  },
  {
   "cell_type": "markdown",
   "id": "407728e2",
   "metadata": {},
   "source": [
    "### OneHotEncoding With PCA"
   ]
  },
  {
   "cell_type": "code",
   "execution_count": 47,
   "id": "b29b48c6",
   "metadata": {},
   "outputs": [],
   "source": [
    "# Creating a column transformer for preprocessing\n",
    "preprocessor = ColumnTransformer(\n",
    "    transformers=[\n",
    "        ('num', StandardScaler(), ['bedRoom', 'bathroom', 'built_up_area', 'servant room', 'store room']),\n",
    "        ('cat', OrdinalEncoder(), columns_to_encode),\n",
    "        ('cat1',OneHotEncoder(drop='first',sparse_output=False),['sector','agePossession'])\n",
    "    ], \n",
    "    remainder='passthrough'\n",
    ")"
   ]
  },
  {
   "cell_type": "code",
   "execution_count": 48,
   "id": "f1d0099e",
   "metadata": {},
   "outputs": [],
   "source": [
    "# Creating a pipeline\n",
    "pipeline = Pipeline([\n",
    "    ('preprocessor', preprocessor),\n",
    "    ('pca', PCA(n_components=1)),\n",
    "    ('regressor', LinearRegression())\n",
    "])"
   ]
  },
  {
   "cell_type": "code",
   "execution_count": 49,
   "id": "3024633c",
   "metadata": {},
   "outputs": [],
   "source": [
    "# K-fold cross-validation\n",
    "kfold = KFold(n_splits=10, shuffle=True, random_state=42)\n",
    "scores = cross_val_score(pipeline, X, y_transformed, cv=kfold, scoring='r2')"
   ]
  },
  {
   "cell_type": "code",
   "execution_count": 19,
   "id": "7df1dbeb",
   "metadata": {},
   "outputs": [
    {
     "data": {
      "text/plain": [
       "np.float64(0.06225201431451136)"
      ]
     },
     "execution_count": 19,
     "metadata": {},
     "output_type": "execute_result"
    }
   ],
   "source": [
    "scores.mean()"
   ]
  },
  {
   "cell_type": "code",
   "execution_count": 20,
   "id": "134c3769",
   "metadata": {},
   "outputs": [
    {
     "data": {
      "text/plain": [
       "np.float64(0.01986059407164015)"
      ]
     },
     "execution_count": 20,
     "metadata": {},
     "output_type": "execute_result"
    }
   ],
   "source": [
    "scores.std()"
   ]
  },
  {
   "cell_type": "code",
   "execution_count": 21,
   "id": "704ba719",
   "metadata": {},
   "outputs": [],
   "source": [
    "def scorer(model_name, model):\n",
    "    \n",
    "    output = []\n",
    "    \n",
    "    output.append(model_name)\n",
    "    \n",
    "    pipeline = Pipeline([\n",
    "        ('preprocessor', preprocessor),\n",
    "        ('pca', PCA(n_components=0.95)),\n",
    "        ('regressor', model)\n",
    "    ])\n",
    "    \n",
    "    # K-fold cross-validation\n",
    "    kfold = KFold(n_splits=10, shuffle=True, random_state=42)\n",
    "    scores = cross_val_score(pipeline, X, y_transformed, cv=kfold, scoring='r2')\n",
    "    \n",
    "    output.append(scores.mean())\n",
    "    \n",
    "    X_train, X_test, y_train, y_test = train_test_split(X,y_transformed,test_size=0.2,random_state=42)\n",
    "    \n",
    "    pipeline.fit(X_train,y_train)\n",
    "    \n",
    "    y_pred = pipeline.predict(X_test)\n",
    "    \n",
    "    y_pred = np.expm1(y_pred)\n",
    "    \n",
    "    output.append(mean_absolute_error(np.expm1(y_test),y_pred))\n",
    "    \n",
    "    return output\n",
    "    "
   ]
  },
  {
   "cell_type": "code",
   "execution_count": 22,
   "id": "ad4ffc60",
   "metadata": {},
   "outputs": [],
   "source": [
    "model_dict = {\n",
    "    'linear_reg':LinearRegression(),\n",
    "    'svr':SVR(),\n",
    "    'ridge':Ridge(),\n",
    "    'LASSO':Lasso(),\n",
    "    'decision tree': DecisionTreeRegressor(),\n",
    "    'random forest':RandomForestRegressor(),\n",
    "    'extra trees': ExtraTreesRegressor(),\n",
    "    'gradient boosting': GradientBoostingRegressor(),\n",
    "    'adaboost': AdaBoostRegressor(),\n",
    "    'mlp': MLPRegressor(),\n",
    "    'xgboost':XGBRegressor()\n",
    "}"
   ]
  },
  {
   "cell_type": "code",
   "execution_count": 23,
   "id": "ea3ac5ea",
   "metadata": {},
   "outputs": [],
   "source": [
    "model_output = []\n",
    "for model_name,model in model_dict.items():\n",
    "    model_output.append(scorer(model_name, model))"
   ]
  },
  {
   "cell_type": "code",
   "execution_count": 24,
   "id": "edc7a23d",
   "metadata": {},
   "outputs": [],
   "source": [
    "model_df = pd.DataFrame(model_output, columns=['name','r2','mae'])"
   ]
  },
  {
   "cell_type": "code",
   "execution_count": 25,
   "id": "a757b875",
   "metadata": {},
   "outputs": [
    {
     "data": {
      "text/html": [
       "<div>\n",
       "<style scoped>\n",
       "    .dataframe tbody tr th:only-of-type {\n",
       "        vertical-align: middle;\n",
       "    }\n",
       "\n",
       "    .dataframe tbody tr th {\n",
       "        vertical-align: top;\n",
       "    }\n",
       "\n",
       "    .dataframe thead th {\n",
       "        text-align: right;\n",
       "    }\n",
       "</style>\n",
       "<table border=\"1\" class=\"dataframe\">\n",
       "  <thead>\n",
       "    <tr style=\"text-align: right;\">\n",
       "      <th></th>\n",
       "      <th>name</th>\n",
       "      <th>r2</th>\n",
       "      <th>mae</th>\n",
       "    </tr>\n",
       "  </thead>\n",
       "  <tbody>\n",
       "    <tr>\n",
       "      <th>5</th>\n",
       "      <td>random forest</td>\n",
       "      <td>0.762022</td>\n",
       "      <td>0.656978</td>\n",
       "    </tr>\n",
       "    <tr>\n",
       "      <th>6</th>\n",
       "      <td>extra trees</td>\n",
       "      <td>0.740420</td>\n",
       "      <td>0.695043</td>\n",
       "    </tr>\n",
       "    <tr>\n",
       "      <th>4</th>\n",
       "      <td>decision tree</td>\n",
       "      <td>0.696442</td>\n",
       "      <td>0.761509</td>\n",
       "    </tr>\n",
       "    <tr>\n",
       "      <th>10</th>\n",
       "      <td>xgboost</td>\n",
       "      <td>0.622205</td>\n",
       "      <td>0.967581</td>\n",
       "    </tr>\n",
       "    <tr>\n",
       "      <th>7</th>\n",
       "      <td>gradient boosting</td>\n",
       "      <td>0.610623</td>\n",
       "      <td>0.987906</td>\n",
       "    </tr>\n",
       "    <tr>\n",
       "      <th>1</th>\n",
       "      <td>svr</td>\n",
       "      <td>0.218073</td>\n",
       "      <td>1.361163</td>\n",
       "    </tr>\n",
       "    <tr>\n",
       "      <th>8</th>\n",
       "      <td>adaboost</td>\n",
       "      <td>0.305643</td>\n",
       "      <td>1.403254</td>\n",
       "    </tr>\n",
       "    <tr>\n",
       "      <th>9</th>\n",
       "      <td>mlp</td>\n",
       "      <td>0.208230</td>\n",
       "      <td>1.450977</td>\n",
       "    </tr>\n",
       "    <tr>\n",
       "      <th>2</th>\n",
       "      <td>ridge</td>\n",
       "      <td>0.062252</td>\n",
       "      <td>1.526707</td>\n",
       "    </tr>\n",
       "    <tr>\n",
       "      <th>0</th>\n",
       "      <td>linear_reg</td>\n",
       "      <td>0.062252</td>\n",
       "      <td>1.526707</td>\n",
       "    </tr>\n",
       "    <tr>\n",
       "      <th>3</th>\n",
       "      <td>LASSO</td>\n",
       "      <td>0.059676</td>\n",
       "      <td>1.528739</td>\n",
       "    </tr>\n",
       "  </tbody>\n",
       "</table>\n",
       "</div>"
      ],
      "text/plain": [
       "                 name        r2       mae\n",
       "5       random forest  0.762022  0.656978\n",
       "6         extra trees  0.740420  0.695043\n",
       "4       decision tree  0.696442  0.761509\n",
       "10            xgboost  0.622205  0.967581\n",
       "7   gradient boosting  0.610623  0.987906\n",
       "1                 svr  0.218073  1.361163\n",
       "8            adaboost  0.305643  1.403254\n",
       "9                 mlp  0.208230  1.450977\n",
       "2               ridge  0.062252  1.526707\n",
       "0          linear_reg  0.062252  1.526707\n",
       "3               LASSO  0.059676  1.528739"
      ]
     },
     "execution_count": 25,
     "metadata": {},
     "output_type": "execute_result"
    }
   ],
   "source": [
    "model_df.sort_values(['mae'])"
   ]
  },
  {
   "cell_type": "code",
   "execution_count": 66,
   "id": "a41408af",
   "metadata": {},
   "outputs": [],
   "source": [
    "# Creating a pipeline\n",
    "pipeline = Pipeline([\n",
    "    ('preprocessor', preprocessor),\n",
    "    ('pca', PCA()),\n",
    "    ('regressor', LinearRegression())\n",
    "])"
   ]
  },
  {
   "cell_type": "code",
   "execution_count": 67,
   "id": "e4e872c4",
   "metadata": {},
   "outputs": [
    {
     "data": {
      "text/html": [
       "<style>#sk-container-id-9 {\n",
       "  /* Definition of color scheme common for light and dark mode */\n",
       "  --sklearn-color-text: black;\n",
       "  --sklearn-color-line: gray;\n",
       "  /* Definition of color scheme for unfitted estimators */\n",
       "  --sklearn-color-unfitted-level-0: #fff5e6;\n",
       "  --sklearn-color-unfitted-level-1: #f6e4d2;\n",
       "  --sklearn-color-unfitted-level-2: #ffe0b3;\n",
       "  --sklearn-color-unfitted-level-3: chocolate;\n",
       "  /* Definition of color scheme for fitted estimators */\n",
       "  --sklearn-color-fitted-level-0: #f0f8ff;\n",
       "  --sklearn-color-fitted-level-1: #d4ebff;\n",
       "  --sklearn-color-fitted-level-2: #b3dbfd;\n",
       "  --sklearn-color-fitted-level-3: cornflowerblue;\n",
       "\n",
       "  /* Specific color for light theme */\n",
       "  --sklearn-color-text-on-default-background: var(--sg-text-color, var(--theme-code-foreground, var(--jp-content-font-color1, black)));\n",
       "  --sklearn-color-background: var(--sg-background-color, var(--theme-background, var(--jp-layout-color0, white)));\n",
       "  --sklearn-color-border-box: var(--sg-text-color, var(--theme-code-foreground, var(--jp-content-font-color1, black)));\n",
       "  --sklearn-color-icon: #696969;\n",
       "\n",
       "  @media (prefers-color-scheme: dark) {\n",
       "    /* Redefinition of color scheme for dark theme */\n",
       "    --sklearn-color-text-on-default-background: var(--sg-text-color, var(--theme-code-foreground, var(--jp-content-font-color1, white)));\n",
       "    --sklearn-color-background: var(--sg-background-color, var(--theme-background, var(--jp-layout-color0, #111)));\n",
       "    --sklearn-color-border-box: var(--sg-text-color, var(--theme-code-foreground, var(--jp-content-font-color1, white)));\n",
       "    --sklearn-color-icon: #878787;\n",
       "  }\n",
       "}\n",
       "\n",
       "#sk-container-id-9 {\n",
       "  color: var(--sklearn-color-text);\n",
       "}\n",
       "\n",
       "#sk-container-id-9 pre {\n",
       "  padding: 0;\n",
       "}\n",
       "\n",
       "#sk-container-id-9 input.sk-hidden--visually {\n",
       "  border: 0;\n",
       "  clip: rect(1px 1px 1px 1px);\n",
       "  clip: rect(1px, 1px, 1px, 1px);\n",
       "  height: 1px;\n",
       "  margin: -1px;\n",
       "  overflow: hidden;\n",
       "  padding: 0;\n",
       "  position: absolute;\n",
       "  width: 1px;\n",
       "}\n",
       "\n",
       "#sk-container-id-9 div.sk-dashed-wrapped {\n",
       "  border: 1px dashed var(--sklearn-color-line);\n",
       "  margin: 0 0.4em 0.5em 0.4em;\n",
       "  box-sizing: border-box;\n",
       "  padding-bottom: 0.4em;\n",
       "  background-color: var(--sklearn-color-background);\n",
       "}\n",
       "\n",
       "#sk-container-id-9 div.sk-container {\n",
       "  /* jupyter's `normalize.less` sets `[hidden] { display: none; }`\n",
       "     but bootstrap.min.css set `[hidden] { display: none !important; }`\n",
       "     so we also need the `!important` here to be able to override the\n",
       "     default hidden behavior on the sphinx rendered scikit-learn.org.\n",
       "     See: https://github.com/scikit-learn/scikit-learn/issues/21755 */\n",
       "  display: inline-block !important;\n",
       "  position: relative;\n",
       "}\n",
       "\n",
       "#sk-container-id-9 div.sk-text-repr-fallback {\n",
       "  display: none;\n",
       "}\n",
       "\n",
       "div.sk-parallel-item,\n",
       "div.sk-serial,\n",
       "div.sk-item {\n",
       "  /* draw centered vertical line to link estimators */\n",
       "  background-image: linear-gradient(var(--sklearn-color-text-on-default-background), var(--sklearn-color-text-on-default-background));\n",
       "  background-size: 2px 100%;\n",
       "  background-repeat: no-repeat;\n",
       "  background-position: center center;\n",
       "}\n",
       "\n",
       "/* Parallel-specific style estimator block */\n",
       "\n",
       "#sk-container-id-9 div.sk-parallel-item::after {\n",
       "  content: \"\";\n",
       "  width: 100%;\n",
       "  border-bottom: 2px solid var(--sklearn-color-text-on-default-background);\n",
       "  flex-grow: 1;\n",
       "}\n",
       "\n",
       "#sk-container-id-9 div.sk-parallel {\n",
       "  display: flex;\n",
       "  align-items: stretch;\n",
       "  justify-content: center;\n",
       "  background-color: var(--sklearn-color-background);\n",
       "  position: relative;\n",
       "}\n",
       "\n",
       "#sk-container-id-9 div.sk-parallel-item {\n",
       "  display: flex;\n",
       "  flex-direction: column;\n",
       "}\n",
       "\n",
       "#sk-container-id-9 div.sk-parallel-item:first-child::after {\n",
       "  align-self: flex-end;\n",
       "  width: 50%;\n",
       "}\n",
       "\n",
       "#sk-container-id-9 div.sk-parallel-item:last-child::after {\n",
       "  align-self: flex-start;\n",
       "  width: 50%;\n",
       "}\n",
       "\n",
       "#sk-container-id-9 div.sk-parallel-item:only-child::after {\n",
       "  width: 0;\n",
       "}\n",
       "\n",
       "/* Serial-specific style estimator block */\n",
       "\n",
       "#sk-container-id-9 div.sk-serial {\n",
       "  display: flex;\n",
       "  flex-direction: column;\n",
       "  align-items: center;\n",
       "  background-color: var(--sklearn-color-background);\n",
       "  padding-right: 1em;\n",
       "  padding-left: 1em;\n",
       "}\n",
       "\n",
       "\n",
       "/* Toggleable style: style used for estimator/Pipeline/ColumnTransformer box that is\n",
       "clickable and can be expanded/collapsed.\n",
       "- Pipeline and ColumnTransformer use this feature and define the default style\n",
       "- Estimators will overwrite some part of the style using the `sk-estimator` class\n",
       "*/\n",
       "\n",
       "/* Pipeline and ColumnTransformer style (default) */\n",
       "\n",
       "#sk-container-id-9 div.sk-toggleable {\n",
       "  /* Default theme specific background. It is overwritten whether we have a\n",
       "  specific estimator or a Pipeline/ColumnTransformer */\n",
       "  background-color: var(--sklearn-color-background);\n",
       "}\n",
       "\n",
       "/* Toggleable label */\n",
       "#sk-container-id-9 label.sk-toggleable__label {\n",
       "  cursor: pointer;\n",
       "  display: block;\n",
       "  width: 100%;\n",
       "  margin-bottom: 0;\n",
       "  padding: 0.5em;\n",
       "  box-sizing: border-box;\n",
       "  text-align: center;\n",
       "}\n",
       "\n",
       "#sk-container-id-9 label.sk-toggleable__label-arrow:before {\n",
       "  /* Arrow on the left of the label */\n",
       "  content: \"▸\";\n",
       "  float: left;\n",
       "  margin-right: 0.25em;\n",
       "  color: var(--sklearn-color-icon);\n",
       "}\n",
       "\n",
       "#sk-container-id-9 label.sk-toggleable__label-arrow:hover:before {\n",
       "  color: var(--sklearn-color-text);\n",
       "}\n",
       "\n",
       "/* Toggleable content - dropdown */\n",
       "\n",
       "#sk-container-id-9 div.sk-toggleable__content {\n",
       "  max-height: 0;\n",
       "  max-width: 0;\n",
       "  overflow: hidden;\n",
       "  text-align: left;\n",
       "  /* unfitted */\n",
       "  background-color: var(--sklearn-color-unfitted-level-0);\n",
       "}\n",
       "\n",
       "#sk-container-id-9 div.sk-toggleable__content.fitted {\n",
       "  /* fitted */\n",
       "  background-color: var(--sklearn-color-fitted-level-0);\n",
       "}\n",
       "\n",
       "#sk-container-id-9 div.sk-toggleable__content pre {\n",
       "  margin: 0.2em;\n",
       "  border-radius: 0.25em;\n",
       "  color: var(--sklearn-color-text);\n",
       "  /* unfitted */\n",
       "  background-color: var(--sklearn-color-unfitted-level-0);\n",
       "}\n",
       "\n",
       "#sk-container-id-9 div.sk-toggleable__content.fitted pre {\n",
       "  /* unfitted */\n",
       "  background-color: var(--sklearn-color-fitted-level-0);\n",
       "}\n",
       "\n",
       "#sk-container-id-9 input.sk-toggleable__control:checked~div.sk-toggleable__content {\n",
       "  /* Expand drop-down */\n",
       "  max-height: 200px;\n",
       "  max-width: 100%;\n",
       "  overflow: auto;\n",
       "}\n",
       "\n",
       "#sk-container-id-9 input.sk-toggleable__control:checked~label.sk-toggleable__label-arrow:before {\n",
       "  content: \"▾\";\n",
       "}\n",
       "\n",
       "/* Pipeline/ColumnTransformer-specific style */\n",
       "\n",
       "#sk-container-id-9 div.sk-label input.sk-toggleable__control:checked~label.sk-toggleable__label {\n",
       "  color: var(--sklearn-color-text);\n",
       "  background-color: var(--sklearn-color-unfitted-level-2);\n",
       "}\n",
       "\n",
       "#sk-container-id-9 div.sk-label.fitted input.sk-toggleable__control:checked~label.sk-toggleable__label {\n",
       "  background-color: var(--sklearn-color-fitted-level-2);\n",
       "}\n",
       "\n",
       "/* Estimator-specific style */\n",
       "\n",
       "/* Colorize estimator box */\n",
       "#sk-container-id-9 div.sk-estimator input.sk-toggleable__control:checked~label.sk-toggleable__label {\n",
       "  /* unfitted */\n",
       "  background-color: var(--sklearn-color-unfitted-level-2);\n",
       "}\n",
       "\n",
       "#sk-container-id-9 div.sk-estimator.fitted input.sk-toggleable__control:checked~label.sk-toggleable__label {\n",
       "  /* fitted */\n",
       "  background-color: var(--sklearn-color-fitted-level-2);\n",
       "}\n",
       "\n",
       "#sk-container-id-9 div.sk-label label.sk-toggleable__label,\n",
       "#sk-container-id-9 div.sk-label label {\n",
       "  /* The background is the default theme color */\n",
       "  color: var(--sklearn-color-text-on-default-background);\n",
       "}\n",
       "\n",
       "/* On hover, darken the color of the background */\n",
       "#sk-container-id-9 div.sk-label:hover label.sk-toggleable__label {\n",
       "  color: var(--sklearn-color-text);\n",
       "  background-color: var(--sklearn-color-unfitted-level-2);\n",
       "}\n",
       "\n",
       "/* Label box, darken color on hover, fitted */\n",
       "#sk-container-id-9 div.sk-label.fitted:hover label.sk-toggleable__label.fitted {\n",
       "  color: var(--sklearn-color-text);\n",
       "  background-color: var(--sklearn-color-fitted-level-2);\n",
       "}\n",
       "\n",
       "/* Estimator label */\n",
       "\n",
       "#sk-container-id-9 div.sk-label label {\n",
       "  font-family: monospace;\n",
       "  font-weight: bold;\n",
       "  display: inline-block;\n",
       "  line-height: 1.2em;\n",
       "}\n",
       "\n",
       "#sk-container-id-9 div.sk-label-container {\n",
       "  text-align: center;\n",
       "}\n",
       "\n",
       "/* Estimator-specific */\n",
       "#sk-container-id-9 div.sk-estimator {\n",
       "  font-family: monospace;\n",
       "  border: 1px dotted var(--sklearn-color-border-box);\n",
       "  border-radius: 0.25em;\n",
       "  box-sizing: border-box;\n",
       "  margin-bottom: 0.5em;\n",
       "  /* unfitted */\n",
       "  background-color: var(--sklearn-color-unfitted-level-0);\n",
       "}\n",
       "\n",
       "#sk-container-id-9 div.sk-estimator.fitted {\n",
       "  /* fitted */\n",
       "  background-color: var(--sklearn-color-fitted-level-0);\n",
       "}\n",
       "\n",
       "/* on hover */\n",
       "#sk-container-id-9 div.sk-estimator:hover {\n",
       "  /* unfitted */\n",
       "  background-color: var(--sklearn-color-unfitted-level-2);\n",
       "}\n",
       "\n",
       "#sk-container-id-9 div.sk-estimator.fitted:hover {\n",
       "  /* fitted */\n",
       "  background-color: var(--sklearn-color-fitted-level-2);\n",
       "}\n",
       "\n",
       "/* Specification for estimator info (e.g. \"i\" and \"?\") */\n",
       "\n",
       "/* Common style for \"i\" and \"?\" */\n",
       "\n",
       ".sk-estimator-doc-link,\n",
       "a:link.sk-estimator-doc-link,\n",
       "a:visited.sk-estimator-doc-link {\n",
       "  float: right;\n",
       "  font-size: smaller;\n",
       "  line-height: 1em;\n",
       "  font-family: monospace;\n",
       "  background-color: var(--sklearn-color-background);\n",
       "  border-radius: 1em;\n",
       "  height: 1em;\n",
       "  width: 1em;\n",
       "  text-decoration: none !important;\n",
       "  margin-left: 1ex;\n",
       "  /* unfitted */\n",
       "  border: var(--sklearn-color-unfitted-level-1) 1pt solid;\n",
       "  color: var(--sklearn-color-unfitted-level-1);\n",
       "}\n",
       "\n",
       ".sk-estimator-doc-link.fitted,\n",
       "a:link.sk-estimator-doc-link.fitted,\n",
       "a:visited.sk-estimator-doc-link.fitted {\n",
       "  /* fitted */\n",
       "  border: var(--sklearn-color-fitted-level-1) 1pt solid;\n",
       "  color: var(--sklearn-color-fitted-level-1);\n",
       "}\n",
       "\n",
       "/* On hover */\n",
       "div.sk-estimator:hover .sk-estimator-doc-link:hover,\n",
       ".sk-estimator-doc-link:hover,\n",
       "div.sk-label-container:hover .sk-estimator-doc-link:hover,\n",
       ".sk-estimator-doc-link:hover {\n",
       "  /* unfitted */\n",
       "  background-color: var(--sklearn-color-unfitted-level-3);\n",
       "  color: var(--sklearn-color-background);\n",
       "  text-decoration: none;\n",
       "}\n",
       "\n",
       "div.sk-estimator.fitted:hover .sk-estimator-doc-link.fitted:hover,\n",
       ".sk-estimator-doc-link.fitted:hover,\n",
       "div.sk-label-container:hover .sk-estimator-doc-link.fitted:hover,\n",
       ".sk-estimator-doc-link.fitted:hover {\n",
       "  /* fitted */\n",
       "  background-color: var(--sklearn-color-fitted-level-3);\n",
       "  color: var(--sklearn-color-background);\n",
       "  text-decoration: none;\n",
       "}\n",
       "\n",
       "/* Span, style for the box shown on hovering the info icon */\n",
       ".sk-estimator-doc-link span {\n",
       "  display: none;\n",
       "  z-index: 9999;\n",
       "  position: relative;\n",
       "  font-weight: normal;\n",
       "  right: .2ex;\n",
       "  padding: .5ex;\n",
       "  margin: .5ex;\n",
       "  width: min-content;\n",
       "  min-width: 20ex;\n",
       "  max-width: 50ex;\n",
       "  color: var(--sklearn-color-text);\n",
       "  box-shadow: 2pt 2pt 4pt #999;\n",
       "  /* unfitted */\n",
       "  background: var(--sklearn-color-unfitted-level-0);\n",
       "  border: .5pt solid var(--sklearn-color-unfitted-level-3);\n",
       "}\n",
       "\n",
       ".sk-estimator-doc-link.fitted span {\n",
       "  /* fitted */\n",
       "  background: var(--sklearn-color-fitted-level-0);\n",
       "  border: var(--sklearn-color-fitted-level-3);\n",
       "}\n",
       "\n",
       ".sk-estimator-doc-link:hover span {\n",
       "  display: block;\n",
       "}\n",
       "\n",
       "/* \"?\"-specific style due to the `<a>` HTML tag */\n",
       "\n",
       "#sk-container-id-9 a.estimator_doc_link {\n",
       "  float: right;\n",
       "  font-size: 1rem;\n",
       "  line-height: 1em;\n",
       "  font-family: monospace;\n",
       "  background-color: var(--sklearn-color-background);\n",
       "  border-radius: 1rem;\n",
       "  height: 1rem;\n",
       "  width: 1rem;\n",
       "  text-decoration: none;\n",
       "  /* unfitted */\n",
       "  color: var(--sklearn-color-unfitted-level-1);\n",
       "  border: var(--sklearn-color-unfitted-level-1) 1pt solid;\n",
       "}\n",
       "\n",
       "#sk-container-id-9 a.estimator_doc_link.fitted {\n",
       "  /* fitted */\n",
       "  border: var(--sklearn-color-fitted-level-1) 1pt solid;\n",
       "  color: var(--sklearn-color-fitted-level-1);\n",
       "}\n",
       "\n",
       "/* On hover */\n",
       "#sk-container-id-9 a.estimator_doc_link:hover {\n",
       "  /* unfitted */\n",
       "  background-color: var(--sklearn-color-unfitted-level-3);\n",
       "  color: var(--sklearn-color-background);\n",
       "  text-decoration: none;\n",
       "}\n",
       "\n",
       "#sk-container-id-9 a.estimator_doc_link.fitted:hover {\n",
       "  /* fitted */\n",
       "  background-color: var(--sklearn-color-fitted-level-3);\n",
       "}\n",
       "</style><div id=\"sk-container-id-9\" class=\"sk-top-container\"><div class=\"sk-text-repr-fallback\"><pre>Pipeline(steps=[(&#x27;preprocessor&#x27;,\n",
       "                 ColumnTransformer(remainder=&#x27;passthrough&#x27;,\n",
       "                                   transformers=[(&#x27;num&#x27;, StandardScaler(),\n",
       "                                                  [&#x27;bedRoom&#x27;, &#x27;bathroom&#x27;,\n",
       "                                                   &#x27;built_up_area&#x27;,\n",
       "                                                   &#x27;servant room&#x27;,\n",
       "                                                   &#x27;store room&#x27;]),\n",
       "                                                 (&#x27;cat&#x27;, OrdinalEncoder(),\n",
       "                                                  [&#x27;property_type&#x27;, &#x27;sector&#x27;,\n",
       "                                                   &#x27;balcony&#x27;, &#x27;agePossession&#x27;,\n",
       "                                                   &#x27;furnishing_type&#x27;,\n",
       "                                                   &#x27;luxury_category&#x27;,\n",
       "                                                   &#x27;floor_category&#x27;]),\n",
       "                                                 (&#x27;cat1&#x27;,\n",
       "                                                  OneHotEncoder(drop=&#x27;first&#x27;,\n",
       "                                                                sparse_output=False),\n",
       "                                                  [&#x27;sector&#x27;,\n",
       "                                                   &#x27;agePossession&#x27;])])),\n",
       "                (&#x27;pca&#x27;, PCA()), (&#x27;regressor&#x27;, LinearRegression())])</pre><b>In a Jupyter environment, please rerun this cell to show the HTML representation or trust the notebook. <br />On GitHub, the HTML representation is unable to render, please try loading this page with nbviewer.org.</b></div><div class=\"sk-container\" hidden><div class=\"sk-item sk-dashed-wrapped\"><div class=\"sk-label-container\"><div class=\"sk-label fitted sk-toggleable\"><input class=\"sk-toggleable__control sk-hidden--visually\" id=\"sk-estimator-id-53\" type=\"checkbox\" ><label for=\"sk-estimator-id-53\" class=\"sk-toggleable__label fitted sk-toggleable__label-arrow fitted\">&nbsp;&nbsp;Pipeline<a class=\"sk-estimator-doc-link fitted\" rel=\"noreferrer\" target=\"_blank\" href=\"https://scikit-learn.org/1.5/modules/generated/sklearn.pipeline.Pipeline.html\">?<span>Documentation for Pipeline</span></a><span class=\"sk-estimator-doc-link fitted\">i<span>Fitted</span></span></label><div class=\"sk-toggleable__content fitted\"><pre>Pipeline(steps=[(&#x27;preprocessor&#x27;,\n",
       "                 ColumnTransformer(remainder=&#x27;passthrough&#x27;,\n",
       "                                   transformers=[(&#x27;num&#x27;, StandardScaler(),\n",
       "                                                  [&#x27;bedRoom&#x27;, &#x27;bathroom&#x27;,\n",
       "                                                   &#x27;built_up_area&#x27;,\n",
       "                                                   &#x27;servant room&#x27;,\n",
       "                                                   &#x27;store room&#x27;]),\n",
       "                                                 (&#x27;cat&#x27;, OrdinalEncoder(),\n",
       "                                                  [&#x27;property_type&#x27;, &#x27;sector&#x27;,\n",
       "                                                   &#x27;balcony&#x27;, &#x27;agePossession&#x27;,\n",
       "                                                   &#x27;furnishing_type&#x27;,\n",
       "                                                   &#x27;luxury_category&#x27;,\n",
       "                                                   &#x27;floor_category&#x27;]),\n",
       "                                                 (&#x27;cat1&#x27;,\n",
       "                                                  OneHotEncoder(drop=&#x27;first&#x27;,\n",
       "                                                                sparse_output=False),\n",
       "                                                  [&#x27;sector&#x27;,\n",
       "                                                   &#x27;agePossession&#x27;])])),\n",
       "                (&#x27;pca&#x27;, PCA()), (&#x27;regressor&#x27;, LinearRegression())])</pre></div> </div></div><div class=\"sk-serial\"><div class=\"sk-item sk-dashed-wrapped\"><div class=\"sk-label-container\"><div class=\"sk-label fitted sk-toggleable\"><input class=\"sk-toggleable__control sk-hidden--visually\" id=\"sk-estimator-id-54\" type=\"checkbox\" ><label for=\"sk-estimator-id-54\" class=\"sk-toggleable__label fitted sk-toggleable__label-arrow fitted\">&nbsp;preprocessor: ColumnTransformer<a class=\"sk-estimator-doc-link fitted\" rel=\"noreferrer\" target=\"_blank\" href=\"https://scikit-learn.org/1.5/modules/generated/sklearn.compose.ColumnTransformer.html\">?<span>Documentation for preprocessor: ColumnTransformer</span></a></label><div class=\"sk-toggleable__content fitted\"><pre>ColumnTransformer(remainder=&#x27;passthrough&#x27;,\n",
       "                  transformers=[(&#x27;num&#x27;, StandardScaler(),\n",
       "                                 [&#x27;bedRoom&#x27;, &#x27;bathroom&#x27;, &#x27;built_up_area&#x27;,\n",
       "                                  &#x27;servant room&#x27;, &#x27;store room&#x27;]),\n",
       "                                (&#x27;cat&#x27;, OrdinalEncoder(),\n",
       "                                 [&#x27;property_type&#x27;, &#x27;sector&#x27;, &#x27;balcony&#x27;,\n",
       "                                  &#x27;agePossession&#x27;, &#x27;furnishing_type&#x27;,\n",
       "                                  &#x27;luxury_category&#x27;, &#x27;floor_category&#x27;]),\n",
       "                                (&#x27;cat1&#x27;,\n",
       "                                 OneHotEncoder(drop=&#x27;first&#x27;,\n",
       "                                               sparse_output=False),\n",
       "                                 [&#x27;sector&#x27;, &#x27;agePossession&#x27;])])</pre></div> </div></div><div class=\"sk-parallel\"><div class=\"sk-parallel-item\"><div class=\"sk-item\"><div class=\"sk-label-container\"><div class=\"sk-label fitted sk-toggleable\"><input class=\"sk-toggleable__control sk-hidden--visually\" id=\"sk-estimator-id-55\" type=\"checkbox\" ><label for=\"sk-estimator-id-55\" class=\"sk-toggleable__label fitted sk-toggleable__label-arrow fitted\">num</label><div class=\"sk-toggleable__content fitted\"><pre>[&#x27;bedRoom&#x27;, &#x27;bathroom&#x27;, &#x27;built_up_area&#x27;, &#x27;servant room&#x27;, &#x27;store room&#x27;]</pre></div> </div></div><div class=\"sk-serial\"><div class=\"sk-item\"><div class=\"sk-estimator fitted sk-toggleable\"><input class=\"sk-toggleable__control sk-hidden--visually\" id=\"sk-estimator-id-56\" type=\"checkbox\" ><label for=\"sk-estimator-id-56\" class=\"sk-toggleable__label fitted sk-toggleable__label-arrow fitted\">&nbsp;StandardScaler<a class=\"sk-estimator-doc-link fitted\" rel=\"noreferrer\" target=\"_blank\" href=\"https://scikit-learn.org/1.5/modules/generated/sklearn.preprocessing.StandardScaler.html\">?<span>Documentation for StandardScaler</span></a></label><div class=\"sk-toggleable__content fitted\"><pre>StandardScaler()</pre></div> </div></div></div></div></div><div class=\"sk-parallel-item\"><div class=\"sk-item\"><div class=\"sk-label-container\"><div class=\"sk-label fitted sk-toggleable\"><input class=\"sk-toggleable__control sk-hidden--visually\" id=\"sk-estimator-id-57\" type=\"checkbox\" ><label for=\"sk-estimator-id-57\" class=\"sk-toggleable__label fitted sk-toggleable__label-arrow fitted\">cat</label><div class=\"sk-toggleable__content fitted\"><pre>[&#x27;property_type&#x27;, &#x27;sector&#x27;, &#x27;balcony&#x27;, &#x27;agePossession&#x27;, &#x27;furnishing_type&#x27;, &#x27;luxury_category&#x27;, &#x27;floor_category&#x27;]</pre></div> </div></div><div class=\"sk-serial\"><div class=\"sk-item\"><div class=\"sk-estimator fitted sk-toggleable\"><input class=\"sk-toggleable__control sk-hidden--visually\" id=\"sk-estimator-id-58\" type=\"checkbox\" ><label for=\"sk-estimator-id-58\" class=\"sk-toggleable__label fitted sk-toggleable__label-arrow fitted\">&nbsp;OrdinalEncoder<a class=\"sk-estimator-doc-link fitted\" rel=\"noreferrer\" target=\"_blank\" href=\"https://scikit-learn.org/1.5/modules/generated/sklearn.preprocessing.OrdinalEncoder.html\">?<span>Documentation for OrdinalEncoder</span></a></label><div class=\"sk-toggleable__content fitted\"><pre>OrdinalEncoder()</pre></div> </div></div></div></div></div><div class=\"sk-parallel-item\"><div class=\"sk-item\"><div class=\"sk-label-container\"><div class=\"sk-label fitted sk-toggleable\"><input class=\"sk-toggleable__control sk-hidden--visually\" id=\"sk-estimator-id-59\" type=\"checkbox\" ><label for=\"sk-estimator-id-59\" class=\"sk-toggleable__label fitted sk-toggleable__label-arrow fitted\">cat1</label><div class=\"sk-toggleable__content fitted\"><pre>[&#x27;sector&#x27;, &#x27;agePossession&#x27;]</pre></div> </div></div><div class=\"sk-serial\"><div class=\"sk-item\"><div class=\"sk-estimator fitted sk-toggleable\"><input class=\"sk-toggleable__control sk-hidden--visually\" id=\"sk-estimator-id-60\" type=\"checkbox\" ><label for=\"sk-estimator-id-60\" class=\"sk-toggleable__label fitted sk-toggleable__label-arrow fitted\">&nbsp;OneHotEncoder<a class=\"sk-estimator-doc-link fitted\" rel=\"noreferrer\" target=\"_blank\" href=\"https://scikit-learn.org/1.5/modules/generated/sklearn.preprocessing.OneHotEncoder.html\">?<span>Documentation for OneHotEncoder</span></a></label><div class=\"sk-toggleable__content fitted\"><pre>OneHotEncoder(drop=&#x27;first&#x27;, sparse_output=False)</pre></div> </div></div></div></div></div><div class=\"sk-parallel-item\"><div class=\"sk-item\"><div class=\"sk-label-container\"><div class=\"sk-label fitted sk-toggleable\"><input class=\"sk-toggleable__control sk-hidden--visually\" id=\"sk-estimator-id-61\" type=\"checkbox\" ><label for=\"sk-estimator-id-61\" class=\"sk-toggleable__label fitted sk-toggleable__label-arrow fitted\">remainder</label><div class=\"sk-toggleable__content fitted\"><pre>[]</pre></div> </div></div><div class=\"sk-serial\"><div class=\"sk-item\"><div class=\"sk-estimator fitted sk-toggleable\"><input class=\"sk-toggleable__control sk-hidden--visually\" id=\"sk-estimator-id-62\" type=\"checkbox\" ><label for=\"sk-estimator-id-62\" class=\"sk-toggleable__label fitted sk-toggleable__label-arrow fitted\">passthrough</label><div class=\"sk-toggleable__content fitted\"><pre>passthrough</pre></div> </div></div></div></div></div></div></div><div class=\"sk-item\"><div class=\"sk-estimator fitted sk-toggleable\"><input class=\"sk-toggleable__control sk-hidden--visually\" id=\"sk-estimator-id-63\" type=\"checkbox\" ><label for=\"sk-estimator-id-63\" class=\"sk-toggleable__label fitted sk-toggleable__label-arrow fitted\">&nbsp;PCA<a class=\"sk-estimator-doc-link fitted\" rel=\"noreferrer\" target=\"_blank\" href=\"https://scikit-learn.org/1.5/modules/generated/sklearn.decomposition.PCA.html\">?<span>Documentation for PCA</span></a></label><div class=\"sk-toggleable__content fitted\"><pre>PCA()</pre></div> </div></div><div class=\"sk-item\"><div class=\"sk-estimator fitted sk-toggleable\"><input class=\"sk-toggleable__control sk-hidden--visually\" id=\"sk-estimator-id-64\" type=\"checkbox\" ><label for=\"sk-estimator-id-64\" class=\"sk-toggleable__label fitted sk-toggleable__label-arrow fitted\">&nbsp;LinearRegression<a class=\"sk-estimator-doc-link fitted\" rel=\"noreferrer\" target=\"_blank\" href=\"https://scikit-learn.org/1.5/modules/generated/sklearn.linear_model.LinearRegression.html\">?<span>Documentation for LinearRegression</span></a></label><div class=\"sk-toggleable__content fitted\"><pre>LinearRegression()</pre></div> </div></div></div></div></div></div>"
      ],
      "text/plain": [
       "Pipeline(steps=[('preprocessor',\n",
       "                 ColumnTransformer(remainder='passthrough',\n",
       "                                   transformers=[('num', StandardScaler(),\n",
       "                                                  ['bedRoom', 'bathroom',\n",
       "                                                   'built_up_area',\n",
       "                                                   'servant room',\n",
       "                                                   'store room']),\n",
       "                                                 ('cat', OrdinalEncoder(),\n",
       "                                                  ['property_type', 'sector',\n",
       "                                                   'balcony', 'agePossession',\n",
       "                                                   'furnishing_type',\n",
       "                                                   'luxury_category',\n",
       "                                                   'floor_category']),\n",
       "                                                 ('cat1',\n",
       "                                                  OneHotEncoder(drop='first',\n",
       "                                                                sparse_output=False),\n",
       "                                                  ['sector',\n",
       "                                                   'agePossession'])])),\n",
       "                ('pca', PCA()), ('regressor', LinearRegression())])"
      ]
     },
     "execution_count": 67,
     "metadata": {},
     "output_type": "execute_result"
    }
   ],
   "source": [
    "X_train, X_test, y_train, y_test = train_test_split(X,y_transformed,test_size=0.2,random_state=42)\n",
    "pipeline.fit(X_train,y_train)"
   ]
  },
  {
   "cell_type": "code",
   "execution_count": null,
   "id": "5d9c837c",
   "metadata": {},
   "outputs": [],
   "source": []
  },
  {
   "cell_type": "code",
   "execution_count": 68,
   "id": "6381cb8a",
   "metadata": {},
   "outputs": [],
   "source": [
    "y_pred = pipeline.predict(X_test)"
   ]
  },
  {
   "cell_type": "code",
   "execution_count": 69,
   "id": "4741c8f9",
   "metadata": {},
   "outputs": [],
   "source": [
    "y_pred = np.expm1(y_pred)"
   ]
  },
  {
   "cell_type": "code",
   "execution_count": 70,
   "id": "089fa681",
   "metadata": {},
   "outputs": [
    {
     "data": {
      "text/plain": [
       "np.float64(0.6491718597838264)"
      ]
     },
     "execution_count": 70,
     "metadata": {},
     "output_type": "execute_result"
    }
   ],
   "source": [
    "mean_absolute_error(np.expm1(y_test),y_pred)"
   ]
  },
  {
   "cell_type": "code",
   "execution_count": 72,
   "id": "295a05ba",
   "metadata": {},
   "outputs": [
    {
     "data": {
      "text/plain": [
       "array([9.89749744e-01, 2.90220572e-03, 1.68816536e-03, 9.31298980e-04,\n",
       "       8.44026292e-04, 6.36740619e-04, 5.92022782e-04, 4.54962884e-04,\n",
       "       4.17327781e-04, 2.82788570e-04, 1.87814840e-04, 1.64976967e-04,\n",
       "       1.24921517e-04, 8.39921059e-05, 6.66087886e-05, 3.85820012e-05,\n",
       "       2.76359720e-05, 2.58337502e-05, 2.43649092e-05, 2.42017556e-05,\n",
       "       2.31068295e-05, 2.25533114e-05, 2.10023668e-05, 2.01997122e-05,\n",
       "       1.87820810e-05, 1.74002386e-05, 1.69050844e-05, 1.63566237e-05,\n",
       "       1.60336100e-05, 1.57538036e-05, 1.51270828e-05, 1.50071309e-05,\n",
       "       1.49639547e-05, 1.42120409e-05, 1.41009031e-05, 1.38577795e-05,\n",
       "       1.37957491e-05, 1.37128078e-05, 1.32341498e-05, 1.29527938e-05,\n",
       "       1.28342844e-05, 1.22982822e-05, 1.21536402e-05, 1.16408767e-05,\n",
       "       1.14468537e-05, 1.13839928e-05, 1.10374731e-05, 1.04931985e-05,\n",
       "       1.04822944e-05, 1.01475504e-05, 9.93834155e-06, 9.76002650e-06,\n",
       "       9.70271556e-06, 9.38192944e-06, 8.71443785e-06, 8.10680149e-06,\n",
       "       7.97915669e-06, 7.61437878e-06, 7.42086929e-06, 7.30087737e-06,\n",
       "       7.10249248e-06, 6.87237022e-06, 6.79331530e-06, 6.50364259e-06,\n",
       "       6.34623939e-06, 6.17482780e-06, 5.88128403e-06, 5.81543368e-06,\n",
       "       5.74866644e-06, 5.58313930e-06, 5.53378402e-06, 5.18913118e-06,\n",
       "       5.11592570e-06, 4.99963499e-06, 4.82758596e-06, 4.74360506e-06,\n",
       "       4.59206167e-06, 4.56269602e-06, 4.52496050e-06, 4.37652324e-06,\n",
       "       4.29491734e-06, 4.23023609e-06, 4.19186079e-06, 4.02507895e-06,\n",
       "       3.94442697e-06, 3.84275513e-06, 3.73148146e-06, 3.61975845e-06,\n",
       "       3.55655323e-06, 3.28920023e-06, 3.19470257e-06, 2.96149950e-06,\n",
       "       2.92418936e-06, 2.89519401e-06, 2.88891485e-06, 2.76250224e-06,\n",
       "       2.62409346e-06, 2.60892139e-06, 2.42652604e-06, 2.36073668e-06,\n",
       "       2.30020198e-06, 2.08967731e-06, 1.99910192e-06, 1.97182129e-06,\n",
       "       1.96652928e-06, 1.95511630e-06, 1.92323065e-06, 1.78269093e-06,\n",
       "       1.65224778e-06, 1.63570247e-06, 1.61786575e-06, 1.31992874e-06,\n",
       "       1.28633450e-06, 6.60625406e-07, 6.54616556e-07, 3.37615343e-07,\n",
       "       7.43742473e-08, 0.00000000e+00, 0.00000000e+00])"
      ]
     },
     "execution_count": 72,
     "metadata": {},
     "output_type": "execute_result"
    }
   ],
   "source": [
    "pipeline.named_steps['pca'].explained_variance_ratio_"
   ]
  },
  {
   "cell_type": "markdown",
   "id": "4c447af1",
   "metadata": {},
   "source": [
    "### Target Encoder"
   ]
  },
  {
   "cell_type": "code",
   "execution_count": null,
   "id": "3b45ab99",
   "metadata": {},
   "outputs": [
    {
     "name": "stdout",
     "output_type": "stream",
     "text": [
      "Requirement already satisfied: category_encoders in c:\\users\\vijit_singh\\desktop\\personal projects repo\\estate-radar\\env\\lib\\site-packages (2.6.4)\n",
      "Requirement already satisfied: numpy>=1.14.0 in c:\\users\\vijit_singh\\desktop\\personal projects repo\\estate-radar\\env\\lib\\site-packages (from category_encoders) (2.0.2)\n",
      "Requirement already satisfied: scikit-learn>=0.20.0 in c:\\users\\vijit_singh\\desktop\\personal projects repo\\estate-radar\\env\\lib\\site-packages (from category_encoders) (1.5.2)\n",
      "Requirement already satisfied: scipy>=1.0.0 in c:\\users\\vijit_singh\\desktop\\personal projects repo\\estate-radar\\env\\lib\\site-packages (from category_encoders) (1.13.1)\n",
      "Requirement already satisfied: statsmodels>=0.9.0 in c:\\users\\vijit_singh\\desktop\\personal projects repo\\estate-radar\\env\\lib\\site-packages (from category_encoders) (0.14.4)\n",
      "Requirement already satisfied: pandas>=1.0.5 in c:\\users\\vijit_singh\\desktop\\personal projects repo\\estate-radar\\env\\lib\\site-packages (from category_encoders) (2.2.3)\n",
      "Requirement already satisfied: patsy>=0.5.1 in c:\\users\\vijit_singh\\desktop\\personal projects repo\\estate-radar\\env\\lib\\site-packages (from category_encoders) (1.0.1)\n",
      "Requirement already satisfied: python-dateutil>=2.8.2 in c:\\users\\vijit_singh\\desktop\\personal projects repo\\estate-radar\\env\\lib\\site-packages (from pandas>=1.0.5->category_encoders) (2.9.0.post0)\n",
      "Requirement already satisfied: pytz>=2020.1 in c:\\users\\vijit_singh\\desktop\\personal projects repo\\estate-radar\\env\\lib\\site-packages (from pandas>=1.0.5->category_encoders) (2024.2)\n",
      "Requirement already satisfied: tzdata>=2022.7 in c:\\users\\vijit_singh\\desktop\\personal projects repo\\estate-radar\\env\\lib\\site-packages (from pandas>=1.0.5->category_encoders) (2024.2)\n",
      "Requirement already satisfied: joblib>=1.2.0 in c:\\users\\vijit_singh\\desktop\\personal projects repo\\estate-radar\\env\\lib\\site-packages (from scikit-learn>=0.20.0->category_encoders) (1.4.2)\n",
      "Requirement already satisfied: threadpoolctl>=3.1.0 in c:\\users\\vijit_singh\\desktop\\personal projects repo\\estate-radar\\env\\lib\\site-packages (from scikit-learn>=0.20.0->category_encoders) (3.5.0)\n",
      "Requirement already satisfied: packaging>=21.3 in c:\\users\\vijit_singh\\desktop\\personal projects repo\\estate-radar\\env\\lib\\site-packages (from statsmodels>=0.9.0->category_encoders) (24.2)\n",
      "Requirement already satisfied: six>=1.5 in c:\\users\\vijit_singh\\desktop\\personal projects repo\\estate-radar\\env\\lib\\site-packages (from python-dateutil>=2.8.2->pandas>=1.0.5->category_encoders) (1.17.0)\n"
     ]
    },
    {
     "name": "stderr",
     "output_type": "stream",
     "text": [
      "\n",
      "[notice] A new release of pip available: 22.3 -> 24.3.1\n",
      "[notice] To update, run: python.exe -m pip install --upgrade pip\n"
     ]
    }
   ],
   "source": [
    "!pip install category_encoders"
   ]
  },
  {
   "cell_type": "code",
   "execution_count": 13,
   "id": "e363e76e",
   "metadata": {},
   "outputs": [],
   "source": [
    "import category_encoders as ce"
   ]
  },
  {
   "cell_type": "code",
   "execution_count": 55,
   "id": "579e9512",
   "metadata": {},
   "outputs": [],
   "source": [
    "\n",
    "\n",
    "columns_to_encode = ['property_type','sector', 'balcony', 'agePossession', 'furnishing_type', 'luxury_category', 'floor_category']\n",
    "\n",
    "# Creating a column transformer for preprocessing\n",
    "preprocessor = ColumnTransformer(\n",
    "    transformers=[\n",
    "        ('num', StandardScaler(), ['bedRoom', 'bathroom', 'built_up_area', 'servant room', 'store room']),\n",
    "        ('cat', OrdinalEncoder(), columns_to_encode),\n",
    "        ('cat1',OneHotEncoder(drop='first',sparse_output=False),['agePossession']),\n",
    "        ('target_enc', ce.TargetEncoder(), ['sector'])\n",
    "    ], \n",
    "    remainder='passthrough'\n",
    ")"
   ]
  },
  {
   "cell_type": "code",
   "execution_count": 56,
   "id": "6bfed857",
   "metadata": {},
   "outputs": [],
   "source": [
    "# Creating a pipeline\n",
    "pipeline = Pipeline([\n",
    "    ('preprocessor', preprocessor),\n",
    "    ('regressor', LinearRegression())\n",
    "])"
   ]
  },
  {
   "cell_type": "code",
   "execution_count": 57,
   "id": "cab63e93",
   "metadata": {},
   "outputs": [],
   "source": [
    "# K-fold cross-validation\n",
    "kfold = KFold(n_splits=10, shuffle=True, random_state=42)\n",
    "scores = cross_val_score(pipeline, X, y_transformed, cv=kfold, scoring='r2')"
   ]
  },
  {
   "cell_type": "code",
   "execution_count": 58,
   "id": "2cc65244",
   "metadata": {},
   "outputs": [
    {
     "data": {
      "text/plain": [
       "(np.float64(0.829521918225536), np.float64(0.01838446337912282))"
      ]
     },
     "execution_count": 58,
     "metadata": {},
     "output_type": "execute_result"
    }
   ],
   "source": [
    "scores.mean(),scores.std()"
   ]
  },
  {
   "cell_type": "code",
   "execution_count": 59,
   "id": "4719d291",
   "metadata": {},
   "outputs": [],
   "source": [
    "def scorer(model_name, model):\n",
    "    \n",
    "    output = []\n",
    "    \n",
    "    output.append(model_name)\n",
    "    \n",
    "    pipeline = Pipeline([\n",
    "        ('preprocessor', preprocessor),\n",
    "        ('regressor', model)\n",
    "    ])\n",
    "    \n",
    "    # K-fold cross-validation\n",
    "    kfold = KFold(n_splits=10, shuffle=True, random_state=42)\n",
    "    scores = cross_val_score(pipeline, X, y_transformed, cv=kfold, scoring='r2')\n",
    "    \n",
    "    output.append(scores.mean())\n",
    "    \n",
    "    X_train, X_test, y_train, y_test = train_test_split(X,y_transformed,test_size=0.2,random_state=42)\n",
    "    \n",
    "    pipeline.fit(X_train,y_train)\n",
    "    \n",
    "    y_pred = pipeline.predict(X_test)\n",
    "    \n",
    "    y_pred = np.expm1(y_pred)\n",
    "    \n",
    "    output.append(mean_absolute_error(np.expm1(y_test),y_pred))\n",
    "    \n",
    "    return output\n",
    "    "
   ]
  },
  {
   "cell_type": "code",
   "execution_count": 60,
   "id": "f6d6d178",
   "metadata": {},
   "outputs": [],
   "source": [
    "model_dict = {\n",
    "    'linear_reg':LinearRegression(),\n",
    "    'svr':SVR(),\n",
    "    'ridge':Ridge(),\n",
    "    'LASSO':Lasso(),\n",
    "    'decision tree': DecisionTreeRegressor(),\n",
    "    'random forest':RandomForestRegressor(),\n",
    "    'extra trees': ExtraTreesRegressor(),\n",
    "    'gradient boosting': GradientBoostingRegressor(),\n",
    "    'adaboost': AdaBoostRegressor(),\n",
    "    'mlp': MLPRegressor(),\n",
    "    'xgboost':XGBRegressor()\n",
    "}"
   ]
  },
  {
   "cell_type": "code",
   "execution_count": 61,
   "id": "a67db403",
   "metadata": {},
   "outputs": [],
   "source": [
    "model_output = []\n",
    "for model_name,model in model_dict.items():\n",
    "    model_output.append(scorer(model_name, model))"
   ]
  },
  {
   "cell_type": "code",
   "execution_count": 62,
   "id": "7bfdc20f",
   "metadata": {},
   "outputs": [],
   "source": [
    "model_df = pd.DataFrame(model_output, columns=['name','r2','mae'])"
   ]
  },
  {
   "cell_type": "code",
   "execution_count": 63,
   "id": "87e5b032",
   "metadata": {},
   "outputs": [
    {
     "data": {
      "text/html": [
       "<div>\n",
       "<style scoped>\n",
       "    .dataframe tbody tr th:only-of-type {\n",
       "        vertical-align: middle;\n",
       "    }\n",
       "\n",
       "    .dataframe tbody tr th {\n",
       "        vertical-align: top;\n",
       "    }\n",
       "\n",
       "    .dataframe thead th {\n",
       "        text-align: right;\n",
       "    }\n",
       "</style>\n",
       "<table border=\"1\" class=\"dataframe\">\n",
       "  <thead>\n",
       "    <tr style=\"text-align: right;\">\n",
       "      <th></th>\n",
       "      <th>name</th>\n",
       "      <th>r2</th>\n",
       "      <th>mae</th>\n",
       "    </tr>\n",
       "  </thead>\n",
       "  <tbody>\n",
       "    <tr>\n",
       "      <th>10</th>\n",
       "      <td>xgboost</td>\n",
       "      <td>0.904798</td>\n",
       "      <td>0.447518</td>\n",
       "    </tr>\n",
       "    <tr>\n",
       "      <th>5</th>\n",
       "      <td>random forest</td>\n",
       "      <td>0.901154</td>\n",
       "      <td>0.452289</td>\n",
       "    </tr>\n",
       "    <tr>\n",
       "      <th>6</th>\n",
       "      <td>extra trees</td>\n",
       "      <td>0.901255</td>\n",
       "      <td>0.457758</td>\n",
       "    </tr>\n",
       "    <tr>\n",
       "      <th>7</th>\n",
       "      <td>gradient boosting</td>\n",
       "      <td>0.888952</td>\n",
       "      <td>0.507870</td>\n",
       "    </tr>\n",
       "    <tr>\n",
       "      <th>4</th>\n",
       "      <td>decision tree</td>\n",
       "      <td>0.827177</td>\n",
       "      <td>0.558826</td>\n",
       "    </tr>\n",
       "    <tr>\n",
       "      <th>9</th>\n",
       "      <td>mlp</td>\n",
       "      <td>0.849907</td>\n",
       "      <td>0.595438</td>\n",
       "    </tr>\n",
       "    <tr>\n",
       "      <th>8</th>\n",
       "      <td>adaboost</td>\n",
       "      <td>0.817599</td>\n",
       "      <td>0.707958</td>\n",
       "    </tr>\n",
       "    <tr>\n",
       "      <th>0</th>\n",
       "      <td>linear_reg</td>\n",
       "      <td>0.829522</td>\n",
       "      <td>0.713011</td>\n",
       "    </tr>\n",
       "    <tr>\n",
       "      <th>2</th>\n",
       "      <td>ridge</td>\n",
       "      <td>0.829536</td>\n",
       "      <td>0.713523</td>\n",
       "    </tr>\n",
       "    <tr>\n",
       "      <th>1</th>\n",
       "      <td>svr</td>\n",
       "      <td>0.782917</td>\n",
       "      <td>0.818851</td>\n",
       "    </tr>\n",
       "    <tr>\n",
       "      <th>3</th>\n",
       "      <td>LASSO</td>\n",
       "      <td>0.059434</td>\n",
       "      <td>1.528906</td>\n",
       "    </tr>\n",
       "  </tbody>\n",
       "</table>\n",
       "</div>"
      ],
      "text/plain": [
       "                 name        r2       mae\n",
       "10            xgboost  0.904798  0.447518\n",
       "5       random forest  0.901154  0.452289\n",
       "6         extra trees  0.901255  0.457758\n",
       "7   gradient boosting  0.888952  0.507870\n",
       "4       decision tree  0.827177  0.558826\n",
       "9                 mlp  0.849907  0.595438\n",
       "8            adaboost  0.817599  0.707958\n",
       "0          linear_reg  0.829522  0.713011\n",
       "2               ridge  0.829536  0.713523\n",
       "1                 svr  0.782917  0.818851\n",
       "3               LASSO  0.059434  1.528906"
      ]
     },
     "execution_count": 63,
     "metadata": {},
     "output_type": "execute_result"
    }
   ],
   "source": [
    "model_df.sort_values(['mae'])"
   ]
  },
  {
   "cell_type": "markdown",
   "id": "31c671e7",
   "metadata": {},
   "source": [
    "### Hyperparameter Tuning"
   ]
  },
  {
   "cell_type": "code",
   "execution_count": 64,
   "id": "84d0573f",
   "metadata": {},
   "outputs": [],
   "source": [
    "from sklearn.model_selection import GridSearchCV"
   ]
  },
  {
   "cell_type": "code",
   "execution_count": 65,
   "id": "a81b8e78",
   "metadata": {},
   "outputs": [],
   "source": [
    "param_grid = {\n",
    "    'regressor__n_estimators': [50, 100, 200, 300],\n",
    "    'regressor__max_depth': [None, 10, 20, 30],\n",
    "    'regressor__max_samples':[0.1, 0.25, 0.5, 1.0],\n",
    "    'regressor__max_features': ['auto', 'sqrt']\n",
    "}"
   ]
  },
  {
   "cell_type": "code",
   "execution_count": 66,
   "id": "e7397c82",
   "metadata": {},
   "outputs": [],
   "source": [
    "columns_to_encode = ['property_type','sector', 'balcony', 'agePossession', 'furnishing_type', 'luxury_category', 'floor_category']\n",
    "\n",
    "# Creating a column transformer for preprocessing\n",
    "preprocessor = ColumnTransformer(\n",
    "    transformers=[\n",
    "        ('num', StandardScaler(), ['bedRoom', 'bathroom', 'built_up_area', 'servant room', 'store room']),\n",
    "        ('cat', OrdinalEncoder(), columns_to_encode),\n",
    "        ('cat1',OneHotEncoder(drop='first',sparse_output=False),['agePossession']),\n",
    "        ('target_enc', ce.TargetEncoder(), ['sector'])\n",
    "    ], \n",
    "    remainder='passthrough'\n",
    ")"
   ]
  },
  {
   "cell_type": "code",
   "execution_count": 67,
   "id": "45807e15",
   "metadata": {},
   "outputs": [],
   "source": [
    "pipeline = Pipeline([\n",
    "    ('preprocessor', preprocessor),\n",
    "    ('regressor', RandomForestRegressor())\n",
    "])"
   ]
  },
  {
   "cell_type": "code",
   "execution_count": 68,
   "id": "3287204e",
   "metadata": {},
   "outputs": [],
   "source": [
    "kfold = KFold(n_splits=10, shuffle=True, random_state=42)"
   ]
  },
  {
   "cell_type": "code",
   "execution_count": 69,
   "id": "8a26e17a",
   "metadata": {},
   "outputs": [],
   "source": [
    "search = GridSearchCV(pipeline, param_grid, cv=kfold, scoring='r2', n_jobs=-1, verbose=4)"
   ]
  },
  {
   "cell_type": "code",
   "execution_count": 71,
   "id": "6a468e2b",
   "metadata": {},
   "outputs": [
    {
     "name": "stdout",
     "output_type": "stream",
     "text": [
      "Fitting 10 folds for each of 128 candidates, totalling 1280 fits\n"
     ]
    },
    {
     "name": "stderr",
     "output_type": "stream",
     "text": [
      "c:\\Users\\vijit_singh\\Desktop\\Personal projects repo\\Estate-Radar\\env\\Lib\\site-packages\\sklearn\\model_selection\\_validation.py:540: FitFailedWarning: \n",
      "640 fits failed out of a total of 1280.\n",
      "The score on these train-test partitions for these parameters will be set to nan.\n",
      "If these failures are not expected, you can try to debug them by setting error_score='raise'.\n",
      "\n",
      "Below are more details about the failures:\n",
      "--------------------------------------------------------------------------------\n",
      "302 fits failed with the following error:\n",
      "Traceback (most recent call last):\n",
      "  File \"c:\\Users\\vijit_singh\\Desktop\\Personal projects repo\\Estate-Radar\\env\\Lib\\site-packages\\sklearn\\model_selection\\_validation.py\", line 888, in _fit_and_score\n",
      "    estimator.fit(X_train, y_train, **fit_params)\n",
      "  File \"c:\\Users\\vijit_singh\\Desktop\\Personal projects repo\\Estate-Radar\\env\\Lib\\site-packages\\sklearn\\base.py\", line 1473, in wrapper\n",
      "    return fit_method(estimator, *args, **kwargs)\n",
      "           ^^^^^^^^^^^^^^^^^^^^^^^^^^^^^^^^^^^^^^\n",
      "  File \"c:\\Users\\vijit_singh\\Desktop\\Personal projects repo\\Estate-Radar\\env\\Lib\\site-packages\\sklearn\\pipeline.py\", line 473, in fit\n",
      "    self._final_estimator.fit(Xt, y, **last_step_params[\"fit\"])\n",
      "  File \"c:\\Users\\vijit_singh\\Desktop\\Personal projects repo\\Estate-Radar\\env\\Lib\\site-packages\\sklearn\\base.py\", line 1466, in wrapper\n",
      "    estimator._validate_params()\n",
      "  File \"c:\\Users\\vijit_singh\\Desktop\\Personal projects repo\\Estate-Radar\\env\\Lib\\site-packages\\sklearn\\base.py\", line 666, in _validate_params\n",
      "    validate_parameter_constraints(\n",
      "  File \"c:\\Users\\vijit_singh\\Desktop\\Personal projects repo\\Estate-Radar\\env\\Lib\\site-packages\\sklearn\\utils\\_param_validation.py\", line 95, in validate_parameter_constraints\n",
      "    raise InvalidParameterError(\n",
      "sklearn.utils._param_validation.InvalidParameterError: The 'max_features' parameter of RandomForestRegressor must be an int in the range [1, inf), a float in the range (0.0, 1.0], a str among {'sqrt', 'log2'} or None. Got 'auto' instead.\n",
      "\n",
      "--------------------------------------------------------------------------------\n",
      "338 fits failed with the following error:\n",
      "Traceback (most recent call last):\n",
      "  File \"c:\\Users\\vijit_singh\\Desktop\\Personal projects repo\\Estate-Radar\\env\\Lib\\site-packages\\sklearn\\model_selection\\_validation.py\", line 888, in _fit_and_score\n",
      "    estimator.fit(X_train, y_train, **fit_params)\n",
      "  File \"c:\\Users\\vijit_singh\\Desktop\\Personal projects repo\\Estate-Radar\\env\\Lib\\site-packages\\sklearn\\base.py\", line 1473, in wrapper\n",
      "    return fit_method(estimator, *args, **kwargs)\n",
      "           ^^^^^^^^^^^^^^^^^^^^^^^^^^^^^^^^^^^^^^\n",
      "  File \"c:\\Users\\vijit_singh\\Desktop\\Personal projects repo\\Estate-Radar\\env\\Lib\\site-packages\\sklearn\\pipeline.py\", line 473, in fit\n",
      "    self._final_estimator.fit(Xt, y, **last_step_params[\"fit\"])\n",
      "  File \"c:\\Users\\vijit_singh\\Desktop\\Personal projects repo\\Estate-Radar\\env\\Lib\\site-packages\\sklearn\\base.py\", line 1466, in wrapper\n",
      "    estimator._validate_params()\n",
      "  File \"c:\\Users\\vijit_singh\\Desktop\\Personal projects repo\\Estate-Radar\\env\\Lib\\site-packages\\sklearn\\base.py\", line 666, in _validate_params\n",
      "    validate_parameter_constraints(\n",
      "  File \"c:\\Users\\vijit_singh\\Desktop\\Personal projects repo\\Estate-Radar\\env\\Lib\\site-packages\\sklearn\\utils\\_param_validation.py\", line 95, in validate_parameter_constraints\n",
      "    raise InvalidParameterError(\n",
      "sklearn.utils._param_validation.InvalidParameterError: The 'max_features' parameter of RandomForestRegressor must be an int in the range [1, inf), a float in the range (0.0, 1.0], a str among {'log2', 'sqrt'} or None. Got 'auto' instead.\n",
      "\n",
      "  warnings.warn(some_fits_failed_message, FitFailedWarning)\n",
      "c:\\Users\\vijit_singh\\Desktop\\Personal projects repo\\Estate-Radar\\env\\Lib\\site-packages\\sklearn\\model_selection\\_search.py:1103: UserWarning: One or more of the test scores are non-finite: [       nan        nan        nan        nan        nan        nan\n",
      "        nan        nan        nan        nan        nan        nan\n",
      "        nan        nan        nan        nan 0.86944548 0.87113433\n",
      " 0.87321992 0.87299032 0.88473109 0.88795359 0.88717058 0.88855139\n",
      " 0.89526383 0.89535655 0.89641632 0.89650884 0.89973257 0.90082766\n",
      " 0.90130729 0.90233859        nan        nan        nan        nan\n",
      "        nan        nan        nan        nan        nan        nan\n",
      "        nan        nan        nan        nan        nan        nan\n",
      " 0.86740874 0.87067238 0.87080075 0.87190729 0.88269853 0.881835\n",
      " 0.88355736 0.88400056 0.88920973 0.88962019 0.88944954 0.88957137\n",
      " 0.89315492 0.89204122 0.89347056 0.89433022        nan        nan\n",
      "        nan        nan        nan        nan        nan        nan\n",
      "        nan        nan        nan        nan        nan        nan\n",
      "        nan        nan 0.86628574 0.87099553 0.87321542 0.87304216\n",
      " 0.88750551 0.88633129 0.88773541 0.88788108 0.89410152 0.896245\n",
      " 0.89694208 0.89678544 0.90087316 0.89997588 0.90220398 0.90238751\n",
      "        nan        nan        nan        nan        nan        nan\n",
      "        nan        nan        nan        nan        nan        nan\n",
      "        nan        nan        nan        nan 0.8676387  0.87148489\n",
      " 0.87238459 0.87287527 0.88422784 0.88787871 0.88767747 0.88810289\n",
      " 0.89394987 0.89440518 0.89679285 0.89645371 0.90031129 0.90166007\n",
      " 0.901369   0.90261212]\n",
      "  warnings.warn(\n"
     ]
    },
    {
     "data": {
      "text/html": [
       "<style>#sk-container-id-3 {\n",
       "  /* Definition of color scheme common for light and dark mode */\n",
       "  --sklearn-color-text: black;\n",
       "  --sklearn-color-line: gray;\n",
       "  /* Definition of color scheme for unfitted estimators */\n",
       "  --sklearn-color-unfitted-level-0: #fff5e6;\n",
       "  --sklearn-color-unfitted-level-1: #f6e4d2;\n",
       "  --sklearn-color-unfitted-level-2: #ffe0b3;\n",
       "  --sklearn-color-unfitted-level-3: chocolate;\n",
       "  /* Definition of color scheme for fitted estimators */\n",
       "  --sklearn-color-fitted-level-0: #f0f8ff;\n",
       "  --sklearn-color-fitted-level-1: #d4ebff;\n",
       "  --sklearn-color-fitted-level-2: #b3dbfd;\n",
       "  --sklearn-color-fitted-level-3: cornflowerblue;\n",
       "\n",
       "  /* Specific color for light theme */\n",
       "  --sklearn-color-text-on-default-background: var(--sg-text-color, var(--theme-code-foreground, var(--jp-content-font-color1, black)));\n",
       "  --sklearn-color-background: var(--sg-background-color, var(--theme-background, var(--jp-layout-color0, white)));\n",
       "  --sklearn-color-border-box: var(--sg-text-color, var(--theme-code-foreground, var(--jp-content-font-color1, black)));\n",
       "  --sklearn-color-icon: #696969;\n",
       "\n",
       "  @media (prefers-color-scheme: dark) {\n",
       "    /* Redefinition of color scheme for dark theme */\n",
       "    --sklearn-color-text-on-default-background: var(--sg-text-color, var(--theme-code-foreground, var(--jp-content-font-color1, white)));\n",
       "    --sklearn-color-background: var(--sg-background-color, var(--theme-background, var(--jp-layout-color0, #111)));\n",
       "    --sklearn-color-border-box: var(--sg-text-color, var(--theme-code-foreground, var(--jp-content-font-color1, white)));\n",
       "    --sklearn-color-icon: #878787;\n",
       "  }\n",
       "}\n",
       "\n",
       "#sk-container-id-3 {\n",
       "  color: var(--sklearn-color-text);\n",
       "}\n",
       "\n",
       "#sk-container-id-3 pre {\n",
       "  padding: 0;\n",
       "}\n",
       "\n",
       "#sk-container-id-3 input.sk-hidden--visually {\n",
       "  border: 0;\n",
       "  clip: rect(1px 1px 1px 1px);\n",
       "  clip: rect(1px, 1px, 1px, 1px);\n",
       "  height: 1px;\n",
       "  margin: -1px;\n",
       "  overflow: hidden;\n",
       "  padding: 0;\n",
       "  position: absolute;\n",
       "  width: 1px;\n",
       "}\n",
       "\n",
       "#sk-container-id-3 div.sk-dashed-wrapped {\n",
       "  border: 1px dashed var(--sklearn-color-line);\n",
       "  margin: 0 0.4em 0.5em 0.4em;\n",
       "  box-sizing: border-box;\n",
       "  padding-bottom: 0.4em;\n",
       "  background-color: var(--sklearn-color-background);\n",
       "}\n",
       "\n",
       "#sk-container-id-3 div.sk-container {\n",
       "  /* jupyter's `normalize.less` sets `[hidden] { display: none; }`\n",
       "     but bootstrap.min.css set `[hidden] { display: none !important; }`\n",
       "     so we also need the `!important` here to be able to override the\n",
       "     default hidden behavior on the sphinx rendered scikit-learn.org.\n",
       "     See: https://github.com/scikit-learn/scikit-learn/issues/21755 */\n",
       "  display: inline-block !important;\n",
       "  position: relative;\n",
       "}\n",
       "\n",
       "#sk-container-id-3 div.sk-text-repr-fallback {\n",
       "  display: none;\n",
       "}\n",
       "\n",
       "div.sk-parallel-item,\n",
       "div.sk-serial,\n",
       "div.sk-item {\n",
       "  /* draw centered vertical line to link estimators */\n",
       "  background-image: linear-gradient(var(--sklearn-color-text-on-default-background), var(--sklearn-color-text-on-default-background));\n",
       "  background-size: 2px 100%;\n",
       "  background-repeat: no-repeat;\n",
       "  background-position: center center;\n",
       "}\n",
       "\n",
       "/* Parallel-specific style estimator block */\n",
       "\n",
       "#sk-container-id-3 div.sk-parallel-item::after {\n",
       "  content: \"\";\n",
       "  width: 100%;\n",
       "  border-bottom: 2px solid var(--sklearn-color-text-on-default-background);\n",
       "  flex-grow: 1;\n",
       "}\n",
       "\n",
       "#sk-container-id-3 div.sk-parallel {\n",
       "  display: flex;\n",
       "  align-items: stretch;\n",
       "  justify-content: center;\n",
       "  background-color: var(--sklearn-color-background);\n",
       "  position: relative;\n",
       "}\n",
       "\n",
       "#sk-container-id-3 div.sk-parallel-item {\n",
       "  display: flex;\n",
       "  flex-direction: column;\n",
       "}\n",
       "\n",
       "#sk-container-id-3 div.sk-parallel-item:first-child::after {\n",
       "  align-self: flex-end;\n",
       "  width: 50%;\n",
       "}\n",
       "\n",
       "#sk-container-id-3 div.sk-parallel-item:last-child::after {\n",
       "  align-self: flex-start;\n",
       "  width: 50%;\n",
       "}\n",
       "\n",
       "#sk-container-id-3 div.sk-parallel-item:only-child::after {\n",
       "  width: 0;\n",
       "}\n",
       "\n",
       "/* Serial-specific style estimator block */\n",
       "\n",
       "#sk-container-id-3 div.sk-serial {\n",
       "  display: flex;\n",
       "  flex-direction: column;\n",
       "  align-items: center;\n",
       "  background-color: var(--sklearn-color-background);\n",
       "  padding-right: 1em;\n",
       "  padding-left: 1em;\n",
       "}\n",
       "\n",
       "\n",
       "/* Toggleable style: style used for estimator/Pipeline/ColumnTransformer box that is\n",
       "clickable and can be expanded/collapsed.\n",
       "- Pipeline and ColumnTransformer use this feature and define the default style\n",
       "- Estimators will overwrite some part of the style using the `sk-estimator` class\n",
       "*/\n",
       "\n",
       "/* Pipeline and ColumnTransformer style (default) */\n",
       "\n",
       "#sk-container-id-3 div.sk-toggleable {\n",
       "  /* Default theme specific background. It is overwritten whether we have a\n",
       "  specific estimator or a Pipeline/ColumnTransformer */\n",
       "  background-color: var(--sklearn-color-background);\n",
       "}\n",
       "\n",
       "/* Toggleable label */\n",
       "#sk-container-id-3 label.sk-toggleable__label {\n",
       "  cursor: pointer;\n",
       "  display: block;\n",
       "  width: 100%;\n",
       "  margin-bottom: 0;\n",
       "  padding: 0.5em;\n",
       "  box-sizing: border-box;\n",
       "  text-align: center;\n",
       "}\n",
       "\n",
       "#sk-container-id-3 label.sk-toggleable__label-arrow:before {\n",
       "  /* Arrow on the left of the label */\n",
       "  content: \"▸\";\n",
       "  float: left;\n",
       "  margin-right: 0.25em;\n",
       "  color: var(--sklearn-color-icon);\n",
       "}\n",
       "\n",
       "#sk-container-id-3 label.sk-toggleable__label-arrow:hover:before {\n",
       "  color: var(--sklearn-color-text);\n",
       "}\n",
       "\n",
       "/* Toggleable content - dropdown */\n",
       "\n",
       "#sk-container-id-3 div.sk-toggleable__content {\n",
       "  max-height: 0;\n",
       "  max-width: 0;\n",
       "  overflow: hidden;\n",
       "  text-align: left;\n",
       "  /* unfitted */\n",
       "  background-color: var(--sklearn-color-unfitted-level-0);\n",
       "}\n",
       "\n",
       "#sk-container-id-3 div.sk-toggleable__content.fitted {\n",
       "  /* fitted */\n",
       "  background-color: var(--sklearn-color-fitted-level-0);\n",
       "}\n",
       "\n",
       "#sk-container-id-3 div.sk-toggleable__content pre {\n",
       "  margin: 0.2em;\n",
       "  border-radius: 0.25em;\n",
       "  color: var(--sklearn-color-text);\n",
       "  /* unfitted */\n",
       "  background-color: var(--sklearn-color-unfitted-level-0);\n",
       "}\n",
       "\n",
       "#sk-container-id-3 div.sk-toggleable__content.fitted pre {\n",
       "  /* unfitted */\n",
       "  background-color: var(--sklearn-color-fitted-level-0);\n",
       "}\n",
       "\n",
       "#sk-container-id-3 input.sk-toggleable__control:checked~div.sk-toggleable__content {\n",
       "  /* Expand drop-down */\n",
       "  max-height: 200px;\n",
       "  max-width: 100%;\n",
       "  overflow: auto;\n",
       "}\n",
       "\n",
       "#sk-container-id-3 input.sk-toggleable__control:checked~label.sk-toggleable__label-arrow:before {\n",
       "  content: \"▾\";\n",
       "}\n",
       "\n",
       "/* Pipeline/ColumnTransformer-specific style */\n",
       "\n",
       "#sk-container-id-3 div.sk-label input.sk-toggleable__control:checked~label.sk-toggleable__label {\n",
       "  color: var(--sklearn-color-text);\n",
       "  background-color: var(--sklearn-color-unfitted-level-2);\n",
       "}\n",
       "\n",
       "#sk-container-id-3 div.sk-label.fitted input.sk-toggleable__control:checked~label.sk-toggleable__label {\n",
       "  background-color: var(--sklearn-color-fitted-level-2);\n",
       "}\n",
       "\n",
       "/* Estimator-specific style */\n",
       "\n",
       "/* Colorize estimator box */\n",
       "#sk-container-id-3 div.sk-estimator input.sk-toggleable__control:checked~label.sk-toggleable__label {\n",
       "  /* unfitted */\n",
       "  background-color: var(--sklearn-color-unfitted-level-2);\n",
       "}\n",
       "\n",
       "#sk-container-id-3 div.sk-estimator.fitted input.sk-toggleable__control:checked~label.sk-toggleable__label {\n",
       "  /* fitted */\n",
       "  background-color: var(--sklearn-color-fitted-level-2);\n",
       "}\n",
       "\n",
       "#sk-container-id-3 div.sk-label label.sk-toggleable__label,\n",
       "#sk-container-id-3 div.sk-label label {\n",
       "  /* The background is the default theme color */\n",
       "  color: var(--sklearn-color-text-on-default-background);\n",
       "}\n",
       "\n",
       "/* On hover, darken the color of the background */\n",
       "#sk-container-id-3 div.sk-label:hover label.sk-toggleable__label {\n",
       "  color: var(--sklearn-color-text);\n",
       "  background-color: var(--sklearn-color-unfitted-level-2);\n",
       "}\n",
       "\n",
       "/* Label box, darken color on hover, fitted */\n",
       "#sk-container-id-3 div.sk-label.fitted:hover label.sk-toggleable__label.fitted {\n",
       "  color: var(--sklearn-color-text);\n",
       "  background-color: var(--sklearn-color-fitted-level-2);\n",
       "}\n",
       "\n",
       "/* Estimator label */\n",
       "\n",
       "#sk-container-id-3 div.sk-label label {\n",
       "  font-family: monospace;\n",
       "  font-weight: bold;\n",
       "  display: inline-block;\n",
       "  line-height: 1.2em;\n",
       "}\n",
       "\n",
       "#sk-container-id-3 div.sk-label-container {\n",
       "  text-align: center;\n",
       "}\n",
       "\n",
       "/* Estimator-specific */\n",
       "#sk-container-id-3 div.sk-estimator {\n",
       "  font-family: monospace;\n",
       "  border: 1px dotted var(--sklearn-color-border-box);\n",
       "  border-radius: 0.25em;\n",
       "  box-sizing: border-box;\n",
       "  margin-bottom: 0.5em;\n",
       "  /* unfitted */\n",
       "  background-color: var(--sklearn-color-unfitted-level-0);\n",
       "}\n",
       "\n",
       "#sk-container-id-3 div.sk-estimator.fitted {\n",
       "  /* fitted */\n",
       "  background-color: var(--sklearn-color-fitted-level-0);\n",
       "}\n",
       "\n",
       "/* on hover */\n",
       "#sk-container-id-3 div.sk-estimator:hover {\n",
       "  /* unfitted */\n",
       "  background-color: var(--sklearn-color-unfitted-level-2);\n",
       "}\n",
       "\n",
       "#sk-container-id-3 div.sk-estimator.fitted:hover {\n",
       "  /* fitted */\n",
       "  background-color: var(--sklearn-color-fitted-level-2);\n",
       "}\n",
       "\n",
       "/* Specification for estimator info (e.g. \"i\" and \"?\") */\n",
       "\n",
       "/* Common style for \"i\" and \"?\" */\n",
       "\n",
       ".sk-estimator-doc-link,\n",
       "a:link.sk-estimator-doc-link,\n",
       "a:visited.sk-estimator-doc-link {\n",
       "  float: right;\n",
       "  font-size: smaller;\n",
       "  line-height: 1em;\n",
       "  font-family: monospace;\n",
       "  background-color: var(--sklearn-color-background);\n",
       "  border-radius: 1em;\n",
       "  height: 1em;\n",
       "  width: 1em;\n",
       "  text-decoration: none !important;\n",
       "  margin-left: 1ex;\n",
       "  /* unfitted */\n",
       "  border: var(--sklearn-color-unfitted-level-1) 1pt solid;\n",
       "  color: var(--sklearn-color-unfitted-level-1);\n",
       "}\n",
       "\n",
       ".sk-estimator-doc-link.fitted,\n",
       "a:link.sk-estimator-doc-link.fitted,\n",
       "a:visited.sk-estimator-doc-link.fitted {\n",
       "  /* fitted */\n",
       "  border: var(--sklearn-color-fitted-level-1) 1pt solid;\n",
       "  color: var(--sklearn-color-fitted-level-1);\n",
       "}\n",
       "\n",
       "/* On hover */\n",
       "div.sk-estimator:hover .sk-estimator-doc-link:hover,\n",
       ".sk-estimator-doc-link:hover,\n",
       "div.sk-label-container:hover .sk-estimator-doc-link:hover,\n",
       ".sk-estimator-doc-link:hover {\n",
       "  /* unfitted */\n",
       "  background-color: var(--sklearn-color-unfitted-level-3);\n",
       "  color: var(--sklearn-color-background);\n",
       "  text-decoration: none;\n",
       "}\n",
       "\n",
       "div.sk-estimator.fitted:hover .sk-estimator-doc-link.fitted:hover,\n",
       ".sk-estimator-doc-link.fitted:hover,\n",
       "div.sk-label-container:hover .sk-estimator-doc-link.fitted:hover,\n",
       ".sk-estimator-doc-link.fitted:hover {\n",
       "  /* fitted */\n",
       "  background-color: var(--sklearn-color-fitted-level-3);\n",
       "  color: var(--sklearn-color-background);\n",
       "  text-decoration: none;\n",
       "}\n",
       "\n",
       "/* Span, style for the box shown on hovering the info icon */\n",
       ".sk-estimator-doc-link span {\n",
       "  display: none;\n",
       "  z-index: 9999;\n",
       "  position: relative;\n",
       "  font-weight: normal;\n",
       "  right: .2ex;\n",
       "  padding: .5ex;\n",
       "  margin: .5ex;\n",
       "  width: min-content;\n",
       "  min-width: 20ex;\n",
       "  max-width: 50ex;\n",
       "  color: var(--sklearn-color-text);\n",
       "  box-shadow: 2pt 2pt 4pt #999;\n",
       "  /* unfitted */\n",
       "  background: var(--sklearn-color-unfitted-level-0);\n",
       "  border: .5pt solid var(--sklearn-color-unfitted-level-3);\n",
       "}\n",
       "\n",
       ".sk-estimator-doc-link.fitted span {\n",
       "  /* fitted */\n",
       "  background: var(--sklearn-color-fitted-level-0);\n",
       "  border: var(--sklearn-color-fitted-level-3);\n",
       "}\n",
       "\n",
       ".sk-estimator-doc-link:hover span {\n",
       "  display: block;\n",
       "}\n",
       "\n",
       "/* \"?\"-specific style due to the `<a>` HTML tag */\n",
       "\n",
       "#sk-container-id-3 a.estimator_doc_link {\n",
       "  float: right;\n",
       "  font-size: 1rem;\n",
       "  line-height: 1em;\n",
       "  font-family: monospace;\n",
       "  background-color: var(--sklearn-color-background);\n",
       "  border-radius: 1rem;\n",
       "  height: 1rem;\n",
       "  width: 1rem;\n",
       "  text-decoration: none;\n",
       "  /* unfitted */\n",
       "  color: var(--sklearn-color-unfitted-level-1);\n",
       "  border: var(--sklearn-color-unfitted-level-1) 1pt solid;\n",
       "}\n",
       "\n",
       "#sk-container-id-3 a.estimator_doc_link.fitted {\n",
       "  /* fitted */\n",
       "  border: var(--sklearn-color-fitted-level-1) 1pt solid;\n",
       "  color: var(--sklearn-color-fitted-level-1);\n",
       "}\n",
       "\n",
       "/* On hover */\n",
       "#sk-container-id-3 a.estimator_doc_link:hover {\n",
       "  /* unfitted */\n",
       "  background-color: var(--sklearn-color-unfitted-level-3);\n",
       "  color: var(--sklearn-color-background);\n",
       "  text-decoration: none;\n",
       "}\n",
       "\n",
       "#sk-container-id-3 a.estimator_doc_link.fitted:hover {\n",
       "  /* fitted */\n",
       "  background-color: var(--sklearn-color-fitted-level-3);\n",
       "}\n",
       "</style><div id=\"sk-container-id-3\" class=\"sk-top-container\"><div class=\"sk-text-repr-fallback\"><pre>GridSearchCV(cv=KFold(n_splits=10, random_state=42, shuffle=True),\n",
       "             estimator=Pipeline(steps=[(&#x27;preprocessor&#x27;,\n",
       "                                        ColumnTransformer(remainder=&#x27;passthrough&#x27;,\n",
       "                                                          transformers=[(&#x27;num&#x27;,\n",
       "                                                                         StandardScaler(),\n",
       "                                                                         [&#x27;bedRoom&#x27;,\n",
       "                                                                          &#x27;bathroom&#x27;,\n",
       "                                                                          &#x27;built_up_area&#x27;,\n",
       "                                                                          &#x27;servant &#x27;\n",
       "                                                                          &#x27;room&#x27;,\n",
       "                                                                          &#x27;store &#x27;\n",
       "                                                                          &#x27;room&#x27;]),\n",
       "                                                                        (&#x27;cat&#x27;,\n",
       "                                                                         OrdinalEncoder(),\n",
       "                                                                         [&#x27;property_type&#x27;,\n",
       "                                                                          &#x27;sector&#x27;,\n",
       "                                                                          &#x27;balcony&#x27;,\n",
       "                                                                          &#x27;agePossession&#x27;,\n",
       "                                                                          &#x27;furnishing_type&#x27;,...\n",
       "                                                                         OneHotEncoder(drop=&#x27;first&#x27;,\n",
       "                                                                                       sparse_output=False),\n",
       "                                                                         [&#x27;agePossession&#x27;]),\n",
       "                                                                        (&#x27;target_enc&#x27;,\n",
       "                                                                         TargetEncoder(),\n",
       "                                                                         [&#x27;sector&#x27;])])),\n",
       "                                       (&#x27;regressor&#x27;, RandomForestRegressor())]),\n",
       "             n_jobs=-1,\n",
       "             param_grid={&#x27;regressor__max_depth&#x27;: [None, 10, 20, 30],\n",
       "                         &#x27;regressor__max_features&#x27;: [&#x27;auto&#x27;, &#x27;sqrt&#x27;],\n",
       "                         &#x27;regressor__max_samples&#x27;: [0.1, 0.25, 0.5, 1.0],\n",
       "                         &#x27;regressor__n_estimators&#x27;: [50, 100, 200, 300]},\n",
       "             scoring=&#x27;r2&#x27;, verbose=4)</pre><b>In a Jupyter environment, please rerun this cell to show the HTML representation or trust the notebook. <br />On GitHub, the HTML representation is unable to render, please try loading this page with nbviewer.org.</b></div><div class=\"sk-container\" hidden><div class=\"sk-item sk-dashed-wrapped\"><div class=\"sk-label-container\"><div class=\"sk-label fitted sk-toggleable\"><input class=\"sk-toggleable__control sk-hidden--visually\" id=\"sk-estimator-id-21\" type=\"checkbox\" ><label for=\"sk-estimator-id-21\" class=\"sk-toggleable__label fitted sk-toggleable__label-arrow fitted\">&nbsp;&nbsp;GridSearchCV<a class=\"sk-estimator-doc-link fitted\" rel=\"noreferrer\" target=\"_blank\" href=\"https://scikit-learn.org/1.5/modules/generated/sklearn.model_selection.GridSearchCV.html\">?<span>Documentation for GridSearchCV</span></a><span class=\"sk-estimator-doc-link fitted\">i<span>Fitted</span></span></label><div class=\"sk-toggleable__content fitted\"><pre>GridSearchCV(cv=KFold(n_splits=10, random_state=42, shuffle=True),\n",
       "             estimator=Pipeline(steps=[(&#x27;preprocessor&#x27;,\n",
       "                                        ColumnTransformer(remainder=&#x27;passthrough&#x27;,\n",
       "                                                          transformers=[(&#x27;num&#x27;,\n",
       "                                                                         StandardScaler(),\n",
       "                                                                         [&#x27;bedRoom&#x27;,\n",
       "                                                                          &#x27;bathroom&#x27;,\n",
       "                                                                          &#x27;built_up_area&#x27;,\n",
       "                                                                          &#x27;servant &#x27;\n",
       "                                                                          &#x27;room&#x27;,\n",
       "                                                                          &#x27;store &#x27;\n",
       "                                                                          &#x27;room&#x27;]),\n",
       "                                                                        (&#x27;cat&#x27;,\n",
       "                                                                         OrdinalEncoder(),\n",
       "                                                                         [&#x27;property_type&#x27;,\n",
       "                                                                          &#x27;sector&#x27;,\n",
       "                                                                          &#x27;balcony&#x27;,\n",
       "                                                                          &#x27;agePossession&#x27;,\n",
       "                                                                          &#x27;furnishing_type&#x27;,...\n",
       "                                                                         OneHotEncoder(drop=&#x27;first&#x27;,\n",
       "                                                                                       sparse_output=False),\n",
       "                                                                         [&#x27;agePossession&#x27;]),\n",
       "                                                                        (&#x27;target_enc&#x27;,\n",
       "                                                                         TargetEncoder(),\n",
       "                                                                         [&#x27;sector&#x27;])])),\n",
       "                                       (&#x27;regressor&#x27;, RandomForestRegressor())]),\n",
       "             n_jobs=-1,\n",
       "             param_grid={&#x27;regressor__max_depth&#x27;: [None, 10, 20, 30],\n",
       "                         &#x27;regressor__max_features&#x27;: [&#x27;auto&#x27;, &#x27;sqrt&#x27;],\n",
       "                         &#x27;regressor__max_samples&#x27;: [0.1, 0.25, 0.5, 1.0],\n",
       "                         &#x27;regressor__n_estimators&#x27;: [50, 100, 200, 300]},\n",
       "             scoring=&#x27;r2&#x27;, verbose=4)</pre></div> </div></div><div class=\"sk-parallel\"><div class=\"sk-parallel-item\"><div class=\"sk-item\"><div class=\"sk-label-container\"><div class=\"sk-label fitted sk-toggleable\"><input class=\"sk-toggleable__control sk-hidden--visually\" id=\"sk-estimator-id-22\" type=\"checkbox\" ><label for=\"sk-estimator-id-22\" class=\"sk-toggleable__label fitted sk-toggleable__label-arrow fitted\">best_estimator_: Pipeline</label><div class=\"sk-toggleable__content fitted\"><pre>Pipeline(steps=[(&#x27;preprocessor&#x27;,\n",
       "                 ColumnTransformer(remainder=&#x27;passthrough&#x27;,\n",
       "                                   transformers=[(&#x27;num&#x27;, StandardScaler(),\n",
       "                                                  [&#x27;bedRoom&#x27;, &#x27;bathroom&#x27;,\n",
       "                                                   &#x27;built_up_area&#x27;,\n",
       "                                                   &#x27;servant room&#x27;,\n",
       "                                                   &#x27;store room&#x27;]),\n",
       "                                                 (&#x27;cat&#x27;, OrdinalEncoder(),\n",
       "                                                  [&#x27;property_type&#x27;, &#x27;sector&#x27;,\n",
       "                                                   &#x27;balcony&#x27;, &#x27;agePossession&#x27;,\n",
       "                                                   &#x27;furnishing_type&#x27;,\n",
       "                                                   &#x27;luxury_category&#x27;,\n",
       "                                                   &#x27;floor_category&#x27;]),\n",
       "                                                 (&#x27;cat1&#x27;,\n",
       "                                                  OneHotEncoder(drop=&#x27;first&#x27;,\n",
       "                                                                sparse_output=False),\n",
       "                                                  [&#x27;agePossession&#x27;]),\n",
       "                                                 (&#x27;target_enc&#x27;, TargetEncoder(),\n",
       "                                                  [&#x27;sector&#x27;])])),\n",
       "                (&#x27;regressor&#x27;,\n",
       "                 RandomForestRegressor(max_depth=30, max_features=&#x27;sqrt&#x27;,\n",
       "                                       max_samples=1.0, n_estimators=300))])</pre></div> </div></div><div class=\"sk-serial\"><div class=\"sk-item\"><div class=\"sk-serial\"><div class=\"sk-item sk-dashed-wrapped\"><div class=\"sk-label-container\"><div class=\"sk-label fitted sk-toggleable\"><input class=\"sk-toggleable__control sk-hidden--visually\" id=\"sk-estimator-id-23\" type=\"checkbox\" ><label for=\"sk-estimator-id-23\" class=\"sk-toggleable__label fitted sk-toggleable__label-arrow fitted\">&nbsp;preprocessor: ColumnTransformer<a class=\"sk-estimator-doc-link fitted\" rel=\"noreferrer\" target=\"_blank\" href=\"https://scikit-learn.org/1.5/modules/generated/sklearn.compose.ColumnTransformer.html\">?<span>Documentation for preprocessor: ColumnTransformer</span></a></label><div class=\"sk-toggleable__content fitted\"><pre>ColumnTransformer(remainder=&#x27;passthrough&#x27;,\n",
       "                  transformers=[(&#x27;num&#x27;, StandardScaler(),\n",
       "                                 [&#x27;bedRoom&#x27;, &#x27;bathroom&#x27;, &#x27;built_up_area&#x27;,\n",
       "                                  &#x27;servant room&#x27;, &#x27;store room&#x27;]),\n",
       "                                (&#x27;cat&#x27;, OrdinalEncoder(),\n",
       "                                 [&#x27;property_type&#x27;, &#x27;sector&#x27;, &#x27;balcony&#x27;,\n",
       "                                  &#x27;agePossession&#x27;, &#x27;furnishing_type&#x27;,\n",
       "                                  &#x27;luxury_category&#x27;, &#x27;floor_category&#x27;]),\n",
       "                                (&#x27;cat1&#x27;,\n",
       "                                 OneHotEncoder(drop=&#x27;first&#x27;,\n",
       "                                               sparse_output=False),\n",
       "                                 [&#x27;agePossession&#x27;]),\n",
       "                                (&#x27;target_enc&#x27;, TargetEncoder(), [&#x27;sector&#x27;])])</pre></div> </div></div><div class=\"sk-parallel\"><div class=\"sk-parallel-item\"><div class=\"sk-item\"><div class=\"sk-label-container\"><div class=\"sk-label fitted sk-toggleable\"><input class=\"sk-toggleable__control sk-hidden--visually\" id=\"sk-estimator-id-24\" type=\"checkbox\" ><label for=\"sk-estimator-id-24\" class=\"sk-toggleable__label fitted sk-toggleable__label-arrow fitted\">num</label><div class=\"sk-toggleable__content fitted\"><pre>[&#x27;bedRoom&#x27;, &#x27;bathroom&#x27;, &#x27;built_up_area&#x27;, &#x27;servant room&#x27;, &#x27;store room&#x27;]</pre></div> </div></div><div class=\"sk-serial\"><div class=\"sk-item\"><div class=\"sk-estimator fitted sk-toggleable\"><input class=\"sk-toggleable__control sk-hidden--visually\" id=\"sk-estimator-id-25\" type=\"checkbox\" ><label for=\"sk-estimator-id-25\" class=\"sk-toggleable__label fitted sk-toggleable__label-arrow fitted\">&nbsp;StandardScaler<a class=\"sk-estimator-doc-link fitted\" rel=\"noreferrer\" target=\"_blank\" href=\"https://scikit-learn.org/1.5/modules/generated/sklearn.preprocessing.StandardScaler.html\">?<span>Documentation for StandardScaler</span></a></label><div class=\"sk-toggleable__content fitted\"><pre>StandardScaler()</pre></div> </div></div></div></div></div><div class=\"sk-parallel-item\"><div class=\"sk-item\"><div class=\"sk-label-container\"><div class=\"sk-label fitted sk-toggleable\"><input class=\"sk-toggleable__control sk-hidden--visually\" id=\"sk-estimator-id-26\" type=\"checkbox\" ><label for=\"sk-estimator-id-26\" class=\"sk-toggleable__label fitted sk-toggleable__label-arrow fitted\">cat</label><div class=\"sk-toggleable__content fitted\"><pre>[&#x27;property_type&#x27;, &#x27;sector&#x27;, &#x27;balcony&#x27;, &#x27;agePossession&#x27;, &#x27;furnishing_type&#x27;, &#x27;luxury_category&#x27;, &#x27;floor_category&#x27;]</pre></div> </div></div><div class=\"sk-serial\"><div class=\"sk-item\"><div class=\"sk-estimator fitted sk-toggleable\"><input class=\"sk-toggleable__control sk-hidden--visually\" id=\"sk-estimator-id-27\" type=\"checkbox\" ><label for=\"sk-estimator-id-27\" class=\"sk-toggleable__label fitted sk-toggleable__label-arrow fitted\">&nbsp;OrdinalEncoder<a class=\"sk-estimator-doc-link fitted\" rel=\"noreferrer\" target=\"_blank\" href=\"https://scikit-learn.org/1.5/modules/generated/sklearn.preprocessing.OrdinalEncoder.html\">?<span>Documentation for OrdinalEncoder</span></a></label><div class=\"sk-toggleable__content fitted\"><pre>OrdinalEncoder()</pre></div> </div></div></div></div></div><div class=\"sk-parallel-item\"><div class=\"sk-item\"><div class=\"sk-label-container\"><div class=\"sk-label fitted sk-toggleable\"><input class=\"sk-toggleable__control sk-hidden--visually\" id=\"sk-estimator-id-28\" type=\"checkbox\" ><label for=\"sk-estimator-id-28\" class=\"sk-toggleable__label fitted sk-toggleable__label-arrow fitted\">cat1</label><div class=\"sk-toggleable__content fitted\"><pre>[&#x27;agePossession&#x27;]</pre></div> </div></div><div class=\"sk-serial\"><div class=\"sk-item\"><div class=\"sk-estimator fitted sk-toggleable\"><input class=\"sk-toggleable__control sk-hidden--visually\" id=\"sk-estimator-id-29\" type=\"checkbox\" ><label for=\"sk-estimator-id-29\" class=\"sk-toggleable__label fitted sk-toggleable__label-arrow fitted\">&nbsp;OneHotEncoder<a class=\"sk-estimator-doc-link fitted\" rel=\"noreferrer\" target=\"_blank\" href=\"https://scikit-learn.org/1.5/modules/generated/sklearn.preprocessing.OneHotEncoder.html\">?<span>Documentation for OneHotEncoder</span></a></label><div class=\"sk-toggleable__content fitted\"><pre>OneHotEncoder(drop=&#x27;first&#x27;, sparse_output=False)</pre></div> </div></div></div></div></div><div class=\"sk-parallel-item\"><div class=\"sk-item\"><div class=\"sk-label-container\"><div class=\"sk-label fitted sk-toggleable\"><input class=\"sk-toggleable__control sk-hidden--visually\" id=\"sk-estimator-id-30\" type=\"checkbox\" ><label for=\"sk-estimator-id-30\" class=\"sk-toggleable__label fitted sk-toggleable__label-arrow fitted\">target_enc</label><div class=\"sk-toggleable__content fitted\"><pre>[&#x27;sector&#x27;]</pre></div> </div></div><div class=\"sk-serial\"><div class=\"sk-item\"><div class=\"sk-estimator fitted sk-toggleable\"><input class=\"sk-toggleable__control sk-hidden--visually\" id=\"sk-estimator-id-31\" type=\"checkbox\" ><label for=\"sk-estimator-id-31\" class=\"sk-toggleable__label fitted sk-toggleable__label-arrow fitted\">TargetEncoder</label><div class=\"sk-toggleable__content fitted\"><pre>TargetEncoder()</pre></div> </div></div></div></div></div><div class=\"sk-parallel-item\"><div class=\"sk-item\"><div class=\"sk-label-container\"><div class=\"sk-label fitted sk-toggleable\"><input class=\"sk-toggleable__control sk-hidden--visually\" id=\"sk-estimator-id-32\" type=\"checkbox\" ><label for=\"sk-estimator-id-32\" class=\"sk-toggleable__label fitted sk-toggleable__label-arrow fitted\">remainder</label><div class=\"sk-toggleable__content fitted\"><pre>[]</pre></div> </div></div><div class=\"sk-serial\"><div class=\"sk-item\"><div class=\"sk-estimator fitted sk-toggleable\"><input class=\"sk-toggleable__control sk-hidden--visually\" id=\"sk-estimator-id-33\" type=\"checkbox\" ><label for=\"sk-estimator-id-33\" class=\"sk-toggleable__label fitted sk-toggleable__label-arrow fitted\">passthrough</label><div class=\"sk-toggleable__content fitted\"><pre>passthrough</pre></div> </div></div></div></div></div></div></div><div class=\"sk-item\"><div class=\"sk-estimator fitted sk-toggleable\"><input class=\"sk-toggleable__control sk-hidden--visually\" id=\"sk-estimator-id-34\" type=\"checkbox\" ><label for=\"sk-estimator-id-34\" class=\"sk-toggleable__label fitted sk-toggleable__label-arrow fitted\">&nbsp;RandomForestRegressor<a class=\"sk-estimator-doc-link fitted\" rel=\"noreferrer\" target=\"_blank\" href=\"https://scikit-learn.org/1.5/modules/generated/sklearn.ensemble.RandomForestRegressor.html\">?<span>Documentation for RandomForestRegressor</span></a></label><div class=\"sk-toggleable__content fitted\"><pre>RandomForestRegressor(max_depth=30, max_features=&#x27;sqrt&#x27;, max_samples=1.0,\n",
       "                      n_estimators=300)</pre></div> </div></div></div></div></div></div></div></div></div></div></div>"
      ],
      "text/plain": [
       "GridSearchCV(cv=KFold(n_splits=10, random_state=42, shuffle=True),\n",
       "             estimator=Pipeline(steps=[('preprocessor',\n",
       "                                        ColumnTransformer(remainder='passthrough',\n",
       "                                                          transformers=[('num',\n",
       "                                                                         StandardScaler(),\n",
       "                                                                         ['bedRoom',\n",
       "                                                                          'bathroom',\n",
       "                                                                          'built_up_area',\n",
       "                                                                          'servant '\n",
       "                                                                          'room',\n",
       "                                                                          'store '\n",
       "                                                                          'room']),\n",
       "                                                                        ('cat',\n",
       "                                                                         OrdinalEncoder(),\n",
       "                                                                         ['property_type',\n",
       "                                                                          'sector',\n",
       "                                                                          'balcony',\n",
       "                                                                          'agePossession',\n",
       "                                                                          'furnishing_type',...\n",
       "                                                                         OneHotEncoder(drop='first',\n",
       "                                                                                       sparse_output=False),\n",
       "                                                                         ['agePossession']),\n",
       "                                                                        ('target_enc',\n",
       "                                                                         TargetEncoder(),\n",
       "                                                                         ['sector'])])),\n",
       "                                       ('regressor', RandomForestRegressor())]),\n",
       "             n_jobs=-1,\n",
       "             param_grid={'regressor__max_depth': [None, 10, 20, 30],\n",
       "                         'regressor__max_features': ['auto', 'sqrt'],\n",
       "                         'regressor__max_samples': [0.1, 0.25, 0.5, 1.0],\n",
       "                         'regressor__n_estimators': [50, 100, 200, 300]},\n",
       "             scoring='r2', verbose=4)"
      ]
     },
     "execution_count": 71,
     "metadata": {},
     "output_type": "execute_result"
    }
   ],
   "source": [
    "search.fit(X, y_transformed)"
   ]
  },
  {
   "cell_type": "code",
   "execution_count": 72,
   "id": "c1e6178b",
   "metadata": {},
   "outputs": [],
   "source": [
    "final_pipe = search.best_estimator_"
   ]
  },
  {
   "cell_type": "code",
   "execution_count": 73,
   "id": "76ec1ebc",
   "metadata": {},
   "outputs": [
    {
     "data": {
      "text/plain": [
       "{'regressor__max_depth': 30,\n",
       " 'regressor__max_features': 'sqrt',\n",
       " 'regressor__max_samples': 1.0,\n",
       " 'regressor__n_estimators': 300}"
      ]
     },
     "execution_count": 73,
     "metadata": {},
     "output_type": "execute_result"
    }
   ],
   "source": [
    "search.best_params_"
   ]
  },
  {
   "cell_type": "code",
   "execution_count": 74,
   "id": "95dfccee",
   "metadata": {},
   "outputs": [
    {
     "data": {
      "text/plain": [
       "np.float64(0.9026121231171291)"
      ]
     },
     "execution_count": 74,
     "metadata": {},
     "output_type": "execute_result"
    }
   ],
   "source": [
    "search.best_score_"
   ]
  },
  {
   "cell_type": "code",
   "execution_count": 75,
   "id": "6144c01d",
   "metadata": {},
   "outputs": [
    {
     "data": {
      "text/html": [
       "<style>#sk-container-id-4 {\n",
       "  /* Definition of color scheme common for light and dark mode */\n",
       "  --sklearn-color-text: black;\n",
       "  --sklearn-color-line: gray;\n",
       "  /* Definition of color scheme for unfitted estimators */\n",
       "  --sklearn-color-unfitted-level-0: #fff5e6;\n",
       "  --sklearn-color-unfitted-level-1: #f6e4d2;\n",
       "  --sklearn-color-unfitted-level-2: #ffe0b3;\n",
       "  --sklearn-color-unfitted-level-3: chocolate;\n",
       "  /* Definition of color scheme for fitted estimators */\n",
       "  --sklearn-color-fitted-level-0: #f0f8ff;\n",
       "  --sklearn-color-fitted-level-1: #d4ebff;\n",
       "  --sklearn-color-fitted-level-2: #b3dbfd;\n",
       "  --sklearn-color-fitted-level-3: cornflowerblue;\n",
       "\n",
       "  /* Specific color for light theme */\n",
       "  --sklearn-color-text-on-default-background: var(--sg-text-color, var(--theme-code-foreground, var(--jp-content-font-color1, black)));\n",
       "  --sklearn-color-background: var(--sg-background-color, var(--theme-background, var(--jp-layout-color0, white)));\n",
       "  --sklearn-color-border-box: var(--sg-text-color, var(--theme-code-foreground, var(--jp-content-font-color1, black)));\n",
       "  --sklearn-color-icon: #696969;\n",
       "\n",
       "  @media (prefers-color-scheme: dark) {\n",
       "    /* Redefinition of color scheme for dark theme */\n",
       "    --sklearn-color-text-on-default-background: var(--sg-text-color, var(--theme-code-foreground, var(--jp-content-font-color1, white)));\n",
       "    --sklearn-color-background: var(--sg-background-color, var(--theme-background, var(--jp-layout-color0, #111)));\n",
       "    --sklearn-color-border-box: var(--sg-text-color, var(--theme-code-foreground, var(--jp-content-font-color1, white)));\n",
       "    --sklearn-color-icon: #878787;\n",
       "  }\n",
       "}\n",
       "\n",
       "#sk-container-id-4 {\n",
       "  color: var(--sklearn-color-text);\n",
       "}\n",
       "\n",
       "#sk-container-id-4 pre {\n",
       "  padding: 0;\n",
       "}\n",
       "\n",
       "#sk-container-id-4 input.sk-hidden--visually {\n",
       "  border: 0;\n",
       "  clip: rect(1px 1px 1px 1px);\n",
       "  clip: rect(1px, 1px, 1px, 1px);\n",
       "  height: 1px;\n",
       "  margin: -1px;\n",
       "  overflow: hidden;\n",
       "  padding: 0;\n",
       "  position: absolute;\n",
       "  width: 1px;\n",
       "}\n",
       "\n",
       "#sk-container-id-4 div.sk-dashed-wrapped {\n",
       "  border: 1px dashed var(--sklearn-color-line);\n",
       "  margin: 0 0.4em 0.5em 0.4em;\n",
       "  box-sizing: border-box;\n",
       "  padding-bottom: 0.4em;\n",
       "  background-color: var(--sklearn-color-background);\n",
       "}\n",
       "\n",
       "#sk-container-id-4 div.sk-container {\n",
       "  /* jupyter's `normalize.less` sets `[hidden] { display: none; }`\n",
       "     but bootstrap.min.css set `[hidden] { display: none !important; }`\n",
       "     so we also need the `!important` here to be able to override the\n",
       "     default hidden behavior on the sphinx rendered scikit-learn.org.\n",
       "     See: https://github.com/scikit-learn/scikit-learn/issues/21755 */\n",
       "  display: inline-block !important;\n",
       "  position: relative;\n",
       "}\n",
       "\n",
       "#sk-container-id-4 div.sk-text-repr-fallback {\n",
       "  display: none;\n",
       "}\n",
       "\n",
       "div.sk-parallel-item,\n",
       "div.sk-serial,\n",
       "div.sk-item {\n",
       "  /* draw centered vertical line to link estimators */\n",
       "  background-image: linear-gradient(var(--sklearn-color-text-on-default-background), var(--sklearn-color-text-on-default-background));\n",
       "  background-size: 2px 100%;\n",
       "  background-repeat: no-repeat;\n",
       "  background-position: center center;\n",
       "}\n",
       "\n",
       "/* Parallel-specific style estimator block */\n",
       "\n",
       "#sk-container-id-4 div.sk-parallel-item::after {\n",
       "  content: \"\";\n",
       "  width: 100%;\n",
       "  border-bottom: 2px solid var(--sklearn-color-text-on-default-background);\n",
       "  flex-grow: 1;\n",
       "}\n",
       "\n",
       "#sk-container-id-4 div.sk-parallel {\n",
       "  display: flex;\n",
       "  align-items: stretch;\n",
       "  justify-content: center;\n",
       "  background-color: var(--sklearn-color-background);\n",
       "  position: relative;\n",
       "}\n",
       "\n",
       "#sk-container-id-4 div.sk-parallel-item {\n",
       "  display: flex;\n",
       "  flex-direction: column;\n",
       "}\n",
       "\n",
       "#sk-container-id-4 div.sk-parallel-item:first-child::after {\n",
       "  align-self: flex-end;\n",
       "  width: 50%;\n",
       "}\n",
       "\n",
       "#sk-container-id-4 div.sk-parallel-item:last-child::after {\n",
       "  align-self: flex-start;\n",
       "  width: 50%;\n",
       "}\n",
       "\n",
       "#sk-container-id-4 div.sk-parallel-item:only-child::after {\n",
       "  width: 0;\n",
       "}\n",
       "\n",
       "/* Serial-specific style estimator block */\n",
       "\n",
       "#sk-container-id-4 div.sk-serial {\n",
       "  display: flex;\n",
       "  flex-direction: column;\n",
       "  align-items: center;\n",
       "  background-color: var(--sklearn-color-background);\n",
       "  padding-right: 1em;\n",
       "  padding-left: 1em;\n",
       "}\n",
       "\n",
       "\n",
       "/* Toggleable style: style used for estimator/Pipeline/ColumnTransformer box that is\n",
       "clickable and can be expanded/collapsed.\n",
       "- Pipeline and ColumnTransformer use this feature and define the default style\n",
       "- Estimators will overwrite some part of the style using the `sk-estimator` class\n",
       "*/\n",
       "\n",
       "/* Pipeline and ColumnTransformer style (default) */\n",
       "\n",
       "#sk-container-id-4 div.sk-toggleable {\n",
       "  /* Default theme specific background. It is overwritten whether we have a\n",
       "  specific estimator or a Pipeline/ColumnTransformer */\n",
       "  background-color: var(--sklearn-color-background);\n",
       "}\n",
       "\n",
       "/* Toggleable label */\n",
       "#sk-container-id-4 label.sk-toggleable__label {\n",
       "  cursor: pointer;\n",
       "  display: block;\n",
       "  width: 100%;\n",
       "  margin-bottom: 0;\n",
       "  padding: 0.5em;\n",
       "  box-sizing: border-box;\n",
       "  text-align: center;\n",
       "}\n",
       "\n",
       "#sk-container-id-4 label.sk-toggleable__label-arrow:before {\n",
       "  /* Arrow on the left of the label */\n",
       "  content: \"▸\";\n",
       "  float: left;\n",
       "  margin-right: 0.25em;\n",
       "  color: var(--sklearn-color-icon);\n",
       "}\n",
       "\n",
       "#sk-container-id-4 label.sk-toggleable__label-arrow:hover:before {\n",
       "  color: var(--sklearn-color-text);\n",
       "}\n",
       "\n",
       "/* Toggleable content - dropdown */\n",
       "\n",
       "#sk-container-id-4 div.sk-toggleable__content {\n",
       "  max-height: 0;\n",
       "  max-width: 0;\n",
       "  overflow: hidden;\n",
       "  text-align: left;\n",
       "  /* unfitted */\n",
       "  background-color: var(--sklearn-color-unfitted-level-0);\n",
       "}\n",
       "\n",
       "#sk-container-id-4 div.sk-toggleable__content.fitted {\n",
       "  /* fitted */\n",
       "  background-color: var(--sklearn-color-fitted-level-0);\n",
       "}\n",
       "\n",
       "#sk-container-id-4 div.sk-toggleable__content pre {\n",
       "  margin: 0.2em;\n",
       "  border-radius: 0.25em;\n",
       "  color: var(--sklearn-color-text);\n",
       "  /* unfitted */\n",
       "  background-color: var(--sklearn-color-unfitted-level-0);\n",
       "}\n",
       "\n",
       "#sk-container-id-4 div.sk-toggleable__content.fitted pre {\n",
       "  /* unfitted */\n",
       "  background-color: var(--sklearn-color-fitted-level-0);\n",
       "}\n",
       "\n",
       "#sk-container-id-4 input.sk-toggleable__control:checked~div.sk-toggleable__content {\n",
       "  /* Expand drop-down */\n",
       "  max-height: 200px;\n",
       "  max-width: 100%;\n",
       "  overflow: auto;\n",
       "}\n",
       "\n",
       "#sk-container-id-4 input.sk-toggleable__control:checked~label.sk-toggleable__label-arrow:before {\n",
       "  content: \"▾\";\n",
       "}\n",
       "\n",
       "/* Pipeline/ColumnTransformer-specific style */\n",
       "\n",
       "#sk-container-id-4 div.sk-label input.sk-toggleable__control:checked~label.sk-toggleable__label {\n",
       "  color: var(--sklearn-color-text);\n",
       "  background-color: var(--sklearn-color-unfitted-level-2);\n",
       "}\n",
       "\n",
       "#sk-container-id-4 div.sk-label.fitted input.sk-toggleable__control:checked~label.sk-toggleable__label {\n",
       "  background-color: var(--sklearn-color-fitted-level-2);\n",
       "}\n",
       "\n",
       "/* Estimator-specific style */\n",
       "\n",
       "/* Colorize estimator box */\n",
       "#sk-container-id-4 div.sk-estimator input.sk-toggleable__control:checked~label.sk-toggleable__label {\n",
       "  /* unfitted */\n",
       "  background-color: var(--sklearn-color-unfitted-level-2);\n",
       "}\n",
       "\n",
       "#sk-container-id-4 div.sk-estimator.fitted input.sk-toggleable__control:checked~label.sk-toggleable__label {\n",
       "  /* fitted */\n",
       "  background-color: var(--sklearn-color-fitted-level-2);\n",
       "}\n",
       "\n",
       "#sk-container-id-4 div.sk-label label.sk-toggleable__label,\n",
       "#sk-container-id-4 div.sk-label label {\n",
       "  /* The background is the default theme color */\n",
       "  color: var(--sklearn-color-text-on-default-background);\n",
       "}\n",
       "\n",
       "/* On hover, darken the color of the background */\n",
       "#sk-container-id-4 div.sk-label:hover label.sk-toggleable__label {\n",
       "  color: var(--sklearn-color-text);\n",
       "  background-color: var(--sklearn-color-unfitted-level-2);\n",
       "}\n",
       "\n",
       "/* Label box, darken color on hover, fitted */\n",
       "#sk-container-id-4 div.sk-label.fitted:hover label.sk-toggleable__label.fitted {\n",
       "  color: var(--sklearn-color-text);\n",
       "  background-color: var(--sklearn-color-fitted-level-2);\n",
       "}\n",
       "\n",
       "/* Estimator label */\n",
       "\n",
       "#sk-container-id-4 div.sk-label label {\n",
       "  font-family: monospace;\n",
       "  font-weight: bold;\n",
       "  display: inline-block;\n",
       "  line-height: 1.2em;\n",
       "}\n",
       "\n",
       "#sk-container-id-4 div.sk-label-container {\n",
       "  text-align: center;\n",
       "}\n",
       "\n",
       "/* Estimator-specific */\n",
       "#sk-container-id-4 div.sk-estimator {\n",
       "  font-family: monospace;\n",
       "  border: 1px dotted var(--sklearn-color-border-box);\n",
       "  border-radius: 0.25em;\n",
       "  box-sizing: border-box;\n",
       "  margin-bottom: 0.5em;\n",
       "  /* unfitted */\n",
       "  background-color: var(--sklearn-color-unfitted-level-0);\n",
       "}\n",
       "\n",
       "#sk-container-id-4 div.sk-estimator.fitted {\n",
       "  /* fitted */\n",
       "  background-color: var(--sklearn-color-fitted-level-0);\n",
       "}\n",
       "\n",
       "/* on hover */\n",
       "#sk-container-id-4 div.sk-estimator:hover {\n",
       "  /* unfitted */\n",
       "  background-color: var(--sklearn-color-unfitted-level-2);\n",
       "}\n",
       "\n",
       "#sk-container-id-4 div.sk-estimator.fitted:hover {\n",
       "  /* fitted */\n",
       "  background-color: var(--sklearn-color-fitted-level-2);\n",
       "}\n",
       "\n",
       "/* Specification for estimator info (e.g. \"i\" and \"?\") */\n",
       "\n",
       "/* Common style for \"i\" and \"?\" */\n",
       "\n",
       ".sk-estimator-doc-link,\n",
       "a:link.sk-estimator-doc-link,\n",
       "a:visited.sk-estimator-doc-link {\n",
       "  float: right;\n",
       "  font-size: smaller;\n",
       "  line-height: 1em;\n",
       "  font-family: monospace;\n",
       "  background-color: var(--sklearn-color-background);\n",
       "  border-radius: 1em;\n",
       "  height: 1em;\n",
       "  width: 1em;\n",
       "  text-decoration: none !important;\n",
       "  margin-left: 1ex;\n",
       "  /* unfitted */\n",
       "  border: var(--sklearn-color-unfitted-level-1) 1pt solid;\n",
       "  color: var(--sklearn-color-unfitted-level-1);\n",
       "}\n",
       "\n",
       ".sk-estimator-doc-link.fitted,\n",
       "a:link.sk-estimator-doc-link.fitted,\n",
       "a:visited.sk-estimator-doc-link.fitted {\n",
       "  /* fitted */\n",
       "  border: var(--sklearn-color-fitted-level-1) 1pt solid;\n",
       "  color: var(--sklearn-color-fitted-level-1);\n",
       "}\n",
       "\n",
       "/* On hover */\n",
       "div.sk-estimator:hover .sk-estimator-doc-link:hover,\n",
       ".sk-estimator-doc-link:hover,\n",
       "div.sk-label-container:hover .sk-estimator-doc-link:hover,\n",
       ".sk-estimator-doc-link:hover {\n",
       "  /* unfitted */\n",
       "  background-color: var(--sklearn-color-unfitted-level-3);\n",
       "  color: var(--sklearn-color-background);\n",
       "  text-decoration: none;\n",
       "}\n",
       "\n",
       "div.sk-estimator.fitted:hover .sk-estimator-doc-link.fitted:hover,\n",
       ".sk-estimator-doc-link.fitted:hover,\n",
       "div.sk-label-container:hover .sk-estimator-doc-link.fitted:hover,\n",
       ".sk-estimator-doc-link.fitted:hover {\n",
       "  /* fitted */\n",
       "  background-color: var(--sklearn-color-fitted-level-3);\n",
       "  color: var(--sklearn-color-background);\n",
       "  text-decoration: none;\n",
       "}\n",
       "\n",
       "/* Span, style for the box shown on hovering the info icon */\n",
       ".sk-estimator-doc-link span {\n",
       "  display: none;\n",
       "  z-index: 9999;\n",
       "  position: relative;\n",
       "  font-weight: normal;\n",
       "  right: .2ex;\n",
       "  padding: .5ex;\n",
       "  margin: .5ex;\n",
       "  width: min-content;\n",
       "  min-width: 20ex;\n",
       "  max-width: 50ex;\n",
       "  color: var(--sklearn-color-text);\n",
       "  box-shadow: 2pt 2pt 4pt #999;\n",
       "  /* unfitted */\n",
       "  background: var(--sklearn-color-unfitted-level-0);\n",
       "  border: .5pt solid var(--sklearn-color-unfitted-level-3);\n",
       "}\n",
       "\n",
       ".sk-estimator-doc-link.fitted span {\n",
       "  /* fitted */\n",
       "  background: var(--sklearn-color-fitted-level-0);\n",
       "  border: var(--sklearn-color-fitted-level-3);\n",
       "}\n",
       "\n",
       ".sk-estimator-doc-link:hover span {\n",
       "  display: block;\n",
       "}\n",
       "\n",
       "/* \"?\"-specific style due to the `<a>` HTML tag */\n",
       "\n",
       "#sk-container-id-4 a.estimator_doc_link {\n",
       "  float: right;\n",
       "  font-size: 1rem;\n",
       "  line-height: 1em;\n",
       "  font-family: monospace;\n",
       "  background-color: var(--sklearn-color-background);\n",
       "  border-radius: 1rem;\n",
       "  height: 1rem;\n",
       "  width: 1rem;\n",
       "  text-decoration: none;\n",
       "  /* unfitted */\n",
       "  color: var(--sklearn-color-unfitted-level-1);\n",
       "  border: var(--sklearn-color-unfitted-level-1) 1pt solid;\n",
       "}\n",
       "\n",
       "#sk-container-id-4 a.estimator_doc_link.fitted {\n",
       "  /* fitted */\n",
       "  border: var(--sklearn-color-fitted-level-1) 1pt solid;\n",
       "  color: var(--sklearn-color-fitted-level-1);\n",
       "}\n",
       "\n",
       "/* On hover */\n",
       "#sk-container-id-4 a.estimator_doc_link:hover {\n",
       "  /* unfitted */\n",
       "  background-color: var(--sklearn-color-unfitted-level-3);\n",
       "  color: var(--sklearn-color-background);\n",
       "  text-decoration: none;\n",
       "}\n",
       "\n",
       "#sk-container-id-4 a.estimator_doc_link.fitted:hover {\n",
       "  /* fitted */\n",
       "  background-color: var(--sklearn-color-fitted-level-3);\n",
       "}\n",
       "</style><div id=\"sk-container-id-4\" class=\"sk-top-container\"><div class=\"sk-text-repr-fallback\"><pre>Pipeline(steps=[(&#x27;preprocessor&#x27;,\n",
       "                 ColumnTransformer(remainder=&#x27;passthrough&#x27;,\n",
       "                                   transformers=[(&#x27;num&#x27;, StandardScaler(),\n",
       "                                                  [&#x27;bedRoom&#x27;, &#x27;bathroom&#x27;,\n",
       "                                                   &#x27;built_up_area&#x27;,\n",
       "                                                   &#x27;servant room&#x27;,\n",
       "                                                   &#x27;store room&#x27;]),\n",
       "                                                 (&#x27;cat&#x27;, OrdinalEncoder(),\n",
       "                                                  [&#x27;property_type&#x27;, &#x27;sector&#x27;,\n",
       "                                                   &#x27;balcony&#x27;, &#x27;agePossession&#x27;,\n",
       "                                                   &#x27;furnishing_type&#x27;,\n",
       "                                                   &#x27;luxury_category&#x27;,\n",
       "                                                   &#x27;floor_category&#x27;]),\n",
       "                                                 (&#x27;cat1&#x27;,\n",
       "                                                  OneHotEncoder(drop=&#x27;first&#x27;,\n",
       "                                                                sparse_output=False),\n",
       "                                                  [&#x27;agePossession&#x27;]),\n",
       "                                                 (&#x27;target_enc&#x27;, TargetEncoder(),\n",
       "                                                  [&#x27;sector&#x27;])])),\n",
       "                (&#x27;regressor&#x27;,\n",
       "                 RandomForestRegressor(max_depth=30, max_features=&#x27;sqrt&#x27;,\n",
       "                                       max_samples=1.0, n_estimators=300))])</pre><b>In a Jupyter environment, please rerun this cell to show the HTML representation or trust the notebook. <br />On GitHub, the HTML representation is unable to render, please try loading this page with nbviewer.org.</b></div><div class=\"sk-container\" hidden><div class=\"sk-item sk-dashed-wrapped\"><div class=\"sk-label-container\"><div class=\"sk-label fitted sk-toggleable\"><input class=\"sk-toggleable__control sk-hidden--visually\" id=\"sk-estimator-id-35\" type=\"checkbox\" ><label for=\"sk-estimator-id-35\" class=\"sk-toggleable__label fitted sk-toggleable__label-arrow fitted\">&nbsp;&nbsp;Pipeline<a class=\"sk-estimator-doc-link fitted\" rel=\"noreferrer\" target=\"_blank\" href=\"https://scikit-learn.org/1.5/modules/generated/sklearn.pipeline.Pipeline.html\">?<span>Documentation for Pipeline</span></a><span class=\"sk-estimator-doc-link fitted\">i<span>Fitted</span></span></label><div class=\"sk-toggleable__content fitted\"><pre>Pipeline(steps=[(&#x27;preprocessor&#x27;,\n",
       "                 ColumnTransformer(remainder=&#x27;passthrough&#x27;,\n",
       "                                   transformers=[(&#x27;num&#x27;, StandardScaler(),\n",
       "                                                  [&#x27;bedRoom&#x27;, &#x27;bathroom&#x27;,\n",
       "                                                   &#x27;built_up_area&#x27;,\n",
       "                                                   &#x27;servant room&#x27;,\n",
       "                                                   &#x27;store room&#x27;]),\n",
       "                                                 (&#x27;cat&#x27;, OrdinalEncoder(),\n",
       "                                                  [&#x27;property_type&#x27;, &#x27;sector&#x27;,\n",
       "                                                   &#x27;balcony&#x27;, &#x27;agePossession&#x27;,\n",
       "                                                   &#x27;furnishing_type&#x27;,\n",
       "                                                   &#x27;luxury_category&#x27;,\n",
       "                                                   &#x27;floor_category&#x27;]),\n",
       "                                                 (&#x27;cat1&#x27;,\n",
       "                                                  OneHotEncoder(drop=&#x27;first&#x27;,\n",
       "                                                                sparse_output=False),\n",
       "                                                  [&#x27;agePossession&#x27;]),\n",
       "                                                 (&#x27;target_enc&#x27;, TargetEncoder(),\n",
       "                                                  [&#x27;sector&#x27;])])),\n",
       "                (&#x27;regressor&#x27;,\n",
       "                 RandomForestRegressor(max_depth=30, max_features=&#x27;sqrt&#x27;,\n",
       "                                       max_samples=1.0, n_estimators=300))])</pre></div> </div></div><div class=\"sk-serial\"><div class=\"sk-item sk-dashed-wrapped\"><div class=\"sk-label-container\"><div class=\"sk-label fitted sk-toggleable\"><input class=\"sk-toggleable__control sk-hidden--visually\" id=\"sk-estimator-id-36\" type=\"checkbox\" ><label for=\"sk-estimator-id-36\" class=\"sk-toggleable__label fitted sk-toggleable__label-arrow fitted\">&nbsp;preprocessor: ColumnTransformer<a class=\"sk-estimator-doc-link fitted\" rel=\"noreferrer\" target=\"_blank\" href=\"https://scikit-learn.org/1.5/modules/generated/sklearn.compose.ColumnTransformer.html\">?<span>Documentation for preprocessor: ColumnTransformer</span></a></label><div class=\"sk-toggleable__content fitted\"><pre>ColumnTransformer(remainder=&#x27;passthrough&#x27;,\n",
       "                  transformers=[(&#x27;num&#x27;, StandardScaler(),\n",
       "                                 [&#x27;bedRoom&#x27;, &#x27;bathroom&#x27;, &#x27;built_up_area&#x27;,\n",
       "                                  &#x27;servant room&#x27;, &#x27;store room&#x27;]),\n",
       "                                (&#x27;cat&#x27;, OrdinalEncoder(),\n",
       "                                 [&#x27;property_type&#x27;, &#x27;sector&#x27;, &#x27;balcony&#x27;,\n",
       "                                  &#x27;agePossession&#x27;, &#x27;furnishing_type&#x27;,\n",
       "                                  &#x27;luxury_category&#x27;, &#x27;floor_category&#x27;]),\n",
       "                                (&#x27;cat1&#x27;,\n",
       "                                 OneHotEncoder(drop=&#x27;first&#x27;,\n",
       "                                               sparse_output=False),\n",
       "                                 [&#x27;agePossession&#x27;]),\n",
       "                                (&#x27;target_enc&#x27;, TargetEncoder(), [&#x27;sector&#x27;])])</pre></div> </div></div><div class=\"sk-parallel\"><div class=\"sk-parallel-item\"><div class=\"sk-item\"><div class=\"sk-label-container\"><div class=\"sk-label fitted sk-toggleable\"><input class=\"sk-toggleable__control sk-hidden--visually\" id=\"sk-estimator-id-37\" type=\"checkbox\" ><label for=\"sk-estimator-id-37\" class=\"sk-toggleable__label fitted sk-toggleable__label-arrow fitted\">num</label><div class=\"sk-toggleable__content fitted\"><pre>[&#x27;bedRoom&#x27;, &#x27;bathroom&#x27;, &#x27;built_up_area&#x27;, &#x27;servant room&#x27;, &#x27;store room&#x27;]</pre></div> </div></div><div class=\"sk-serial\"><div class=\"sk-item\"><div class=\"sk-estimator fitted sk-toggleable\"><input class=\"sk-toggleable__control sk-hidden--visually\" id=\"sk-estimator-id-38\" type=\"checkbox\" ><label for=\"sk-estimator-id-38\" class=\"sk-toggleable__label fitted sk-toggleable__label-arrow fitted\">&nbsp;StandardScaler<a class=\"sk-estimator-doc-link fitted\" rel=\"noreferrer\" target=\"_blank\" href=\"https://scikit-learn.org/1.5/modules/generated/sklearn.preprocessing.StandardScaler.html\">?<span>Documentation for StandardScaler</span></a></label><div class=\"sk-toggleable__content fitted\"><pre>StandardScaler()</pre></div> </div></div></div></div></div><div class=\"sk-parallel-item\"><div class=\"sk-item\"><div class=\"sk-label-container\"><div class=\"sk-label fitted sk-toggleable\"><input class=\"sk-toggleable__control sk-hidden--visually\" id=\"sk-estimator-id-39\" type=\"checkbox\" ><label for=\"sk-estimator-id-39\" class=\"sk-toggleable__label fitted sk-toggleable__label-arrow fitted\">cat</label><div class=\"sk-toggleable__content fitted\"><pre>[&#x27;property_type&#x27;, &#x27;sector&#x27;, &#x27;balcony&#x27;, &#x27;agePossession&#x27;, &#x27;furnishing_type&#x27;, &#x27;luxury_category&#x27;, &#x27;floor_category&#x27;]</pre></div> </div></div><div class=\"sk-serial\"><div class=\"sk-item\"><div class=\"sk-estimator fitted sk-toggleable\"><input class=\"sk-toggleable__control sk-hidden--visually\" id=\"sk-estimator-id-40\" type=\"checkbox\" ><label for=\"sk-estimator-id-40\" class=\"sk-toggleable__label fitted sk-toggleable__label-arrow fitted\">&nbsp;OrdinalEncoder<a class=\"sk-estimator-doc-link fitted\" rel=\"noreferrer\" target=\"_blank\" href=\"https://scikit-learn.org/1.5/modules/generated/sklearn.preprocessing.OrdinalEncoder.html\">?<span>Documentation for OrdinalEncoder</span></a></label><div class=\"sk-toggleable__content fitted\"><pre>OrdinalEncoder()</pre></div> </div></div></div></div></div><div class=\"sk-parallel-item\"><div class=\"sk-item\"><div class=\"sk-label-container\"><div class=\"sk-label fitted sk-toggleable\"><input class=\"sk-toggleable__control sk-hidden--visually\" id=\"sk-estimator-id-41\" type=\"checkbox\" ><label for=\"sk-estimator-id-41\" class=\"sk-toggleable__label fitted sk-toggleable__label-arrow fitted\">cat1</label><div class=\"sk-toggleable__content fitted\"><pre>[&#x27;agePossession&#x27;]</pre></div> </div></div><div class=\"sk-serial\"><div class=\"sk-item\"><div class=\"sk-estimator fitted sk-toggleable\"><input class=\"sk-toggleable__control sk-hidden--visually\" id=\"sk-estimator-id-42\" type=\"checkbox\" ><label for=\"sk-estimator-id-42\" class=\"sk-toggleable__label fitted sk-toggleable__label-arrow fitted\">&nbsp;OneHotEncoder<a class=\"sk-estimator-doc-link fitted\" rel=\"noreferrer\" target=\"_blank\" href=\"https://scikit-learn.org/1.5/modules/generated/sklearn.preprocessing.OneHotEncoder.html\">?<span>Documentation for OneHotEncoder</span></a></label><div class=\"sk-toggleable__content fitted\"><pre>OneHotEncoder(drop=&#x27;first&#x27;, sparse_output=False)</pre></div> </div></div></div></div></div><div class=\"sk-parallel-item\"><div class=\"sk-item\"><div class=\"sk-label-container\"><div class=\"sk-label fitted sk-toggleable\"><input class=\"sk-toggleable__control sk-hidden--visually\" id=\"sk-estimator-id-43\" type=\"checkbox\" ><label for=\"sk-estimator-id-43\" class=\"sk-toggleable__label fitted sk-toggleable__label-arrow fitted\">target_enc</label><div class=\"sk-toggleable__content fitted\"><pre>[&#x27;sector&#x27;]</pre></div> </div></div><div class=\"sk-serial\"><div class=\"sk-item\"><div class=\"sk-estimator fitted sk-toggleable\"><input class=\"sk-toggleable__control sk-hidden--visually\" id=\"sk-estimator-id-44\" type=\"checkbox\" ><label for=\"sk-estimator-id-44\" class=\"sk-toggleable__label fitted sk-toggleable__label-arrow fitted\">TargetEncoder</label><div class=\"sk-toggleable__content fitted\"><pre>TargetEncoder()</pre></div> </div></div></div></div></div><div class=\"sk-parallel-item\"><div class=\"sk-item\"><div class=\"sk-label-container\"><div class=\"sk-label fitted sk-toggleable\"><input class=\"sk-toggleable__control sk-hidden--visually\" id=\"sk-estimator-id-45\" type=\"checkbox\" ><label for=\"sk-estimator-id-45\" class=\"sk-toggleable__label fitted sk-toggleable__label-arrow fitted\">remainder</label><div class=\"sk-toggleable__content fitted\"><pre>[]</pre></div> </div></div><div class=\"sk-serial\"><div class=\"sk-item\"><div class=\"sk-estimator fitted sk-toggleable\"><input class=\"sk-toggleable__control sk-hidden--visually\" id=\"sk-estimator-id-46\" type=\"checkbox\" ><label for=\"sk-estimator-id-46\" class=\"sk-toggleable__label fitted sk-toggleable__label-arrow fitted\">passthrough</label><div class=\"sk-toggleable__content fitted\"><pre>passthrough</pre></div> </div></div></div></div></div></div></div><div class=\"sk-item\"><div class=\"sk-estimator fitted sk-toggleable\"><input class=\"sk-toggleable__control sk-hidden--visually\" id=\"sk-estimator-id-47\" type=\"checkbox\" ><label for=\"sk-estimator-id-47\" class=\"sk-toggleable__label fitted sk-toggleable__label-arrow fitted\">&nbsp;RandomForestRegressor<a class=\"sk-estimator-doc-link fitted\" rel=\"noreferrer\" target=\"_blank\" href=\"https://scikit-learn.org/1.5/modules/generated/sklearn.ensemble.RandomForestRegressor.html\">?<span>Documentation for RandomForestRegressor</span></a></label><div class=\"sk-toggleable__content fitted\"><pre>RandomForestRegressor(max_depth=30, max_features=&#x27;sqrt&#x27;, max_samples=1.0,\n",
       "                      n_estimators=300)</pre></div> </div></div></div></div></div></div>"
      ],
      "text/plain": [
       "Pipeline(steps=[('preprocessor',\n",
       "                 ColumnTransformer(remainder='passthrough',\n",
       "                                   transformers=[('num', StandardScaler(),\n",
       "                                                  ['bedRoom', 'bathroom',\n",
       "                                                   'built_up_area',\n",
       "                                                   'servant room',\n",
       "                                                   'store room']),\n",
       "                                                 ('cat', OrdinalEncoder(),\n",
       "                                                  ['property_type', 'sector',\n",
       "                                                   'balcony', 'agePossession',\n",
       "                                                   'furnishing_type',\n",
       "                                                   'luxury_category',\n",
       "                                                   'floor_category']),\n",
       "                                                 ('cat1',\n",
       "                                                  OneHotEncoder(drop='first',\n",
       "                                                                sparse_output=False),\n",
       "                                                  ['agePossession']),\n",
       "                                                 ('target_enc', TargetEncoder(),\n",
       "                                                  ['sector'])])),\n",
       "                ('regressor',\n",
       "                 RandomForestRegressor(max_depth=30, max_features='sqrt',\n",
       "                                       max_samples=1.0, n_estimators=300))])"
      ]
     },
     "execution_count": 75,
     "metadata": {},
     "output_type": "execute_result"
    }
   ],
   "source": [
    "final_pipe.fit(X,y_transformed)"
   ]
  },
  {
   "cell_type": "markdown",
   "id": "fbf98781",
   "metadata": {},
   "source": [
    "### Exporting the model"
   ]
  },
  {
   "cell_type": "code",
   "execution_count": 76,
   "id": "042d9738",
   "metadata": {},
   "outputs": [],
   "source": [
    "preprocessor = ColumnTransformer(\n",
    "    transformers=[\n",
    "        ('num', StandardScaler(), ['bedRoom', 'bathroom', 'built_up_area', 'servant room', 'store room']),\n",
    "        ('cat', OrdinalEncoder(), columns_to_encode),\n",
    "        ('cat1',OneHotEncoder(drop='first',sparse_output=False),['sector','agePossession'])\n",
    "    ], \n",
    "    remainder='passthrough'\n",
    ")"
   ]
  },
  {
   "cell_type": "code",
   "execution_count": 77,
   "id": "c4b5c7cd",
   "metadata": {},
   "outputs": [],
   "source": [
    "pipeline = Pipeline([\n",
    "    ('preprocessor', preprocessor),\n",
    "    ('regressor', RandomForestRegressor(n_estimators=500))\n",
    "])"
   ]
  },
  {
   "cell_type": "code",
   "execution_count": 78,
   "id": "b19d656f",
   "metadata": {},
   "outputs": [
    {
     "data": {
      "text/html": [
       "<style>#sk-container-id-5 {\n",
       "  /* Definition of color scheme common for light and dark mode */\n",
       "  --sklearn-color-text: black;\n",
       "  --sklearn-color-line: gray;\n",
       "  /* Definition of color scheme for unfitted estimators */\n",
       "  --sklearn-color-unfitted-level-0: #fff5e6;\n",
       "  --sklearn-color-unfitted-level-1: #f6e4d2;\n",
       "  --sklearn-color-unfitted-level-2: #ffe0b3;\n",
       "  --sklearn-color-unfitted-level-3: chocolate;\n",
       "  /* Definition of color scheme for fitted estimators */\n",
       "  --sklearn-color-fitted-level-0: #f0f8ff;\n",
       "  --sklearn-color-fitted-level-1: #d4ebff;\n",
       "  --sklearn-color-fitted-level-2: #b3dbfd;\n",
       "  --sklearn-color-fitted-level-3: cornflowerblue;\n",
       "\n",
       "  /* Specific color for light theme */\n",
       "  --sklearn-color-text-on-default-background: var(--sg-text-color, var(--theme-code-foreground, var(--jp-content-font-color1, black)));\n",
       "  --sklearn-color-background: var(--sg-background-color, var(--theme-background, var(--jp-layout-color0, white)));\n",
       "  --sklearn-color-border-box: var(--sg-text-color, var(--theme-code-foreground, var(--jp-content-font-color1, black)));\n",
       "  --sklearn-color-icon: #696969;\n",
       "\n",
       "  @media (prefers-color-scheme: dark) {\n",
       "    /* Redefinition of color scheme for dark theme */\n",
       "    --sklearn-color-text-on-default-background: var(--sg-text-color, var(--theme-code-foreground, var(--jp-content-font-color1, white)));\n",
       "    --sklearn-color-background: var(--sg-background-color, var(--theme-background, var(--jp-layout-color0, #111)));\n",
       "    --sklearn-color-border-box: var(--sg-text-color, var(--theme-code-foreground, var(--jp-content-font-color1, white)));\n",
       "    --sklearn-color-icon: #878787;\n",
       "  }\n",
       "}\n",
       "\n",
       "#sk-container-id-5 {\n",
       "  color: var(--sklearn-color-text);\n",
       "}\n",
       "\n",
       "#sk-container-id-5 pre {\n",
       "  padding: 0;\n",
       "}\n",
       "\n",
       "#sk-container-id-5 input.sk-hidden--visually {\n",
       "  border: 0;\n",
       "  clip: rect(1px 1px 1px 1px);\n",
       "  clip: rect(1px, 1px, 1px, 1px);\n",
       "  height: 1px;\n",
       "  margin: -1px;\n",
       "  overflow: hidden;\n",
       "  padding: 0;\n",
       "  position: absolute;\n",
       "  width: 1px;\n",
       "}\n",
       "\n",
       "#sk-container-id-5 div.sk-dashed-wrapped {\n",
       "  border: 1px dashed var(--sklearn-color-line);\n",
       "  margin: 0 0.4em 0.5em 0.4em;\n",
       "  box-sizing: border-box;\n",
       "  padding-bottom: 0.4em;\n",
       "  background-color: var(--sklearn-color-background);\n",
       "}\n",
       "\n",
       "#sk-container-id-5 div.sk-container {\n",
       "  /* jupyter's `normalize.less` sets `[hidden] { display: none; }`\n",
       "     but bootstrap.min.css set `[hidden] { display: none !important; }`\n",
       "     so we also need the `!important` here to be able to override the\n",
       "     default hidden behavior on the sphinx rendered scikit-learn.org.\n",
       "     See: https://github.com/scikit-learn/scikit-learn/issues/21755 */\n",
       "  display: inline-block !important;\n",
       "  position: relative;\n",
       "}\n",
       "\n",
       "#sk-container-id-5 div.sk-text-repr-fallback {\n",
       "  display: none;\n",
       "}\n",
       "\n",
       "div.sk-parallel-item,\n",
       "div.sk-serial,\n",
       "div.sk-item {\n",
       "  /* draw centered vertical line to link estimators */\n",
       "  background-image: linear-gradient(var(--sklearn-color-text-on-default-background), var(--sklearn-color-text-on-default-background));\n",
       "  background-size: 2px 100%;\n",
       "  background-repeat: no-repeat;\n",
       "  background-position: center center;\n",
       "}\n",
       "\n",
       "/* Parallel-specific style estimator block */\n",
       "\n",
       "#sk-container-id-5 div.sk-parallel-item::after {\n",
       "  content: \"\";\n",
       "  width: 100%;\n",
       "  border-bottom: 2px solid var(--sklearn-color-text-on-default-background);\n",
       "  flex-grow: 1;\n",
       "}\n",
       "\n",
       "#sk-container-id-5 div.sk-parallel {\n",
       "  display: flex;\n",
       "  align-items: stretch;\n",
       "  justify-content: center;\n",
       "  background-color: var(--sklearn-color-background);\n",
       "  position: relative;\n",
       "}\n",
       "\n",
       "#sk-container-id-5 div.sk-parallel-item {\n",
       "  display: flex;\n",
       "  flex-direction: column;\n",
       "}\n",
       "\n",
       "#sk-container-id-5 div.sk-parallel-item:first-child::after {\n",
       "  align-self: flex-end;\n",
       "  width: 50%;\n",
       "}\n",
       "\n",
       "#sk-container-id-5 div.sk-parallel-item:last-child::after {\n",
       "  align-self: flex-start;\n",
       "  width: 50%;\n",
       "}\n",
       "\n",
       "#sk-container-id-5 div.sk-parallel-item:only-child::after {\n",
       "  width: 0;\n",
       "}\n",
       "\n",
       "/* Serial-specific style estimator block */\n",
       "\n",
       "#sk-container-id-5 div.sk-serial {\n",
       "  display: flex;\n",
       "  flex-direction: column;\n",
       "  align-items: center;\n",
       "  background-color: var(--sklearn-color-background);\n",
       "  padding-right: 1em;\n",
       "  padding-left: 1em;\n",
       "}\n",
       "\n",
       "\n",
       "/* Toggleable style: style used for estimator/Pipeline/ColumnTransformer box that is\n",
       "clickable and can be expanded/collapsed.\n",
       "- Pipeline and ColumnTransformer use this feature and define the default style\n",
       "- Estimators will overwrite some part of the style using the `sk-estimator` class\n",
       "*/\n",
       "\n",
       "/* Pipeline and ColumnTransformer style (default) */\n",
       "\n",
       "#sk-container-id-5 div.sk-toggleable {\n",
       "  /* Default theme specific background. It is overwritten whether we have a\n",
       "  specific estimator or a Pipeline/ColumnTransformer */\n",
       "  background-color: var(--sklearn-color-background);\n",
       "}\n",
       "\n",
       "/* Toggleable label */\n",
       "#sk-container-id-5 label.sk-toggleable__label {\n",
       "  cursor: pointer;\n",
       "  display: block;\n",
       "  width: 100%;\n",
       "  margin-bottom: 0;\n",
       "  padding: 0.5em;\n",
       "  box-sizing: border-box;\n",
       "  text-align: center;\n",
       "}\n",
       "\n",
       "#sk-container-id-5 label.sk-toggleable__label-arrow:before {\n",
       "  /* Arrow on the left of the label */\n",
       "  content: \"▸\";\n",
       "  float: left;\n",
       "  margin-right: 0.25em;\n",
       "  color: var(--sklearn-color-icon);\n",
       "}\n",
       "\n",
       "#sk-container-id-5 label.sk-toggleable__label-arrow:hover:before {\n",
       "  color: var(--sklearn-color-text);\n",
       "}\n",
       "\n",
       "/* Toggleable content - dropdown */\n",
       "\n",
       "#sk-container-id-5 div.sk-toggleable__content {\n",
       "  max-height: 0;\n",
       "  max-width: 0;\n",
       "  overflow: hidden;\n",
       "  text-align: left;\n",
       "  /* unfitted */\n",
       "  background-color: var(--sklearn-color-unfitted-level-0);\n",
       "}\n",
       "\n",
       "#sk-container-id-5 div.sk-toggleable__content.fitted {\n",
       "  /* fitted */\n",
       "  background-color: var(--sklearn-color-fitted-level-0);\n",
       "}\n",
       "\n",
       "#sk-container-id-5 div.sk-toggleable__content pre {\n",
       "  margin: 0.2em;\n",
       "  border-radius: 0.25em;\n",
       "  color: var(--sklearn-color-text);\n",
       "  /* unfitted */\n",
       "  background-color: var(--sklearn-color-unfitted-level-0);\n",
       "}\n",
       "\n",
       "#sk-container-id-5 div.sk-toggleable__content.fitted pre {\n",
       "  /* unfitted */\n",
       "  background-color: var(--sklearn-color-fitted-level-0);\n",
       "}\n",
       "\n",
       "#sk-container-id-5 input.sk-toggleable__control:checked~div.sk-toggleable__content {\n",
       "  /* Expand drop-down */\n",
       "  max-height: 200px;\n",
       "  max-width: 100%;\n",
       "  overflow: auto;\n",
       "}\n",
       "\n",
       "#sk-container-id-5 input.sk-toggleable__control:checked~label.sk-toggleable__label-arrow:before {\n",
       "  content: \"▾\";\n",
       "}\n",
       "\n",
       "/* Pipeline/ColumnTransformer-specific style */\n",
       "\n",
       "#sk-container-id-5 div.sk-label input.sk-toggleable__control:checked~label.sk-toggleable__label {\n",
       "  color: var(--sklearn-color-text);\n",
       "  background-color: var(--sklearn-color-unfitted-level-2);\n",
       "}\n",
       "\n",
       "#sk-container-id-5 div.sk-label.fitted input.sk-toggleable__control:checked~label.sk-toggleable__label {\n",
       "  background-color: var(--sklearn-color-fitted-level-2);\n",
       "}\n",
       "\n",
       "/* Estimator-specific style */\n",
       "\n",
       "/* Colorize estimator box */\n",
       "#sk-container-id-5 div.sk-estimator input.sk-toggleable__control:checked~label.sk-toggleable__label {\n",
       "  /* unfitted */\n",
       "  background-color: var(--sklearn-color-unfitted-level-2);\n",
       "}\n",
       "\n",
       "#sk-container-id-5 div.sk-estimator.fitted input.sk-toggleable__control:checked~label.sk-toggleable__label {\n",
       "  /* fitted */\n",
       "  background-color: var(--sklearn-color-fitted-level-2);\n",
       "}\n",
       "\n",
       "#sk-container-id-5 div.sk-label label.sk-toggleable__label,\n",
       "#sk-container-id-5 div.sk-label label {\n",
       "  /* The background is the default theme color */\n",
       "  color: var(--sklearn-color-text-on-default-background);\n",
       "}\n",
       "\n",
       "/* On hover, darken the color of the background */\n",
       "#sk-container-id-5 div.sk-label:hover label.sk-toggleable__label {\n",
       "  color: var(--sklearn-color-text);\n",
       "  background-color: var(--sklearn-color-unfitted-level-2);\n",
       "}\n",
       "\n",
       "/* Label box, darken color on hover, fitted */\n",
       "#sk-container-id-5 div.sk-label.fitted:hover label.sk-toggleable__label.fitted {\n",
       "  color: var(--sklearn-color-text);\n",
       "  background-color: var(--sklearn-color-fitted-level-2);\n",
       "}\n",
       "\n",
       "/* Estimator label */\n",
       "\n",
       "#sk-container-id-5 div.sk-label label {\n",
       "  font-family: monospace;\n",
       "  font-weight: bold;\n",
       "  display: inline-block;\n",
       "  line-height: 1.2em;\n",
       "}\n",
       "\n",
       "#sk-container-id-5 div.sk-label-container {\n",
       "  text-align: center;\n",
       "}\n",
       "\n",
       "/* Estimator-specific */\n",
       "#sk-container-id-5 div.sk-estimator {\n",
       "  font-family: monospace;\n",
       "  border: 1px dotted var(--sklearn-color-border-box);\n",
       "  border-radius: 0.25em;\n",
       "  box-sizing: border-box;\n",
       "  margin-bottom: 0.5em;\n",
       "  /* unfitted */\n",
       "  background-color: var(--sklearn-color-unfitted-level-0);\n",
       "}\n",
       "\n",
       "#sk-container-id-5 div.sk-estimator.fitted {\n",
       "  /* fitted */\n",
       "  background-color: var(--sklearn-color-fitted-level-0);\n",
       "}\n",
       "\n",
       "/* on hover */\n",
       "#sk-container-id-5 div.sk-estimator:hover {\n",
       "  /* unfitted */\n",
       "  background-color: var(--sklearn-color-unfitted-level-2);\n",
       "}\n",
       "\n",
       "#sk-container-id-5 div.sk-estimator.fitted:hover {\n",
       "  /* fitted */\n",
       "  background-color: var(--sklearn-color-fitted-level-2);\n",
       "}\n",
       "\n",
       "/* Specification for estimator info (e.g. \"i\" and \"?\") */\n",
       "\n",
       "/* Common style for \"i\" and \"?\" */\n",
       "\n",
       ".sk-estimator-doc-link,\n",
       "a:link.sk-estimator-doc-link,\n",
       "a:visited.sk-estimator-doc-link {\n",
       "  float: right;\n",
       "  font-size: smaller;\n",
       "  line-height: 1em;\n",
       "  font-family: monospace;\n",
       "  background-color: var(--sklearn-color-background);\n",
       "  border-radius: 1em;\n",
       "  height: 1em;\n",
       "  width: 1em;\n",
       "  text-decoration: none !important;\n",
       "  margin-left: 1ex;\n",
       "  /* unfitted */\n",
       "  border: var(--sklearn-color-unfitted-level-1) 1pt solid;\n",
       "  color: var(--sklearn-color-unfitted-level-1);\n",
       "}\n",
       "\n",
       ".sk-estimator-doc-link.fitted,\n",
       "a:link.sk-estimator-doc-link.fitted,\n",
       "a:visited.sk-estimator-doc-link.fitted {\n",
       "  /* fitted */\n",
       "  border: var(--sklearn-color-fitted-level-1) 1pt solid;\n",
       "  color: var(--sklearn-color-fitted-level-1);\n",
       "}\n",
       "\n",
       "/* On hover */\n",
       "div.sk-estimator:hover .sk-estimator-doc-link:hover,\n",
       ".sk-estimator-doc-link:hover,\n",
       "div.sk-label-container:hover .sk-estimator-doc-link:hover,\n",
       ".sk-estimator-doc-link:hover {\n",
       "  /* unfitted */\n",
       "  background-color: var(--sklearn-color-unfitted-level-3);\n",
       "  color: var(--sklearn-color-background);\n",
       "  text-decoration: none;\n",
       "}\n",
       "\n",
       "div.sk-estimator.fitted:hover .sk-estimator-doc-link.fitted:hover,\n",
       ".sk-estimator-doc-link.fitted:hover,\n",
       "div.sk-label-container:hover .sk-estimator-doc-link.fitted:hover,\n",
       ".sk-estimator-doc-link.fitted:hover {\n",
       "  /* fitted */\n",
       "  background-color: var(--sklearn-color-fitted-level-3);\n",
       "  color: var(--sklearn-color-background);\n",
       "  text-decoration: none;\n",
       "}\n",
       "\n",
       "/* Span, style for the box shown on hovering the info icon */\n",
       ".sk-estimator-doc-link span {\n",
       "  display: none;\n",
       "  z-index: 9999;\n",
       "  position: relative;\n",
       "  font-weight: normal;\n",
       "  right: .2ex;\n",
       "  padding: .5ex;\n",
       "  margin: .5ex;\n",
       "  width: min-content;\n",
       "  min-width: 20ex;\n",
       "  max-width: 50ex;\n",
       "  color: var(--sklearn-color-text);\n",
       "  box-shadow: 2pt 2pt 4pt #999;\n",
       "  /* unfitted */\n",
       "  background: var(--sklearn-color-unfitted-level-0);\n",
       "  border: .5pt solid var(--sklearn-color-unfitted-level-3);\n",
       "}\n",
       "\n",
       ".sk-estimator-doc-link.fitted span {\n",
       "  /* fitted */\n",
       "  background: var(--sklearn-color-fitted-level-0);\n",
       "  border: var(--sklearn-color-fitted-level-3);\n",
       "}\n",
       "\n",
       ".sk-estimator-doc-link:hover span {\n",
       "  display: block;\n",
       "}\n",
       "\n",
       "/* \"?\"-specific style due to the `<a>` HTML tag */\n",
       "\n",
       "#sk-container-id-5 a.estimator_doc_link {\n",
       "  float: right;\n",
       "  font-size: 1rem;\n",
       "  line-height: 1em;\n",
       "  font-family: monospace;\n",
       "  background-color: var(--sklearn-color-background);\n",
       "  border-radius: 1rem;\n",
       "  height: 1rem;\n",
       "  width: 1rem;\n",
       "  text-decoration: none;\n",
       "  /* unfitted */\n",
       "  color: var(--sklearn-color-unfitted-level-1);\n",
       "  border: var(--sklearn-color-unfitted-level-1) 1pt solid;\n",
       "}\n",
       "\n",
       "#sk-container-id-5 a.estimator_doc_link.fitted {\n",
       "  /* fitted */\n",
       "  border: var(--sklearn-color-fitted-level-1) 1pt solid;\n",
       "  color: var(--sklearn-color-fitted-level-1);\n",
       "}\n",
       "\n",
       "/* On hover */\n",
       "#sk-container-id-5 a.estimator_doc_link:hover {\n",
       "  /* unfitted */\n",
       "  background-color: var(--sklearn-color-unfitted-level-3);\n",
       "  color: var(--sklearn-color-background);\n",
       "  text-decoration: none;\n",
       "}\n",
       "\n",
       "#sk-container-id-5 a.estimator_doc_link.fitted:hover {\n",
       "  /* fitted */\n",
       "  background-color: var(--sklearn-color-fitted-level-3);\n",
       "}\n",
       "</style><div id=\"sk-container-id-5\" class=\"sk-top-container\"><div class=\"sk-text-repr-fallback\"><pre>Pipeline(steps=[(&#x27;preprocessor&#x27;,\n",
       "                 ColumnTransformer(remainder=&#x27;passthrough&#x27;,\n",
       "                                   transformers=[(&#x27;num&#x27;, StandardScaler(),\n",
       "                                                  [&#x27;bedRoom&#x27;, &#x27;bathroom&#x27;,\n",
       "                                                   &#x27;built_up_area&#x27;,\n",
       "                                                   &#x27;servant room&#x27;,\n",
       "                                                   &#x27;store room&#x27;]),\n",
       "                                                 (&#x27;cat&#x27;, OrdinalEncoder(),\n",
       "                                                  [&#x27;property_type&#x27;, &#x27;sector&#x27;,\n",
       "                                                   &#x27;balcony&#x27;, &#x27;agePossession&#x27;,\n",
       "                                                   &#x27;furnishing_type&#x27;,\n",
       "                                                   &#x27;luxury_category&#x27;,\n",
       "                                                   &#x27;floor_category&#x27;]),\n",
       "                                                 (&#x27;cat1&#x27;,\n",
       "                                                  OneHotEncoder(drop=&#x27;first&#x27;,\n",
       "                                                                sparse_output=False),\n",
       "                                                  [&#x27;sector&#x27;,\n",
       "                                                   &#x27;agePossession&#x27;])])),\n",
       "                (&#x27;regressor&#x27;, RandomForestRegressor(n_estimators=500))])</pre><b>In a Jupyter environment, please rerun this cell to show the HTML representation or trust the notebook. <br />On GitHub, the HTML representation is unable to render, please try loading this page with nbviewer.org.</b></div><div class=\"sk-container\" hidden><div class=\"sk-item sk-dashed-wrapped\"><div class=\"sk-label-container\"><div class=\"sk-label fitted sk-toggleable\"><input class=\"sk-toggleable__control sk-hidden--visually\" id=\"sk-estimator-id-48\" type=\"checkbox\" ><label for=\"sk-estimator-id-48\" class=\"sk-toggleable__label fitted sk-toggleable__label-arrow fitted\">&nbsp;&nbsp;Pipeline<a class=\"sk-estimator-doc-link fitted\" rel=\"noreferrer\" target=\"_blank\" href=\"https://scikit-learn.org/1.5/modules/generated/sklearn.pipeline.Pipeline.html\">?<span>Documentation for Pipeline</span></a><span class=\"sk-estimator-doc-link fitted\">i<span>Fitted</span></span></label><div class=\"sk-toggleable__content fitted\"><pre>Pipeline(steps=[(&#x27;preprocessor&#x27;,\n",
       "                 ColumnTransformer(remainder=&#x27;passthrough&#x27;,\n",
       "                                   transformers=[(&#x27;num&#x27;, StandardScaler(),\n",
       "                                                  [&#x27;bedRoom&#x27;, &#x27;bathroom&#x27;,\n",
       "                                                   &#x27;built_up_area&#x27;,\n",
       "                                                   &#x27;servant room&#x27;,\n",
       "                                                   &#x27;store room&#x27;]),\n",
       "                                                 (&#x27;cat&#x27;, OrdinalEncoder(),\n",
       "                                                  [&#x27;property_type&#x27;, &#x27;sector&#x27;,\n",
       "                                                   &#x27;balcony&#x27;, &#x27;agePossession&#x27;,\n",
       "                                                   &#x27;furnishing_type&#x27;,\n",
       "                                                   &#x27;luxury_category&#x27;,\n",
       "                                                   &#x27;floor_category&#x27;]),\n",
       "                                                 (&#x27;cat1&#x27;,\n",
       "                                                  OneHotEncoder(drop=&#x27;first&#x27;,\n",
       "                                                                sparse_output=False),\n",
       "                                                  [&#x27;sector&#x27;,\n",
       "                                                   &#x27;agePossession&#x27;])])),\n",
       "                (&#x27;regressor&#x27;, RandomForestRegressor(n_estimators=500))])</pre></div> </div></div><div class=\"sk-serial\"><div class=\"sk-item sk-dashed-wrapped\"><div class=\"sk-label-container\"><div class=\"sk-label fitted sk-toggleable\"><input class=\"sk-toggleable__control sk-hidden--visually\" id=\"sk-estimator-id-49\" type=\"checkbox\" ><label for=\"sk-estimator-id-49\" class=\"sk-toggleable__label fitted sk-toggleable__label-arrow fitted\">&nbsp;preprocessor: ColumnTransformer<a class=\"sk-estimator-doc-link fitted\" rel=\"noreferrer\" target=\"_blank\" href=\"https://scikit-learn.org/1.5/modules/generated/sklearn.compose.ColumnTransformer.html\">?<span>Documentation for preprocessor: ColumnTransformer</span></a></label><div class=\"sk-toggleable__content fitted\"><pre>ColumnTransformer(remainder=&#x27;passthrough&#x27;,\n",
       "                  transformers=[(&#x27;num&#x27;, StandardScaler(),\n",
       "                                 [&#x27;bedRoom&#x27;, &#x27;bathroom&#x27;, &#x27;built_up_area&#x27;,\n",
       "                                  &#x27;servant room&#x27;, &#x27;store room&#x27;]),\n",
       "                                (&#x27;cat&#x27;, OrdinalEncoder(),\n",
       "                                 [&#x27;property_type&#x27;, &#x27;sector&#x27;, &#x27;balcony&#x27;,\n",
       "                                  &#x27;agePossession&#x27;, &#x27;furnishing_type&#x27;,\n",
       "                                  &#x27;luxury_category&#x27;, &#x27;floor_category&#x27;]),\n",
       "                                (&#x27;cat1&#x27;,\n",
       "                                 OneHotEncoder(drop=&#x27;first&#x27;,\n",
       "                                               sparse_output=False),\n",
       "                                 [&#x27;sector&#x27;, &#x27;agePossession&#x27;])])</pre></div> </div></div><div class=\"sk-parallel\"><div class=\"sk-parallel-item\"><div class=\"sk-item\"><div class=\"sk-label-container\"><div class=\"sk-label fitted sk-toggleable\"><input class=\"sk-toggleable__control sk-hidden--visually\" id=\"sk-estimator-id-50\" type=\"checkbox\" ><label for=\"sk-estimator-id-50\" class=\"sk-toggleable__label fitted sk-toggleable__label-arrow fitted\">num</label><div class=\"sk-toggleable__content fitted\"><pre>[&#x27;bedRoom&#x27;, &#x27;bathroom&#x27;, &#x27;built_up_area&#x27;, &#x27;servant room&#x27;, &#x27;store room&#x27;]</pre></div> </div></div><div class=\"sk-serial\"><div class=\"sk-item\"><div class=\"sk-estimator fitted sk-toggleable\"><input class=\"sk-toggleable__control sk-hidden--visually\" id=\"sk-estimator-id-51\" type=\"checkbox\" ><label for=\"sk-estimator-id-51\" class=\"sk-toggleable__label fitted sk-toggleable__label-arrow fitted\">&nbsp;StandardScaler<a class=\"sk-estimator-doc-link fitted\" rel=\"noreferrer\" target=\"_blank\" href=\"https://scikit-learn.org/1.5/modules/generated/sklearn.preprocessing.StandardScaler.html\">?<span>Documentation for StandardScaler</span></a></label><div class=\"sk-toggleable__content fitted\"><pre>StandardScaler()</pre></div> </div></div></div></div></div><div class=\"sk-parallel-item\"><div class=\"sk-item\"><div class=\"sk-label-container\"><div class=\"sk-label fitted sk-toggleable\"><input class=\"sk-toggleable__control sk-hidden--visually\" id=\"sk-estimator-id-52\" type=\"checkbox\" ><label for=\"sk-estimator-id-52\" class=\"sk-toggleable__label fitted sk-toggleable__label-arrow fitted\">cat</label><div class=\"sk-toggleable__content fitted\"><pre>[&#x27;property_type&#x27;, &#x27;sector&#x27;, &#x27;balcony&#x27;, &#x27;agePossession&#x27;, &#x27;furnishing_type&#x27;, &#x27;luxury_category&#x27;, &#x27;floor_category&#x27;]</pre></div> </div></div><div class=\"sk-serial\"><div class=\"sk-item\"><div class=\"sk-estimator fitted sk-toggleable\"><input class=\"sk-toggleable__control sk-hidden--visually\" id=\"sk-estimator-id-53\" type=\"checkbox\" ><label for=\"sk-estimator-id-53\" class=\"sk-toggleable__label fitted sk-toggleable__label-arrow fitted\">&nbsp;OrdinalEncoder<a class=\"sk-estimator-doc-link fitted\" rel=\"noreferrer\" target=\"_blank\" href=\"https://scikit-learn.org/1.5/modules/generated/sklearn.preprocessing.OrdinalEncoder.html\">?<span>Documentation for OrdinalEncoder</span></a></label><div class=\"sk-toggleable__content fitted\"><pre>OrdinalEncoder()</pre></div> </div></div></div></div></div><div class=\"sk-parallel-item\"><div class=\"sk-item\"><div class=\"sk-label-container\"><div class=\"sk-label fitted sk-toggleable\"><input class=\"sk-toggleable__control sk-hidden--visually\" id=\"sk-estimator-id-54\" type=\"checkbox\" ><label for=\"sk-estimator-id-54\" class=\"sk-toggleable__label fitted sk-toggleable__label-arrow fitted\">cat1</label><div class=\"sk-toggleable__content fitted\"><pre>[&#x27;sector&#x27;, &#x27;agePossession&#x27;]</pre></div> </div></div><div class=\"sk-serial\"><div class=\"sk-item\"><div class=\"sk-estimator fitted sk-toggleable\"><input class=\"sk-toggleable__control sk-hidden--visually\" id=\"sk-estimator-id-55\" type=\"checkbox\" ><label for=\"sk-estimator-id-55\" class=\"sk-toggleable__label fitted sk-toggleable__label-arrow fitted\">&nbsp;OneHotEncoder<a class=\"sk-estimator-doc-link fitted\" rel=\"noreferrer\" target=\"_blank\" href=\"https://scikit-learn.org/1.5/modules/generated/sklearn.preprocessing.OneHotEncoder.html\">?<span>Documentation for OneHotEncoder</span></a></label><div class=\"sk-toggleable__content fitted\"><pre>OneHotEncoder(drop=&#x27;first&#x27;, sparse_output=False)</pre></div> </div></div></div></div></div><div class=\"sk-parallel-item\"><div class=\"sk-item\"><div class=\"sk-label-container\"><div class=\"sk-label fitted sk-toggleable\"><input class=\"sk-toggleable__control sk-hidden--visually\" id=\"sk-estimator-id-56\" type=\"checkbox\" ><label for=\"sk-estimator-id-56\" class=\"sk-toggleable__label fitted sk-toggleable__label-arrow fitted\">remainder</label><div class=\"sk-toggleable__content fitted\"><pre>[]</pre></div> </div></div><div class=\"sk-serial\"><div class=\"sk-item\"><div class=\"sk-estimator fitted sk-toggleable\"><input class=\"sk-toggleable__control sk-hidden--visually\" id=\"sk-estimator-id-57\" type=\"checkbox\" ><label for=\"sk-estimator-id-57\" class=\"sk-toggleable__label fitted sk-toggleable__label-arrow fitted\">passthrough</label><div class=\"sk-toggleable__content fitted\"><pre>passthrough</pre></div> </div></div></div></div></div></div></div><div class=\"sk-item\"><div class=\"sk-estimator fitted sk-toggleable\"><input class=\"sk-toggleable__control sk-hidden--visually\" id=\"sk-estimator-id-58\" type=\"checkbox\" ><label for=\"sk-estimator-id-58\" class=\"sk-toggleable__label fitted sk-toggleable__label-arrow fitted\">&nbsp;RandomForestRegressor<a class=\"sk-estimator-doc-link fitted\" rel=\"noreferrer\" target=\"_blank\" href=\"https://scikit-learn.org/1.5/modules/generated/sklearn.ensemble.RandomForestRegressor.html\">?<span>Documentation for RandomForestRegressor</span></a></label><div class=\"sk-toggleable__content fitted\"><pre>RandomForestRegressor(n_estimators=500)</pre></div> </div></div></div></div></div></div>"
      ],
      "text/plain": [
       "Pipeline(steps=[('preprocessor',\n",
       "                 ColumnTransformer(remainder='passthrough',\n",
       "                                   transformers=[('num', StandardScaler(),\n",
       "                                                  ['bedRoom', 'bathroom',\n",
       "                                                   'built_up_area',\n",
       "                                                   'servant room',\n",
       "                                                   'store room']),\n",
       "                                                 ('cat', OrdinalEncoder(),\n",
       "                                                  ['property_type', 'sector',\n",
       "                                                   'balcony', 'agePossession',\n",
       "                                                   'furnishing_type',\n",
       "                                                   'luxury_category',\n",
       "                                                   'floor_category']),\n",
       "                                                 ('cat1',\n",
       "                                                  OneHotEncoder(drop='first',\n",
       "                                                                sparse_output=False),\n",
       "                                                  ['sector',\n",
       "                                                   'agePossession'])])),\n",
       "                ('regressor', RandomForestRegressor(n_estimators=500))])"
      ]
     },
     "execution_count": 78,
     "metadata": {},
     "output_type": "execute_result"
    }
   ],
   "source": [
    "pipeline.fit(X,y_transformed)"
   ]
  },
  {
   "cell_type": "code",
   "execution_count": 80,
   "id": "1de3fdae",
   "metadata": {},
   "outputs": [],
   "source": [
    "import pickle\n",
    "\n",
    "with open('../../../models/pipeline.pkl', 'wb') as file:\n",
    "    pickle.dump(pipeline, file)"
   ]
  },
  {
   "cell_type": "code",
   "execution_count": 89,
   "id": "9eacedc3",
   "metadata": {},
   "outputs": [],
   "source": [
    "with open('../../../models/df.pkl', 'wb') as file:\n",
    "    pickle.dump(X, file)"
   ]
  },
  {
   "cell_type": "code",
   "execution_count": 84,
   "id": "d4d4ad2f",
   "metadata": {},
   "outputs": [
    {
     "data": {
      "text/html": [
       "<div>\n",
       "<style scoped>\n",
       "    .dataframe tbody tr th:only-of-type {\n",
       "        vertical-align: middle;\n",
       "    }\n",
       "\n",
       "    .dataframe tbody tr th {\n",
       "        vertical-align: top;\n",
       "    }\n",
       "\n",
       "    .dataframe thead th {\n",
       "        text-align: right;\n",
       "    }\n",
       "</style>\n",
       "<table border=\"1\" class=\"dataframe\">\n",
       "  <thead>\n",
       "    <tr style=\"text-align: right;\">\n",
       "      <th></th>\n",
       "      <th>property_type</th>\n",
       "      <th>sector</th>\n",
       "      <th>bedRoom</th>\n",
       "      <th>bathroom</th>\n",
       "      <th>balcony</th>\n",
       "      <th>agePossession</th>\n",
       "      <th>built_up_area</th>\n",
       "      <th>servant room</th>\n",
       "      <th>store room</th>\n",
       "      <th>furnishing_type</th>\n",
       "      <th>luxury_category</th>\n",
       "      <th>floor_category</th>\n",
       "    </tr>\n",
       "  </thead>\n",
       "  <tbody>\n",
       "    <tr>\n",
       "      <th>0</th>\n",
       "      <td>flat</td>\n",
       "      <td>sector 36</td>\n",
       "      <td>3.0</td>\n",
       "      <td>2.0</td>\n",
       "      <td>2</td>\n",
       "      <td>New Property</td>\n",
       "      <td>850.0</td>\n",
       "      <td>0.0</td>\n",
       "      <td>0.0</td>\n",
       "      <td>unfurnished</td>\n",
       "      <td>Low</td>\n",
       "      <td>Low Floor</td>\n",
       "    </tr>\n",
       "    <tr>\n",
       "      <th>1</th>\n",
       "      <td>flat</td>\n",
       "      <td>sector 89</td>\n",
       "      <td>2.0</td>\n",
       "      <td>2.0</td>\n",
       "      <td>2</td>\n",
       "      <td>New Property</td>\n",
       "      <td>1226.0</td>\n",
       "      <td>1.0</td>\n",
       "      <td>0.0</td>\n",
       "      <td>unfurnished</td>\n",
       "      <td>Low</td>\n",
       "      <td>Mid Floor</td>\n",
       "    </tr>\n",
       "    <tr>\n",
       "      <th>2</th>\n",
       "      <td>flat</td>\n",
       "      <td>sohna road</td>\n",
       "      <td>2.0</td>\n",
       "      <td>2.0</td>\n",
       "      <td>1</td>\n",
       "      <td>New Property</td>\n",
       "      <td>1000.0</td>\n",
       "      <td>0.0</td>\n",
       "      <td>0.0</td>\n",
       "      <td>unfurnished</td>\n",
       "      <td>Low</td>\n",
       "      <td>High Floor</td>\n",
       "    </tr>\n",
       "    <tr>\n",
       "      <th>3</th>\n",
       "      <td>flat</td>\n",
       "      <td>sector 92</td>\n",
       "      <td>3.0</td>\n",
       "      <td>4.0</td>\n",
       "      <td>3+</td>\n",
       "      <td>Relatively New</td>\n",
       "      <td>1615.0</td>\n",
       "      <td>1.0</td>\n",
       "      <td>0.0</td>\n",
       "      <td>semifurnished</td>\n",
       "      <td>High</td>\n",
       "      <td>Mid Floor</td>\n",
       "    </tr>\n",
       "    <tr>\n",
       "      <th>4</th>\n",
       "      <td>flat</td>\n",
       "      <td>sector 102</td>\n",
       "      <td>2.0</td>\n",
       "      <td>2.0</td>\n",
       "      <td>1</td>\n",
       "      <td>Relatively New</td>\n",
       "      <td>582.0</td>\n",
       "      <td>0.0</td>\n",
       "      <td>1.0</td>\n",
       "      <td>unfurnished</td>\n",
       "      <td>High</td>\n",
       "      <td>Mid Floor</td>\n",
       "    </tr>\n",
       "    <tr>\n",
       "      <th>...</th>\n",
       "      <td>...</td>\n",
       "      <td>...</td>\n",
       "      <td>...</td>\n",
       "      <td>...</td>\n",
       "      <td>...</td>\n",
       "      <td>...</td>\n",
       "      <td>...</td>\n",
       "      <td>...</td>\n",
       "      <td>...</td>\n",
       "      <td>...</td>\n",
       "      <td>...</td>\n",
       "      <td>...</td>\n",
       "    </tr>\n",
       "    <tr>\n",
       "      <th>3549</th>\n",
       "      <td>flat</td>\n",
       "      <td>sector 84</td>\n",
       "      <td>2.0</td>\n",
       "      <td>2.0</td>\n",
       "      <td>1</td>\n",
       "      <td>Relatively New</td>\n",
       "      <td>532.0</td>\n",
       "      <td>0.0</td>\n",
       "      <td>0.0</td>\n",
       "      <td>unfurnished</td>\n",
       "      <td>Medium</td>\n",
       "      <td>Mid Floor</td>\n",
       "    </tr>\n",
       "    <tr>\n",
       "      <th>3550</th>\n",
       "      <td>house</td>\n",
       "      <td>sector 109</td>\n",
       "      <td>5.0</td>\n",
       "      <td>5.0</td>\n",
       "      <td>3+</td>\n",
       "      <td>Relatively New</td>\n",
       "      <td>6228.0</td>\n",
       "      <td>1.0</td>\n",
       "      <td>1.0</td>\n",
       "      <td>unfurnished</td>\n",
       "      <td>High</td>\n",
       "      <td>Low Floor</td>\n",
       "    </tr>\n",
       "    <tr>\n",
       "      <th>3551</th>\n",
       "      <td>flat</td>\n",
       "      <td>sector 2</td>\n",
       "      <td>1.0</td>\n",
       "      <td>1.0</td>\n",
       "      <td>1</td>\n",
       "      <td>Moderately Old</td>\n",
       "      <td>665.0</td>\n",
       "      <td>0.0</td>\n",
       "      <td>0.0</td>\n",
       "      <td>semifurnished</td>\n",
       "      <td>Medium</td>\n",
       "      <td>Mid Floor</td>\n",
       "    </tr>\n",
       "    <tr>\n",
       "      <th>3552</th>\n",
       "      <td>house</td>\n",
       "      <td>sector 43</td>\n",
       "      <td>5.0</td>\n",
       "      <td>6.0</td>\n",
       "      <td>3</td>\n",
       "      <td>Moderately Old</td>\n",
       "      <td>5490.0</td>\n",
       "      <td>1.0</td>\n",
       "      <td>1.0</td>\n",
       "      <td>unfurnished</td>\n",
       "      <td>Medium</td>\n",
       "      <td>Mid Floor</td>\n",
       "    </tr>\n",
       "    <tr>\n",
       "      <th>3553</th>\n",
       "      <td>flat</td>\n",
       "      <td>sector 68</td>\n",
       "      <td>3.0</td>\n",
       "      <td>3.0</td>\n",
       "      <td>3+</td>\n",
       "      <td>Relatively New</td>\n",
       "      <td>1845.0</td>\n",
       "      <td>0.0</td>\n",
       "      <td>0.0</td>\n",
       "      <td>semifurnished</td>\n",
       "      <td>Medium</td>\n",
       "      <td>High Floor</td>\n",
       "    </tr>\n",
       "  </tbody>\n",
       "</table>\n",
       "<p>3554 rows × 12 columns</p>\n",
       "</div>"
      ],
      "text/plain": [
       "     property_type      sector  bedRoom  bathroom balcony   agePossession  \\\n",
       "0             flat   sector 36      3.0       2.0       2    New Property   \n",
       "1             flat   sector 89      2.0       2.0       2    New Property   \n",
       "2             flat  sohna road      2.0       2.0       1    New Property   \n",
       "3             flat   sector 92      3.0       4.0      3+  Relatively New   \n",
       "4             flat  sector 102      2.0       2.0       1  Relatively New   \n",
       "...            ...         ...      ...       ...     ...             ...   \n",
       "3549          flat   sector 84      2.0       2.0       1  Relatively New   \n",
       "3550         house  sector 109      5.0       5.0      3+  Relatively New   \n",
       "3551          flat    sector 2      1.0       1.0       1  Moderately Old   \n",
       "3552         house   sector 43      5.0       6.0       3  Moderately Old   \n",
       "3553          flat   sector 68      3.0       3.0      3+  Relatively New   \n",
       "\n",
       "      built_up_area  servant room  store room furnishing_type luxury_category  \\\n",
       "0             850.0           0.0         0.0     unfurnished             Low   \n",
       "1            1226.0           1.0         0.0     unfurnished             Low   \n",
       "2            1000.0           0.0         0.0     unfurnished             Low   \n",
       "3            1615.0           1.0         0.0   semifurnished            High   \n",
       "4             582.0           0.0         1.0     unfurnished            High   \n",
       "...             ...           ...         ...             ...             ...   \n",
       "3549          532.0           0.0         0.0     unfurnished          Medium   \n",
       "3550         6228.0           1.0         1.0     unfurnished            High   \n",
       "3551          665.0           0.0         0.0   semifurnished          Medium   \n",
       "3552         5490.0           1.0         1.0     unfurnished          Medium   \n",
       "3553         1845.0           0.0         0.0   semifurnished          Medium   \n",
       "\n",
       "     floor_category  \n",
       "0         Low Floor  \n",
       "1         Mid Floor  \n",
       "2        High Floor  \n",
       "3         Mid Floor  \n",
       "4         Mid Floor  \n",
       "...             ...  \n",
       "3549      Mid Floor  \n",
       "3550      Low Floor  \n",
       "3551      Mid Floor  \n",
       "3552      Mid Floor  \n",
       "3553     High Floor  \n",
       "\n",
       "[3554 rows x 12 columns]"
      ]
     },
     "execution_count": 84,
     "metadata": {},
     "output_type": "execute_result"
    }
   ],
   "source": [
    "X"
   ]
  },
  {
   "cell_type": "markdown",
   "id": "a627e25e",
   "metadata": {},
   "source": [
    "### Trying out the predictions"
   ]
  },
  {
   "cell_type": "code",
   "execution_count": 85,
   "id": "74524975",
   "metadata": {},
   "outputs": [
    {
     "data": {
      "text/plain": [
       "Index(['property_type', 'sector', 'bedRoom', 'bathroom', 'balcony',\n",
       "       'agePossession', 'built_up_area', 'servant room', 'store room',\n",
       "       'furnishing_type', 'luxury_category', 'floor_category'],\n",
       "      dtype='object')"
      ]
     },
     "execution_count": 85,
     "metadata": {},
     "output_type": "execute_result"
    }
   ],
   "source": [
    "X.columns"
   ]
  },
  {
   "cell_type": "code",
   "execution_count": 86,
   "id": "02c770d7",
   "metadata": {},
   "outputs": [
    {
     "data": {
      "text/plain": [
       "array(['flat', 'sector 36', np.float64(3.0), np.float64(2.0), '2',\n",
       "       'New Property', np.float64(850.0), np.float64(0.0),\n",
       "       np.float64(0.0), 'unfurnished', 'Low', 'Low Floor'], dtype=object)"
      ]
     },
     "execution_count": 86,
     "metadata": {},
     "output_type": "execute_result"
    }
   ],
   "source": [
    "X.iloc[0].values"
   ]
  },
  {
   "cell_type": "code",
   "execution_count": 87,
   "id": "8562f722",
   "metadata": {},
   "outputs": [
    {
     "data": {
      "text/html": [
       "<div>\n",
       "<style scoped>\n",
       "    .dataframe tbody tr th:only-of-type {\n",
       "        vertical-align: middle;\n",
       "    }\n",
       "\n",
       "    .dataframe tbody tr th {\n",
       "        vertical-align: top;\n",
       "    }\n",
       "\n",
       "    .dataframe thead th {\n",
       "        text-align: right;\n",
       "    }\n",
       "</style>\n",
       "<table border=\"1\" class=\"dataframe\">\n",
       "  <thead>\n",
       "    <tr style=\"text-align: right;\">\n",
       "      <th></th>\n",
       "      <th>property_type</th>\n",
       "      <th>sector</th>\n",
       "      <th>bedRoom</th>\n",
       "      <th>bathroom</th>\n",
       "      <th>balcony</th>\n",
       "      <th>agePossession</th>\n",
       "      <th>built_up_area</th>\n",
       "      <th>servant room</th>\n",
       "      <th>store room</th>\n",
       "      <th>furnishing_type</th>\n",
       "      <th>luxury_category</th>\n",
       "      <th>floor_category</th>\n",
       "    </tr>\n",
       "  </thead>\n",
       "  <tbody>\n",
       "    <tr>\n",
       "      <th>0</th>\n",
       "      <td>house</td>\n",
       "      <td>sector 102</td>\n",
       "      <td>4</td>\n",
       "      <td>3</td>\n",
       "      <td>3+</td>\n",
       "      <td>New Property</td>\n",
       "      <td>2750</td>\n",
       "      <td>0</td>\n",
       "      <td>0</td>\n",
       "      <td>unfurnished</td>\n",
       "      <td>Low</td>\n",
       "      <td>Low Floor</td>\n",
       "    </tr>\n",
       "  </tbody>\n",
       "</table>\n",
       "</div>"
      ],
      "text/plain": [
       "  property_type      sector  bedRoom  bathroom balcony agePossession  \\\n",
       "0         house  sector 102        4         3      3+  New Property   \n",
       "\n",
       "   built_up_area  servant room  store room furnishing_type luxury_category  \\\n",
       "0           2750             0           0     unfurnished             Low   \n",
       "\n",
       "  floor_category  \n",
       "0      Low Floor  "
      ]
     },
     "execution_count": 87,
     "metadata": {},
     "output_type": "execute_result"
    }
   ],
   "source": [
    "data = [['house', 'sector 102', 4, 3, '3+', 'New Property', 2750, 0, 0, 'unfurnished', 'Low', 'Low Floor']]\n",
    "columns = ['property_type', 'sector', 'bedRoom', 'bathroom', 'balcony',\n",
    "       'agePossession', 'built_up_area', 'servant room', 'store room',\n",
    "       'furnishing_type', 'luxury_category', 'floor_category']\n",
    "\n",
    "# Convert to DataFrame\n",
    "one_df = pd.DataFrame(data, columns=columns)\n",
    "\n",
    "one_df\n"
   ]
  },
  {
   "cell_type": "code",
   "execution_count": 88,
   "id": "b51e7e8b",
   "metadata": {},
   "outputs": [
    {
     "data": {
      "text/plain": [
       "array([3.19052593])"
      ]
     },
     "execution_count": 88,
     "metadata": {},
     "output_type": "execute_result"
    }
   ],
   "source": [
    "np.expm1(pipeline.predict(one_df))"
   ]
  },
  {
   "cell_type": "code",
   "execution_count": 307,
   "id": "68314201",
   "metadata": {},
   "outputs": [
    {
     "data": {
      "text/plain": [
       "property_type       object\n",
       "sector              object\n",
       "bedRoom            float64\n",
       "bathroom           float64\n",
       "balcony             object\n",
       "agePossession       object\n",
       "built_up_area      float64\n",
       "servant room       float64\n",
       "store room         float64\n",
       "furnishing_type     object\n",
       "luxury_category     object\n",
       "floor_category      object\n",
       "dtype: object"
      ]
     },
     "execution_count": 307,
     "metadata": {},
     "output_type": "execute_result"
    }
   ],
   "source": [
    "X.dtypes"
   ]
  },
  {
   "cell_type": "code",
   "execution_count": 306,
   "id": "738dd5fe",
   "metadata": {},
   "outputs": [
    {
     "data": {
      "text/plain": [
       "['dwarka expressway',\n",
       " 'gwal pahari',\n",
       " 'manesar',\n",
       " 'sector 1',\n",
       " 'sector 10',\n",
       " 'sector 102',\n",
       " 'sector 103',\n",
       " 'sector 104',\n",
       " 'sector 105',\n",
       " 'sector 106',\n",
       " 'sector 107',\n",
       " 'sector 108',\n",
       " 'sector 109',\n",
       " 'sector 11',\n",
       " 'sector 110',\n",
       " 'sector 111',\n",
       " 'sector 112',\n",
       " 'sector 113',\n",
       " 'sector 12',\n",
       " 'sector 13',\n",
       " 'sector 14',\n",
       " 'sector 15',\n",
       " 'sector 17',\n",
       " 'sector 2',\n",
       " 'sector 21',\n",
       " 'sector 22',\n",
       " 'sector 23',\n",
       " 'sector 24',\n",
       " 'sector 25',\n",
       " 'sector 26',\n",
       " 'sector 27',\n",
       " 'sector 28',\n",
       " 'sector 3',\n",
       " 'sector 30',\n",
       " 'sector 31',\n",
       " 'sector 33',\n",
       " 'sector 36',\n",
       " 'sector 37',\n",
       " 'sector 37d',\n",
       " 'sector 38',\n",
       " 'sector 39',\n",
       " 'sector 4',\n",
       " 'sector 40',\n",
       " 'sector 41',\n",
       " 'sector 43',\n",
       " 'sector 45',\n",
       " 'sector 46',\n",
       " 'sector 47',\n",
       " 'sector 48',\n",
       " 'sector 49',\n",
       " 'sector 5',\n",
       " 'sector 50',\n",
       " 'sector 51',\n",
       " 'sector 52',\n",
       " 'sector 53',\n",
       " 'sector 54',\n",
       " 'sector 55',\n",
       " 'sector 56',\n",
       " 'sector 57',\n",
       " 'sector 58',\n",
       " 'sector 59',\n",
       " 'sector 6',\n",
       " 'sector 60',\n",
       " 'sector 61',\n",
       " 'sector 62',\n",
       " 'sector 63',\n",
       " 'sector 63a',\n",
       " 'sector 65',\n",
       " 'sector 66',\n",
       " 'sector 67',\n",
       " 'sector 67a',\n",
       " 'sector 68',\n",
       " 'sector 69',\n",
       " 'sector 7',\n",
       " 'sector 70',\n",
       " 'sector 70a',\n",
       " 'sector 71',\n",
       " 'sector 72',\n",
       " 'sector 73',\n",
       " 'sector 74',\n",
       " 'sector 76',\n",
       " 'sector 77',\n",
       " 'sector 78',\n",
       " 'sector 79',\n",
       " 'sector 8',\n",
       " 'sector 80',\n",
       " 'sector 81',\n",
       " 'sector 82',\n",
       " 'sector 82a',\n",
       " 'sector 83',\n",
       " 'sector 84',\n",
       " 'sector 85',\n",
       " 'sector 86',\n",
       " 'sector 88',\n",
       " 'sector 88a',\n",
       " 'sector 89',\n",
       " 'sector 9',\n",
       " 'sector 90',\n",
       " 'sector 91',\n",
       " 'sector 92',\n",
       " 'sector 93',\n",
       " 'sector 95',\n",
       " 'sector 99',\n",
       " 'sohna road']"
      ]
     },
     "execution_count": 306,
     "metadata": {},
     "output_type": "execute_result"
    }
   ],
   "source": [
    "sorted(X['sector'].unique().tolist())"
   ]
  },
  {
   "cell_type": "markdown",
   "id": "04c3ea0a",
   "metadata": {},
   "source": [
    "### Optuna"
   ]
  },
  {
   "cell_type": "code",
   "execution_count": 11,
   "id": "d17c028c",
   "metadata": {},
   "outputs": [
    {
     "name": "stderr",
     "output_type": "stream",
     "text": [
      "c:\\Users\\vijit_singh\\Desktop\\Personal projects repo\\Estate-Radar\\env\\Lib\\site-packages\\tqdm\\auto.py:21: TqdmWarning: IProgress not found. Please update jupyter and ipywidgets. See https://ipywidgets.readthedocs.io/en/stable/user_install.html\n",
      "  from .autonotebook import tqdm as notebook_tqdm\n"
     ]
    }
   ],
   "source": [
    "# Importing the required libraries\n",
    "from sklearn.ensemble import RandomForestClassifier, GradientBoostingClassifier\n",
    "from sklearn.svm import SVC\n",
    "import optuna\n",
    "from sklearn.datasets import load_diabetes\n",
    "from sklearn.model_selection import train_test_split\n",
    "from sklearn.preprocessing import StandardScaler"
   ]
  },
  {
   "cell_type": "code",
   "execution_count": null,
   "id": "92240ae2",
   "metadata": {},
   "outputs": [],
   "source": [
    "! pip install optuna-integration[xgboost]"
   ]
  },
  {
   "cell_type": "code",
   "execution_count": null,
   "id": "0855a2f2",
   "metadata": {},
   "outputs": [],
   "source": [
    "def objective(trial):\n",
    "    # Define the preprocessor\n",
    "    columns_to_encode = ['property_type', 'sector', 'balcony', 'agePossession', \n",
    "                        'furnishing_type', 'luxury_category', 'floor_category']\n",
    "    \n",
    "    preprocessor = ColumnTransformer(\n",
    "    transformers=[\n",
    "        ('num', StandardScaler(), ['bedRoom', 'bathroom', 'built_up_area', 'servant room', 'store room']),\n",
    "        ('cat', OrdinalEncoder(), columns_to_encode),\n",
    "        ('cat1',OneHotEncoder(drop='first',sparse_output=False),['agePossession']),\n",
    "        ('target_enc', ce.TargetEncoder(), ['sector'])\n",
    "    ], \n",
    "    remainder='passthrough'\n",
    "    )\n",
    "\n",
    "    # Choose the algorithm to tune\n",
    "    regressor_name = trial.suggest_categorical('regressor', ['RandomForest', 'GradientBoosting', 'XGBoost'])\n",
    "\n",
    "    if regressor_name == 'RandomForest':\n",
    "        model = RandomForestRegressor(\n",
    "            n_estimators=trial.suggest_int('n_estimators', 100, 500),\n",
    "            max_depth=trial.suggest_int('max_depth', 5, 30),\n",
    "            min_samples_split=trial.suggest_int('min_samples_split', 2, 10),\n",
    "            min_samples_leaf=trial.suggest_int('min_samples_leaf', 1, 10),\n",
    "            random_state=42\n",
    "        )\n",
    "\n",
    "    elif regressor_name == 'GradientBoosting':\n",
    "        model = GradientBoostingRegressor(\n",
    "            n_estimators=trial.suggest_int('n_estimators', 100, 500),\n",
    "            learning_rate=trial.suggest_float('learning_rate', 0.01, 0.3, log=True),\n",
    "            max_depth=trial.suggest_int('max_depth', 3, 20),\n",
    "            min_samples_split=trial.suggest_int('min_samples_split', 2, 10),\n",
    "            min_samples_leaf=trial.suggest_int('min_samples_leaf', 1, 10),\n",
    "            random_state=42\n",
    "        )\n",
    "\n",
    "    else:  # XGBoost\n",
    "        model = XGBRegressor(\n",
    "            n_estimators=trial.suggest_int('n_estimators', 100, 500),\n",
    "            max_depth=trial.suggest_int('max_depth', 3, 20),\n",
    "            learning_rate=trial.suggest_float('learning_rate', 0.01, 0.3, log=True),\n",
    "            min_child_weight=trial.suggest_int('min_child_weight', 1, 7),\n",
    "            subsample=trial.suggest_float('subsample', 0.6, 1.0),\n",
    "            colsample_bytree=trial.suggest_float('colsample_bytree', 0.6, 1.0),\n",
    "            random_state=42\n",
    "        )\n",
    "\n",
    "    # Create pipeline\n",
    "    pipeline = Pipeline([\n",
    "        ('preprocessor', preprocessor),\n",
    "        ('regressor', model)\n",
    "    ])\n",
    "\n",
    "    try:\n",
    "        # Custom scorer for MAE on original scale\n",
    "        def mae_scorer(estimator, X, y):\n",
    "            y_pred = estimator.predict(X)\n",
    "            return -mean_absolute_error(np.expm1(y), np.expm1(y_pred))  # Negative because we want to maximize\n",
    "        \n",
    "        # Perform cross-validation\n",
    "        kfold = KFold(n_splits=5, shuffle=True, random_state=42)\n",
    "        \n",
    "        # Get both R2 and MAE scores\n",
    "        r2_scores = cross_val_score(pipeline, X, y_transformed, cv=kfold, scoring='r2')\n",
    "        mae_scores = cross_val_score(pipeline, X, y_transformed, cv=kfold, scoring=mae_scorer)\n",
    "        \n",
    "        mean_r2 = r2_scores.mean()\n",
    "        mean_mae = -mae_scores.mean()  # Convert back to positive\n",
    "        \n",
    "        print(f\"\\nTrial Results:\")\n",
    "        print(f\"Mean R2 Score: {mean_r2:.4f} (+/- {r2_scores.std() * 2:.4f})\")\n",
    "        print(f\"Mean MAE: {mean_mae:.4f} (+/- {mae_scores.std() * 2:.4f})\")\n",
    "        \n",
    "        return mean_mae\n",
    "        \n",
    "    except Exception as e:\n",
    "        print(f\"Error during evaluation: {str(e)}\")\n",
    "        return float('inf')\n",
    "\n",
    "# Create and run the study\n",
    "study = optuna.create_study(direction='minimize')\n",
    "study.optimize(objective, n_trials=50, n_jobs=-1)\n",
    "\n",
    "# Print the best results\n",
    "print(\"\\nBest trial:\")\n",
    "print(\"  MAE: \", study.best_trial.value)\n",
    "print(\"  Params: \")\n",
    "for key, value in study.best_trial.params.items():\n",
    "    print(f\"    {key}: {value}\")"
   ]
  },
  {
   "cell_type": "code",
   "execution_count": 19,
   "id": "3835b108",
   "metadata": {},
   "outputs": [
    {
     "name": "stderr",
     "output_type": "stream",
     "text": [
      "[I 2024-12-19 17:53:28,280] A new study created in memory with name: no-name-af39cc82-28a3-4692-be75-c57c3626b2ed\n",
      "[I 2024-12-19 17:53:38,571] Trial 2 finished with value: 0.5210861573772798 and parameters: {'n_estimators': 668, 'max_depth': 13, 'min_child_weight': 9, 'learning_rate': 0.11066622389083881, 'gamma': 0.03715246886984261, 'reg_alpha': 0.02791000086457536, 'reg_lambda': 0.0006982515207901851, 'subsample': 0.7505168621972407, 'colsample_bytree': 0.575841481611983, 'colsample_bylevel': 0.5366001890133405, 'colsample_bynode': 0.9470682401238679, 'max_delta_step': 1, 'scale_pos_weight': 1.0794545856347113}. Best is trial 2 with value: 0.5210861573772798.\n"
     ]
    },
    {
     "name": "stdout",
     "output_type": "stream",
     "text": [
      "\n",
      "Trial Results:\n",
      "Mean R2 Score: 0.8934 (+/- 0.0145)\n",
      "Mean MAE: 0.5211 (+/- 0.0779)\n"
     ]
    },
    {
     "name": "stderr",
     "output_type": "stream",
     "text": [
      "[I 2024-12-19 17:53:40,622] Trial 6 finished with value: 0.5393645798834242 and parameters: {'n_estimators': 632, 'max_depth': 3, 'min_child_weight': 3, 'learning_rate': 0.02023902150981271, 'gamma': 0.000539739680341382, 'reg_alpha': 1.3232361013323386e-07, 'reg_lambda': 0.19423287299196917, 'subsample': 0.5615983104864994, 'colsample_bytree': 0.6062295717737727, 'colsample_bylevel': 0.8454719962796674, 'colsample_bynode': 0.799011081354126, 'max_delta_step': 6, 'scale_pos_weight': 1.1112846087871042}. Best is trial 2 with value: 0.5210861573772798.\n"
     ]
    },
    {
     "name": "stdout",
     "output_type": "stream",
     "text": [
      "\n",
      "Trial Results:\n",
      "Mean R2 Score: 0.8884 (+/- 0.0216)\n",
      "Mean MAE: 0.5394 (+/- 0.0876)\n"
     ]
    },
    {
     "name": "stderr",
     "output_type": "stream",
     "text": [
      "[I 2024-12-19 17:53:51,478] Trial 5 finished with value: 0.5186115845229715 and parameters: {'n_estimators': 481, 'max_depth': 6, 'min_child_weight': 8, 'learning_rate': 0.15481798102127978, 'gamma': 0.00011036137695867412, 'reg_alpha': 0.4361073118688641, 'reg_lambda': 4.15083856753968e-06, 'subsample': 0.580846146488123, 'colsample_bytree': 0.572302904536752, 'colsample_bylevel': 0.5646934493267055, 'colsample_bynode': 0.6846302772120175, 'max_delta_step': 4, 'scale_pos_weight': 1.1363892744312902}. Best is trial 5 with value: 0.5186115845229715.\n"
     ]
    },
    {
     "name": "stdout",
     "output_type": "stream",
     "text": [
      "\n",
      "Trial Results:\n",
      "Mean R2 Score: 0.8941 (+/- 0.0171)\n",
      "Mean MAE: 0.5186 (+/- 0.0905)\n"
     ]
    },
    {
     "name": "stderr",
     "output_type": "stream",
     "text": [
      "[I 2024-12-19 17:53:55,111] Trial 8 finished with value: 0.5268981552533789 and parameters: {'n_estimators': 248, 'max_depth': 5, 'min_child_weight': 10, 'learning_rate': 0.02429984324747994, 'gamma': 1.0687130367251141e-05, 'reg_alpha': 0.09658382869578974, 'reg_lambda': 0.012557746211026287, 'subsample': 0.8752104729470198, 'colsample_bytree': 0.6529735459140613, 'colsample_bylevel': 0.7358126084053302, 'colsample_bynode': 0.7964839667608405, 'max_delta_step': 2, 'scale_pos_weight': 1.064272392165283}. Best is trial 5 with value: 0.5186115845229715.\n"
     ]
    },
    {
     "name": "stdout",
     "output_type": "stream",
     "text": [
      "\n",
      "Trial Results:\n",
      "Mean R2 Score: 0.8931 (+/- 0.0171)\n",
      "Mean MAE: 0.5269 (+/- 0.0838)\n"
     ]
    },
    {
     "name": "stderr",
     "output_type": "stream",
     "text": [
      "[I 2024-12-19 17:54:18,686] Trial 10 finished with value: 0.49959251932021065 and parameters: {'n_estimators': 404, 'max_depth': 5, 'min_child_weight': 6, 'learning_rate': 0.04372354341597201, 'gamma': 4.95256640997652e-06, 'reg_alpha': 2.5414576262193328e-06, 'reg_lambda': 0.00496115472754545, 'subsample': 0.9540243942917178, 'colsample_bytree': 0.9830415008144193, 'colsample_bylevel': 0.7205924896550969, 'colsample_bynode': 0.9020967424085542, 'max_delta_step': 5, 'scale_pos_weight': 0.902444691605863}. Best is trial 10 with value: 0.49959251932021065.\n"
     ]
    },
    {
     "name": "stdout",
     "output_type": "stream",
     "text": [
      "\n",
      "Trial Results:\n",
      "Mean R2 Score: 0.9002 (+/- 0.0172)\n",
      "Mean MAE: 0.4996 (+/- 0.0760)\n"
     ]
    },
    {
     "name": "stderr",
     "output_type": "stream",
     "text": [
      "[I 2024-12-19 17:54:30,338] Trial 1 finished with value: 0.4964343700267193 and parameters: {'n_estimators': 653, 'max_depth': 15, 'min_child_weight': 9, 'learning_rate': 0.04293376045858388, 'gamma': 0.0002691172127053114, 'reg_alpha': 0.00925345396437726, 'reg_lambda': 0.007148651303082217, 'subsample': 0.9972330521488503, 'colsample_bytree': 0.6611879075613051, 'colsample_bylevel': 0.5642736695288597, 'colsample_bynode': 0.9249595668184183, 'max_delta_step': 6, 'scale_pos_weight': 1.0565585680120908}. Best is trial 1 with value: 0.4964343700267193.\n"
     ]
    },
    {
     "name": "stdout",
     "output_type": "stream",
     "text": [
      "\n",
      "Trial Results:\n",
      "Mean R2 Score: 0.9010 (+/- 0.0178)\n",
      "Mean MAE: 0.4964 (+/- 0.0827)\n"
     ]
    },
    {
     "name": "stderr",
     "output_type": "stream",
     "text": [
      "[I 2024-12-19 17:54:41,436] Trial 12 finished with value: 0.4954479312007627 and parameters: {'n_estimators': 274, 'max_depth': 10, 'min_child_weight': 5, 'learning_rate': 0.04718717471786624, 'gamma': 0.008031714222816925, 'reg_alpha': 0.00010368869185058572, 'reg_lambda': 0.0016638533308604507, 'subsample': 0.8400273076945513, 'colsample_bytree': 0.8450212919122044, 'colsample_bylevel': 0.6366328906830936, 'colsample_bynode': 0.939572848044073, 'max_delta_step': 6, 'scale_pos_weight': 1.1669893355751113}. Best is trial 12 with value: 0.4954479312007627.\n"
     ]
    },
    {
     "name": "stdout",
     "output_type": "stream",
     "text": [
      "\n",
      "Trial Results:\n",
      "Mean R2 Score: 0.8984 (+/- 0.0182)\n",
      "Mean MAE: 0.4954 (+/- 0.0702)\n"
     ]
    },
    {
     "name": "stderr",
     "output_type": "stream",
     "text": [
      "[I 2024-12-19 17:54:56,956] Trial 13 finished with value: 0.7456972061626751 and parameters: {'n_estimators': 182, 'max_depth': 11, 'min_child_weight': 10, 'learning_rate': 0.007304183908508203, 'gamma': 0.02447953149253578, 'reg_alpha': 0.0001119569869903991, 'reg_lambda': 8.673300917597987e-06, 'subsample': 0.9281919861768163, 'colsample_bytree': 0.8525924758944756, 'colsample_bylevel': 0.783514609088853, 'colsample_bynode': 0.899760870629664, 'max_delta_step': 5, 'scale_pos_weight': 1.1252029578977543}. Best is trial 12 with value: 0.4954479312007627.\n"
     ]
    },
    {
     "name": "stdout",
     "output_type": "stream",
     "text": [
      "\n",
      "Trial Results:\n",
      "Mean R2 Score: 0.8168 (+/- 0.0138)\n",
      "Mean MAE: 0.7457 (+/- 0.1502)\n"
     ]
    },
    {
     "name": "stderr",
     "output_type": "stream",
     "text": [
      "[I 2024-12-19 17:55:03,221] Trial 14 finished with value: 0.6762035780026447 and parameters: {'n_estimators': 255, 'max_depth': 6, 'min_child_weight': 1, 'learning_rate': 0.007102570183019564, 'gamma': 0.2911189956897252, 'reg_alpha': 0.019383866855597138, 'reg_lambda': 9.998505799397162e-06, 'subsample': 0.8539092251699516, 'colsample_bytree': 0.7210291414533851, 'colsample_bylevel': 0.8215815835171736, 'colsample_bynode': 0.9454075810734142, 'max_delta_step': 9, 'scale_pos_weight': 1.1024593397170819}. Best is trial 12 with value: 0.4954479312007627.\n"
     ]
    },
    {
     "name": "stdout",
     "output_type": "stream",
     "text": [
      "\n",
      "Trial Results:\n",
      "Mean R2 Score: 0.8468 (+/- 0.0136)\n",
      "Mean MAE: 0.6762 (+/- 0.1261)\n"
     ]
    },
    {
     "name": "stderr",
     "output_type": "stream",
     "text": [
      "[I 2024-12-19 17:55:07,507] Trial 3 finished with value: 0.4906567815093249 and parameters: {'n_estimators': 591, 'max_depth': 25, 'min_child_weight': 8, 'learning_rate': 0.028749465844697734, 'gamma': 0.0009654374133106989, 'reg_alpha': 1.711069623740637e-06, 'reg_lambda': 0.895103115019426, 'subsample': 0.8594958031064237, 'colsample_bytree': 0.655358129638383, 'colsample_bylevel': 0.6004017976350803, 'colsample_bynode': 0.6949001557369577, 'max_delta_step': 1, 'scale_pos_weight': 1.095344261154644}. Best is trial 3 with value: 0.4906567815093249.\n"
     ]
    },
    {
     "name": "stdout",
     "output_type": "stream",
     "text": [
      "\n",
      "Trial Results:\n",
      "Mean R2 Score: 0.9033 (+/- 0.0173)\n",
      "Mean MAE: 0.4907 (+/- 0.0833)\n"
     ]
    },
    {
     "name": "stderr",
     "output_type": "stream",
     "text": [
      "[I 2024-12-19 17:55:08,193] Trial 0 finished with value: 0.8041337240120571 and parameters: {'n_estimators': 769, 'max_depth': 11, 'min_child_weight': 3, 'learning_rate': 0.001789164354259545, 'gamma': 1.6105142643359658e-06, 'reg_alpha': 0.00022078070450775716, 'reg_lambda': 0.004882245155985365, 'subsample': 0.680418034998055, 'colsample_bytree': 0.5224167615745474, 'colsample_bylevel': 0.5175681650492526, 'colsample_bynode': 0.8041150754186237, 'max_delta_step': 8, 'scale_pos_weight': 0.9111112671459584}. Best is trial 3 with value: 0.4906567815093249.\n"
     ]
    },
    {
     "name": "stdout",
     "output_type": "stream",
     "text": [
      "\n",
      "Trial Results:\n",
      "Mean R2 Score: 0.7860 (+/- 0.0149)\n",
      "Mean MAE: 0.8041 (+/- 0.1575)\n"
     ]
    },
    {
     "name": "stderr",
     "output_type": "stream",
     "text": [
      "[I 2024-12-19 17:55:17,445] Trial 16 finished with value: 1.2193307015804369 and parameters: {'n_estimators': 178, 'max_depth': 11, 'min_child_weight': 4, 'learning_rate': 0.0021292390128575967, 'gamma': 1.3329228841226093e-07, 'reg_alpha': 2.7990211624455366e-08, 'reg_lambda': 6.202307916878096e-07, 'subsample': 0.9390670807352159, 'colsample_bytree': 0.8553117932421432, 'colsample_bylevel': 0.6211250828695347, 'colsample_bynode': 0.7995819148343086, 'max_delta_step': 2, 'scale_pos_weight': 1.1985692825064385}. Best is trial 3 with value: 0.4906567815093249.\n"
     ]
    },
    {
     "name": "stdout",
     "output_type": "stream",
     "text": [
      "\n",
      "Trial Results:\n",
      "Mean R2 Score: 0.4545 (+/- 0.0105)\n",
      "Mean MAE: 1.2193 (+/- 0.2116)\n"
     ]
    },
    {
     "name": "stderr",
     "output_type": "stream",
     "text": [
      "[I 2024-12-19 17:55:20,596] Trial 7 finished with value: 0.7718490939978494 and parameters: {'n_estimators': 538, 'max_depth': 16, 'min_child_weight': 1, 'learning_rate': 0.0023499680227238723, 'gamma': 0.0003888151737542825, 'reg_alpha': 0.05473303467859488, 'reg_lambda': 0.038733832145712806, 'subsample': 0.8030249422773283, 'colsample_bytree': 0.9330272516526095, 'colsample_bylevel': 0.6302525943343833, 'colsample_bynode': 0.9901224574689083, 'max_delta_step': 8, 'scale_pos_weight': 0.9762702132623632}. Best is trial 3 with value: 0.4906567815093249.\n"
     ]
    },
    {
     "name": "stdout",
     "output_type": "stream",
     "text": [
      "\n",
      "Trial Results:\n",
      "Mean R2 Score: 0.8044 (+/- 0.0153)\n",
      "Mean MAE: 0.7718 (+/- 0.1512)\n"
     ]
    },
    {
     "name": "stderr",
     "output_type": "stream",
     "text": [
      "[I 2024-12-19 17:55:23,023] Trial 9 finished with value: 0.5186360236898759 and parameters: {'n_estimators': 952, 'max_depth': 13, 'min_child_weight': 8, 'learning_rate': 0.08445175339580531, 'gamma': 2.893018308750864e-05, 'reg_alpha': 1.1495840591922096e-07, 'reg_lambda': 0.006549167041049108, 'subsample': 0.8647245830775294, 'colsample_bytree': 0.5245472138053239, 'colsample_bylevel': 0.5267881655202993, 'colsample_bynode': 0.6696592283509748, 'max_delta_step': 4, 'scale_pos_weight': 0.974063262970639}. Best is trial 3 with value: 0.4906567815093249.\n"
     ]
    },
    {
     "name": "stdout",
     "output_type": "stream",
     "text": [
      "\n",
      "Trial Results:\n",
      "Mean R2 Score: 0.8945 (+/- 0.0132)\n",
      "Mean MAE: 0.5186 (+/- 0.1098)\n"
     ]
    },
    {
     "name": "stderr",
     "output_type": "stream",
     "text": [
      "[I 2024-12-19 17:55:27,455] Trial 15 finished with value: 0.5841603975020828 and parameters: {'n_estimators': 210, 'max_depth': 25, 'min_child_weight': 2, 'learning_rate': 0.011088277663741609, 'gamma': 5.262272135086478e-06, 'reg_alpha': 1.4825658791545988e-06, 'reg_lambda': 0.00036643574517845916, 'subsample': 0.790143973031344, 'colsample_bytree': 0.6651454386159157, 'colsample_bylevel': 0.5348089743358564, 'colsample_bynode': 0.9908990897947674, 'max_delta_step': 4, 'scale_pos_weight': 0.8127393530570347}. Best is trial 3 with value: 0.4906567815093249.\n"
     ]
    },
    {
     "name": "stdout",
     "output_type": "stream",
     "text": [
      "\n",
      "Trial Results:\n",
      "Mean R2 Score: 0.8764 (+/- 0.0140)\n",
      "Mean MAE: 0.5842 (+/- 0.1104)\n"
     ]
    },
    {
     "name": "stderr",
     "output_type": "stream",
     "text": [
      "[I 2024-12-19 17:55:29,010] Trial 20 finished with value: 0.5500848531641601 and parameters: {'n_estimators': 859, 'max_depth': 24, 'min_child_weight': 6, 'learning_rate': 0.2955441042058913, 'gamma': 0.013854928470342436, 'reg_alpha': 6.613563257124254e-06, 'reg_lambda': 1.1027779712538929e-08, 'subsample': 0.7036404815656162, 'colsample_bytree': 0.7840707902046966, 'colsample_bylevel': 0.9643627542713337, 'colsample_bynode': 0.5230332388106869, 'max_delta_step': 0, 'scale_pos_weight': 1.1979682502390117}. Best is trial 3 with value: 0.4906567815093249.\n"
     ]
    },
    {
     "name": "stdout",
     "output_type": "stream",
     "text": [
      "\n",
      "Trial Results:\n",
      "Mean R2 Score: 0.8842 (+/- 0.0208)\n",
      "Mean MAE: 0.5501 (+/- 0.0956)\n"
     ]
    },
    {
     "name": "stderr",
     "output_type": "stream",
     "text": [
      "[I 2024-12-19 17:55:30,307] Trial 21 finished with value: 0.5527238222686567 and parameters: {'n_estimators': 396, 'max_depth': 24, 'min_child_weight': 6, 'learning_rate': 0.2579740417332097, 'gamma': 0.005289995056579696, 'reg_alpha': 4.721908360650701e-06, 'reg_lambda': 0.7011688919146315, 'subsample': 0.7078830544948946, 'colsample_bytree': 0.8199310697690831, 'colsample_bylevel': 0.9407560796988317, 'colsample_bynode': 0.5600207870161191, 'max_delta_step': 0, 'scale_pos_weight': 1.198658491311497}. Best is trial 3 with value: 0.4906567815093249.\n"
     ]
    },
    {
     "name": "stdout",
     "output_type": "stream",
     "text": [
      "\n",
      "Trial Results:\n",
      "Mean R2 Score: 0.8826 (+/- 0.0174)\n",
      "Mean MAE: 0.5527 (+/- 0.1149)\n"
     ]
    },
    {
     "name": "stderr",
     "output_type": "stream",
     "text": [
      "[I 2024-12-19 17:55:33,469] Trial 24 finished with value: 0.5792472487052744 and parameters: {'n_estimators': 337, 'max_depth': 19, 'min_child_weight': 5, 'learning_rate': 0.05251794608682627, 'gamma': 0.5866217313828123, 'reg_alpha': 0.0009198344820787221, 'reg_lambda': 0.9002963033660544, 'subsample': 0.8034110368881985, 'colsample_bytree': 0.72029790220475, 'colsample_bylevel': 0.6687996895069879, 'colsample_bynode': 0.6853924035580199, 'max_delta_step': 10, 'scale_pos_weight': 1.0175253489511147}. Best is trial 3 with value: 0.4906567815093249.\n"
     ]
    },
    {
     "name": "stdout",
     "output_type": "stream",
     "text": [
      "\n",
      "Trial Results:\n",
      "Mean R2 Score: 0.8756 (+/- 0.0244)\n",
      "Mean MAE: 0.5792 (+/- 0.0935)\n"
     ]
    },
    {
     "name": "stderr",
     "output_type": "stream",
     "text": [
      "[I 2024-12-19 17:55:38,161] Trial 19 finished with value: 0.49892678810162955 and parameters: {'n_estimators': 973, 'max_depth': 25, 'min_child_weight': 6, 'learning_rate': 0.05338599987673623, 'gamma': 0.00514728073519989, 'reg_alpha': 1.6420972497238904e-06, 'reg_lambda': 0.8237708216060275, 'subsample': 0.7783669825371458, 'colsample_bytree': 0.811626286993371, 'colsample_bylevel': 0.9683136083105741, 'colsample_bynode': 0.5203188774816603, 'max_delta_step': 0, 'scale_pos_weight': 0.9926100531497404}. Best is trial 3 with value: 0.4906567815093249.\n"
     ]
    },
    {
     "name": "stdout",
     "output_type": "stream",
     "text": [
      "\n",
      "Trial Results:\n",
      "Mean R2 Score: 0.9014 (+/- 0.0209)\n",
      "Mean MAE: 0.4989 (+/- 0.0875)\n"
     ]
    },
    {
     "name": "stderr",
     "output_type": "stream",
     "text": [
      "[I 2024-12-19 17:55:40,321] Trial 11 finished with value: 0.6431076308876056 and parameters: {'n_estimators': 1000, 'max_depth': 12, 'min_child_weight': 4, 'learning_rate': 0.0017038883318149084, 'gamma': 0.00028813616430662845, 'reg_alpha': 3.532335832221147e-08, 'reg_lambda': 6.671061290338312e-05, 'subsample': 0.7185585943727185, 'colsample_bytree': 0.7789510047847777, 'colsample_bylevel': 0.7402469559347691, 'colsample_bynode': 0.9987599443412276, 'max_delta_step': 3, 'scale_pos_weight': 0.8189182922820581}. Best is trial 3 with value: 0.4906567815093249.\n"
     ]
    },
    {
     "name": "stdout",
     "output_type": "stream",
     "text": [
      "\n",
      "Trial Results:\n",
      "Mean R2 Score: 0.8585 (+/- 0.0139)\n",
      "Mean MAE: 0.6431 (+/- 0.1233)\n"
     ]
    },
    {
     "name": "stderr",
     "output_type": "stream",
     "text": [
      "[I 2024-12-19 17:55:41,893] Trial 22 finished with value: 0.49580481354386857 and parameters: {'n_estimators': 371, 'max_depth': 25, 'min_child_weight': 6, 'learning_rate': 0.05400920644867416, 'gamma': 0.005571812918338269, 'reg_alpha': 8.767270233495661e-06, 'reg_lambda': 0.8866404637217797, 'subsample': 0.6890734102764084, 'colsample_bytree': 0.7884257799328394, 'colsample_bylevel': 0.9235390757141071, 'colsample_bynode': 0.524419666592207, 'max_delta_step': 0, 'scale_pos_weight': 1.1990779383396977}. Best is trial 3 with value: 0.4906567815093249.\n"
     ]
    },
    {
     "name": "stdout",
     "output_type": "stream",
     "text": [
      "\n",
      "Trial Results:\n",
      "Mean R2 Score: 0.8996 (+/- 0.0207)\n",
      "Mean MAE: 0.4958 (+/- 0.0850)\n"
     ]
    },
    {
     "name": "stderr",
     "output_type": "stream",
     "text": [
      "[I 2024-12-19 17:55:42,222] Trial 18 finished with value: 0.5065053202763072 and parameters: {'n_estimators': 397, 'max_depth': 24, 'min_child_weight': 6, 'learning_rate': 0.08696517269609862, 'gamma': 2.9500534695074453e-08, 'reg_alpha': 1.9423269156773167e-06, 'reg_lambda': 1.0941768198618041e-08, 'subsample': 0.7997719339387932, 'colsample_bytree': 0.8327098884661384, 'colsample_bylevel': 0.6705306416890041, 'colsample_bynode': 0.529942599165228, 'max_delta_step': 0, 'scale_pos_weight': 1.1744057339737015}. Best is trial 3 with value: 0.4906567815093249.\n"
     ]
    },
    {
     "name": "stdout",
     "output_type": "stream",
     "text": [
      "\n",
      "Trial Results:\n",
      "Mean R2 Score: 0.8964 (+/- 0.0187)\n",
      "Mean MAE: 0.5065 (+/- 0.0917)\n"
     ]
    },
    {
     "name": "stderr",
     "output_type": "stream",
     "text": [
      "[I 2024-12-19 17:55:44,904] Trial 26 finished with value: 1.1100165102340736 and parameters: {'n_estimators': 118, 'max_depth': 20, 'min_child_weight': 7, 'learning_rate': 0.004631889593260138, 'gamma': 0.0019173480474307051, 'reg_alpha': 2.216122851243136e-05, 'reg_lambda': 0.00010386860165828454, 'subsample': 0.6228031239558185, 'colsample_bytree': 0.9155013254210614, 'colsample_bylevel': 0.6743103508250102, 'colsample_bynode': 0.6188988132343343, 'max_delta_step': 7, 'scale_pos_weight': 1.151755811499956}. Best is trial 3 with value: 0.4906567815093249.\n"
     ]
    },
    {
     "name": "stdout",
     "output_type": "stream",
     "text": [
      "\n",
      "Trial Results:\n",
      "Mean R2 Score: 0.5654 (+/- 0.0149)\n",
      "Mean MAE: 1.1100 (+/- 0.2027)\n"
     ]
    },
    {
     "name": "stderr",
     "output_type": "stream",
     "text": [
      "[I 2024-12-19 17:55:46,868] Trial 23 finished with value: 0.5007256725734863 and parameters: {'n_estimators': 373, 'max_depth': 20, 'min_child_weight': 5, 'learning_rate': 0.04562491756417005, 'gamma': 0.002832729035728147, 'reg_alpha': 0.0008272903255921889, 'reg_lambda': 0.9390323279988139, 'subsample': 0.6392066348118279, 'colsample_bytree': 0.7656326091235507, 'colsample_bylevel': 0.663344450008206, 'colsample_bynode': 0.5832859071794122, 'max_delta_step': 10, 'scale_pos_weight': 1.162429026340233}. Best is trial 3 with value: 0.4906567815093249.\n"
     ]
    },
    {
     "name": "stdout",
     "output_type": "stream",
     "text": [
      "\n",
      "Trial Results:\n",
      "Mean R2 Score: 0.8995 (+/- 0.0144)\n",
      "Mean MAE: 0.5007 (+/- 0.0859)\n"
     ]
    },
    {
     "name": "stderr",
     "output_type": "stream",
     "text": [
      "[I 2024-12-19 17:55:47,924] Trial 4 finished with value: 0.7269909623134945 and parameters: {'n_estimators': 913, 'max_depth': 19, 'min_child_weight': 3, 'learning_rate': 0.0014613743977411012, 'gamma': 0.004628855506232109, 'reg_alpha': 0.0006949824090776954, 'reg_lambda': 0.00027348736939217667, 'subsample': 0.7655064550485347, 'colsample_bytree': 0.8146059093631673, 'colsample_bylevel': 0.9817956905735788, 'colsample_bynode': 0.9953334997677594, 'max_delta_step': 6, 'scale_pos_weight': 0.9932703163192649}. Best is trial 3 with value: 0.4906567815093249.\n",
      "[I 2024-12-19 17:55:47,935] Trial 28 finished with value: 0.5723812916755666 and parameters: {'n_estimators': 102, 'max_depth': 21, 'min_child_weight': 7, 'learning_rate': 0.022248145037773025, 'gamma': 0.002025211408213175, 'reg_alpha': 2.7405765012572936e-05, 'reg_lambda': 0.07299962290768795, 'subsample': 0.6416014125464374, 'colsample_bytree': 0.9006217820358253, 'colsample_bylevel': 0.9000340249048333, 'colsample_bynode': 0.6096722599554212, 'max_delta_step': 2, 'scale_pos_weight': 1.155859537073094}. Best is trial 3 with value: 0.4906567815093249.\n"
     ]
    },
    {
     "name": "stdout",
     "output_type": "stream",
     "text": [
      "\n",
      "Trial Results:\n",
      "Mean R2 Score: 0.8247 (+/- 0.0133)\n",
      "Mean MAE: 0.7270 (+/- 0.1416)\n",
      "\n",
      "Trial Results:\n",
      "Mean R2 Score: 0.8801 (+/- 0.0170)\n",
      "Mean MAE: 0.5724 (+/- 0.1090)\n"
     ]
    },
    {
     "name": "stderr",
     "output_type": "stream",
     "text": [
      "[I 2024-12-19 17:55:50,916] Trial 30 finished with value: 0.5395402045219553 and parameters: {'n_estimators': 314, 'max_depth': 21, 'min_child_weight': 7, 'learning_rate': 0.02746417324830505, 'gamma': 0.15192882537384608, 'reg_alpha': 0.0013742378053447708, 'reg_lambda': 0.09164464877254501, 'subsample': 0.6561606761761598, 'colsample_bytree': 0.7339670908460728, 'colsample_bylevel': 0.8794147889806694, 'colsample_bynode': 0.599861915639529, 'max_delta_step': 2, 'scale_pos_weight': 1.1564405571607226}. Best is trial 3 with value: 0.4906567815093249.\n"
     ]
    },
    {
     "name": "stdout",
     "output_type": "stream",
     "text": [
      "\n",
      "Trial Results:\n",
      "Mean R2 Score: 0.8888 (+/- 0.0177)\n",
      "Mean MAE: 0.5395 (+/- 0.0863)\n"
     ]
    },
    {
     "name": "stderr",
     "output_type": "stream",
     "text": [
      "[I 2024-12-19 17:55:56,170] Trial 31 finished with value: 0.5093240834502138 and parameters: {'n_estimators': 519, 'max_depth': 22, 'min_child_weight': 7, 'learning_rate': 0.028044282270339196, 'gamma': 0.06745060704243161, 'reg_alpha': 2.4040150792092663e-05, 'reg_lambda': 0.08689534403026573, 'subsample': 0.8928164892649795, 'colsample_bytree': 0.7177155215695994, 'colsample_bylevel': 0.8772205821085745, 'colsample_bynode': 0.7336513496734873, 'max_delta_step': 2, 'scale_pos_weight': 1.15990605164812}. Best is trial 3 with value: 0.4906567815093249.\n"
     ]
    },
    {
     "name": "stdout",
     "output_type": "stream",
     "text": [
      "\n",
      "Trial Results:\n",
      "Mean R2 Score: 0.8980 (+/- 0.0205)\n",
      "Mean MAE: 0.5093 (+/- 0.0742)\n"
     ]
    },
    {
     "name": "stderr",
     "output_type": "stream",
     "text": [
      "[I 2024-12-19 17:55:56,869] Trial 34 finished with value: 0.5281843353921557 and parameters: {'n_estimators': 476, 'max_depth': 22, 'min_child_weight': 8, 'learning_rate': 0.15113555628736827, 'gamma': 0.07443959649342534, 'reg_alpha': 4.1441765137930207e-07, 'reg_lambda': 0.0012638020181523898, 'subsample': 0.5156031461742097, 'colsample_bytree': 0.6772135468512257, 'colsample_bylevel': 0.6034962250615191, 'colsample_bynode': 0.7490821675738718, 'max_delta_step': 1, 'scale_pos_weight': 1.0340378224585514}. Best is trial 3 with value: 0.4906567815093249.\n"
     ]
    },
    {
     "name": "stdout",
     "output_type": "stream",
     "text": [
      "\n",
      "Trial Results:\n",
      "Mean R2 Score: 0.8923 (+/- 0.0183)\n",
      "Mean MAE: 0.5282 (+/- 0.0746)\n"
     ]
    },
    {
     "name": "stderr",
     "output_type": "stream",
     "text": [
      "[I 2024-12-19 17:55:59,511] Trial 33 finished with value: 0.5484427977168537 and parameters: {'n_estimators': 488, 'max_depth': 9, 'min_child_weight': 7, 'learning_rate': 0.0127638680224245, 'gamma': 0.22635869636818454, 'reg_alpha': 2.37385304706608e-07, 'reg_lambda': 0.13145686638023915, 'subsample': 0.8516278988338029, 'colsample_bytree': 0.7248395959199762, 'colsample_bylevel': 0.6071716602117903, 'colsample_bynode': 0.7358410767910024, 'max_delta_step': 1, 'scale_pos_weight': 1.101446871219227}. Best is trial 3 with value: 0.4906567815093249.\n"
     ]
    },
    {
     "name": "stdout",
     "output_type": "stream",
     "text": [
      "\n",
      "Trial Results:\n",
      "Mean R2 Score: 0.8863 (+/- 0.0210)\n",
      "Mean MAE: 0.5484 (+/- 0.0885)\n"
     ]
    },
    {
     "name": "stderr",
     "output_type": "stream",
     "text": [
      "[I 2024-12-19 17:56:00,881] Trial 32 finished with value: 0.5331682662050478 and parameters: {'n_estimators': 519, 'max_depth': 8, 'min_child_weight': 7, 'learning_rate': 0.012624250275996384, 'gamma': 0.13726948034826947, 'reg_alpha': 3.4654754778113176e-07, 'reg_lambda': 0.10489718030945774, 'subsample': 0.9006840289266954, 'colsample_bytree': 0.7218781985966128, 'colsample_bylevel': 0.5955297923123499, 'colsample_bynode': 0.7375286541693024, 'max_delta_step': 1, 'scale_pos_weight': 1.1093025726116066}. Best is trial 3 with value: 0.4906567815093249.\n"
     ]
    },
    {
     "name": "stdout",
     "output_type": "stream",
     "text": [
      "\n",
      "Trial Results:\n",
      "Mean R2 Score: 0.8912 (+/- 0.0209)\n",
      "Mean MAE: 0.5332 (+/- 0.0853)\n"
     ]
    },
    {
     "name": "stderr",
     "output_type": "stream",
     "text": [
      "[I 2024-12-19 17:56:02,676] Trial 17 finished with value: 0.7867580330035864 and parameters: {'n_estimators': 924, 'max_depth': 25, 'min_child_weight': 6, 'learning_rate': 0.001602195115232181, 'gamma': 1.6374814021358703e-08, 'reg_alpha': 1.3703777791070766e-08, 'reg_lambda': 6.725153866190531e-08, 'subsample': 0.7120031178603141, 'colsample_bytree': 0.5068936079422122, 'colsample_bylevel': 0.9231780861143771, 'colsample_bynode': 0.5235702823260531, 'max_delta_step': 0, 'scale_pos_weight': 0.9553709769387859}. Best is trial 3 with value: 0.4906567815093249.\n"
     ]
    },
    {
     "name": "stdout",
     "output_type": "stream",
     "text": [
      "\n",
      "Trial Results:\n",
      "Mean R2 Score: 0.7948 (+/- 0.0202)\n",
      "Mean MAE: 0.7868 (+/- 0.1625)\n"
     ]
    },
    {
     "name": "stderr",
     "output_type": "stream",
     "text": [
      "[I 2024-12-19 17:56:03,629] Trial 25 finished with value: 0.6047908082637331 and parameters: {'n_estimators': 532, 'max_depth': 20, 'min_child_weight': 8, 'learning_rate': 0.004031711828580314, 'gamma': 0.0024035815085183664, 'reg_alpha': 5.174933031299818e-05, 'reg_lambda': 0.0839165038914516, 'subsample': 0.6251537247595589, 'colsample_bytree': 0.9046516585600559, 'colsample_bylevel': 0.6567878693060278, 'colsample_bynode': 0.629428808419048, 'max_delta_step': 7, 'scale_pos_weight': 1.1569224768835038}. Best is trial 3 with value: 0.4906567815093249.\n"
     ]
    },
    {
     "name": "stdout",
     "output_type": "stream",
     "text": [
      "\n",
      "Trial Results:\n",
      "Mean R2 Score: 0.8711 (+/- 0.0158)\n",
      "Mean MAE: 0.6048 (+/- 0.1106)\n"
     ]
    },
    {
     "name": "stderr",
     "output_type": "stream",
     "text": [
      "[I 2024-12-19 17:56:04,938] Trial 29 finished with value: 0.4905038609984488 and parameters: {'n_estimators': 314, 'max_depth': 21, 'min_child_weight': 7, 'learning_rate': 0.026531391122763332, 'gamma': 0.0025128755787333043, 'reg_alpha': 2.4032015049261387e-05, 'reg_lambda': 0.10283057564200286, 'subsample': 0.6340338467335831, 'colsample_bytree': 0.9020804010123896, 'colsample_bylevel': 0.8656149317643109, 'colsample_bynode': 0.6000006140823133, 'max_delta_step': 2, 'scale_pos_weight': 1.1473878200908723}. Best is trial 29 with value: 0.4905038609984488.\n"
     ]
    },
    {
     "name": "stdout",
     "output_type": "stream",
     "text": [
      "\n",
      "Trial Results:\n",
      "Mean R2 Score: 0.9014 (+/- 0.0185)\n",
      "Mean MAE: 0.4905 (+/- 0.0802)\n"
     ]
    },
    {
     "name": "stderr",
     "output_type": "stream",
     "text": [
      "[I 2024-12-19 17:56:13,554] Trial 27 finished with value: 0.49461296794301113 and parameters: {'n_estimators': 488, 'max_depth': 21, 'min_child_weight': 7, 'learning_rate': 0.013097042999907445, 'gamma': 0.0028607152734083756, 'reg_alpha': 2.5569513554179707e-05, 'reg_lambda': 0.05603803103754843, 'subsample': 0.6251244992062053, 'colsample_bytree': 0.9241287644782503, 'colsample_bylevel': 0.6738035546982202, 'colsample_bynode': 0.6147726052070871, 'max_delta_step': 7, 'scale_pos_weight': 1.15603541589564}. Best is trial 29 with value: 0.4905038609984488.\n"
     ]
    },
    {
     "name": "stdout",
     "output_type": "stream",
     "text": [
      "\n",
      "Trial Results:\n",
      "Mean R2 Score: 0.9015 (+/- 0.0194)\n",
      "Mean MAE: 0.4946 (+/- 0.0817)\n"
     ]
    },
    {
     "name": "stderr",
     "output_type": "stream",
     "text": [
      "[I 2024-12-19 17:56:16,757] Trial 35 finished with value: 0.4965908691446582 and parameters: {'n_estimators': 454, 'max_depth': 9, 'min_child_weight': 8, 'learning_rate': 0.011826847865087612, 'gamma': 4.275327281665162e-05, 'reg_alpha': 2.115763584457908e-07, 'reg_lambda': 0.022218342388491276, 'subsample': 0.8338188370654196, 'colsample_bytree': 0.8847478643095097, 'colsample_bylevel': 0.6024283909845212, 'colsample_bynode': 0.8667387994319177, 'max_delta_step': 1, 'scale_pos_weight': 1.032688179501544}. Best is trial 29 with value: 0.4905038609984488.\n"
     ]
    },
    {
     "name": "stdout",
     "output_type": "stream",
     "text": [
      "\n",
      "Trial Results:\n",
      "Mean R2 Score: 0.9003 (+/- 0.0195)\n",
      "Mean MAE: 0.4966 (+/- 0.0827)\n"
     ]
    },
    {
     "name": "stderr",
     "output_type": "stream",
     "text": [
      "[I 2024-12-19 17:56:25,855] Trial 36 finished with value: 0.4887838861732515 and parameters: {'n_estimators': 751, 'max_depth': 8, 'min_child_weight': 4, 'learning_rate': 0.013143742768462556, 'gamma': 5.4558812399181674e-05, 'reg_alpha': 0.00018146754869045433, 'reg_lambda': 0.02336273341510333, 'subsample': 0.8283672208708563, 'colsample_bytree': 0.8843051802349811, 'colsample_bylevel': 0.5014147107364173, 'colsample_bynode': 0.869495626141501, 'max_delta_step': 1, 'scale_pos_weight': 1.097055264228363}. Best is trial 36 with value: 0.4887838861732515.\n"
     ]
    },
    {
     "name": "stdout",
     "output_type": "stream",
     "text": [
      "\n",
      "Trial Results:\n",
      "Mean R2 Score: 0.9026 (+/- 0.0191)\n",
      "Mean MAE: 0.4888 (+/- 0.0792)\n"
     ]
    },
    {
     "name": "stderr",
     "output_type": "stream",
     "text": [
      "[I 2024-12-19 17:56:28,390] Trial 37 finished with value: 0.5008902825797499 and parameters: {'n_estimators': 729, 'max_depth': 9, 'min_child_weight': 4, 'learning_rate': 0.0723549276740104, 'gamma': 5.0102421384763884e-05, 'reg_alpha': 0.00012785819375085836, 'reg_lambda': 0.021587604613771297, 'subsample': 0.8326052772308848, 'colsample_bytree': 0.9794213895150384, 'colsample_bylevel': 0.7868680106401356, 'colsample_bynode': 0.8553084762557328, 'max_delta_step': 7, 'scale_pos_weight': 0.9341430620253413}. Best is trial 36 with value: 0.4887838861732515.\n"
     ]
    },
    {
     "name": "stdout",
     "output_type": "stream",
     "text": [
      "\n",
      "Trial Results:\n",
      "Mean R2 Score: 0.8957 (+/- 0.0183)\n",
      "Mean MAE: 0.5009 (+/- 0.0665)\n"
     ]
    },
    {
     "name": "stderr",
     "output_type": "stream",
     "text": [
      "[I 2024-12-19 17:56:32,807] Trial 41 finished with value: 0.5081031709976869 and parameters: {'n_estimators': 733, 'max_depth': 16, 'min_child_weight': 9, 'learning_rate': 0.06739398930485349, 'gamma': 0.0007854309601978713, 'reg_alpha': 0.00022595106260634893, 'reg_lambda': 0.02285680414774456, 'subsample': 0.8333704685042405, 'colsample_bytree': 0.8737642036183656, 'colsample_bylevel': 0.7987392484981787, 'colsample_bynode': 0.8658360950176425, 'max_delta_step': 1, 'scale_pos_weight': 1.0775348836313143}. Best is trial 36 with value: 0.4887838861732515.\n"
     ]
    },
    {
     "name": "stdout",
     "output_type": "stream",
     "text": [
      "\n",
      "Trial Results:\n",
      "Mean R2 Score: 0.8960 (+/- 0.0211)\n",
      "Mean MAE: 0.5081 (+/- 0.0844)\n"
     ]
    },
    {
     "name": "stderr",
     "output_type": "stream",
     "text": [
      "[I 2024-12-19 17:56:37,208] Trial 40 finished with value: 0.4950759101340152 and parameters: {'n_estimators': 636, 'max_depth': 15, 'min_child_weight': 9, 'learning_rate': 0.035356400135426555, 'gamma': 6.726830702737888e-05, 'reg_alpha': 0.0031440644282942016, 'reg_lambda': 0.022003936685162744, 'subsample': 0.9992841350050402, 'colsample_bytree': 0.6373310111533378, 'colsample_bylevel': 0.5674207420533439, 'colsample_bynode': 0.8338584044956526, 'max_delta_step': 6, 'scale_pos_weight': 1.068032738835945}. Best is trial 36 with value: 0.4887838861732515.\n"
     ]
    },
    {
     "name": "stdout",
     "output_type": "stream",
     "text": [
      "\n",
      "Trial Results:\n",
      "Mean R2 Score: 0.9031 (+/- 0.0185)\n",
      "Mean MAE: 0.4951 (+/- 0.0912)\n"
     ]
    },
    {
     "name": "stderr",
     "output_type": "stream",
     "text": [
      "[I 2024-12-19 17:56:39,168] Trial 39 finished with value: 0.5007419772489214 and parameters: {'n_estimators': 632, 'max_depth': 15, 'min_child_weight': 9, 'learning_rate': 0.033944632919102206, 'gamma': 6.696400793293583e-05, 'reg_alpha': 0.004627993828798327, 'reg_lambda': 0.020806864747518913, 'subsample': 0.9707416442041259, 'colsample_bytree': 0.6132044612884358, 'colsample_bylevel': 0.5679372095755258, 'colsample_bynode': 0.8641345982423517, 'max_delta_step': 7, 'scale_pos_weight': 1.0615820464531283}. Best is trial 36 with value: 0.4887838861732515.\n"
     ]
    },
    {
     "name": "stdout",
     "output_type": "stream",
     "text": [
      "\n",
      "Trial Results:\n",
      "Mean R2 Score: 0.9013 (+/- 0.0153)\n",
      "Mean MAE: 0.5007 (+/- 0.0816)\n"
     ]
    },
    {
     "name": "stderr",
     "output_type": "stream",
     "text": [
      "[I 2024-12-19 17:56:42,140] Trial 38 finished with value: 0.4957485231147496 and parameters: {'n_estimators': 681, 'max_depth': 16, 'min_child_weight': 9, 'learning_rate': 0.03307277514484208, 'gamma': 4.9167373496386256e-05, 'reg_alpha': 0.00031291474993758796, 'reg_lambda': 0.026674906306129, 'subsample': 0.9894215515408956, 'colsample_bytree': 0.615733790317275, 'colsample_bylevel': 0.7849143525090322, 'colsample_bynode': 0.8572682116365972, 'max_delta_step': 7, 'scale_pos_weight': 1.059243052119012}. Best is trial 36 with value: 0.4887838861732515.\n"
     ]
    },
    {
     "name": "stdout",
     "output_type": "stream",
     "text": [
      "\n",
      "Trial Results:\n",
      "Mean R2 Score: 0.9023 (+/- 0.0186)\n",
      "Mean MAE: 0.4957 (+/- 0.0818)\n"
     ]
    },
    {
     "name": "stderr",
     "output_type": "stream",
     "text": [
      "[I 2024-12-19 17:56:48,013] Trial 42 finished with value: 0.4999028938723046 and parameters: {'n_estimators': 620, 'max_depth': 16, 'min_child_weight': 9, 'learning_rate': 0.032233223024443154, 'gamma': 0.00011176176973735682, 'reg_alpha': 0.00014491364374603108, 'reg_lambda': 0.0013959891904331543, 'subsample': 0.5866494060543882, 'colsample_bytree': 0.973352250784826, 'colsample_bylevel': 0.7079991273507317, 'colsample_bynode': 0.6525506634101355, 'max_delta_step': 7, 'scale_pos_weight': 1.077084737376116}. Best is trial 36 with value: 0.4887838861732515.\n"
     ]
    },
    {
     "name": "stdout",
     "output_type": "stream",
     "text": [
      "\n",
      "Trial Results:\n",
      "Mean R2 Score: 0.8999 (+/- 0.0209)\n",
      "Mean MAE: 0.4999 (+/- 0.0891)\n"
     ]
    },
    {
     "name": "stderr",
     "output_type": "stream",
     "text": [
      "[I 2024-12-19 17:56:49,004] Trial 43 finished with value: 0.4992408197253083 and parameters: {'n_estimators': 616, 'max_depth': 15, 'min_child_weight': 9, 'learning_rate': 0.03474721542735047, 'gamma': 0.0001032508320272883, 'reg_alpha': 0.00019136633153303965, 'reg_lambda': 0.0015953115931418805, 'subsample': 0.5876881007510915, 'colsample_bytree': 0.9605343755790475, 'colsample_bylevel': 0.5654879884002459, 'colsample_bynode': 0.6543430205090504, 'max_delta_step': 8, 'scale_pos_weight': 1.0832161172143244}. Best is trial 36 with value: 0.4887838861732515.\n"
     ]
    },
    {
     "name": "stdout",
     "output_type": "stream",
     "text": [
      "\n",
      "Trial Results:\n",
      "Mean R2 Score: 0.8998 (+/- 0.0184)\n",
      "Mean MAE: 0.4992 (+/- 0.0903)\n"
     ]
    },
    {
     "name": "stderr",
     "output_type": "stream",
     "text": [
      "[I 2024-12-19 17:57:02,304] Trial 45 finished with value: 0.4926219831761715 and parameters: {'n_estimators': 614, 'max_depth': 17, 'min_child_weight': 9, 'learning_rate': 0.017136379005372595, 'gamma': 0.0007262006564412931, 'reg_alpha': 0.002296210908374593, 'reg_lambda': 0.27180679410851627, 'subsample': 0.7424930000108977, 'colsample_bytree': 0.9577305878267278, 'colsample_bylevel': 0.5007407500683688, 'colsample_bynode': 0.6525097348283709, 'max_delta_step': 3, 'scale_pos_weight': 1.0789567669404563}. Best is trial 36 with value: 0.4887838861732515.\n"
     ]
    },
    {
     "name": "stdout",
     "output_type": "stream",
     "text": [
      "\n",
      "Trial Results:\n",
      "Mean R2 Score: 0.9017 (+/- 0.0187)\n",
      "Mean MAE: 0.4926 (+/- 0.0910)\n"
     ]
    },
    {
     "name": "stderr",
     "output_type": "stream",
     "text": [
      "[I 2024-12-19 17:57:03,936] Trial 44 finished with value: 0.4954265005974655 and parameters: {'n_estimators': 698, 'max_depth': 17, 'min_child_weight': 9, 'learning_rate': 0.016224323460427164, 'gamma': 0.00015014457571325138, 'reg_alpha': 0.006068165511139507, 'reg_lambda': 0.3597506882509981, 'subsample': 0.598733386906001, 'colsample_bytree': 0.9652144051045064, 'colsample_bylevel': 0.5043970101194977, 'colsample_bynode': 0.6524751256116573, 'max_delta_step': 3, 'scale_pos_weight': 1.0670322560089676}. Best is trial 36 with value: 0.4887838861732515.\n"
     ]
    },
    {
     "name": "stdout",
     "output_type": "stream",
     "text": [
      "\n",
      "Trial Results:\n",
      "Mean R2 Score: 0.9016 (+/- 0.0178)\n",
      "Mean MAE: 0.4954 (+/- 0.0962)\n"
     ]
    },
    {
     "name": "stderr",
     "output_type": "stream",
     "text": [
      "[I 2024-12-19 17:57:07,023] Trial 46 finished with value: 0.4916361292326565 and parameters: {'n_estimators': 611, 'max_depth': 18, 'min_child_weight': 9, 'learning_rate': 0.01692790924662749, 'gamma': 0.00012002062164856264, 'reg_alpha': 0.0022626453549954204, 'reg_lambda': 0.3339617747228317, 'subsample': 0.5770800862057296, 'colsample_bytree': 0.9264033711247062, 'colsample_bylevel': 0.7116118119180315, 'colsample_bynode': 0.6415526961430749, 'max_delta_step': 3, 'scale_pos_weight': 1.128466941945324}. Best is trial 36 with value: 0.4887838861732515.\n"
     ]
    },
    {
     "name": "stdout",
     "output_type": "stream",
     "text": [
      "\n",
      "Trial Results:\n",
      "Mean R2 Score: 0.9025 (+/- 0.0180)\n",
      "Mean MAE: 0.4916 (+/- 0.0858)\n"
     ]
    },
    {
     "name": "stderr",
     "output_type": "stream",
     "text": [
      "[I 2024-12-19 17:57:08,327] Trial 49 finished with value: 0.5030325330905461 and parameters: {'n_estimators': 592, 'max_depth': 18, 'min_child_weight': 10, 'learning_rate': 0.0188406670477553, 'gamma': 0.0001757988201405489, 'reg_alpha': 0.7081140313890648, 'reg_lambda': 0.25940803650582833, 'subsample': 0.7572747715499049, 'colsample_bytree': 0.963768895029989, 'colsample_bylevel': 0.5031049654371963, 'colsample_bynode': 0.6486309725228888, 'max_delta_step': 3, 'scale_pos_weight': 1.1264819692022476}. Best is trial 36 with value: 0.4887838861732515.\n"
     ]
    },
    {
     "name": "stdout",
     "output_type": "stream",
     "text": [
      "\n",
      "Trial Results:\n",
      "Mean R2 Score: 0.9002 (+/- 0.0187)\n",
      "Mean MAE: 0.5030 (+/- 0.0871)\n"
     ]
    },
    {
     "name": "stderr",
     "output_type": "stream",
     "text": [
      "[I 2024-12-19 17:57:13,453] Trial 48 finished with value: 0.4922605819736514 and parameters: {'n_estimators': 600, 'max_depth': 18, 'min_child_weight': 10, 'learning_rate': 0.016656788316736233, 'gamma': 0.0001879967162141297, 'reg_alpha': 0.0002665819026162922, 'reg_lambda': 0.30269249783797514, 'subsample': 0.9963398100290692, 'colsample_bytree': 0.9365049753050999, 'colsample_bylevel': 0.5161497099184932, 'colsample_bynode': 0.6588683350838727, 'max_delta_step': 3, 'scale_pos_weight': 1.1282587921884406}. Best is trial 36 with value: 0.4887838861732515.\n"
     ]
    },
    {
     "name": "stdout",
     "output_type": "stream",
     "text": [
      "\n",
      "Trial Results:\n",
      "Mean R2 Score: 0.9023 (+/- 0.0154)\n",
      "Mean MAE: 0.4923 (+/- 0.0833)\n"
     ]
    },
    {
     "name": "stderr",
     "output_type": "stream",
     "text": [
      "[I 2024-12-19 17:57:19,476] Trial 50 finished with value: 0.4922862915785882 and parameters: {'n_estimators': 581, 'max_depth': 18, 'min_child_weight': 10, 'learning_rate': 0.015673527853553873, 'gamma': 0.0008421903020860448, 'reg_alpha': 0.002261487526558825, 'reg_lambda': 0.35222942631733445, 'subsample': 0.7336753964512844, 'colsample_bytree': 0.9443917426402103, 'colsample_bylevel': 0.5678936096999551, 'colsample_bynode': 0.8261936718139347, 'max_delta_step': 3, 'scale_pos_weight': 1.1272640003892493}. Best is trial 36 with value: 0.4887838861732515.\n"
     ]
    },
    {
     "name": "stdout",
     "output_type": "stream",
     "text": [
      "\n",
      "Trial Results:\n",
      "Mean R2 Score: 0.9023 (+/- 0.0211)\n",
      "Mean MAE: 0.4923 (+/- 0.0904)\n"
     ]
    },
    {
     "name": "stderr",
     "output_type": "stream",
     "text": [
      "[I 2024-12-19 17:57:25,978] Trial 47 finished with value: 0.9453567603351356 and parameters: {'n_estimators': 834, 'max_depth': 18, 'min_child_weight': 3, 'learning_rate': 0.001026989897554625, 'gamma': 0.0008483696908403564, 'reg_alpha': 0.005460603773037161, 'reg_lambda': 0.30531875307790013, 'subsample': 0.5932404333960392, 'colsample_bytree': 0.9582353612775456, 'colsample_bylevel': 0.5024942324727931, 'colsample_bynode': 0.6466890267858081, 'max_delta_step': 3, 'scale_pos_weight': 1.092301736928049}. Best is trial 36 with value: 0.4887838861732515.\n"
     ]
    },
    {
     "name": "stdout",
     "output_type": "stream",
     "text": [
      "\n",
      "Trial Results:\n",
      "Mean R2 Score: 0.6992 (+/- 0.0155)\n",
      "Mean MAE: 0.9454 (+/- 0.1838)\n"
     ]
    },
    {
     "name": "stderr",
     "output_type": "stream",
     "text": [
      "[I 2024-12-19 17:57:28,619] Trial 51 finished with value: 0.4983070304957666 and parameters: {'n_estimators': 837, 'max_depth': 18, 'min_child_weight': 10, 'learning_rate': 0.016292695756121467, 'gamma': 0.0010314913493842887, 'reg_alpha': 0.0026980874353271333, 'reg_lambda': 0.23589416592141702, 'subsample': 0.543392948477132, 'colsample_bytree': 0.9395735759393301, 'colsample_bylevel': 0.5009806181052263, 'colsample_bynode': 0.7019853566477514, 'max_delta_step': 3, 'scale_pos_weight': 1.1247832639512503}. Best is trial 36 with value: 0.4887838861732515.\n"
     ]
    },
    {
     "name": "stdout",
     "output_type": "stream",
     "text": [
      "\n",
      "Trial Results:\n",
      "Mean R2 Score: 0.9008 (+/- 0.0155)\n",
      "Mean MAE: 0.4983 (+/- 0.0855)\n"
     ]
    },
    {
     "name": "stderr",
     "output_type": "stream",
     "text": [
      "[I 2024-12-19 17:57:32,536] Trial 52 finished with value: 0.4906269527390036 and parameters: {'n_estimators': 576, 'max_depth': 18, 'min_child_weight': 10, 'learning_rate': 0.016887072627565364, 'gamma': 0.0007775977597187298, 'reg_alpha': 3.574318529157175e-05, 'reg_lambda': 0.27436751651806895, 'subsample': 0.7321388525017029, 'colsample_bytree': 0.9452657874025304, 'colsample_bylevel': 0.520072400739358, 'colsample_bynode': 0.6874424609520586, 'max_delta_step': 3, 'scale_pos_weight': 1.126984953408897}. Best is trial 36 with value: 0.4887838861732515.\n",
      "[I 2024-12-19 17:57:32,638] Trial 58 finished with value: 0.5897799747699886 and parameters: {'n_estimators': 573, 'max_depth': 3, 'min_child_weight': 10, 'learning_rate': 0.008269720757748086, 'gamma': 0.00041590236427176304, 'reg_alpha': 0.012907290662584397, 'reg_lambda': 0.006671833928929056, 'subsample': 0.5600818961065178, 'colsample_bytree': 0.9354965450368907, 'colsample_bylevel': 0.5436466819260116, 'colsample_bynode': 0.7011525634705151, 'max_delta_step': 4, 'scale_pos_weight': 1.130115916800562}. Best is trial 36 with value: 0.4887838861732515.\n"
     ]
    },
    {
     "name": "stdout",
     "output_type": "stream",
     "text": [
      "\n",
      "Trial Results:\n",
      "Mean R2 Score: 0.9028 (+/- 0.0191)\n",
      "Mean MAE: 0.4906 (+/- 0.0796)\n",
      "\n",
      "Trial Results:\n",
      "Mean R2 Score: 0.8720 (+/- 0.0249)\n",
      "Mean MAE: 0.5898 (+/- 0.0899)\n"
     ]
    },
    {
     "name": "stderr",
     "output_type": "stream",
     "text": [
      "[I 2024-12-19 17:57:35,646] Trial 59 finished with value: 0.6086957503095796 and parameters: {'n_estimators': 574, 'max_depth': 3, 'min_child_weight': 10, 'learning_rate': 0.006295760700821316, 'gamma': 1.6748823891542358e-05, 'reg_alpha': 0.01624225678653267, 'reg_lambda': 0.006692337041747882, 'subsample': 0.7382076289544434, 'colsample_bytree': 0.9981484691068128, 'colsample_bylevel': 0.5475898060226042, 'colsample_bynode': 0.780396668728508, 'max_delta_step': 4, 'scale_pos_weight': 1.1380715631879628}. Best is trial 36 with value: 0.4887838861732515.\n"
     ]
    },
    {
     "name": "stdout",
     "output_type": "stream",
     "text": [
      "\n",
      "Trial Results:\n",
      "Mean R2 Score: 0.8663 (+/- 0.0237)\n",
      "Mean MAE: 0.6087 (+/- 0.0987)\n"
     ]
    },
    {
     "name": "stderr",
     "output_type": "stream",
     "text": [
      "[I 2024-12-19 17:57:37,026] Trial 54 finished with value: 0.5055028633214935 and parameters: {'n_estimators': 841, 'max_depth': 18, 'min_child_weight': 10, 'learning_rate': 0.018214654544867377, 'gamma': 0.0008412818525419577, 'reg_alpha': 0.9464807214795948, 'reg_lambda': 0.27629698461040125, 'subsample': 0.5454587920138827, 'colsample_bytree': 0.9434958771758445, 'colsample_bylevel': 0.5083739728033448, 'colsample_bynode': 0.7103433906985391, 'max_delta_step': 3, 'scale_pos_weight': 1.1307418763621395}. Best is trial 36 with value: 0.4887838861732515.\n"
     ]
    },
    {
     "name": "stdout",
     "output_type": "stream",
     "text": [
      "\n",
      "Trial Results:\n",
      "Mean R2 Score: 0.8982 (+/- 0.0199)\n",
      "Mean MAE: 0.5055 (+/- 0.0823)\n"
     ]
    },
    {
     "name": "stderr",
     "output_type": "stream",
     "text": [
      "[I 2024-12-19 17:57:41,308] Trial 55 finished with value: 0.5025982862897738 and parameters: {'n_estimators': 834, 'max_depth': 13, 'min_child_weight': 10, 'learning_rate': 0.007887489787955828, 'gamma': 0.000781777126654537, 'reg_alpha': 0.015414643322125455, 'reg_lambda': 0.21318598411894082, 'subsample': 0.541472241106367, 'colsample_bytree': 0.998865669306628, 'colsample_bylevel': 0.5395518248058476, 'colsample_bynode': 0.7014208315062591, 'max_delta_step': 3, 'scale_pos_weight': 1.1215394723958645}. Best is trial 36 with value: 0.4887838861732515.\n"
     ]
    },
    {
     "name": "stdout",
     "output_type": "stream",
     "text": [
      "\n",
      "Trial Results:\n",
      "Mean R2 Score: 0.8997 (+/- 0.0194)\n",
      "Mean MAE: 0.5026 (+/- 0.0869)\n"
     ]
    },
    {
     "name": "stderr",
     "output_type": "stream",
     "text": [
      "[I 2024-12-19 17:57:41,682] Trial 60 finished with value: 0.5679185309670178 and parameters: {'n_estimators': 767, 'max_depth': 3, 'min_child_weight': 8, 'learning_rate': 0.008610304881421872, 'gamma': 0.0002991331225204987, 'reg_alpha': 0.016585477184696624, 'reg_lambda': 0.46470282251621403, 'subsample': 0.5410213574037619, 'colsample_bytree': 0.9940209656973586, 'colsample_bylevel': 0.5424573066296556, 'colsample_bynode': 0.7084070357457404, 'max_delta_step': 4, 'scale_pos_weight': 1.1419407044910146}. Best is trial 36 with value: 0.4887838861732515.\n"
     ]
    },
    {
     "name": "stdout",
     "output_type": "stream",
     "text": [
      "\n",
      "Trial Results:\n",
      "Mean R2 Score: 0.8777 (+/- 0.0279)\n",
      "Mean MAE: 0.5679 (+/- 0.0855)\n"
     ]
    },
    {
     "name": "stderr",
     "output_type": "stream",
     "text": [
      "[I 2024-12-19 17:57:43,563] Trial 53 finished with value: 0.49432681832299463 and parameters: {'n_estimators': 816, 'max_depth': 18, 'min_child_weight': 10, 'learning_rate': 0.016505783510361846, 'gamma': 0.0007300175824814108, 'reg_alpha': 0.30647947836819944, 'reg_lambda': 0.2604076895417614, 'subsample': 0.7315451618102279, 'colsample_bytree': 0.943421890446652, 'colsample_bylevel': 0.5012025330866376, 'colsample_bynode': 0.6982079664717561, 'max_delta_step': 3, 'scale_pos_weight': 1.1293890908231963}. Best is trial 36 with value: 0.4887838861732515.\n"
     ]
    },
    {
     "name": "stdout",
     "output_type": "stream",
     "text": [
      "\n",
      "Trial Results:\n",
      "Mean R2 Score: 0.9020 (+/- 0.0189)\n",
      "Mean MAE: 0.4943 (+/- 0.0890)\n"
     ]
    },
    {
     "name": "stderr",
     "output_type": "stream",
     "text": [
      "[I 2024-12-19 17:57:49,765] Trial 56 finished with value: 0.4971489013868773 and parameters: {'n_estimators': 856, 'max_depth': 13, 'min_child_weight': 10, 'learning_rate': 0.009359216180183767, 'gamma': 1.7376851804945492e-05, 'reg_alpha': 0.015576343436563304, 'reg_lambda': 0.0072870187043549434, 'subsample': 0.544535109603004, 'colsample_bytree': 0.9985639493576692, 'colsample_bylevel': 0.5412259634489455, 'colsample_bynode': 0.7017259445365526, 'max_delta_step': 4, 'scale_pos_weight': 1.1341414477625416}. Best is trial 36 with value: 0.4887838861732515.\n"
     ]
    },
    {
     "name": "stdout",
     "output_type": "stream",
     "text": [
      "\n",
      "Trial Results:\n",
      "Mean R2 Score: 0.9006 (+/- 0.0194)\n",
      "Mean MAE: 0.4971 (+/- 0.0893)\n"
     ]
    },
    {
     "name": "stderr",
     "output_type": "stream",
     "text": [
      "[I 2024-12-19 17:57:51,858] Trial 57 finished with value: 0.5294885463397994 and parameters: {'n_estimators': 801, 'max_depth': 13, 'min_child_weight': 3, 'learning_rate': 0.007979587981576499, 'gamma': 1.9250654675848127e-05, 'reg_alpha': 0.0003793060354386337, 'reg_lambda': 0.19593732344217774, 'subsample': 0.5058016245933228, 'colsample_bytree': 0.5733433584076786, 'colsample_bylevel': 0.5439344491185013, 'colsample_bynode': 0.7150529639119623, 'max_delta_step': 4, 'scale_pos_weight': 0.8657000968734289}. Best is trial 36 with value: 0.4887838861732515.\n"
     ]
    },
    {
     "name": "stdout",
     "output_type": "stream",
     "text": [
      "\n",
      "Trial Results:\n",
      "Mean R2 Score: 0.8918 (+/- 0.0151)\n",
      "Mean MAE: 0.5295 (+/- 0.0966)\n"
     ]
    },
    {
     "name": "stderr",
     "output_type": "stream",
     "text": [
      "[I 2024-12-19 17:58:02,959] Trial 65 finished with value: 0.5259539496402138 and parameters: {'n_estimators': 439, 'max_depth': 23, 'min_child_weight': 8, 'learning_rate': 0.010076604978572884, 'gamma': 2.542247360388763e-06, 'reg_alpha': 5.104106784037279e-05, 'reg_lambda': 0.05273127966032153, 'subsample': 0.6709863834906291, 'colsample_bytree': 0.8743264065751258, 'colsample_bylevel': 0.5292467980489639, 'colsample_bynode': 0.5631449761148906, 'max_delta_step': 2, 'scale_pos_weight': 0.8337689637804827}. Best is trial 36 with value: 0.4887838861732515.\n"
     ]
    },
    {
     "name": "stdout",
     "output_type": "stream",
     "text": [
      "\n",
      "Trial Results:\n",
      "Mean R2 Score: 0.8934 (+/- 0.0159)\n",
      "Mean MAE: 0.5260 (+/- 0.0848)\n"
     ]
    },
    {
     "name": "stderr",
     "output_type": "stream",
     "text": [
      "[I 2024-12-19 17:58:04,142] Trial 62 finished with value: 0.5269833217467299 and parameters: {'n_estimators': 780, 'max_depth': 13, 'min_child_weight': 8, 'learning_rate': 0.010087346681736411, 'gamma': 1.8653157309175604e-06, 'reg_alpha': 0.00037581009578000596, 'reg_lambda': 0.003170790177499268, 'subsample': 0.670051701190281, 'colsample_bytree': 0.5686901419662802, 'colsample_bylevel': 0.5226628689482387, 'colsample_bynode': 0.7133981495538597, 'max_delta_step': 2, 'scale_pos_weight': 1.114213753255509}. Best is trial 36 with value: 0.4887838861732515.\n"
     ]
    },
    {
     "name": "stdout",
     "output_type": "stream",
     "text": [
      "\n",
      "Trial Results:\n",
      "Mean R2 Score: 0.8932 (+/- 0.0128)\n",
      "Mean MAE: 0.5270 (+/- 0.0825)\n"
     ]
    },
    {
     "name": "stderr",
     "output_type": "stream",
     "text": [
      "[I 2024-12-19 17:58:10,709] Trial 66 finished with value: 0.5115037518855603 and parameters: {'n_estimators': 671, 'max_depth': 23, 'min_child_weight': 8, 'learning_rate': 0.024887926075787298, 'gamma': 4.549438594385647e-06, 'reg_alpha': 0.000362970281369099, 'reg_lambda': 0.04243529227297275, 'subsample': 0.6699694271546051, 'colsample_bytree': 0.575851635061406, 'colsample_bylevel': 0.5235330939113653, 'colsample_bynode': 0.5626785078043021, 'max_delta_step': 2, 'scale_pos_weight': 1.1765144969447316}. Best is trial 36 with value: 0.4887838861732515.\n"
     ]
    },
    {
     "name": "stdout",
     "output_type": "stream",
     "text": [
      "\n",
      "Trial Results:\n",
      "Mean R2 Score: 0.8984 (+/- 0.0134)\n",
      "Mean MAE: 0.5115 (+/- 0.0854)\n"
     ]
    },
    {
     "name": "stderr",
     "output_type": "stream",
     "text": [
      "[I 2024-12-19 17:58:14,026] Trial 61 finished with value: 0.49283848453149953 and parameters: {'n_estimators': 750, 'max_depth': 22, 'min_child_weight': 8, 'learning_rate': 0.008539964591582095, 'gamma': 1.5605061406386392e-05, 'reg_alpha': 5.301917084469678e-05, 'reg_lambda': 0.010458749182507871, 'subsample': 0.6773930509089329, 'colsample_bytree': 0.9997702245883626, 'colsample_bylevel': 0.5434480444091774, 'colsample_bynode': 0.782087591918134, 'max_delta_step': 2, 'scale_pos_weight': 1.1798945924919713}. Best is trial 36 with value: 0.4887838861732515.\n"
     ]
    },
    {
     "name": "stdout",
     "output_type": "stream",
     "text": [
      "\n",
      "Trial Results:\n",
      "Mean R2 Score: 0.9020 (+/- 0.0191)\n",
      "Mean MAE: 0.4928 (+/- 0.0816)\n"
     ]
    },
    {
     "name": "stderr",
     "output_type": "stream",
     "text": [
      "[I 2024-12-19 17:58:16,339] Trial 67 finished with value: 0.5091752151396133 and parameters: {'n_estimators': 663, 'max_depth': 23, 'min_child_weight': 8, 'learning_rate': 0.02279203403158006, 'gamma': 1.861086486439363e-06, 'reg_alpha': 0.0004674665618741046, 'reg_lambda': 0.04265085010706916, 'subsample': 0.6823827432527108, 'colsample_bytree': 0.5401053556627888, 'colsample_bylevel': 0.5847112670296861, 'colsample_bynode': 0.5700502115138252, 'max_delta_step': 2, 'scale_pos_weight': 1.1782053720864152}. Best is trial 36 with value: 0.4887838861732515.\n"
     ]
    },
    {
     "name": "stdout",
     "output_type": "stream",
     "text": [
      "\n",
      "Trial Results:\n",
      "Mean R2 Score: 0.8975 (+/- 0.0149)\n",
      "Mean MAE: 0.5092 (+/- 0.0892)\n"
     ]
    },
    {
     "name": "stderr",
     "output_type": "stream",
     "text": [
      "[I 2024-12-19 17:58:17,983] Trial 64 finished with value: 0.5076509161849706 and parameters: {'n_estimators': 786, 'max_depth': 23, 'min_child_weight': 8, 'learning_rate': 0.00919252679439768, 'gamma': 3.5508723129830843e-06, 'reg_alpha': 0.00035480086167749916, 'reg_lambda': 0.48654180684075327, 'subsample': 0.6670053875493466, 'colsample_bytree': 0.5652766849527733, 'colsample_bylevel': 0.7199884325825828, 'colsample_bynode': 0.5629398189384288, 'max_delta_step': 2, 'scale_pos_weight': 1.179612509070416}. Best is trial 36 with value: 0.4887838861732515.\n"
     ]
    },
    {
     "name": "stdout",
     "output_type": "stream",
     "text": [
      "\n",
      "Trial Results:\n",
      "Mean R2 Score: 0.8991 (+/- 0.0152)\n",
      "Mean MAE: 0.5077 (+/- 0.0897)\n"
     ]
    },
    {
     "name": "stderr",
     "output_type": "stream",
     "text": [
      "[I 2024-12-19 17:58:18,826] Trial 70 finished with value: 0.495696530381462 and parameters: {'n_estimators': 664, 'max_depth': 19, 'min_child_weight': 2, 'learning_rate': 0.022787018061575074, 'gamma': 0.014156408916447004, 'reg_alpha': 0.04408830103690426, 'reg_lambda': 0.5176361294500346, 'subsample': 0.7742944594040286, 'colsample_bytree': 0.8990283122200835, 'colsample_bylevel': 0.7522230783254066, 'colsample_bynode': 0.6772274635952557, 'max_delta_step': 2, 'scale_pos_weight': 1.1702895559438502}. Best is trial 36 with value: 0.4887838861732515.\n"
     ]
    },
    {
     "name": "stdout",
     "output_type": "stream",
     "text": [
      "\n",
      "Trial Results:\n",
      "Mean R2 Score: 0.8995 (+/- 0.0184)\n",
      "Mean MAE: 0.4957 (+/- 0.0850)\n"
     ]
    },
    {
     "name": "stderr",
     "output_type": "stream",
     "text": [
      "[I 2024-12-19 17:58:22,092] Trial 63 finished with value: 0.4913308308442387 and parameters: {'n_estimators': 768, 'max_depth': 23, 'min_child_weight': 8, 'learning_rate': 0.009004059480601186, 'gamma': 5.678065510947803e-07, 'reg_alpha': 0.00038300898318820257, 'reg_lambda': 0.5430428815566491, 'subsample': 0.9258546585085943, 'colsample_bytree': 0.8789130892873718, 'colsample_bylevel': 0.5346066577384138, 'colsample_bynode': 0.5722722353157372, 'max_delta_step': 2, 'scale_pos_weight': 0.8702775653688282}. Best is trial 36 with value: 0.4887838861732515.\n"
     ]
    },
    {
     "name": "stdout",
     "output_type": "stream",
     "text": [
      "\n",
      "Trial Results:\n",
      "Mean R2 Score: 0.9020 (+/- 0.0165)\n",
      "Mean MAE: 0.4913 (+/- 0.0813)\n"
     ]
    },
    {
     "name": "stderr",
     "output_type": "stream",
     "text": [
      "[I 2024-12-19 17:58:27,909] Trial 72 finished with value: 0.504478751668298 and parameters: {'n_estimators': 554, 'max_depth': 19, 'min_child_weight': 2, 'learning_rate': 0.02357066776923926, 'gamma': 0.015999385355596727, 'reg_alpha': 0.04676223057659159, 'reg_lambda': 0.5033106476931468, 'subsample': 0.9139209520027448, 'colsample_bytree': 0.8980306551658317, 'colsample_bylevel': 0.5856306675048226, 'colsample_bynode': 0.6763129762742698, 'max_delta_step': 5, 'scale_pos_weight': 1.096753468766625}. Best is trial 36 with value: 0.4887838861732515.\n"
     ]
    },
    {
     "name": "stdout",
     "output_type": "stream",
     "text": [
      "\n",
      "Trial Results:\n",
      "Mean R2 Score: 0.8973 (+/- 0.0170)\n",
      "Mean MAE: 0.5045 (+/- 0.0863)\n"
     ]
    },
    {
     "name": "stderr",
     "output_type": "stream",
     "text": [
      "[I 2024-12-19 17:58:31,084] Trial 71 finished with value: 0.4955643723972855 and parameters: {'n_estimators': 569, 'max_depth': 19, 'min_child_weight': 9, 'learning_rate': 0.023248675857485416, 'gamma': 0.009277711700637804, 'reg_alpha': 7.11085730708235e-05, 'reg_lambda': 0.5199193319494249, 'subsample': 0.7747721139185021, 'colsample_bytree': 0.9009606845097479, 'colsample_bylevel': 0.5807918883966056, 'colsample_bynode': 0.675735810382827, 'max_delta_step': 5, 'scale_pos_weight': 1.1768991644262454}. Best is trial 36 with value: 0.4887838861732515.\n"
     ]
    },
    {
     "name": "stdout",
     "output_type": "stream",
     "text": [
      "\n",
      "Trial Results:\n",
      "Mean R2 Score: 0.9026 (+/- 0.0190)\n",
      "Mean MAE: 0.4956 (+/- 0.0875)\n"
     ]
    },
    {
     "name": "stderr",
     "output_type": "stream",
     "text": [
      "[I 2024-12-19 17:58:31,482] Trial 68 finished with value: 0.48969530796458577 and parameters: {'n_estimators': 669, 'max_depth': 23, 'min_child_weight': 8, 'learning_rate': 0.021671155425681713, 'gamma': 1.481450950449047e-06, 'reg_alpha': 5.9447286900058854e-05, 'reg_lambda': 0.49876145766003804, 'subsample': 0.6725967301154686, 'colsample_bytree': 0.8764549081342204, 'colsample_bylevel': 0.5834032063148181, 'colsample_bynode': 0.7737612703134842, 'max_delta_step': 2, 'scale_pos_weight': 1.180262412511397}. Best is trial 36 with value: 0.4887838861732515.\n"
     ]
    },
    {
     "name": "stdout",
     "output_type": "stream",
     "text": [
      "\n",
      "Trial Results:\n",
      "Mean R2 Score: 0.9022 (+/- 0.0183)\n",
      "Mean MAE: 0.4897 (+/- 0.0790)\n"
     ]
    },
    {
     "name": "stderr",
     "output_type": "stream",
     "text": [
      "[I 2024-12-19 17:58:36,843] Trial 69 finished with value: 0.49320078769006115 and parameters: {'n_estimators': 547, 'max_depth': 19, 'min_child_weight': 9, 'learning_rate': 0.02408906442906377, 'gamma': 0.0002195921266371329, 'reg_alpha': 0.0005712044833762638, 'reg_lambda': 0.5587167721867885, 'subsample': 0.9279349952496356, 'colsample_bytree': 0.8966909528866995, 'colsample_bylevel': 0.5857977531916663, 'colsample_bynode': 0.7846587225779605, 'max_delta_step': 2, 'scale_pos_weight': 1.1723052370263571}. Best is trial 36 with value: 0.4887838861732515.\n"
     ]
    },
    {
     "name": "stdout",
     "output_type": "stream",
     "text": [
      "\n",
      "Trial Results:\n",
      "Mean R2 Score: 0.9023 (+/- 0.0198)\n",
      "Mean MAE: 0.4932 (+/- 0.0846)\n"
     ]
    },
    {
     "name": "stderr",
     "output_type": "stream",
     "text": [
      "[I 2024-12-19 17:58:50,660] Trial 73 finished with value: 0.517912853953949 and parameters: {'n_estimators': 555, 'max_depth': 19, 'min_child_weight': 2, 'learning_rate': 0.005744777830787351, 'gamma': 0.015087722193282306, 'reg_alpha': 1.1554766757828091e-05, 'reg_lambda': 0.5056869992388976, 'subsample': 0.7756776281706365, 'colsample_bytree': 0.9004714296934209, 'colsample_bylevel': 0.7578004547687759, 'colsample_bynode': 0.6799944287292142, 'max_delta_step': 1, 'scale_pos_weight': 1.097119113625201}. Best is trial 36 with value: 0.4887838861732515.\n"
     ]
    },
    {
     "name": "stdout",
     "output_type": "stream",
     "text": [
      "\n",
      "Trial Results:\n",
      "Mean R2 Score: 0.8949 (+/- 0.0148)\n",
      "Mean MAE: 0.5179 (+/- 0.0882)\n"
     ]
    },
    {
     "name": "stderr",
     "output_type": "stream",
     "text": [
      "[I 2024-12-19 17:58:55,371] Trial 74 finished with value: 0.5185944741023472 and parameters: {'n_estimators': 561, 'max_depth': 19, 'min_child_weight': 2, 'learning_rate': 0.005302710208287945, 'gamma': 0.011437188810401589, 'reg_alpha': 8.856703298065042e-06, 'reg_lambda': 0.1425528389327586, 'subsample': 0.9205469487943895, 'colsample_bytree': 0.9062469214058547, 'colsample_bylevel': 0.6381630996560882, 'colsample_bynode': 0.6822231995370127, 'max_delta_step': 5, 'scale_pos_weight': 1.1117511720974171}. Best is trial 36 with value: 0.4887838861732515.\n"
     ]
    },
    {
     "name": "stdout",
     "output_type": "stream",
     "text": [
      "\n",
      "Trial Results:\n",
      "Mean R2 Score: 0.8941 (+/- 0.0170)\n",
      "Mean MAE: 0.5186 (+/- 0.0885)\n"
     ]
    },
    {
     "name": "stderr",
     "output_type": "stream",
     "text": [
      "[I 2024-12-19 17:59:05,793] Trial 75 finished with value: 0.49570561155250525 and parameters: {'n_estimators': 567, 'max_depth': 19, 'min_child_weight': 4, 'learning_rate': 0.006155241157328408, 'gamma': 0.0014847066081467403, 'reg_alpha': 3.2748291543819298e-06, 'reg_lambda': 0.12939813054862206, 'subsample': 0.9216613292929942, 'colsample_bytree': 0.9138462807520529, 'colsample_bylevel': 0.8276854662608119, 'colsample_bynode': 0.8272277809048781, 'max_delta_step': 5, 'scale_pos_weight': 1.0960363346422135}. Best is trial 36 with value: 0.4887838861732515.\n"
     ]
    },
    {
     "name": "stdout",
     "output_type": "stream",
     "text": [
      "\n",
      "Trial Results:\n",
      "Mean R2 Score: 0.8978 (+/- 0.0192)\n",
      "Mean MAE: 0.4957 (+/- 0.0739)\n"
     ]
    },
    {
     "name": "stderr",
     "output_type": "stream",
     "text": [
      "[I 2024-12-19 17:59:14,727] Trial 78 finished with value: 0.5206925463944156 and parameters: {'n_estimators': 707, 'max_depth': 17, 'min_child_weight': 10, 'learning_rate': 0.005829352223525017, 'gamma': 1.0491996106127328e-07, 'reg_alpha': 0.0010480406549924885, 'reg_lambda': 0.9695347837836333, 'subsample': 0.8740774646236285, 'colsample_bytree': 0.8643285527738664, 'colsample_bylevel': 0.6368426955973425, 'colsample_bynode': 0.5448222322654681, 'max_delta_step': 1, 'scale_pos_weight': 1.0455352040025112}. Best is trial 36 with value: 0.4887838861732515.\n"
     ]
    },
    {
     "name": "stdout",
     "output_type": "stream",
     "text": [
      "\n",
      "Trial Results:\n",
      "Mean R2 Score: 0.8950 (+/- 0.0165)\n",
      "Mean MAE: 0.5207 (+/- 0.0904)\n"
     ]
    },
    {
     "name": "stderr",
     "output_type": "stream",
     "text": [
      "[I 2024-12-19 17:59:22,210] Trial 76 finished with value: 0.5011215041017972 and parameters: {'n_estimators': 711, 'max_depth': 24, 'min_child_weight': 5, 'learning_rate': 0.005006283749006648, 'gamma': 3.4084406140108486e-07, 'reg_alpha': 1.1936282539368716e-05, 'reg_lambda': 0.13721756437289143, 'subsample': 0.9279760284629825, 'colsample_bytree': 0.8383744648457637, 'colsample_bylevel': 0.8413242962124462, 'colsample_bynode': 0.589725485919532, 'max_delta_step': 1, 'scale_pos_weight': 1.1002858829611695}. Best is trial 36 with value: 0.4887838861732515.\n"
     ]
    },
    {
     "name": "stdout",
     "output_type": "stream",
     "text": [
      "\n",
      "Trial Results:\n",
      "Mean R2 Score: 0.8985 (+/- 0.0157)\n",
      "Mean MAE: 0.5011 (+/- 0.0809)\n"
     ]
    },
    {
     "name": "stderr",
     "output_type": "stream",
     "text": [
      "[I 2024-12-19 17:59:36,312] Trial 79 finished with value: 0.49222132377988165 and parameters: {'n_estimators': 710, 'max_depth': 25, 'min_child_weight': 5, 'learning_rate': 0.005605949023455056, 'gamma': 4.241652173595003e-07, 'reg_alpha': 1.4834243339207146e-05, 'reg_lambda': 0.11545888663722198, 'subsample': 0.9455908423021222, 'colsample_bytree': 0.8421226322155357, 'colsample_bylevel': 0.6379357939556183, 'colsample_bynode': 0.9743213341010422, 'max_delta_step': 1, 'scale_pos_weight': 1.1118245694117221}. Best is trial 36 with value: 0.4887838861732515.\n"
     ]
    },
    {
     "name": "stdout",
     "output_type": "stream",
     "text": [
      "\n",
      "Trial Results:\n",
      "Mean R2 Score: 0.9005 (+/- 0.0170)\n",
      "Mean MAE: 0.4922 (+/- 0.0767)\n"
     ]
    },
    {
     "name": "stderr",
     "output_type": "stream",
     "text": [
      "[I 2024-12-19 17:59:44,527] Trial 80 finished with value: 0.4915119124791351 and parameters: {'n_estimators': 704, 'max_depth': 24, 'min_child_weight': 5, 'learning_rate': 0.014412663137263129, 'gamma': 6.922254597513798e-07, 'reg_alpha': 9.772942044091725e-06, 'reg_lambda': 0.13254808600373197, 'subsample': 0.9636699833380167, 'colsample_bytree': 0.9208331727429254, 'colsample_bylevel': 0.6321537317846678, 'colsample_bynode': 0.5449881451077327, 'max_delta_step': 1, 'scale_pos_weight': 0.8966182248804873}. Best is trial 36 with value: 0.4887838861732515.\n"
     ]
    },
    {
     "name": "stdout",
     "output_type": "stream",
     "text": [
      "\n",
      "Trial Results:\n",
      "Mean R2 Score: 0.9012 (+/- 0.0166)\n",
      "Mean MAE: 0.4915 (+/- 0.0803)\n"
     ]
    },
    {
     "name": "stderr",
     "output_type": "stream",
     "text": [
      "[I 2024-12-19 17:59:47,403] Trial 77 finished with value: 0.4915706379868909 and parameters: {'n_estimators': 898, 'max_depth': 24, 'min_child_weight': 5, 'learning_rate': 0.005937632354097461, 'gamma': 2.7565107310862254e-07, 'reg_alpha': 9.274645675207509e-06, 'reg_lambda': 0.11740286093631169, 'subsample': 0.9289974835261617, 'colsample_bytree': 0.9186152236712788, 'colsample_bylevel': 0.6365282418060562, 'colsample_bynode': 0.5987715449313388, 'max_delta_step': 1, 'scale_pos_weight': 0.8907645781970209}. Best is trial 36 with value: 0.4887838861732515.\n"
     ]
    },
    {
     "name": "stdout",
     "output_type": "stream",
     "text": [
      "\n",
      "Trial Results:\n",
      "Mean R2 Score: 0.9008 (+/- 0.0171)\n",
      "Mean MAE: 0.4916 (+/- 0.0807)\n"
     ]
    },
    {
     "name": "stderr",
     "output_type": "stream",
     "text": [
      "[I 2024-12-19 17:59:50,410] Trial 82 finished with value: 0.5917060547052653 and parameters: {'n_estimators': 684, 'max_depth': 21, 'min_child_weight': 5, 'learning_rate': 0.003132797434425725, 'gamma': 9.268909016499072e-06, 'reg_alpha': 1.1099430300925417e-06, 'reg_lambda': 0.12868541475284256, 'subsample': 0.8748853390039071, 'colsample_bytree': 0.8593075750962951, 'colsample_bylevel': 0.848300763074346, 'colsample_bynode': 0.5430630701856931, 'max_delta_step': 1, 'scale_pos_weight': 0.9064602826228395}. Best is trial 36 with value: 0.4887838861732515.\n"
     ]
    },
    {
     "name": "stdout",
     "output_type": "stream",
     "text": [
      "\n",
      "Trial Results:\n",
      "Mean R2 Score: 0.8754 (+/- 0.0132)\n",
      "Mean MAE: 0.5917 (+/- 0.1090)\n"
     ]
    },
    {
     "name": "stderr",
     "output_type": "stream",
     "text": [
      "[I 2024-12-19 17:59:59,811] Trial 81 finished with value: 0.4974995288372813 and parameters: {'n_estimators': 717, 'max_depth': 24, 'min_child_weight': 4, 'learning_rate': 0.040758966406802766, 'gamma': 5.345914416866859e-07, 'reg_alpha': 1.2593502994188755e-05, 'reg_lambda': 0.14113825700457638, 'subsample': 0.9540966401674665, 'colsample_bytree': 0.8616595137712257, 'colsample_bylevel': 0.6331635979179493, 'colsample_bynode': 0.587445894061923, 'max_delta_step': 1, 'scale_pos_weight': 0.9067820279981097}. Best is trial 36 with value: 0.4887838861732515.\n"
     ]
    },
    {
     "name": "stdout",
     "output_type": "stream",
     "text": [
      "\n",
      "Trial Results:\n",
      "Mean R2 Score: 0.8985 (+/- 0.0176)\n",
      "Mean MAE: 0.4975 (+/- 0.0785)\n"
     ]
    },
    {
     "name": "stderr",
     "output_type": "stream",
     "text": [
      "[I 2024-12-19 18:00:08,205] Trial 84 finished with value: 0.5889150570785707 and parameters: {'n_estimators': 704, 'max_depth': 24, 'min_child_weight': 7, 'learning_rate': 0.003184503954686403, 'gamma': 2.8169523096644505e-07, 'reg_alpha': 1.0951275188061356e-06, 'reg_lambda': 2.3818651454444607e-05, 'subsample': 0.9741372170557725, 'colsample_bytree': 0.8819895891668654, 'colsample_bylevel': 0.5551475225025346, 'colsample_bynode': 0.5905441693323845, 'max_delta_step': 0, 'scale_pos_weight': 1.1427558956510069}. Best is trial 36 with value: 0.4887838861732515.\n"
     ]
    },
    {
     "name": "stdout",
     "output_type": "stream",
     "text": [
      "\n",
      "Trial Results:\n",
      "Mean R2 Score: 0.8758 (+/- 0.0154)\n",
      "Mean MAE: 0.5889 (+/- 0.1131)\n"
     ]
    },
    {
     "name": "stderr",
     "output_type": "stream",
     "text": [
      "[I 2024-12-19 18:00:10,711] Trial 83 finished with value: 0.4899330224523486 and parameters: {'n_estimators': 720, 'max_depth': 24, 'min_child_weight': 7, 'learning_rate': 0.013315830777304995, 'gamma': 6.122918739907592e-07, 'reg_alpha': 0.0011443145688248032, 'reg_lambda': 0.9211546558464804, 'subsample': 0.9597184630045221, 'colsample_bytree': 0.8401433986496325, 'colsample_bylevel': 0.9916344729374332, 'colsample_bynode': 0.5889579301407731, 'max_delta_step': 1, 'scale_pos_weight': 1.1468942874878445}. Best is trial 36 with value: 0.4887838861732515.\n"
     ]
    },
    {
     "name": "stdout",
     "output_type": "stream",
     "text": [
      "\n",
      "Trial Results:\n",
      "Mean R2 Score: 0.9018 (+/- 0.0199)\n",
      "Mean MAE: 0.4899 (+/- 0.0760)\n"
     ]
    },
    {
     "name": "stderr",
     "output_type": "stream",
     "text": [
      "[I 2024-12-19 18:00:15,144] Trial 85 finished with value: 0.49059520350797453 and parameters: {'n_estimators': 600, 'max_depth': 25, 'min_child_weight': 7, 'learning_rate': 0.014101669502067602, 'gamma': 7.608512710370752e-06, 'reg_alpha': 9.661679951213599e-05, 'reg_lambda': 1.2349803009978859e-06, 'subsample': 0.9634672596168173, 'colsample_bytree': 0.8198430981645374, 'colsample_bylevel': 0.6135138280556713, 'colsample_bynode': 0.63064580037718, 'max_delta_step': 0, 'scale_pos_weight': 1.1484459768444477}. Best is trial 36 with value: 0.4887838861732515.\n"
     ]
    },
    {
     "name": "stdout",
     "output_type": "stream",
     "text": [
      "\n",
      "Trial Results:\n",
      "Mean R2 Score: 0.9026 (+/- 0.0162)\n",
      "Mean MAE: 0.4906 (+/- 0.0863)\n"
     ]
    },
    {
     "name": "stderr",
     "output_type": "stream",
     "text": [
      "[I 2024-12-19 18:00:54,207] Trial 90 finished with value: 0.4927090169482472 and parameters: {'n_estimators': 638, 'max_depth': 22, 'min_child_weight': 6, 'learning_rate': 0.0129657204537339, 'gamma': 7.419289885387664e-07, 'reg_alpha': 9.274553828315509e-07, 'reg_lambda': 5.544564879564176e-07, 'subsample': 0.8944612951697297, 'colsample_bytree': 0.9245318403883519, 'colsample_bylevel': 0.6084901775945051, 'colsample_bynode': 0.5059049466181625, 'max_delta_step': 0, 'scale_pos_weight': 0.8810417191858367}. Best is trial 36 with value: 0.4887838861732515.\n"
     ]
    },
    {
     "name": "stdout",
     "output_type": "stream",
     "text": [
      "\n",
      "Trial Results:\n",
      "Mean R2 Score: 0.9014 (+/- 0.0157)\n",
      "Mean MAE: 0.4927 (+/- 0.0882)\n"
     ]
    },
    {
     "name": "stderr",
     "output_type": "stream",
     "text": [
      "[I 2024-12-19 18:00:56,328] Trial 86 finished with value: 0.5473925501331411 and parameters: {'n_estimators': 877, 'max_depth': 25, 'min_child_weight': 4, 'learning_rate': 0.0026911195402945496, 'gamma': 6.483124208089504e-07, 'reg_alpha': 1.2818684182820327e-06, 'reg_lambda': 0.06665122495471722, 'subsample': 0.9520068892691936, 'colsample_bytree': 0.7989364477759865, 'colsample_bylevel': 0.693415163474181, 'colsample_bynode': 0.955024464495388, 'max_delta_step': 0, 'scale_pos_weight': 1.1485857597873865}. Best is trial 36 with value: 0.4887838861732515.\n"
     ]
    },
    {
     "name": "stdout",
     "output_type": "stream",
     "text": [
      "\n",
      "Trial Results:\n",
      "Mean R2 Score: 0.8870 (+/- 0.0154)\n",
      "Mean MAE: 0.5474 (+/- 0.0952)\n"
     ]
    },
    {
     "name": "stderr",
     "output_type": "stream",
     "text": [
      "[I 2024-12-19 18:01:11,012] Trial 93 finished with value: 0.49007174786994623 and parameters: {'n_estimators': 649, 'max_depth': 25, 'min_child_weight': 6, 'learning_rate': 0.014047362552703991, 'gamma': 1.0010325533138442e-06, 'reg_alpha': 3.1938974197741674e-05, 'reg_lambda': 2.0932344879179364e-06, 'subsample': 0.9057082403241302, 'colsample_bytree': 0.8079088931182046, 'colsample_bylevel': 0.6116133786940356, 'colsample_bynode': 0.6306401651407226, 'max_delta_step': 0, 'scale_pos_weight': 0.8638069342649549}. Best is trial 36 with value: 0.4887838861732515.\n"
     ]
    },
    {
     "name": "stdout",
     "output_type": "stream",
     "text": [
      "\n",
      "Trial Results:\n",
      "Mean R2 Score: 0.9022 (+/- 0.0166)\n",
      "Mean MAE: 0.4901 (+/- 0.0801)\n"
     ]
    },
    {
     "name": "stderr",
     "output_type": "stream",
     "text": [
      "[I 2024-12-19 18:01:12,912] Trial 87 finished with value: 0.4943224764366619 and parameters: {'n_estimators': 897, 'max_depth': 24, 'min_child_weight': 4, 'learning_rate': 0.014177838395311787, 'gamma': 8.464814205561308e-07, 'reg_alpha': 7.380377256752437e-07, 'reg_lambda': 0.06720993849955355, 'subsample': 0.9796177187285309, 'colsample_bytree': 0.9217571347031756, 'colsample_bylevel': 0.6118681565703996, 'colsample_bynode': 0.5046765278584956, 'max_delta_step': 0, 'scale_pos_weight': 0.891635563140001}. Best is trial 36 with value: 0.4887838861732515.\n"
     ]
    },
    {
     "name": "stdout",
     "output_type": "stream",
     "text": [
      "\n",
      "Trial Results:\n",
      "Mean R2 Score: 0.8994 (+/- 0.0148)\n",
      "Mean MAE: 0.4943 (+/- 0.0805)\n"
     ]
    },
    {
     "name": "stderr",
     "output_type": "stream",
     "text": [
      "[I 2024-12-19 18:01:13,228] Trial 88 finished with value: 0.49310501290276554 and parameters: {'n_estimators': 892, 'max_depth': 24, 'min_child_weight': 4, 'learning_rate': 0.014332148638234626, 'gamma': 8.637858259305386e-07, 'reg_alpha': 4.932821497918839e-06, 'reg_lambda': 0.06843574724096003, 'subsample': 0.9642172162794154, 'colsample_bytree': 0.9228664662823292, 'colsample_bylevel': 0.6091945884013379, 'colsample_bynode': 0.5473707361020935, 'max_delta_step': 0, 'scale_pos_weight': 0.8983991262945716}. Best is trial 36 with value: 0.4887838861732515.\n"
     ]
    },
    {
     "name": "stdout",
     "output_type": "stream",
     "text": [
      "\n",
      "Trial Results:\n",
      "Mean R2 Score: 0.8994 (+/- 0.0150)\n",
      "Mean MAE: 0.4931 (+/- 0.0825)\n"
     ]
    },
    {
     "name": "stderr",
     "output_type": "stream",
     "text": [
      "[I 2024-12-19 18:01:18,674] Trial 89 finished with value: 0.4930521731568601 and parameters: {'n_estimators': 896, 'max_depth': 24, 'min_child_weight': 4, 'learning_rate': 0.013771453109843353, 'gamma': 5.034364897600272e-07, 'reg_alpha': 5.399639651107608e-06, 'reg_lambda': 0.06863462162144858, 'subsample': 0.9575240054782921, 'colsample_bytree': 0.8830970145639129, 'colsample_bylevel': 0.6203710632592951, 'colsample_bynode': 0.6336169261276969, 'max_delta_step': 0, 'scale_pos_weight': 0.8874505506216454}. Best is trial 36 with value: 0.4887838861732515.\n"
     ]
    },
    {
     "name": "stdout",
     "output_type": "stream",
     "text": [
      "\n",
      "Trial Results:\n",
      "Mean R2 Score: 0.8990 (+/- 0.0168)\n",
      "Mean MAE: 0.4931 (+/- 0.0795)\n"
     ]
    },
    {
     "name": "stderr",
     "output_type": "stream",
     "text": [
      "[I 2024-12-19 18:01:25,938] Trial 92 finished with value: 0.48599784767341714 and parameters: {'n_estimators': 890, 'max_depth': 22, 'min_child_weight': 6, 'learning_rate': 0.013894939430122396, 'gamma': 8.850284671073111e-07, 'reg_alpha': 4.702724569459745e-06, 'reg_lambda': 0.06820048029803732, 'subsample': 0.8940609379239972, 'colsample_bytree': 0.8102952066278133, 'colsample_bylevel': 0.6912472726243479, 'colsample_bynode': 0.627282584000448, 'max_delta_step': 0, 'scale_pos_weight': 0.8874979346935884}. Best is trial 92 with value: 0.48599784767341714.\n"
     ]
    },
    {
     "name": "stdout",
     "output_type": "stream",
     "text": [
      "\n",
      "Trial Results:\n",
      "Mean R2 Score: 0.9027 (+/- 0.0163)\n",
      "Mean MAE: 0.4860 (+/- 0.0840)\n"
     ]
    },
    {
     "name": "stderr",
     "output_type": "stream",
     "text": [
      "[I 2024-12-19 18:01:29,045] Trial 91 finished with value: 0.4888159521001148 and parameters: {'n_estimators': 877, 'max_depth': 22, 'min_child_weight': 4, 'learning_rate': 0.01426558465888668, 'gamma': 7.467382105397527e-07, 'reg_alpha': 5.889720363185237e-06, 'reg_lambda': 0.06683734452388373, 'subsample': 0.8069163187462959, 'colsample_bytree': 0.9202819645367144, 'colsample_bylevel': 0.6948527581830672, 'colsample_bynode': 0.6208597814384725, 'max_delta_step': 0, 'scale_pos_weight': 0.8807512554462493}. Best is trial 92 with value: 0.48599784767341714.\n"
     ]
    },
    {
     "name": "stdout",
     "output_type": "stream",
     "text": [
      "\n",
      "Trial Results:\n",
      "Mean R2 Score: 0.9010 (+/- 0.0162)\n",
      "Mean MAE: 0.4888 (+/- 0.0754)\n"
     ]
    },
    {
     "name": "stderr",
     "output_type": "stream",
     "text": [
      "[I 2024-12-19 18:01:49,012] Trial 94 finished with value: 0.4932597822926317 and parameters: {'n_estimators': 749, 'max_depth': 25, 'min_child_weight': 7, 'learning_rate': 0.01392622031376096, 'gamma': 7.176049779355086e-08, 'reg_alpha': 3.561987939503499e-05, 'reg_lambda': 2.6556106623931698e-06, 'subsample': 0.9523662918962602, 'colsample_bytree': 0.8213825947313224, 'colsample_bylevel': 0.6184502967564329, 'colsample_bynode': 0.6237109796825199, 'max_delta_step': 0, 'scale_pos_weight': 0.9391878675451023}. Best is trial 92 with value: 0.48599784767341714.\n"
     ]
    },
    {
     "name": "stdout",
     "output_type": "stream",
     "text": [
      "\n",
      "Trial Results:\n",
      "Mean R2 Score: 0.9020 (+/- 0.0157)\n",
      "Mean MAE: 0.4933 (+/- 0.0879)\n"
     ]
    },
    {
     "name": "stderr",
     "output_type": "stream",
     "text": [
      "[I 2024-12-19 18:01:52,312] Trial 95 finished with value: 0.4887865305038533 and parameters: {'n_estimators': 759, 'max_depth': 25, 'min_child_weight': 7, 'learning_rate': 0.014415585024892872, 'gamma': 6.120272890542695e-08, 'reg_alpha': 7.441553243838692e-05, 'reg_lambda': 1.8987577553510863e-08, 'subsample': 0.970913700126093, 'colsample_bytree': 0.8158698413026867, 'colsample_bylevel': 0.9811411025916328, 'colsample_bynode': 0.6252568558192232, 'max_delta_step': 0, 'scale_pos_weight': 0.8403277478462001}. Best is trial 92 with value: 0.48599784767341714.\n"
     ]
    },
    {
     "name": "stdout",
     "output_type": "stream",
     "text": [
      "\n",
      "Trial Results:\n",
      "Mean R2 Score: 0.9017 (+/- 0.0191)\n",
      "Mean MAE: 0.4888 (+/- 0.0758)\n"
     ]
    },
    {
     "name": "stderr",
     "output_type": "stream",
     "text": [
      "[I 2024-12-19 18:01:57,562] Trial 98 finished with value: 0.49180816850759984 and parameters: {'n_estimators': 680, 'max_depth': 25, 'min_child_weight': 7, 'learning_rate': 0.019619907187057525, 'gamma': 1.2983010538281166e-06, 'reg_alpha': 3.757930349665017e-05, 'reg_lambda': 3.1928406073174863e-06, 'subsample': 0.9086553790615222, 'colsample_bytree': 0.8221215431658437, 'colsample_bylevel': 0.9477175025424281, 'colsample_bynode': 0.6207945045238263, 'max_delta_step': 0, 'scale_pos_weight': 0.8494305247330843}. Best is trial 92 with value: 0.48599784767341714.\n"
     ]
    },
    {
     "name": "stdout",
     "output_type": "stream",
     "text": [
      "\n",
      "Trial Results:\n",
      "Mean R2 Score: 0.9016 (+/- 0.0184)\n",
      "Mean MAE: 0.4918 (+/- 0.0734)\n"
     ]
    },
    {
     "name": "stderr",
     "output_type": "stream",
     "text": [
      "[I 2024-12-19 18:01:57,846] Trial 96 finished with value: 0.4933215129630849 and parameters: {'n_estimators': 747, 'max_depth': 25, 'min_child_weight': 7, 'learning_rate': 0.028830940330700838, 'gamma': 6.620142809653217e-06, 'reg_alpha': 7.506524351278843e-05, 'reg_lambda': 7.799480668382266e-07, 'subsample': 0.7017626849800546, 'colsample_bytree': 0.8167019350058207, 'colsample_bylevel': 0.9483396876470378, 'colsample_bynode': 0.6266455633688593, 'max_delta_step': 0, 'scale_pos_weight': 0.8529847390854057}. Best is trial 92 with value: 0.48599784767341714.\n"
     ]
    },
    {
     "name": "stdout",
     "output_type": "stream",
     "text": [
      "\n",
      "Trial Results:\n",
      "Mean R2 Score: 0.9008 (+/- 0.0177)\n",
      "Mean MAE: 0.4933 (+/- 0.0821)\n"
     ]
    },
    {
     "name": "stderr",
     "output_type": "stream",
     "text": [
      "[I 2024-12-19 18:01:58,329] Trial 97 finished with value: 0.48876666795864765 and parameters: {'n_estimators': 738, 'max_depth': 25, 'min_child_weight': 7, 'learning_rate': 0.011308454519366918, 'gamma': 1.236796847760128e-07, 'reg_alpha': 3.630404592799856e-05, 'reg_lambda': 1.2671882776238324e-06, 'subsample': 0.9062884841198149, 'colsample_bytree': 0.7535870016840406, 'colsample_bylevel': 0.936582508813245, 'colsample_bynode': 0.6286603358601679, 'max_delta_step': 0, 'scale_pos_weight': 0.9227318480515998}. Best is trial 92 with value: 0.48599784767341714.\n"
     ]
    },
    {
     "name": "stdout",
     "output_type": "stream",
     "text": [
      "\n",
      "Trial Results:\n",
      "Mean R2 Score: 0.9032 (+/- 0.0173)\n",
      "Mean MAE: 0.4888 (+/- 0.0804)\n"
     ]
    },
    {
     "name": "stderr",
     "output_type": "stream",
     "text": [
      "[I 2024-12-19 18:02:00,312] Trial 99 finished with value: 0.4890745436722409 and parameters: {'n_estimators': 743, 'max_depth': 25, 'min_child_weight': 7, 'learning_rate': 0.011459734748772531, 'gamma': 1.439419158513737e-07, 'reg_alpha': 7.71174751101627e-05, 'reg_lambda': 1.1545324517572843e-06, 'subsample': 0.8212224370969629, 'colsample_bytree': 0.8181248457403625, 'colsample_bylevel': 0.9814972977749811, 'colsample_bynode': 0.6214880415773358, 'max_delta_step': 1, 'scale_pos_weight': 0.854235669584738}. Best is trial 92 with value: 0.48599784767341714.\n"
     ]
    },
    {
     "name": "stdout",
     "output_type": "stream",
     "text": [
      "\n",
      "Trial Results:\n",
      "Mean R2 Score: 0.9026 (+/- 0.0190)\n",
      "Mean MAE: 0.4891 (+/- 0.0803)\n",
      "\n",
      "Best trial:\n",
      "  MAE:  0.48599784767341714\n",
      "\n",
      "Best hyperparameters:\n",
      "    n_estimators: 890\n",
      "    max_depth: 22\n",
      "    min_child_weight: 6\n",
      "    learning_rate: 0.013894939430122396\n",
      "    gamma: 8.850284671073111e-07\n",
      "    reg_alpha: 4.702724569459745e-06\n",
      "    reg_lambda: 0.06820048029803732\n",
      "    subsample: 0.8940609379239972\n",
      "    colsample_bytree: 0.8102952066278133\n",
      "    colsample_bylevel: 0.6912472726243479\n",
      "    colsample_bynode: 0.627282584000448\n",
      "    max_delta_step: 0\n",
      "    scale_pos_weight: 0.8874979346935884\n",
      "\n",
      "Final Test Set Performance:\n",
      "R2 Score: 0.9111\n",
      "MAE: 0.4934\n"
     ]
    }
   ],
   "source": [
    "# First, do the train-test split outside the objective function\n",
    "X_train, X_test, y_train, y_test = train_test_split(X, y_transformed, test_size=0.2, random_state=42)\n",
    "\n",
    "def objective(trial):\n",
    "    # Define the preprocessor\n",
    "    columns_to_encode = ['property_type', 'sector', 'balcony', 'agePossession', \n",
    "                        'furnishing_type', 'luxury_category', 'floor_category']\n",
    "    \n",
    "    preprocessor = ColumnTransformer(\n",
    "        transformers=[\n",
    "            ('num', StandardScaler(), ['bedRoom', 'bathroom', 'built_up_area', 'servant room', 'store room']),\n",
    "            ('cat', OrdinalEncoder(handle_unknown='use_encoded_value', unknown_value=-1), columns_to_encode),\n",
    "            ('cat1', OneHotEncoder(drop='first', sparse_output=False, handle_unknown='ignore'), ['agePossession']),\n",
    "            ('target_enc', ce.TargetEncoder(), ['sector'])\n",
    "    ], \n",
    "    remainder='passthrough'\n",
    "    )\n",
    "\n",
    "    # XGBoost hyperparameters - expanded search space\n",
    "    model = XGBRegressor(\n",
    "        # Tree-specific parameters\n",
    "        n_estimators=trial.suggest_int('n_estimators', 100, 1000),\n",
    "        max_depth=trial.suggest_int('max_depth', 3, 25),\n",
    "        min_child_weight=trial.suggest_int('min_child_weight', 1, 10),\n",
    "        \n",
    "        # Learning rate and regularization\n",
    "        learning_rate=trial.suggest_float('learning_rate', 0.001, 0.3, log=True),\n",
    "        gamma=trial.suggest_float('gamma', 1e-8, 1.0, log=True),\n",
    "        reg_alpha=trial.suggest_float('reg_alpha', 1e-8, 1.0, log=True),\n",
    "        reg_lambda=trial.suggest_float('reg_lambda', 1e-8, 1.0, log=True),\n",
    "        \n",
    "        # Sampling parameters\n",
    "        subsample=trial.suggest_float('subsample', 0.5, 1.0),\n",
    "        colsample_bytree=trial.suggest_float('colsample_bytree', 0.5, 1.0),\n",
    "        colsample_bylevel=trial.suggest_float('colsample_bylevel', 0.5, 1.0),\n",
    "        colsample_bynode=trial.suggest_float('colsample_bynode', 0.5, 1.0),\n",
    "        \n",
    "        # Other parameters\n",
    "        max_delta_step=trial.suggest_int('max_delta_step', 0, 10),\n",
    "        scale_pos_weight=trial.suggest_float('scale_pos_weight', 0.8, 1.2),\n",
    "        \n",
    "        # Fixed parameters\n",
    "        random_state=42,\n",
    "        n_jobs=-1,\n",
    "        tree_method='hist'\n",
    "    )\n",
    "\n",
    "    # Create pipeline\n",
    "    pipeline = Pipeline([\n",
    "        ('preprocessor', preprocessor),\n",
    "        ('regressor', model)\n",
    "    ])\n",
    "\n",
    "    try:\n",
    "        # Use K-fold CV on training data only\n",
    "        kfold = KFold(n_splits=5, shuffle=True, random_state=42)\n",
    "        \n",
    "        # Get cross-validation scores on training data\n",
    "        cv_scores_r2 = []\n",
    "        cv_scores_mae = []\n",
    "        \n",
    "        for train_idx, val_idx in kfold.split(X_train):\n",
    "            # Split the training data into train and validation\n",
    "            X_train_fold, X_val_fold = X_train.iloc[train_idx], X_train.iloc[val_idx]\n",
    "            y_train_fold, y_val_fold = y_train.iloc[train_idx], y_train.iloc[val_idx]\n",
    "            \n",
    "            # Fit the pipeline on training fold\n",
    "            pipeline.fit(X_train_fold, y_train_fold)\n",
    "            \n",
    "            # Make predictions on validation fold\n",
    "            y_pred_fold = pipeline.predict(X_val_fold)\n",
    "            \n",
    "            # Calculate metrics\n",
    "            r2 = r2_score(y_val_fold, y_pred_fold)\n",
    "            mae = mean_absolute_error(np.expm1(y_val_fold), np.expm1(y_pred_fold))\n",
    "            \n",
    "            cv_scores_r2.append(r2)\n",
    "            cv_scores_mae.append(mae)\n",
    "        \n",
    "        mean_r2 = np.mean(cv_scores_r2)\n",
    "        mean_mae = np.mean(cv_scores_mae)\n",
    "        \n",
    "        print(f\"\\nTrial Results:\")\n",
    "        print(f\"Mean R2 Score: {mean_r2:.4f} (+/- {np.std(cv_scores_r2) * 2:.4f})\")\n",
    "        print(f\"Mean MAE: {mean_mae:.4f} (+/- {np.std(cv_scores_mae) * 2:.4f})\")\n",
    "        \n",
    "        return mean_mae\n",
    "        \n",
    "    except Exception as e:\n",
    "        print(f\"Error during evaluation: {str(e)}\")\n",
    "        return float('inf')\n",
    "\n",
    "# Create and run the study\n",
    "study = optuna.create_study(direction='minimize')\n",
    "study.optimize(objective, n_trials=100, n_jobs=-1)\n",
    "\n",
    "# Get the best pipeline\n",
    "best_params = study.best_trial.params\n",
    "best_pipeline = Pipeline([\n",
    "    ('preprocessor', ColumnTransformer(\n",
    "        transformers=[\n",
    "            ('num', StandardScaler(), ['bedRoom', 'bathroom', 'built_up_area', 'servant room', 'store room']),\n",
    "            ('cat', OrdinalEncoder(handle_unknown='use_encoded_value', unknown_value=-1), columns_to_encode),\n",
    "            ('cat1', OneHotEncoder(drop='first', sparse_output=False, handle_unknown='ignore'), ['agePossession'])\n",
    "        ], \n",
    "        remainder='passthrough'\n",
    "    )),\n",
    "    ('regressor', XGBRegressor(**best_params, random_state=42, n_jobs=-1, tree_method='hist'))\n",
    "])\n",
    "\n",
    "# Fit the best pipeline on the full training data\n",
    "best_pipeline.fit(X_train, y_train)\n",
    "\n",
    "# Evaluate on test set\n",
    "y_pred_test = best_pipeline.predict(X_test)\n",
    "final_r2 = r2_score(y_test, y_pred_test)\n",
    "final_mae = mean_absolute_error(np.expm1(y_test), np.expm1(y_pred_test))\n",
    "\n",
    "print(\"\\nBest trial:\")\n",
    "print(\"  MAE: \", study.best_trial.value)\n",
    "print(\"\\nBest hyperparameters:\")\n",
    "for key, value in study.best_trial.params.items():\n",
    "    print(f\"    {key}: {value}\")\n",
    "\n",
    "print(\"\\nFinal Test Set Performance:\")\n",
    "print(f\"R2 Score: {final_r2:.4f}\")\n",
    "print(f\"MAE: {final_mae:.4f}\")\n",
    "\n",
    "# Plot optimization history\n",
    "try:\n",
    "    optuna.visualization.plot_optimization_history(study)\n",
    "    optuna.visualization.plot_param_importances(study)\n",
    "except:\n",
    "    print(\"Visualization requires plotly to be installed\")"
   ]
  },
  {
   "cell_type": "code",
   "execution_count": 21,
   "id": "ab5857d3",
   "metadata": {},
   "outputs": [
    {
     "name": "stderr",
     "output_type": "stream",
     "text": [
      "[I 2024-12-19 20:29:38,360] A new study created in memory with name: no-name-00228131-4dd5-4b35-a268-64a7a8ab193e\n"
     ]
    },
    {
     "name": "stdout",
     "output_type": "stream",
     "text": [
      "[0]\ttrain-mae:0.38079\teval-mae:0.38673\n",
      "[1]\ttrain-mae:0.35410\teval-mae:0.36117\n",
      "[2]\ttrain-mae:0.31490\teval-mae:0.32599\n",
      "[3]\ttrain-mae:0.28561\teval-mae:0.29834\n",
      "[4]\ttrain-mae:0.25807\teval-mae:0.27260\n",
      "[5]\ttrain-mae:0.23939\teval-mae:0.25437\n",
      "[6]\ttrain-mae:0.21840\teval-mae:0.23728\n",
      "[7]\ttrain-mae:0.20000\teval-mae:0.22006\n",
      "[8]\ttrain-mae:0.18384\teval-mae:0.20548\n",
      "[9]\ttrain-mae:0.16832\teval-mae:0.19196\n",
      "[10]\ttrain-mae:0.15617\teval-mae:0.18319\n",
      "[11]\ttrain-mae:0.14424\teval-mae:0.17375\n",
      "[12]\ttrain-mae:0.13371\teval-mae:0.16617\n",
      "[13]\ttrain-mae:0.12406\teval-mae:0.16014\n",
      "[14]\ttrain-mae:0.11693\teval-mae:0.15603\n",
      "[15]\ttrain-mae:0.11327\teval-mae:0.15435\n",
      "[16]\ttrain-mae:0.10741\teval-mae:0.15162\n",
      "[17]\ttrain-mae:0.10147\teval-mae:0.14850\n",
      "[18]\ttrain-mae:0.09530\teval-mae:0.14562\n",
      "[19]\ttrain-mae:0.08933\teval-mae:0.14186\n",
      "[20]\ttrain-mae:0.08634\teval-mae:0.14015\n",
      "[21]\ttrain-mae:0.08302\teval-mae:0.13811\n",
      "[22]\ttrain-mae:0.07823\teval-mae:0.13544\n",
      "[23]\ttrain-mae:0.07610\teval-mae:0.13487\n",
      "[24]\ttrain-mae:0.07274\teval-mae:0.13379\n",
      "[25]\ttrain-mae:0.07007\teval-mae:0.13239\n",
      "[26]\ttrain-mae:0.06828\teval-mae:0.13193\n",
      "[27]\ttrain-mae:0.06494\teval-mae:0.13092\n",
      "[28]\ttrain-mae:0.06449\teval-mae:0.13085\n",
      "[29]\ttrain-mae:0.06271\teval-mae:0.13044\n",
      "[30]\ttrain-mae:0.06125\teval-mae:0.13016\n",
      "[31]\ttrain-mae:0.05930\teval-mae:0.12904\n",
      "[32]\ttrain-mae:0.05723\teval-mae:0.12791\n",
      "[33]\ttrain-mae:0.05659\teval-mae:0.12757\n",
      "[34]\ttrain-mae:0.05535\teval-mae:0.12677\n",
      "[35]\ttrain-mae:0.05389\teval-mae:0.12678\n",
      "[36]\ttrain-mae:0.05268\teval-mae:0.12624\n",
      "[37]\ttrain-mae:0.05239\teval-mae:0.12629\n",
      "[38]\ttrain-mae:0.05136\teval-mae:0.12596\n",
      "[39]\ttrain-mae:0.05046\teval-mae:0.12578\n",
      "[40]\ttrain-mae:0.04955\teval-mae:0.12556\n",
      "[41]\ttrain-mae:0.04920\teval-mae:0.12535\n",
      "[42]\ttrain-mae:0.04824\teval-mae:0.12502\n",
      "[43]\ttrain-mae:0.04785\teval-mae:0.12483\n",
      "[44]\ttrain-mae:0.04720\teval-mae:0.12488\n",
      "[45]\ttrain-mae:0.04672\teval-mae:0.12451\n",
      "[46]\ttrain-mae:0.04611\teval-mae:0.12452\n",
      "[47]\ttrain-mae:0.04580\teval-mae:0.12467\n",
      "[48]\ttrain-mae:0.04471\teval-mae:0.12428\n",
      "[49]\ttrain-mae:0.04429\teval-mae:0.12426\n",
      "[50]\ttrain-mae:0.04416\teval-mae:0.12426\n",
      "[51]\ttrain-mae:0.04252\teval-mae:0.12402\n",
      "[52]\ttrain-mae:0.04137\teval-mae:0.12353\n",
      "[53]\ttrain-mae:0.04036\teval-mae:0.12330\n",
      "[54]\ttrain-mae:0.03958\teval-mae:0.12340\n",
      "[55]\ttrain-mae:0.03905\teval-mae:0.12343\n",
      "[56]\ttrain-mae:0.03869\teval-mae:0.12343\n",
      "[57]\ttrain-mae:0.03778\teval-mae:0.12321\n",
      "[58]\ttrain-mae:0.03726\teval-mae:0.12313\n",
      "[59]\ttrain-mae:0.03673\teval-mae:0.12317\n",
      "[60]\ttrain-mae:0.03668\teval-mae:0.12316\n",
      "[61]\ttrain-mae:0.03562\teval-mae:0.12314\n",
      "[62]\ttrain-mae:0.03501\teval-mae:0.12295\n",
      "[63]\ttrain-mae:0.03496\teval-mae:0.12291\n",
      "[64]\ttrain-mae:0.03466\teval-mae:0.12288\n",
      "[65]\ttrain-mae:0.03424\teval-mae:0.12286\n",
      "[66]\ttrain-mae:0.03368\teval-mae:0.12286\n",
      "[67]\ttrain-mae:0.03341\teval-mae:0.12282\n",
      "[68]\ttrain-mae:0.03293\teval-mae:0.12280\n",
      "[69]\ttrain-mae:0.03233\teval-mae:0.12267\n",
      "[70]\ttrain-mae:0.03180\teval-mae:0.12258\n",
      "[71]\ttrain-mae:0.03141\teval-mae:0.12253\n",
      "[72]\ttrain-mae:0.03109\teval-mae:0.12256\n",
      "[73]\ttrain-mae:0.03037\teval-mae:0.12247\n",
      "[74]\ttrain-mae:0.03009\teval-mae:0.12237\n",
      "[75]\ttrain-mae:0.02983\teval-mae:0.12237\n",
      "[76]\ttrain-mae:0.02947\teval-mae:0.12229\n",
      "[77]\ttrain-mae:0.02917\teval-mae:0.12221\n",
      "[78]\ttrain-mae:0.02881\teval-mae:0.12213\n",
      "[79]\ttrain-mae:0.02834\teval-mae:0.12228\n",
      "[80]\ttrain-mae:0.02827\teval-mae:0.12230\n",
      "[81]\ttrain-mae:0.02779\teval-mae:0.12230\n",
      "[82]\ttrain-mae:0.02760\teval-mae:0.12237\n",
      "[83]\ttrain-mae:0.02737\teval-mae:0.12235\n",
      "[84]\ttrain-mae:0.02731\teval-mae:0.12232\n",
      "[85]\ttrain-mae:0.02711\teval-mae:0.12241\n",
      "[86]\ttrain-mae:0.02702\teval-mae:0.12237\n",
      "[87]\ttrain-mae:0.02675\teval-mae:0.12238\n",
      "[88]\ttrain-mae:0.02667\teval-mae:0.12238\n",
      "[89]\ttrain-mae:0.02593\teval-mae:0.12233\n",
      "[90]\ttrain-mae:0.02588\teval-mae:0.12225\n",
      "[91]\ttrain-mae:0.02549\teval-mae:0.12217\n",
      "[92]\ttrain-mae:0.02541\teval-mae:0.12218\n",
      "[93]\ttrain-mae:0.02530\teval-mae:0.12215\n",
      "[94]\ttrain-mae:0.02530\teval-mae:0.12215\n",
      "[95]\ttrain-mae:0.02510\teval-mae:0.12215\n",
      "[96]\ttrain-mae:0.02485\teval-mae:0.12212\n",
      "[97]\ttrain-mae:0.02443\teval-mae:0.12216\n",
      "[98]\ttrain-mae:0.02417\teval-mae:0.12225\n",
      "[99]\ttrain-mae:0.02385\teval-mae:0.12221\n",
      "[100]\ttrain-mae:0.02367\teval-mae:0.12217\n",
      "[101]\ttrain-mae:0.02338\teval-mae:0.12234\n",
      "[102]\ttrain-mae:0.02312\teval-mae:0.12227\n",
      "[103]\ttrain-mae:0.02261\teval-mae:0.12225\n",
      "[104]\ttrain-mae:0.02237\teval-mae:0.12220\n",
      "[105]\ttrain-mae:0.02220\teval-mae:0.12223\n",
      "[106]\ttrain-mae:0.02180\teval-mae:0.12226\n",
      "[107]\ttrain-mae:0.02177\teval-mae:0.12226\n",
      "[108]\ttrain-mae:0.02147\teval-mae:0.12223\n",
      "[109]\ttrain-mae:0.02127\teval-mae:0.12223\n",
      "[110]\ttrain-mae:0.02111\teval-mae:0.12226\n",
      "[111]\ttrain-mae:0.02104\teval-mae:0.12225\n",
      "[112]\ttrain-mae:0.02057\teval-mae:0.12208\n",
      "[113]\ttrain-mae:0.02048\teval-mae:0.12213\n",
      "[114]\ttrain-mae:0.02043\teval-mae:0.12212\n",
      "[115]\ttrain-mae:0.02016\teval-mae:0.12212\n",
      "[116]\ttrain-mae:0.02011\teval-mae:0.12212\n",
      "[117]\ttrain-mae:0.01980\teval-mae:0.12214\n",
      "[118]\ttrain-mae:0.01971\teval-mae:0.12218\n",
      "[119]\ttrain-mae:0.01964\teval-mae:0.12213\n",
      "[120]\ttrain-mae:0.01933\teval-mae:0.12201\n",
      "[121]\ttrain-mae:0.01918\teval-mae:0.12201\n",
      "[122]\ttrain-mae:0.01913\teval-mae:0.12206\n",
      "[123]\ttrain-mae:0.01910\teval-mae:0.12205\n",
      "[124]\ttrain-mae:0.01863\teval-mae:0.12208\n",
      "[125]\ttrain-mae:0.01854\teval-mae:0.12212\n",
      "[126]\ttrain-mae:0.01844\teval-mae:0.12218\n",
      "[127]\ttrain-mae:0.01843\teval-mae:0.12218\n",
      "[128]\ttrain-mae:0.01828\teval-mae:0.12215\n",
      "[129]\ttrain-mae:0.01817\teval-mae:0.12214\n",
      "[130]\ttrain-mae:0.01811\teval-mae:0.12214\n",
      "[131]\ttrain-mae:0.01783\teval-mae:0.12222\n",
      "[132]\ttrain-mae:0.01779\teval-mae:0.12223\n",
      "[133]\ttrain-mae:0.01765\teval-mae:0.12224\n",
      "[134]\ttrain-mae:0.01763\teval-mae:0.12223\n",
      "[135]\ttrain-mae:0.01760\teval-mae:0.12221\n",
      "[136]\ttrain-mae:0.01757\teval-mae:0.12219\n",
      "[137]\ttrain-mae:0.01746\teval-mae:0.12218\n",
      "[138]\ttrain-mae:0.01739\teval-mae:0.12218\n",
      "[139]\ttrain-mae:0.01735\teval-mae:0.12219\n",
      "[140]\ttrain-mae:0.01735\teval-mae:0.12219\n",
      "[141]\ttrain-mae:0.01727\teval-mae:0.12222\n",
      "[142]\ttrain-mae:0.01713\teval-mae:0.12225\n",
      "[143]\ttrain-mae:0.01683\teval-mae:0.12228\n",
      "[144]\ttrain-mae:0.01680\teval-mae:0.12228\n",
      "[145]\ttrain-mae:0.01679\teval-mae:0.12227\n",
      "[146]\ttrain-mae:0.01669\teval-mae:0.12227\n",
      "[147]\ttrain-mae:0.01656\teval-mae:0.12226\n",
      "[148]\ttrain-mae:0.01653\teval-mae:0.12226\n",
      "[149]\ttrain-mae:0.01652\teval-mae:0.12226\n",
      "[150]\ttrain-mae:0.01648\teval-mae:0.12224\n",
      "[151]\ttrain-mae:0.01643\teval-mae:0.12224\n",
      "[152]\ttrain-mae:0.01643\teval-mae:0.12224\n",
      "[153]\ttrain-mae:0.01638\teval-mae:0.12222\n",
      "[154]\ttrain-mae:0.01638\teval-mae:0.12222\n",
      "[155]\ttrain-mae:0.01625\teval-mae:0.12224\n",
      "[156]\ttrain-mae:0.01624\teval-mae:0.12225\n",
      "[157]\ttrain-mae:0.01616\teval-mae:0.12228\n",
      "[158]\ttrain-mae:0.01615\teval-mae:0.12229\n",
      "[159]\ttrain-mae:0.01591\teval-mae:0.12225\n",
      "[160]\ttrain-mae:0.01570\teval-mae:0.12224\n",
      "[161]\ttrain-mae:0.01562\teval-mae:0.12219\n",
      "[162]\ttrain-mae:0.01561\teval-mae:0.12218\n",
      "[163]\ttrain-mae:0.01555\teval-mae:0.12218\n",
      "[164]\ttrain-mae:0.01554\teval-mae:0.12219\n",
      "[165]\ttrain-mae:0.01545\teval-mae:0.12216\n",
      "[166]\ttrain-mae:0.01538\teval-mae:0.12215\n",
      "[167]\ttrain-mae:0.01527\teval-mae:0.12218\n",
      "[168]\ttrain-mae:0.01521\teval-mae:0.12217\n",
      "[169]\ttrain-mae:0.01520\teval-mae:0.12219\n",
      "[170]\ttrain-mae:0.01506\teval-mae:0.12215\n"
     ]
    },
    {
     "name": "stderr",
     "output_type": "stream",
     "text": [
      "[I 2024-12-19 20:29:39,715] Trial 0 finished with value: 0.5365749346991966 and parameters: {'lambda': 3.208553013867788e-05, 'alpha': 2.954581248925638e-06, 'eta': 0.12868103454866872, 'gamma': 1.72299590537457e-05, 'max_depth': 25, 'min_child_weight': 3, 'subsample': 0.9329615962263436, 'colsample_bytree': 0.697687903627443, 'colsample_bylevel': 0.440669602906547, 'colsample_bynode': 0.8397072686133679, 'n_estimators': 669}. Best is trial 0 with value: 0.5365749346991966.\n"
     ]
    },
    {
     "name": "stdout",
     "output_type": "stream",
     "text": [
      "\n",
      "Trial Results:\n",
      "MAE: 0.5366\n",
      "R2 Score: 0.8976\n",
      "[0]\ttrain-mae:0.33646\teval-mae:0.34922\n",
      "[1]\ttrain-mae:0.26862\teval-mae:0.28252\n",
      "[2]\ttrain-mae:0.22047\teval-mae:0.24125\n",
      "[3]\ttrain-mae:0.18068\teval-mae:0.20609\n",
      "[4]\ttrain-mae:0.15029\teval-mae:0.18008\n",
      "[5]\ttrain-mae:0.12739\teval-mae:0.16341\n",
      "[6]\ttrain-mae:0.11117\teval-mae:0.15213\n",
      "[7]\ttrain-mae:0.09788\teval-mae:0.14324\n",
      "[8]\ttrain-mae:0.08931\teval-mae:0.13937\n",
      "[9]\ttrain-mae:0.08164\teval-mae:0.13586\n",
      "[10]\ttrain-mae:0.07587\teval-mae:0.13377\n",
      "[11]\ttrain-mae:0.07035\teval-mae:0.13083\n",
      "[12]\ttrain-mae:0.06511\teval-mae:0.12855\n",
      "[13]\ttrain-mae:0.06154\teval-mae:0.12675\n",
      "[14]\ttrain-mae:0.05863\teval-mae:0.12532\n",
      "[15]\ttrain-mae:0.05590\teval-mae:0.12469\n",
      "[16]\ttrain-mae:0.05366\teval-mae:0.12471\n",
      "[17]\ttrain-mae:0.05154\teval-mae:0.12452\n",
      "[18]\ttrain-mae:0.04976\teval-mae:0.12427\n",
      "[19]\ttrain-mae:0.04796\teval-mae:0.12437\n",
      "[20]\ttrain-mae:0.04678\teval-mae:0.12445\n",
      "[21]\ttrain-mae:0.04493\teval-mae:0.12425\n",
      "[22]\ttrain-mae:0.04374\teval-mae:0.12440\n",
      "[23]\ttrain-mae:0.04243\teval-mae:0.12434\n",
      "[24]\ttrain-mae:0.04118\teval-mae:0.12479\n",
      "[25]\ttrain-mae:0.04014\teval-mae:0.12452\n",
      "[26]\ttrain-mae:0.03901\teval-mae:0.12411\n",
      "[27]\ttrain-mae:0.03836\teval-mae:0.12387\n",
      "[28]\ttrain-mae:0.03737\teval-mae:0.12375\n",
      "[29]\ttrain-mae:0.03653\teval-mae:0.12364\n",
      "[30]\ttrain-mae:0.03573\teval-mae:0.12355\n",
      "[31]\ttrain-mae:0.03444\teval-mae:0.12322\n",
      "[32]\ttrain-mae:0.03369\teval-mae:0.12314\n",
      "[33]\ttrain-mae:0.03279\teval-mae:0.12303\n",
      "[34]\ttrain-mae:0.03169\teval-mae:0.12320\n",
      "[35]\ttrain-mae:0.03064\teval-mae:0.12326\n",
      "[36]\ttrain-mae:0.02995\teval-mae:0.12320\n",
      "[37]\ttrain-mae:0.02915\teval-mae:0.12318\n",
      "[38]\ttrain-mae:0.02828\teval-mae:0.12341\n",
      "[39]\ttrain-mae:0.02746\teval-mae:0.12283\n",
      "[40]\ttrain-mae:0.02682\teval-mae:0.12256\n",
      "[41]\ttrain-mae:0.02620\teval-mae:0.12233\n",
      "[42]\ttrain-mae:0.02571\teval-mae:0.12224\n",
      "[43]\ttrain-mae:0.02489\teval-mae:0.12211\n",
      "[44]\ttrain-mae:0.02408\teval-mae:0.12184\n",
      "[45]\ttrain-mae:0.02355\teval-mae:0.12186\n",
      "[46]\ttrain-mae:0.02309\teval-mae:0.12195\n",
      "[47]\ttrain-mae:0.02248\teval-mae:0.12183\n",
      "[48]\ttrain-mae:0.02179\teval-mae:0.12189\n",
      "[49]\ttrain-mae:0.02119\teval-mae:0.12170\n",
      "[50]\ttrain-mae:0.02069\teval-mae:0.12177\n",
      "[51]\ttrain-mae:0.02000\teval-mae:0.12204\n",
      "[52]\ttrain-mae:0.01980\teval-mae:0.12206\n",
      "[53]\ttrain-mae:0.01939\teval-mae:0.12207\n",
      "[54]\ttrain-mae:0.01894\teval-mae:0.12209\n",
      "[55]\ttrain-mae:0.01850\teval-mae:0.12218\n",
      "[56]\ttrain-mae:0.01817\teval-mae:0.12217\n",
      "[57]\ttrain-mae:0.01802\teval-mae:0.12207\n",
      "[58]\ttrain-mae:0.01788\teval-mae:0.12211\n",
      "[59]\ttrain-mae:0.01759\teval-mae:0.12200\n",
      "[60]\ttrain-mae:0.01726\teval-mae:0.12203\n",
      "[61]\ttrain-mae:0.01693\teval-mae:0.12206\n",
      "[62]\ttrain-mae:0.01646\teval-mae:0.12213\n",
      "[63]\ttrain-mae:0.01618\teval-mae:0.12212\n",
      "[64]\ttrain-mae:0.01586\teval-mae:0.12198\n",
      "[65]\ttrain-mae:0.01565\teval-mae:0.12204\n",
      "[66]\ttrain-mae:0.01541\teval-mae:0.12204\n",
      "[67]\ttrain-mae:0.01507\teval-mae:0.12212\n",
      "[68]\ttrain-mae:0.01493\teval-mae:0.12206\n",
      "[69]\ttrain-mae:0.01463\teval-mae:0.12210\n",
      "[70]\ttrain-mae:0.01445\teval-mae:0.12211\n",
      "[71]\ttrain-mae:0.01421\teval-mae:0.12220\n",
      "[72]\ttrain-mae:0.01411\teval-mae:0.12218\n",
      "[73]\ttrain-mae:0.01378\teval-mae:0.12217\n",
      "[74]\ttrain-mae:0.01358\teval-mae:0.12226\n",
      "[75]\ttrain-mae:0.01351\teval-mae:0.12234\n",
      "[76]\ttrain-mae:0.01333\teval-mae:0.12237\n",
      "[77]\ttrain-mae:0.01331\teval-mae:0.12235\n",
      "[78]\ttrain-mae:0.01315\teval-mae:0.12234\n",
      "[79]\ttrain-mae:0.01313\teval-mae:0.12234\n",
      "[80]\ttrain-mae:0.01283\teval-mae:0.12225\n",
      "[81]\ttrain-mae:0.01276\teval-mae:0.12228\n",
      "[82]\ttrain-mae:0.01253\teval-mae:0.12234\n",
      "[83]\ttrain-mae:0.01253\teval-mae:0.12234\n",
      "[84]\ttrain-mae:0.01237\teval-mae:0.12240\n",
      "[85]\ttrain-mae:0.01223\teval-mae:0.12243\n",
      "[86]\ttrain-mae:0.01223\teval-mae:0.12243\n",
      "[87]\ttrain-mae:0.01202\teval-mae:0.12253\n",
      "[88]\ttrain-mae:0.01201\teval-mae:0.12251\n",
      "[89]\ttrain-mae:0.01199\teval-mae:0.12254\n",
      "[90]\ttrain-mae:0.01188\teval-mae:0.12259\n",
      "[91]\ttrain-mae:0.01169\teval-mae:0.12262\n",
      "[92]\ttrain-mae:0.01148\teval-mae:0.12250\n",
      "[93]\ttrain-mae:0.01145\teval-mae:0.12240\n",
      "[94]\ttrain-mae:0.01143\teval-mae:0.12237\n",
      "[95]\ttrain-mae:0.01126\teval-mae:0.12228\n",
      "[96]\ttrain-mae:0.01126\teval-mae:0.12228\n",
      "[97]\ttrain-mae:0.01120\teval-mae:0.12229\n",
      "[98]\ttrain-mae:0.01110\teval-mae:0.12234\n",
      "[99]\ttrain-mae:0.01110\teval-mae:0.12233\n",
      "\n",
      "Trial Results:\n",
      "MAE: 0.5278\n",
      "R2 Score: 0.9000\n"
     ]
    },
    {
     "name": "stderr",
     "output_type": "stream",
     "text": [
      "[I 2024-12-19 20:29:40,563] Trial 1 finished with value: 0.5278477369280304 and parameters: {'lambda': 2.315389887198197e-08, 'alpha': 1.2486122404739032e-07, 'eta': 0.24328128641642952, 'gamma': 0.00013553911078582632, 'max_depth': 15, 'min_child_weight': 4, 'subsample': 0.7861633757353756, 'colsample_bytree': 0.9480942783433611, 'colsample_bylevel': 0.5429772823826569, 'colsample_bynode': 0.8584820253634963, 'n_estimators': 625}. Best is trial 1 with value: 0.5278477369280304.\n"
     ]
    },
    {
     "name": "stdout",
     "output_type": "stream",
     "text": [
      "[0]\ttrain-mae:0.36443\teval-mae:0.36747\n",
      "[1]\ttrain-mae:0.32121\teval-mae:0.32160\n"
     ]
    },
    {
     "name": "stderr",
     "output_type": "stream",
     "text": [
      "[I 2024-12-19 20:29:40,608] Trial 2 pruned. Trial was pruned at iteration 1.\n"
     ]
    },
    {
     "name": "stdout",
     "output_type": "stream",
     "text": [
      "[0]\ttrain-mae:0.40911\teval-mae:0.41552\n",
      "[1]\ttrain-mae:0.39240\teval-mae:0.40059\n"
     ]
    },
    {
     "name": "stderr",
     "output_type": "stream",
     "text": [
      "[I 2024-12-19 20:29:40,706] Trial 3 pruned. Trial was pruned at iteration 1.\n"
     ]
    },
    {
     "name": "stdout",
     "output_type": "stream",
     "text": [
      "[0]\ttrain-mae:0.36821\teval-mae:0.37527\n"
     ]
    },
    {
     "name": "stderr",
     "output_type": "stream",
     "text": [
      "[I 2024-12-19 20:29:40,762] Trial 4 pruned. Trial was pruned at iteration 1.\n"
     ]
    },
    {
     "name": "stdout",
     "output_type": "stream",
     "text": [
      "[0]\ttrain-mae:0.37325\teval-mae:0.37768\n"
     ]
    },
    {
     "name": "stderr",
     "output_type": "stream",
     "text": [
      "[I 2024-12-19 20:29:40,816] Trial 5 pruned. Trial was pruned at iteration 1.\n"
     ]
    },
    {
     "name": "stdout",
     "output_type": "stream",
     "text": [
      "[0]\ttrain-mae:0.38600\teval-mae:0.38994\n"
     ]
    },
    {
     "name": "stderr",
     "output_type": "stream",
     "text": [
      "[I 2024-12-19 20:29:40,874] Trial 6 pruned. Trial was pruned at iteration 1.\n"
     ]
    },
    {
     "name": "stdout",
     "output_type": "stream",
     "text": [
      "[0]\ttrain-mae:0.41869\teval-mae:0.42284\n"
     ]
    },
    {
     "name": "stderr",
     "output_type": "stream",
     "text": [
      "[I 2024-12-19 20:29:40,923] Trial 7 pruned. Trial was pruned at iteration 1.\n"
     ]
    },
    {
     "name": "stdout",
     "output_type": "stream",
     "text": [
      "[0]\ttrain-mae:0.38329\teval-mae:0.39150\n",
      "[1]\ttrain-mae:0.34521\teval-mae:0.35529\n"
     ]
    },
    {
     "name": "stderr",
     "output_type": "stream",
     "text": [
      "[I 2024-12-19 20:29:41,003] Trial 8 pruned. Trial was pruned at iteration 1.\n"
     ]
    },
    {
     "name": "stdout",
     "output_type": "stream",
     "text": [
      "[0]\ttrain-mae:0.42106\teval-mae:0.42585\n"
     ]
    },
    {
     "name": "stderr",
     "output_type": "stream",
     "text": [
      "[I 2024-12-19 20:29:41,046] Trial 9 pruned. Trial was pruned at iteration 1.\n"
     ]
    },
    {
     "name": "stdout",
     "output_type": "stream",
     "text": [
      "[0]\ttrain-mae:0.33596\teval-mae:0.34507\n",
      "[1]\ttrain-mae:0.28151\teval-mae:0.28789\n",
      "[2]\ttrain-mae:0.24912\teval-mae:0.25248\n",
      "[3]\ttrain-mae:0.21627\teval-mae:0.21798\n",
      "[4]\ttrain-mae:0.19868\teval-mae:0.20075\n"
     ]
    },
    {
     "name": "stderr",
     "output_type": "stream",
     "text": [
      "[I 2024-12-19 20:29:41,170] Trial 10 pruned. Trial was pruned at iteration 4.\n"
     ]
    },
    {
     "name": "stdout",
     "output_type": "stream",
     "text": [
      "[0]\ttrain-mae:0.33963\teval-mae:0.34644\n",
      "[1]\ttrain-mae:0.27417\teval-mae:0.28526\n",
      "[2]\ttrain-mae:0.22309\teval-mae:0.23668\n",
      "[3]\ttrain-mae:0.18503\teval-mae:0.20699\n",
      "[4]\ttrain-mae:0.16265\teval-mae:0.18725\n"
     ]
    },
    {
     "name": "stderr",
     "output_type": "stream",
     "text": [
      "[I 2024-12-19 20:29:41,357] Trial 11 pruned. Trial was pruned at iteration 4.\n"
     ]
    },
    {
     "name": "stdout",
     "output_type": "stream",
     "text": [
      "[0]\ttrain-mae:0.34008\teval-mae:0.34825\n",
      "[1]\ttrain-mae:0.27547\teval-mae:0.28383\n",
      "[2]\ttrain-mae:0.22998\teval-mae:0.24283\n",
      "[3]\ttrain-mae:0.19720\teval-mae:0.21523\n",
      "[4]\ttrain-mae:0.16687\teval-mae:0.18922\n"
     ]
    },
    {
     "name": "stderr",
     "output_type": "stream",
     "text": [
      "[I 2024-12-19 20:29:41,535] Trial 12 pruned. Trial was pruned at iteration 4.\n"
     ]
    },
    {
     "name": "stdout",
     "output_type": "stream",
     "text": [
      "[0]\ttrain-mae:0.38869\teval-mae:0.39446\n"
     ]
    },
    {
     "name": "stderr",
     "output_type": "stream",
     "text": [
      "[I 2024-12-19 20:29:41,680] Trial 13 pruned. Trial was pruned at iteration 1.\n"
     ]
    },
    {
     "name": "stdout",
     "output_type": "stream",
     "text": [
      "[0]\ttrain-mae:0.35074\teval-mae:0.35717\n"
     ]
    },
    {
     "name": "stderr",
     "output_type": "stream",
     "text": [
      "[I 2024-12-19 20:29:41,790] Trial 14 pruned. Trial was pruned at iteration 1.\n"
     ]
    },
    {
     "name": "stdout",
     "output_type": "stream",
     "text": [
      "[0]\ttrain-mae:0.40313\teval-mae:0.40748\n",
      "[1]\ttrain-mae:0.37685\teval-mae:0.38261\n"
     ]
    },
    {
     "name": "stderr",
     "output_type": "stream",
     "text": [
      "[I 2024-12-19 20:29:41,953] Trial 15 pruned. Trial was pruned at iteration 1.\n"
     ]
    },
    {
     "name": "stdout",
     "output_type": "stream",
     "text": [
      "[0]\ttrain-mae:0.34646\teval-mae:0.35305\n"
     ]
    },
    {
     "name": "stderr",
     "output_type": "stream",
     "text": [
      "[I 2024-12-19 20:29:42,065] Trial 16 pruned. Trial was pruned at iteration 1.\n"
     ]
    },
    {
     "name": "stdout",
     "output_type": "stream",
     "text": [
      "[0]\ttrain-mae:0.35786\teval-mae:0.36294\n"
     ]
    },
    {
     "name": "stderr",
     "output_type": "stream",
     "text": [
      "[I 2024-12-19 20:29:42,190] Trial 17 pruned. Trial was pruned at iteration 1.\n"
     ]
    },
    {
     "name": "stdout",
     "output_type": "stream",
     "text": [
      "[0]\ttrain-mae:0.42033\teval-mae:0.42568\n",
      "[1]\ttrain-mae:0.41348\teval-mae:0.41908\n"
     ]
    },
    {
     "name": "stderr",
     "output_type": "stream",
     "text": [
      "[I 2024-12-19 20:29:42,327] Trial 18 pruned. Trial was pruned at iteration 1.\n"
     ]
    },
    {
     "name": "stdout",
     "output_type": "stream",
     "text": [
      "[0]\ttrain-mae:0.35945\teval-mae:0.36445\n"
     ]
    },
    {
     "name": "stderr",
     "output_type": "stream",
     "text": [
      "[I 2024-12-19 20:29:42,452] Trial 19 pruned. Trial was pruned at iteration 1.\n"
     ]
    },
    {
     "name": "stdout",
     "output_type": "stream",
     "text": [
      "[0]\ttrain-mae:0.37460\teval-mae:0.38023\n"
     ]
    },
    {
     "name": "stderr",
     "output_type": "stream",
     "text": [
      "[I 2024-12-19 20:29:42,590] Trial 20 pruned. Trial was pruned at iteration 1.\n"
     ]
    },
    {
     "name": "stdout",
     "output_type": "stream",
     "text": [
      "[0]\ttrain-mae:0.33523\teval-mae:0.34353\n",
      "[1]\ttrain-mae:0.27766\teval-mae:0.28929\n",
      "[2]\ttrain-mae:0.23395\teval-mae:0.24746\n",
      "[3]\ttrain-mae:0.19721\teval-mae:0.21488\n",
      "[4]\ttrain-mae:0.16799\teval-mae:0.18735\n"
     ]
    },
    {
     "name": "stderr",
     "output_type": "stream",
     "text": [
      "[I 2024-12-19 20:29:42,773] Trial 21 pruned. Trial was pruned at iteration 4.\n"
     ]
    },
    {
     "name": "stdout",
     "output_type": "stream",
     "text": [
      "[0]\ttrain-mae:0.35057\teval-mae:0.35707\n"
     ]
    },
    {
     "name": "stderr",
     "output_type": "stream",
     "text": [
      "[I 2024-12-19 20:29:42,907] Trial 22 pruned. Trial was pruned at iteration 1.\n"
     ]
    },
    {
     "name": "stdout",
     "output_type": "stream",
     "text": [
      "[0]\ttrain-mae:0.33547\teval-mae:0.34350\n",
      "[1]\ttrain-mae:0.26471\teval-mae:0.27661\n",
      "[2]\ttrain-mae:0.21871\teval-mae:0.23844\n",
      "[3]\ttrain-mae:0.18592\teval-mae:0.20943\n"
     ]
    },
    {
     "name": "stderr",
     "output_type": "stream",
     "text": [
      "[I 2024-12-19 20:29:43,080] Trial 23 pruned. Trial was pruned at iteration 4.\n"
     ]
    },
    {
     "name": "stdout",
     "output_type": "stream",
     "text": [
      "[0]\ttrain-mae:0.33494\teval-mae:0.34348\n",
      "[1]\ttrain-mae:0.28781\teval-mae:0.29869\n"
     ]
    },
    {
     "name": "stderr",
     "output_type": "stream",
     "text": [
      "[I 2024-12-19 20:29:43,210] Trial 24 pruned. Trial was pruned at iteration 1.\n"
     ]
    },
    {
     "name": "stdout",
     "output_type": "stream",
     "text": [
      "[0]\ttrain-mae:0.39510\teval-mae:0.39945\n"
     ]
    },
    {
     "name": "stderr",
     "output_type": "stream",
     "text": [
      "[I 2024-12-19 20:29:43,390] Trial 25 pruned. Trial was pruned at iteration 1.\n"
     ]
    },
    {
     "name": "stdout",
     "output_type": "stream",
     "text": [
      "[0]\ttrain-mae:0.33878\teval-mae:0.33907\n"
     ]
    },
    {
     "name": "stderr",
     "output_type": "stream",
     "text": [
      "[I 2024-12-19 20:29:43,503] Trial 26 pruned. Trial was pruned at iteration 1.\n"
     ]
    },
    {
     "name": "stdout",
     "output_type": "stream",
     "text": [
      "[0]\ttrain-mae:0.34842\teval-mae:0.35672\n"
     ]
    },
    {
     "name": "stderr",
     "output_type": "stream",
     "text": [
      "[I 2024-12-19 20:29:43,626] Trial 27 pruned. Trial was pruned at iteration 1.\n"
     ]
    },
    {
     "name": "stdout",
     "output_type": "stream",
     "text": [
      "[0]\ttrain-mae:0.37705\teval-mae:0.38295\n",
      "[1]\ttrain-mae:0.33698\teval-mae:0.34316\n"
     ]
    },
    {
     "name": "stderr",
     "output_type": "stream",
     "text": [
      "[I 2024-12-19 20:29:43,739] Trial 28 pruned. Trial was pruned at iteration 1.\n"
     ]
    },
    {
     "name": "stdout",
     "output_type": "stream",
     "text": [
      "[0]\ttrain-mae:0.35224\teval-mae:0.35463\n",
      "[1]\ttrain-mae:0.29305\teval-mae:0.29790\n"
     ]
    },
    {
     "name": "stderr",
     "output_type": "stream",
     "text": [
      "[I 2024-12-19 20:29:43,890] Trial 29 pruned. Trial was pruned at iteration 1.\n"
     ]
    },
    {
     "name": "stdout",
     "output_type": "stream",
     "text": [
      "[0]\ttrain-mae:0.33268\teval-mae:0.34281\n",
      "[1]\ttrain-mae:0.26193\teval-mae:0.27671\n",
      "[2]\ttrain-mae:0.21023\teval-mae:0.22621\n",
      "[3]\ttrain-mae:0.17104\teval-mae:0.19110\n",
      "[4]\ttrain-mae:0.14110\teval-mae:0.16798\n",
      "[5]\ttrain-mae:0.11982\teval-mae:0.15436\n",
      "[6]\ttrain-mae:0.10394\teval-mae:0.14441\n",
      "[7]\ttrain-mae:0.09098\teval-mae:0.13698\n",
      "[8]\ttrain-mae:0.08055\teval-mae:0.13224\n",
      "[9]\ttrain-mae:0.07276\teval-mae:0.12874\n",
      "[10]\ttrain-mae:0.06710\teval-mae:0.12767\n",
      "[11]\ttrain-mae:0.06129\teval-mae:0.12606\n",
      "[12]\ttrain-mae:0.05700\teval-mae:0.12552\n",
      "[13]\ttrain-mae:0.05383\teval-mae:0.12486\n",
      "[14]\ttrain-mae:0.05097\teval-mae:0.12529\n",
      "[15]\ttrain-mae:0.04870\teval-mae:0.12532\n",
      "[16]\ttrain-mae:0.04589\teval-mae:0.12428\n",
      "[17]\ttrain-mae:0.04333\teval-mae:0.12354\n",
      "[18]\ttrain-mae:0.04096\teval-mae:0.12362\n",
      "[19]\ttrain-mae:0.03874\teval-mae:0.12309\n",
      "[20]\ttrain-mae:0.03746\teval-mae:0.12242\n",
      "[21]\ttrain-mae:0.03568\teval-mae:0.12292\n",
      "[22]\ttrain-mae:0.03454\teval-mae:0.12299\n",
      "[23]\ttrain-mae:0.03303\teval-mae:0.12286\n",
      "[24]\ttrain-mae:0.03153\teval-mae:0.12304\n",
      "[25]\ttrain-mae:0.03010\teval-mae:0.12277\n",
      "[26]\ttrain-mae:0.02887\teval-mae:0.12280\n",
      "[27]\ttrain-mae:0.02790\teval-mae:0.12266\n",
      "[28]\ttrain-mae:0.02657\teval-mae:0.12259\n",
      "[29]\ttrain-mae:0.02557\teval-mae:0.12278\n",
      "[30]\ttrain-mae:0.02465\teval-mae:0.12276\n",
      "[31]\ttrain-mae:0.02371\teval-mae:0.12279\n",
      "[32]\ttrain-mae:0.02284\teval-mae:0.12311\n",
      "[33]\ttrain-mae:0.02201\teval-mae:0.12309\n",
      "[34]\ttrain-mae:0.02119\teval-mae:0.12300\n",
      "[35]\ttrain-mae:0.02051\teval-mae:0.12290\n",
      "[36]\ttrain-mae:0.01972\teval-mae:0.12297\n",
      "[37]\ttrain-mae:0.01886\teval-mae:0.12306\n",
      "[38]\ttrain-mae:0.01823\teval-mae:0.12293\n",
      "[39]\ttrain-mae:0.01743\teval-mae:0.12286\n",
      "[40]\ttrain-mae:0.01680\teval-mae:0.12283\n",
      "[41]\ttrain-mae:0.01612\teval-mae:0.12293\n",
      "[42]\ttrain-mae:0.01564\teval-mae:0.12300\n",
      "[43]\ttrain-mae:0.01517\teval-mae:0.12296\n",
      "[44]\ttrain-mae:0.01460\teval-mae:0.12271\n",
      "[45]\ttrain-mae:0.01408\teval-mae:0.12254\n",
      "[46]\ttrain-mae:0.01351\teval-mae:0.12271\n",
      "[47]\ttrain-mae:0.01314\teval-mae:0.12264\n",
      "[48]\ttrain-mae:0.01257\teval-mae:0.12282\n",
      "[49]\ttrain-mae:0.01209\teval-mae:0.12299\n",
      "[50]\ttrain-mae:0.01169\teval-mae:0.12319\n",
      "[51]\ttrain-mae:0.01140\teval-mae:0.12329\n",
      "[52]\ttrain-mae:0.01111\teval-mae:0.12316\n",
      "[53]\ttrain-mae:0.01075\teval-mae:0.12319\n",
      "[54]\ttrain-mae:0.01032\teval-mae:0.12305\n",
      "[55]\ttrain-mae:0.01006\teval-mae:0.12315\n",
      "[56]\ttrain-mae:0.00978\teval-mae:0.12311\n",
      "[57]\ttrain-mae:0.00947\teval-mae:0.12308\n",
      "[58]\ttrain-mae:0.00915\teval-mae:0.12293\n",
      "[59]\ttrain-mae:0.00889\teval-mae:0.12293\n",
      "[60]\ttrain-mae:0.00870\teval-mae:0.12278\n",
      "[61]\ttrain-mae:0.00840\teval-mae:0.12273\n",
      "[62]\ttrain-mae:0.00813\teval-mae:0.12281\n",
      "[63]\ttrain-mae:0.00788\teval-mae:0.12285\n",
      "[64]\ttrain-mae:0.00765\teval-mae:0.12268\n"
     ]
    },
    {
     "name": "stderr",
     "output_type": "stream",
     "text": [
      "[I 2024-12-19 20:29:44,723] Trial 30 pruned. Trial was pruned at iteration 64.\n"
     ]
    },
    {
     "name": "stdout",
     "output_type": "stream",
     "text": [
      "[0]\ttrain-mae:0.33992\teval-mae:0.34766\n",
      "[1]\ttrain-mae:0.27357\teval-mae:0.28468\n",
      "[2]\ttrain-mae:0.22328\teval-mae:0.23736\n",
      "[3]\ttrain-mae:0.18672\teval-mae:0.20419\n",
      "[4]\ttrain-mae:0.15952\teval-mae:0.17996\n",
      "[5]\ttrain-mae:0.13783\teval-mae:0.16310\n",
      "[6]\ttrain-mae:0.12465\teval-mae:0.15594\n",
      "[7]\ttrain-mae:0.11229\teval-mae:0.14890\n",
      "[8]\ttrain-mae:0.10355\teval-mae:0.14462\n",
      "[9]\ttrain-mae:0.09651\teval-mae:0.14101\n",
      "[10]\ttrain-mae:0.09125\teval-mae:0.13923\n",
      "[11]\ttrain-mae:0.08549\teval-mae:0.13662\n",
      "[12]\ttrain-mae:0.08161\teval-mae:0.13596\n",
      "[13]\ttrain-mae:0.07802\teval-mae:0.13599\n",
      "[14]\ttrain-mae:0.07452\teval-mae:0.13590\n",
      "[15]\ttrain-mae:0.07188\teval-mae:0.13593\n",
      "[16]\ttrain-mae:0.06919\teval-mae:0.13552\n"
     ]
    },
    {
     "name": "stderr",
     "output_type": "stream",
     "text": [
      "[I 2024-12-19 20:29:44,991] Trial 31 pruned. Trial was pruned at iteration 16.\n"
     ]
    },
    {
     "name": "stdout",
     "output_type": "stream",
     "text": [
      "[0]\ttrain-mae:0.34044\teval-mae:0.34841\n",
      "[1]\ttrain-mae:0.27304\teval-mae:0.28483\n",
      "[2]\ttrain-mae:0.22821\teval-mae:0.24281\n",
      "[3]\ttrain-mae:0.18931\teval-mae:0.21002\n"
     ]
    },
    {
     "name": "stderr",
     "output_type": "stream",
     "text": [
      "[I 2024-12-19 20:29:45,174] Trial 32 pruned. Trial was pruned at iteration 4.\n"
     ]
    },
    {
     "name": "stdout",
     "output_type": "stream",
     "text": [
      "[0]\ttrain-mae:0.36302\teval-mae:0.37009\n",
      "[1]\ttrain-mae:0.31172\teval-mae:0.32274\n"
     ]
    },
    {
     "name": "stderr",
     "output_type": "stream",
     "text": [
      "[I 2024-12-19 20:29:45,314] Trial 33 pruned. Trial was pruned at iteration 1.\n"
     ]
    },
    {
     "name": "stdout",
     "output_type": "stream",
     "text": [
      "[0]\ttrain-mae:0.34063\teval-mae:0.34730\n",
      "[1]\ttrain-mae:0.27654\teval-mae:0.28437\n",
      "[2]\ttrain-mae:0.22755\teval-mae:0.23903\n",
      "[3]\ttrain-mae:0.19401\teval-mae:0.20798\n",
      "[4]\ttrain-mae:0.16566\teval-mae:0.18244\n"
     ]
    },
    {
     "name": "stderr",
     "output_type": "stream",
     "text": [
      "[I 2024-12-19 20:29:45,474] Trial 34 pruned. Trial was pruned at iteration 4.\n"
     ]
    },
    {
     "name": "stdout",
     "output_type": "stream",
     "text": [
      "[0]\ttrain-mae:0.34268\teval-mae:0.35538\n",
      "[1]\ttrain-mae:0.28942\teval-mae:0.30731\n"
     ]
    },
    {
     "name": "stderr",
     "output_type": "stream",
     "text": [
      "[I 2024-12-19 20:29:45,660] Trial 35 pruned. Trial was pruned at iteration 1.\n"
     ]
    },
    {
     "name": "stdout",
     "output_type": "stream",
     "text": [
      "[0]\ttrain-mae:0.35684\teval-mae:0.36320\n",
      "[1]\ttrain-mae:0.30126\teval-mae:0.31039\n"
     ]
    },
    {
     "name": "stderr",
     "output_type": "stream",
     "text": [
      "[I 2024-12-19 20:29:45,833] Trial 36 pruned. Trial was pruned at iteration 1.\n"
     ]
    },
    {
     "name": "stdout",
     "output_type": "stream",
     "text": [
      "[0]\ttrain-mae:0.36090\teval-mae:0.37016\n"
     ]
    },
    {
     "name": "stderr",
     "output_type": "stream",
     "text": [
      "[I 2024-12-19 20:29:45,970] Trial 37 pruned. Trial was pruned at iteration 1.\n"
     ]
    },
    {
     "name": "stdout",
     "output_type": "stream",
     "text": [
      "[0]\ttrain-mae:0.37907\teval-mae:0.38439\n"
     ]
    },
    {
     "name": "stderr",
     "output_type": "stream",
     "text": [
      "[I 2024-12-19 20:29:46,090] Trial 38 pruned. Trial was pruned at iteration 1.\n"
     ]
    },
    {
     "name": "stdout",
     "output_type": "stream",
     "text": [
      "[0]\ttrain-mae:0.36189\teval-mae:0.37126\n",
      "[1]\ttrain-mae:0.30720\teval-mae:0.32265\n"
     ]
    },
    {
     "name": "stderr",
     "output_type": "stream",
     "text": [
      "[I 2024-12-19 20:29:46,315] Trial 39 pruned. Trial was pruned at iteration 1.\n"
     ]
    },
    {
     "name": "stdout",
     "output_type": "stream",
     "text": [
      "[0]\ttrain-mae:0.39035\teval-mae:0.39658\n",
      "[1]\ttrain-mae:0.35833\teval-mae:0.36618\n"
     ]
    },
    {
     "name": "stderr",
     "output_type": "stream",
     "text": [
      "[I 2024-12-19 20:29:46,455] Trial 40 pruned. Trial was pruned at iteration 1.\n"
     ]
    },
    {
     "name": "stdout",
     "output_type": "stream",
     "text": [
      "[0]\ttrain-mae:0.33984\teval-mae:0.34746\n",
      "[1]\ttrain-mae:0.27206\teval-mae:0.28123\n",
      "[2]\ttrain-mae:0.22233\teval-mae:0.23404\n",
      "[3]\ttrain-mae:0.18434\teval-mae:0.19895\n",
      "[4]\ttrain-mae:0.15727\teval-mae:0.17404\n",
      "[5]\ttrain-mae:0.13743\teval-mae:0.15847\n",
      "[6]\ttrain-mae:0.12311\teval-mae:0.14942\n",
      "[7]\ttrain-mae:0.11119\teval-mae:0.14208\n",
      "[8]\ttrain-mae:0.10339\teval-mae:0.13669\n",
      "[9]\ttrain-mae:0.09732\teval-mae:0.13360\n",
      "[10]\ttrain-mae:0.09243\teval-mae:0.13158\n",
      "[11]\ttrain-mae:0.08764\teval-mae:0.13058\n",
      "[12]\ttrain-mae:0.08368\teval-mae:0.12943\n",
      "[13]\ttrain-mae:0.08133\teval-mae:0.12823\n",
      "[14]\ttrain-mae:0.07876\teval-mae:0.12809\n",
      "[15]\ttrain-mae:0.07620\teval-mae:0.12784\n"
     ]
    },
    {
     "name": "stderr",
     "output_type": "stream",
     "text": [
      "[I 2024-12-19 20:29:46,740] Trial 41 pruned. Trial was pruned at iteration 16.\n"
     ]
    },
    {
     "name": "stdout",
     "output_type": "stream",
     "text": [
      "[0]\ttrain-mae:0.34158\teval-mae:0.34509\n",
      "[1]\ttrain-mae:0.27545\teval-mae:0.28129\n",
      "[2]\ttrain-mae:0.23117\teval-mae:0.23834\n",
      "[3]\ttrain-mae:0.19301\teval-mae:0.20354\n"
     ]
    },
    {
     "name": "stderr",
     "output_type": "stream",
     "text": [
      "[I 2024-12-19 20:29:46,886] Trial 42 pruned. Trial was pruned at iteration 4.\n"
     ]
    },
    {
     "name": "stdout",
     "output_type": "stream",
     "text": [
      "[0]\ttrain-mae:0.33060\teval-mae:0.33752\n",
      "[1]\ttrain-mae:0.25951\teval-mae:0.26737\n",
      "[2]\ttrain-mae:0.20936\teval-mae:0.22205\n",
      "[3]\ttrain-mae:0.17120\teval-mae:0.18701\n",
      "[4]\ttrain-mae:0.14699\teval-mae:0.16641\n",
      "[5]\ttrain-mae:0.12932\teval-mae:0.15440\n",
      "[6]\ttrain-mae:0.11681\teval-mae:0.14641\n",
      "[7]\ttrain-mae:0.10837\teval-mae:0.14273\n",
      "[8]\ttrain-mae:0.10188\teval-mae:0.14056\n",
      "[9]\ttrain-mae:0.09486\teval-mae:0.13618\n",
      "[10]\ttrain-mae:0.08955\teval-mae:0.13288\n",
      "[11]\ttrain-mae:0.08490\teval-mae:0.13227\n",
      "[12]\ttrain-mae:0.08123\teval-mae:0.13117\n",
      "[13]\ttrain-mae:0.07839\teval-mae:0.13048\n",
      "[14]\ttrain-mae:0.07515\teval-mae:0.12907\n",
      "[15]\ttrain-mae:0.07306\teval-mae:0.12975\n"
     ]
    },
    {
     "name": "stderr",
     "output_type": "stream",
     "text": [
      "[I 2024-12-19 20:29:47,223] Trial 43 pruned. Trial was pruned at iteration 16.\n"
     ]
    },
    {
     "name": "stdout",
     "output_type": "stream",
     "text": [
      "[0]\ttrain-mae:0.33284\teval-mae:0.34049\n",
      "[1]\ttrain-mae:0.27144\teval-mae:0.28142\n",
      "[2]\ttrain-mae:0.22270\teval-mae:0.23316\n",
      "[3]\ttrain-mae:0.18655\teval-mae:0.19857\n"
     ]
    },
    {
     "name": "stderr",
     "output_type": "stream",
     "text": [
      "[I 2024-12-19 20:29:47,377] Trial 44 pruned. Trial was pruned at iteration 4.\n"
     ]
    },
    {
     "name": "stdout",
     "output_type": "stream",
     "text": [
      "[0]\ttrain-mae:0.32772\teval-mae:0.33168\n",
      "[1]\ttrain-mae:0.25822\teval-mae:0.26660\n",
      "[2]\ttrain-mae:0.21071\teval-mae:0.21872\n",
      "[3]\ttrain-mae:0.17531\teval-mae:0.18608\n",
      "[4]\ttrain-mae:0.15133\teval-mae:0.16528\n",
      "[5]\ttrain-mae:0.13374\teval-mae:0.15037\n",
      "[6]\ttrain-mae:0.12204\teval-mae:0.14326\n",
      "[7]\ttrain-mae:0.11258\teval-mae:0.13887\n",
      "[8]\ttrain-mae:0.10548\teval-mae:0.13473\n",
      "[9]\ttrain-mae:0.10033\teval-mae:0.13322\n",
      "[10]\ttrain-mae:0.09768\teval-mae:0.13344\n",
      "[11]\ttrain-mae:0.09403\teval-mae:0.13281\n",
      "[12]\ttrain-mae:0.09083\teval-mae:0.13198\n",
      "[13]\ttrain-mae:0.08760\teval-mae:0.13035\n",
      "[14]\ttrain-mae:0.08451\teval-mae:0.13008\n",
      "[15]\ttrain-mae:0.08177\teval-mae:0.12984\n",
      "[16]\ttrain-mae:0.07995\teval-mae:0.12987\n"
     ]
    },
    {
     "name": "stderr",
     "output_type": "stream",
     "text": [
      "[I 2024-12-19 20:29:47,619] Trial 45 pruned. Trial was pruned at iteration 16.\n"
     ]
    },
    {
     "name": "stdout",
     "output_type": "stream",
     "text": [
      "[0]\ttrain-mae:0.38103\teval-mae:0.38569\n",
      "[1]\ttrain-mae:0.34163\teval-mae:0.34686\n"
     ]
    },
    {
     "name": "stderr",
     "output_type": "stream",
     "text": [
      "[I 2024-12-19 20:29:47,754] Trial 46 pruned. Trial was pruned at iteration 1.\n"
     ]
    },
    {
     "name": "stdout",
     "output_type": "stream",
     "text": [
      "[0]\ttrain-mae:0.32251\teval-mae:0.32560\n",
      "[1]\ttrain-mae:0.25289\teval-mae:0.25866\n",
      "[2]\ttrain-mae:0.20237\teval-mae:0.21005\n",
      "[3]\ttrain-mae:0.17002\teval-mae:0.18057\n",
      "[4]\ttrain-mae:0.14751\teval-mae:0.16028\n",
      "[5]\ttrain-mae:0.13157\teval-mae:0.14917\n",
      "[6]\ttrain-mae:0.12024\teval-mae:0.14174\n",
      "[7]\ttrain-mae:0.11205\teval-mae:0.13823\n",
      "[8]\ttrain-mae:0.10609\teval-mae:0.13531\n",
      "[9]\ttrain-mae:0.10166\teval-mae:0.13312\n",
      "[10]\ttrain-mae:0.09842\teval-mae:0.13189\n",
      "[11]\ttrain-mae:0.09473\teval-mae:0.13083\n",
      "[12]\ttrain-mae:0.09079\teval-mae:0.12952\n",
      "[13]\ttrain-mae:0.08844\teval-mae:0.12855\n",
      "[14]\ttrain-mae:0.08599\teval-mae:0.12848\n",
      "[15]\ttrain-mae:0.08464\teval-mae:0.12925\n"
     ]
    },
    {
     "name": "stderr",
     "output_type": "stream",
     "text": [
      "[I 2024-12-19 20:29:47,973] Trial 47 pruned. Trial was pruned at iteration 16.\n"
     ]
    },
    {
     "name": "stdout",
     "output_type": "stream",
     "text": [
      "[0]\ttrain-mae:0.32341\teval-mae:0.33139\n",
      "[1]\ttrain-mae:0.25504\teval-mae:0.26411\n",
      "[2]\ttrain-mae:0.20730\teval-mae:0.21646\n",
      "[3]\ttrain-mae:0.17547\teval-mae:0.18361\n",
      "[4]\ttrain-mae:0.15303\teval-mae:0.16335\n",
      "[5]\ttrain-mae:0.13894\teval-mae:0.15032\n",
      "[6]\ttrain-mae:0.12981\teval-mae:0.14246\n",
      "[7]\ttrain-mae:0.12149\teval-mae:0.13686\n",
      "[8]\ttrain-mae:0.11549\teval-mae:0.13460\n",
      "[9]\ttrain-mae:0.11230\teval-mae:0.13284\n",
      "[10]\ttrain-mae:0.10869\teval-mae:0.13134\n",
      "[11]\ttrain-mae:0.10728\teval-mae:0.13091\n",
      "[12]\ttrain-mae:0.10468\teval-mae:0.13024\n",
      "[13]\ttrain-mae:0.10318\teval-mae:0.12972\n",
      "[14]\ttrain-mae:0.10232\teval-mae:0.12959\n",
      "[15]\ttrain-mae:0.10198\teval-mae:0.12957\n",
      "[16]\ttrain-mae:0.10093\teval-mae:0.12880\n"
     ]
    },
    {
     "name": "stderr",
     "output_type": "stream",
     "text": [
      "[I 2024-12-19 20:29:48,157] Trial 48 pruned. Trial was pruned at iteration 16.\n"
     ]
    },
    {
     "name": "stdout",
     "output_type": "stream",
     "text": [
      "[0]\ttrain-mae:0.35221\teval-mae:0.35570\n",
      "[1]\ttrain-mae:0.30073\teval-mae:0.30301\n"
     ]
    },
    {
     "name": "stderr",
     "output_type": "stream",
     "text": [
      "[I 2024-12-19 20:29:48,291] Trial 49 pruned. Trial was pruned at iteration 1.\n"
     ]
    },
    {
     "name": "stdout",
     "output_type": "stream",
     "text": [
      "[0]\ttrain-mae:0.35475\teval-mae:0.36134\n",
      "[1]\ttrain-mae:0.29780\teval-mae:0.30511\n"
     ]
    },
    {
     "name": "stderr",
     "output_type": "stream",
     "text": [
      "[I 2024-12-19 20:29:48,497] Trial 50 pruned. Trial was pruned at iteration 1.\n"
     ]
    },
    {
     "name": "stdout",
     "output_type": "stream",
     "text": [
      "[0]\ttrain-mae:0.32777\teval-mae:0.33358\n",
      "[1]\ttrain-mae:0.26333\teval-mae:0.27106\n",
      "[2]\ttrain-mae:0.21799\teval-mae:0.22842\n",
      "[3]\ttrain-mae:0.18028\teval-mae:0.19201\n"
     ]
    },
    {
     "name": "stderr",
     "output_type": "stream",
     "text": [
      "[I 2024-12-19 20:29:48,646] Trial 51 pruned. Trial was pruned at iteration 4.\n"
     ]
    },
    {
     "name": "stdout",
     "output_type": "stream",
     "text": [
      "[0]\ttrain-mae:0.31812\teval-mae:0.32337\n",
      "[1]\ttrain-mae:0.24577\teval-mae:0.25389\n",
      "[2]\ttrain-mae:0.19958\teval-mae:0.21081\n",
      "[3]\ttrain-mae:0.16697\teval-mae:0.18035\n",
      "[4]\ttrain-mae:0.14695\teval-mae:0.16241\n",
      "[5]\ttrain-mae:0.13285\teval-mae:0.15205\n",
      "[6]\ttrain-mae:0.12422\teval-mae:0.14640\n",
      "[7]\ttrain-mae:0.11712\teval-mae:0.14132\n",
      "[8]\ttrain-mae:0.11309\teval-mae:0.13821\n",
      "[9]\ttrain-mae:0.11024\teval-mae:0.13667\n",
      "[10]\ttrain-mae:0.10832\teval-mae:0.13596\n",
      "[11]\ttrain-mae:0.10729\teval-mae:0.13485\n",
      "[12]\ttrain-mae:0.10520\teval-mae:0.13404\n",
      "[13]\ttrain-mae:0.10520\teval-mae:0.13404\n",
      "[14]\ttrain-mae:0.10442\teval-mae:0.13443\n",
      "[15]\ttrain-mae:0.10424\teval-mae:0.13466\n"
     ]
    },
    {
     "name": "stderr",
     "output_type": "stream",
     "text": [
      "[I 2024-12-19 20:29:48,840] Trial 52 pruned. Trial was pruned at iteration 16.\n"
     ]
    },
    {
     "name": "stdout",
     "output_type": "stream",
     "text": [
      "[0]\ttrain-mae:0.33039\teval-mae:0.33432\n",
      "[1]\ttrain-mae:0.27378\teval-mae:0.27897\n",
      "[2]\ttrain-mae:0.23814\teval-mae:0.24307\n",
      "[3]\ttrain-mae:0.20542\teval-mae:0.21095\n",
      "[4]\ttrain-mae:0.18720\teval-mae:0.19359\n"
     ]
    },
    {
     "name": "stderr",
     "output_type": "stream",
     "text": [
      "[I 2024-12-19 20:29:48,981] Trial 53 pruned. Trial was pruned at iteration 4.\n"
     ]
    },
    {
     "name": "stdout",
     "output_type": "stream",
     "text": [
      "[0]\ttrain-mae:0.33816\teval-mae:0.34418\n",
      "[1]\ttrain-mae:0.27470\teval-mae:0.28179\n",
      "[2]\ttrain-mae:0.22653\teval-mae:0.23605\n",
      "[3]\ttrain-mae:0.19072\teval-mae:0.20243\n",
      "[4]\ttrain-mae:0.16546\teval-mae:0.18029\n"
     ]
    },
    {
     "name": "stderr",
     "output_type": "stream",
     "text": [
      "[I 2024-12-19 20:29:49,140] Trial 54 pruned. Trial was pruned at iteration 4.\n"
     ]
    },
    {
     "name": "stdout",
     "output_type": "stream",
     "text": [
      "[0]\ttrain-mae:0.33288\teval-mae:0.34012\n",
      "[1]\ttrain-mae:0.26666\teval-mae:0.27513\n",
      "[2]\ttrain-mae:0.21855\teval-mae:0.22889\n",
      "[3]\ttrain-mae:0.19198\teval-mae:0.20233\n",
      "[4]\ttrain-mae:0.16385\teval-mae:0.17816\n"
     ]
    },
    {
     "name": "stderr",
     "output_type": "stream",
     "text": [
      "[I 2024-12-19 20:29:49,297] Trial 55 pruned. Trial was pruned at iteration 4.\n"
     ]
    },
    {
     "name": "stdout",
     "output_type": "stream",
     "text": [
      "[0]\ttrain-mae:0.32085\teval-mae:0.32830\n",
      "[1]\ttrain-mae:0.24662\teval-mae:0.25624\n",
      "[2]\ttrain-mae:0.19565\teval-mae:0.20635\n",
      "[3]\ttrain-mae:0.16137\teval-mae:0.17469\n",
      "[4]\ttrain-mae:0.13697\teval-mae:0.15435\n",
      "[5]\ttrain-mae:0.12074\teval-mae:0.14225\n",
      "[6]\ttrain-mae:0.10909\teval-mae:0.13518\n",
      "[7]\ttrain-mae:0.10032\teval-mae:0.13044\n",
      "[8]\ttrain-mae:0.09396\teval-mae:0.12721\n",
      "[9]\ttrain-mae:0.08844\teval-mae:0.12633\n",
      "[10]\ttrain-mae:0.08447\teval-mae:0.12523\n",
      "[11]\ttrain-mae:0.08199\teval-mae:0.12426\n",
      "[12]\ttrain-mae:0.07942\teval-mae:0.12377\n",
      "[13]\ttrain-mae:0.07707\teval-mae:0.12361\n",
      "[14]\ttrain-mae:0.07518\teval-mae:0.12407\n",
      "[15]\ttrain-mae:0.07316\teval-mae:0.12404\n",
      "[16]\ttrain-mae:0.07083\teval-mae:0.12364\n",
      "[17]\ttrain-mae:0.06921\teval-mae:0.12340\n",
      "[18]\ttrain-mae:0.06830\teval-mae:0.12330\n",
      "[19]\ttrain-mae:0.06709\teval-mae:0.12216\n",
      "[20]\ttrain-mae:0.06592\teval-mae:0.12233\n",
      "[21]\ttrain-mae:0.06430\teval-mae:0.12269\n",
      "[22]\ttrain-mae:0.06289\teval-mae:0.12248\n",
      "[23]\ttrain-mae:0.06168\teval-mae:0.12197\n",
      "[24]\ttrain-mae:0.06076\teval-mae:0.12177\n",
      "[25]\ttrain-mae:0.06027\teval-mae:0.12170\n",
      "[26]\ttrain-mae:0.05943\teval-mae:0.12172\n",
      "[27]\ttrain-mae:0.05847\teval-mae:0.12223\n",
      "[28]\ttrain-mae:0.05760\teval-mae:0.12245\n",
      "[29]\ttrain-mae:0.05667\teval-mae:0.12272\n",
      "[30]\ttrain-mae:0.05530\teval-mae:0.12300\n",
      "[31]\ttrain-mae:0.05454\teval-mae:0.12321\n",
      "[32]\ttrain-mae:0.05390\teval-mae:0.12347\n",
      "[33]\ttrain-mae:0.05318\teval-mae:0.12344\n",
      "[34]\ttrain-mae:0.05183\teval-mae:0.12324\n",
      "[35]\ttrain-mae:0.05125\teval-mae:0.12368\n",
      "[36]\ttrain-mae:0.05048\teval-mae:0.12340\n",
      "[37]\ttrain-mae:0.04945\teval-mae:0.12306\n",
      "[38]\ttrain-mae:0.04829\teval-mae:0.12284\n",
      "[39]\ttrain-mae:0.04771\teval-mae:0.12281\n",
      "[40]\ttrain-mae:0.04695\teval-mae:0.12277\n",
      "[41]\ttrain-mae:0.04667\teval-mae:0.12302\n",
      "[42]\ttrain-mae:0.04592\teval-mae:0.12348\n",
      "[43]\ttrain-mae:0.04547\teval-mae:0.12326\n",
      "[44]\ttrain-mae:0.04473\teval-mae:0.12313\n",
      "[45]\ttrain-mae:0.04394\teval-mae:0.12337\n",
      "[46]\ttrain-mae:0.04318\teval-mae:0.12351\n",
      "[47]\ttrain-mae:0.04248\teval-mae:0.12366\n",
      "[48]\ttrain-mae:0.04200\teval-mae:0.12320\n",
      "[49]\ttrain-mae:0.04137\teval-mae:0.12341\n",
      "[50]\ttrain-mae:0.04103\teval-mae:0.12326\n",
      "[51]\ttrain-mae:0.04037\teval-mae:0.12346\n",
      "[52]\ttrain-mae:0.03990\teval-mae:0.12330\n",
      "[53]\ttrain-mae:0.03896\teval-mae:0.12330\n",
      "[54]\ttrain-mae:0.03826\teval-mae:0.12309\n",
      "[55]\ttrain-mae:0.03799\teval-mae:0.12343\n",
      "[56]\ttrain-mae:0.03720\teval-mae:0.12334\n",
      "[57]\ttrain-mae:0.03663\teval-mae:0.12348\n",
      "[58]\ttrain-mae:0.03608\teval-mae:0.12319\n",
      "[59]\ttrain-mae:0.03543\teval-mae:0.12346\n",
      "[60]\ttrain-mae:0.03495\teval-mae:0.12333\n",
      "[61]\ttrain-mae:0.03445\teval-mae:0.12385\n",
      "[62]\ttrain-mae:0.03403\teval-mae:0.12383\n",
      "[63]\ttrain-mae:0.03338\teval-mae:0.12373\n",
      "[64]\ttrain-mae:0.03284\teval-mae:0.12377\n"
     ]
    },
    {
     "name": "stderr",
     "output_type": "stream",
     "text": [
      "[I 2024-12-19 20:29:49,774] Trial 56 pruned. Trial was pruned at iteration 64.\n"
     ]
    },
    {
     "name": "stdout",
     "output_type": "stream",
     "text": [
      "[0]\ttrain-mae:0.34020\teval-mae:0.34648\n"
     ]
    },
    {
     "name": "stderr",
     "output_type": "stream",
     "text": [
      "[I 2024-12-19 20:29:49,914] Trial 57 pruned. Trial was pruned at iteration 1.\n"
     ]
    },
    {
     "name": "stdout",
     "output_type": "stream",
     "text": [
      "[0]\ttrain-mae:0.33730\teval-mae:0.34292\n",
      "[1]\ttrain-mae:0.27463\teval-mae:0.28038\n",
      "[2]\ttrain-mae:0.22460\teval-mae:0.23176\n",
      "[3]\ttrain-mae:0.19158\teval-mae:0.20083\n"
     ]
    },
    {
     "name": "stderr",
     "output_type": "stream",
     "text": [
      "[I 2024-12-19 20:29:50,075] Trial 58 pruned. Trial was pruned at iteration 4.\n"
     ]
    },
    {
     "name": "stdout",
     "output_type": "stream",
     "text": [
      "[0]\ttrain-mae:0.32154\teval-mae:0.32695\n",
      "[1]\ttrain-mae:0.24987\teval-mae:0.25545\n",
      "[2]\ttrain-mae:0.20052\teval-mae:0.20932\n",
      "[3]\ttrain-mae:0.16895\teval-mae:0.18374\n",
      "[4]\ttrain-mae:0.14369\teval-mae:0.16245\n",
      "[5]\ttrain-mae:0.12668\teval-mae:0.14995\n",
      "[6]\ttrain-mae:0.11459\teval-mae:0.14086\n",
      "[7]\ttrain-mae:0.10517\teval-mae:0.13389\n",
      "[8]\ttrain-mae:0.09849\teval-mae:0.13186\n",
      "[9]\ttrain-mae:0.09436\teval-mae:0.13038\n",
      "[10]\ttrain-mae:0.09052\teval-mae:0.12952\n",
      "[11]\ttrain-mae:0.08671\teval-mae:0.12833\n",
      "[12]\ttrain-mae:0.08363\teval-mae:0.12786\n",
      "[13]\ttrain-mae:0.08161\teval-mae:0.12782\n",
      "[14]\ttrain-mae:0.07971\teval-mae:0.12774\n",
      "[15]\ttrain-mae:0.07723\teval-mae:0.12583\n"
     ]
    },
    {
     "name": "stderr",
     "output_type": "stream",
     "text": [
      "[I 2024-12-19 20:29:50,337] Trial 59 pruned. Trial was pruned at iteration 16.\n"
     ]
    },
    {
     "name": "stdout",
     "output_type": "stream",
     "text": [
      "[0]\ttrain-mae:0.35253\teval-mae:0.35797\n",
      "[1]\ttrain-mae:0.29739\teval-mae:0.30549\n"
     ]
    },
    {
     "name": "stderr",
     "output_type": "stream",
     "text": [
      "[I 2024-12-19 20:29:50,491] Trial 60 pruned. Trial was pruned at iteration 1.\n"
     ]
    },
    {
     "name": "stdout",
     "output_type": "stream",
     "text": [
      "[0]\ttrain-mae:0.32383\teval-mae:0.33162\n",
      "[1]\ttrain-mae:0.25113\teval-mae:0.26175\n",
      "[2]\ttrain-mae:0.20146\teval-mae:0.21433\n",
      "[3]\ttrain-mae:0.16634\teval-mae:0.18051\n",
      "[4]\ttrain-mae:0.14536\teval-mae:0.16284\n",
      "[5]\ttrain-mae:0.12805\teval-mae:0.14773\n",
      "[6]\ttrain-mae:0.11603\teval-mae:0.13984\n",
      "[7]\ttrain-mae:0.10856\teval-mae:0.13431\n",
      "[8]\ttrain-mae:0.10335\teval-mae:0.13093\n",
      "[9]\ttrain-mae:0.09725\teval-mae:0.12631\n",
      "[10]\ttrain-mae:0.09223\teval-mae:0.12476\n",
      "[11]\ttrain-mae:0.08931\teval-mae:0.12434\n",
      "[12]\ttrain-mae:0.08593\teval-mae:0.12217\n",
      "[13]\ttrain-mae:0.08253\teval-mae:0.12098\n",
      "[14]\ttrain-mae:0.08125\teval-mae:0.12159\n",
      "[15]\ttrain-mae:0.07921\teval-mae:0.12112\n",
      "[16]\ttrain-mae:0.07784\teval-mae:0.12126\n",
      "[17]\ttrain-mae:0.07670\teval-mae:0.12187\n",
      "[18]\ttrain-mae:0.07583\teval-mae:0.12199\n",
      "[19]\ttrain-mae:0.07437\teval-mae:0.12152\n",
      "[20]\ttrain-mae:0.07241\teval-mae:0.12128\n",
      "[21]\ttrain-mae:0.07093\teval-mae:0.12144\n",
      "[22]\ttrain-mae:0.06946\teval-mae:0.12126\n",
      "[23]\ttrain-mae:0.06864\teval-mae:0.12147\n",
      "[24]\ttrain-mae:0.06682\teval-mae:0.12137\n",
      "[25]\ttrain-mae:0.06597\teval-mae:0.12112\n",
      "[26]\ttrain-mae:0.06458\teval-mae:0.12078\n",
      "[27]\ttrain-mae:0.06319\teval-mae:0.12004\n",
      "[28]\ttrain-mae:0.06231\teval-mae:0.11998\n",
      "[29]\ttrain-mae:0.06165\teval-mae:0.12004\n",
      "[30]\ttrain-mae:0.06063\teval-mae:0.11961\n",
      "[31]\ttrain-mae:0.05961\teval-mae:0.11959\n",
      "[32]\ttrain-mae:0.05862\teval-mae:0.11969\n",
      "[33]\ttrain-mae:0.05748\teval-mae:0.12015\n",
      "[34]\ttrain-mae:0.05667\teval-mae:0.12040\n",
      "[35]\ttrain-mae:0.05596\teval-mae:0.12015\n",
      "[36]\ttrain-mae:0.05478\teval-mae:0.11975\n",
      "[37]\ttrain-mae:0.05386\teval-mae:0.11979\n",
      "[38]\ttrain-mae:0.05278\teval-mae:0.12011\n",
      "[39]\ttrain-mae:0.05188\teval-mae:0.12031\n",
      "[40]\ttrain-mae:0.05105\teval-mae:0.12013\n",
      "[41]\ttrain-mae:0.05009\teval-mae:0.12017\n",
      "[42]\ttrain-mae:0.04936\teval-mae:0.12007\n",
      "[43]\ttrain-mae:0.04878\teval-mae:0.11981\n",
      "[44]\ttrain-mae:0.04786\teval-mae:0.11999\n",
      "[45]\ttrain-mae:0.04744\teval-mae:0.11992\n",
      "[46]\ttrain-mae:0.04649\teval-mae:0.11998\n",
      "[47]\ttrain-mae:0.04576\teval-mae:0.12033\n",
      "[48]\ttrain-mae:0.04519\teval-mae:0.12036\n",
      "[49]\ttrain-mae:0.04437\teval-mae:0.12010\n",
      "[50]\ttrain-mae:0.04368\teval-mae:0.11979\n",
      "[51]\ttrain-mae:0.04309\teval-mae:0.11981\n",
      "[52]\ttrain-mae:0.04282\teval-mae:0.11995\n",
      "[53]\ttrain-mae:0.04197\teval-mae:0.12046\n",
      "[54]\ttrain-mae:0.04102\teval-mae:0.12030\n",
      "[55]\ttrain-mae:0.04031\teval-mae:0.12034\n",
      "[56]\ttrain-mae:0.03957\teval-mae:0.12026\n",
      "[57]\ttrain-mae:0.03917\teval-mae:0.12033\n",
      "[58]\ttrain-mae:0.03842\teval-mae:0.12020\n",
      "[59]\ttrain-mae:0.03798\teval-mae:0.12003\n",
      "[60]\ttrain-mae:0.03760\teval-mae:0.11984\n",
      "[61]\ttrain-mae:0.03702\teval-mae:0.11990\n",
      "[62]\ttrain-mae:0.03660\teval-mae:0.11966\n",
      "[63]\ttrain-mae:0.03627\teval-mae:0.12000\n",
      "[64]\ttrain-mae:0.03578\teval-mae:0.11990\n",
      "[65]\ttrain-mae:0.03517\teval-mae:0.11997\n",
      "[66]\ttrain-mae:0.03482\teval-mae:0.11998\n",
      "[67]\ttrain-mae:0.03425\teval-mae:0.12000\n",
      "[68]\ttrain-mae:0.03368\teval-mae:0.12003\n",
      "[69]\ttrain-mae:0.03333\teval-mae:0.11985\n",
      "[70]\ttrain-mae:0.03291\teval-mae:0.12014\n",
      "[71]\ttrain-mae:0.03248\teval-mae:0.12024\n",
      "[72]\ttrain-mae:0.03193\teval-mae:0.11974\n",
      "[73]\ttrain-mae:0.03168\teval-mae:0.11965\n",
      "[74]\ttrain-mae:0.03135\teval-mae:0.11938\n",
      "[75]\ttrain-mae:0.03094\teval-mae:0.11969\n",
      "[76]\ttrain-mae:0.03053\teval-mae:0.11960\n",
      "[77]\ttrain-mae:0.03019\teval-mae:0.11940\n",
      "[78]\ttrain-mae:0.02982\teval-mae:0.11945\n",
      "[79]\ttrain-mae:0.02948\teval-mae:0.11942\n",
      "[80]\ttrain-mae:0.02913\teval-mae:0.11950\n",
      "[81]\ttrain-mae:0.02879\teval-mae:0.11950\n",
      "[82]\ttrain-mae:0.02847\teval-mae:0.11953\n",
      "[83]\ttrain-mae:0.02799\teval-mae:0.11962\n",
      "[84]\ttrain-mae:0.02758\teval-mae:0.11965\n",
      "[85]\ttrain-mae:0.02736\teval-mae:0.11969\n",
      "[86]\ttrain-mae:0.02703\teval-mae:0.11960\n",
      "[87]\ttrain-mae:0.02694\teval-mae:0.11969\n",
      "[88]\ttrain-mae:0.02681\teval-mae:0.11967\n",
      "[89]\ttrain-mae:0.02660\teval-mae:0.11967\n",
      "[90]\ttrain-mae:0.02624\teval-mae:0.11970\n",
      "[91]\ttrain-mae:0.02598\teval-mae:0.11982\n",
      "[92]\ttrain-mae:0.02585\teval-mae:0.11994\n",
      "[93]\ttrain-mae:0.02566\teval-mae:0.11992\n",
      "[94]\ttrain-mae:0.02524\teval-mae:0.12024\n",
      "[95]\ttrain-mae:0.02500\teval-mae:0.12033\n",
      "[96]\ttrain-mae:0.02471\teval-mae:0.12010\n",
      "[97]\ttrain-mae:0.02436\teval-mae:0.12000\n",
      "[98]\ttrain-mae:0.02399\teval-mae:0.12013\n",
      "[99]\ttrain-mae:0.02379\teval-mae:0.12026\n",
      "[100]\ttrain-mae:0.02357\teval-mae:0.12023\n",
      "[101]\ttrain-mae:0.02328\teval-mae:0.12018\n",
      "[102]\ttrain-mae:0.02298\teval-mae:0.12045\n",
      "[103]\ttrain-mae:0.02272\teval-mae:0.12058\n",
      "[104]\ttrain-mae:0.02251\teval-mae:0.12057\n",
      "[105]\ttrain-mae:0.02247\teval-mae:0.12061\n",
      "[106]\ttrain-mae:0.02227\teval-mae:0.12087\n",
      "[107]\ttrain-mae:0.02222\teval-mae:0.12086\n",
      "[108]\ttrain-mae:0.02198\teval-mae:0.12085\n",
      "[109]\ttrain-mae:0.02172\teval-mae:0.12076\n",
      "[110]\ttrain-mae:0.02163\teval-mae:0.12069\n",
      "[111]\ttrain-mae:0.02147\teval-mae:0.12083\n",
      "[112]\ttrain-mae:0.02112\teval-mae:0.12084\n",
      "[113]\ttrain-mae:0.02078\teval-mae:0.12086\n",
      "[114]\ttrain-mae:0.02059\teval-mae:0.12080\n",
      "[115]\ttrain-mae:0.02031\teval-mae:0.12084\n",
      "[116]\ttrain-mae:0.02014\teval-mae:0.12087\n",
      "[117]\ttrain-mae:0.01988\teval-mae:0.12096\n",
      "[118]\ttrain-mae:0.01973\teval-mae:0.12111\n",
      "[119]\ttrain-mae:0.01947\teval-mae:0.12100\n",
      "[120]\ttrain-mae:0.01927\teval-mae:0.12105\n",
      "[121]\ttrain-mae:0.01908\teval-mae:0.12098\n",
      "[122]\ttrain-mae:0.01900\teval-mae:0.12101\n",
      "[123]\ttrain-mae:0.01878\teval-mae:0.12112\n",
      "[124]\ttrain-mae:0.01850\teval-mae:0.12132\n",
      "\n",
      "Trial Results:\n",
      "MAE: 0.5453\n",
      "R2 Score: 0.8963\n"
     ]
    },
    {
     "name": "stderr",
     "output_type": "stream",
     "text": [
      "[I 2024-12-19 20:29:51,437] Trial 61 finished with value: 0.5452610507184108 and parameters: {'lambda': 8.211825030121477e-05, 'alpha': 9.030223475223533e-07, 'eta': 0.28513425976003826, 'gamma': 0.0002535843559218643, 'max_depth': 15, 'min_child_weight': 10, 'subsample': 0.7836800237165055, 'colsample_bytree': 0.9097658753086723, 'colsample_bylevel': 0.8181101540518346, 'colsample_bynode': 0.9648521130626588, 'n_estimators': 912}. Best is trial 1 with value: 0.5278477369280304.\n"
     ]
    },
    {
     "name": "stdout",
     "output_type": "stream",
     "text": [
      "[0]\ttrain-mae:0.33009\teval-mae:0.33525\n",
      "[1]\ttrain-mae:0.25989\teval-mae:0.26696\n",
      "[2]\ttrain-mae:0.21460\teval-mae:0.22547\n",
      "[3]\ttrain-mae:0.17855\teval-mae:0.19402\n",
      "[4]\ttrain-mae:0.15658\teval-mae:0.17588\n"
     ]
    },
    {
     "name": "stderr",
     "output_type": "stream",
     "text": [
      "[I 2024-12-19 20:29:51,597] Trial 62 pruned. Trial was pruned at iteration 4.\n"
     ]
    },
    {
     "name": "stdout",
     "output_type": "stream",
     "text": [
      "[0]\ttrain-mae:0.32693\teval-mae:0.33467\n",
      "[1]\ttrain-mae:0.25797\teval-mae:0.26816\n",
      "[2]\ttrain-mae:0.20640\teval-mae:0.21805\n",
      "[3]\ttrain-mae:0.17086\teval-mae:0.18486\n",
      "[4]\ttrain-mae:0.14676\teval-mae:0.16239\n",
      "[5]\ttrain-mae:0.12922\teval-mae:0.14820\n",
      "[6]\ttrain-mae:0.11736\teval-mae:0.13879\n",
      "[7]\ttrain-mae:0.10887\teval-mae:0.13304\n",
      "[8]\ttrain-mae:0.10168\teval-mae:0.12771\n",
      "[9]\ttrain-mae:0.09683\teval-mae:0.12496\n",
      "[10]\ttrain-mae:0.09327\teval-mae:0.12386\n",
      "[11]\ttrain-mae:0.09032\teval-mae:0.12241\n",
      "[12]\ttrain-mae:0.08742\teval-mae:0.12086\n",
      "[13]\ttrain-mae:0.08577\teval-mae:0.12109\n",
      "[14]\ttrain-mae:0.08342\teval-mae:0.12020\n",
      "[15]\ttrain-mae:0.08155\teval-mae:0.12029\n",
      "[16]\ttrain-mae:0.08011\teval-mae:0.12033\n",
      "[17]\ttrain-mae:0.07865\teval-mae:0.12016\n",
      "[18]\ttrain-mae:0.07719\teval-mae:0.11950\n",
      "[19]\ttrain-mae:0.07652\teval-mae:0.11988\n",
      "[20]\ttrain-mae:0.07522\teval-mae:0.12002\n",
      "[21]\ttrain-mae:0.07390\teval-mae:0.11994\n",
      "[22]\ttrain-mae:0.07280\teval-mae:0.12036\n",
      "[23]\ttrain-mae:0.07198\teval-mae:0.11994\n",
      "[24]\ttrain-mae:0.07044\teval-mae:0.11962\n",
      "[25]\ttrain-mae:0.06987\teval-mae:0.12040\n",
      "[26]\ttrain-mae:0.06888\teval-mae:0.12060\n",
      "[27]\ttrain-mae:0.06803\teval-mae:0.12092\n",
      "[28]\ttrain-mae:0.06703\teval-mae:0.12023\n",
      "[29]\ttrain-mae:0.06625\teval-mae:0.12052\n",
      "[30]\ttrain-mae:0.06557\teval-mae:0.12034\n",
      "[31]\ttrain-mae:0.06453\teval-mae:0.12008\n",
      "[32]\ttrain-mae:0.06350\teval-mae:0.11959\n",
      "[33]\ttrain-mae:0.06282\teval-mae:0.11961\n",
      "[34]\ttrain-mae:0.06201\teval-mae:0.11976\n",
      "[35]\ttrain-mae:0.06069\teval-mae:0.11986\n",
      "[36]\ttrain-mae:0.05987\teval-mae:0.11968\n",
      "[37]\ttrain-mae:0.05924\teval-mae:0.11935\n",
      "[38]\ttrain-mae:0.05829\teval-mae:0.11982\n",
      "[39]\ttrain-mae:0.05765\teval-mae:0.11992\n",
      "[40]\ttrain-mae:0.05716\teval-mae:0.11978\n",
      "[41]\ttrain-mae:0.05657\teval-mae:0.12002\n",
      "[42]\ttrain-mae:0.05597\teval-mae:0.12001\n",
      "[43]\ttrain-mae:0.05514\teval-mae:0.12036\n",
      "[44]\ttrain-mae:0.05430\teval-mae:0.12035\n",
      "[45]\ttrain-mae:0.05383\teval-mae:0.12037\n",
      "[46]\ttrain-mae:0.05291\teval-mae:0.12032\n",
      "[47]\ttrain-mae:0.05246\teval-mae:0.12061\n",
      "[48]\ttrain-mae:0.05204\teval-mae:0.12021\n",
      "[49]\ttrain-mae:0.05097\teval-mae:0.12015\n",
      "[50]\ttrain-mae:0.05020\teval-mae:0.12005\n",
      "[51]\ttrain-mae:0.04966\teval-mae:0.11994\n",
      "[52]\ttrain-mae:0.04922\teval-mae:0.11998\n",
      "[53]\ttrain-mae:0.04840\teval-mae:0.11983\n",
      "[54]\ttrain-mae:0.04797\teval-mae:0.11940\n",
      "[55]\ttrain-mae:0.04726\teval-mae:0.11977\n",
      "[56]\ttrain-mae:0.04693\teval-mae:0.12001\n",
      "[57]\ttrain-mae:0.04662\teval-mae:0.11986\n",
      "[58]\ttrain-mae:0.04639\teval-mae:0.11990\n",
      "[59]\ttrain-mae:0.04561\teval-mae:0.11994\n",
      "[60]\ttrain-mae:0.04505\teval-mae:0.12022\n",
      "[61]\ttrain-mae:0.04454\teval-mae:0.12025\n",
      "[62]\ttrain-mae:0.04404\teval-mae:0.12004\n",
      "[63]\ttrain-mae:0.04349\teval-mae:0.11997\n",
      "[64]\ttrain-mae:0.04290\teval-mae:0.11995\n"
     ]
    },
    {
     "name": "stderr",
     "output_type": "stream",
     "text": [
      "[I 2024-12-19 20:29:52,131] Trial 63 pruned. Trial was pruned at iteration 64.\n"
     ]
    },
    {
     "name": "stdout",
     "output_type": "stream",
     "text": [
      "[0]\ttrain-mae:0.32609\teval-mae:0.33225\n",
      "[1]\ttrain-mae:0.26045\teval-mae:0.26804\n",
      "[2]\ttrain-mae:0.20784\teval-mae:0.21911\n",
      "[3]\ttrain-mae:0.17338\teval-mae:0.18708\n",
      "[4]\ttrain-mae:0.14798\teval-mae:0.16354\n"
     ]
    },
    {
     "name": "stderr",
     "output_type": "stream",
     "text": [
      "[I 2024-12-19 20:29:52,282] Trial 64 pruned. Trial was pruned at iteration 4.\n"
     ]
    },
    {
     "name": "stdout",
     "output_type": "stream",
     "text": [
      "[0]\ttrain-mae:0.32511\teval-mae:0.33154\n",
      "[1]\ttrain-mae:0.25323\teval-mae:0.26170\n",
      "[2]\ttrain-mae:0.20537\teval-mae:0.21456\n",
      "[3]\ttrain-mae:0.17213\teval-mae:0.18337\n",
      "[4]\ttrain-mae:0.14785\teval-mae:0.16044\n",
      "[5]\ttrain-mae:0.13051\teval-mae:0.14691\n",
      "[6]\ttrain-mae:0.11987\teval-mae:0.14077\n",
      "[7]\ttrain-mae:0.11228\teval-mae:0.13607\n",
      "[8]\ttrain-mae:0.10597\teval-mae:0.13398\n",
      "[9]\ttrain-mae:0.10007\teval-mae:0.13066\n",
      "[10]\ttrain-mae:0.09655\teval-mae:0.12918\n",
      "[11]\ttrain-mae:0.09328\teval-mae:0.12877\n",
      "[12]\ttrain-mae:0.08905\teval-mae:0.12723\n",
      "[13]\ttrain-mae:0.08776\teval-mae:0.12670\n",
      "[14]\ttrain-mae:0.08582\teval-mae:0.12660\n",
      "[15]\ttrain-mae:0.08542\teval-mae:0.12698\n",
      "[16]\ttrain-mae:0.08339\teval-mae:0.12725\n"
     ]
    },
    {
     "name": "stderr",
     "output_type": "stream",
     "text": [
      "[I 2024-12-19 20:29:52,505] Trial 65 pruned. Trial was pruned at iteration 16.\n"
     ]
    },
    {
     "name": "stdout",
     "output_type": "stream",
     "text": [
      "[0]\ttrain-mae:0.33243\teval-mae:0.33538\n",
      "[1]\ttrain-mae:0.26584\teval-mae:0.26653\n",
      "[2]\ttrain-mae:0.22090\teval-mae:0.22072\n",
      "[3]\ttrain-mae:0.19310\teval-mae:0.19481\n",
      "[4]\ttrain-mae:0.17497\teval-mae:0.17759\n"
     ]
    },
    {
     "name": "stderr",
     "output_type": "stream",
     "text": [
      "[I 2024-12-19 20:29:52,648] Trial 66 pruned. Trial was pruned at iteration 4.\n"
     ]
    },
    {
     "name": "stdout",
     "output_type": "stream",
     "text": [
      "[0]\ttrain-mae:0.32760\teval-mae:0.33253\n",
      "[1]\ttrain-mae:0.27453\teval-mae:0.28149\n"
     ]
    },
    {
     "name": "stderr",
     "output_type": "stream",
     "text": [
      "[I 2024-12-19 20:29:52,775] Trial 67 pruned. Trial was pruned at iteration 1.\n"
     ]
    },
    {
     "name": "stdout",
     "output_type": "stream",
     "text": [
      "[0]\ttrain-mae:0.40279\teval-mae:0.40831\n",
      "[1]\ttrain-mae:0.38028\teval-mae:0.38591\n"
     ]
    },
    {
     "name": "stderr",
     "output_type": "stream",
     "text": [
      "[I 2024-12-19 20:29:52,921] Trial 68 pruned. Trial was pruned at iteration 1.\n"
     ]
    },
    {
     "name": "stdout",
     "output_type": "stream",
     "text": [
      "[0]\ttrain-mae:0.38465\teval-mae:0.38991\n"
     ]
    },
    {
     "name": "stderr",
     "output_type": "stream",
     "text": [
      "[I 2024-12-19 20:29:53,039] Trial 69 pruned. Trial was pruned at iteration 1.\n"
     ]
    },
    {
     "name": "stdout",
     "output_type": "stream",
     "text": [
      "[0]\ttrain-mae:0.33933\teval-mae:0.34590\n"
     ]
    },
    {
     "name": "stderr",
     "output_type": "stream",
     "text": [
      "[I 2024-12-19 20:29:53,175] Trial 70 pruned. Trial was pruned at iteration 1.\n"
     ]
    },
    {
     "name": "stdout",
     "output_type": "stream",
     "text": [
      "[0]\ttrain-mae:0.32568\teval-mae:0.33261\n",
      "[1]\ttrain-mae:0.25959\teval-mae:0.26799\n",
      "[2]\ttrain-mae:0.20733\teval-mae:0.21764\n",
      "[3]\ttrain-mae:0.17534\teval-mae:0.18716\n",
      "[4]\ttrain-mae:0.14777\teval-mae:0.16216\n",
      "[5]\ttrain-mae:0.13114\teval-mae:0.14856\n",
      "[6]\ttrain-mae:0.11907\teval-mae:0.14000\n",
      "[7]\ttrain-mae:0.11112\teval-mae:0.13588\n",
      "[8]\ttrain-mae:0.10321\teval-mae:0.13076\n",
      "[9]\ttrain-mae:0.09838\teval-mae:0.12887\n",
      "[10]\ttrain-mae:0.09516\teval-mae:0.12771\n",
      "[11]\ttrain-mae:0.09128\teval-mae:0.12543\n",
      "[12]\ttrain-mae:0.08785\teval-mae:0.12319\n",
      "[13]\ttrain-mae:0.08649\teval-mae:0.12324\n",
      "[14]\ttrain-mae:0.08447\teval-mae:0.12226\n",
      "[15]\ttrain-mae:0.08335\teval-mae:0.12244\n",
      "[16]\ttrain-mae:0.08173\teval-mae:0.12238\n",
      "[17]\ttrain-mae:0.08048\teval-mae:0.12185\n",
      "[18]\ttrain-mae:0.07917\teval-mae:0.12172\n",
      "[19]\ttrain-mae:0.07802\teval-mae:0.12108\n",
      "[20]\ttrain-mae:0.07625\teval-mae:0.12084\n",
      "[21]\ttrain-mae:0.07535\teval-mae:0.12106\n",
      "[22]\ttrain-mae:0.07453\teval-mae:0.12111\n",
      "[23]\ttrain-mae:0.07324\teval-mae:0.12129\n",
      "[24]\ttrain-mae:0.07244\teval-mae:0.12142\n",
      "[25]\ttrain-mae:0.07173\teval-mae:0.12153\n",
      "[26]\ttrain-mae:0.07014\teval-mae:0.12090\n",
      "[27]\ttrain-mae:0.06935\teval-mae:0.12030\n",
      "[28]\ttrain-mae:0.06805\teval-mae:0.12073\n",
      "[29]\ttrain-mae:0.06690\teval-mae:0.12107\n",
      "[30]\ttrain-mae:0.06612\teval-mae:0.12072\n",
      "[31]\ttrain-mae:0.06547\teval-mae:0.12061\n",
      "[32]\ttrain-mae:0.06472\teval-mae:0.12078\n",
      "[33]\ttrain-mae:0.06417\teval-mae:0.12089\n",
      "[34]\ttrain-mae:0.06333\teval-mae:0.12044\n",
      "[35]\ttrain-mae:0.06238\teval-mae:0.12058\n",
      "[36]\ttrain-mae:0.06168\teval-mae:0.12010\n",
      "[37]\ttrain-mae:0.06060\teval-mae:0.12033\n",
      "[38]\ttrain-mae:0.05955\teval-mae:0.12057\n",
      "[39]\ttrain-mae:0.05854\teval-mae:0.12018\n",
      "[40]\ttrain-mae:0.05826\teval-mae:0.12026\n",
      "[41]\ttrain-mae:0.05739\teval-mae:0.12048\n",
      "[42]\ttrain-mae:0.05681\teval-mae:0.12109\n",
      "[43]\ttrain-mae:0.05605\teval-mae:0.12116\n",
      "[44]\ttrain-mae:0.05532\teval-mae:0.12076\n",
      "[45]\ttrain-mae:0.05475\teval-mae:0.12069\n",
      "[46]\ttrain-mae:0.05422\teval-mae:0.12069\n",
      "[47]\ttrain-mae:0.05386\teval-mae:0.12067\n",
      "[48]\ttrain-mae:0.05330\teval-mae:0.12123\n",
      "[49]\ttrain-mae:0.05252\teval-mae:0.12106\n",
      "[50]\ttrain-mae:0.05160\teval-mae:0.12083\n",
      "[51]\ttrain-mae:0.05110\teval-mae:0.12062\n",
      "[52]\ttrain-mae:0.05069\teval-mae:0.12087\n",
      "[53]\ttrain-mae:0.05004\teval-mae:0.12095\n",
      "[54]\ttrain-mae:0.04965\teval-mae:0.12091\n",
      "[55]\ttrain-mae:0.04896\teval-mae:0.12128\n",
      "[56]\ttrain-mae:0.04812\teval-mae:0.12103\n",
      "[57]\ttrain-mae:0.04766\teval-mae:0.12100\n",
      "[58]\ttrain-mae:0.04721\teval-mae:0.12073\n",
      "[59]\ttrain-mae:0.04663\teval-mae:0.12060\n",
      "[60]\ttrain-mae:0.04645\teval-mae:0.12076\n",
      "[61]\ttrain-mae:0.04572\teval-mae:0.12074\n",
      "[62]\ttrain-mae:0.04502\teval-mae:0.12057\n",
      "[63]\ttrain-mae:0.04462\teval-mae:0.12063\n"
     ]
    },
    {
     "name": "stderr",
     "output_type": "stream",
     "text": [
      "[I 2024-12-19 20:29:53,657] Trial 71 pruned. Trial was pruned at iteration 64.\n"
     ]
    },
    {
     "name": "stdout",
     "output_type": "stream",
     "text": [
      "[0]\ttrain-mae:0.32226\teval-mae:0.32885\n",
      "[1]\ttrain-mae:0.24994\teval-mae:0.25555\n",
      "[2]\ttrain-mae:0.20207\teval-mae:0.21083\n",
      "[3]\ttrain-mae:0.16684\teval-mae:0.17856\n",
      "[4]\ttrain-mae:0.14439\teval-mae:0.16077\n",
      "[5]\ttrain-mae:0.12978\teval-mae:0.15093\n",
      "[6]\ttrain-mae:0.12001\teval-mae:0.14441\n",
      "[7]\ttrain-mae:0.10994\teval-mae:0.13662\n",
      "[8]\ttrain-mae:0.10411\teval-mae:0.13301\n",
      "[9]\ttrain-mae:0.09819\teval-mae:0.13004\n",
      "[10]\ttrain-mae:0.09441\teval-mae:0.12747\n",
      "[11]\ttrain-mae:0.09216\teval-mae:0.12669\n",
      "[12]\ttrain-mae:0.08963\teval-mae:0.12511\n",
      "[13]\ttrain-mae:0.08820\teval-mae:0.12427\n",
      "[14]\ttrain-mae:0.08639\teval-mae:0.12381\n",
      "[15]\ttrain-mae:0.08437\teval-mae:0.12301\n",
      "[16]\ttrain-mae:0.08321\teval-mae:0.12218\n",
      "[17]\ttrain-mae:0.08242\teval-mae:0.12202\n",
      "[18]\ttrain-mae:0.08105\teval-mae:0.12113\n",
      "[19]\ttrain-mae:0.08001\teval-mae:0.12067\n",
      "[20]\ttrain-mae:0.07922\teval-mae:0.12116\n",
      "[21]\ttrain-mae:0.07816\teval-mae:0.12127\n",
      "[22]\ttrain-mae:0.07757\teval-mae:0.12102\n",
      "[23]\ttrain-mae:0.07621\teval-mae:0.12060\n",
      "[24]\ttrain-mae:0.07491\teval-mae:0.12016\n",
      "[25]\ttrain-mae:0.07421\teval-mae:0.12089\n",
      "[26]\ttrain-mae:0.07365\teval-mae:0.12037\n",
      "[27]\ttrain-mae:0.07317\teval-mae:0.12035\n",
      "[28]\ttrain-mae:0.07234\teval-mae:0.12066\n",
      "[29]\ttrain-mae:0.07153\teval-mae:0.12092\n",
      "[30]\ttrain-mae:0.07021\teval-mae:0.12128\n",
      "[31]\ttrain-mae:0.06944\teval-mae:0.12089\n",
      "[32]\ttrain-mae:0.06907\teval-mae:0.12126\n",
      "[33]\ttrain-mae:0.06798\teval-mae:0.12183\n",
      "[34]\ttrain-mae:0.06751\teval-mae:0.12173\n",
      "[35]\ttrain-mae:0.06595\teval-mae:0.12093\n",
      "[36]\ttrain-mae:0.06513\teval-mae:0.12054\n",
      "[37]\ttrain-mae:0.06444\teval-mae:0.11998\n",
      "[38]\ttrain-mae:0.06394\teval-mae:0.11999\n",
      "[39]\ttrain-mae:0.06331\teval-mae:0.12072\n",
      "[40]\ttrain-mae:0.06304\teval-mae:0.12063\n",
      "[41]\ttrain-mae:0.06244\teval-mae:0.12064\n",
      "[42]\ttrain-mae:0.06160\teval-mae:0.12120\n",
      "[43]\ttrain-mae:0.06140\teval-mae:0.12109\n",
      "[44]\ttrain-mae:0.06060\teval-mae:0.12088\n",
      "[45]\ttrain-mae:0.05971\teval-mae:0.12042\n",
      "[46]\ttrain-mae:0.05889\teval-mae:0.12084\n",
      "[47]\ttrain-mae:0.05804\teval-mae:0.12065\n",
      "[48]\ttrain-mae:0.05696\teval-mae:0.12036\n",
      "[49]\ttrain-mae:0.05633\teval-mae:0.12061\n",
      "[50]\ttrain-mae:0.05583\teval-mae:0.12055\n",
      "[51]\ttrain-mae:0.05545\teval-mae:0.12052\n",
      "[52]\ttrain-mae:0.05508\teval-mae:0.12022\n",
      "[53]\ttrain-mae:0.05428\teval-mae:0.12040\n",
      "[54]\ttrain-mae:0.05344\teval-mae:0.12086\n",
      "[55]\ttrain-mae:0.05270\teval-mae:0.12148\n",
      "[56]\ttrain-mae:0.05222\teval-mae:0.12170\n",
      "[57]\ttrain-mae:0.05168\teval-mae:0.12153\n",
      "[58]\ttrain-mae:0.05104\teval-mae:0.12143\n",
      "[59]\ttrain-mae:0.05045\teval-mae:0.12154\n",
      "[60]\ttrain-mae:0.04983\teval-mae:0.12167\n",
      "[61]\ttrain-mae:0.04927\teval-mae:0.12201\n",
      "[62]\ttrain-mae:0.04859\teval-mae:0.12157\n",
      "[63]\ttrain-mae:0.04803\teval-mae:0.12158\n"
     ]
    },
    {
     "name": "stderr",
     "output_type": "stream",
     "text": [
      "[I 2024-12-19 20:29:54,096] Trial 72 pruned. Trial was pruned at iteration 64.\n"
     ]
    },
    {
     "name": "stdout",
     "output_type": "stream",
     "text": [
      "[0]\ttrain-mae:0.32943\teval-mae:0.33570\n",
      "[1]\ttrain-mae:0.26370\teval-mae:0.27182\n",
      "[2]\ttrain-mae:0.21356\teval-mae:0.22317\n",
      "[3]\ttrain-mae:0.17970\teval-mae:0.19039\n",
      "[4]\ttrain-mae:0.15743\teval-mae:0.16901\n"
     ]
    },
    {
     "name": "stderr",
     "output_type": "stream",
     "text": [
      "[I 2024-12-19 20:29:54,251] Trial 73 pruned. Trial was pruned at iteration 4.\n"
     ]
    },
    {
     "name": "stdout",
     "output_type": "stream",
     "text": [
      "[0]\ttrain-mae:0.32949\teval-mae:0.33663\n",
      "[1]\ttrain-mae:0.25896\teval-mae:0.26922\n",
      "[2]\ttrain-mae:0.21176\teval-mae:0.22396\n",
      "[3]\ttrain-mae:0.17510\teval-mae:0.18964\n"
     ]
    },
    {
     "name": "stderr",
     "output_type": "stream",
     "text": [
      "[I 2024-12-19 20:29:54,398] Trial 74 pruned. Trial was pruned at iteration 4.\n"
     ]
    },
    {
     "name": "stdout",
     "output_type": "stream",
     "text": [
      "[0]\ttrain-mae:0.37113\teval-mae:0.37546\n"
     ]
    },
    {
     "name": "stderr",
     "output_type": "stream",
     "text": [
      "[I 2024-12-19 20:29:54,529] Trial 75 pruned. Trial was pruned at iteration 1.\n"
     ]
    },
    {
     "name": "stdout",
     "output_type": "stream",
     "text": [
      "[0]\ttrain-mae:0.33751\teval-mae:0.34018\n",
      "[1]\ttrain-mae:0.27358\teval-mae:0.27676\n"
     ]
    },
    {
     "name": "stderr",
     "output_type": "stream",
     "text": [
      "[I 2024-12-19 20:29:54,668] Trial 76 pruned. Trial was pruned at iteration 1.\n"
     ]
    },
    {
     "name": "stdout",
     "output_type": "stream",
     "text": [
      "[0]\ttrain-mae:0.32235\teval-mae:0.32611\n"
     ]
    },
    {
     "name": "stderr",
     "output_type": "stream",
     "text": [
      "[I 2024-12-19 20:29:54,808] Trial 77 pruned. Trial was pruned at iteration 1.\n"
     ]
    },
    {
     "name": "stdout",
     "output_type": "stream",
     "text": [
      "[0]\ttrain-mae:0.42441\teval-mae:0.42926\n",
      "[1]\ttrain-mae:0.42224\teval-mae:0.42676\n"
     ]
    },
    {
     "name": "stderr",
     "output_type": "stream",
     "text": [
      "[I 2024-12-19 20:29:54,938] Trial 78 pruned. Trial was pruned at iteration 1.\n"
     ]
    },
    {
     "name": "stdout",
     "output_type": "stream",
     "text": [
      "[0]\ttrain-mae:0.31635\teval-mae:0.32631\n",
      "[1]\ttrain-mae:0.24083\teval-mae:0.26101\n",
      "[2]\ttrain-mae:0.18162\teval-mae:0.21175\n",
      "[3]\ttrain-mae:0.14025\teval-mae:0.17912\n",
      "[4]\ttrain-mae:0.10938\teval-mae:0.15423\n",
      "[5]\ttrain-mae:0.08744\teval-mae:0.14114\n",
      "[6]\ttrain-mae:0.07189\teval-mae:0.13438\n",
      "[7]\ttrain-mae:0.06137\teval-mae:0.13137\n",
      "[8]\ttrain-mae:0.05289\teval-mae:0.12777\n",
      "[9]\ttrain-mae:0.04674\teval-mae:0.12619\n",
      "[10]\ttrain-mae:0.04191\teval-mae:0.12530\n",
      "[11]\ttrain-mae:0.03777\teval-mae:0.12410\n",
      "[12]\ttrain-mae:0.03391\teval-mae:0.12382\n",
      "[13]\ttrain-mae:0.03158\teval-mae:0.12419\n",
      "[14]\ttrain-mae:0.02909\teval-mae:0.12428\n",
      "[15]\ttrain-mae:0.02741\teval-mae:0.12437\n"
     ]
    },
    {
     "name": "stderr",
     "output_type": "stream",
     "text": [
      "[I 2024-12-19 20:29:55,334] Trial 79 pruned. Trial was pruned at iteration 16.\n"
     ]
    },
    {
     "name": "stdout",
     "output_type": "stream",
     "text": [
      "[0]\ttrain-mae:0.38710\teval-mae:0.39186\n",
      "[1]\ttrain-mae:0.35505\teval-mae:0.36030\n"
     ]
    },
    {
     "name": "stderr",
     "output_type": "stream",
     "text": [
      "[I 2024-12-19 20:29:55,473] Trial 80 pruned. Trial was pruned at iteration 1.\n"
     ]
    },
    {
     "name": "stdout",
     "output_type": "stream",
     "text": [
      "[0]\ttrain-mae:0.31318\teval-mae:0.32731\n",
      "[1]\ttrain-mae:0.23714\teval-mae:0.25936\n",
      "[2]\ttrain-mae:0.17823\teval-mae:0.20846\n",
      "[3]\ttrain-mae:0.13851\teval-mae:0.17888\n",
      "[4]\ttrain-mae:0.11012\teval-mae:0.16191\n",
      "[5]\ttrain-mae:0.08723\teval-mae:0.14749\n",
      "[6]\ttrain-mae:0.07076\teval-mae:0.13819\n",
      "[7]\ttrain-mae:0.05910\teval-mae:0.13380\n",
      "[8]\ttrain-mae:0.05161\teval-mae:0.13247\n",
      "[9]\ttrain-mae:0.04467\teval-mae:0.13156\n",
      "[10]\ttrain-mae:0.03994\teval-mae:0.12997\n",
      "[11]\ttrain-mae:0.03480\teval-mae:0.12888\n",
      "[12]\ttrain-mae:0.03096\teval-mae:0.12832\n",
      "[13]\ttrain-mae:0.02857\teval-mae:0.12825\n",
      "[14]\ttrain-mae:0.02622\teval-mae:0.12833\n",
      "[15]\ttrain-mae:0.02352\teval-mae:0.12800\n",
      "[16]\ttrain-mae:0.02165\teval-mae:0.12778\n"
     ]
    },
    {
     "name": "stderr",
     "output_type": "stream",
     "text": [
      "[I 2024-12-19 20:29:55,878] Trial 81 pruned. Trial was pruned at iteration 16.\n"
     ]
    },
    {
     "name": "stdout",
     "output_type": "stream",
     "text": [
      "[0]\ttrain-mae:0.31838\teval-mae:0.33140\n",
      "[1]\ttrain-mae:0.24134\teval-mae:0.26237\n",
      "[2]\ttrain-mae:0.18884\teval-mae:0.21845\n",
      "[3]\ttrain-mae:0.14591\teval-mae:0.18366\n",
      "[4]\ttrain-mae:0.11648\teval-mae:0.16348\n"
     ]
    },
    {
     "name": "stderr",
     "output_type": "stream",
     "text": [
      "[I 2024-12-19 20:29:56,110] Trial 82 pruned. Trial was pruned at iteration 4.\n"
     ]
    },
    {
     "name": "stdout",
     "output_type": "stream",
     "text": [
      "[0]\ttrain-mae:0.32698\teval-mae:0.33256\n"
     ]
    },
    {
     "name": "stderr",
     "output_type": "stream",
     "text": [
      "[I 2024-12-19 20:29:56,262] Trial 83 pruned. Trial was pruned at iteration 1.\n"
     ]
    },
    {
     "name": "stdout",
     "output_type": "stream",
     "text": [
      "[0]\ttrain-mae:0.31722\teval-mae:0.32988\n",
      "[1]\ttrain-mae:0.23741\teval-mae:0.25914\n",
      "[2]\ttrain-mae:0.17838\teval-mae:0.20939\n",
      "[3]\ttrain-mae:0.13475\teval-mae:0.17457\n",
      "[4]\ttrain-mae:0.10470\teval-mae:0.15274\n",
      "[5]\ttrain-mae:0.08145\teval-mae:0.13939\n",
      "[6]\ttrain-mae:0.06412\teval-mae:0.13046\n",
      "[7]\ttrain-mae:0.05084\teval-mae:0.12462\n",
      "[8]\ttrain-mae:0.04076\teval-mae:0.12136\n",
      "[9]\ttrain-mae:0.03339\teval-mae:0.11920\n",
      "[10]\ttrain-mae:0.02771\teval-mae:0.11825\n",
      "[11]\ttrain-mae:0.02344\teval-mae:0.11753\n",
      "[12]\ttrain-mae:0.01998\teval-mae:0.11709\n",
      "[13]\ttrain-mae:0.01754\teval-mae:0.11686\n",
      "[14]\ttrain-mae:0.01616\teval-mae:0.11671\n",
      "[15]\ttrain-mae:0.01488\teval-mae:0.11664\n",
      "[16]\ttrain-mae:0.01383\teval-mae:0.11649\n",
      "[17]\ttrain-mae:0.01325\teval-mae:0.11634\n",
      "[18]\ttrain-mae:0.01296\teval-mae:0.11630\n",
      "[19]\ttrain-mae:0.01256\teval-mae:0.11628\n",
      "[20]\ttrain-mae:0.01224\teval-mae:0.11630\n",
      "[21]\ttrain-mae:0.01210\teval-mae:0.11627\n",
      "[22]\ttrain-mae:0.01206\teval-mae:0.11631\n",
      "[23]\ttrain-mae:0.01173\teval-mae:0.11621\n",
      "[24]\ttrain-mae:0.01170\teval-mae:0.11617\n",
      "[25]\ttrain-mae:0.01154\teval-mae:0.11623\n",
      "[26]\ttrain-mae:0.01154\teval-mae:0.11620\n",
      "[27]\ttrain-mae:0.01153\teval-mae:0.11621\n",
      "[28]\ttrain-mae:0.01153\teval-mae:0.11621\n",
      "[29]\ttrain-mae:0.01153\teval-mae:0.11622\n",
      "[30]\ttrain-mae:0.01153\teval-mae:0.11622\n",
      "[31]\ttrain-mae:0.01153\teval-mae:0.11622\n",
      "[32]\ttrain-mae:0.01153\teval-mae:0.11622\n",
      "[33]\ttrain-mae:0.01150\teval-mae:0.11623\n",
      "[34]\ttrain-mae:0.01144\teval-mae:0.11616\n",
      "[35]\ttrain-mae:0.01144\teval-mae:0.11616\n",
      "[36]\ttrain-mae:0.01143\teval-mae:0.11618\n",
      "[37]\ttrain-mae:0.01143\teval-mae:0.11618\n",
      "[38]\ttrain-mae:0.01143\teval-mae:0.11618\n",
      "[39]\ttrain-mae:0.01143\teval-mae:0.11618\n",
      "[40]\ttrain-mae:0.01143\teval-mae:0.11618\n",
      "[41]\ttrain-mae:0.01143\teval-mae:0.11618\n",
      "[42]\ttrain-mae:0.01141\teval-mae:0.11618\n",
      "[43]\ttrain-mae:0.01141\teval-mae:0.11618\n",
      "[44]\ttrain-mae:0.01141\teval-mae:0.11618\n",
      "[45]\ttrain-mae:0.01139\teval-mae:0.11612\n",
      "[46]\ttrain-mae:0.01139\teval-mae:0.11612\n",
      "[47]\ttrain-mae:0.01135\teval-mae:0.11612\n",
      "[48]\ttrain-mae:0.01128\teval-mae:0.11615\n",
      "[49]\ttrain-mae:0.01128\teval-mae:0.11616\n",
      "[50]\ttrain-mae:0.01128\teval-mae:0.11616\n",
      "[51]\ttrain-mae:0.01129\teval-mae:0.11625\n",
      "[52]\ttrain-mae:0.01129\teval-mae:0.11625\n",
      "[53]\ttrain-mae:0.01129\teval-mae:0.11625\n",
      "[54]\ttrain-mae:0.01129\teval-mae:0.11625\n",
      "[55]\ttrain-mae:0.01129\teval-mae:0.11625\n",
      "[56]\ttrain-mae:0.01129\teval-mae:0.11625\n",
      "[57]\ttrain-mae:0.01129\teval-mae:0.11625\n",
      "[58]\ttrain-mae:0.01129\teval-mae:0.11625\n",
      "[59]\ttrain-mae:0.01124\teval-mae:0.11614\n",
      "[60]\ttrain-mae:0.01124\teval-mae:0.11614\n",
      "[61]\ttrain-mae:0.01124\teval-mae:0.11614\n",
      "[62]\ttrain-mae:0.01124\teval-mae:0.11614\n",
      "[63]\ttrain-mae:0.01122\teval-mae:0.11619\n",
      "[64]\ttrain-mae:0.01122\teval-mae:0.11619\n",
      "[65]\ttrain-mae:0.01122\teval-mae:0.11620\n",
      "[66]\ttrain-mae:0.01122\teval-mae:0.11620\n",
      "[67]\ttrain-mae:0.01122\teval-mae:0.11620\n",
      "[68]\ttrain-mae:0.01122\teval-mae:0.11620\n",
      "[69]\ttrain-mae:0.01122\teval-mae:0.11620\n",
      "[70]\ttrain-mae:0.01122\teval-mae:0.11620\n",
      "[71]\ttrain-mae:0.01124\teval-mae:0.11622\n",
      "[72]\ttrain-mae:0.01124\teval-mae:0.11622\n",
      "[73]\ttrain-mae:0.01124\teval-mae:0.11622\n",
      "[74]\ttrain-mae:0.01124\teval-mae:0.11622\n",
      "[75]\ttrain-mae:0.01124\teval-mae:0.11622\n",
      "[76]\ttrain-mae:0.01124\teval-mae:0.11622\n",
      "[77]\ttrain-mae:0.01124\teval-mae:0.11622\n",
      "[78]\ttrain-mae:0.01124\teval-mae:0.11622\n",
      "[79]\ttrain-mae:0.01113\teval-mae:0.11622\n",
      "[80]\ttrain-mae:0.01114\teval-mae:0.11615\n",
      "[81]\ttrain-mae:0.01114\teval-mae:0.11615\n",
      "[82]\ttrain-mae:0.01114\teval-mae:0.11615\n",
      "[83]\ttrain-mae:0.01114\teval-mae:0.11615\n",
      "[84]\ttrain-mae:0.01114\teval-mae:0.11626\n",
      "[85]\ttrain-mae:0.01114\teval-mae:0.11626\n",
      "[86]\ttrain-mae:0.01114\teval-mae:0.11626\n",
      "[87]\ttrain-mae:0.01114\teval-mae:0.11626\n",
      "[88]\ttrain-mae:0.01114\teval-mae:0.11626\n",
      "[89]\ttrain-mae:0.01114\teval-mae:0.11626\n",
      "[90]\ttrain-mae:0.01114\teval-mae:0.11626\n",
      "[91]\ttrain-mae:0.01114\teval-mae:0.11626\n",
      "[92]\ttrain-mae:0.01114\teval-mae:0.11621\n",
      "[93]\ttrain-mae:0.01114\teval-mae:0.11621\n",
      "[94]\ttrain-mae:0.01114\teval-mae:0.11621\n",
      "[95]\ttrain-mae:0.01114\teval-mae:0.11621\n",
      "\n",
      "Trial Results:\n",
      "MAE: 0.5065\n",
      "R2 Score: 0.9025\n"
     ]
    },
    {
     "name": "stderr",
     "output_type": "stream",
     "text": [
      "[I 2024-12-19 20:29:56,979] Trial 84 finished with value: 0.5064962911882481 and parameters: {'lambda': 2.082444427792187e-05, 'alpha': 5.745967889776368e-06, 'eta': 0.26987172141344323, 'gamma': 0.0003236724186546382, 'max_depth': 24, 'min_child_weight': 2, 'subsample': 0.8913380102988381, 'colsample_bytree': 0.9021565933570709, 'colsample_bylevel': 0.7941136815562204, 'colsample_bynode': 0.9196565270400485, 'n_estimators': 735}. Best is trial 84 with value: 0.5064962911882481.\n"
     ]
    },
    {
     "name": "stdout",
     "output_type": "stream",
     "text": [
      "[0]\ttrain-mae:0.31922\teval-mae:0.33366\n",
      "[1]\ttrain-mae:0.24025\teval-mae:0.26495\n",
      "[2]\ttrain-mae:0.18616\teval-mae:0.22064\n",
      "[3]\ttrain-mae:0.14157\teval-mae:0.18549\n"
     ]
    },
    {
     "name": "stderr",
     "output_type": "stream",
     "text": [
      "[I 2024-12-19 20:29:57,171] Trial 85 pruned. Trial was pruned at iteration 4.\n"
     ]
    },
    {
     "name": "stdout",
     "output_type": "stream",
     "text": [
      "[0]\ttrain-mae:0.31759\teval-mae:0.33023\n",
      "[1]\ttrain-mae:0.24130\teval-mae:0.26364\n",
      "[2]\ttrain-mae:0.18157\teval-mae:0.21452\n",
      "[3]\ttrain-mae:0.13767\teval-mae:0.17880\n",
      "[4]\ttrain-mae:0.10751\teval-mae:0.15901\n",
      "[5]\ttrain-mae:0.08356\teval-mae:0.14322\n",
      "[6]\ttrain-mae:0.06561\teval-mae:0.13361\n",
      "[7]\ttrain-mae:0.05260\teval-mae:0.12784\n",
      "[8]\ttrain-mae:0.04297\teval-mae:0.12495\n",
      "[9]\ttrain-mae:0.03552\teval-mae:0.12250\n",
      "[10]\ttrain-mae:0.03039\teval-mae:0.12087\n",
      "[11]\ttrain-mae:0.02648\teval-mae:0.11968\n",
      "[12]\ttrain-mae:0.02267\teval-mae:0.11870\n",
      "[13]\ttrain-mae:0.02070\teval-mae:0.11859\n",
      "[14]\ttrain-mae:0.01890\teval-mae:0.11831\n",
      "[15]\ttrain-mae:0.01709\teval-mae:0.11799\n",
      "[16]\ttrain-mae:0.01585\teval-mae:0.11768\n",
      "[17]\ttrain-mae:0.01504\teval-mae:0.11749\n",
      "[18]\ttrain-mae:0.01470\teval-mae:0.11744\n",
      "[19]\ttrain-mae:0.01402\teval-mae:0.11733\n",
      "[20]\ttrain-mae:0.01380\teval-mae:0.11726\n",
      "[21]\ttrain-mae:0.01350\teval-mae:0.11718\n",
      "[22]\ttrain-mae:0.01318\teval-mae:0.11727\n",
      "[23]\ttrain-mae:0.01305\teval-mae:0.11729\n",
      "[24]\ttrain-mae:0.01305\teval-mae:0.11729\n",
      "[25]\ttrain-mae:0.01293\teval-mae:0.11726\n",
      "[26]\ttrain-mae:0.01267\teval-mae:0.11717\n",
      "[27]\ttrain-mae:0.01257\teval-mae:0.11720\n",
      "[28]\ttrain-mae:0.01257\teval-mae:0.11720\n",
      "[29]\ttrain-mae:0.01257\teval-mae:0.11720\n",
      "[30]\ttrain-mae:0.01257\teval-mae:0.11720\n",
      "[31]\ttrain-mae:0.01257\teval-mae:0.11720\n",
      "[32]\ttrain-mae:0.01256\teval-mae:0.11720\n",
      "[33]\ttrain-mae:0.01255\teval-mae:0.11734\n",
      "[34]\ttrain-mae:0.01254\teval-mae:0.11733\n",
      "[35]\ttrain-mae:0.01254\teval-mae:0.11733\n",
      "[36]\ttrain-mae:0.01253\teval-mae:0.11734\n",
      "[37]\ttrain-mae:0.01253\teval-mae:0.11735\n",
      "[38]\ttrain-mae:0.01253\teval-mae:0.11735\n",
      "[39]\ttrain-mae:0.01253\teval-mae:0.11735\n",
      "[40]\ttrain-mae:0.01253\teval-mae:0.11735\n",
      "[41]\ttrain-mae:0.01227\teval-mae:0.11710\n",
      "[42]\ttrain-mae:0.01227\teval-mae:0.11710\n",
      "[43]\ttrain-mae:0.01227\teval-mae:0.11710\n",
      "[44]\ttrain-mae:0.01227\teval-mae:0.11710\n",
      "[45]\ttrain-mae:0.01213\teval-mae:0.11692\n",
      "[46]\ttrain-mae:0.01213\teval-mae:0.11692\n",
      "[47]\ttrain-mae:0.01211\teval-mae:0.11693\n",
      "[48]\ttrain-mae:0.01211\teval-mae:0.11693\n",
      "[49]\ttrain-mae:0.01211\teval-mae:0.11693\n",
      "[50]\ttrain-mae:0.01211\teval-mae:0.11693\n",
      "[51]\ttrain-mae:0.01195\teval-mae:0.11717\n",
      "[52]\ttrain-mae:0.01195\teval-mae:0.11717\n",
      "[53]\ttrain-mae:0.01196\teval-mae:0.11717\n",
      "[54]\ttrain-mae:0.01196\teval-mae:0.11717\n",
      "[55]\ttrain-mae:0.01196\teval-mae:0.11717\n",
      "[56]\ttrain-mae:0.01196\teval-mae:0.11717\n",
      "[57]\ttrain-mae:0.01196\teval-mae:0.11718\n",
      "[58]\ttrain-mae:0.01196\teval-mae:0.11717\n",
      "[59]\ttrain-mae:0.01196\teval-mae:0.11717\n",
      "[60]\ttrain-mae:0.01195\teval-mae:0.11717\n",
      "[61]\ttrain-mae:0.01195\teval-mae:0.11717\n",
      "[62]\ttrain-mae:0.01195\teval-mae:0.11717\n",
      "[63]\ttrain-mae:0.01195\teval-mae:0.11717\n",
      "[64]\ttrain-mae:0.01195\teval-mae:0.11717\n",
      "[65]\ttrain-mae:0.01195\teval-mae:0.11717\n",
      "[66]\ttrain-mae:0.01196\teval-mae:0.11718\n",
      "[67]\ttrain-mae:0.01196\teval-mae:0.11718\n",
      "[68]\ttrain-mae:0.01195\teval-mae:0.11717\n",
      "[69]\ttrain-mae:0.01195\teval-mae:0.11718\n",
      "[70]\ttrain-mae:0.01195\teval-mae:0.11717\n",
      "[71]\ttrain-mae:0.01194\teval-mae:0.11716\n",
      "[72]\ttrain-mae:0.01194\teval-mae:0.11716\n",
      "[73]\ttrain-mae:0.01194\teval-mae:0.11716\n",
      "[74]\ttrain-mae:0.01194\teval-mae:0.11716\n",
      "[75]\ttrain-mae:0.01194\teval-mae:0.11716\n",
      "[76]\ttrain-mae:0.01194\teval-mae:0.11716\n",
      "[77]\ttrain-mae:0.01194\teval-mae:0.11716\n",
      "[78]\ttrain-mae:0.01194\teval-mae:0.11716\n",
      "[79]\ttrain-mae:0.01194\teval-mae:0.11716\n",
      "[80]\ttrain-mae:0.01193\teval-mae:0.11698\n",
      "[81]\ttrain-mae:0.01193\teval-mae:0.11698\n",
      "[82]\ttrain-mae:0.01193\teval-mae:0.11698\n",
      "[83]\ttrain-mae:0.01192\teval-mae:0.11697\n",
      "[84]\ttrain-mae:0.01175\teval-mae:0.11710\n",
      "[85]\ttrain-mae:0.01175\teval-mae:0.11710\n",
      "[86]\ttrain-mae:0.01175\teval-mae:0.11710\n",
      "[87]\ttrain-mae:0.01175\teval-mae:0.11710\n",
      "[88]\ttrain-mae:0.01175\teval-mae:0.11710\n",
      "[89]\ttrain-mae:0.01175\teval-mae:0.11710\n",
      "[90]\ttrain-mae:0.01175\teval-mae:0.11711\n",
      "[91]\ttrain-mae:0.01175\teval-mae:0.11710\n",
      "[92]\ttrain-mae:0.01174\teval-mae:0.11695\n",
      "[93]\ttrain-mae:0.01174\teval-mae:0.11695\n",
      "[94]\ttrain-mae:0.01174\teval-mae:0.11695\n",
      "[95]\ttrain-mae:0.01174\teval-mae:0.11695\n",
      "\n",
      "Trial Results:\n",
      "MAE: 0.4958\n",
      "R2 Score: 0.9015\n"
     ]
    },
    {
     "name": "stderr",
     "output_type": "stream",
     "text": [
      "[I 2024-12-19 20:29:57,774] Trial 86 finished with value: 0.4957817641483245 and parameters: {'lambda': 1.864093533152719e-05, 'alpha': 7.363026320239259e-07, 'eta': 0.27030204644270245, 'gamma': 0.0003421508381159336, 'max_depth': 12, 'min_child_weight': 1, 'subsample': 0.9055019463947818, 'colsample_bytree': 0.928705375727398, 'colsample_bylevel': 0.7738609182641321, 'colsample_bynode': 0.8406472882356667, 'n_estimators': 645}. Best is trial 86 with value: 0.4957817641483245.\n"
     ]
    },
    {
     "name": "stdout",
     "output_type": "stream",
     "text": [
      "[0]\ttrain-mae:0.33468\teval-mae:0.34966\n"
     ]
    },
    {
     "name": "stderr",
     "output_type": "stream",
     "text": [
      "[I 2024-12-19 20:29:57,924] Trial 87 pruned. Trial was pruned at iteration 1.\n"
     ]
    },
    {
     "name": "stdout",
     "output_type": "stream",
     "text": [
      "[0]\ttrain-mae:0.32519\teval-mae:0.34399\n",
      "[1]\ttrain-mae:0.24769\teval-mae:0.27566\n"
     ]
    },
    {
     "name": "stderr",
     "output_type": "stream",
     "text": [
      "[I 2024-12-19 20:29:58,200] Trial 88 pruned. Trial was pruned at iteration 1.\n"
     ]
    },
    {
     "name": "stdout",
     "output_type": "stream",
     "text": [
      "[0]\ttrain-mae:0.31571\teval-mae:0.32935\n",
      "[1]\ttrain-mae:0.23523\teval-mae:0.25658\n",
      "[2]\ttrain-mae:0.17604\teval-mae:0.20825\n",
      "[3]\ttrain-mae:0.13306\teval-mae:0.17681\n",
      "[4]\ttrain-mae:0.10173\teval-mae:0.15461\n",
      "[5]\ttrain-mae:0.07847\teval-mae:0.14160\n",
      "[6]\ttrain-mae:0.06142\teval-mae:0.13443\n",
      "[7]\ttrain-mae:0.04865\teval-mae:0.12974\n",
      "[8]\ttrain-mae:0.03909\teval-mae:0.12630\n",
      "[9]\ttrain-mae:0.03211\teval-mae:0.12487\n",
      "[10]\ttrain-mae:0.02683\teval-mae:0.12437\n",
      "[11]\ttrain-mae:0.02320\teval-mae:0.12325\n",
      "[12]\ttrain-mae:0.02036\teval-mae:0.12298\n",
      "[13]\ttrain-mae:0.01869\teval-mae:0.12293\n",
      "[14]\ttrain-mae:0.01709\teval-mae:0.12253\n",
      "[15]\ttrain-mae:0.01628\teval-mae:0.12255\n"
     ]
    },
    {
     "name": "stderr",
     "output_type": "stream",
     "text": [
      "[I 2024-12-19 20:29:58,597] Trial 89 pruned. Trial was pruned at iteration 16.\n"
     ]
    },
    {
     "name": "stdout",
     "output_type": "stream",
     "text": [
      "[0]\ttrain-mae:0.35763\teval-mae:0.36022\n"
     ]
    },
    {
     "name": "stderr",
     "output_type": "stream",
     "text": [
      "[I 2024-12-19 20:29:58,736] Trial 90 pruned. Trial was pruned at iteration 1.\n"
     ]
    },
    {
     "name": "stdout",
     "output_type": "stream",
     "text": [
      "[0]\ttrain-mae:0.37405\teval-mae:0.38233\n",
      "[1]\ttrain-mae:0.33147\teval-mae:0.34442\n"
     ]
    },
    {
     "name": "stderr",
     "output_type": "stream",
     "text": [
      "[I 2024-12-19 20:29:58,914] Trial 91 pruned. Trial was pruned at iteration 1.\n"
     ]
    },
    {
     "name": "stdout",
     "output_type": "stream",
     "text": [
      "[0]\ttrain-mae:0.38686\teval-mae:0.39532\n",
      "[1]\ttrain-mae:0.35077\teval-mae:0.36278\n"
     ]
    },
    {
     "name": "stderr",
     "output_type": "stream",
     "text": [
      "[I 2024-12-19 20:29:59,126] Trial 92 pruned. Trial was pruned at iteration 1.\n"
     ]
    },
    {
     "name": "stdout",
     "output_type": "stream",
     "text": [
      "[0]\ttrain-mae:0.31891\teval-mae:0.32862\n",
      "[1]\ttrain-mae:0.24548\teval-mae:0.26202\n",
      "[2]\ttrain-mae:0.18953\teval-mae:0.21473\n",
      "[3]\ttrain-mae:0.15005\teval-mae:0.18440\n",
      "[4]\ttrain-mae:0.12562\teval-mae:0.16733\n"
     ]
    },
    {
     "name": "stderr",
     "output_type": "stream",
     "text": [
      "[I 2024-12-19 20:29:59,337] Trial 93 pruned. Trial was pruned at iteration 4.\n"
     ]
    },
    {
     "name": "stdout",
     "output_type": "stream",
     "text": [
      "[0]\ttrain-mae:0.32336\teval-mae:0.33344\n",
      "[1]\ttrain-mae:0.24738\teval-mae:0.26296\n",
      "[2]\ttrain-mae:0.19147\teval-mae:0.21197\n",
      "[3]\ttrain-mae:0.15462\teval-mae:0.18410\n",
      "[4]\ttrain-mae:0.12454\teval-mae:0.16082\n",
      "[5]\ttrain-mae:0.10273\teval-mae:0.14701\n",
      "[6]\ttrain-mae:0.08697\teval-mae:0.13720\n",
      "[7]\ttrain-mae:0.07520\teval-mae:0.13097\n",
      "[8]\ttrain-mae:0.06662\teval-mae:0.12714\n",
      "[9]\ttrain-mae:0.05901\teval-mae:0.12464\n",
      "[10]\ttrain-mae:0.05388\teval-mae:0.12350\n",
      "[11]\ttrain-mae:0.04984\teval-mae:0.12237\n",
      "[12]\ttrain-mae:0.04628\teval-mae:0.12144\n",
      "[13]\ttrain-mae:0.04468\teval-mae:0.12136\n",
      "[14]\ttrain-mae:0.04261\teval-mae:0.12153\n",
      "[15]\ttrain-mae:0.04073\teval-mae:0.12127\n",
      "[16]\ttrain-mae:0.03935\teval-mae:0.12131\n",
      "[17]\ttrain-mae:0.03717\teval-mae:0.12128\n",
      "[18]\ttrain-mae:0.03624\teval-mae:0.12103\n",
      "[19]\ttrain-mae:0.03549\teval-mae:0.12094\n",
      "[20]\ttrain-mae:0.03442\teval-mae:0.12105\n",
      "[21]\ttrain-mae:0.03353\teval-mae:0.12081\n",
      "[22]\ttrain-mae:0.03310\teval-mae:0.12075\n",
      "[23]\ttrain-mae:0.03210\teval-mae:0.12068\n",
      "[24]\ttrain-mae:0.03119\teval-mae:0.12025\n",
      "[25]\ttrain-mae:0.03047\teval-mae:0.12023\n",
      "[26]\ttrain-mae:0.03001\teval-mae:0.12011\n",
      "[27]\ttrain-mae:0.02949\teval-mae:0.12002\n",
      "[28]\ttrain-mae:0.02881\teval-mae:0.11990\n",
      "[29]\ttrain-mae:0.02812\teval-mae:0.11997\n",
      "[30]\ttrain-mae:0.02771\teval-mae:0.11985\n",
      "[31]\ttrain-mae:0.02696\teval-mae:0.11981\n",
      "[32]\ttrain-mae:0.02696\teval-mae:0.11981\n",
      "[33]\ttrain-mae:0.02634\teval-mae:0.11961\n",
      "[34]\ttrain-mae:0.02597\teval-mae:0.11949\n",
      "[35]\ttrain-mae:0.02547\teval-mae:0.11940\n",
      "[36]\ttrain-mae:0.02504\teval-mae:0.11943\n",
      "[37]\ttrain-mae:0.02442\teval-mae:0.11921\n",
      "[38]\ttrain-mae:0.02369\teval-mae:0.11908\n",
      "[39]\ttrain-mae:0.02319\teval-mae:0.11896\n",
      "[40]\ttrain-mae:0.02318\teval-mae:0.11896\n",
      "[41]\ttrain-mae:0.02296\teval-mae:0.11905\n",
      "[42]\ttrain-mae:0.02231\teval-mae:0.11907\n",
      "[43]\ttrain-mae:0.02231\teval-mae:0.11907\n",
      "[44]\ttrain-mae:0.02225\teval-mae:0.11905\n",
      "[45]\ttrain-mae:0.02163\teval-mae:0.11909\n",
      "[46]\ttrain-mae:0.02163\teval-mae:0.11909\n",
      "[47]\ttrain-mae:0.02163\teval-mae:0.11908\n",
      "[48]\ttrain-mae:0.02163\teval-mae:0.11909\n",
      "[49]\ttrain-mae:0.02157\teval-mae:0.11912\n",
      "[50]\ttrain-mae:0.02157\teval-mae:0.11912\n",
      "[51]\ttrain-mae:0.02154\teval-mae:0.11913\n",
      "[52]\ttrain-mae:0.02154\teval-mae:0.11913\n",
      "[53]\ttrain-mae:0.02154\teval-mae:0.11913\n",
      "[54]\ttrain-mae:0.02154\teval-mae:0.11913\n",
      "[55]\ttrain-mae:0.02149\teval-mae:0.11918\n",
      "[56]\ttrain-mae:0.02149\teval-mae:0.11918\n",
      "[57]\ttrain-mae:0.02148\teval-mae:0.11918\n",
      "[58]\ttrain-mae:0.02148\teval-mae:0.11918\n",
      "[59]\ttrain-mae:0.02148\teval-mae:0.11918\n",
      "[60]\ttrain-mae:0.02148\teval-mae:0.11918\n",
      "[61]\ttrain-mae:0.02148\teval-mae:0.11918\n",
      "[62]\ttrain-mae:0.02105\teval-mae:0.11916\n",
      "[63]\ttrain-mae:0.02094\teval-mae:0.11914\n"
     ]
    },
    {
     "name": "stderr",
     "output_type": "stream",
     "text": [
      "[I 2024-12-19 20:29:59,867] Trial 94 pruned. Trial was pruned at iteration 64.\n"
     ]
    },
    {
     "name": "stdout",
     "output_type": "stream",
     "text": [
      "[0]\ttrain-mae:0.32170\teval-mae:0.33276\n",
      "[1]\ttrain-mae:0.24556\teval-mae:0.26270\n",
      "[2]\ttrain-mae:0.19114\teval-mae:0.21239\n",
      "[3]\ttrain-mae:0.15083\teval-mae:0.17909\n",
      "[4]\ttrain-mae:0.12093\teval-mae:0.15644\n",
      "[5]\ttrain-mae:0.09850\teval-mae:0.14081\n",
      "[6]\ttrain-mae:0.08264\teval-mae:0.13097\n",
      "[7]\ttrain-mae:0.07116\teval-mae:0.12453\n",
      "[8]\ttrain-mae:0.06292\teval-mae:0.12148\n",
      "[9]\ttrain-mae:0.05594\teval-mae:0.11900\n",
      "[10]\ttrain-mae:0.05119\teval-mae:0.11767\n",
      "[11]\ttrain-mae:0.04711\teval-mae:0.11717\n",
      "[12]\ttrain-mae:0.04389\teval-mae:0.11650\n",
      "[13]\ttrain-mae:0.04138\teval-mae:0.11674\n",
      "[14]\ttrain-mae:0.03986\teval-mae:0.11669\n",
      "[15]\ttrain-mae:0.03825\teval-mae:0.11665\n",
      "[16]\ttrain-mae:0.03627\teval-mae:0.11627\n",
      "[17]\ttrain-mae:0.03524\teval-mae:0.11582\n",
      "[18]\ttrain-mae:0.03460\teval-mae:0.11557\n",
      "[19]\ttrain-mae:0.03352\teval-mae:0.11514\n",
      "[20]\ttrain-mae:0.03316\teval-mae:0.11537\n",
      "[21]\ttrain-mae:0.03238\teval-mae:0.11531\n",
      "[22]\ttrain-mae:0.03188\teval-mae:0.11546\n",
      "[23]\ttrain-mae:0.03162\teval-mae:0.11545\n",
      "[24]\ttrain-mae:0.03113\teval-mae:0.11530\n",
      "[25]\ttrain-mae:0.02998\teval-mae:0.11532\n",
      "[26]\ttrain-mae:0.02980\teval-mae:0.11527\n",
      "[27]\ttrain-mae:0.02947\teval-mae:0.11522\n",
      "[28]\ttrain-mae:0.02904\teval-mae:0.11512\n",
      "[29]\ttrain-mae:0.02835\teval-mae:0.11507\n",
      "[30]\ttrain-mae:0.02718\teval-mae:0.11508\n",
      "[31]\ttrain-mae:0.02664\teval-mae:0.11519\n",
      "[32]\ttrain-mae:0.02596\teval-mae:0.11515\n",
      "[33]\ttrain-mae:0.02517\teval-mae:0.11519\n",
      "[34]\ttrain-mae:0.02462\teval-mae:0.11506\n",
      "[35]\ttrain-mae:0.02462\teval-mae:0.11506\n",
      "[36]\ttrain-mae:0.02427\teval-mae:0.11516\n",
      "[37]\ttrain-mae:0.02427\teval-mae:0.11515\n",
      "[38]\ttrain-mae:0.02427\teval-mae:0.11515\n",
      "[39]\ttrain-mae:0.02365\teval-mae:0.11503\n",
      "[40]\ttrain-mae:0.02303\teval-mae:0.11485\n",
      "[41]\ttrain-mae:0.02294\teval-mae:0.11478\n",
      "[42]\ttrain-mae:0.02263\teval-mae:0.11476\n",
      "[43]\ttrain-mae:0.02252\teval-mae:0.11479\n",
      "[44]\ttrain-mae:0.02252\teval-mae:0.11479\n",
      "[45]\ttrain-mae:0.02209\teval-mae:0.11483\n",
      "[46]\ttrain-mae:0.02204\teval-mae:0.11478\n",
      "[47]\ttrain-mae:0.02204\teval-mae:0.11478\n",
      "[48]\ttrain-mae:0.02182\teval-mae:0.11490\n",
      "[49]\ttrain-mae:0.02182\teval-mae:0.11490\n",
      "[50]\ttrain-mae:0.02182\teval-mae:0.11490\n",
      "[51]\ttrain-mae:0.02180\teval-mae:0.11492\n",
      "[52]\ttrain-mae:0.02180\teval-mae:0.11492\n",
      "[53]\ttrain-mae:0.02119\teval-mae:0.11507\n",
      "[54]\ttrain-mae:0.02053\teval-mae:0.11521\n",
      "[55]\ttrain-mae:0.02053\teval-mae:0.11521\n",
      "[56]\ttrain-mae:0.02053\teval-mae:0.11521\n",
      "[57]\ttrain-mae:0.02052\teval-mae:0.11524\n",
      "[58]\ttrain-mae:0.02052\teval-mae:0.11524\n",
      "[59]\ttrain-mae:0.02052\teval-mae:0.11524\n",
      "[60]\ttrain-mae:0.02052\teval-mae:0.11524\n",
      "[61]\ttrain-mae:0.02052\teval-mae:0.11524\n",
      "[62]\ttrain-mae:0.02038\teval-mae:0.11524\n",
      "[63]\ttrain-mae:0.02038\teval-mae:0.11524\n",
      "[64]\ttrain-mae:0.02015\teval-mae:0.11527\n",
      "[65]\ttrain-mae:0.02015\teval-mae:0.11527\n",
      "[66]\ttrain-mae:0.01968\teval-mae:0.11536\n",
      "[67]\ttrain-mae:0.01962\teval-mae:0.11538\n",
      "[68]\ttrain-mae:0.01961\teval-mae:0.11538\n",
      "[69]\ttrain-mae:0.01960\teval-mae:0.11538\n",
      "[70]\ttrain-mae:0.01960\teval-mae:0.11538\n",
      "[71]\ttrain-mae:0.01960\teval-mae:0.11538\n",
      "[72]\ttrain-mae:0.01960\teval-mae:0.11538\n",
      "[73]\ttrain-mae:0.01960\teval-mae:0.11538\n",
      "[74]\ttrain-mae:0.01960\teval-mae:0.11538\n",
      "[75]\ttrain-mae:0.01960\teval-mae:0.11538\n",
      "[76]\ttrain-mae:0.01960\teval-mae:0.11538\n",
      "[77]\ttrain-mae:0.01960\teval-mae:0.11538\n",
      "[78]\ttrain-mae:0.01960\teval-mae:0.11538\n",
      "[79]\ttrain-mae:0.01960\teval-mae:0.11538\n",
      "[80]\ttrain-mae:0.01960\teval-mae:0.11538\n",
      "[81]\ttrain-mae:0.01960\teval-mae:0.11538\n",
      "[82]\ttrain-mae:0.01960\teval-mae:0.11538\n",
      "[83]\ttrain-mae:0.01960\teval-mae:0.11538\n",
      "[84]\ttrain-mae:0.01960\teval-mae:0.11538\n",
      "[85]\ttrain-mae:0.01960\teval-mae:0.11538\n",
      "[86]\ttrain-mae:0.01950\teval-mae:0.11536\n",
      "[87]\ttrain-mae:0.01950\teval-mae:0.11536\n",
      "[88]\ttrain-mae:0.01950\teval-mae:0.11536\n",
      "[89]\ttrain-mae:0.01950\teval-mae:0.11536\n",
      "[90]\ttrain-mae:0.01950\teval-mae:0.11536\n",
      "[91]\ttrain-mae:0.01948\teval-mae:0.11539\n",
      "[92]\ttrain-mae:0.01948\teval-mae:0.11541\n",
      "\n",
      "Trial Results:\n",
      "MAE: 0.4971\n",
      "R2 Score: 0.9031\n"
     ]
    },
    {
     "name": "stderr",
     "output_type": "stream",
     "text": [
      "[I 2024-12-19 20:30:00,594] Trial 95 finished with value: 0.4971351785104821 and parameters: {'lambda': 1.5005206537336019e-05, 'alpha': 4.119110117346343e-05, 'eta': 0.2699614076936671, 'gamma': 0.00031758169962938377, 'max_depth': 12, 'min_child_weight': 4, 'subsample': 0.9869480190973344, 'colsample_bytree': 0.9245338110090766, 'colsample_bylevel': 0.8681718149507384, 'colsample_bynode': 0.970585472386204, 'n_estimators': 736}. Best is trial 86 with value: 0.4957817641483245.\n"
     ]
    },
    {
     "name": "stdout",
     "output_type": "stream",
     "text": [
      "[0]\ttrain-mae:0.32199\teval-mae:0.33282\n",
      "[1]\ttrain-mae:0.24754\teval-mae:0.26467\n",
      "[2]\ttrain-mae:0.19192\teval-mae:0.21746\n",
      "[3]\ttrain-mae:0.15215\teval-mae:0.18453\n"
     ]
    },
    {
     "name": "stderr",
     "output_type": "stream",
     "text": [
      "[I 2024-12-19 20:30:00,807] Trial 96 pruned. Trial was pruned at iteration 4.\n"
     ]
    },
    {
     "name": "stdout",
     "output_type": "stream",
     "text": [
      "[0]\ttrain-mae:0.32495\teval-mae:0.33629\n"
     ]
    },
    {
     "name": "stderr",
     "output_type": "stream",
     "text": [
      "[I 2024-12-19 20:30:00,982] Trial 97 pruned. Trial was pruned at iteration 1.\n"
     ]
    },
    {
     "name": "stdout",
     "output_type": "stream",
     "text": [
      "[0]\ttrain-mae:0.32141\teval-mae:0.33347\n",
      "[1]\ttrain-mae:0.25029\teval-mae:0.26584\n",
      "[2]\ttrain-mae:0.19412\teval-mae:0.21397\n",
      "[3]\ttrain-mae:0.15410\teval-mae:0.18127\n",
      "[4]\ttrain-mae:0.12571\teval-mae:0.15701\n",
      "[5]\ttrain-mae:0.10538\teval-mae:0.14299\n",
      "[6]\ttrain-mae:0.09114\teval-mae:0.13465\n",
      "[7]\ttrain-mae:0.08068\teval-mae:0.13019\n",
      "[8]\ttrain-mae:0.07254\teval-mae:0.12719\n",
      "[9]\ttrain-mae:0.06769\teval-mae:0.12596\n",
      "[10]\ttrain-mae:0.06327\teval-mae:0.12491\n",
      "[11]\ttrain-mae:0.05991\teval-mae:0.12386\n",
      "[12]\ttrain-mae:0.05758\teval-mae:0.12373\n",
      "[13]\ttrain-mae:0.05569\teval-mae:0.12332\n",
      "[14]\ttrain-mae:0.05422\teval-mae:0.12329\n",
      "[15]\ttrain-mae:0.05208\teval-mae:0.12328\n"
     ]
    },
    {
     "name": "stderr",
     "output_type": "stream",
     "text": [
      "[I 2024-12-19 20:30:01,266] Trial 98 pruned. Trial was pruned at iteration 16.\n"
     ]
    },
    {
     "name": "stdout",
     "output_type": "stream",
     "text": [
      "[0]\ttrain-mae:0.32254\teval-mae:0.32692\n",
      "[1]\ttrain-mae:0.25683\teval-mae:0.26469\n",
      "[2]\ttrain-mae:0.21088\teval-mae:0.22293\n",
      "[3]\ttrain-mae:0.17460\teval-mae:0.19062\n"
     ]
    },
    {
     "name": "stderr",
     "output_type": "stream",
     "text": [
      "[I 2024-12-19 20:30:01,451] Trial 99 pruned. Trial was pruned at iteration 4.\n"
     ]
    },
    {
     "name": "stdout",
     "output_type": "stream",
     "text": [
      "[0]\ttrain-mae:0.31759\teval-mae:0.33023\n",
      "[1]\ttrain-mae:0.24130\teval-mae:0.26364\n",
      "[2]\ttrain-mae:0.18157\teval-mae:0.21452\n",
      "[3]\ttrain-mae:0.13767\teval-mae:0.17880\n",
      "[4]\ttrain-mae:0.10751\teval-mae:0.15901\n",
      "[5]\ttrain-mae:0.08356\teval-mae:0.14322\n",
      "[6]\ttrain-mae:0.06561\teval-mae:0.13361\n",
      "[7]\ttrain-mae:0.05260\teval-mae:0.12784\n",
      "[8]\ttrain-mae:0.04297\teval-mae:0.12495\n",
      "[9]\ttrain-mae:0.03552\teval-mae:0.12250\n",
      "[10]\ttrain-mae:0.03039\teval-mae:0.12087\n",
      "[11]\ttrain-mae:0.02648\teval-mae:0.11968\n",
      "[12]\ttrain-mae:0.02267\teval-mae:0.11870\n",
      "[13]\ttrain-mae:0.02070\teval-mae:0.11859\n",
      "[14]\ttrain-mae:0.01890\teval-mae:0.11831\n",
      "[15]\ttrain-mae:0.01709\teval-mae:0.11799\n",
      "[16]\ttrain-mae:0.01585\teval-mae:0.11768\n",
      "[17]\ttrain-mae:0.01504\teval-mae:0.11749\n",
      "[18]\ttrain-mae:0.01470\teval-mae:0.11744\n",
      "[19]\ttrain-mae:0.01402\teval-mae:0.11733\n",
      "[20]\ttrain-mae:0.01380\teval-mae:0.11726\n",
      "[21]\ttrain-mae:0.01350\teval-mae:0.11718\n",
      "[22]\ttrain-mae:0.01318\teval-mae:0.11727\n",
      "[23]\ttrain-mae:0.01305\teval-mae:0.11729\n",
      "[24]\ttrain-mae:0.01305\teval-mae:0.11729\n",
      "[25]\ttrain-mae:0.01293\teval-mae:0.11726\n",
      "[26]\ttrain-mae:0.01267\teval-mae:0.11717\n",
      "[27]\ttrain-mae:0.01257\teval-mae:0.11720\n",
      "[28]\ttrain-mae:0.01257\teval-mae:0.11720\n",
      "[29]\ttrain-mae:0.01257\teval-mae:0.11720\n",
      "[30]\ttrain-mae:0.01257\teval-mae:0.11720\n",
      "[31]\ttrain-mae:0.01257\teval-mae:0.11720\n",
      "[32]\ttrain-mae:0.01256\teval-mae:0.11720\n",
      "[33]\ttrain-mae:0.01255\teval-mae:0.11734\n",
      "[34]\ttrain-mae:0.01254\teval-mae:0.11733\n",
      "[35]\ttrain-mae:0.01254\teval-mae:0.11733\n",
      "[36]\ttrain-mae:0.01253\teval-mae:0.11734\n",
      "[37]\ttrain-mae:0.01253\teval-mae:0.11735\n",
      "[38]\ttrain-mae:0.01253\teval-mae:0.11735\n",
      "[39]\ttrain-mae:0.01253\teval-mae:0.11735\n",
      "[40]\ttrain-mae:0.01253\teval-mae:0.11735\n",
      "[41]\ttrain-mae:0.01227\teval-mae:0.11710\n",
      "[42]\ttrain-mae:0.01227\teval-mae:0.11710\n",
      "[43]\ttrain-mae:0.01227\teval-mae:0.11710\n",
      "[44]\ttrain-mae:0.01227\teval-mae:0.11710\n",
      "[45]\ttrain-mae:0.01213\teval-mae:0.11692\n",
      "[46]\ttrain-mae:0.01213\teval-mae:0.11692\n",
      "[47]\ttrain-mae:0.01211\teval-mae:0.11693\n",
      "[48]\ttrain-mae:0.01211\teval-mae:0.11693\n",
      "[49]\ttrain-mae:0.01211\teval-mae:0.11693\n",
      "[50]\ttrain-mae:0.01211\teval-mae:0.11693\n",
      "[51]\ttrain-mae:0.01195\teval-mae:0.11717\n",
      "[52]\ttrain-mae:0.01195\teval-mae:0.11717\n",
      "[53]\ttrain-mae:0.01196\teval-mae:0.11717\n",
      "[54]\ttrain-mae:0.01196\teval-mae:0.11717\n",
      "[55]\ttrain-mae:0.01196\teval-mae:0.11717\n",
      "[56]\ttrain-mae:0.01196\teval-mae:0.11717\n",
      "[57]\ttrain-mae:0.01196\teval-mae:0.11718\n",
      "[58]\ttrain-mae:0.01196\teval-mae:0.11717\n",
      "[59]\ttrain-mae:0.01196\teval-mae:0.11717\n",
      "[60]\ttrain-mae:0.01195\teval-mae:0.11717\n",
      "[61]\ttrain-mae:0.01195\teval-mae:0.11717\n",
      "[62]\ttrain-mae:0.01195\teval-mae:0.11717\n",
      "[63]\ttrain-mae:0.01195\teval-mae:0.11717\n",
      "[64]\ttrain-mae:0.01195\teval-mae:0.11717\n",
      "[65]\ttrain-mae:0.01195\teval-mae:0.11717\n",
      "[66]\ttrain-mae:0.01196\teval-mae:0.11718\n",
      "[67]\ttrain-mae:0.01196\teval-mae:0.11718\n",
      "[68]\ttrain-mae:0.01195\teval-mae:0.11717\n",
      "[69]\ttrain-mae:0.01195\teval-mae:0.11718\n",
      "[70]\ttrain-mae:0.01195\teval-mae:0.11717\n",
      "[71]\ttrain-mae:0.01194\teval-mae:0.11716\n",
      "[72]\ttrain-mae:0.01194\teval-mae:0.11716\n",
      "[73]\ttrain-mae:0.01194\teval-mae:0.11716\n",
      "[74]\ttrain-mae:0.01194\teval-mae:0.11716\n",
      "[75]\ttrain-mae:0.01194\teval-mae:0.11716\n",
      "[76]\ttrain-mae:0.01194\teval-mae:0.11716\n",
      "[77]\ttrain-mae:0.01194\teval-mae:0.11716\n",
      "[78]\ttrain-mae:0.01194\teval-mae:0.11716\n",
      "[79]\ttrain-mae:0.01194\teval-mae:0.11716\n",
      "[80]\ttrain-mae:0.01193\teval-mae:0.11698\n",
      "[81]\ttrain-mae:0.01193\teval-mae:0.11698\n",
      "[82]\ttrain-mae:0.01193\teval-mae:0.11698\n",
      "[83]\ttrain-mae:0.01192\teval-mae:0.11697\n",
      "[84]\ttrain-mae:0.01175\teval-mae:0.11710\n",
      "[85]\ttrain-mae:0.01175\teval-mae:0.11710\n",
      "[86]\ttrain-mae:0.01175\teval-mae:0.11710\n",
      "[87]\ttrain-mae:0.01175\teval-mae:0.11710\n",
      "[88]\ttrain-mae:0.01175\teval-mae:0.11710\n",
      "[89]\ttrain-mae:0.01175\teval-mae:0.11710\n",
      "[90]\ttrain-mae:0.01175\teval-mae:0.11711\n",
      "[91]\ttrain-mae:0.01175\teval-mae:0.11710\n",
      "[92]\ttrain-mae:0.01174\teval-mae:0.11695\n",
      "[93]\ttrain-mae:0.01174\teval-mae:0.11695\n",
      "[94]\ttrain-mae:0.01174\teval-mae:0.11695\n",
      "[95]\ttrain-mae:0.01174\teval-mae:0.11695\n",
      "[96]\ttrain-mae:0.01174\teval-mae:0.11695\n",
      "\n",
      "Best trial:\n",
      "  MAE:  0.4957817641483245\n",
      "\n",
      "Best hyperparameters:\n",
      "    lambda: 1.864093533152719e-05\n",
      "    alpha: 7.363026320239259e-07\n",
      "    eta: 0.27030204644270245\n",
      "    gamma: 0.0003421508381159336\n",
      "    max_depth: 12\n",
      "    min_child_weight: 1\n",
      "    subsample: 0.9055019463947818\n",
      "    colsample_bytree: 0.928705375727398\n",
      "    colsample_bylevel: 0.7738609182641321\n",
      "    colsample_bynode: 0.8406472882356667\n",
      "    n_estimators: 645\n",
      "\n",
      "Final Model Performance:\n",
      "MAE: 0.4958\n",
      "R2 Score: 0.9015\n"
     ]
    },
    {
     "data": {
      "application/vnd.plotly.v1+json": {
       "config": {
        "plotlyServerURL": "https://plot.ly"
       },
       "data": [
        {
         "mode": "markers",
         "name": "Objective Value",
         "type": "scatter",
         "x": [
          0,
          1,
          61,
          84,
          86,
          95
         ],
         "y": [
          0.5365749346991966,
          0.5278477369280304,
          0.5452610507184108,
          0.5064962911882481,
          0.4957817641483245,
          0.4971351785104821
         ]
        },
        {
         "mode": "lines",
         "name": "Best Value",
         "type": "scatter",
         "x": [
          0,
          1,
          2,
          3,
          4,
          5,
          6,
          7,
          8,
          9,
          10,
          11,
          12,
          13,
          14,
          15,
          16,
          17,
          18,
          19,
          20,
          21,
          22,
          23,
          24,
          25,
          26,
          27,
          28,
          29,
          30,
          31,
          32,
          33,
          34,
          35,
          36,
          37,
          38,
          39,
          40,
          41,
          42,
          43,
          44,
          45,
          46,
          47,
          48,
          49,
          50,
          51,
          52,
          53,
          54,
          55,
          56,
          57,
          58,
          59,
          60,
          61,
          62,
          63,
          64,
          65,
          66,
          67,
          68,
          69,
          70,
          71,
          72,
          73,
          74,
          75,
          76,
          77,
          78,
          79,
          80,
          81,
          82,
          83,
          84,
          85,
          86,
          87,
          88,
          89,
          90,
          91,
          92,
          93,
          94,
          95,
          96,
          97,
          98,
          99
         ],
         "y": [
          0.5365749346991966,
          0.5278477369280304,
          0.5278477369280304,
          0.5278477369280304,
          0.5278477369280304,
          0.5278477369280304,
          0.5278477369280304,
          0.5278477369280304,
          0.5278477369280304,
          0.5278477369280304,
          0.5278477369280304,
          0.5278477369280304,
          0.5278477369280304,
          0.5278477369280304,
          0.5278477369280304,
          0.5278477369280304,
          0.5278477369280304,
          0.5278477369280304,
          0.5278477369280304,
          0.5278477369280304,
          0.5278477369280304,
          0.5278477369280304,
          0.5278477369280304,
          0.5278477369280304,
          0.5278477369280304,
          0.5278477369280304,
          0.5278477369280304,
          0.5278477369280304,
          0.5278477369280304,
          0.5278477369280304,
          0.5278477369280304,
          0.5278477369280304,
          0.5278477369280304,
          0.5278477369280304,
          0.5278477369280304,
          0.5278477369280304,
          0.5278477369280304,
          0.5278477369280304,
          0.5278477369280304,
          0.5278477369280304,
          0.5278477369280304,
          0.5278477369280304,
          0.5278477369280304,
          0.5278477369280304,
          0.5278477369280304,
          0.5278477369280304,
          0.5278477369280304,
          0.5278477369280304,
          0.5278477369280304,
          0.5278477369280304,
          0.5278477369280304,
          0.5278477369280304,
          0.5278477369280304,
          0.5278477369280304,
          0.5278477369280304,
          0.5278477369280304,
          0.5278477369280304,
          0.5278477369280304,
          0.5278477369280304,
          0.5278477369280304,
          0.5278477369280304,
          0.5278477369280304,
          0.5278477369280304,
          0.5278477369280304,
          0.5278477369280304,
          0.5278477369280304,
          0.5278477369280304,
          0.5278477369280304,
          0.5278477369280304,
          0.5278477369280304,
          0.5278477369280304,
          0.5278477369280304,
          0.5278477369280304,
          0.5278477369280304,
          0.5278477369280304,
          0.5278477369280304,
          0.5278477369280304,
          0.5278477369280304,
          0.5278477369280304,
          0.5278477369280304,
          0.5278477369280304,
          0.5278477369280304,
          0.5278477369280304,
          0.5278477369280304,
          0.5064962911882481,
          0.5064962911882481,
          0.4957817641483245,
          0.4957817641483245,
          0.4957817641483245,
          0.4957817641483245,
          0.4957817641483245,
          0.4957817641483245,
          0.4957817641483245,
          0.4957817641483245,
          0.4957817641483245,
          0.4957817641483245,
          0.4957817641483245,
          0.4957817641483245,
          0.4957817641483245,
          0.4957817641483245
         ]
        },
        {
         "marker": {
          "color": "#cccccc"
         },
         "mode": "markers",
         "name": "Infeasible Trial",
         "showlegend": false,
         "type": "scatter",
         "x": [],
         "y": []
        }
       ],
       "layout": {
        "template": {
         "data": {
          "bar": [
           {
            "error_x": {
             "color": "#2a3f5f"
            },
            "error_y": {
             "color": "#2a3f5f"
            },
            "marker": {
             "line": {
              "color": "#E5ECF6",
              "width": 0.5
             },
             "pattern": {
              "fillmode": "overlay",
              "size": 10,
              "solidity": 0.2
             }
            },
            "type": "bar"
           }
          ],
          "barpolar": [
           {
            "marker": {
             "line": {
              "color": "#E5ECF6",
              "width": 0.5
             },
             "pattern": {
              "fillmode": "overlay",
              "size": 10,
              "solidity": 0.2
             }
            },
            "type": "barpolar"
           }
          ],
          "carpet": [
           {
            "aaxis": {
             "endlinecolor": "#2a3f5f",
             "gridcolor": "white",
             "linecolor": "white",
             "minorgridcolor": "white",
             "startlinecolor": "#2a3f5f"
            },
            "baxis": {
             "endlinecolor": "#2a3f5f",
             "gridcolor": "white",
             "linecolor": "white",
             "minorgridcolor": "white",
             "startlinecolor": "#2a3f5f"
            },
            "type": "carpet"
           }
          ],
          "choropleth": [
           {
            "colorbar": {
             "outlinewidth": 0,
             "ticks": ""
            },
            "type": "choropleth"
           }
          ],
          "contour": [
           {
            "colorbar": {
             "outlinewidth": 0,
             "ticks": ""
            },
            "colorscale": [
             [
              0,
              "#0d0887"
             ],
             [
              0.1111111111111111,
              "#46039f"
             ],
             [
              0.2222222222222222,
              "#7201a8"
             ],
             [
              0.3333333333333333,
              "#9c179e"
             ],
             [
              0.4444444444444444,
              "#bd3786"
             ],
             [
              0.5555555555555556,
              "#d8576b"
             ],
             [
              0.6666666666666666,
              "#ed7953"
             ],
             [
              0.7777777777777778,
              "#fb9f3a"
             ],
             [
              0.8888888888888888,
              "#fdca26"
             ],
             [
              1,
              "#f0f921"
             ]
            ],
            "type": "contour"
           }
          ],
          "contourcarpet": [
           {
            "colorbar": {
             "outlinewidth": 0,
             "ticks": ""
            },
            "type": "contourcarpet"
           }
          ],
          "heatmap": [
           {
            "colorbar": {
             "outlinewidth": 0,
             "ticks": ""
            },
            "colorscale": [
             [
              0,
              "#0d0887"
             ],
             [
              0.1111111111111111,
              "#46039f"
             ],
             [
              0.2222222222222222,
              "#7201a8"
             ],
             [
              0.3333333333333333,
              "#9c179e"
             ],
             [
              0.4444444444444444,
              "#bd3786"
             ],
             [
              0.5555555555555556,
              "#d8576b"
             ],
             [
              0.6666666666666666,
              "#ed7953"
             ],
             [
              0.7777777777777778,
              "#fb9f3a"
             ],
             [
              0.8888888888888888,
              "#fdca26"
             ],
             [
              1,
              "#f0f921"
             ]
            ],
            "type": "heatmap"
           }
          ],
          "heatmapgl": [
           {
            "colorbar": {
             "outlinewidth": 0,
             "ticks": ""
            },
            "colorscale": [
             [
              0,
              "#0d0887"
             ],
             [
              0.1111111111111111,
              "#46039f"
             ],
             [
              0.2222222222222222,
              "#7201a8"
             ],
             [
              0.3333333333333333,
              "#9c179e"
             ],
             [
              0.4444444444444444,
              "#bd3786"
             ],
             [
              0.5555555555555556,
              "#d8576b"
             ],
             [
              0.6666666666666666,
              "#ed7953"
             ],
             [
              0.7777777777777778,
              "#fb9f3a"
             ],
             [
              0.8888888888888888,
              "#fdca26"
             ],
             [
              1,
              "#f0f921"
             ]
            ],
            "type": "heatmapgl"
           }
          ],
          "histogram": [
           {
            "marker": {
             "pattern": {
              "fillmode": "overlay",
              "size": 10,
              "solidity": 0.2
             }
            },
            "type": "histogram"
           }
          ],
          "histogram2d": [
           {
            "colorbar": {
             "outlinewidth": 0,
             "ticks": ""
            },
            "colorscale": [
             [
              0,
              "#0d0887"
             ],
             [
              0.1111111111111111,
              "#46039f"
             ],
             [
              0.2222222222222222,
              "#7201a8"
             ],
             [
              0.3333333333333333,
              "#9c179e"
             ],
             [
              0.4444444444444444,
              "#bd3786"
             ],
             [
              0.5555555555555556,
              "#d8576b"
             ],
             [
              0.6666666666666666,
              "#ed7953"
             ],
             [
              0.7777777777777778,
              "#fb9f3a"
             ],
             [
              0.8888888888888888,
              "#fdca26"
             ],
             [
              1,
              "#f0f921"
             ]
            ],
            "type": "histogram2d"
           }
          ],
          "histogram2dcontour": [
           {
            "colorbar": {
             "outlinewidth": 0,
             "ticks": ""
            },
            "colorscale": [
             [
              0,
              "#0d0887"
             ],
             [
              0.1111111111111111,
              "#46039f"
             ],
             [
              0.2222222222222222,
              "#7201a8"
             ],
             [
              0.3333333333333333,
              "#9c179e"
             ],
             [
              0.4444444444444444,
              "#bd3786"
             ],
             [
              0.5555555555555556,
              "#d8576b"
             ],
             [
              0.6666666666666666,
              "#ed7953"
             ],
             [
              0.7777777777777778,
              "#fb9f3a"
             ],
             [
              0.8888888888888888,
              "#fdca26"
             ],
             [
              1,
              "#f0f921"
             ]
            ],
            "type": "histogram2dcontour"
           }
          ],
          "mesh3d": [
           {
            "colorbar": {
             "outlinewidth": 0,
             "ticks": ""
            },
            "type": "mesh3d"
           }
          ],
          "parcoords": [
           {
            "line": {
             "colorbar": {
              "outlinewidth": 0,
              "ticks": ""
             }
            },
            "type": "parcoords"
           }
          ],
          "pie": [
           {
            "automargin": true,
            "type": "pie"
           }
          ],
          "scatter": [
           {
            "fillpattern": {
             "fillmode": "overlay",
             "size": 10,
             "solidity": 0.2
            },
            "type": "scatter"
           }
          ],
          "scatter3d": [
           {
            "line": {
             "colorbar": {
              "outlinewidth": 0,
              "ticks": ""
             }
            },
            "marker": {
             "colorbar": {
              "outlinewidth": 0,
              "ticks": ""
             }
            },
            "type": "scatter3d"
           }
          ],
          "scattercarpet": [
           {
            "marker": {
             "colorbar": {
              "outlinewidth": 0,
              "ticks": ""
             }
            },
            "type": "scattercarpet"
           }
          ],
          "scattergeo": [
           {
            "marker": {
             "colorbar": {
              "outlinewidth": 0,
              "ticks": ""
             }
            },
            "type": "scattergeo"
           }
          ],
          "scattergl": [
           {
            "marker": {
             "colorbar": {
              "outlinewidth": 0,
              "ticks": ""
             }
            },
            "type": "scattergl"
           }
          ],
          "scattermapbox": [
           {
            "marker": {
             "colorbar": {
              "outlinewidth": 0,
              "ticks": ""
             }
            },
            "type": "scattermapbox"
           }
          ],
          "scatterpolar": [
           {
            "marker": {
             "colorbar": {
              "outlinewidth": 0,
              "ticks": ""
             }
            },
            "type": "scatterpolar"
           }
          ],
          "scatterpolargl": [
           {
            "marker": {
             "colorbar": {
              "outlinewidth": 0,
              "ticks": ""
             }
            },
            "type": "scatterpolargl"
           }
          ],
          "scatterternary": [
           {
            "marker": {
             "colorbar": {
              "outlinewidth": 0,
              "ticks": ""
             }
            },
            "type": "scatterternary"
           }
          ],
          "surface": [
           {
            "colorbar": {
             "outlinewidth": 0,
             "ticks": ""
            },
            "colorscale": [
             [
              0,
              "#0d0887"
             ],
             [
              0.1111111111111111,
              "#46039f"
             ],
             [
              0.2222222222222222,
              "#7201a8"
             ],
             [
              0.3333333333333333,
              "#9c179e"
             ],
             [
              0.4444444444444444,
              "#bd3786"
             ],
             [
              0.5555555555555556,
              "#d8576b"
             ],
             [
              0.6666666666666666,
              "#ed7953"
             ],
             [
              0.7777777777777778,
              "#fb9f3a"
             ],
             [
              0.8888888888888888,
              "#fdca26"
             ],
             [
              1,
              "#f0f921"
             ]
            ],
            "type": "surface"
           }
          ],
          "table": [
           {
            "cells": {
             "fill": {
              "color": "#EBF0F8"
             },
             "line": {
              "color": "white"
             }
            },
            "header": {
             "fill": {
              "color": "#C8D4E3"
             },
             "line": {
              "color": "white"
             }
            },
            "type": "table"
           }
          ]
         },
         "layout": {
          "annotationdefaults": {
           "arrowcolor": "#2a3f5f",
           "arrowhead": 0,
           "arrowwidth": 1
          },
          "autotypenumbers": "strict",
          "coloraxis": {
           "colorbar": {
            "outlinewidth": 0,
            "ticks": ""
           }
          },
          "colorscale": {
           "diverging": [
            [
             0,
             "#8e0152"
            ],
            [
             0.1,
             "#c51b7d"
            ],
            [
             0.2,
             "#de77ae"
            ],
            [
             0.3,
             "#f1b6da"
            ],
            [
             0.4,
             "#fde0ef"
            ],
            [
             0.5,
             "#f7f7f7"
            ],
            [
             0.6,
             "#e6f5d0"
            ],
            [
             0.7,
             "#b8e186"
            ],
            [
             0.8,
             "#7fbc41"
            ],
            [
             0.9,
             "#4d9221"
            ],
            [
             1,
             "#276419"
            ]
           ],
           "sequential": [
            [
             0,
             "#0d0887"
            ],
            [
             0.1111111111111111,
             "#46039f"
            ],
            [
             0.2222222222222222,
             "#7201a8"
            ],
            [
             0.3333333333333333,
             "#9c179e"
            ],
            [
             0.4444444444444444,
             "#bd3786"
            ],
            [
             0.5555555555555556,
             "#d8576b"
            ],
            [
             0.6666666666666666,
             "#ed7953"
            ],
            [
             0.7777777777777778,
             "#fb9f3a"
            ],
            [
             0.8888888888888888,
             "#fdca26"
            ],
            [
             1,
             "#f0f921"
            ]
           ],
           "sequentialminus": [
            [
             0,
             "#0d0887"
            ],
            [
             0.1111111111111111,
             "#46039f"
            ],
            [
             0.2222222222222222,
             "#7201a8"
            ],
            [
             0.3333333333333333,
             "#9c179e"
            ],
            [
             0.4444444444444444,
             "#bd3786"
            ],
            [
             0.5555555555555556,
             "#d8576b"
            ],
            [
             0.6666666666666666,
             "#ed7953"
            ],
            [
             0.7777777777777778,
             "#fb9f3a"
            ],
            [
             0.8888888888888888,
             "#fdca26"
            ],
            [
             1,
             "#f0f921"
            ]
           ]
          },
          "colorway": [
           "#636efa",
           "#EF553B",
           "#00cc96",
           "#ab63fa",
           "#FFA15A",
           "#19d3f3",
           "#FF6692",
           "#B6E880",
           "#FF97FF",
           "#FECB52"
          ],
          "font": {
           "color": "#2a3f5f"
          },
          "geo": {
           "bgcolor": "white",
           "lakecolor": "white",
           "landcolor": "#E5ECF6",
           "showlakes": true,
           "showland": true,
           "subunitcolor": "white"
          },
          "hoverlabel": {
           "align": "left"
          },
          "hovermode": "closest",
          "mapbox": {
           "style": "light"
          },
          "paper_bgcolor": "white",
          "plot_bgcolor": "#E5ECF6",
          "polar": {
           "angularaxis": {
            "gridcolor": "white",
            "linecolor": "white",
            "ticks": ""
           },
           "bgcolor": "#E5ECF6",
           "radialaxis": {
            "gridcolor": "white",
            "linecolor": "white",
            "ticks": ""
           }
          },
          "scene": {
           "xaxis": {
            "backgroundcolor": "#E5ECF6",
            "gridcolor": "white",
            "gridwidth": 2,
            "linecolor": "white",
            "showbackground": true,
            "ticks": "",
            "zerolinecolor": "white"
           },
           "yaxis": {
            "backgroundcolor": "#E5ECF6",
            "gridcolor": "white",
            "gridwidth": 2,
            "linecolor": "white",
            "showbackground": true,
            "ticks": "",
            "zerolinecolor": "white"
           },
           "zaxis": {
            "backgroundcolor": "#E5ECF6",
            "gridcolor": "white",
            "gridwidth": 2,
            "linecolor": "white",
            "showbackground": true,
            "ticks": "",
            "zerolinecolor": "white"
           }
          },
          "shapedefaults": {
           "line": {
            "color": "#2a3f5f"
           }
          },
          "ternary": {
           "aaxis": {
            "gridcolor": "white",
            "linecolor": "white",
            "ticks": ""
           },
           "baxis": {
            "gridcolor": "white",
            "linecolor": "white",
            "ticks": ""
           },
           "bgcolor": "#E5ECF6",
           "caxis": {
            "gridcolor": "white",
            "linecolor": "white",
            "ticks": ""
           }
          },
          "title": {
           "x": 0.05
          },
          "xaxis": {
           "automargin": true,
           "gridcolor": "white",
           "linecolor": "white",
           "ticks": "",
           "title": {
            "standoff": 15
           },
           "zerolinecolor": "white",
           "zerolinewidth": 2
          },
          "yaxis": {
           "automargin": true,
           "gridcolor": "white",
           "linecolor": "white",
           "ticks": "",
           "title": {
            "standoff": 15
           },
           "zerolinecolor": "white",
           "zerolinewidth": 2
          }
         }
        },
        "title": {
         "text": "Optimization History Plot"
        },
        "xaxis": {
         "title": {
          "text": "Trial"
         }
        },
        "yaxis": {
         "title": {
          "text": "Objective Value"
         }
        }
       }
      }
     },
     "metadata": {},
     "output_type": "display_data"
    },
    {
     "data": {
      "application/vnd.plotly.v1+json": {
       "config": {
        "plotlyServerURL": "https://plot.ly"
       },
       "data": [
        {
         "cliponaxis": false,
         "hovertemplate": [
          "alpha (FloatDistribution): 0.014743088735235055<extra></extra>",
          "lambda (FloatDistribution): 0.019844322613632247<extra></extra>",
          "colsample_bytree (FloatDistribution): 0.04264161304977745<extra></extra>",
          "n_estimators (IntDistribution): 0.05208029910583398<extra></extra>",
          "colsample_bynode (FloatDistribution): 0.053036163622810426<extra></extra>",
          "subsample (FloatDistribution): 0.07427796741265834<extra></extra>",
          "colsample_bylevel (FloatDistribution): 0.10866595907397605<extra></extra>",
          "eta (FloatDistribution): 0.10937176617804834<extra></extra>",
          "max_depth (IntDistribution): 0.1242002970572012<extra></extra>",
          "gamma (FloatDistribution): 0.1814604265328929<extra></extra>",
          "min_child_weight (IntDistribution): 0.21967809661793428<extra></extra>"
         ],
         "name": "Objective Value",
         "orientation": "h",
         "text": [
          "0.01",
          "0.02",
          "0.04",
          "0.05",
          "0.05",
          "0.07",
          "0.11",
          "0.11",
          "0.12",
          "0.18",
          "0.22"
         ],
         "textposition": "outside",
         "type": "bar",
         "x": [
          0.014743088735235055,
          0.019844322613632247,
          0.04264161304977745,
          0.05208029910583398,
          0.053036163622810426,
          0.07427796741265834,
          0.10866595907397605,
          0.10937176617804834,
          0.1242002970572012,
          0.1814604265328929,
          0.21967809661793428
         ],
         "y": [
          "alpha",
          "lambda",
          "colsample_bytree",
          "n_estimators",
          "colsample_bynode",
          "subsample",
          "colsample_bylevel",
          "eta",
          "max_depth",
          "gamma",
          "min_child_weight"
         ]
        }
       ],
       "layout": {
        "template": {
         "data": {
          "bar": [
           {
            "error_x": {
             "color": "#2a3f5f"
            },
            "error_y": {
             "color": "#2a3f5f"
            },
            "marker": {
             "line": {
              "color": "#E5ECF6",
              "width": 0.5
             },
             "pattern": {
              "fillmode": "overlay",
              "size": 10,
              "solidity": 0.2
             }
            },
            "type": "bar"
           }
          ],
          "barpolar": [
           {
            "marker": {
             "line": {
              "color": "#E5ECF6",
              "width": 0.5
             },
             "pattern": {
              "fillmode": "overlay",
              "size": 10,
              "solidity": 0.2
             }
            },
            "type": "barpolar"
           }
          ],
          "carpet": [
           {
            "aaxis": {
             "endlinecolor": "#2a3f5f",
             "gridcolor": "white",
             "linecolor": "white",
             "minorgridcolor": "white",
             "startlinecolor": "#2a3f5f"
            },
            "baxis": {
             "endlinecolor": "#2a3f5f",
             "gridcolor": "white",
             "linecolor": "white",
             "minorgridcolor": "white",
             "startlinecolor": "#2a3f5f"
            },
            "type": "carpet"
           }
          ],
          "choropleth": [
           {
            "colorbar": {
             "outlinewidth": 0,
             "ticks": ""
            },
            "type": "choropleth"
           }
          ],
          "contour": [
           {
            "colorbar": {
             "outlinewidth": 0,
             "ticks": ""
            },
            "colorscale": [
             [
              0,
              "#0d0887"
             ],
             [
              0.1111111111111111,
              "#46039f"
             ],
             [
              0.2222222222222222,
              "#7201a8"
             ],
             [
              0.3333333333333333,
              "#9c179e"
             ],
             [
              0.4444444444444444,
              "#bd3786"
             ],
             [
              0.5555555555555556,
              "#d8576b"
             ],
             [
              0.6666666666666666,
              "#ed7953"
             ],
             [
              0.7777777777777778,
              "#fb9f3a"
             ],
             [
              0.8888888888888888,
              "#fdca26"
             ],
             [
              1,
              "#f0f921"
             ]
            ],
            "type": "contour"
           }
          ],
          "contourcarpet": [
           {
            "colorbar": {
             "outlinewidth": 0,
             "ticks": ""
            },
            "type": "contourcarpet"
           }
          ],
          "heatmap": [
           {
            "colorbar": {
             "outlinewidth": 0,
             "ticks": ""
            },
            "colorscale": [
             [
              0,
              "#0d0887"
             ],
             [
              0.1111111111111111,
              "#46039f"
             ],
             [
              0.2222222222222222,
              "#7201a8"
             ],
             [
              0.3333333333333333,
              "#9c179e"
             ],
             [
              0.4444444444444444,
              "#bd3786"
             ],
             [
              0.5555555555555556,
              "#d8576b"
             ],
             [
              0.6666666666666666,
              "#ed7953"
             ],
             [
              0.7777777777777778,
              "#fb9f3a"
             ],
             [
              0.8888888888888888,
              "#fdca26"
             ],
             [
              1,
              "#f0f921"
             ]
            ],
            "type": "heatmap"
           }
          ],
          "heatmapgl": [
           {
            "colorbar": {
             "outlinewidth": 0,
             "ticks": ""
            },
            "colorscale": [
             [
              0,
              "#0d0887"
             ],
             [
              0.1111111111111111,
              "#46039f"
             ],
             [
              0.2222222222222222,
              "#7201a8"
             ],
             [
              0.3333333333333333,
              "#9c179e"
             ],
             [
              0.4444444444444444,
              "#bd3786"
             ],
             [
              0.5555555555555556,
              "#d8576b"
             ],
             [
              0.6666666666666666,
              "#ed7953"
             ],
             [
              0.7777777777777778,
              "#fb9f3a"
             ],
             [
              0.8888888888888888,
              "#fdca26"
             ],
             [
              1,
              "#f0f921"
             ]
            ],
            "type": "heatmapgl"
           }
          ],
          "histogram": [
           {
            "marker": {
             "pattern": {
              "fillmode": "overlay",
              "size": 10,
              "solidity": 0.2
             }
            },
            "type": "histogram"
           }
          ],
          "histogram2d": [
           {
            "colorbar": {
             "outlinewidth": 0,
             "ticks": ""
            },
            "colorscale": [
             [
              0,
              "#0d0887"
             ],
             [
              0.1111111111111111,
              "#46039f"
             ],
             [
              0.2222222222222222,
              "#7201a8"
             ],
             [
              0.3333333333333333,
              "#9c179e"
             ],
             [
              0.4444444444444444,
              "#bd3786"
             ],
             [
              0.5555555555555556,
              "#d8576b"
             ],
             [
              0.6666666666666666,
              "#ed7953"
             ],
             [
              0.7777777777777778,
              "#fb9f3a"
             ],
             [
              0.8888888888888888,
              "#fdca26"
             ],
             [
              1,
              "#f0f921"
             ]
            ],
            "type": "histogram2d"
           }
          ],
          "histogram2dcontour": [
           {
            "colorbar": {
             "outlinewidth": 0,
             "ticks": ""
            },
            "colorscale": [
             [
              0,
              "#0d0887"
             ],
             [
              0.1111111111111111,
              "#46039f"
             ],
             [
              0.2222222222222222,
              "#7201a8"
             ],
             [
              0.3333333333333333,
              "#9c179e"
             ],
             [
              0.4444444444444444,
              "#bd3786"
             ],
             [
              0.5555555555555556,
              "#d8576b"
             ],
             [
              0.6666666666666666,
              "#ed7953"
             ],
             [
              0.7777777777777778,
              "#fb9f3a"
             ],
             [
              0.8888888888888888,
              "#fdca26"
             ],
             [
              1,
              "#f0f921"
             ]
            ],
            "type": "histogram2dcontour"
           }
          ],
          "mesh3d": [
           {
            "colorbar": {
             "outlinewidth": 0,
             "ticks": ""
            },
            "type": "mesh3d"
           }
          ],
          "parcoords": [
           {
            "line": {
             "colorbar": {
              "outlinewidth": 0,
              "ticks": ""
             }
            },
            "type": "parcoords"
           }
          ],
          "pie": [
           {
            "automargin": true,
            "type": "pie"
           }
          ],
          "scatter": [
           {
            "fillpattern": {
             "fillmode": "overlay",
             "size": 10,
             "solidity": 0.2
            },
            "type": "scatter"
           }
          ],
          "scatter3d": [
           {
            "line": {
             "colorbar": {
              "outlinewidth": 0,
              "ticks": ""
             }
            },
            "marker": {
             "colorbar": {
              "outlinewidth": 0,
              "ticks": ""
             }
            },
            "type": "scatter3d"
           }
          ],
          "scattercarpet": [
           {
            "marker": {
             "colorbar": {
              "outlinewidth": 0,
              "ticks": ""
             }
            },
            "type": "scattercarpet"
           }
          ],
          "scattergeo": [
           {
            "marker": {
             "colorbar": {
              "outlinewidth": 0,
              "ticks": ""
             }
            },
            "type": "scattergeo"
           }
          ],
          "scattergl": [
           {
            "marker": {
             "colorbar": {
              "outlinewidth": 0,
              "ticks": ""
             }
            },
            "type": "scattergl"
           }
          ],
          "scattermapbox": [
           {
            "marker": {
             "colorbar": {
              "outlinewidth": 0,
              "ticks": ""
             }
            },
            "type": "scattermapbox"
           }
          ],
          "scatterpolar": [
           {
            "marker": {
             "colorbar": {
              "outlinewidth": 0,
              "ticks": ""
             }
            },
            "type": "scatterpolar"
           }
          ],
          "scatterpolargl": [
           {
            "marker": {
             "colorbar": {
              "outlinewidth": 0,
              "ticks": ""
             }
            },
            "type": "scatterpolargl"
           }
          ],
          "scatterternary": [
           {
            "marker": {
             "colorbar": {
              "outlinewidth": 0,
              "ticks": ""
             }
            },
            "type": "scatterternary"
           }
          ],
          "surface": [
           {
            "colorbar": {
             "outlinewidth": 0,
             "ticks": ""
            },
            "colorscale": [
             [
              0,
              "#0d0887"
             ],
             [
              0.1111111111111111,
              "#46039f"
             ],
             [
              0.2222222222222222,
              "#7201a8"
             ],
             [
              0.3333333333333333,
              "#9c179e"
             ],
             [
              0.4444444444444444,
              "#bd3786"
             ],
             [
              0.5555555555555556,
              "#d8576b"
             ],
             [
              0.6666666666666666,
              "#ed7953"
             ],
             [
              0.7777777777777778,
              "#fb9f3a"
             ],
             [
              0.8888888888888888,
              "#fdca26"
             ],
             [
              1,
              "#f0f921"
             ]
            ],
            "type": "surface"
           }
          ],
          "table": [
           {
            "cells": {
             "fill": {
              "color": "#EBF0F8"
             },
             "line": {
              "color": "white"
             }
            },
            "header": {
             "fill": {
              "color": "#C8D4E3"
             },
             "line": {
              "color": "white"
             }
            },
            "type": "table"
           }
          ]
         },
         "layout": {
          "annotationdefaults": {
           "arrowcolor": "#2a3f5f",
           "arrowhead": 0,
           "arrowwidth": 1
          },
          "autotypenumbers": "strict",
          "coloraxis": {
           "colorbar": {
            "outlinewidth": 0,
            "ticks": ""
           }
          },
          "colorscale": {
           "diverging": [
            [
             0,
             "#8e0152"
            ],
            [
             0.1,
             "#c51b7d"
            ],
            [
             0.2,
             "#de77ae"
            ],
            [
             0.3,
             "#f1b6da"
            ],
            [
             0.4,
             "#fde0ef"
            ],
            [
             0.5,
             "#f7f7f7"
            ],
            [
             0.6,
             "#e6f5d0"
            ],
            [
             0.7,
             "#b8e186"
            ],
            [
             0.8,
             "#7fbc41"
            ],
            [
             0.9,
             "#4d9221"
            ],
            [
             1,
             "#276419"
            ]
           ],
           "sequential": [
            [
             0,
             "#0d0887"
            ],
            [
             0.1111111111111111,
             "#46039f"
            ],
            [
             0.2222222222222222,
             "#7201a8"
            ],
            [
             0.3333333333333333,
             "#9c179e"
            ],
            [
             0.4444444444444444,
             "#bd3786"
            ],
            [
             0.5555555555555556,
             "#d8576b"
            ],
            [
             0.6666666666666666,
             "#ed7953"
            ],
            [
             0.7777777777777778,
             "#fb9f3a"
            ],
            [
             0.8888888888888888,
             "#fdca26"
            ],
            [
             1,
             "#f0f921"
            ]
           ],
           "sequentialminus": [
            [
             0,
             "#0d0887"
            ],
            [
             0.1111111111111111,
             "#46039f"
            ],
            [
             0.2222222222222222,
             "#7201a8"
            ],
            [
             0.3333333333333333,
             "#9c179e"
            ],
            [
             0.4444444444444444,
             "#bd3786"
            ],
            [
             0.5555555555555556,
             "#d8576b"
            ],
            [
             0.6666666666666666,
             "#ed7953"
            ],
            [
             0.7777777777777778,
             "#fb9f3a"
            ],
            [
             0.8888888888888888,
             "#fdca26"
            ],
            [
             1,
             "#f0f921"
            ]
           ]
          },
          "colorway": [
           "#636efa",
           "#EF553B",
           "#00cc96",
           "#ab63fa",
           "#FFA15A",
           "#19d3f3",
           "#FF6692",
           "#B6E880",
           "#FF97FF",
           "#FECB52"
          ],
          "font": {
           "color": "#2a3f5f"
          },
          "geo": {
           "bgcolor": "white",
           "lakecolor": "white",
           "landcolor": "#E5ECF6",
           "showlakes": true,
           "showland": true,
           "subunitcolor": "white"
          },
          "hoverlabel": {
           "align": "left"
          },
          "hovermode": "closest",
          "mapbox": {
           "style": "light"
          },
          "paper_bgcolor": "white",
          "plot_bgcolor": "#E5ECF6",
          "polar": {
           "angularaxis": {
            "gridcolor": "white",
            "linecolor": "white",
            "ticks": ""
           },
           "bgcolor": "#E5ECF6",
           "radialaxis": {
            "gridcolor": "white",
            "linecolor": "white",
            "ticks": ""
           }
          },
          "scene": {
           "xaxis": {
            "backgroundcolor": "#E5ECF6",
            "gridcolor": "white",
            "gridwidth": 2,
            "linecolor": "white",
            "showbackground": true,
            "ticks": "",
            "zerolinecolor": "white"
           },
           "yaxis": {
            "backgroundcolor": "#E5ECF6",
            "gridcolor": "white",
            "gridwidth": 2,
            "linecolor": "white",
            "showbackground": true,
            "ticks": "",
            "zerolinecolor": "white"
           },
           "zaxis": {
            "backgroundcolor": "#E5ECF6",
            "gridcolor": "white",
            "gridwidth": 2,
            "linecolor": "white",
            "showbackground": true,
            "ticks": "",
            "zerolinecolor": "white"
           }
          },
          "shapedefaults": {
           "line": {
            "color": "#2a3f5f"
           }
          },
          "ternary": {
           "aaxis": {
            "gridcolor": "white",
            "linecolor": "white",
            "ticks": ""
           },
           "baxis": {
            "gridcolor": "white",
            "linecolor": "white",
            "ticks": ""
           },
           "bgcolor": "#E5ECF6",
           "caxis": {
            "gridcolor": "white",
            "linecolor": "white",
            "ticks": ""
           }
          },
          "title": {
           "x": 0.05
          },
          "xaxis": {
           "automargin": true,
           "gridcolor": "white",
           "linecolor": "white",
           "ticks": "",
           "title": {
            "standoff": 15
           },
           "zerolinecolor": "white",
           "zerolinewidth": 2
          },
          "yaxis": {
           "automargin": true,
           "gridcolor": "white",
           "linecolor": "white",
           "ticks": "",
           "title": {
            "standoff": 15
           },
           "zerolinecolor": "white",
           "zerolinewidth": 2
          }
         }
        },
        "title": {
         "text": "Hyperparameter Importances"
        },
        "xaxis": {
         "title": {
          "text": "Hyperparameter Importance"
         }
        },
        "yaxis": {
         "title": {
          "text": "Hyperparameter"
         }
        }
       }
      }
     },
     "metadata": {},
     "output_type": "display_data"
    }
   ],
   "source": [
    "import optuna\n",
    "import xgboost as xgb\n",
    "from sklearn.model_selection import train_test_split\n",
    "from sklearn.metrics import mean_absolute_error, r2_score\n",
    "import numpy as np\n",
    "from sklearn.compose import ColumnTransformer\n",
    "from sklearn.preprocessing import StandardScaler, OrdinalEncoder\n",
    "from sklearn.pipeline import Pipeline\n",
    "\n",
    "# Split the dataset\n",
    "X_train, X_test, y_train, y_test = train_test_split(X, y_transformed, test_size=0.2, random_state=42)\n",
    "\n",
    "# Define preprocessing\n",
    "numeric_features = ['bedRoom', 'bathroom', 'built_up_area', 'servant room', 'store room']\n",
    "categorical_features = ['property_type', 'sector', 'balcony', 'agePossession', \n",
    "                       'furnishing_type', 'luxury_category', 'floor_category']\n",
    "\n",
    "preprocessor = ColumnTransformer(\n",
    "    transformers=[\n",
    "        ('num', StandardScaler(), numeric_features),\n",
    "        ('cat', OrdinalEncoder(handle_unknown='use_encoded_value', unknown_value=-1), \n",
    "         categorical_features)\n",
    "    ]\n",
    ")\n",
    "\n",
    "def objective(trial):\n",
    "    # Hyperparameter search space\n",
    "    param = {\n",
    "        'verbosity': 0,\n",
    "        'objective': 'reg:squarederror',\n",
    "        'eval_metric': 'mae',\n",
    "        'booster': 'gbtree',\n",
    "        'lambda': trial.suggest_float('lambda', 1e-8, 1.0, log=True),\n",
    "        'alpha': trial.suggest_float('alpha', 1e-8, 1.0, log=True),\n",
    "        'eta': trial.suggest_float('eta', 0.01, 0.3),\n",
    "        'gamma': trial.suggest_float('gamma', 1e-8, 1.0, log=True),\n",
    "        'max_depth': trial.suggest_int('max_depth', 3, 25),\n",
    "        'min_child_weight': trial.suggest_int('min_child_weight', 1, 10),\n",
    "        'subsample': trial.suggest_float('subsample', 0.4, 1.0),\n",
    "        'colsample_bytree': trial.suggest_float('colsample_bytree', 0.4, 1.0),\n",
    "        'colsample_bylevel': trial.suggest_float('colsample_bylevel', 0.4, 1.0),\n",
    "        'colsample_bynode': trial.suggest_float('colsample_bynode', 0.4, 1.0),\n",
    "        'n_estimators': trial.suggest_int('n_estimators', 100, 1000)\n",
    "    }\n",
    "\n",
    "    # Preprocess the data\n",
    "    X_train_processed = preprocessor.fit_transform(X_train)\n",
    "    X_test_processed = preprocessor.transform(X_test)\n",
    "    \n",
    "    # Create DMatrix for XGBoost\n",
    "    dtrain = xgb.DMatrix(X_train_processed, label=y_train)\n",
    "    dtest = xgb.DMatrix(X_test_processed, label=y_test)\n",
    "\n",
    "    # Define pruning callback\n",
    "    pruning_callback = optuna.integration.XGBoostPruningCallback(trial, \"eval-mae\")\n",
    "\n",
    "    # Train the model\n",
    "    bst = xgb.train(\n",
    "        param,\n",
    "        dtrain,\n",
    "        num_boost_round=param['n_estimators'],\n",
    "        evals=[(dtrain, \"train\"), (dtest, \"eval\")],\n",
    "        early_stopping_rounds=50,\n",
    "        callbacks=[pruning_callback]\n",
    "    )\n",
    "\n",
    "    # Predict on test set\n",
    "    preds = bst.predict(dtest)\n",
    "    \n",
    "    # Calculate metrics\n",
    "    mae = mean_absolute_error(np.expm1(y_test), np.expm1(preds))\n",
    "    r2 = r2_score(y_test, preds)\n",
    "    \n",
    "    print(f\"\\nTrial Results:\")\n",
    "    print(f\"MAE: {mae:.4f}\")\n",
    "    print(f\"R2 Score: {r2:.4f}\")\n",
    "    \n",
    "    return mae\n",
    "\n",
    "# Create and run study\n",
    "study = optuna.create_study(\n",
    "    direction='minimize',\n",
    "    pruner=optuna.pruners.SuccessiveHalvingPruner()\n",
    ")\n",
    "study.optimize(objective, n_trials=100)\n",
    "\n",
    "# Train final model with best parameters\n",
    "best_params = study.best_trial.params\n",
    "best_params['objective'] = 'reg:squarederror'\n",
    "best_params['eval_metric'] = 'mae'\n",
    "\n",
    "# Preprocess final data\n",
    "X_train_processed = preprocessor.fit_transform(X_train)\n",
    "X_test_processed = preprocessor.transform(X_test)\n",
    "\n",
    "# Create and train final model\n",
    "dtrain = xgb.DMatrix(X_train_processed, label=y_train)\n",
    "dtest = xgb.DMatrix(X_test_processed, label=y_test)\n",
    "final_model = xgb.train(\n",
    "    best_params,\n",
    "    dtrain,\n",
    "    num_boost_round=best_params['n_estimators'],\n",
    "    early_stopping_rounds=50,\n",
    "    evals=[(dtrain, \"train\"), (dtest, \"eval\")]\n",
    ")\n",
    "\n",
    "# Final evaluation\n",
    "final_preds = final_model.predict(dtest)\n",
    "final_mae = mean_absolute_error(np.expm1(y_test), np.expm1(final_preds))\n",
    "final_r2 = r2_score(y_test, final_preds)\n",
    "\n",
    "print(\"\\nBest trial:\")\n",
    "print(\"  MAE: \", study.best_trial.value)\n",
    "print(\"\\nBest hyperparameters:\")\n",
    "for key, value in study.best_trial.params.items():\n",
    "    print(f\"    {key}: {value}\")\n",
    "\n",
    "print(\"\\nFinal Model Performance:\")\n",
    "print(f\"MAE: {final_mae:.4f}\")\n",
    "print(f\"R2 Score: {final_r2:.4f}\")\n",
    "\n",
    "# Visualization\n",
    "try:\n",
    "    import plotly\n",
    "    fig1 = optuna.visualization.plot_optimization_history(study)\n",
    "    fig2 = optuna.visualization.plot_param_importances(study)\n",
    "    fig1.show()\n",
    "    fig2.show()\n",
    "except:\n",
    "    print(\"Visualization requires plotly to be installed\")"
   ]
  },
  {
   "cell_type": "code",
   "execution_count": 23,
   "id": "6f8c1bc2",
   "metadata": {},
   "outputs": [
    {
     "name": "stderr",
     "output_type": "stream",
     "text": [
      "[I 2024-12-19 20:34:27,114] A new study created in memory with name: no-name-c064aa33-7e5a-451a-aba4-bc9bb3c180d2\n"
     ]
    },
    {
     "name": "stderr",
     "output_type": "stream",
     "text": [
      "[I 2024-12-19 20:34:32,351] Trial 0 finished with value: 0.8326912323154253 and parameters: {'booster': 'gbtree', 'lambda': 1.109207787001655e-06, 'alpha': 0.007464261249737968, 'eta': 0.014732531528239067, 'gamma': 7.4397005941871726, 'max_depth': 25, 'min_child_weight': 14, 'subsample': 0.5611315552240134, 'colsample_bytree': 0.6331288833127087, 'colsample_bylevel': 0.641447113322807, 'colsample_bynode': 0.7920628117065205, 'max_delta_step': 9, 'n_estimators': 232, 'grow_policy': 'lossguide'}. Best is trial 0 with value: 0.8326912323154253.\n",
      "[I 2024-12-19 20:34:40,354] Trial 1 finished with value: 0.5550641196726105 and parameters: {'booster': 'gbtree', 'lambda': 8.623053810891996e-05, 'alpha': 0.04093499007577015, 'eta': 0.049886074707448075, 'gamma': 0.008764101637395664, 'max_depth': 12, 'min_child_weight': 9, 'subsample': 0.9188721168944667, 'colsample_bytree': 0.9254590100510736, 'colsample_bylevel': 0.7153834068139265, 'colsample_bynode': 0.7923041215316966, 'max_delta_step': 9, 'n_estimators': 779, 'grow_policy': 'depthwise'}. Best is trial 1 with value: 0.5550641196726105.\n",
      "[I 2024-12-19 20:34:46,835] Trial 9 finished with value: 0.6617019366741623 and parameters: {'booster': 'gbtree', 'lambda': 0.009669211105210433, 'alpha': 4.671651263247943e-08, 'eta': 0.045434612384209976, 'gamma': 4.893713015146426e-07, 'max_depth': 29, 'min_child_weight': 6, 'subsample': 0.32429681984904196, 'colsample_bytree': 0.32109289235417204, 'colsample_bylevel': 0.9263099266950496, 'colsample_bynode': 0.3944510919152713, 'max_delta_step': 1, 'n_estimators': 176, 'grow_policy': 'depthwise'}. Best is trial 1 with value: 0.5550641196726105.\n",
      "[I 2024-12-19 20:34:53,283] Trial 3 finished with value: 0.5870550795821262 and parameters: {'booster': 'gbtree', 'lambda': 3.270358475392949, 'alpha': 1.2354022156396147e-05, 'eta': 0.03628495080301728, 'gamma': 0.0005562181795376309, 'max_depth': 3, 'min_child_weight': 12, 'subsample': 0.6914952525793849, 'colsample_bytree': 0.6366185090347076, 'colsample_bylevel': 0.8241539305474663, 'colsample_bynode': 0.31738321633532296, 'max_delta_step': 9, 'n_estimators': 1543, 'grow_policy': 'depthwise'}. Best is trial 1 with value: 0.5550641196726105.\n",
      "[I 2024-12-19 20:35:07,486] Trial 4 finished with value: 1.0372370067421444 and parameters: {'booster': 'dart', 'lambda': 0.00021254167775797543, 'alpha': 0.0023684330496783093, 'eta': 0.01269588711837199, 'gamma': 0.003548543173860246, 'max_depth': 29, 'min_child_weight': 5, 'subsample': 0.5007608734028013, 'colsample_bytree': 0.7816577685082305, 'colsample_bylevel': 0.4606101773528204, 'colsample_bynode': 0.8127820317386205, 'max_delta_step': 3, 'n_estimators': 132, 'grow_policy': 'depthwise', 'sample_type': 'uniform', 'normalize_type': 'tree', 'rate_drop': 0.04119542195771303, 'skip_drop': 0.023506657462269265}. Best is trial 1 with value: 0.5550641196726105.\n",
      "[I 2024-12-19 20:35:29,388] Trial 8 finished with value: 0.5923661066599494 and parameters: {'booster': 'gbtree', 'lambda': 0.02431700988444581, 'alpha': 0.00563675161735063, 'eta': 0.015650650634476806, 'gamma': 0.000115451855575876, 'max_depth': 15, 'min_child_weight': 6, 'subsample': 0.952156342308188, 'colsample_bytree': 0.38794137703596976, 'colsample_bylevel': 0.7603033987432977, 'colsample_bynode': 0.3600258860731701, 'max_delta_step': 2, 'n_estimators': 1522, 'grow_policy': 'depthwise'}. Best is trial 1 with value: 0.5550641196726105.\n",
      "[I 2024-12-19 20:35:57,085] Trial 13 finished with value: 0.598735428346127 and parameters: {'booster': 'gbtree', 'lambda': 0.004281916040233758, 'alpha': 9.432466695798174e-05, 'eta': 0.04593407824551394, 'gamma': 0.00019862898566695608, 'max_depth': 9, 'min_child_weight': 4, 'subsample': 0.7852173066017921, 'colsample_bytree': 0.6586605372042069, 'colsample_bylevel': 0.36074535074433006, 'colsample_bynode': 0.39405739887277724, 'max_delta_step': 10, 'n_estimators': 1888, 'grow_policy': 'depthwise'}. Best is trial 1 with value: 0.5550641196726105.\n",
      "[I 2024-12-19 20:36:00,773] Trial 6 finished with value: 0.7144089571273183 and parameters: {'booster': 'dart', 'lambda': 4.356234099192364e-08, 'alpha': 0.0001306112515701953, 'eta': 0.048021957432222755, 'gamma': 4.668407483021004e-05, 'max_depth': 29, 'min_child_weight': 15, 'subsample': 0.5895142473027069, 'colsample_bytree': 0.3921049899468181, 'colsample_bylevel': 0.5360158244780688, 'colsample_bynode': 0.8909061040713218, 'max_delta_step': 0, 'n_estimators': 1361, 'grow_policy': 'lossguide', 'sample_type': 'weighted', 'normalize_type': 'forest', 'rate_drop': 0.4979429974746391, 'skip_drop': 0.4776774690450654}. Best is trial 1 with value: 0.5550641196726105.\n",
      "[I 2024-12-19 20:36:31,237] Trial 15 finished with value: 1.0819534293152955 and parameters: {'booster': 'gbtree', 'lambda': 0.000186145472490869, 'alpha': 0.00531156958656981, 'eta': 0.0011345967336400691, 'gamma': 0.17694647753244755, 'max_depth': 15, 'min_child_weight': 9, 'subsample': 0.8667724762865301, 'colsample_bytree': 0.8952812825778496, 'colsample_bylevel': 0.9569162932656317, 'colsample_bynode': 0.5369196890059303, 'max_delta_step': 4, 'n_estimators': 697, 'grow_policy': 'depthwise'}. Best is trial 1 with value: 0.5550641196726105.\n",
      "[I 2024-12-19 20:37:55,903] Trial 16 finished with value: 0.5904799327436555 and parameters: {'booster': 'gbtree', 'lambda': 4.533155184489331e-06, 'alpha': 8.30087225912888e-05, 'eta': 0.003636549413197598, 'gamma': 1.1033234309221298e-06, 'max_depth': 12, 'min_child_weight': 11, 'subsample': 0.7985771414543942, 'colsample_bytree': 0.7669653817528952, 'colsample_bylevel': 0.3652934175028356, 'colsample_bynode': 0.44671624546727695, 'max_delta_step': 10, 'n_estimators': 1716, 'grow_policy': 'depthwise'}. Best is trial 1 with value: 0.5550641196726105.\n",
      "[I 2024-12-19 20:39:00,063] Trial 10 finished with value: 0.5690719418676242 and parameters: {'booster': 'dart', 'lambda': 7.056552473481842e-06, 'alpha': 0.00038540067654279617, 'eta': 0.20026152505923045, 'gamma': 0.0010216557867340776, 'max_depth': 8, 'min_child_weight': 1, 'subsample': 0.7180959981465115, 'colsample_bytree': 0.9106514581763254, 'colsample_bylevel': 0.9773678280968858, 'colsample_bynode': 0.34894908548857695, 'max_delta_step': 6, 'n_estimators': 1049, 'grow_policy': 'lossguide', 'sample_type': 'uniform', 'normalize_type': 'tree', 'rate_drop': 0.20712846589175155, 'skip_drop': 0.2237027206238255}. Best is trial 1 with value: 0.5550641196726105.\n",
      "[I 2024-12-19 20:40:08,706] Trial 18 finished with value: 0.6517196648170958 and parameters: {'booster': 'dart', 'lambda': 8.51761204810008e-06, 'alpha': 8.824412819925357, 'eta': 0.41672154990016114, 'gamma': 0.07458094861664336, 'max_depth': 6, 'min_child_weight': 1, 'subsample': 0.9881800735573838, 'colsample_bytree': 0.9880480138248378, 'colsample_bylevel': 0.7283182820130131, 'colsample_bynode': 0.6578949091820663, 'max_delta_step': 6, 'n_estimators': 932, 'grow_policy': 'lossguide', 'sample_type': 'uniform', 'normalize_type': 'tree', 'rate_drop': 0.23742293711348916, 'skip_drop': 0.2156025049050802}. Best is trial 1 with value: 0.5550641196726105.\n",
      "[I 2024-12-19 20:40:38,107] Trial 17 finished with value: 0.6439753437213608 and parameters: {'booster': 'dart', 'lambda': 8.211045539655013, 'alpha': 7.754514612051688, 'eta': 0.35748276759629366, 'gamma': 0.07415908900952684, 'max_depth': 21, 'min_child_weight': 2, 'subsample': 0.9855379695720201, 'colsample_bytree': 0.993013309820459, 'colsample_bylevel': 0.6978361884143596, 'colsample_bynode': 0.9873091451058289, 'max_delta_step': 6, 'n_estimators': 927, 'grow_policy': 'lossguide', 'sample_type': 'uniform', 'normalize_type': 'tree', 'rate_drop': 0.34167478248986427, 'skip_drop': 0.2631183895881028}. Best is trial 1 with value: 0.5550641196726105.\n",
      "[I 2024-12-19 20:41:59,652] Trial 5 finished with value: 1.233833374146075 and parameters: {'booster': 'dart', 'lambda': 1.4849204362631028, 'alpha': 9.716867937686178e-07, 'eta': 0.004630629483958481, 'gamma': 4.030331447477936e-08, 'max_depth': 13, 'min_child_weight': 7, 'subsample': 0.589821427598886, 'colsample_bytree': 0.47067796291788, 'colsample_bylevel': 0.32030556228776547, 'colsample_bynode': 0.6848342943849557, 'max_delta_step': 2, 'n_estimators': 540, 'grow_policy': 'depthwise', 'sample_type': 'weighted', 'normalize_type': 'tree', 'rate_drop': 0.21627606424655993, 'skip_drop': 0.39240988766071483}. Best is trial 1 with value: 0.5550641196726105.\n",
      "[I 2024-12-19 20:42:06,011] Trial 20 finished with value: 0.5760117929502692 and parameters: {'booster': 'dart', 'lambda': 1.3757474682795862e-08, 'alpha': 0.3255093635963619, 'eta': 0.1464017404792333, 'gamma': 1.4459560698487334e-08, 'max_depth': 10, 'min_child_weight': 8, 'subsample': 0.7093881660047741, 'colsample_bytree': 0.8505540821030915, 'colsample_bylevel': 0.8555178504580818, 'colsample_bynode': 0.6378027332629068, 'max_delta_step': 8, 'n_estimators': 621, 'grow_policy': 'lossguide', 'sample_type': 'weighted', 'normalize_type': 'forest', 'rate_drop': 0.14100471336178394, 'skip_drop': 0.24450637911520695}. Best is trial 1 with value: 0.5550641196726105.\n",
      "[I 2024-12-19 20:42:18,388] Trial 14 finished with value: 1.0148114105271113 and parameters: {'booster': 'gbtree', 'lambda': 0.3286528305140787, 'alpha': 1.2342209913399909e-08, 'eta': 0.005241561031355829, 'gamma': 1.6732874991052974e-06, 'max_depth': 21, 'min_child_weight': 1, 'subsample': 0.7077965787186742, 'colsample_bytree': 0.8661635853764904, 'colsample_bylevel': 0.5679874467961652, 'colsample_bynode': 0.8567847594191913, 'max_delta_step': 7, 'n_estimators': 177, 'grow_policy': 'lossguide'}. Best is trial 1 with value: 0.5550641196726105.\n",
      "[I 2024-12-19 20:43:33,070] Trial 19 finished with value: 0.5678141567101844 and parameters: {'booster': 'dart', 'lambda': 1.5479097472116253e-08, 'alpha': 0.8240065698790139, 'eta': 0.2221266666544533, 'gamma': 0.030097886842989596, 'max_depth': 19, 'min_child_weight': 1, 'subsample': 0.6995895995783675, 'colsample_bytree': 0.9831649180532877, 'colsample_bylevel': 0.8611842763992447, 'colsample_bynode': 0.9990443518542604, 'max_delta_step': 6, 'n_estimators': 663, 'grow_policy': 'lossguide', 'sample_type': 'uniform', 'normalize_type': 'tree', 'rate_drop': 0.21155511950569533, 'skip_drop': 0.25690821375691825}. Best is trial 1 with value: 0.5550641196726105.\n",
      "[I 2024-12-19 20:44:06,400] Trial 24 finished with value: 0.6994963327237588 and parameters: {'booster': 'dart', 'lambda': 1.4965721448536019e-07, 'alpha': 0.15459851655274573, 'eta': 0.10387787093359384, 'gamma': 1.3573576798140963, 'max_depth': 18, 'min_child_weight': 10, 'subsample': 0.43838649873339797, 'colsample_bytree': 0.7453572621612735, 'colsample_bylevel': 0.8380682419680888, 'colsample_bynode': 0.9761703929437722, 'max_delta_step': 5, 'n_estimators': 419, 'grow_policy': 'lossguide', 'sample_type': 'uniform', 'normalize_type': 'forest', 'rate_drop': 0.363669029123994, 'skip_drop': 0.06539333930455049}. Best is trial 1 with value: 0.5550641196726105.\n",
      "[I 2024-12-19 20:44:58,327] Trial 21 finished with value: 0.5641836248297225 and parameters: {'booster': 'dart', 'lambda': 1.7924310978462403e-08, 'alpha': 0.2154017014345069, 'eta': 0.1401049394818846, 'gamma': 0.0050943541760275525, 'max_depth': 20, 'min_child_weight': 9, 'subsample': 0.7123684039746804, 'colsample_bytree': 0.862117792334884, 'colsample_bylevel': 0.8606666847994906, 'colsample_bynode': 0.5462681266651745, 'max_delta_step': 7, 'n_estimators': 1219, 'grow_policy': 'lossguide', 'sample_type': 'uniform', 'normalize_type': 'forest', 'rate_drop': 0.04304447430508879, 'skip_drop': 0.13090515789057283}. Best is trial 1 with value: 0.5550641196726105.\n",
      "[I 2024-12-19 20:45:11,570] Trial 26 finished with value: 0.563447759013652 and parameters: {'booster': 'gbtree', 'lambda': 4.927719685937608e-07, 'alpha': 0.03076754077725745, 'eta': 0.06979296832123653, 'gamma': 0.009668667945256634, 'max_depth': 24, 'min_child_weight': 12, 'subsample': 0.8927992727812497, 'colsample_bytree': 0.5563242601613867, 'colsample_bylevel': 0.7924619299371682, 'colsample_bynode': 0.5568709036095324, 'max_delta_step': 8, 'n_estimators': 1280, 'grow_policy': 'depthwise'}. Best is trial 1 with value: 0.5550641196726105.\n",
      "[I 2024-12-19 20:45:15,045] Trial 27 finished with value: 0.643758568325636 and parameters: {'booster': 'gbtree', 'lambda': 4.9211299310932634e-05, 'alpha': 0.047439391373474714, 'eta': 0.08501556400902925, 'gamma': 0.7460163442845814, 'max_depth': 25, 'min_child_weight': 13, 'subsample': 0.8947486357797562, 'colsample_bytree': 0.545087239980895, 'colsample_bylevel': 0.6312983607335525, 'colsample_bynode': 0.7275607051784592, 'max_delta_step': 8, 'n_estimators': 1224, 'grow_policy': 'depthwise'}. Best is trial 1 with value: 0.5550641196726105.\n",
      "[I 2024-12-19 20:45:25,245] Trial 28 finished with value: 0.5605021898288204 and parameters: {'booster': 'gbtree', 'lambda': 3.8031954468906394e-07, 'alpha': 0.04834513235173282, 'eta': 0.08223584057738662, 'gamma': 0.008614341857609347, 'max_depth': 25, 'min_child_weight': 10, 'subsample': 0.8488153200595596, 'colsample_bytree': 0.5751325127874323, 'colsample_bylevel': 0.7688709923156238, 'colsample_bynode': 0.5592945201058321, 'max_delta_step': 8, 'n_estimators': 1200, 'grow_policy': 'depthwise'}. Best is trial 1 with value: 0.5550641196726105.\n",
      "[I 2024-12-19 20:45:55,111] Trial 29 finished with value: 0.56240445716318 and parameters: {'booster': 'gbtree', 'lambda': 4.662298147545296e-07, 'alpha': 0.044785897991331335, 'eta': 0.025530445919592908, 'gamma': 0.009224725482854829, 'max_depth': 24, 'min_child_weight': 11, 'subsample': 0.8856167642470936, 'colsample_bytree': 0.5499057736890586, 'colsample_bylevel': 0.7516778553850995, 'colsample_bynode': 0.5586951588214777, 'max_delta_step': 8, 'n_estimators': 863, 'grow_policy': 'depthwise'}. Best is trial 1 with value: 0.5550641196726105.\n",
      "[I 2024-12-19 20:46:34,248] Trial 30 finished with value: 0.5746591682024751 and parameters: {'booster': 'gbtree', 'lambda': 0.0013579982700689358, 'alpha': 1.3628379249192308, 'eta': 0.022975908221646676, 'gamma': 2.012247174469693e-05, 'max_depth': 23, 'min_child_weight': 10, 'subsample': 0.8026783905047788, 'colsample_bytree': 0.5284520010875046, 'colsample_bylevel': 0.713333880433836, 'colsample_bynode': 0.4701526790131964, 'max_delta_step': 9, 'n_estimators': 871, 'grow_policy': 'depthwise'}. Best is trial 1 with value: 0.5550641196726105.\n",
      "[I 2024-12-19 20:47:17,472] Trial 31 finished with value: 0.5498655471798952 and parameters: {'booster': 'gbtree', 'lambda': 4.1834940951953256e-05, 'alpha': 0.0012384225780232203, 'eta': 0.025847025283249236, 'gamma': 0.0017714788691596246, 'max_depth': 27, 'min_child_weight': 11, 'subsample': 0.8423241670230126, 'colsample_bytree': 0.6989094018532442, 'colsample_bylevel': 0.5801551089646599, 'colsample_bynode': 0.5938107968600955, 'max_delta_step': 10, 'n_estimators': 1098, 'grow_policy': 'depthwise'}. Best is trial 31 with value: 0.5498655471798952.\n",
      "[I 2024-12-19 20:47:50,072] Trial 12 finished with value: 0.7913888726257268 and parameters: {'booster': 'gbtree', 'lambda': 0.002224060482390337, 'alpha': 0.0008488495915992232, 'eta': 0.0010096104904670944, 'gamma': 0.01648890750926571, 'max_depth': 16, 'min_child_weight': 6, 'subsample': 0.7622856422251243, 'colsample_bytree': 0.45397493033685044, 'colsample_bylevel': 0.8576713272995293, 'colsample_bynode': 0.6831291210584303, 'max_delta_step': 4, 'n_estimators': 1696, 'grow_policy': 'lossguide'}. Best is trial 31 with value: 0.5498655471798952.\n",
      "[I 2024-12-19 20:49:07,982] Trial 32 finished with value: 0.5534637809904381 and parameters: {'booster': 'gbtree', 'lambda': 3.971347719978676e-05, 'alpha': 8.200665211886822e-06, 'eta': 0.008215751609556877, 'gamma': 1.3229875175615985e-05, 'max_depth': 27, 'min_child_weight': 8, 'subsample': 0.8323789317538824, 'colsample_bytree': 0.7156206555226717, 'colsample_bylevel': 0.5729712545873559, 'colsample_bynode': 0.6110767043413328, 'max_delta_step': 10, 'n_estimators': 1107, 'grow_policy': 'depthwise'}. Best is trial 31 with value: 0.5498655471798952.\n",
      "[I 2024-12-19 20:49:25,127] Trial 23 finished with value: 0.5963281100473853 and parameters: {'booster': 'dart', 'lambda': 3.6664631023735274e-07, 'alpha': 0.055199251578247815, 'eta': 0.10936086201462858, 'gamma': 0.0035125066245945994, 'max_depth': 6, 'min_child_weight': 10, 'subsample': 0.8592490935491764, 'colsample_bytree': 0.7309028802847867, 'colsample_bylevel': 0.9763707427248913, 'colsample_bynode': 0.5050104432820561, 'max_delta_step': 5, 'n_estimators': 1273, 'grow_policy': 'lossguide', 'sample_type': 'uniform', 'normalize_type': 'tree', 'rate_drop': 0.4230685957693831, 'skip_drop': 0.061202661519375534}. Best is trial 31 with value: 0.5498655471798952.\n",
      "[I 2024-12-19 20:49:29,776] Trial 33 finished with value: 0.5508678412013321 and parameters: {'booster': 'gbtree', 'lambda': 3.214691572640653e-05, 'alpha': 0.018411613210032155, 'eta': 0.0084293694104361, 'gamma': 0.0011851185766104044, 'max_depth': 27, 'min_child_weight': 8, 'subsample': 0.8559715430441124, 'colsample_bytree': 0.6991778569535683, 'colsample_bylevel': 0.5733027323298296, 'colsample_bynode': 0.6183851915211301, 'max_delta_step': 10, 'n_estimators': 1052, 'grow_policy': 'depthwise'}. Best is trial 31 with value: 0.5498655471798952.\n",
      "[I 2024-12-19 20:50:45,799] Trial 34 finished with value: 0.5492995165447137 and parameters: {'booster': 'gbtree', 'lambda': 6.529625186819699e-05, 'alpha': 4.183548342657534e-06, 'eta': 0.010554601104838482, 'gamma': 9.135733685737693e-06, 'max_depth': 27, 'min_child_weight': 8, 'subsample': 0.915544480173214, 'colsample_bytree': 0.6900785209766949, 'colsample_bylevel': 0.5654736212879637, 'colsample_bynode': 0.745914998447274, 'max_delta_step': 10, 'n_estimators': 1032, 'grow_policy': 'depthwise'}. Best is trial 34 with value: 0.5492995165447137.\n",
      "[I 2024-12-19 20:50:59,611] Trial 36 finished with value: 0.5588998936443718 and parameters: {'booster': 'gbtree', 'lambda': 1.1698439005997752e-05, 'alpha': 3.928639191387684e-06, 'eta': 0.008221143980869492, 'gamma': 1.150680020089651e-05, 'max_depth': 27, 'min_child_weight': 8, 'subsample': 0.6395636112595998, 'colsample_bytree': 0.6900425503100593, 'colsample_bylevel': 0.4910301292472311, 'colsample_bynode': 0.614307001661265, 'max_delta_step': 10, 'n_estimators': 1066, 'grow_policy': 'depthwise'}. Best is trial 34 with value: 0.5492995165447137.\n",
      "[I 2024-12-19 20:51:01,672] Trial 35 finished with value: 0.5512642917772164 and parameters: {'booster': 'gbtree', 'lambda': 3.393554573946905e-05, 'alpha': 8.101644805716e-06, 'eta': 0.00970710905674772, 'gamma': 1.160256527584248e-05, 'max_depth': 27, 'min_child_weight': 8, 'subsample': 0.93607973844613, 'colsample_bytree': 0.6854436830976516, 'colsample_bylevel': 0.5663564060822933, 'colsample_bynode': 0.6156565949232111, 'max_delta_step': 10, 'n_estimators': 992, 'grow_policy': 'depthwise'}. Best is trial 34 with value: 0.5492995165447137.\n",
      "[I 2024-12-19 20:52:41,005] Trial 37 finished with value: 0.6045851482722326 and parameters: {'booster': 'gbtree', 'lambda': 0.0009361710996154202, 'alpha': 9.175538518753969e-07, 'eta': 0.002693432811438372, 'gamma': 1.2003861758443291e-05, 'max_depth': 27, 'min_child_weight': 4, 'subsample': 0.9460559572719328, 'colsample_bytree': 0.6913400408176126, 'colsample_bylevel': 0.4847696882078714, 'colsample_bynode': 0.7445441970671316, 'max_delta_step': 10, 'n_estimators': 1079, 'grow_policy': 'depthwise'}. Best is trial 34 with value: 0.5492995165447137.\n",
      "[I 2024-12-19 20:52:50,453] Trial 38 finished with value: 0.5479304272797925 and parameters: {'booster': 'gbtree', 'lambda': 3.293007801443818e-05, 'alpha': 2.9722570121128654e-07, 'eta': 0.008297341981443131, 'gamma': 1.2204917976866802e-05, 'max_depth': 27, 'min_child_weight': 8, 'subsample': 0.9420037746739597, 'colsample_bytree': 0.6984997685379081, 'colsample_bylevel': 0.617798361120881, 'colsample_bynode': 0.7487781562573743, 'max_delta_step': 10, 'n_estimators': 1107, 'grow_policy': 'depthwise'}. Best is trial 38 with value: 0.5479304272797925.\n",
      "[I 2024-12-19 20:53:10,957] Trial 39 finished with value: 0.5758716880594242 and parameters: {'booster': 'gbtree', 'lambda': 0.0007026445288735403, 'alpha': 1.8025858301555989e-07, 'eta': 0.002621426857680367, 'gamma': 0.001045194998750037, 'max_depth': 27, 'min_child_weight': 7, 'subsample': 0.9320239458668554, 'colsample_bytree': 0.6033304460109817, 'colsample_bylevel': 0.6399685039333711, 'colsample_bynode': 0.7251511400093221, 'max_delta_step': 9, 'n_estimators': 1398, 'grow_policy': 'depthwise'}. Best is trial 38 with value: 0.5479304272797925.\n",
      "[I 2024-12-19 20:53:47,273] Trial 41 finished with value: 0.5531551457931495 and parameters: {'booster': 'gbtree', 'lambda': 2.754668464163514e-06, 'alpha': 1.795793092012503e-07, 'eta': 0.01716351252753881, 'gamma': 0.0008546994029327213, 'max_depth': 22, 'min_child_weight': 7, 'subsample': 0.9319274134643679, 'colsample_bytree': 0.811057062352914, 'colsample_bylevel': 0.6347565408142133, 'colsample_bynode': 0.7451456141546675, 'max_delta_step': 9, 'n_estimators': 812, 'grow_policy': 'depthwise'}. Best is trial 38 with value: 0.5479304272797925.\n",
      "[I 2024-12-19 20:53:54,012] Trial 25 finished with value: 0.5718876028065981 and parameters: {'booster': 'dart', 'lambda': 3.5795922019941727e-07, 'alpha': 0.14293264164867872, 'eta': 0.10654865323300737, 'gamma': 0.004372948043608758, 'max_depth': 18, 'min_child_weight': 3, 'subsample': 0.8559704168301998, 'colsample_bytree': 0.9500026951710702, 'colsample_bylevel': 0.5938320103958405, 'colsample_bynode': 0.7193864756869348, 'max_delta_step': 8, 'n_estimators': 1194, 'grow_policy': 'lossguide', 'sample_type': 'uniform', 'normalize_type': 'tree', 'rate_drop': 0.027535287580855883, 'skip_drop': 0.3653540949638788}. Best is trial 38 with value: 0.5479304272797925.\n",
      "[I 2024-12-19 20:54:10,441] Trial 40 finished with value: 0.5486459209476751 and parameters: {'booster': 'gbtree', 'lambda': 1.911695324763799e-06, 'alpha': 2.2986859451658137e-05, 'eta': 0.0111368531107779, 'gamma': 2.878732485446959e-06, 'max_depth': 30, 'min_child_weight': 7, 'subsample': 0.9336382954420583, 'colsample_bytree': 0.8075612281113371, 'colsample_bylevel': 0.6400631396489798, 'colsample_bynode': 0.7376129369538726, 'max_delta_step': 9, 'n_estimators': 774, 'grow_policy': 'depthwise'}. Best is trial 38 with value: 0.5479304272797925.\n",
      "[I 2024-12-19 20:54:22,709] Trial 22 finished with value: 0.5575301755878893 and parameters: {'booster': 'dart', 'lambda': 2.7245832414662956e-07, 'alpha': 0.2785682619930908, 'eta': 0.1529725273117395, 'gamma': 0.008660205292330673, 'max_depth': 19, 'min_child_weight': 10, 'subsample': 0.863335468416232, 'colsample_bytree': 0.9038617896007769, 'colsample_bylevel': 0.996165849148988, 'colsample_bynode': 0.5434211323095315, 'max_delta_step': 7, 'n_estimators': 1212, 'grow_policy': 'lossguide', 'sample_type': 'uniform', 'normalize_type': 'tree', 'rate_drop': 0.38050320491252376, 'skip_drop': 0.06956090031633191}. Best is trial 38 with value: 0.5479304272797925.\n",
      "[I 2024-12-19 20:54:24,389] Trial 44 finished with value: 0.5612546472259802 and parameters: {'booster': 'gbtree', 'lambda': 0.00016565809047414535, 'alpha': 0.0014473782824769598, 'eta': 0.02881887889337088, 'gamma': 1.6611220044679983e-07, 'max_depth': 29, 'min_child_weight': 14, 'subsample': 0.9905940309932133, 'colsample_bytree': 0.6272288345204741, 'colsample_bylevel': 0.5233873572185319, 'colsample_bynode': 0.7975070688538863, 'max_delta_step': 9, 'n_estimators': 372, 'grow_policy': 'depthwise'}. Best is trial 38 with value: 0.5479304272797925.\n",
      "[I 2024-12-19 20:54:26,888] Trial 42 finished with value: 0.5500985790475269 and parameters: {'booster': 'gbtree', 'lambda': 2.0780277308787e-06, 'alpha': 3.373590987822325e-05, 'eta': 0.013880581313334023, 'gamma': 2.3186963091451793e-06, 'max_depth': 30, 'min_child_weight': 7, 'subsample': 0.9994769320482044, 'colsample_bytree': 0.8066525795776649, 'colsample_bylevel': 0.6145466035307908, 'colsample_bynode': 0.7712011149555422, 'max_delta_step': 9, 'n_estimators': 814, 'grow_policy': 'depthwise'}. Best is trial 38 with value: 0.5479304272797925.\n",
      "[I 2024-12-19 20:54:49,964] Trial 45 finished with value: 0.5480459173126595 and parameters: {'booster': 'gbtree', 'lambda': 1.7931971420396941e-06, 'alpha': 3.245097295931072e-05, 'eta': 0.03148129037559744, 'gamma': 1.3598004961255485e-07, 'max_depth': 30, 'min_child_weight': 14, 'subsample': 0.9827246430884375, 'colsample_bytree': 0.7935646056974139, 'colsample_bylevel': 0.42626916584974883, 'colsample_bynode': 0.8168739962632031, 'max_delta_step': 9, 'n_estimators': 437, 'grow_policy': 'depthwise'}. Best is trial 38 with value: 0.5479304272797925.\n",
      "[I 2024-12-19 20:54:53,257] Trial 46 finished with value: 0.5533316055637575 and parameters: {'booster': 'gbtree', 'lambda': 1.7442199415596903e-06, 'alpha': 3.678138206753438e-05, 'eta': 0.028428761897260908, 'gamma': 2.611649398608581e-06, 'max_depth': 29, 'min_child_weight': 14, 'subsample': 0.9940663493309347, 'colsample_bytree': 0.7943904119364386, 'colsample_bylevel': 0.5200867764383571, 'colsample_bynode': 0.8027301964237531, 'max_delta_step': 9, 'n_estimators': 334, 'grow_policy': 'depthwise'}. Best is trial 38 with value: 0.5479304272797925.\n",
      "[I 2024-12-19 20:55:24,424] Trial 49 finished with value: 0.5518385262759499 and parameters: {'booster': 'gbtree', 'lambda': 1.4572779261792756e-06, 'alpha': 1.3665499854374865e-06, 'eta': 0.035059767778136255, 'gamma': 1.803855726773036e-07, 'max_depth': 29, 'min_child_weight': 13, 'subsample': 0.9129910822244386, 'colsample_bytree': 0.7860651726177655, 'colsample_bylevel': 0.42681580253744056, 'colsample_bynode': 0.8419188412512795, 'max_delta_step': 10, 'n_estimators': 474, 'grow_policy': 'depthwise'}. Best is trial 38 with value: 0.5479304272797925.\n",
      "[I 2024-12-19 20:55:26,945] Trial 43 finished with value: 0.5652777349652347 and parameters: {'booster': 'gbtree', 'lambda': 0.00015983058384790497, 'alpha': 0.0013296367933313118, 'eta': 0.005584945626763788, 'gamma': 5.9719074852427434e-05, 'max_depth': 30, 'min_child_weight': 13, 'subsample': 0.8161223965033644, 'colsample_bytree': 0.6168927617502247, 'colsample_bylevel': 0.4337935651226681, 'colsample_bynode': 0.8186977057975675, 'max_delta_step': 9, 'n_estimators': 1415, 'grow_policy': 'depthwise'}. Best is trial 38 with value: 0.5479304272797925.\n",
      "[I 2024-12-19 20:55:27,359] Trial 48 finished with value: 0.5506289820553324 and parameters: {'booster': 'gbtree', 'lambda': 2.6123399800613397e-06, 'alpha': 2.7465693545144456e-05, 'eta': 0.015348360530578826, 'gamma': 2.687701661487759e-06, 'max_depth': 30, 'min_child_weight': 6, 'subsample': 0.9649791580513523, 'colsample_bytree': 0.8003240270637794, 'colsample_bylevel': 0.6648064144899494, 'colsample_bynode': 0.850343054947848, 'max_delta_step': 9, 'n_estimators': 730, 'grow_policy': 'depthwise'}. Best is trial 38 with value: 0.5479304272797925.\n",
      "[I 2024-12-19 20:55:30,027] Trial 50 finished with value: 0.6072549500991985 and parameters: {'booster': 'gbtree', 'lambda': 1.9274518664006694e-05, 'alpha': 6.095521299578758e-07, 'eta': 0.005636225788070999, 'gamma': 1.4012939252216555e-07, 'max_depth': 30, 'min_child_weight': 15, 'subsample': 0.9055137803762745, 'colsample_bytree': 0.8306717837428552, 'colsample_bylevel': 0.42733573122450763, 'colsample_bynode': 0.84550266422754, 'max_delta_step': 10, 'n_estimators': 546, 'grow_policy': 'depthwise'}. Best is trial 38 with value: 0.5479304272797925.\n",
      "[I 2024-12-19 20:55:32,256] Trial 47 finished with value: 0.5595383237892289 and parameters: {'booster': 'gbtree', 'lambda': 0.05002496146184514, 'alpha': 3.4318691851897494e-05, 'eta': 0.014106174445335276, 'gamma': 2.7390179155551655e-06, 'max_depth': 30, 'min_child_weight': 5, 'subsample': 0.9632854003459445, 'colsample_bytree': 0.7870089991074694, 'colsample_bylevel': 0.4227588730339281, 'colsample_bynode': 0.8394310872947659, 'max_delta_step': 9, 'n_estimators': 1482, 'grow_policy': 'depthwise'}. Best is trial 38 with value: 0.5479304272797925.\n",
      "[I 2024-12-19 20:55:52,319] Trial 55 finished with value: 0.6078998676575474 and parameters: {'booster': 'gbtree', 'lambda': 7.624233292987283e-05, 'alpha': 0.0003432079924530456, 'eta': 0.010799999756405356, 'gamma': 5.116047931081479e-07, 'max_depth': 26, 'min_child_weight': 11, 'subsample': 0.762041558137406, 'colsample_bytree': 0.6645245638134951, 'colsample_bylevel': 0.6771418081523468, 'colsample_bynode': 0.8937606212112225, 'max_delta_step': 7, 'n_estimators': 263, 'grow_policy': 'depthwise'}. Best is trial 38 with value: 0.5479304272797925.\n",
      "[I 2024-12-19 20:56:01,238] Trial 53 finished with value: 0.6128078767278 and parameters: {'booster': 'gbtree', 'lambda': 1.4862031142758793e-05, 'alpha': 0.00034573111858983316, 'eta': 0.010679773040061001, 'gamma': 2.493402586707749e-07, 'max_depth': 25, 'min_child_weight': 15, 'subsample': 0.5192533004549942, 'colsample_bytree': 0.6501352200397206, 'colsample_bylevel': 0.31600830361774357, 'colsample_bynode': 0.6893632194103219, 'max_delta_step': 10, 'n_estimators': 605, 'grow_policy': 'depthwise'}. Best is trial 38 with value: 0.5479304272797925.\n",
      "[I 2024-12-19 20:56:16,303] Trial 52 finished with value: 0.5489623863880543 and parameters: {'booster': 'gbtree', 'lambda': 1.724821036362886e-05, 'alpha': 0.00026511691653610827, 'eta': 0.016589160022097916, 'gamma': 3.761020497031467e-07, 'max_depth': 25, 'min_child_weight': 15, 'subsample': 0.9554566261801695, 'colsample_bytree': 0.8368132540610603, 'colsample_bylevel': 0.663095547375693, 'colsample_bynode': 0.8802177540751814, 'max_delta_step': 10, 'n_estimators': 551, 'grow_policy': 'depthwise'}. Best is trial 38 with value: 0.5479304272797925.\n",
      "[I 2024-12-19 20:56:38,568] Trial 51 finished with value: 0.5628625355426792 and parameters: {'booster': 'gbtree', 'lambda': 1.587353887814236e-05, 'alpha': 0.0006087326795444375, 'eta': 0.005450275908261966, 'gamma': 8.396315285160804e-08, 'max_depth': 30, 'min_child_weight': 5, 'subsample': 0.969556350855432, 'colsample_bytree': 0.6623205922304549, 'colsample_bylevel': 0.6791222130657903, 'colsample_bynode': 0.9056100250912584, 'max_delta_step': 10, 'n_estimators': 717, 'grow_policy': 'depthwise'}. Best is trial 38 with value: 0.5479304272797925.\n",
      "[I 2024-12-19 20:56:40,606] Trial 54 finished with value: 0.5476512443428168 and parameters: {'booster': 'gbtree', 'lambda': 9.34316089357414e-08, 'alpha': 0.00017867682674100235, 'eta': 0.011459340567109571, 'gamma': 5.067589079823874e-07, 'max_depth': 25, 'min_child_weight': 5, 'subsample': 0.7635298465891555, 'colsample_bytree': 0.6618622784562641, 'colsample_bylevel': 0.6911332728007142, 'colsample_bynode': 0.8982005399735904, 'max_delta_step': 0, 'n_estimators': 969, 'grow_policy': 'depthwise'}. Best is trial 54 with value: 0.5476512443428168.\n",
      "[I 2024-12-19 20:56:40,638] Trial 56 finished with value: 0.5617658296254575 and parameters: {'booster': 'gbtree', 'lambda': 0.0003788377286654975, 'alpha': 2.6299908024147045e-06, 'eta': 0.01966867272135683, 'gamma': 0.0003380288644938152, 'max_depth': 28, 'min_child_weight': 9, 'subsample': 0.7521598684822977, 'colsample_bytree': 0.7639289974095202, 'colsample_bylevel': 0.3719579131067924, 'colsample_bynode': 0.6846996572031303, 'max_delta_step': 2, 'n_estimators': 972, 'grow_policy': 'depthwise'}. Best is trial 54 with value: 0.5476512443428168.\n",
      "[I 2024-12-19 20:56:53,143] Trial 57 finished with value: 0.5628826220388622 and parameters: {'booster': 'gbtree', 'lambda': 6.191700340440655e-08, 'alpha': 0.00016285860779715334, 'eta': 0.01921829927787932, 'gamma': 3.70670426470035e-08, 'max_depth': 28, 'min_child_weight': 9, 'subsample': 0.7497758177820791, 'colsample_bytree': 0.7544943424386901, 'colsample_bylevel': 0.35154642298529026, 'colsample_bynode': 0.77015922488319, 'max_delta_step': 3, 'n_estimators': 958, 'grow_policy': 'depthwise'}. Best is trial 54 with value: 0.5476512443428168.\n",
      "[I 2024-12-19 20:57:03,073] Trial 58 finished with value: 0.5485992157981814 and parameters: {'booster': 'gbtree', 'lambda': 6.363259488015114e-06, 'alpha': 0.00012995061664884558, 'eta': 0.018272319388752623, 'gamma': 2.867589204523736e-08, 'max_depth': 28, 'min_child_weight': 14, 'subsample': 0.9652584730354774, 'colsample_bytree': 0.8818244277983912, 'colsample_bylevel': 0.6064699997544691, 'colsample_bynode': 0.8956871932877695, 'max_delta_step': 10, 'n_estimators': 505, 'grow_policy': 'depthwise'}. Best is trial 54 with value: 0.5476512443428168.\n",
      "[I 2024-12-19 20:57:22,734] Trial 60 finished with value: 0.5475879938537725 and parameters: {'booster': 'gbtree', 'lambda': 1.3055227354967316e-07, 'alpha': 0.00010354789637718652, 'eta': 0.01902634065902712, 'gamma': 9.462577551541734e-07, 'max_depth': 28, 'min_child_weight': 6, 'subsample': 0.6481949562259259, 'colsample_bytree': 0.7512386820702728, 'colsample_bylevel': 0.6071417992654387, 'colsample_bynode': 0.9389497715718761, 'max_delta_step': 0, 'n_estimators': 945, 'grow_policy': 'depthwise'}. Best is trial 60 with value: 0.5475879938537725.\n",
      "[I 2024-12-19 20:57:31,393] Trial 59 finished with value: 0.5494023405577733 and parameters: {'booster': 'gbtree', 'lambda': 5.678507619367066e-06, 'alpha': 0.00013622971325996238, 'eta': 0.018918564417826567, 'gamma': 4.65045552725887e-08, 'max_depth': 28, 'min_child_weight': 9, 'subsample': 0.9172140321495631, 'colsample_bytree': 0.7671160363779349, 'colsample_bylevel': 0.5984788956107822, 'colsample_bynode': 0.9517633465905382, 'max_delta_step': 1, 'n_estimators': 512, 'grow_policy': 'depthwise'}. Best is trial 60 with value: 0.5475879938537725.\n",
      "[I 2024-12-19 20:57:33,844] Trial 63 finished with value: 0.5572757239351811 and parameters: {'booster': 'gbtree', 'lambda': 5.458218500793813e-06, 'alpha': 0.0034560225256758752, 'eta': 0.038662926471473534, 'gamma': 1.808274421976091e-08, 'max_depth': 23, 'min_child_weight': 14, 'subsample': 0.6474443273378456, 'colsample_bytree': 0.8729369271445043, 'colsample_bylevel': 0.6134980162218225, 'colsample_bynode': 0.9500746618312357, 'max_delta_step': 0, 'n_estimators': 509, 'grow_policy': 'depthwise'}. Best is trial 60 with value: 0.5475879938537725.\n",
      "[I 2024-12-19 20:57:46,420] Trial 61 finished with value: 0.56349467964652 and parameters: {'booster': 'gbtree', 'lambda': 7.812091213005725e-08, 'alpha': 0.0001424217005053778, 'eta': 0.007176592961298372, 'gamma': 6.676023824625731e-07, 'max_depth': 23, 'min_child_weight': 4, 'subsample': 0.9191064958125997, 'colsample_bytree': 0.7492664162876478, 'colsample_bylevel': 0.6059227671003025, 'colsample_bynode': 0.7687165708678309, 'max_delta_step': 1, 'n_estimators': 593, 'grow_policy': 'depthwise'}. Best is trial 60 with value: 0.5475879938537725.\n",
      "[I 2024-12-19 20:57:47,767] Trial 64 finished with value: 0.5522306787962729 and parameters: {'booster': 'gbtree', 'lambda': 8.837915849534074e-08, 'alpha': 6.682755794635481e-05, 'eta': 0.03789223038010035, 'gamma': 1.1700253058066278e-08, 'max_depth': 28, 'min_child_weight': 4, 'subsample': 0.6297320523391334, 'colsample_bytree': 0.9290583012070749, 'colsample_bylevel': 0.6018779552566776, 'colsample_bynode': 0.9422156667196159, 'max_delta_step': 0, 'n_estimators': 487, 'grow_policy': 'depthwise'}. Best is trial 60 with value: 0.5475879938537725.\n",
      "[I 2024-12-19 20:57:49,656] Trial 62 finished with value: 0.5592045918308276 and parameters: {'booster': 'gbtree', 'lambda': 6.065648223112398e-06, 'alpha': 0.00012988598852561073, 'eta': 0.007032882413610553, 'gamma': 6.956720395478617e-07, 'max_depth': 23, 'min_child_weight': 6, 'subsample': 0.9154999561945067, 'colsample_bytree': 0.8410533049439549, 'colsample_bylevel': 0.6042108661512411, 'colsample_bynode': 0.9082451086593858, 'max_delta_step': 0, 'n_estimators': 555, 'grow_policy': 'depthwise'}. Best is trial 60 with value: 0.5475879938537725.\n",
      "[I 2024-12-19 20:57:55,953] Trial 65 finished with value: 0.5543936181385912 and parameters: {'booster': 'gbtree', 'lambda': 1.1617425488159142e-07, 'alpha': 6.796860159284379e-05, 'eta': 0.04324936059679494, 'gamma': 9.257637492055854e-07, 'max_depth': 23, 'min_child_weight': 6, 'subsample': 0.655383744119208, 'colsample_bytree': 0.8845236453192508, 'colsample_bylevel': 0.6985140152090743, 'colsample_bynode': 0.9251172155281638, 'max_delta_step': 0, 'n_estimators': 770, 'grow_policy': 'depthwise'}. Best is trial 60 with value: 0.5475879938537725.\n",
      "[I 2024-12-19 20:57:59,757] Trial 68 finished with value: 0.5563410152875132 and parameters: {'booster': 'gbtree', 'lambda': 3.051420709413279e-08, 'alpha': 1.7369254507525907e-05, 'eta': 0.05169628063517929, 'gamma': 8.399280297416198e-07, 'max_depth': 26, 'min_child_weight': 6, 'subsample': 0.5946089571591032, 'colsample_bytree': 0.8330517328774183, 'colsample_bylevel': 0.7288670725466154, 'colsample_bynode': 0.8810927323176738, 'max_delta_step': 0, 'n_estimators': 115, 'grow_policy': 'depthwise'}. Best is trial 60 with value: 0.5475879938537725.\n",
      "[I 2024-12-19 20:58:00,008] Trial 66 finished with value: 0.9042347237743965 and parameters: {'booster': 'gbtree', 'lambda': 1.1899511039522388e-07, 'alpha': 1.6365214830475366e-05, 'eta': 0.004235868603589151, 'gamma': 8.915254329304078e-07, 'max_depth': 26, 'min_child_weight': 4, 'subsample': 0.6112384417026416, 'colsample_bytree': 0.7358761613470798, 'colsample_bylevel': 0.7073294050887007, 'colsample_bynode': 0.9243964885906804, 'max_delta_step': 0, 'n_estimators': 269, 'grow_policy': 'depthwise'}. Best is trial 60 with value: 0.5475879938537725.\n",
      "[I 2024-12-19 20:58:07,259] Trial 67 finished with value: 0.5618177262591643 and parameters: {'booster': 'gbtree', 'lambda': 3.1743206828073195e-08, 'alpha': 7.882931012968967e-05, 'eta': 0.061698368945266285, 'gamma': 1.2444864189711656e-06, 'max_depth': 26, 'min_child_weight': 6, 'subsample': 0.6179820618975594, 'colsample_bytree': 0.9506032295538824, 'colsample_bylevel': 0.5441054354907587, 'colsample_bynode': 0.9231496350265301, 'max_delta_step': 0, 'n_estimators': 887, 'grow_policy': 'depthwise'}. Best is trial 60 with value: 0.5475879938537725.\n",
      "[I 2024-12-19 20:58:13,813] Trial 70 finished with value: 0.5598898463169403 and parameters: {'booster': 'gbtree', 'lambda': 8.318845064049417e-07, 'alpha': 1.1151838612316049e-08, 'eta': 0.058131389445233314, 'gamma': 5.36964391295479e-06, 'max_depth': 26, 'min_child_weight': 14, 'subsample': 0.5856813773362182, 'colsample_bytree': 0.8303132888027178, 'colsample_bylevel': 0.6548583445301426, 'colsample_bynode': 0.8690656586156916, 'max_delta_step': 3, 'n_estimators': 649, 'grow_policy': 'depthwise'}. Best is trial 60 with value: 0.5475879938537725.\n",
      "[I 2024-12-19 20:58:14,128] Trial 71 finished with value: 0.6332009042438423 and parameters: {'booster': 'gbtree', 'lambda': 8.303695505259382e-07, 'alpha': 0.0006709316531915745, 'eta': 0.011823726208601617, 'gamma': 2.867611265740522e-07, 'max_depth': 26, 'min_child_weight': 15, 'subsample': 0.41415327632694215, 'colsample_bytree': 0.7300612647578941, 'colsample_bylevel': 0.6589293363260577, 'colsample_bynode': 0.8743342812922901, 'max_delta_step': 4, 'n_estimators': 270, 'grow_policy': 'depthwise'}. Best is trial 60 with value: 0.5475879938537725.\n",
      "[I 2024-12-19 20:58:31,950] Trial 69 finished with value: 0.6377389688247036 and parameters: {'booster': 'gbtree', 'lambda': 2.8150850006071132e-08, 'alpha': 1.6091371481896275e-05, 'eta': 0.003841016545311936, 'gamma': 2.924738779299943e-07, 'max_depth': 26, 'min_child_weight': 15, 'subsample': 0.3837925041221973, 'colsample_bytree': 0.879928774812146, 'colsample_bylevel': 0.702118510636582, 'colsample_bynode': 0.8707180668267046, 'max_delta_step': 1, 'n_estimators': 760, 'grow_policy': 'depthwise'}. Best is trial 60 with value: 0.5475879938537725.\n",
      "[I 2024-12-19 20:59:16,213] Trial 72 finished with value: 0.5564763464668708 and parameters: {'booster': 'gbtree', 'lambda': 8.162569853190215e-07, 'alpha': 0.0006791580725141146, 'eta': 0.012039863459072991, 'gamma': 5.115914850453129e-06, 'max_depth': 24, 'min_child_weight': 14, 'subsample': 0.557492751360695, 'colsample_bytree': 0.9537434257810148, 'colsample_bylevel': 0.6596229090687369, 'colsample_bynode': 0.8810177068285009, 'max_delta_step': 4, 'n_estimators': 881, 'grow_policy': 'depthwise'}. Best is trial 60 with value: 0.5475879938537725.\n",
      "[I 2024-12-19 20:59:16,675] Trial 73 finished with value: 0.5457079564510654 and parameters: {'booster': 'gbtree', 'lambda': 1.9298147417402374e-07, 'alpha': 2.3782586714336497e-08, 'eta': 0.012277286861584849, 'gamma': 4.4896584932939785e-06, 'max_depth': 29, 'min_child_weight': 15, 'subsample': 0.9618554464488207, 'colsample_bytree': 0.7259268237374549, 'colsample_bylevel': 0.6637196531641646, 'colsample_bynode': 0.8778471659110014, 'max_delta_step': 8, 'n_estimators': 656, 'grow_policy': 'depthwise'}. Best is trial 73 with value: 0.5457079564510654.\n",
      "[I 2024-12-19 21:03:40,776] Trial 74 finished with value: 0.569055115831351 and parameters: {'booster': 'dart', 'lambda': 2.0228330976170708e-07, 'alpha': 0.0006548056279152132, 'eta': 0.013640370844350746, 'gamma': 3.403195669268761e-07, 'max_depth': 24, 'min_child_weight': 15, 'subsample': 0.87940908648897, 'colsample_bytree': 0.7271808182587098, 'colsample_bylevel': 0.7866689181636892, 'colsample_bynode': 0.9720656866309519, 'max_delta_step': 1, 'n_estimators': 386, 'grow_policy': 'depthwise', 'sample_type': 'weighted', 'normalize_type': 'forest', 'rate_drop': 0.136390083844163, 'skip_drop': 0.4559117271248942}. Best is trial 73 with value: 0.5457079564510654.\n",
      "[I 2024-12-19 21:04:42,977] Trial 79 finished with value: 0.5563162774327269 and parameters: {'booster': 'gbtree', 'lambda': 5.960895171976717e-07, 'alpha': 2.488648854238646e-08, 'eta': 0.020733688469328337, 'gamma': 3.0318487251511962e-05, 'max_depth': 29, 'min_child_weight': 5, 'subsample': 0.9568368187504069, 'colsample_bytree': 0.7137269491638227, 'colsample_bylevel': 0.6291125533856329, 'colsample_bynode': 0.8244501297525085, 'max_delta_step': 9, 'n_estimators': 692, 'grow_policy': 'depthwise'}. Best is trial 73 with value: 0.5457079564510654.\n",
      "[I 2024-12-19 21:04:43,082] Trial 78 finished with value: 0.5561165123960244 and parameters: {'booster': 'dart', 'lambda': 2.782201889098507e-07, 'alpha': 2.1532019200738328e-08, 'eta': 0.02176669615418848, 'gamma': 8.007744122012774e-08, 'max_depth': 29, 'min_child_weight': 13, 'subsample': 0.8863552723536574, 'colsample_bytree': 0.8612120033706198, 'colsample_bylevel': 0.7415542885098054, 'colsample_bynode': 0.8225991552685206, 'max_delta_step': 8, 'n_estimators': 391, 'grow_policy': 'depthwise', 'sample_type': 'weighted', 'normalize_type': 'forest', 'rate_drop': 0.11373795392782304, 'skip_drop': 0.4508958321375737}. Best is trial 73 with value: 0.5457079564510654.\n",
      "[I 2024-12-19 21:04:43,972] Trial 75 finished with value: 0.5574399569165188 and parameters: {'booster': 'dart', 'lambda': 7.460059272667813e-07, 'alpha': 0.011271606394229429, 'eta': 0.012868580281596417, 'gamma': 8.92784680499298e-08, 'max_depth': 24, 'min_child_weight': 5, 'subsample': 0.9574948905949277, 'colsample_bytree': 0.911885972992138, 'colsample_bylevel': 0.7432430394118108, 'colsample_bynode': 0.9775708763815438, 'max_delta_step': 1, 'n_estimators': 412, 'grow_policy': 'depthwise', 'sample_type': 'weighted', 'normalize_type': 'forest', 'rate_drop': 0.13791372167335014, 'skip_drop': 0.47436114362633996}. Best is trial 73 with value: 0.5457079564510654.\n",
      "[I 2024-12-19 21:05:28,388] Trial 7 finished with value: 0.5936532021535026 and parameters: {'booster': 'dart', 'lambda': 2.3120584876690057e-05, 'alpha': 1.0359252047932663, 'eta': 0.040726719729339826, 'gamma': 0.0028250340173229978, 'max_depth': 10, 'min_child_weight': 9, 'subsample': 0.6657644459473914, 'colsample_bytree': 0.563483056062577, 'colsample_bylevel': 0.5141577384988094, 'colsample_bynode': 0.4763347473415668, 'max_delta_step': 9, 'n_estimators': 1046, 'grow_policy': 'lossguide', 'sample_type': 'uniform', 'normalize_type': 'tree', 'rate_drop': 0.2862437487885446, 'skip_drop': 0.36121757939859866}. Best is trial 73 with value: 0.5457079564510654.\n",
      "[I 2024-12-19 21:07:10,421] Trial 11 finished with value: 0.6859815114661736 and parameters: {'booster': 'dart', 'lambda': 0.00869412478256208, 'alpha': 2.5796650719637347e-06, 'eta': 0.004694185746542089, 'gamma': 1.6070849224756478e-07, 'max_depth': 8, 'min_child_weight': 15, 'subsample': 0.3890601407307546, 'colsample_bytree': 0.34720236722568487, 'colsample_bylevel': 0.9003388960401788, 'colsample_bynode': 0.9237554233291103, 'max_delta_step': 1, 'n_estimators': 1900, 'grow_policy': 'lossguide', 'sample_type': 'weighted', 'normalize_type': 'forest', 'rate_drop': 0.40076332396812125, 'skip_drop': 0.31176681016429314}. Best is trial 73 with value: 0.5457079564510654.\n",
      "[I 2024-12-19 21:07:46,782] Trial 84 finished with value: 0.5516973690044856 and parameters: {'booster': 'gbtree', 'lambda': 1.1389033960947395e-08, 'alpha': 5.4168633467371835e-08, 'eta': 0.016757369377361636, 'gamma': 5.296127060786746e-06, 'max_depth': 28, 'min_child_weight': 12, 'subsample': 0.9405970399426286, 'colsample_bytree': 0.8146914697736607, 'colsample_bylevel': 0.6774070965874178, 'colsample_bynode': 0.7869909986748985, 'max_delta_step': 8, 'n_estimators': 1163, 'grow_policy': 'depthwise'}. Best is trial 73 with value: 0.5457079564510654.\n",
      "[I 2024-12-19 21:08:12,193] Trial 81 finished with value: 0.5587804032489958 and parameters: {'booster': 'gbtree', 'lambda': 2.6599018751322137e-06, 'alpha': 1.6504214910848993e-07, 'eta': 0.009296538255223932, 'gamma': 2.7482933993487598e-08, 'max_depth': 28, 'min_child_weight': 7, 'subsample': 0.6770127669610633, 'colsample_bytree': 0.8169815892132906, 'colsample_bylevel': 0.6826733665823821, 'colsample_bynode': 0.9691572293534362, 'max_delta_step': 8, 'n_estimators': 442, 'grow_policy': 'lossguide'}. Best is trial 73 with value: 0.5457079564510654.\n",
      "[I 2024-12-19 21:08:43,155] Trial 82 finished with value: 0.5508196254690698 and parameters: {'booster': 'gbtree', 'lambda': 4.390676480746702e-06, 'alpha': 1.2455492698159058e-07, 'eta': 0.0167997853748685, 'gamma': 0.00012110660417728543, 'max_depth': 28, 'min_child_weight': 7, 'subsample': 0.6866030123440743, 'colsample_bytree': 0.8161736542068285, 'colsample_bylevel': 0.5474922372517205, 'colsample_bynode': 0.6585626523588781, 'max_delta_step': 8, 'n_estimators': 1142, 'grow_policy': 'lossguide'}. Best is trial 73 with value: 0.5457079564510654.\n",
      "[I 2024-12-19 21:08:45,560] Trial 86 finished with value: 0.5705419380855707 and parameters: {'booster': 'gbtree', 'lambda': 9.773514610958755e-06, 'alpha': 0.0002064450174641309, 'eta': 0.025345214472267806, 'gamma': 6.440569649074277e-05, 'max_depth': 25, 'min_child_weight': 3, 'subsample': 0.9787347046992054, 'colsample_bytree': 0.5877783292096057, 'colsample_bylevel': 0.6353396805262468, 'colsample_bynode': 0.9035148043041287, 'max_delta_step': 9, 'n_estimators': 1142, 'grow_policy': 'depthwise'}. Best is trial 73 with value: 0.5457079564510654.\n",
      "[I 2024-12-19 21:08:54,979] Trial 87 finished with value: 0.6375878774702803 and parameters: {'booster': 'gbtree', 'lambda': 2.5945302197802327e-07, 'alpha': 5.154869100637006e-07, 'eta': 0.006715488642211595, 'gamma': 3.4780528757594894e-05, 'max_depth': 3, 'min_child_weight': 3, 'subsample': 0.7247290245407416, 'colsample_bytree': 0.7788326750814238, 'colsample_bylevel': 0.49754807516275545, 'colsample_bynode': 0.7092344289045445, 'max_delta_step': 9, 'n_estimators': 802, 'grow_policy': 'depthwise'}. Best is trial 73 with value: 0.5457079564510654.\n",
      "[I 2024-12-19 21:09:04,105] Trial 80 finished with value: 0.551802071103795 and parameters: {'booster': 'gbtree', 'lambda': 1.7722997959118962e-07, 'alpha': 3.333591580865338e-08, 'eta': 0.016817232743486416, 'gamma': 7.712426497479866e-08, 'max_depth': 28, 'min_child_weight': 7, 'subsample': 0.9714161706747577, 'colsample_bytree': 0.8567962324476617, 'colsample_bylevel': 0.7314371213797147, 'colsample_bynode': 0.825192585591251, 'max_delta_step': 8, 'n_estimators': 420, 'grow_policy': 'lossguide'}. Best is trial 73 with value: 0.5457079564510654.\n",
      "[I 2024-12-19 21:09:14,520] Trial 88 finished with value: 0.5640789414634306 and parameters: {'booster': 'gbtree', 'lambda': 5.403504086135733e-05, 'alpha': 4.63777838597226e-07, 'eta': 0.03141782020060118, 'gamma': 1.4876939838258921e-06, 'max_depth': 14, 'min_child_weight': 8, 'subsample': 0.979716500877242, 'colsample_bytree': 0.6722723257904926, 'colsample_bylevel': 0.4933279870359132, 'colsample_bynode': 0.7463059134174442, 'max_delta_step': 10, 'n_estimators': 806, 'grow_policy': 'depthwise'}. Best is trial 73 with value: 0.5457079564510654.\n",
      "[I 2024-12-19 21:09:20,771] Trial 89 finished with value: 0.5586621833886876 and parameters: {'booster': 'gbtree', 'lambda': 0.0001028386272297814, 'alpha': 3.1652516706540204e-07, 'eta': 0.03149115140413014, 'gamma': 7.0434706500399796e-06, 'max_depth': 13, 'min_child_weight': 8, 'subsample': 0.9778068708502866, 'colsample_bytree': 0.6765048605847491, 'colsample_bylevel': 0.4640628191030991, 'colsample_bynode': 0.7485240272322172, 'max_delta_step': 10, 'n_estimators': 1007, 'grow_policy': 'depthwise'}. Best is trial 73 with value: 0.5457079564510654.\n",
      "[I 2024-12-19 21:09:27,456] Trial 90 finished with value: 0.5553329074494925 and parameters: {'booster': 'gbtree', 'lambda': 8.801352885039119e-05, 'alpha': 4.466066488905484e-06, 'eta': 0.03273332494193141, 'gamma': 8.28833181620541e-06, 'max_depth': 14, 'min_child_weight': 8, 'subsample': 0.9445135545982521, 'colsample_bytree': 0.7067992150835718, 'colsample_bylevel': 0.557323594070839, 'colsample_bynode': 0.7508952264373115, 'max_delta_step': 10, 'n_estimators': 1009, 'grow_policy': 'depthwise'}. Best is trial 73 with value: 0.5457079564510654.\n",
      "[I 2024-12-19 21:10:19,495] Trial 91 finished with value: 0.5505277565168937 and parameters: {'booster': 'gbtree', 'lambda': 9.433658496282059e-05, 'alpha': 6.165012224676547e-06, 'eta': 0.008977763030511255, 'gamma': 7.946562292821882e-06, 'max_depth': 29, 'min_child_weight': 14, 'subsample': 0.943633131154375, 'colsample_bytree': 0.6422931526662696, 'colsample_bylevel': 0.5607652706107165, 'colsample_bynode': 0.7837690090797118, 'max_delta_step': 10, 'n_estimators': 1044, 'grow_policy': 'depthwise'}. Best is trial 73 with value: 0.5457079564510654.\n",
      "[I 2024-12-19 21:10:25,419] Trial 92 finished with value: 0.547560724121556 and parameters: {'booster': 'gbtree', 'lambda': 1.3396790309554123e-06, 'alpha': 7.080551391477043e-06, 'eta': 0.009060946873572989, 'gamma': 2.8765977648968754e-06, 'max_depth': 29, 'min_child_weight': 14, 'subsample': 0.9388816385974024, 'colsample_bytree': 0.6450227521862704, 'colsample_bylevel': 0.5834535907547065, 'colsample_bynode': 0.855077288885427, 'max_delta_step': 10, 'n_estimators': 1035, 'grow_policy': 'depthwise'}. Best is trial 73 with value: 0.5457079564510654.\n",
      "[I 2024-12-19 21:10:39,642] Trial 93 finished with value: 0.5452307215638383 and parameters: {'booster': 'gbtree', 'lambda': 2.806519745479964e-05, 'alpha': 8.971705154637653e-06, 'eta': 0.010106928111265548, 'gamma': 3.587578552074615e-06, 'max_depth': 29, 'min_child_weight': 13, 'subsample': 0.9986782885481962, 'colsample_bytree': 0.6404365813951769, 'colsample_bylevel': 0.5814819838786656, 'colsample_bynode': 0.858396343604288, 'max_delta_step': 10, 'n_estimators': 1288, 'grow_policy': 'depthwise'}. Best is trial 93 with value: 0.5452307215638383.\n",
      "[I 2024-12-19 21:11:03,660] Trial 95 finished with value: 0.5659346964692115 and parameters: {'booster': 'gbtree', 'lambda': 3.5599634651807248e-06, 'alpha': 4.8865285628607647e-05, 'eta': 0.006353788803449105, 'gamma': 1.9773123657761917e-06, 'max_depth': 30, 'min_child_weight': 13, 'subsample': 0.9290751439630155, 'colsample_bytree': 0.7757006462522372, 'colsample_bylevel': 0.6243398958399891, 'colsample_bynode': 0.8579218314586704, 'max_delta_step': 9, 'n_estimators': 644, 'grow_policy': 'depthwise'}. Best is trial 93 with value: 0.5452307215638383.\n",
      "[I 2024-12-19 21:11:17,062] Trial 94 finished with value: 0.5523494711250471 and parameters: {'booster': 'gbtree', 'lambda': 2.3365700410393713e-05, 'alpha': 0.0002501188368923614, 'eta': 0.010347313833770263, 'gamma': 3.5798231851340084e-06, 'max_depth': 27, 'min_child_weight': 15, 'subsample': 0.8716959312485029, 'colsample_bytree': 0.7743724488656599, 'colsample_bylevel': 0.6236427581519315, 'colsample_bynode': 0.7060215068627296, 'max_delta_step': 7, 'n_estimators': 928, 'grow_policy': 'depthwise'}. Best is trial 93 with value: 0.5452307215638383.\n",
      "[I 2024-12-19 21:11:32,225] Trial 77 finished with value: 0.552582747264807 and parameters: {'booster': 'dart', 'lambda': 1.7103227795176645e-07, 'alpha': 0.0002790722652270433, 'eta': 0.022164774614384056, 'gamma': 7.586112426641327e-08, 'max_depth': 28, 'min_child_weight': 3, 'subsample': 0.6729015975976423, 'colsample_bytree': 0.9176916217378845, 'colsample_bylevel': 0.9091152676918133, 'colsample_bynode': 0.8196492253456845, 'max_delta_step': 8, 'n_estimators': 388, 'grow_policy': 'lossguide', 'sample_type': 'weighted', 'normalize_type': 'forest', 'rate_drop': 0.11519213422076369, 'skip_drop': 0.49007144177497086}. Best is trial 93 with value: 0.5452307215638383.\n",
      "[I 2024-12-19 21:11:48,108] Trial 83 finished with value: 0.5504649072368359 and parameters: {'booster': 'gbtree', 'lambda': 9.767371755387152e-06, 'alpha': 6.775932716996382e-08, 'eta': 0.009633275492215314, 'gamma': 3.2204752272899136e-08, 'max_depth': 14, 'min_child_weight': 7, 'subsample': 0.9759836752598995, 'colsample_bytree': 0.8162641504277887, 'colsample_bylevel': 0.6781979339201295, 'colsample_bynode': 0.6998340112941561, 'max_delta_step': 8, 'n_estimators': 1143, 'grow_policy': 'lossguide'}. Best is trial 93 with value: 0.5452307215638383.\n",
      "[I 2024-12-19 21:12:00,806] Trial 96 finished with value: 0.5514664408906568 and parameters: {'booster': 'gbtree', 'lambda': 1.277697228508012e-06, 'alpha': 4.324328746707479e-05, 'eta': 0.008029382725930326, 'gamma': 1.9781581598562897e-06, 'max_depth': 30, 'min_child_weight': 13, 'subsample': 0.8961982202463377, 'colsample_bytree': 0.5061175127384923, 'colsample_bylevel': 0.5826193021454001, 'colsample_bynode': 0.8568924002137102, 'max_delta_step': 9, 'n_estimators': 1320, 'grow_policy': 'depthwise'}. Best is trial 93 with value: 0.5452307215638383.\n",
      "[I 2024-12-19 21:12:04,545] Trial 99 finished with value: 0.5749404889398935 and parameters: {'booster': 'gbtree', 'lambda': 1.4098380005170406e-06, 'alpha': 1.4260292026644336e-06, 'eta': 0.007569958548605989, 'gamma': 1.2857622039799073e-06, 'max_depth': 29, 'min_child_weight': 14, 'subsample': 0.9013350833766263, 'colsample_bytree': 0.6202252684649662, 'colsample_bylevel': 0.5823139650797247, 'colsample_bynode': 0.896037223921694, 'max_delta_step': 10, 'n_estimators': 566, 'grow_policy': 'depthwise'}. Best is trial 93 with value: 0.5452307215638383.\n",
      "[I 2024-12-19 21:12:15,929] Trial 97 finished with value: 0.5830162308811406 and parameters: {'booster': 'gbtree', 'lambda': 1.3400325214946363e-06, 'alpha': 1.481615633630797e-06, 'eta': 0.0029087647082400576, 'gamma': 2.1278874445303695e-05, 'max_depth': 29, 'min_child_weight': 14, 'subsample': 0.9996282263769319, 'colsample_bytree': 0.6242896594301319, 'colsample_bylevel': 0.5853831093515589, 'colsample_bynode': 0.9368183483349668, 'max_delta_step': 9, 'n_estimators': 1300, 'grow_policy': 'depthwise'}. Best is trial 93 with value: 0.5452307215638383.\n",
      "[I 2024-12-19 21:12:39,258] Trial 101 finished with value: 0.5474861905547529 and parameters: {'booster': 'gbtree', 'lambda': 0.0003619224941868435, 'alpha': 2.2493128702728146e-06, 'eta': 0.015043492785780325, 'gamma': 4.768779411173737e-07, 'max_depth': 29, 'min_child_weight': 14, 'subsample': 0.9918096449415862, 'colsample_bytree': 0.608428520664866, 'colsample_bylevel': 0.5824022017601309, 'colsample_bynode': 0.8877583384934057, 'max_delta_step': 10, 'n_estimators': 586, 'grow_policy': 'depthwise'}. Best is trial 93 with value: 0.5452307215638383.\n",
      "[I 2024-12-19 21:12:39,331] Trial 98 finished with value: 0.5471943308904798 and parameters: {'booster': 'gbtree', 'lambda': 1.5017753892838555e-06, 'alpha': 1.7040450909918413e-06, 'eta': 0.007817994202816635, 'gamma': 1.87817892332719e-05, 'max_depth': 29, 'min_child_weight': 14, 'subsample': 0.896909607490847, 'colsample_bytree': 0.6487892973315139, 'colsample_bylevel': 0.5840211638305396, 'colsample_bynode': 0.8906401947479394, 'max_delta_step': 10, 'n_estimators': 1241, 'grow_policy': 'depthwise'}. Best is trial 93 with value: 0.5452307215638383.\n",
      "[I 2024-12-19 21:12:57,120] Trial 102 finished with value: 0.5484411435113109 and parameters: {'booster': 'gbtree', 'lambda': 0.00035270390131837356, 'alpha': 1.2099821482127697e-05, 'eta': 0.015253524598261254, 'gamma': 1.6902415775729836e-05, 'max_depth': 29, 'min_child_weight': 14, 'subsample': 0.9922186477501351, 'colsample_bytree': 0.5861057769324227, 'colsample_bylevel': 0.6443066051766183, 'colsample_bynode': 0.8034074840993988, 'max_delta_step': 10, 'n_estimators': 1248, 'grow_policy': 'depthwise'}. Best is trial 93 with value: 0.5452307215638383.\n",
      "[I 2024-12-19 21:13:10,614] Trial 103 finished with value: 0.548715710854383 and parameters: {'booster': 'gbtree', 'lambda': 4.598471315612932e-08, 'alpha': 2.2486401957231203e-05, 'eta': 0.01232470101105733, 'gamma': 4.94870748798713e-07, 'max_depth': 30, 'min_child_weight': 15, 'subsample': 0.9534532849303974, 'colsample_bytree': 0.6465409945444325, 'colsample_bylevel': 0.6467075308227215, 'colsample_bynode': 0.8011266646479638, 'max_delta_step': 10, 'n_estimators': 843, 'grow_policy': 'depthwise'}. Best is trial 93 with value: 0.5452307215638383.\n",
      "[I 2024-12-19 21:13:14,212] Trial 85 finished with value: 0.5599553947119251 and parameters: {'booster': 'gbtree', 'lambda': 3.4330984227196343e-06, 'alpha': 8.162179783537529e-08, 'eta': 0.03099007122523284, 'gamma': 2.5556684487322162e-08, 'max_depth': 14, 'min_child_weight': 3, 'subsample': 0.9725611619896883, 'colsample_bytree': 0.7744159878589374, 'colsample_bylevel': 0.6848655628316981, 'colsample_bynode': 0.6999540932440161, 'max_delta_step': 10, 'n_estimators': 820, 'grow_policy': 'lossguide'}. Best is trial 93 with value: 0.5452307215638383.\n",
      "[I 2024-12-19 21:13:17,141] Trial 100 finished with value: 0.5467436120206759 and parameters: {'booster': 'gbtree', 'lambda': 1.473267815916699e-06, 'alpha': 1.0085079328430505e-05, 'eta': 0.007837899002567683, 'gamma': 4.1608829375585114e-07, 'max_depth': 29, 'min_child_weight': 14, 'subsample': 0.995211544557597, 'colsample_bytree': 0.6099371578581905, 'colsample_bylevel': 0.5901229952700929, 'colsample_bynode': 0.8604194874487429, 'max_delta_step': 10, 'n_estimators': 1332, 'grow_policy': 'depthwise'}. Best is trial 93 with value: 0.5452307215638383.\n",
      "[I 2024-12-19 21:13:19,249] Trial 105 finished with value: 0.6096521196116731 and parameters: {'booster': 'gbtree', 'lambda': 0.0003926043399657107, 'alpha': 2.3779150657773e-06, 'eta': 0.014424256189843882, 'gamma': 5.317100659146574e-07, 'max_depth': 29, 'min_child_weight': 13, 'subsample': 0.82937820442943, 'colsample_bytree': 0.6002610248845157, 'colsample_bylevel': 0.50897367256923, 'colsample_bynode': 0.3034134349319364, 'max_delta_step': 10, 'n_estimators': 1255, 'grow_policy': 'depthwise'}. Best is trial 93 with value: 0.5452307215638383.\n",
      "[I 2024-12-19 21:13:54,912] Trial 104 finished with value: 0.5586251736332623 and parameters: {'booster': 'gbtree', 'lambda': 0.0002550876654537154, 'alpha': 8.846305537432123e-06, 'eta': 0.004808600293381922, 'gamma': 4.2552963700840736e-07, 'max_depth': 30, 'min_child_weight': 13, 'subsample': 0.8325043431912349, 'colsample_bytree': 0.6078347040808963, 'colsample_bylevel': 0.6457761695710609, 'colsample_bynode': 0.802519029624508, 'max_delta_step': 10, 'n_estimators': 1238, 'grow_policy': 'depthwise'}. Best is trial 93 with value: 0.5452307215638383.\n",
      "[I 2024-12-19 21:13:55,130] Trial 76 finished with value: 0.5516104051068924 and parameters: {'booster': 'dart', 'lambda': 8.420355603723614e-07, 'alpha': 0.00021337687518481742, 'eta': 0.021210650981428415, 'gamma': 6.220564258153502e-08, 'max_depth': 29, 'min_child_weight': 3, 'subsample': 0.6700065526304538, 'colsample_bytree': 0.7169300532319994, 'colsample_bylevel': 0.762690733672106, 'colsample_bynode': 0.815179335679703, 'max_delta_step': 7, 'n_estimators': 672, 'grow_policy': 'lossguide', 'sample_type': 'weighted', 'normalize_type': 'forest', 'rate_drop': 0.1094664045627507, 'skip_drop': 0.4733389971564397}. Best is trial 93 with value: 0.5452307215638383.\n",
      "[I 2024-12-19 21:13:57,338] Trial 106 finished with value: 0.5504540706544041 and parameters: {'booster': 'gbtree', 'lambda': 0.00032772696254108777, 'alpha': 7.728846307451949e-06, 'eta': 0.01496315454126529, 'gamma': 1.99696009406052e-05, 'max_depth': 29, 'min_child_weight': 12, 'subsample': 0.9909776179291614, 'colsample_bytree': 0.6019924985422203, 'colsample_bylevel': 0.5288792934893155, 'colsample_bynode': 0.8366417255079256, 'max_delta_step': 10, 'n_estimators': 1231, 'grow_policy': 'depthwise'}. Best is trial 93 with value: 0.5452307215638383.\n",
      "[I 2024-12-19 21:14:10,802] Trial 108 finished with value: 0.5515963980147184 and parameters: {'booster': 'gbtree', 'lambda': 0.00043346122708285925, 'alpha': 1.0281565508199815e-05, 'eta': 0.014017967052318765, 'gamma': 1.8285079430453604e-05, 'max_depth': 29, 'min_child_weight': 13, 'subsample': 0.9913011201760111, 'colsample_bytree': 0.5746773899356592, 'colsample_bylevel': 0.5283151787076548, 'colsample_bynode': 0.9132877351555495, 'max_delta_step': 10, 'n_estimators': 1361, 'grow_policy': 'depthwise'}. Best is trial 93 with value: 0.5452307215638383.\n",
      "[I 2024-12-19 21:14:18,639] Trial 109 finished with value: 0.5499809557917784 and parameters: {'booster': 'gbtree', 'lambda': 0.00036331321964904665, 'alpha': 9.423656787983782e-06, 'eta': 0.014458754355356726, 'gamma': 1.7550188751808593e-05, 'max_depth': 29, 'min_child_weight': 13, 'subsample': 0.9996592707109215, 'colsample_bytree': 0.605746635872243, 'colsample_bylevel': 0.5312154870619928, 'colsample_bynode': 0.835519099631612, 'max_delta_step': 10, 'n_estimators': 1263, 'grow_policy': 'depthwise'}. Best is trial 93 with value: 0.5452307215638383.\n",
      "[I 2024-12-19 21:14:28,572] Trial 107 finished with value: 0.5616201781396293 and parameters: {'booster': 'gbtree', 'lambda': 0.0035576471042192944, 'alpha': 9.052649285427627e-06, 'eta': 0.004753368523800613, 'gamma': 0.00011880776950076686, 'max_depth': 29, 'min_child_weight': 13, 'subsample': 0.9904969793022923, 'colsample_bytree': 0.6003761584103205, 'colsample_bylevel': 0.5397795936779937, 'colsample_bynode': 0.833635055417189, 'max_delta_step': 10, 'n_estimators': 1238, 'grow_policy': 'depthwise'}. Best is trial 93 with value: 0.5452307215638383.\n",
      "[I 2024-12-19 21:14:59,764] Trial 110 finished with value: 0.5494930401652179 and parameters: {'booster': 'gbtree', 'lambda': 0.000256081933224639, 'alpha': 7.533282192257898e-06, 'eta': 0.006446635132944239, 'gamma': 2.108420506626122e-05, 'max_depth': 29, 'min_child_weight': 12, 'subsample': 0.9894745316826566, 'colsample_bytree': 0.5735787671196326, 'colsample_bylevel': 0.5937765811403867, 'colsample_bynode': 0.8373150032723763, 'max_delta_step': 10, 'n_estimators': 1467, 'grow_policy': 'depthwise'}. Best is trial 93 with value: 0.5452307215638383.\n",
      "[I 2024-12-19 21:15:26,072] Trial 111 finished with value: 0.5492908365149397 and parameters: {'booster': 'gbtree', 'lambda': 0.0007874016731646006, 'alpha': 1.0562010706416082e-05, 'eta': 0.006309257597185615, 'gamma': 1.5037492051034598e-05, 'max_depth': 29, 'min_child_weight': 12, 'subsample': 0.9952666921871913, 'colsample_bytree': 0.574547194639546, 'colsample_bylevel': 0.5357642813635691, 'colsample_bynode': 0.8348745042699465, 'max_delta_step': 10, 'n_estimators': 1336, 'grow_policy': 'depthwise'}. Best is trial 93 with value: 0.5452307215638383.\n",
      "[I 2024-12-19 21:15:26,719] Trial 112 finished with value: 0.5513020822369651 and parameters: {'booster': 'gbtree', 'lambda': 0.0014960330571467204, 'alpha': 9.081279586886547e-06, 'eta': 0.0062000867586143845, 'gamma': 3.8517367479580556e-06, 'max_depth': 27, 'min_child_weight': 12, 'subsample': 0.9912186774233076, 'colsample_bytree': 0.5774793667432111, 'colsample_bylevel': 0.5286987182984872, 'colsample_bynode': 0.8344447917768936, 'max_delta_step': 10, 'n_estimators': 1357, 'grow_policy': 'depthwise'}. Best is trial 93 with value: 0.5452307215638383.\n",
      "[I 2024-12-19 21:15:32,896] Trial 113 finished with value: 0.54752431358651 and parameters: {'booster': 'gbtree', 'lambda': 0.0006177082117960252, 'alpha': 2.6939963223838605e-06, 'eta': 0.006364719246795919, 'gamma': 1.8835647686920303e-07, 'max_depth': 27, 'min_child_weight': 12, 'subsample': 0.9883669415101527, 'colsample_bytree': 0.5711923066512862, 'colsample_bylevel': 0.5390036663638863, 'colsample_bynode': 0.9103162643335533, 'max_delta_step': 10, 'n_estimators': 1391, 'grow_policy': 'depthwise'}. Best is trial 93 with value: 0.5452307215638383.\n",
      "[I 2024-12-19 21:15:47,109] Trial 114 finished with value: 0.5467058333290721 and parameters: {'booster': 'gbtree', 'lambda': 0.001394252399558889, 'alpha': 5.114898901961269e-06, 'eta': 0.006160911417770477, 'gamma': 1.843722714467357e-07, 'max_depth': 27, 'min_child_weight': 12, 'subsample': 0.790584285851297, 'colsample_bytree': 0.5827132526173562, 'colsample_bylevel': 0.5908065389404595, 'colsample_bynode': 0.8630788083771226, 'max_delta_step': 9, 'n_estimators': 1479, 'grow_policy': 'depthwise'}. Best is trial 93 with value: 0.5452307215638383.\n",
      "[I 2024-12-19 21:15:48,109] Trial 116 finished with value: 0.548047587969427 and parameters: {'booster': 'gbtree', 'lambda': 0.00107791724497257, 'alpha': 3.2635168746588224e-06, 'eta': 0.008470943289662313, 'gamma': 3.762114382609992e-06, 'max_depth': 27, 'min_child_weight': 12, 'subsample': 0.7867195493456812, 'colsample_bytree': 0.6557818824989442, 'colsample_bylevel': 0.5925970858272304, 'colsample_bynode': 0.8558244178594989, 'max_delta_step': 9, 'n_estimators': 1476, 'grow_policy': 'depthwise'}. Best is trial 93 with value: 0.5452307215638383.\n",
      "[I 2024-12-19 21:15:50,607] Trial 115 finished with value: 0.5602686921564901 and parameters: {'booster': 'gbtree', 'lambda': 0.0021534586808355906, 'alpha': 2.417565512511313e-06, 'eta': 0.006157394350353459, 'gamma': 3.879170088247088e-06, 'max_depth': 27, 'min_child_weight': 14, 'subsample': 0.924943623461489, 'colsample_bytree': 0.6352712497284922, 'colsample_bylevel': 0.4015294061469822, 'colsample_bynode': 0.8602766964646835, 'max_delta_step': 9, 'n_estimators': 1533, 'grow_policy': 'depthwise'}. Best is trial 93 with value: 0.5452307215638383.\n",
      "[I 2024-12-19 21:16:17,771] Trial 117 finished with value: 0.5467764545253089 and parameters: {'booster': 'gbtree', 'lambda': 0.0006187361342446685, 'alpha': 2.8669398824677524e-06, 'eta': 0.00863137055267373, 'gamma': 3.6069061572387052e-06, 'max_depth': 27, 'min_child_weight': 14, 'subsample': 0.9324506467798973, 'colsample_bytree': 0.6392818015634864, 'colsample_bylevel': 0.618154088069624, 'colsample_bynode': 0.862864698995964, 'max_delta_step': 9, 'n_estimators': 1097, 'grow_policy': 'depthwise'}. Best is trial 93 with value: 0.5452307215638383.\n",
      "[I 2024-12-19 21:16:45,119] Trial 119 finished with value: 0.5469797102728412 and parameters: {'booster': 'gbtree', 'lambda': 4.792722506837438e-07, 'alpha': 3.1174788178149587e-06, 'eta': 0.008858594665586726, 'gamma': 1.5301314849008935e-07, 'max_depth': 28, 'min_child_weight': 14, 'subsample': 0.9635016436155422, 'colsample_bytree': 0.527512415288432, 'colsample_bylevel': 0.6156303169094594, 'colsample_bynode': 0.8552809432258095, 'max_delta_step': 9, 'n_estimators': 1555, 'grow_policy': 'depthwise'}. Best is trial 93 with value: 0.5452307215638383.\n",
      "[I 2024-12-19 21:16:46,447] Trial 118 finished with value: 0.5481600677414016 and parameters: {'booster': 'gbtree', 'lambda': 4.047074386782642e-07, 'alpha': 2.4739294150335245e-06, 'eta': 0.008788294203556552, 'gamma': 1.8586717226332928e-07, 'max_depth': 27, 'min_child_weight': 14, 'subsample': 0.9664365662338578, 'colsample_bytree': 0.6525931866993977, 'colsample_bylevel': 0.6177848583821228, 'colsample_bynode': 0.8897540749410012, 'max_delta_step': 9, 'n_estimators': 1650, 'grow_policy': 'depthwise'}. Best is trial 93 with value: 0.5452307215638383.\n",
      "[I 2024-12-19 21:16:46,479] Trial 122 finished with value: 0.6015252848274392 and parameters: {'booster': 'gbtree', 'lambda': 0.011150054136441085, 'alpha': 9.415480548348215e-07, 'eta': 0.0033267967065509687, 'gamma': 1.450877019911381e-07, 'max_depth': 27, 'min_child_weight': 14, 'subsample': 0.9236130611666501, 'colsample_bytree': 0.5224243321746297, 'colsample_bylevel': 0.6185043217309526, 'colsample_bynode': 0.8855129877810746, 'max_delta_step': 9, 'n_estimators': 1089, 'grow_policy': 'depthwise'}. Best is trial 93 with value: 0.5452307215638383.\n",
      "[I 2024-12-19 21:16:56,633] Trial 120 finished with value: 0.548243084782522 and parameters: {'booster': 'gbtree', 'lambda': 0.00015874506024111286, 'alpha': 2.3705953244887005e-06, 'eta': 0.008555134639921235, 'gamma': 1.80087384866003e-07, 'max_depth': 27, 'min_child_weight': 14, 'subsample': 0.9238307522850006, 'colsample_bytree': 0.6287606884080139, 'colsample_bylevel': 0.557546075235111, 'colsample_bynode': 0.860299174936684, 'max_delta_step': 9, 'n_estimators': 1639, 'grow_policy': 'depthwise'}. Best is trial 93 with value: 0.5452307215638383.\n",
      "[I 2024-12-19 21:17:07,946] Trial 128 finished with value: 0.7765613155340948 and parameters: {'booster': 'gbtree', 'lambda': 0.002274590571491978, 'alpha': 5.294921669319336e-06, 'eta': 0.007358732352790111, 'gamma': 7.070335162293509, 'max_depth': 28, 'min_child_weight': 15, 'subsample': 0.9520028505713798, 'colsample_bytree': 0.4707906353272455, 'colsample_bylevel': 0.5713067387062769, 'colsample_bynode': 0.9325990756011441, 'max_delta_step': 5, 'n_estimators': 1570, 'grow_policy': 'depthwise'}. Best is trial 93 with value: 0.5452307215638383.\n",
      "[I 2024-12-19 21:17:25,005] Trial 121 finished with value: 0.5481274164198707 and parameters: {'booster': 'gbtree', 'lambda': 0.0020410977017011147, 'alpha': 2.2773472574889756e-06, 'eta': 0.0077521837381707565, 'gamma': 1.259508732644885e-07, 'max_depth': 27, 'min_child_weight': 14, 'subsample': 0.9598588571225287, 'colsample_bytree': 0.5104852650289402, 'colsample_bylevel': 0.615372137113842, 'colsample_bynode': 0.8615449235181013, 'max_delta_step': 9, 'n_estimators': 1565, 'grow_policy': 'depthwise'}. Best is trial 93 with value: 0.5452307215638383.\n",
      "[I 2024-12-19 21:17:33,598] Trial 123 finished with value: 0.5531116362238526 and parameters: {'booster': 'gbtree', 'lambda': 0.006927024217744694, 'alpha': 4.8907256835662505e-06, 'eta': 0.0033298550239217904, 'gamma': 1.593874260082343e-07, 'max_depth': 17, 'min_child_weight': 11, 'subsample': 0.961367255976261, 'colsample_bytree': 0.6747439195935245, 'colsample_bylevel': 0.5707209568383307, 'colsample_bynode': 0.8857844150577726, 'max_delta_step': 9, 'n_estimators': 1699, 'grow_policy': 'depthwise'}. Best is trial 93 with value: 0.5452307215638383.\n",
      "[I 2024-12-19 21:17:52,030] Trial 124 finished with value: 0.5483787086219892 and parameters: {'booster': 'gbtree', 'lambda': 0.003918325232211288, 'alpha': 8.252296904725295e-07, 'eta': 0.007439500899923887, 'gamma': 1.818000141096758e-07, 'max_depth': 27, 'min_child_weight': 11, 'subsample': 0.9486917806429278, 'colsample_bytree': 0.5286012702494252, 'colsample_bylevel': 0.6194043606616523, 'colsample_bynode': 0.9588200054565418, 'max_delta_step': 5, 'n_estimators': 1583, 'grow_policy': 'depthwise'}. Best is trial 93 with value: 0.5452307215638383.\n",
      "[I 2024-12-19 21:18:01,931] Trial 126 finished with value: 0.5590128464859131 and parameters: {'booster': 'gbtree', 'lambda': 0.0006593866666831603, 'alpha': 9.086232918159684e-07, 'eta': 0.011093023808282948, 'gamma': 1.2421824569237812e-07, 'max_depth': 28, 'min_child_weight': 15, 'subsample': 0.7239356656465836, 'colsample_bytree': 0.5398785058285107, 'colsample_bylevel': 0.5698922818944644, 'colsample_bynode': 0.9563719252008931, 'max_delta_step': 6, 'n_estimators': 1678, 'grow_policy': 'depthwise'}. Best is trial 93 with value: 0.5452307215638383.\n",
      "[I 2024-12-19 21:18:16,842] Trial 127 finished with value: 0.5476656799993787 and parameters: {'booster': 'gbtree', 'lambda': 0.0006182275080031704, 'alpha': 4.612430779032809e-06, 'eta': 0.010369848665931415, 'gamma': 1.0970136292457647e-06, 'max_depth': 28, 'min_child_weight': 15, 'subsample': 0.951747573580111, 'colsample_bytree': 0.5435030626838121, 'colsample_bylevel': 0.5552057557332728, 'colsample_bynode': 0.9339653968073534, 'max_delta_step': 6, 'n_estimators': 1411, 'grow_policy': 'depthwise'}. Best is trial 93 with value: 0.5452307215638383.\n",
      "[I 2024-12-19 21:18:24,386] Trial 130 finished with value: 0.5540293244644428 and parameters: {'booster': 'gbtree', 'lambda': 0.0006923717205743266, 'alpha': 2.780296946530508e-07, 'eta': 0.010963550062251491, 'gamma': 1.1145314930457513e-06, 'max_depth': 17, 'min_child_weight': 15, 'subsample': 0.7233823364574772, 'colsample_bytree': 0.6791164938322719, 'colsample_bylevel': 0.5749971033899496, 'colsample_bynode': 0.9589538742966829, 'max_delta_step': 10, 'n_estimators': 1387, 'grow_policy': 'depthwise'}. Best is trial 93 with value: 0.5452307215638383.\n",
      "[I 2024-12-19 21:18:25,027] Trial 129 finished with value: 0.550811724435486 and parameters: {'booster': 'gbtree', 'lambda': 0.0006218526291245865, 'alpha': 1.5142903205282158e-06, 'eta': 0.01031840461058235, 'gamma': 1.1080449100011527e-06, 'max_depth': 28, 'min_child_weight': 15, 'subsample': 0.9413549857353428, 'colsample_bytree': 0.5280234910996602, 'colsample_bylevel': 0.5510792278323952, 'colsample_bynode': 0.8982139620299563, 'max_delta_step': 10, 'n_estimators': 1429, 'grow_policy': 'depthwise'}. Best is trial 93 with value: 0.5452307215638383.\n",
      "[I 2024-12-19 21:18:25,174] Trial 125 finished with value: 0.549433801432743 and parameters: {'booster': 'gbtree', 'lambda': 4.165343265340157e-07, 'alpha': 8.819865130155863e-07, 'eta': 0.007308600227877172, 'gamma': 1.3913594900113252e-07, 'max_depth': 28, 'min_child_weight': 14, 'subsample': 0.9569549026020949, 'colsample_bytree': 0.5403284079978585, 'colsample_bylevel': 0.5547837455033156, 'colsample_bynode': 0.8881485549493594, 'max_delta_step': 9, 'n_estimators': 1618, 'grow_policy': 'depthwise'}. Best is trial 93 with value: 0.5452307215638383.\n",
      "[I 2024-12-19 21:18:40,186] Trial 131 finished with value: 0.5522643112951183 and parameters: {'booster': 'gbtree', 'lambda': 0.6282240501166587, 'alpha': 1.1886550314781956e-06, 'eta': 0.011120868381651532, 'gamma': 1.0959048100405966e-06, 'max_depth': 26, 'min_child_weight': 15, 'subsample': 0.9062552794524328, 'colsample_bytree': 0.5489031220827608, 'colsample_bylevel': 0.5527691298647335, 'colsample_bynode': 0.9554085226057084, 'max_delta_step': 2, 'n_estimators': 1201, 'grow_policy': 'depthwise'}. Best is trial 93 with value: 0.5452307215638383.\n",
      "[I 2024-12-19 21:19:00,063] Trial 132 finished with value: 0.5582701476935038 and parameters: {'booster': 'gbtree', 'lambda': 3.569699802102563e-07, 'alpha': 2.6775040227241546e-07, 'eta': 0.011022458801190842, 'gamma': 1.0193837754219332e-06, 'max_depth': 26, 'min_child_weight': 15, 'subsample': 0.7275600406643434, 'colsample_bytree': 0.5447101882137149, 'colsample_bylevel': 0.5966099728201842, 'colsample_bynode': 0.9992735745000069, 'max_delta_step': 6, 'n_estimators': 1383, 'grow_policy': 'depthwise'}. Best is trial 93 with value: 0.5452307215638383.\n",
      "[I 2024-12-19 21:19:30,103] Trial 133 finished with value: 0.5519611254781086 and parameters: {'booster': 'gbtree', 'lambda': 5.440532359615492e-07, 'alpha': 1.3567559238573483e-06, 'eta': 0.00543700156561589, 'gamma': 9.219197542204875e-07, 'max_depth': 26, 'min_child_weight': 13, 'subsample': 0.9070966323558582, 'colsample_bytree': 0.5560439443642881, 'colsample_bylevel': 0.550427716169773, 'colsample_bynode': 0.9034403387340117, 'max_delta_step': 2, 'n_estimators': 1420, 'grow_policy': 'depthwise'}. Best is trial 93 with value: 0.5452307215638383.\n",
      "[I 2024-12-19 21:19:36,082] Trial 136 finished with value: 0.5503668263949479 and parameters: {'booster': 'gbtree', 'lambda': 6.526671966646126e-08, 'alpha': 3.903066951925985e-06, 'eta': 0.012206282803217379, 'gamma': 5.816715156685013e-07, 'max_depth': 26, 'min_child_weight': 13, 'subsample': 0.903614820382676, 'colsample_bytree': 0.5592035166137039, 'colsample_bylevel': 0.5963144554293587, 'colsample_bynode': 0.9186470318421277, 'max_delta_step': 2, 'n_estimators': 1808, 'grow_policy': 'depthwise'}. Best is trial 93 with value: 0.5452307215638383.\n",
      "[I 2024-12-19 21:19:44,105] Trial 135 finished with value: 0.5597228651658543 and parameters: {'booster': 'gbtree', 'lambda': 9.726997030754801e-08, 'alpha': 1.666542359222237e-06, 'eta': 0.00995099478678242, 'gamma': 8.220638370452272e-07, 'max_depth': 26, 'min_child_weight': 15, 'subsample': 0.937104849510012, 'colsample_bytree': 0.4981955928327394, 'colsample_bylevel': 0.551930985236104, 'colsample_bynode': 0.9922452693612382, 'max_delta_step': 2, 'n_estimators': 1398, 'grow_policy': 'depthwise'}. Best is trial 93 with value: 0.5452307215638383.\n",
      "[I 2024-12-19 21:19:49,087] Trial 134 finished with value: 0.5510118624908846 and parameters: {'booster': 'gbtree', 'lambda': 0.0006342593237347084, 'alpha': 3.6674677074525823e-06, 'eta': 0.005369306636758992, 'gamma': 1.0311276325361562e-06, 'max_depth': 26, 'min_child_weight': 15, 'subsample': 0.9045439883037778, 'colsample_bytree': 0.6145888950647361, 'colsample_bylevel': 0.5532388467838686, 'colsample_bynode': 0.9164535004078446, 'max_delta_step': 2, 'n_estimators': 1454, 'grow_policy': 'depthwise'}. Best is trial 93 with value: 0.5452307215638383.\n",
      "[I 2024-12-19 21:19:56,168] Trial 137 finished with value: 0.5549993144789526 and parameters: {'booster': 'gbtree', 'lambda': 5.567547532334331e-08, 'alpha': 3.674178539244003e-06, 'eta': 0.005287964256437996, 'gamma': 5.895506381860224e-07, 'max_depth': 26, 'min_child_weight': 13, 'subsample': 0.9069878327687868, 'colsample_bytree': 0.5592325878160027, 'colsample_bylevel': 0.5955499246736957, 'colsample_bynode': 0.9903339672589475, 'max_delta_step': 7, 'n_estimators': 1430, 'grow_policy': 'depthwise'}. Best is trial 93 with value: 0.5452307215638383.\n",
      "[I 2024-12-19 21:20:00,048] Trial 138 finished with value: 0.5474735157846511 and parameters: {'booster': 'gbtree', 'lambda': 9.618428400036945e-08, 'alpha': 3.574955831714518e-06, 'eta': 0.009822905381394019, 'gamma': 2.922135960616972e-07, 'max_depth': 25, 'min_child_weight': 13, 'subsample': 0.932445232521202, 'colsample_bytree': 0.5583851581079646, 'colsample_bylevel': 0.5985756066079452, 'colsample_bynode': 0.9195501243088346, 'max_delta_step': 10, 'n_estimators': 1456, 'grow_policy': 'depthwise'}. Best is trial 93 with value: 0.5452307215638383.\n",
      "[I 2024-12-19 21:20:25,726] Trial 141 finished with value: 0.5803988321032395 and parameters: {'booster': 'gbtree', 'lambda': 1.1685083223236465e-07, 'alpha': 1.721431927826477e-05, 'eta': 0.009459113471647214, 'gamma': 2.0103120030217815e-06, 'max_depth': 28, 'min_child_weight': 14, 'subsample': 0.30352590320998724, 'colsample_bytree': 0.6352477429673506, 'colsample_bylevel': 0.5838767737071273, 'colsample_bynode': 0.8716192612576913, 'max_delta_step': 10, 'n_estimators': 1115, 'grow_policy': 'depthwise'}. Best is trial 93 with value: 0.5452307215638383.\n",
      "[I 2024-12-19 21:20:35,038] Trial 139 finished with value: 0.5534047415924428 and parameters: {'booster': 'gbtree', 'lambda': 1.0858360540211322e-07, 'alpha': 4.50897603529001e-06, 'eta': 0.005347399560455287, 'gamma': 6.373258310290363e-07, 'max_depth': 28, 'min_child_weight': 13, 'subsample': 0.9743278781108751, 'colsample_bytree': 0.49546394971152685, 'colsample_bylevel': 0.5900737880690343, 'colsample_bynode': 0.9140381038680812, 'max_delta_step': 10, 'n_estimators': 1510, 'grow_policy': 'depthwise'}. Best is trial 93 with value: 0.5452307215638383.\n",
      "[I 2024-12-19 21:20:52,798] Trial 140 finished with value: 0.5473289270356944 and parameters: {'booster': 'gbtree', 'lambda': 1.1866408117147875e-07, 'alpha': 1.4788613443558264e-05, 'eta': 0.009506694773660717, 'gamma': 1.843989294438531e-06, 'max_depth': 28, 'min_child_weight': 14, 'subsample': 0.9744037810194638, 'colsample_bytree': 0.6967321077651788, 'colsample_bylevel': 0.6036744763167986, 'colsample_bynode': 0.9171908788183174, 'max_delta_step': 10, 'n_estimators': 1453, 'grow_policy': 'depthwise'}. Best is trial 93 with value: 0.5452307215638383.\n",
      "[I 2024-12-19 21:20:54,533] Trial 144 finished with value: 0.5458023992810354 and parameters: {'booster': 'gbtree', 'lambda': 0.00013060275252510682, 'alpha': 1.717889258146933e-05, 'eta': 0.012785399216764293, 'gamma': 2.6388514842209554e-06, 'max_depth': 25, 'min_child_weight': 14, 'subsample': 0.9682437167492944, 'colsample_bytree': 0.6382164527744102, 'colsample_bylevel': 0.6092738805700002, 'colsample_bynode': 0.8712097392811072, 'max_delta_step': 6, 'n_estimators': 1509, 'grow_policy': 'depthwise'}. Best is trial 93 with value: 0.5452307215638383.\n",
      "[I 2024-12-19 21:21:02,843] Trial 142 finished with value: 0.5460332315372689 and parameters: {'booster': 'gbtree', 'lambda': 0.0011950404322415027, 'alpha': 1.727137249516149e-05, 'eta': 0.009230247950381047, 'gamma': 2.1858926964282106e-06, 'max_depth': 28, 'min_child_weight': 14, 'subsample': 0.9767782292700786, 'colsample_bytree': 0.6964459527249853, 'colsample_bylevel': 0.5851421388949737, 'colsample_bynode': 0.8720559663492915, 'max_delta_step': 7, 'n_estimators': 1448, 'grow_policy': 'depthwise'}. Best is trial 93 with value: 0.5452307215638383.\n",
      "[I 2024-12-19 21:21:03,459] Trial 143 finished with value: 0.5465685260640384 and parameters: {'booster': 'gbtree', 'lambda': 0.00013698041555221097, 'alpha': 1.7560396245260553e-05, 'eta': 0.00953735140220202, 'gamma': 2.8804353858287164e-07, 'max_depth': 25, 'min_child_weight': 14, 'subsample': 0.9778930864338212, 'colsample_bytree': 0.6949060776451947, 'colsample_bylevel': 0.5876722023064889, 'colsample_bynode': 0.8739626832083381, 'max_delta_step': 10, 'n_estimators': 1177, 'grow_policy': 'depthwise'}. Best is trial 93 with value: 0.5452307215638383.\n",
      "[I 2024-12-19 21:21:15,848] Trial 145 finished with value: 0.5638455308628715 and parameters: {'booster': 'gbtree', 'lambda': 1.4475092233257616e-07, 'alpha': 1.7058655210464323e-05, 'eta': 0.009258558674585264, 'gamma': 3.254638780925304e-07, 'max_depth': 25, 'min_child_weight': 14, 'subsample': 0.6940631808245221, 'colsample_bytree': 0.48627064448467594, 'colsample_bylevel': 0.5056099757177648, 'colsample_bynode': 0.9373102405864607, 'max_delta_step': 10, 'n_estimators': 1491, 'grow_policy': 'depthwise'}. Best is trial 93 with value: 0.5452307215638383.\n",
      "[I 2024-12-19 21:21:22,776] Trial 146 finished with value: 0.547575344245591 and parameters: {'booster': 'gbtree', 'lambda': 0.0011560291934498861, 'alpha': 5.163313871360346e-06, 'eta': 0.01294334989764761, 'gamma': 2.7874774015120553e-07, 'max_depth': 25, 'min_child_weight': 14, 'subsample': 0.9734289036940363, 'colsample_bytree': 0.5904535354784312, 'colsample_bylevel': 0.6353575436933878, 'colsample_bynode': 0.9379152877401266, 'max_delta_step': 10, 'n_estimators': 1507, 'grow_policy': 'depthwise'}. Best is trial 93 with value: 0.5452307215638383.\n",
      "[I 2024-12-19 21:21:26,851] Trial 147 finished with value: 0.6774032273889582 and parameters: {'booster': 'gbtree', 'lambda': 2.0239904682201013e-07, 'alpha': 5.437093339349834e-07, 'eta': 0.002187364559841309, 'gamma': 3.2334823757822493e-07, 'max_depth': 25, 'min_child_weight': 14, 'subsample': 0.8754101521258387, 'colsample_bytree': 0.41082519757856545, 'colsample_bylevel': 0.5133252107583174, 'colsample_bynode': 0.9323688701089721, 'max_delta_step': 10, 'n_estimators': 1502, 'grow_policy': 'depthwise'}. Best is trial 93 with value: 0.5452307215638383.\n",
      "[I 2024-12-19 21:21:38,209] Trial 149 finished with value: 0.5485867713007092 and parameters: {'booster': 'gbtree', 'lambda': 2.4273247856815342e-08, 'alpha': 2.7405315570752807e-05, 'eta': 0.013428415418836688, 'gamma': 2.9218321836011054e-07, 'max_depth': 25, 'min_child_weight': 14, 'subsample': 0.9769929372331845, 'colsample_bytree': 0.6631875128330779, 'colsample_bylevel': 0.6300678879292518, 'colsample_bynode': 0.8701330362850205, 'max_delta_step': 10, 'n_estimators': 1500, 'grow_policy': 'depthwise'}. Best is trial 93 with value: 0.5452307215638383.\n",
      "[I 2024-12-19 21:21:45,141] Trial 148 finished with value: 0.6572693703818134 and parameters: {'booster': 'gbtree', 'lambda': 1.9122845154785992e-07, 'alpha': 2.1433481756058978e-05, 'eta': 0.0015440893626685302, 'gamma': 3.480167483069202e-07, 'max_depth': 25, 'min_child_weight': 14, 'subsample': 0.972791944479875, 'colsample_bytree': 0.5896519443989378, 'colsample_bylevel': 0.6665123467391116, 'colsample_bynode': 0.870303088892152, 'max_delta_step': 10, 'n_estimators': 1520, 'grow_policy': 'depthwise'}. Best is trial 93 with value: 0.5452307215638383.\n",
      "[I 2024-12-19 21:56:15,690] Trial 2 finished with value: 1.0963269947674021 and parameters: {'booster': 'dart', 'lambda': 0.00980792884003145, 'alpha': 0.0028895053744192054, 'eta': 0.00808351303053056, 'gamma': 2.6646390707951978e-08, 'max_depth': 15, 'min_child_weight': 10, 'subsample': 0.3079150964479827, 'colsample_bytree': 0.7716460925183843, 'colsample_bylevel': 0.7774078641077595, 'colsample_bynode': 0.33079633498252065, 'max_delta_step': 0, 'n_estimators': 1939, 'grow_policy': 'lossguide', 'sample_type': 'weighted', 'normalize_type': 'tree', 'rate_drop': 0.2332490923659663, 'skip_drop': 0.038243092322022165}. Best is trial 93 with value: 0.5452307215638383.\n"
     ]
    },
    {
     "name": "stdout",
     "output_type": "stream",
     "text": [
      "[0]\ttrain-mae:0.42304\teval-mae:0.42809\n",
      "[1]\ttrain-mae:0.42015\teval-mae:0.42520\n",
      "[2]\ttrain-mae:0.41686\teval-mae:0.42199\n",
      "[3]\ttrain-mae:0.41352\teval-mae:0.41862\n",
      "[4]\ttrain-mae:0.40988\teval-mae:0.41508\n",
      "[5]\ttrain-mae:0.40635\teval-mae:0.41160\n",
      "[6]\ttrain-mae:0.40307\teval-mae:0.40839\n",
      "[7]\ttrain-mae:0.39959\teval-mae:0.40498\n",
      "[8]\ttrain-mae:0.39619\teval-mae:0.40159\n",
      "[9]\ttrain-mae:0.39305\teval-mae:0.39847\n",
      "[10]\ttrain-mae:0.39000\teval-mae:0.39553\n",
      "[11]\ttrain-mae:0.38674\teval-mae:0.39222\n",
      "[12]\ttrain-mae:0.38347\teval-mae:0.38893\n",
      "[13]\ttrain-mae:0.38014\teval-mae:0.38572\n",
      "[14]\ttrain-mae:0.37724\teval-mae:0.38289\n",
      "[15]\ttrain-mae:0.37444\teval-mae:0.38012\n",
      "[16]\ttrain-mae:0.37195\teval-mae:0.37768\n",
      "[17]\ttrain-mae:0.36918\teval-mae:0.37505\n",
      "[18]\ttrain-mae:0.36605\teval-mae:0.37187\n",
      "[19]\ttrain-mae:0.36305\teval-mae:0.36894\n",
      "[20]\ttrain-mae:0.35996\teval-mae:0.36585\n",
      "[21]\ttrain-mae:0.35692\teval-mae:0.36291\n",
      "[22]\ttrain-mae:0.35412\teval-mae:0.36019\n",
      "[23]\ttrain-mae:0.35138\teval-mae:0.35753\n",
      "[24]\ttrain-mae:0.34916\teval-mae:0.35532\n",
      "[25]\ttrain-mae:0.34648\teval-mae:0.35270\n",
      "[26]\ttrain-mae:0.34380\teval-mae:0.35002\n",
      "[27]\ttrain-mae:0.34117\teval-mae:0.34739\n",
      "[28]\ttrain-mae:0.33899\teval-mae:0.34525\n",
      "[29]\ttrain-mae:0.33632\teval-mae:0.34245\n",
      "[30]\ttrain-mae:0.33350\teval-mae:0.33977\n",
      "[31]\ttrain-mae:0.33099\teval-mae:0.33721\n",
      "[32]\ttrain-mae:0.32834\teval-mae:0.33458\n",
      "[33]\ttrain-mae:0.32560\teval-mae:0.33190\n",
      "[34]\ttrain-mae:0.32291\teval-mae:0.32921\n",
      "[35]\ttrain-mae:0.32024\teval-mae:0.32659\n",
      "[36]\ttrain-mae:0.31787\teval-mae:0.32434\n",
      "[37]\ttrain-mae:0.31534\teval-mae:0.32188\n",
      "[38]\ttrain-mae:0.31275\teval-mae:0.31939\n",
      "[39]\ttrain-mae:0.31087\teval-mae:0.31755\n",
      "[40]\ttrain-mae:0.30839\teval-mae:0.31513\n",
      "[41]\ttrain-mae:0.30591\teval-mae:0.31268\n",
      "[42]\ttrain-mae:0.30352\teval-mae:0.31035\n",
      "[43]\ttrain-mae:0.30132\teval-mae:0.30819\n",
      "[44]\ttrain-mae:0.29910\teval-mae:0.30610\n",
      "[45]\ttrain-mae:0.29673\teval-mae:0.30376\n",
      "[46]\ttrain-mae:0.29437\teval-mae:0.30146\n",
      "[47]\ttrain-mae:0.29207\teval-mae:0.29924\n",
      "[48]\ttrain-mae:0.28998\teval-mae:0.29709\n",
      "[49]\ttrain-mae:0.28803\teval-mae:0.29525\n",
      "[50]\ttrain-mae:0.28602\teval-mae:0.29322\n",
      "[51]\ttrain-mae:0.28395\teval-mae:0.29118\n",
      "[52]\ttrain-mae:0.28194\teval-mae:0.28926\n",
      "[53]\ttrain-mae:0.27999\teval-mae:0.28739\n",
      "[54]\ttrain-mae:0.27778\teval-mae:0.28523\n",
      "[55]\ttrain-mae:0.27556\teval-mae:0.28306\n",
      "[56]\ttrain-mae:0.27345\teval-mae:0.28096\n",
      "[57]\ttrain-mae:0.27163\teval-mae:0.27927\n",
      "[58]\ttrain-mae:0.26954\teval-mae:0.27726\n",
      "[59]\ttrain-mae:0.26746\teval-mae:0.27525\n",
      "[60]\ttrain-mae:0.26543\teval-mae:0.27329\n",
      "[61]\ttrain-mae:0.26342\teval-mae:0.27137\n",
      "[62]\ttrain-mae:0.26201\teval-mae:0.26998\n",
      "[63]\ttrain-mae:0.26009\teval-mae:0.26819\n",
      "[64]\ttrain-mae:0.25817\teval-mae:0.26638\n",
      "[65]\ttrain-mae:0.25622\teval-mae:0.26453\n",
      "[66]\ttrain-mae:0.25452\teval-mae:0.26290\n",
      "[67]\ttrain-mae:0.25279\teval-mae:0.26118\n",
      "[68]\ttrain-mae:0.25091\teval-mae:0.25936\n",
      "[69]\ttrain-mae:0.24909\teval-mae:0.25762\n",
      "[70]\ttrain-mae:0.24776\teval-mae:0.25633\n",
      "[71]\ttrain-mae:0.24594\teval-mae:0.25466\n",
      "[72]\ttrain-mae:0.24416\teval-mae:0.25291\n",
      "[73]\ttrain-mae:0.24233\teval-mae:0.25116\n",
      "[74]\ttrain-mae:0.24074\teval-mae:0.24967\n",
      "[75]\ttrain-mae:0.23902\teval-mae:0.24805\n",
      "[76]\ttrain-mae:0.23754\teval-mae:0.24667\n",
      "[77]\ttrain-mae:0.23605\teval-mae:0.24529\n",
      "[78]\ttrain-mae:0.23434\teval-mae:0.24363\n",
      "[79]\ttrain-mae:0.23288\teval-mae:0.24225\n",
      "[80]\ttrain-mae:0.23122\teval-mae:0.24072\n",
      "[81]\ttrain-mae:0.22959\teval-mae:0.23915\n",
      "[82]\ttrain-mae:0.22797\teval-mae:0.23767\n",
      "[83]\ttrain-mae:0.22636\teval-mae:0.23614\n",
      "[84]\ttrain-mae:0.22473\teval-mae:0.23461\n",
      "[85]\ttrain-mae:0.22324\teval-mae:0.23322\n",
      "[86]\ttrain-mae:0.22187\teval-mae:0.23194\n",
      "[87]\ttrain-mae:0.22050\teval-mae:0.23070\n",
      "[88]\ttrain-mae:0.21903\teval-mae:0.22933\n",
      "[89]\ttrain-mae:0.21777\teval-mae:0.22813\n",
      "[90]\ttrain-mae:0.21645\teval-mae:0.22677\n",
      "[91]\ttrain-mae:0.21500\teval-mae:0.22540\n",
      "[92]\ttrain-mae:0.21352\teval-mae:0.22400\n",
      "[93]\ttrain-mae:0.21209\teval-mae:0.22268\n",
      "[94]\ttrain-mae:0.21080\teval-mae:0.22153\n",
      "[95]\ttrain-mae:0.20964\teval-mae:0.22049\n",
      "[96]\ttrain-mae:0.20825\teval-mae:0.21923\n",
      "[97]\ttrain-mae:0.20705\teval-mae:0.21802\n",
      "[98]\ttrain-mae:0.20568\teval-mae:0.21675\n",
      "[99]\ttrain-mae:0.20454\teval-mae:0.21568\n",
      "[100]\ttrain-mae:0.20337\teval-mae:0.21452\n",
      "[101]\ttrain-mae:0.20222\teval-mae:0.21349\n",
      "[102]\ttrain-mae:0.20094\teval-mae:0.21223\n",
      "[103]\ttrain-mae:0.19984\teval-mae:0.21121\n",
      "[104]\ttrain-mae:0.19851\teval-mae:0.20995\n",
      "[105]\ttrain-mae:0.19722\teval-mae:0.20868\n",
      "[106]\ttrain-mae:0.19596\teval-mae:0.20748\n",
      "[107]\ttrain-mae:0.19490\teval-mae:0.20652\n",
      "[108]\ttrain-mae:0.19368\teval-mae:0.20543\n",
      "[109]\ttrain-mae:0.19244\teval-mae:0.20427\n",
      "[110]\ttrain-mae:0.19165\teval-mae:0.20349\n",
      "[111]\ttrain-mae:0.19086\teval-mae:0.20271\n",
      "[112]\ttrain-mae:0.18971\teval-mae:0.20165\n",
      "[113]\ttrain-mae:0.18867\teval-mae:0.20068\n",
      "[114]\ttrain-mae:0.18768\teval-mae:0.19979\n",
      "[115]\ttrain-mae:0.18650\teval-mae:0.19867\n",
      "[116]\ttrain-mae:0.18538\teval-mae:0.19766\n",
      "[117]\ttrain-mae:0.18421\teval-mae:0.19660\n",
      "[118]\ttrain-mae:0.18310\teval-mae:0.19555\n",
      "[119]\ttrain-mae:0.18202\teval-mae:0.19459\n",
      "[120]\ttrain-mae:0.18105\teval-mae:0.19372\n",
      "[121]\ttrain-mae:0.17999\teval-mae:0.19278\n",
      "[122]\ttrain-mae:0.17892\teval-mae:0.19183\n",
      "[123]\ttrain-mae:0.17803\teval-mae:0.19104\n",
      "[124]\ttrain-mae:0.17702\teval-mae:0.19017\n",
      "[125]\ttrain-mae:0.17602\teval-mae:0.18927\n",
      "[126]\ttrain-mae:0.17495\teval-mae:0.18830\n",
      "[127]\ttrain-mae:0.17406\teval-mae:0.18756\n",
      "[128]\ttrain-mae:0.17307\teval-mae:0.18666\n",
      "[129]\ttrain-mae:0.17239\teval-mae:0.18605\n",
      "[130]\ttrain-mae:0.17141\teval-mae:0.18520\n",
      "[131]\ttrain-mae:0.17043\teval-mae:0.18440\n",
      "[132]\ttrain-mae:0.16948\teval-mae:0.18354\n",
      "[133]\ttrain-mae:0.16850\teval-mae:0.18265\n",
      "[134]\ttrain-mae:0.16750\teval-mae:0.18178\n",
      "[135]\ttrain-mae:0.16659\teval-mae:0.18098\n",
      "[136]\ttrain-mae:0.16564\teval-mae:0.18013\n",
      "[137]\ttrain-mae:0.16471\teval-mae:0.17931\n",
      "[138]\ttrain-mae:0.16396\teval-mae:0.17867\n",
      "[139]\ttrain-mae:0.16313\teval-mae:0.17800\n",
      "[140]\ttrain-mae:0.16242\teval-mae:0.17741\n",
      "[141]\ttrain-mae:0.16166\teval-mae:0.17675\n",
      "[142]\ttrain-mae:0.16078\teval-mae:0.17597\n",
      "[143]\ttrain-mae:0.16005\teval-mae:0.17543\n",
      "[144]\ttrain-mae:0.15923\teval-mae:0.17471\n",
      "[145]\ttrain-mae:0.15847\teval-mae:0.17408\n",
      "[146]\ttrain-mae:0.15763\teval-mae:0.17335\n",
      "[147]\ttrain-mae:0.15681\teval-mae:0.17266\n",
      "[148]\ttrain-mae:0.15598\teval-mae:0.17198\n",
      "[149]\ttrain-mae:0.15516\teval-mae:0.17131\n",
      "[150]\ttrain-mae:0.15434\teval-mae:0.17065\n",
      "[151]\ttrain-mae:0.15361\teval-mae:0.17009\n",
      "[152]\ttrain-mae:0.15281\teval-mae:0.16941\n",
      "[153]\ttrain-mae:0.15215\teval-mae:0.16887\n",
      "[154]\ttrain-mae:0.15134\teval-mae:0.16826\n",
      "[155]\ttrain-mae:0.15058\teval-mae:0.16762\n",
      "[156]\ttrain-mae:0.14981\teval-mae:0.16695\n",
      "[157]\ttrain-mae:0.14915\teval-mae:0.16645\n",
      "[158]\ttrain-mae:0.14840\teval-mae:0.16583\n",
      "[159]\ttrain-mae:0.14779\teval-mae:0.16536\n",
      "[160]\ttrain-mae:0.14715\teval-mae:0.16478\n",
      "[161]\ttrain-mae:0.14642\teval-mae:0.16417\n",
      "[162]\ttrain-mae:0.14571\teval-mae:0.16357\n",
      "[163]\ttrain-mae:0.14495\teval-mae:0.16293\n",
      "[164]\ttrain-mae:0.14422\teval-mae:0.16233\n",
      "[165]\ttrain-mae:0.14352\teval-mae:0.16180\n",
      "[166]\ttrain-mae:0.14282\teval-mae:0.16119\n",
      "[167]\ttrain-mae:0.14222\teval-mae:0.16076\n",
      "[168]\ttrain-mae:0.14150\teval-mae:0.16015\n",
      "[169]\ttrain-mae:0.14082\teval-mae:0.15961\n",
      "[170]\ttrain-mae:0.14028\teval-mae:0.15919\n",
      "[171]\ttrain-mae:0.13959\teval-mae:0.15864\n",
      "[172]\ttrain-mae:0.13894\teval-mae:0.15815\n",
      "[173]\ttrain-mae:0.13829\teval-mae:0.15764\n",
      "[174]\ttrain-mae:0.13783\teval-mae:0.15727\n",
      "[175]\ttrain-mae:0.13720\teval-mae:0.15673\n",
      "[176]\ttrain-mae:0.13660\teval-mae:0.15618\n",
      "[177]\ttrain-mae:0.13600\teval-mae:0.15571\n",
      "[178]\ttrain-mae:0.13548\teval-mae:0.15534\n",
      "[179]\ttrain-mae:0.13488\teval-mae:0.15483\n",
      "[180]\ttrain-mae:0.13431\teval-mae:0.15437\n",
      "[181]\ttrain-mae:0.13378\teval-mae:0.15403\n",
      "[182]\ttrain-mae:0.13321\teval-mae:0.15360\n",
      "[183]\ttrain-mae:0.13270\teval-mae:0.15323\n",
      "[184]\ttrain-mae:0.13213\teval-mae:0.15281\n",
      "[185]\ttrain-mae:0.13156\teval-mae:0.15238\n",
      "[186]\ttrain-mae:0.13111\teval-mae:0.15204\n",
      "[187]\ttrain-mae:0.13055\teval-mae:0.15164\n",
      "[188]\ttrain-mae:0.13010\teval-mae:0.15133\n",
      "[189]\ttrain-mae:0.12965\teval-mae:0.15106\n",
      "[190]\ttrain-mae:0.12932\teval-mae:0.15083\n",
      "[191]\ttrain-mae:0.12876\teval-mae:0.15040\n",
      "[192]\ttrain-mae:0.12833\teval-mae:0.15009\n",
      "[193]\ttrain-mae:0.12788\teval-mae:0.14978\n",
      "[194]\ttrain-mae:0.12754\teval-mae:0.14954\n",
      "[195]\ttrain-mae:0.12709\teval-mae:0.14925\n",
      "[196]\ttrain-mae:0.12670\teval-mae:0.14895\n",
      "[197]\ttrain-mae:0.12623\teval-mae:0.14860\n",
      "[198]\ttrain-mae:0.12570\teval-mae:0.14820\n",
      "[199]\ttrain-mae:0.12522\teval-mae:0.14782\n",
      "[200]\ttrain-mae:0.12471\teval-mae:0.14743\n",
      "[201]\ttrain-mae:0.12435\teval-mae:0.14719\n",
      "[202]\ttrain-mae:0.12386\teval-mae:0.14683\n",
      "[203]\ttrain-mae:0.12341\teval-mae:0.14650\n",
      "[204]\ttrain-mae:0.12289\teval-mae:0.14611\n",
      "[205]\ttrain-mae:0.12248\teval-mae:0.14585\n",
      "[206]\ttrain-mae:0.12202\teval-mae:0.14551\n",
      "[207]\ttrain-mae:0.12161\teval-mae:0.14520\n",
      "[208]\ttrain-mae:0.12123\teval-mae:0.14489\n",
      "[209]\ttrain-mae:0.12084\teval-mae:0.14458\n",
      "[210]\ttrain-mae:0.12039\teval-mae:0.14428\n",
      "[211]\ttrain-mae:0.12006\teval-mae:0.14407\n",
      "[212]\ttrain-mae:0.11963\teval-mae:0.14373\n",
      "[213]\ttrain-mae:0.11922\teval-mae:0.14344\n",
      "[214]\ttrain-mae:0.11889\teval-mae:0.14325\n",
      "[215]\ttrain-mae:0.11845\teval-mae:0.14294\n",
      "[216]\ttrain-mae:0.11801\teval-mae:0.14267\n",
      "[217]\ttrain-mae:0.11760\teval-mae:0.14235\n",
      "[218]\ttrain-mae:0.11736\teval-mae:0.14219\n",
      "[219]\ttrain-mae:0.11696\teval-mae:0.14192\n",
      "[220]\ttrain-mae:0.11656\teval-mae:0.14161\n",
      "[221]\ttrain-mae:0.11617\teval-mae:0.14134\n",
      "[222]\ttrain-mae:0.11577\teval-mae:0.14114\n",
      "[223]\ttrain-mae:0.11541\teval-mae:0.14091\n",
      "[224]\ttrain-mae:0.11507\teval-mae:0.14070\n",
      "[225]\ttrain-mae:0.11475\teval-mae:0.14051\n",
      "[226]\ttrain-mae:0.11434\teval-mae:0.14020\n",
      "[227]\ttrain-mae:0.11405\teval-mae:0.14005\n",
      "[228]\ttrain-mae:0.11368\teval-mae:0.13979\n",
      "[229]\ttrain-mae:0.11337\teval-mae:0.13956\n",
      "[230]\ttrain-mae:0.11312\teval-mae:0.13940\n",
      "[231]\ttrain-mae:0.11279\teval-mae:0.13924\n",
      "[232]\ttrain-mae:0.11253\teval-mae:0.13907\n",
      "[233]\ttrain-mae:0.11223\teval-mae:0.13892\n",
      "[234]\ttrain-mae:0.11196\teval-mae:0.13879\n",
      "[235]\ttrain-mae:0.11167\teval-mae:0.13862\n",
      "[236]\ttrain-mae:0.11131\teval-mae:0.13836\n",
      "[237]\ttrain-mae:0.11096\teval-mae:0.13811\n",
      "[238]\ttrain-mae:0.11061\teval-mae:0.13782\n",
      "[239]\ttrain-mae:0.11028\teval-mae:0.13761\n",
      "[240]\ttrain-mae:0.11008\teval-mae:0.13744\n",
      "[241]\ttrain-mae:0.10974\teval-mae:0.13721\n",
      "[242]\ttrain-mae:0.10940\teval-mae:0.13700\n",
      "[243]\ttrain-mae:0.10910\teval-mae:0.13678\n",
      "[244]\ttrain-mae:0.10877\teval-mae:0.13660\n",
      "[245]\ttrain-mae:0.10851\teval-mae:0.13646\n",
      "[246]\ttrain-mae:0.10815\teval-mae:0.13623\n",
      "[247]\ttrain-mae:0.10790\teval-mae:0.13608\n",
      "[248]\ttrain-mae:0.10758\teval-mae:0.13585\n",
      "[249]\ttrain-mae:0.10736\teval-mae:0.13573\n",
      "[250]\ttrain-mae:0.10704\teval-mae:0.13551\n",
      "[251]\ttrain-mae:0.10674\teval-mae:0.13530\n",
      "[252]\ttrain-mae:0.10647\teval-mae:0.13510\n",
      "[253]\ttrain-mae:0.10630\teval-mae:0.13496\n",
      "[254]\ttrain-mae:0.10609\teval-mae:0.13484\n",
      "[255]\ttrain-mae:0.10580\teval-mae:0.13468\n",
      "[256]\ttrain-mae:0.10551\teval-mae:0.13445\n",
      "[257]\ttrain-mae:0.10523\teval-mae:0.13426\n",
      "[258]\ttrain-mae:0.10499\teval-mae:0.13414\n",
      "[259]\ttrain-mae:0.10479\teval-mae:0.13404\n",
      "[260]\ttrain-mae:0.10450\teval-mae:0.13384\n",
      "[261]\ttrain-mae:0.10423\teval-mae:0.13366\n",
      "[262]\ttrain-mae:0.10399\teval-mae:0.13354\n",
      "[263]\ttrain-mae:0.10367\teval-mae:0.13334\n",
      "[264]\ttrain-mae:0.10342\teval-mae:0.13319\n",
      "[265]\ttrain-mae:0.10322\teval-mae:0.13313\n",
      "[266]\ttrain-mae:0.10292\teval-mae:0.13293\n",
      "[267]\ttrain-mae:0.10269\teval-mae:0.13275\n",
      "[268]\ttrain-mae:0.10247\teval-mae:0.13258\n",
      "[269]\ttrain-mae:0.10229\teval-mae:0.13248\n",
      "[270]\ttrain-mae:0.10205\teval-mae:0.13236\n",
      "[271]\ttrain-mae:0.10188\teval-mae:0.13226\n",
      "[272]\ttrain-mae:0.10170\teval-mae:0.13215\n",
      "[273]\ttrain-mae:0.10147\teval-mae:0.13201\n",
      "[274]\ttrain-mae:0.10123\teval-mae:0.13185\n",
      "[275]\ttrain-mae:0.10106\teval-mae:0.13177\n",
      "[276]\ttrain-mae:0.10084\teval-mae:0.13164\n",
      "[277]\ttrain-mae:0.10061\teval-mae:0.13151\n",
      "[278]\ttrain-mae:0.10041\teval-mae:0.13137\n",
      "[279]\ttrain-mae:0.10021\teval-mae:0.13128\n",
      "[280]\ttrain-mae:0.10004\teval-mae:0.13121\n",
      "[281]\ttrain-mae:0.09977\teval-mae:0.13101\n",
      "[282]\ttrain-mae:0.09953\teval-mae:0.13083\n",
      "[283]\ttrain-mae:0.09932\teval-mae:0.13070\n",
      "[284]\ttrain-mae:0.09915\teval-mae:0.13062\n",
      "[285]\ttrain-mae:0.09895\teval-mae:0.13047\n",
      "[286]\ttrain-mae:0.09870\teval-mae:0.13030\n",
      "[287]\ttrain-mae:0.09853\teval-mae:0.13024\n",
      "[288]\ttrain-mae:0.09843\teval-mae:0.13017\n",
      "[289]\ttrain-mae:0.09822\teval-mae:0.13002\n",
      "[290]\ttrain-mae:0.09804\teval-mae:0.12994\n",
      "[291]\ttrain-mae:0.09788\teval-mae:0.12988\n",
      "[292]\ttrain-mae:0.09772\teval-mae:0.12984\n",
      "[293]\ttrain-mae:0.09754\teval-mae:0.12970\n",
      "[294]\ttrain-mae:0.09740\teval-mae:0.12963\n",
      "[295]\ttrain-mae:0.09719\teval-mae:0.12951\n",
      "[296]\ttrain-mae:0.09701\teval-mae:0.12946\n",
      "[297]\ttrain-mae:0.09681\teval-mae:0.12936\n",
      "[298]\ttrain-mae:0.09655\teval-mae:0.12923\n",
      "[299]\ttrain-mae:0.09637\teval-mae:0.12912\n",
      "[300]\ttrain-mae:0.09620\teval-mae:0.12903\n",
      "[301]\ttrain-mae:0.09599\teval-mae:0.12890\n",
      "[302]\ttrain-mae:0.09579\teval-mae:0.12881\n",
      "[303]\ttrain-mae:0.09564\teval-mae:0.12875\n",
      "[304]\ttrain-mae:0.09551\teval-mae:0.12868\n",
      "[305]\ttrain-mae:0.09542\teval-mae:0.12866\n",
      "[306]\ttrain-mae:0.09526\teval-mae:0.12860\n",
      "[307]\ttrain-mae:0.09506\teval-mae:0.12850\n",
      "[308]\ttrain-mae:0.09498\teval-mae:0.12846\n",
      "[309]\ttrain-mae:0.09483\teval-mae:0.12838\n",
      "[310]\ttrain-mae:0.09464\teval-mae:0.12827\n",
      "[311]\ttrain-mae:0.09450\teval-mae:0.12823\n",
      "[312]\ttrain-mae:0.09431\teval-mae:0.12810\n",
      "[313]\ttrain-mae:0.09420\teval-mae:0.12806\n",
      "[314]\ttrain-mae:0.09398\teval-mae:0.12790\n",
      "[315]\ttrain-mae:0.09381\teval-mae:0.12781\n",
      "[316]\ttrain-mae:0.09370\teval-mae:0.12779\n",
      "[317]\ttrain-mae:0.09357\teval-mae:0.12774\n",
      "[318]\ttrain-mae:0.09342\teval-mae:0.12764\n",
      "[319]\ttrain-mae:0.09326\teval-mae:0.12754\n",
      "[320]\ttrain-mae:0.09309\teval-mae:0.12749\n",
      "[321]\ttrain-mae:0.09300\teval-mae:0.12744\n",
      "[322]\ttrain-mae:0.09284\teval-mae:0.12737\n",
      "[323]\ttrain-mae:0.09272\teval-mae:0.12736\n",
      "[324]\ttrain-mae:0.09250\teval-mae:0.12722\n",
      "[325]\ttrain-mae:0.09236\teval-mae:0.12717\n",
      "[326]\ttrain-mae:0.09220\teval-mae:0.12709\n",
      "[327]\ttrain-mae:0.09208\teval-mae:0.12704\n",
      "[328]\ttrain-mae:0.09193\teval-mae:0.12698\n",
      "[329]\ttrain-mae:0.09175\teval-mae:0.12691\n",
      "[330]\ttrain-mae:0.09164\teval-mae:0.12689\n",
      "[331]\ttrain-mae:0.09151\teval-mae:0.12685\n",
      "[332]\ttrain-mae:0.09132\teval-mae:0.12675\n",
      "[333]\ttrain-mae:0.09117\teval-mae:0.12668\n",
      "[334]\ttrain-mae:0.09101\teval-mae:0.12657\n",
      "[335]\ttrain-mae:0.09089\teval-mae:0.12652\n",
      "[336]\ttrain-mae:0.09071\teval-mae:0.12646\n",
      "[337]\ttrain-mae:0.09054\teval-mae:0.12632\n",
      "[338]\ttrain-mae:0.09036\teval-mae:0.12624\n",
      "[339]\ttrain-mae:0.09028\teval-mae:0.12621\n",
      "[340]\ttrain-mae:0.09015\teval-mae:0.12618\n",
      "[341]\ttrain-mae:0.09006\teval-mae:0.12616\n",
      "[342]\ttrain-mae:0.08996\teval-mae:0.12612\n",
      "[343]\ttrain-mae:0.08981\teval-mae:0.12606\n",
      "[344]\ttrain-mae:0.08967\teval-mae:0.12600\n",
      "[345]\ttrain-mae:0.08948\teval-mae:0.12588\n",
      "[346]\ttrain-mae:0.08931\teval-mae:0.12579\n",
      "[347]\ttrain-mae:0.08922\teval-mae:0.12576\n",
      "[348]\ttrain-mae:0.08910\teval-mae:0.12574\n",
      "[349]\ttrain-mae:0.08901\teval-mae:0.12572\n",
      "[350]\ttrain-mae:0.08889\teval-mae:0.12569\n",
      "[351]\ttrain-mae:0.08876\teval-mae:0.12563\n",
      "[352]\ttrain-mae:0.08865\teval-mae:0.12561\n",
      "[353]\ttrain-mae:0.08848\teval-mae:0.12554\n",
      "[354]\ttrain-mae:0.08834\teval-mae:0.12548\n",
      "[355]\ttrain-mae:0.08818\teval-mae:0.12539\n",
      "[356]\ttrain-mae:0.08805\teval-mae:0.12535\n",
      "[357]\ttrain-mae:0.08794\teval-mae:0.12531\n",
      "[358]\ttrain-mae:0.08778\teval-mae:0.12524\n",
      "[359]\ttrain-mae:0.08769\teval-mae:0.12520\n",
      "[360]\ttrain-mae:0.08760\teval-mae:0.12517\n",
      "[361]\ttrain-mae:0.08748\teval-mae:0.12514\n",
      "[362]\ttrain-mae:0.08733\teval-mae:0.12507\n",
      "[363]\ttrain-mae:0.08724\teval-mae:0.12505\n",
      "[364]\ttrain-mae:0.08708\teval-mae:0.12499\n",
      "[365]\ttrain-mae:0.08690\teval-mae:0.12494\n",
      "[366]\ttrain-mae:0.08677\teval-mae:0.12489\n",
      "[367]\ttrain-mae:0.08667\teval-mae:0.12483\n",
      "[368]\ttrain-mae:0.08656\teval-mae:0.12481\n",
      "[369]\ttrain-mae:0.08646\teval-mae:0.12478\n",
      "[370]\ttrain-mae:0.08632\teval-mae:0.12472\n",
      "[371]\ttrain-mae:0.08625\teval-mae:0.12472\n",
      "[372]\ttrain-mae:0.08608\teval-mae:0.12462\n",
      "[373]\ttrain-mae:0.08599\teval-mae:0.12463\n",
      "[374]\ttrain-mae:0.08587\teval-mae:0.12459\n",
      "[375]\ttrain-mae:0.08576\teval-mae:0.12460\n",
      "[376]\ttrain-mae:0.08563\teval-mae:0.12455\n",
      "[377]\ttrain-mae:0.08548\teval-mae:0.12453\n",
      "[378]\ttrain-mae:0.08539\teval-mae:0.12451\n",
      "[379]\ttrain-mae:0.08528\teval-mae:0.12450\n",
      "[380]\ttrain-mae:0.08519\teval-mae:0.12446\n",
      "[381]\ttrain-mae:0.08507\teval-mae:0.12442\n",
      "[382]\ttrain-mae:0.08492\teval-mae:0.12439\n",
      "[383]\ttrain-mae:0.08476\teval-mae:0.12432\n",
      "[384]\ttrain-mae:0.08461\teval-mae:0.12427\n",
      "[385]\ttrain-mae:0.08445\teval-mae:0.12420\n",
      "[386]\ttrain-mae:0.08433\teval-mae:0.12415\n",
      "[387]\ttrain-mae:0.08424\teval-mae:0.12415\n",
      "[388]\ttrain-mae:0.08411\teval-mae:0.12407\n",
      "[389]\ttrain-mae:0.08403\teval-mae:0.12404\n",
      "[390]\ttrain-mae:0.08387\teval-mae:0.12397\n",
      "[391]\ttrain-mae:0.08372\teval-mae:0.12390\n",
      "[392]\ttrain-mae:0.08358\teval-mae:0.12386\n",
      "[393]\ttrain-mae:0.08348\teval-mae:0.12380\n",
      "[394]\ttrain-mae:0.08338\teval-mae:0.12374\n",
      "[395]\ttrain-mae:0.08325\teval-mae:0.12369\n",
      "[396]\ttrain-mae:0.08313\teval-mae:0.12364\n",
      "[397]\ttrain-mae:0.08301\teval-mae:0.12363\n",
      "[398]\ttrain-mae:0.08297\teval-mae:0.12362\n",
      "[399]\ttrain-mae:0.08284\teval-mae:0.12356\n",
      "[400]\ttrain-mae:0.08272\teval-mae:0.12349\n",
      "[401]\ttrain-mae:0.08261\teval-mae:0.12345\n",
      "[402]\ttrain-mae:0.08251\teval-mae:0.12346\n",
      "[403]\ttrain-mae:0.08240\teval-mae:0.12340\n",
      "[404]\ttrain-mae:0.08228\teval-mae:0.12334\n",
      "[405]\ttrain-mae:0.08219\teval-mae:0.12331\n",
      "[406]\ttrain-mae:0.08206\teval-mae:0.12326\n",
      "[407]\ttrain-mae:0.08193\teval-mae:0.12321\n",
      "[408]\ttrain-mae:0.08184\teval-mae:0.12321\n",
      "[409]\ttrain-mae:0.08177\teval-mae:0.12321\n",
      "[410]\ttrain-mae:0.08170\teval-mae:0.12322\n",
      "[411]\ttrain-mae:0.08161\teval-mae:0.12319\n",
      "[412]\ttrain-mae:0.08147\teval-mae:0.12313\n",
      "[413]\ttrain-mae:0.08137\teval-mae:0.12311\n",
      "[414]\ttrain-mae:0.08128\teval-mae:0.12309\n",
      "[415]\ttrain-mae:0.08115\teval-mae:0.12303\n",
      "[416]\ttrain-mae:0.08103\teval-mae:0.12296\n",
      "[417]\ttrain-mae:0.08092\teval-mae:0.12292\n",
      "[418]\ttrain-mae:0.08085\teval-mae:0.12290\n",
      "[419]\ttrain-mae:0.08075\teval-mae:0.12287\n",
      "[420]\ttrain-mae:0.08068\teval-mae:0.12285\n",
      "[421]\ttrain-mae:0.08056\teval-mae:0.12279\n",
      "[422]\ttrain-mae:0.08047\teval-mae:0.12275\n",
      "[423]\ttrain-mae:0.08034\teval-mae:0.12269\n",
      "[424]\ttrain-mae:0.08026\teval-mae:0.12271\n",
      "[425]\ttrain-mae:0.08018\teval-mae:0.12267\n",
      "[426]\ttrain-mae:0.08013\teval-mae:0.12266\n",
      "[427]\ttrain-mae:0.08003\teval-mae:0.12265\n",
      "[428]\ttrain-mae:0.07992\teval-mae:0.12258\n",
      "[429]\ttrain-mae:0.07982\teval-mae:0.12258\n",
      "[430]\ttrain-mae:0.07976\teval-mae:0.12256\n",
      "[431]\ttrain-mae:0.07972\teval-mae:0.12255\n",
      "[432]\ttrain-mae:0.07959\teval-mae:0.12250\n",
      "[433]\ttrain-mae:0.07949\teval-mae:0.12245\n",
      "[434]\ttrain-mae:0.07937\teval-mae:0.12239\n",
      "[435]\ttrain-mae:0.07924\teval-mae:0.12233\n",
      "[436]\ttrain-mae:0.07915\teval-mae:0.12231\n",
      "[437]\ttrain-mae:0.07906\teval-mae:0.12229\n",
      "[438]\ttrain-mae:0.07896\teval-mae:0.12225\n",
      "[439]\ttrain-mae:0.07884\teval-mae:0.12220\n",
      "[440]\ttrain-mae:0.07874\teval-mae:0.12216\n",
      "[441]\ttrain-mae:0.07862\teval-mae:0.12214\n",
      "[442]\ttrain-mae:0.07855\teval-mae:0.12209\n",
      "[443]\ttrain-mae:0.07849\teval-mae:0.12208\n",
      "[444]\ttrain-mae:0.07843\teval-mae:0.12207\n",
      "[445]\ttrain-mae:0.07837\teval-mae:0.12207\n",
      "[446]\ttrain-mae:0.07829\teval-mae:0.12206\n",
      "[447]\ttrain-mae:0.07818\teval-mae:0.12203\n",
      "[448]\ttrain-mae:0.07810\teval-mae:0.12200\n",
      "[449]\ttrain-mae:0.07802\teval-mae:0.12195\n",
      "[450]\ttrain-mae:0.07790\teval-mae:0.12190\n",
      "[451]\ttrain-mae:0.07787\teval-mae:0.12188\n",
      "[452]\ttrain-mae:0.07781\teval-mae:0.12188\n",
      "[453]\ttrain-mae:0.07771\teval-mae:0.12182\n",
      "[454]\ttrain-mae:0.07760\teval-mae:0.12176\n",
      "[455]\ttrain-mae:0.07752\teval-mae:0.12173\n",
      "[456]\ttrain-mae:0.07742\teval-mae:0.12170\n",
      "[457]\ttrain-mae:0.07732\teval-mae:0.12167\n",
      "[458]\ttrain-mae:0.07722\teval-mae:0.12162\n",
      "[459]\ttrain-mae:0.07710\teval-mae:0.12159\n",
      "[460]\ttrain-mae:0.07699\teval-mae:0.12155\n",
      "[461]\ttrain-mae:0.07689\teval-mae:0.12152\n",
      "[462]\ttrain-mae:0.07677\teval-mae:0.12147\n",
      "[463]\ttrain-mae:0.07668\teval-mae:0.12143\n",
      "[464]\ttrain-mae:0.07661\teval-mae:0.12140\n",
      "[465]\ttrain-mae:0.07652\teval-mae:0.12135\n",
      "[466]\ttrain-mae:0.07641\teval-mae:0.12130\n",
      "[467]\ttrain-mae:0.07630\teval-mae:0.12129\n",
      "[468]\ttrain-mae:0.07623\teval-mae:0.12126\n",
      "[469]\ttrain-mae:0.07614\teval-mae:0.12124\n",
      "[470]\ttrain-mae:0.07611\teval-mae:0.12121\n",
      "[471]\ttrain-mae:0.07604\teval-mae:0.12119\n",
      "[472]\ttrain-mae:0.07594\teval-mae:0.12114\n",
      "[473]\ttrain-mae:0.07584\teval-mae:0.12113\n",
      "[474]\ttrain-mae:0.07580\teval-mae:0.12112\n",
      "[475]\ttrain-mae:0.07572\teval-mae:0.12108\n",
      "[476]\ttrain-mae:0.07562\teval-mae:0.12103\n",
      "[477]\ttrain-mae:0.07555\teval-mae:0.12103\n",
      "[478]\ttrain-mae:0.07549\teval-mae:0.12100\n",
      "[479]\ttrain-mae:0.07543\teval-mae:0.12101\n",
      "[480]\ttrain-mae:0.07535\teval-mae:0.12099\n",
      "[481]\ttrain-mae:0.07526\teval-mae:0.12096\n",
      "[482]\ttrain-mae:0.07517\teval-mae:0.12092\n",
      "[483]\ttrain-mae:0.07507\teval-mae:0.12088\n",
      "[484]\ttrain-mae:0.07495\teval-mae:0.12084\n",
      "[485]\ttrain-mae:0.07486\teval-mae:0.12083\n",
      "[486]\ttrain-mae:0.07480\teval-mae:0.12081\n",
      "[487]\ttrain-mae:0.07472\teval-mae:0.12079\n",
      "[488]\ttrain-mae:0.07466\teval-mae:0.12081\n",
      "[489]\ttrain-mae:0.07456\teval-mae:0.12077\n",
      "[490]\ttrain-mae:0.07450\teval-mae:0.12075\n",
      "[491]\ttrain-mae:0.07441\teval-mae:0.12073\n",
      "[492]\ttrain-mae:0.07433\teval-mae:0.12072\n",
      "[493]\ttrain-mae:0.07425\teval-mae:0.12072\n",
      "[494]\ttrain-mae:0.07420\teval-mae:0.12072\n",
      "[495]\ttrain-mae:0.07417\teval-mae:0.12072\n",
      "[496]\ttrain-mae:0.07408\teval-mae:0.12067\n",
      "[497]\ttrain-mae:0.07398\teval-mae:0.12063\n",
      "[498]\ttrain-mae:0.07390\teval-mae:0.12061\n",
      "[499]\ttrain-mae:0.07384\teval-mae:0.12062\n",
      "[500]\ttrain-mae:0.07377\teval-mae:0.12059\n",
      "[501]\ttrain-mae:0.07370\teval-mae:0.12061\n",
      "[502]\ttrain-mae:0.07367\teval-mae:0.12061\n",
      "[503]\ttrain-mae:0.07359\teval-mae:0.12057\n",
      "[504]\ttrain-mae:0.07352\teval-mae:0.12055\n",
      "[505]\ttrain-mae:0.07344\teval-mae:0.12054\n",
      "[506]\ttrain-mae:0.07340\teval-mae:0.12053\n",
      "[507]\ttrain-mae:0.07331\teval-mae:0.12052\n",
      "[508]\ttrain-mae:0.07327\teval-mae:0.12051\n",
      "[509]\ttrain-mae:0.07318\teval-mae:0.12047\n",
      "[510]\ttrain-mae:0.07313\teval-mae:0.12046\n",
      "[511]\ttrain-mae:0.07308\teval-mae:0.12045\n",
      "[512]\ttrain-mae:0.07303\teval-mae:0.12045\n",
      "[513]\ttrain-mae:0.07298\teval-mae:0.12044\n",
      "[514]\ttrain-mae:0.07288\teval-mae:0.12040\n",
      "[515]\ttrain-mae:0.07283\teval-mae:0.12038\n",
      "[516]\ttrain-mae:0.07277\teval-mae:0.12036\n",
      "[517]\ttrain-mae:0.07272\teval-mae:0.12035\n",
      "[518]\ttrain-mae:0.07265\teval-mae:0.12032\n",
      "[519]\ttrain-mae:0.07260\teval-mae:0.12032\n",
      "[520]\ttrain-mae:0.07255\teval-mae:0.12031\n",
      "[521]\ttrain-mae:0.07248\teval-mae:0.12030\n",
      "[522]\ttrain-mae:0.07238\teval-mae:0.12025\n",
      "[523]\ttrain-mae:0.07229\teval-mae:0.12022\n",
      "[524]\ttrain-mae:0.07223\teval-mae:0.12019\n",
      "[525]\ttrain-mae:0.07216\teval-mae:0.12017\n",
      "[526]\ttrain-mae:0.07209\teval-mae:0.12019\n",
      "[527]\ttrain-mae:0.07202\teval-mae:0.12017\n",
      "[528]\ttrain-mae:0.07198\teval-mae:0.12014\n",
      "[529]\ttrain-mae:0.07189\teval-mae:0.12013\n",
      "[530]\ttrain-mae:0.07183\teval-mae:0.12014\n",
      "[531]\ttrain-mae:0.07174\teval-mae:0.12011\n",
      "[532]\ttrain-mae:0.07166\teval-mae:0.12009\n",
      "[533]\ttrain-mae:0.07160\teval-mae:0.12008\n",
      "[534]\ttrain-mae:0.07150\teval-mae:0.12006\n",
      "[535]\ttrain-mae:0.07144\teval-mae:0.12003\n",
      "[536]\ttrain-mae:0.07137\teval-mae:0.12002\n",
      "[537]\ttrain-mae:0.07131\teval-mae:0.12001\n",
      "[538]\ttrain-mae:0.07126\teval-mae:0.12002\n",
      "[539]\ttrain-mae:0.07122\teval-mae:0.12000\n",
      "[540]\ttrain-mae:0.07117\teval-mae:0.12000\n",
      "[541]\ttrain-mae:0.07108\teval-mae:0.11998\n",
      "[542]\ttrain-mae:0.07097\teval-mae:0.11991\n",
      "[543]\ttrain-mae:0.07090\teval-mae:0.11986\n",
      "[544]\ttrain-mae:0.07082\teval-mae:0.11984\n",
      "[545]\ttrain-mae:0.07074\teval-mae:0.11977\n",
      "[546]\ttrain-mae:0.07067\teval-mae:0.11977\n",
      "[547]\ttrain-mae:0.07063\teval-mae:0.11978\n",
      "[548]\ttrain-mae:0.07055\teval-mae:0.11975\n",
      "[549]\ttrain-mae:0.07047\teval-mae:0.11971\n",
      "[550]\ttrain-mae:0.07039\teval-mae:0.11970\n",
      "[551]\ttrain-mae:0.07034\teval-mae:0.11970\n",
      "[552]\ttrain-mae:0.07028\teval-mae:0.11969\n",
      "[553]\ttrain-mae:0.07022\teval-mae:0.11969\n",
      "[554]\ttrain-mae:0.07013\teval-mae:0.11965\n",
      "[555]\ttrain-mae:0.07005\teval-mae:0.11963\n",
      "[556]\ttrain-mae:0.06996\teval-mae:0.11962\n",
      "[557]\ttrain-mae:0.06993\teval-mae:0.11963\n",
      "[558]\ttrain-mae:0.06986\teval-mae:0.11962\n",
      "[559]\ttrain-mae:0.06980\teval-mae:0.11962\n",
      "[560]\ttrain-mae:0.06973\teval-mae:0.11961\n",
      "[561]\ttrain-mae:0.06965\teval-mae:0.11957\n",
      "[562]\ttrain-mae:0.06957\teval-mae:0.11954\n",
      "[563]\ttrain-mae:0.06951\teval-mae:0.11952\n",
      "[564]\ttrain-mae:0.06942\teval-mae:0.11949\n",
      "[565]\ttrain-mae:0.06937\teval-mae:0.11948\n",
      "[566]\ttrain-mae:0.06933\teval-mae:0.11947\n",
      "[567]\ttrain-mae:0.06930\teval-mae:0.11946\n",
      "[568]\ttrain-mae:0.06922\teval-mae:0.11943\n",
      "[569]\ttrain-mae:0.06915\teval-mae:0.11943\n",
      "[570]\ttrain-mae:0.06906\teval-mae:0.11942\n",
      "[571]\ttrain-mae:0.06896\teval-mae:0.11939\n",
      "[572]\ttrain-mae:0.06888\teval-mae:0.11937\n",
      "[573]\ttrain-mae:0.06882\teval-mae:0.11937\n",
      "[574]\ttrain-mae:0.06878\teval-mae:0.11935\n",
      "[575]\ttrain-mae:0.06872\teval-mae:0.11935\n",
      "[576]\ttrain-mae:0.06868\teval-mae:0.11935\n",
      "[577]\ttrain-mae:0.06861\teval-mae:0.11931\n",
      "[578]\ttrain-mae:0.06854\teval-mae:0.11930\n",
      "[579]\ttrain-mae:0.06847\teval-mae:0.11928\n",
      "[580]\ttrain-mae:0.06841\teval-mae:0.11928\n",
      "[581]\ttrain-mae:0.06836\teval-mae:0.11927\n",
      "[582]\ttrain-mae:0.06830\teval-mae:0.11924\n",
      "[583]\ttrain-mae:0.06824\teval-mae:0.11922\n",
      "[584]\ttrain-mae:0.06818\teval-mae:0.11920\n",
      "[585]\ttrain-mae:0.06813\teval-mae:0.11921\n",
      "[586]\ttrain-mae:0.06808\teval-mae:0.11921\n",
      "[587]\ttrain-mae:0.06802\teval-mae:0.11918\n",
      "[588]\ttrain-mae:0.06793\teval-mae:0.11914\n",
      "[589]\ttrain-mae:0.06788\teval-mae:0.11912\n",
      "[590]\ttrain-mae:0.06780\teval-mae:0.11912\n",
      "[591]\ttrain-mae:0.06774\teval-mae:0.11911\n",
      "[592]\ttrain-mae:0.06767\teval-mae:0.11906\n",
      "[593]\ttrain-mae:0.06760\teval-mae:0.11906\n",
      "[594]\ttrain-mae:0.06754\teval-mae:0.11903\n",
      "[595]\ttrain-mae:0.06748\teval-mae:0.11903\n",
      "[596]\ttrain-mae:0.06740\teval-mae:0.11900\n",
      "[597]\ttrain-mae:0.06731\teval-mae:0.11898\n",
      "[598]\ttrain-mae:0.06727\teval-mae:0.11898\n",
      "[599]\ttrain-mae:0.06720\teval-mae:0.11895\n",
      "[600]\ttrain-mae:0.06714\teval-mae:0.11895\n",
      "[601]\ttrain-mae:0.06709\teval-mae:0.11895\n",
      "[602]\ttrain-mae:0.06703\teval-mae:0.11895\n",
      "[603]\ttrain-mae:0.06695\teval-mae:0.11894\n",
      "[604]\ttrain-mae:0.06688\teval-mae:0.11893\n",
      "[605]\ttrain-mae:0.06680\teval-mae:0.11893\n",
      "[606]\ttrain-mae:0.06676\teval-mae:0.11892\n",
      "[607]\ttrain-mae:0.06670\teval-mae:0.11892\n",
      "[608]\ttrain-mae:0.06662\teval-mae:0.11891\n",
      "[609]\ttrain-mae:0.06656\teval-mae:0.11890\n",
      "[610]\ttrain-mae:0.06651\teval-mae:0.11888\n",
      "[611]\ttrain-mae:0.06645\teval-mae:0.11886\n",
      "[612]\ttrain-mae:0.06641\teval-mae:0.11886\n",
      "[613]\ttrain-mae:0.06636\teval-mae:0.11887\n",
      "[614]\ttrain-mae:0.06630\teval-mae:0.11886\n",
      "[615]\ttrain-mae:0.06623\teval-mae:0.11884\n",
      "[616]\ttrain-mae:0.06615\teval-mae:0.11883\n",
      "[617]\ttrain-mae:0.06608\teval-mae:0.11882\n",
      "[618]\ttrain-mae:0.06602\teval-mae:0.11880\n",
      "[619]\ttrain-mae:0.06597\teval-mae:0.11879\n",
      "[620]\ttrain-mae:0.06594\teval-mae:0.11879\n",
      "[621]\ttrain-mae:0.06589\teval-mae:0.11876\n",
      "[622]\ttrain-mae:0.06584\teval-mae:0.11873\n",
      "[623]\ttrain-mae:0.06579\teval-mae:0.11874\n",
      "[624]\ttrain-mae:0.06574\teval-mae:0.11873\n",
      "[625]\ttrain-mae:0.06571\teval-mae:0.11873\n",
      "[626]\ttrain-mae:0.06562\teval-mae:0.11869\n",
      "[627]\ttrain-mae:0.06558\teval-mae:0.11867\n",
      "[628]\ttrain-mae:0.06553\teval-mae:0.11866\n",
      "[629]\ttrain-mae:0.06548\teval-mae:0.11865\n",
      "[630]\ttrain-mae:0.06542\teval-mae:0.11864\n",
      "[631]\ttrain-mae:0.06536\teval-mae:0.11862\n",
      "[632]\ttrain-mae:0.06531\teval-mae:0.11862\n",
      "[633]\ttrain-mae:0.06524\teval-mae:0.11860\n",
      "[634]\ttrain-mae:0.06520\teval-mae:0.11859\n",
      "[635]\ttrain-mae:0.06515\teval-mae:0.11859\n",
      "[636]\ttrain-mae:0.06509\teval-mae:0.11857\n",
      "[637]\ttrain-mae:0.06503\teval-mae:0.11859\n",
      "[638]\ttrain-mae:0.06498\teval-mae:0.11861\n",
      "[639]\ttrain-mae:0.06492\teval-mae:0.11858\n",
      "[640]\ttrain-mae:0.06485\teval-mae:0.11858\n",
      "[641]\ttrain-mae:0.06480\teval-mae:0.11856\n",
      "[642]\ttrain-mae:0.06475\teval-mae:0.11858\n",
      "[643]\ttrain-mae:0.06471\teval-mae:0.11859\n",
      "[644]\ttrain-mae:0.06469\teval-mae:0.11858\n",
      "[645]\ttrain-mae:0.06463\teval-mae:0.11860\n",
      "[646]\ttrain-mae:0.06458\teval-mae:0.11857\n",
      "[647]\ttrain-mae:0.06454\teval-mae:0.11857\n",
      "[648]\ttrain-mae:0.06451\teval-mae:0.11859\n",
      "[649]\ttrain-mae:0.06449\teval-mae:0.11859\n",
      "[650]\ttrain-mae:0.06443\teval-mae:0.11856\n",
      "[651]\ttrain-mae:0.06436\teval-mae:0.11855\n",
      "[652]\ttrain-mae:0.06429\teval-mae:0.11855\n",
      "[653]\ttrain-mae:0.06424\teval-mae:0.11854\n",
      "[654]\ttrain-mae:0.06420\teval-mae:0.11854\n",
      "[655]\ttrain-mae:0.06415\teval-mae:0.11853\n",
      "[656]\ttrain-mae:0.06408\teval-mae:0.11850\n",
      "[657]\ttrain-mae:0.06402\teval-mae:0.11850\n",
      "[658]\ttrain-mae:0.06397\teval-mae:0.11847\n",
      "[659]\ttrain-mae:0.06392\teval-mae:0.11847\n",
      "[660]\ttrain-mae:0.06386\teval-mae:0.11847\n",
      "[661]\ttrain-mae:0.06381\teval-mae:0.11848\n",
      "[662]\ttrain-mae:0.06375\teval-mae:0.11847\n",
      "[663]\ttrain-mae:0.06371\teval-mae:0.11848\n",
      "[664]\ttrain-mae:0.06364\teval-mae:0.11848\n",
      "[665]\ttrain-mae:0.06363\teval-mae:0.11848\n",
      "[666]\ttrain-mae:0.06358\teval-mae:0.11849\n",
      "[667]\ttrain-mae:0.06351\teval-mae:0.11847\n",
      "[668]\ttrain-mae:0.06345\teval-mae:0.11843\n",
      "[669]\ttrain-mae:0.06341\teval-mae:0.11844\n",
      "[670]\ttrain-mae:0.06336\teval-mae:0.11842\n",
      "[671]\ttrain-mae:0.06330\teval-mae:0.11842\n",
      "[672]\ttrain-mae:0.06326\teval-mae:0.11841\n",
      "[673]\ttrain-mae:0.06322\teval-mae:0.11840\n",
      "[674]\ttrain-mae:0.06317\teval-mae:0.11839\n",
      "[675]\ttrain-mae:0.06315\teval-mae:0.11839\n",
      "[676]\ttrain-mae:0.06308\teval-mae:0.11837\n",
      "[677]\ttrain-mae:0.06304\teval-mae:0.11836\n",
      "[678]\ttrain-mae:0.06300\teval-mae:0.11836\n",
      "[679]\ttrain-mae:0.06295\teval-mae:0.11836\n",
      "[680]\ttrain-mae:0.06290\teval-mae:0.11832\n",
      "[681]\ttrain-mae:0.06285\teval-mae:0.11833\n",
      "[682]\ttrain-mae:0.06280\teval-mae:0.11831\n",
      "[683]\ttrain-mae:0.06274\teval-mae:0.11830\n",
      "[684]\ttrain-mae:0.06271\teval-mae:0.11831\n",
      "[685]\ttrain-mae:0.06268\teval-mae:0.11832\n",
      "[686]\ttrain-mae:0.06263\teval-mae:0.11830\n",
      "[687]\ttrain-mae:0.06260\teval-mae:0.11830\n",
      "[688]\ttrain-mae:0.06255\teval-mae:0.11828\n",
      "[689]\ttrain-mae:0.06250\teval-mae:0.11830\n",
      "[690]\ttrain-mae:0.06245\teval-mae:0.11829\n",
      "[691]\ttrain-mae:0.06240\teval-mae:0.11828\n",
      "[692]\ttrain-mae:0.06233\teval-mae:0.11827\n",
      "[693]\ttrain-mae:0.06228\teval-mae:0.11826\n",
      "[694]\ttrain-mae:0.06225\teval-mae:0.11827\n",
      "[695]\ttrain-mae:0.06219\teval-mae:0.11826\n",
      "[696]\ttrain-mae:0.06213\teval-mae:0.11825\n",
      "[697]\ttrain-mae:0.06208\teval-mae:0.11825\n",
      "[698]\ttrain-mae:0.06205\teval-mae:0.11825\n",
      "[699]\ttrain-mae:0.06198\teval-mae:0.11824\n",
      "[700]\ttrain-mae:0.06193\teval-mae:0.11824\n",
      "[701]\ttrain-mae:0.06190\teval-mae:0.11823\n",
      "[702]\ttrain-mae:0.06184\teval-mae:0.11822\n",
      "[703]\ttrain-mae:0.06177\teval-mae:0.11823\n",
      "[704]\ttrain-mae:0.06173\teval-mae:0.11823\n",
      "[705]\ttrain-mae:0.06171\teval-mae:0.11822\n",
      "[706]\ttrain-mae:0.06166\teval-mae:0.11824\n",
      "[707]\ttrain-mae:0.06164\teval-mae:0.11824\n",
      "[708]\ttrain-mae:0.06160\teval-mae:0.11823\n",
      "[709]\ttrain-mae:0.06157\teval-mae:0.11822\n",
      "[710]\ttrain-mae:0.06151\teval-mae:0.11820\n",
      "[711]\ttrain-mae:0.06143\teval-mae:0.11820\n",
      "[712]\ttrain-mae:0.06138\teval-mae:0.11820\n",
      "[713]\ttrain-mae:0.06133\teval-mae:0.11819\n",
      "[714]\ttrain-mae:0.06130\teval-mae:0.11817\n",
      "[715]\ttrain-mae:0.06125\teval-mae:0.11819\n",
      "[716]\ttrain-mae:0.06122\teval-mae:0.11819\n",
      "[717]\ttrain-mae:0.06116\teval-mae:0.11820\n",
      "[718]\ttrain-mae:0.06110\teval-mae:0.11819\n",
      "[719]\ttrain-mae:0.06104\teval-mae:0.11819\n",
      "[720]\ttrain-mae:0.06099\teval-mae:0.11819\n",
      "[721]\ttrain-mae:0.06095\teval-mae:0.11819\n",
      "[722]\ttrain-mae:0.06091\teval-mae:0.11821\n",
      "[723]\ttrain-mae:0.06086\teval-mae:0.11822\n",
      "[724]\ttrain-mae:0.06082\teval-mae:0.11823\n",
      "[725]\ttrain-mae:0.06075\teval-mae:0.11823\n",
      "[726]\ttrain-mae:0.06071\teval-mae:0.11823\n",
      "[727]\ttrain-mae:0.06066\teval-mae:0.11824\n",
      "[728]\ttrain-mae:0.06060\teval-mae:0.11825\n",
      "[729]\ttrain-mae:0.06056\teval-mae:0.11824\n",
      "[730]\ttrain-mae:0.06051\teval-mae:0.11826\n",
      "[731]\ttrain-mae:0.06045\teval-mae:0.11826\n",
      "[732]\ttrain-mae:0.06042\teval-mae:0.11826\n",
      "[733]\ttrain-mae:0.06040\teval-mae:0.11826\n",
      "[734]\ttrain-mae:0.06036\teval-mae:0.11827\n",
      "[735]\ttrain-mae:0.06033\teval-mae:0.11828\n",
      "[736]\ttrain-mae:0.06028\teval-mae:0.11827\n",
      "[737]\ttrain-mae:0.06024\teval-mae:0.11827\n",
      "[738]\ttrain-mae:0.06018\teval-mae:0.11825\n",
      "[739]\ttrain-mae:0.06013\teval-mae:0.11824\n",
      "[740]\ttrain-mae:0.06011\teval-mae:0.11824\n",
      "[741]\ttrain-mae:0.06005\teval-mae:0.11824\n",
      "[742]\ttrain-mae:0.06002\teval-mae:0.11823\n",
      "[743]\ttrain-mae:0.05999\teval-mae:0.11823\n",
      "[744]\ttrain-mae:0.05996\teval-mae:0.11823\n",
      "[745]\ttrain-mae:0.05989\teval-mae:0.11823\n",
      "[746]\ttrain-mae:0.05984\teval-mae:0.11824\n",
      "[747]\ttrain-mae:0.05982\teval-mae:0.11824\n",
      "[748]\ttrain-mae:0.05977\teval-mae:0.11822\n",
      "[749]\ttrain-mae:0.05974\teval-mae:0.11821\n",
      "[750]\ttrain-mae:0.05969\teval-mae:0.11820\n",
      "[751]\ttrain-mae:0.05964\teval-mae:0.11820\n",
      "[752]\ttrain-mae:0.05958\teval-mae:0.11820\n",
      "[753]\ttrain-mae:0.05954\teval-mae:0.11821\n",
      "[754]\ttrain-mae:0.05949\teval-mae:0.11821\n",
      "[755]\ttrain-mae:0.05943\teval-mae:0.11822\n",
      "[756]\ttrain-mae:0.05936\teval-mae:0.11823\n",
      "[757]\ttrain-mae:0.05933\teval-mae:0.11822\n",
      "[758]\ttrain-mae:0.05930\teval-mae:0.11822\n",
      "[759]\ttrain-mae:0.05926\teval-mae:0.11822\n",
      "[760]\ttrain-mae:0.05923\teval-mae:0.11822\n",
      "[761]\ttrain-mae:0.05919\teval-mae:0.11822\n",
      "[762]\ttrain-mae:0.05916\teval-mae:0.11823\n",
      "[763]\ttrain-mae:0.05910\teval-mae:0.11823\n",
      "[764]\ttrain-mae:0.05907\teval-mae:0.11824\n",
      "\n",
      "Best trial:\n",
      "  MAE:  0.5452307215638383\n",
      "  Raw MAE:  0.5200646370615968\n",
      "  MAE Std:  0.04839030133721801\n",
      "\n",
      "Best hyperparameters:\n",
      "    booster: gbtree\n",
      "    lambda: 2.806519745479964e-05\n",
      "    alpha: 8.971705154637653e-06\n",
      "    eta: 0.010106928111265548\n",
      "    gamma: 3.587578552074615e-06\n",
      "    max_depth: 29\n",
      "    min_child_weight: 13\n",
      "    subsample: 0.9986782885481962\n",
      "    colsample_bytree: 0.6404365813951769\n",
      "    colsample_bylevel: 0.5814819838786656\n",
      "    colsample_bynode: 0.858396343604288\n",
      "    max_delta_step: 10\n",
      "    n_estimators: 1288\n",
      "    grow_policy: depthwise\n",
      "\n",
      "Final Model Performance:\n",
      "MAE: 0.5085\n",
      "R2 Score: 0.9021\n",
      "\n",
      "Top 10 Most Important Features:\n",
      "f8: 1.5987\n",
      "f0: 1.2921\n",
      "f7: 0.9380\n",
      "f1: 0.6164\n",
      "f2: 0.5241\n",
      "f12: 0.4330\n",
      "f3: 0.2952\n",
      "f6: 0.2568\n",
      "f5: 0.2363\n",
      "f4: 0.1956\n"
     ]
    },
    {
     "data": {
      "application/vnd.plotly.v1+json": {
       "config": {
        "plotlyServerURL": "https://plot.ly"
       },
       "data": [
        {
         "mode": "markers",
         "name": "Objective Value",
         "type": "scatter",
         "x": [
          0,
          1,
          2,
          3,
          4,
          5,
          6,
          7,
          8,
          9,
          10,
          11,
          12,
          13,
          14,
          15,
          16,
          17,
          18,
          19,
          20,
          21,
          22,
          23,
          24,
          25,
          26,
          27,
          28,
          29,
          30,
          31,
          32,
          33,
          34,
          35,
          36,
          37,
          38,
          39,
          40,
          41,
          42,
          43,
          44,
          45,
          46,
          47,
          48,
          49,
          50,
          51,
          52,
          53,
          54,
          55,
          56,
          57,
          58,
          59,
          60,
          61,
          62,
          63,
          64,
          65,
          66,
          67,
          68,
          69,
          70,
          71,
          72,
          73,
          74,
          75,
          76,
          77,
          78,
          79,
          80,
          81,
          82,
          83,
          84,
          85,
          86,
          87,
          88,
          89,
          90,
          91,
          92,
          93,
          94,
          95,
          96,
          97,
          98,
          99,
          100,
          101,
          102,
          103,
          104,
          105,
          106,
          107,
          108,
          109,
          110,
          111,
          112,
          113,
          114,
          115,
          116,
          117,
          118,
          119,
          120,
          121,
          122,
          123,
          124,
          125,
          126,
          127,
          128,
          129,
          130,
          131,
          132,
          133,
          134,
          135,
          136,
          137,
          138,
          139,
          140,
          141,
          142,
          143,
          144,
          145,
          146,
          147,
          148,
          149
         ],
         "y": [
          0.8326912323154253,
          0.5550641196726105,
          1.0963269947674021,
          0.5870550795821262,
          1.0372370067421444,
          1.233833374146075,
          0.7144089571273183,
          0.5936532021535026,
          0.5923661066599494,
          0.6617019366741623,
          0.5690719418676242,
          0.6859815114661736,
          0.7913888726257268,
          0.598735428346127,
          1.0148114105271113,
          1.0819534293152955,
          0.5904799327436555,
          0.6439753437213608,
          0.6517196648170958,
          0.5678141567101844,
          0.5760117929502692,
          0.5641836248297225,
          0.5575301755878893,
          0.5963281100473853,
          0.6994963327237588,
          0.5718876028065981,
          0.563447759013652,
          0.643758568325636,
          0.5605021898288204,
          0.56240445716318,
          0.5746591682024751,
          0.5498655471798952,
          0.5534637809904381,
          0.5508678412013321,
          0.5492995165447137,
          0.5512642917772164,
          0.5588998936443718,
          0.6045851482722326,
          0.5479304272797925,
          0.5758716880594242,
          0.5486459209476751,
          0.5531551457931495,
          0.5500985790475269,
          0.5652777349652347,
          0.5612546472259802,
          0.5480459173126595,
          0.5533316055637575,
          0.5595383237892289,
          0.5506289820553324,
          0.5518385262759499,
          0.6072549500991985,
          0.5628625355426792,
          0.5489623863880543,
          0.6128078767278,
          0.5476512443428168,
          0.6078998676575474,
          0.5617658296254575,
          0.5628826220388622,
          0.5485992157981814,
          0.5494023405577733,
          0.5475879938537725,
          0.56349467964652,
          0.5592045918308276,
          0.5572757239351811,
          0.5522306787962729,
          0.5543936181385912,
          0.9042347237743965,
          0.5618177262591643,
          0.5563410152875132,
          0.6377389688247036,
          0.5598898463169403,
          0.6332009042438423,
          0.5564763464668708,
          0.5457079564510654,
          0.569055115831351,
          0.5574399569165188,
          0.5516104051068924,
          0.552582747264807,
          0.5561165123960244,
          0.5563162774327269,
          0.551802071103795,
          0.5587804032489958,
          0.5508196254690698,
          0.5504649072368359,
          0.5516973690044856,
          0.5599553947119251,
          0.5705419380855707,
          0.6375878774702803,
          0.5640789414634306,
          0.5586621833886876,
          0.5553329074494925,
          0.5505277565168937,
          0.547560724121556,
          0.5452307215638383,
          0.5523494711250471,
          0.5659346964692115,
          0.5514664408906568,
          0.5830162308811406,
          0.5471943308904798,
          0.5749404889398935,
          0.5467436120206759,
          0.5474861905547529,
          0.5484411435113109,
          0.548715710854383,
          0.5586251736332623,
          0.6096521196116731,
          0.5504540706544041,
          0.5616201781396293,
          0.5515963980147184,
          0.5499809557917784,
          0.5494930401652179,
          0.5492908365149397,
          0.5513020822369651,
          0.54752431358651,
          0.5467058333290721,
          0.5602686921564901,
          0.548047587969427,
          0.5467764545253089,
          0.5481600677414016,
          0.5469797102728412,
          0.548243084782522,
          0.5481274164198707,
          0.6015252848274392,
          0.5531116362238526,
          0.5483787086219892,
          0.549433801432743,
          0.5590128464859131,
          0.5476656799993787,
          0.7765613155340948,
          0.550811724435486,
          0.5540293244644428,
          0.5522643112951183,
          0.5582701476935038,
          0.5519611254781086,
          0.5510118624908846,
          0.5597228651658543,
          0.5503668263949479,
          0.5549993144789526,
          0.5474735157846511,
          0.5534047415924428,
          0.5473289270356944,
          0.5803988321032395,
          0.5460332315372689,
          0.5465685260640384,
          0.5458023992810354,
          0.5638455308628715,
          0.547575344245591,
          0.6774032273889582,
          0.6572693703818134,
          0.5485867713007092
         ]
        },
        {
         "mode": "lines",
         "name": "Best Value",
         "type": "scatter",
         "x": [
          0,
          1,
          2,
          3,
          4,
          5,
          6,
          7,
          8,
          9,
          10,
          11,
          12,
          13,
          14,
          15,
          16,
          17,
          18,
          19,
          20,
          21,
          22,
          23,
          24,
          25,
          26,
          27,
          28,
          29,
          30,
          31,
          32,
          33,
          34,
          35,
          36,
          37,
          38,
          39,
          40,
          41,
          42,
          43,
          44,
          45,
          46,
          47,
          48,
          49,
          50,
          51,
          52,
          53,
          54,
          55,
          56,
          57,
          58,
          59,
          60,
          61,
          62,
          63,
          64,
          65,
          66,
          67,
          68,
          69,
          70,
          71,
          72,
          73,
          74,
          75,
          76,
          77,
          78,
          79,
          80,
          81,
          82,
          83,
          84,
          85,
          86,
          87,
          88,
          89,
          90,
          91,
          92,
          93,
          94,
          95,
          96,
          97,
          98,
          99,
          100,
          101,
          102,
          103,
          104,
          105,
          106,
          107,
          108,
          109,
          110,
          111,
          112,
          113,
          114,
          115,
          116,
          117,
          118,
          119,
          120,
          121,
          122,
          123,
          124,
          125,
          126,
          127,
          128,
          129,
          130,
          131,
          132,
          133,
          134,
          135,
          136,
          137,
          138,
          139,
          140,
          141,
          142,
          143,
          144,
          145,
          146,
          147,
          148,
          149
         ],
         "y": [
          0.8326912323154253,
          0.5550641196726105,
          0.5550641196726105,
          0.5550641196726105,
          0.5550641196726105,
          0.5550641196726105,
          0.5550641196726105,
          0.5550641196726105,
          0.5550641196726105,
          0.5550641196726105,
          0.5550641196726105,
          0.5550641196726105,
          0.5550641196726105,
          0.5550641196726105,
          0.5550641196726105,
          0.5550641196726105,
          0.5550641196726105,
          0.5550641196726105,
          0.5550641196726105,
          0.5550641196726105,
          0.5550641196726105,
          0.5550641196726105,
          0.5550641196726105,
          0.5550641196726105,
          0.5550641196726105,
          0.5550641196726105,
          0.5550641196726105,
          0.5550641196726105,
          0.5550641196726105,
          0.5550641196726105,
          0.5550641196726105,
          0.5498655471798952,
          0.5498655471798952,
          0.5498655471798952,
          0.5492995165447137,
          0.5492995165447137,
          0.5492995165447137,
          0.5492995165447137,
          0.5479304272797925,
          0.5479304272797925,
          0.5479304272797925,
          0.5479304272797925,
          0.5479304272797925,
          0.5479304272797925,
          0.5479304272797925,
          0.5479304272797925,
          0.5479304272797925,
          0.5479304272797925,
          0.5479304272797925,
          0.5479304272797925,
          0.5479304272797925,
          0.5479304272797925,
          0.5479304272797925,
          0.5479304272797925,
          0.5476512443428168,
          0.5476512443428168,
          0.5476512443428168,
          0.5476512443428168,
          0.5476512443428168,
          0.5476512443428168,
          0.5475879938537725,
          0.5475879938537725,
          0.5475879938537725,
          0.5475879938537725,
          0.5475879938537725,
          0.5475879938537725,
          0.5475879938537725,
          0.5475879938537725,
          0.5475879938537725,
          0.5475879938537725,
          0.5475879938537725,
          0.5475879938537725,
          0.5475879938537725,
          0.5457079564510654,
          0.5457079564510654,
          0.5457079564510654,
          0.5457079564510654,
          0.5457079564510654,
          0.5457079564510654,
          0.5457079564510654,
          0.5457079564510654,
          0.5457079564510654,
          0.5457079564510654,
          0.5457079564510654,
          0.5457079564510654,
          0.5457079564510654,
          0.5457079564510654,
          0.5457079564510654,
          0.5457079564510654,
          0.5457079564510654,
          0.5457079564510654,
          0.5457079564510654,
          0.5457079564510654,
          0.5452307215638383,
          0.5452307215638383,
          0.5452307215638383,
          0.5452307215638383,
          0.5452307215638383,
          0.5452307215638383,
          0.5452307215638383,
          0.5452307215638383,
          0.5452307215638383,
          0.5452307215638383,
          0.5452307215638383,
          0.5452307215638383,
          0.5452307215638383,
          0.5452307215638383,
          0.5452307215638383,
          0.5452307215638383,
          0.5452307215638383,
          0.5452307215638383,
          0.5452307215638383,
          0.5452307215638383,
          0.5452307215638383,
          0.5452307215638383,
          0.5452307215638383,
          0.5452307215638383,
          0.5452307215638383,
          0.5452307215638383,
          0.5452307215638383,
          0.5452307215638383,
          0.5452307215638383,
          0.5452307215638383,
          0.5452307215638383,
          0.5452307215638383,
          0.5452307215638383,
          0.5452307215638383,
          0.5452307215638383,
          0.5452307215638383,
          0.5452307215638383,
          0.5452307215638383,
          0.5452307215638383,
          0.5452307215638383,
          0.5452307215638383,
          0.5452307215638383,
          0.5452307215638383,
          0.5452307215638383,
          0.5452307215638383,
          0.5452307215638383,
          0.5452307215638383,
          0.5452307215638383,
          0.5452307215638383,
          0.5452307215638383,
          0.5452307215638383,
          0.5452307215638383,
          0.5452307215638383,
          0.5452307215638383,
          0.5452307215638383,
          0.5452307215638383,
          0.5452307215638383
         ]
        },
        {
         "marker": {
          "color": "#cccccc"
         },
         "mode": "markers",
         "name": "Infeasible Trial",
         "showlegend": false,
         "type": "scatter",
         "x": [],
         "y": []
        }
       ],
       "layout": {
        "template": {
         "data": {
          "bar": [
           {
            "error_x": {
             "color": "#2a3f5f"
            },
            "error_y": {
             "color": "#2a3f5f"
            },
            "marker": {
             "line": {
              "color": "#E5ECF6",
              "width": 0.5
             },
             "pattern": {
              "fillmode": "overlay",
              "size": 10,
              "solidity": 0.2
             }
            },
            "type": "bar"
           }
          ],
          "barpolar": [
           {
            "marker": {
             "line": {
              "color": "#E5ECF6",
              "width": 0.5
             },
             "pattern": {
              "fillmode": "overlay",
              "size": 10,
              "solidity": 0.2
             }
            },
            "type": "barpolar"
           }
          ],
          "carpet": [
           {
            "aaxis": {
             "endlinecolor": "#2a3f5f",
             "gridcolor": "white",
             "linecolor": "white",
             "minorgridcolor": "white",
             "startlinecolor": "#2a3f5f"
            },
            "baxis": {
             "endlinecolor": "#2a3f5f",
             "gridcolor": "white",
             "linecolor": "white",
             "minorgridcolor": "white",
             "startlinecolor": "#2a3f5f"
            },
            "type": "carpet"
           }
          ],
          "choropleth": [
           {
            "colorbar": {
             "outlinewidth": 0,
             "ticks": ""
            },
            "type": "choropleth"
           }
          ],
          "contour": [
           {
            "colorbar": {
             "outlinewidth": 0,
             "ticks": ""
            },
            "colorscale": [
             [
              0,
              "#0d0887"
             ],
             [
              0.1111111111111111,
              "#46039f"
             ],
             [
              0.2222222222222222,
              "#7201a8"
             ],
             [
              0.3333333333333333,
              "#9c179e"
             ],
             [
              0.4444444444444444,
              "#bd3786"
             ],
             [
              0.5555555555555556,
              "#d8576b"
             ],
             [
              0.6666666666666666,
              "#ed7953"
             ],
             [
              0.7777777777777778,
              "#fb9f3a"
             ],
             [
              0.8888888888888888,
              "#fdca26"
             ],
             [
              1,
              "#f0f921"
             ]
            ],
            "type": "contour"
           }
          ],
          "contourcarpet": [
           {
            "colorbar": {
             "outlinewidth": 0,
             "ticks": ""
            },
            "type": "contourcarpet"
           }
          ],
          "heatmap": [
           {
            "colorbar": {
             "outlinewidth": 0,
             "ticks": ""
            },
            "colorscale": [
             [
              0,
              "#0d0887"
             ],
             [
              0.1111111111111111,
              "#46039f"
             ],
             [
              0.2222222222222222,
              "#7201a8"
             ],
             [
              0.3333333333333333,
              "#9c179e"
             ],
             [
              0.4444444444444444,
              "#bd3786"
             ],
             [
              0.5555555555555556,
              "#d8576b"
             ],
             [
              0.6666666666666666,
              "#ed7953"
             ],
             [
              0.7777777777777778,
              "#fb9f3a"
             ],
             [
              0.8888888888888888,
              "#fdca26"
             ],
             [
              1,
              "#f0f921"
             ]
            ],
            "type": "heatmap"
           }
          ],
          "heatmapgl": [
           {
            "colorbar": {
             "outlinewidth": 0,
             "ticks": ""
            },
            "colorscale": [
             [
              0,
              "#0d0887"
             ],
             [
              0.1111111111111111,
              "#46039f"
             ],
             [
              0.2222222222222222,
              "#7201a8"
             ],
             [
              0.3333333333333333,
              "#9c179e"
             ],
             [
              0.4444444444444444,
              "#bd3786"
             ],
             [
              0.5555555555555556,
              "#d8576b"
             ],
             [
              0.6666666666666666,
              "#ed7953"
             ],
             [
              0.7777777777777778,
              "#fb9f3a"
             ],
             [
              0.8888888888888888,
              "#fdca26"
             ],
             [
              1,
              "#f0f921"
             ]
            ],
            "type": "heatmapgl"
           }
          ],
          "histogram": [
           {
            "marker": {
             "pattern": {
              "fillmode": "overlay",
              "size": 10,
              "solidity": 0.2
             }
            },
            "type": "histogram"
           }
          ],
          "histogram2d": [
           {
            "colorbar": {
             "outlinewidth": 0,
             "ticks": ""
            },
            "colorscale": [
             [
              0,
              "#0d0887"
             ],
             [
              0.1111111111111111,
              "#46039f"
             ],
             [
              0.2222222222222222,
              "#7201a8"
             ],
             [
              0.3333333333333333,
              "#9c179e"
             ],
             [
              0.4444444444444444,
              "#bd3786"
             ],
             [
              0.5555555555555556,
              "#d8576b"
             ],
             [
              0.6666666666666666,
              "#ed7953"
             ],
             [
              0.7777777777777778,
              "#fb9f3a"
             ],
             [
              0.8888888888888888,
              "#fdca26"
             ],
             [
              1,
              "#f0f921"
             ]
            ],
            "type": "histogram2d"
           }
          ],
          "histogram2dcontour": [
           {
            "colorbar": {
             "outlinewidth": 0,
             "ticks": ""
            },
            "colorscale": [
             [
              0,
              "#0d0887"
             ],
             [
              0.1111111111111111,
              "#46039f"
             ],
             [
              0.2222222222222222,
              "#7201a8"
             ],
             [
              0.3333333333333333,
              "#9c179e"
             ],
             [
              0.4444444444444444,
              "#bd3786"
             ],
             [
              0.5555555555555556,
              "#d8576b"
             ],
             [
              0.6666666666666666,
              "#ed7953"
             ],
             [
              0.7777777777777778,
              "#fb9f3a"
             ],
             [
              0.8888888888888888,
              "#fdca26"
             ],
             [
              1,
              "#f0f921"
             ]
            ],
            "type": "histogram2dcontour"
           }
          ],
          "mesh3d": [
           {
            "colorbar": {
             "outlinewidth": 0,
             "ticks": ""
            },
            "type": "mesh3d"
           }
          ],
          "parcoords": [
           {
            "line": {
             "colorbar": {
              "outlinewidth": 0,
              "ticks": ""
             }
            },
            "type": "parcoords"
           }
          ],
          "pie": [
           {
            "automargin": true,
            "type": "pie"
           }
          ],
          "scatter": [
           {
            "fillpattern": {
             "fillmode": "overlay",
             "size": 10,
             "solidity": 0.2
            },
            "type": "scatter"
           }
          ],
          "scatter3d": [
           {
            "line": {
             "colorbar": {
              "outlinewidth": 0,
              "ticks": ""
             }
            },
            "marker": {
             "colorbar": {
              "outlinewidth": 0,
              "ticks": ""
             }
            },
            "type": "scatter3d"
           }
          ],
          "scattercarpet": [
           {
            "marker": {
             "colorbar": {
              "outlinewidth": 0,
              "ticks": ""
             }
            },
            "type": "scattercarpet"
           }
          ],
          "scattergeo": [
           {
            "marker": {
             "colorbar": {
              "outlinewidth": 0,
              "ticks": ""
             }
            },
            "type": "scattergeo"
           }
          ],
          "scattergl": [
           {
            "marker": {
             "colorbar": {
              "outlinewidth": 0,
              "ticks": ""
             }
            },
            "type": "scattergl"
           }
          ],
          "scattermapbox": [
           {
            "marker": {
             "colorbar": {
              "outlinewidth": 0,
              "ticks": ""
             }
            },
            "type": "scattermapbox"
           }
          ],
          "scatterpolar": [
           {
            "marker": {
             "colorbar": {
              "outlinewidth": 0,
              "ticks": ""
             }
            },
            "type": "scatterpolar"
           }
          ],
          "scatterpolargl": [
           {
            "marker": {
             "colorbar": {
              "outlinewidth": 0,
              "ticks": ""
             }
            },
            "type": "scatterpolargl"
           }
          ],
          "scatterternary": [
           {
            "marker": {
             "colorbar": {
              "outlinewidth": 0,
              "ticks": ""
             }
            },
            "type": "scatterternary"
           }
          ],
          "surface": [
           {
            "colorbar": {
             "outlinewidth": 0,
             "ticks": ""
            },
            "colorscale": [
             [
              0,
              "#0d0887"
             ],
             [
              0.1111111111111111,
              "#46039f"
             ],
             [
              0.2222222222222222,
              "#7201a8"
             ],
             [
              0.3333333333333333,
              "#9c179e"
             ],
             [
              0.4444444444444444,
              "#bd3786"
             ],
             [
              0.5555555555555556,
              "#d8576b"
             ],
             [
              0.6666666666666666,
              "#ed7953"
             ],
             [
              0.7777777777777778,
              "#fb9f3a"
             ],
             [
              0.8888888888888888,
              "#fdca26"
             ],
             [
              1,
              "#f0f921"
             ]
            ],
            "type": "surface"
           }
          ],
          "table": [
           {
            "cells": {
             "fill": {
              "color": "#EBF0F8"
             },
             "line": {
              "color": "white"
             }
            },
            "header": {
             "fill": {
              "color": "#C8D4E3"
             },
             "line": {
              "color": "white"
             }
            },
            "type": "table"
           }
          ]
         },
         "layout": {
          "annotationdefaults": {
           "arrowcolor": "#2a3f5f",
           "arrowhead": 0,
           "arrowwidth": 1
          },
          "autotypenumbers": "strict",
          "coloraxis": {
           "colorbar": {
            "outlinewidth": 0,
            "ticks": ""
           }
          },
          "colorscale": {
           "diverging": [
            [
             0,
             "#8e0152"
            ],
            [
             0.1,
             "#c51b7d"
            ],
            [
             0.2,
             "#de77ae"
            ],
            [
             0.3,
             "#f1b6da"
            ],
            [
             0.4,
             "#fde0ef"
            ],
            [
             0.5,
             "#f7f7f7"
            ],
            [
             0.6,
             "#e6f5d0"
            ],
            [
             0.7,
             "#b8e186"
            ],
            [
             0.8,
             "#7fbc41"
            ],
            [
             0.9,
             "#4d9221"
            ],
            [
             1,
             "#276419"
            ]
           ],
           "sequential": [
            [
             0,
             "#0d0887"
            ],
            [
             0.1111111111111111,
             "#46039f"
            ],
            [
             0.2222222222222222,
             "#7201a8"
            ],
            [
             0.3333333333333333,
             "#9c179e"
            ],
            [
             0.4444444444444444,
             "#bd3786"
            ],
            [
             0.5555555555555556,
             "#d8576b"
            ],
            [
             0.6666666666666666,
             "#ed7953"
            ],
            [
             0.7777777777777778,
             "#fb9f3a"
            ],
            [
             0.8888888888888888,
             "#fdca26"
            ],
            [
             1,
             "#f0f921"
            ]
           ],
           "sequentialminus": [
            [
             0,
             "#0d0887"
            ],
            [
             0.1111111111111111,
             "#46039f"
            ],
            [
             0.2222222222222222,
             "#7201a8"
            ],
            [
             0.3333333333333333,
             "#9c179e"
            ],
            [
             0.4444444444444444,
             "#bd3786"
            ],
            [
             0.5555555555555556,
             "#d8576b"
            ],
            [
             0.6666666666666666,
             "#ed7953"
            ],
            [
             0.7777777777777778,
             "#fb9f3a"
            ],
            [
             0.8888888888888888,
             "#fdca26"
            ],
            [
             1,
             "#f0f921"
            ]
           ]
          },
          "colorway": [
           "#636efa",
           "#EF553B",
           "#00cc96",
           "#ab63fa",
           "#FFA15A",
           "#19d3f3",
           "#FF6692",
           "#B6E880",
           "#FF97FF",
           "#FECB52"
          ],
          "font": {
           "color": "#2a3f5f"
          },
          "geo": {
           "bgcolor": "white",
           "lakecolor": "white",
           "landcolor": "#E5ECF6",
           "showlakes": true,
           "showland": true,
           "subunitcolor": "white"
          },
          "hoverlabel": {
           "align": "left"
          },
          "hovermode": "closest",
          "mapbox": {
           "style": "light"
          },
          "paper_bgcolor": "white",
          "plot_bgcolor": "#E5ECF6",
          "polar": {
           "angularaxis": {
            "gridcolor": "white",
            "linecolor": "white",
            "ticks": ""
           },
           "bgcolor": "#E5ECF6",
           "radialaxis": {
            "gridcolor": "white",
            "linecolor": "white",
            "ticks": ""
           }
          },
          "scene": {
           "xaxis": {
            "backgroundcolor": "#E5ECF6",
            "gridcolor": "white",
            "gridwidth": 2,
            "linecolor": "white",
            "showbackground": true,
            "ticks": "",
            "zerolinecolor": "white"
           },
           "yaxis": {
            "backgroundcolor": "#E5ECF6",
            "gridcolor": "white",
            "gridwidth": 2,
            "linecolor": "white",
            "showbackground": true,
            "ticks": "",
            "zerolinecolor": "white"
           },
           "zaxis": {
            "backgroundcolor": "#E5ECF6",
            "gridcolor": "white",
            "gridwidth": 2,
            "linecolor": "white",
            "showbackground": true,
            "ticks": "",
            "zerolinecolor": "white"
           }
          },
          "shapedefaults": {
           "line": {
            "color": "#2a3f5f"
           }
          },
          "ternary": {
           "aaxis": {
            "gridcolor": "white",
            "linecolor": "white",
            "ticks": ""
           },
           "baxis": {
            "gridcolor": "white",
            "linecolor": "white",
            "ticks": ""
           },
           "bgcolor": "#E5ECF6",
           "caxis": {
            "gridcolor": "white",
            "linecolor": "white",
            "ticks": ""
           }
          },
          "title": {
           "x": 0.05
          },
          "xaxis": {
           "automargin": true,
           "gridcolor": "white",
           "linecolor": "white",
           "ticks": "",
           "title": {
            "standoff": 15
           },
           "zerolinecolor": "white",
           "zerolinewidth": 2
          },
          "yaxis": {
           "automargin": true,
           "gridcolor": "white",
           "linecolor": "white",
           "ticks": "",
           "title": {
            "standoff": 15
           },
           "zerolinecolor": "white",
           "zerolinewidth": 2
          }
         }
        },
        "title": {
         "text": "Optimization History Plot"
        },
        "xaxis": {
         "title": {
          "text": "Trial"
         }
        },
        "yaxis": {
         "title": {
          "text": "Objective Value"
         }
        }
       }
      }
     },
     "metadata": {},
     "output_type": "display_data"
    },
    {
     "data": {
      "application/vnd.plotly.v1+json": {
       "config": {
        "plotlyServerURL": "https://plot.ly"
       },
       "data": [
        {
         "cliponaxis": false,
         "hovertemplate": [
          "lambda (FloatDistribution): 0.01469223470637041<extra></extra>",
          "grow_policy (CategoricalDistribution): 0.017742561428974665<extra></extra>",
          "alpha (FloatDistribution): 0.019767138127799396<extra></extra>",
          "max_delta_step (IntDistribution): 0.022161461169383927<extra></extra>",
          "max_depth (IntDistribution): 0.026457630678626245<extra></extra>",
          "booster (CategoricalDistribution): 0.029437919708874414<extra></extra>",
          "colsample_bynode (FloatDistribution): 0.04123431780393525<extra></extra>",
          "min_child_weight (IntDistribution): 0.04146974111355044<extra></extra>",
          "gamma (FloatDistribution): 0.05376310425635175<extra></extra>",
          "eta (FloatDistribution): 0.07609553357482692<extra></extra>",
          "colsample_bylevel (FloatDistribution): 0.09876814075033338<extra></extra>",
          "colsample_bytree (FloatDistribution): 0.12258241626055501<extra></extra>",
          "subsample (FloatDistribution): 0.20061425925253695<extra></extra>",
          "n_estimators (IntDistribution): 0.23521354116788123<extra></extra>"
         ],
         "name": "Objective Value",
         "orientation": "h",
         "text": [
          "0.01",
          "0.02",
          "0.02",
          "0.02",
          "0.03",
          "0.03",
          "0.04",
          "0.04",
          "0.05",
          "0.08",
          "0.10",
          "0.12",
          "0.20",
          "0.24"
         ],
         "textposition": "outside",
         "type": "bar",
         "x": [
          0.01469223470637041,
          0.017742561428974665,
          0.019767138127799396,
          0.022161461169383927,
          0.026457630678626245,
          0.029437919708874414,
          0.04123431780393525,
          0.04146974111355044,
          0.05376310425635175,
          0.07609553357482692,
          0.09876814075033338,
          0.12258241626055501,
          0.20061425925253695,
          0.23521354116788123
         ],
         "y": [
          "lambda",
          "grow_policy",
          "alpha",
          "max_delta_step",
          "max_depth",
          "booster",
          "colsample_bynode",
          "min_child_weight",
          "gamma",
          "eta",
          "colsample_bylevel",
          "colsample_bytree",
          "subsample",
          "n_estimators"
         ]
        }
       ],
       "layout": {
        "template": {
         "data": {
          "bar": [
           {
            "error_x": {
             "color": "#2a3f5f"
            },
            "error_y": {
             "color": "#2a3f5f"
            },
            "marker": {
             "line": {
              "color": "#E5ECF6",
              "width": 0.5
             },
             "pattern": {
              "fillmode": "overlay",
              "size": 10,
              "solidity": 0.2
             }
            },
            "type": "bar"
           }
          ],
          "barpolar": [
           {
            "marker": {
             "line": {
              "color": "#E5ECF6",
              "width": 0.5
             },
             "pattern": {
              "fillmode": "overlay",
              "size": 10,
              "solidity": 0.2
             }
            },
            "type": "barpolar"
           }
          ],
          "carpet": [
           {
            "aaxis": {
             "endlinecolor": "#2a3f5f",
             "gridcolor": "white",
             "linecolor": "white",
             "minorgridcolor": "white",
             "startlinecolor": "#2a3f5f"
            },
            "baxis": {
             "endlinecolor": "#2a3f5f",
             "gridcolor": "white",
             "linecolor": "white",
             "minorgridcolor": "white",
             "startlinecolor": "#2a3f5f"
            },
            "type": "carpet"
           }
          ],
          "choropleth": [
           {
            "colorbar": {
             "outlinewidth": 0,
             "ticks": ""
            },
            "type": "choropleth"
           }
          ],
          "contour": [
           {
            "colorbar": {
             "outlinewidth": 0,
             "ticks": ""
            },
            "colorscale": [
             [
              0,
              "#0d0887"
             ],
             [
              0.1111111111111111,
              "#46039f"
             ],
             [
              0.2222222222222222,
              "#7201a8"
             ],
             [
              0.3333333333333333,
              "#9c179e"
             ],
             [
              0.4444444444444444,
              "#bd3786"
             ],
             [
              0.5555555555555556,
              "#d8576b"
             ],
             [
              0.6666666666666666,
              "#ed7953"
             ],
             [
              0.7777777777777778,
              "#fb9f3a"
             ],
             [
              0.8888888888888888,
              "#fdca26"
             ],
             [
              1,
              "#f0f921"
             ]
            ],
            "type": "contour"
           }
          ],
          "contourcarpet": [
           {
            "colorbar": {
             "outlinewidth": 0,
             "ticks": ""
            },
            "type": "contourcarpet"
           }
          ],
          "heatmap": [
           {
            "colorbar": {
             "outlinewidth": 0,
             "ticks": ""
            },
            "colorscale": [
             [
              0,
              "#0d0887"
             ],
             [
              0.1111111111111111,
              "#46039f"
             ],
             [
              0.2222222222222222,
              "#7201a8"
             ],
             [
              0.3333333333333333,
              "#9c179e"
             ],
             [
              0.4444444444444444,
              "#bd3786"
             ],
             [
              0.5555555555555556,
              "#d8576b"
             ],
             [
              0.6666666666666666,
              "#ed7953"
             ],
             [
              0.7777777777777778,
              "#fb9f3a"
             ],
             [
              0.8888888888888888,
              "#fdca26"
             ],
             [
              1,
              "#f0f921"
             ]
            ],
            "type": "heatmap"
           }
          ],
          "heatmapgl": [
           {
            "colorbar": {
             "outlinewidth": 0,
             "ticks": ""
            },
            "colorscale": [
             [
              0,
              "#0d0887"
             ],
             [
              0.1111111111111111,
              "#46039f"
             ],
             [
              0.2222222222222222,
              "#7201a8"
             ],
             [
              0.3333333333333333,
              "#9c179e"
             ],
             [
              0.4444444444444444,
              "#bd3786"
             ],
             [
              0.5555555555555556,
              "#d8576b"
             ],
             [
              0.6666666666666666,
              "#ed7953"
             ],
             [
              0.7777777777777778,
              "#fb9f3a"
             ],
             [
              0.8888888888888888,
              "#fdca26"
             ],
             [
              1,
              "#f0f921"
             ]
            ],
            "type": "heatmapgl"
           }
          ],
          "histogram": [
           {
            "marker": {
             "pattern": {
              "fillmode": "overlay",
              "size": 10,
              "solidity": 0.2
             }
            },
            "type": "histogram"
           }
          ],
          "histogram2d": [
           {
            "colorbar": {
             "outlinewidth": 0,
             "ticks": ""
            },
            "colorscale": [
             [
              0,
              "#0d0887"
             ],
             [
              0.1111111111111111,
              "#46039f"
             ],
             [
              0.2222222222222222,
              "#7201a8"
             ],
             [
              0.3333333333333333,
              "#9c179e"
             ],
             [
              0.4444444444444444,
              "#bd3786"
             ],
             [
              0.5555555555555556,
              "#d8576b"
             ],
             [
              0.6666666666666666,
              "#ed7953"
             ],
             [
              0.7777777777777778,
              "#fb9f3a"
             ],
             [
              0.8888888888888888,
              "#fdca26"
             ],
             [
              1,
              "#f0f921"
             ]
            ],
            "type": "histogram2d"
           }
          ],
          "histogram2dcontour": [
           {
            "colorbar": {
             "outlinewidth": 0,
             "ticks": ""
            },
            "colorscale": [
             [
              0,
              "#0d0887"
             ],
             [
              0.1111111111111111,
              "#46039f"
             ],
             [
              0.2222222222222222,
              "#7201a8"
             ],
             [
              0.3333333333333333,
              "#9c179e"
             ],
             [
              0.4444444444444444,
              "#bd3786"
             ],
             [
              0.5555555555555556,
              "#d8576b"
             ],
             [
              0.6666666666666666,
              "#ed7953"
             ],
             [
              0.7777777777777778,
              "#fb9f3a"
             ],
             [
              0.8888888888888888,
              "#fdca26"
             ],
             [
              1,
              "#f0f921"
             ]
            ],
            "type": "histogram2dcontour"
           }
          ],
          "mesh3d": [
           {
            "colorbar": {
             "outlinewidth": 0,
             "ticks": ""
            },
            "type": "mesh3d"
           }
          ],
          "parcoords": [
           {
            "line": {
             "colorbar": {
              "outlinewidth": 0,
              "ticks": ""
             }
            },
            "type": "parcoords"
           }
          ],
          "pie": [
           {
            "automargin": true,
            "type": "pie"
           }
          ],
          "scatter": [
           {
            "fillpattern": {
             "fillmode": "overlay",
             "size": 10,
             "solidity": 0.2
            },
            "type": "scatter"
           }
          ],
          "scatter3d": [
           {
            "line": {
             "colorbar": {
              "outlinewidth": 0,
              "ticks": ""
             }
            },
            "marker": {
             "colorbar": {
              "outlinewidth": 0,
              "ticks": ""
             }
            },
            "type": "scatter3d"
           }
          ],
          "scattercarpet": [
           {
            "marker": {
             "colorbar": {
              "outlinewidth": 0,
              "ticks": ""
             }
            },
            "type": "scattercarpet"
           }
          ],
          "scattergeo": [
           {
            "marker": {
             "colorbar": {
              "outlinewidth": 0,
              "ticks": ""
             }
            },
            "type": "scattergeo"
           }
          ],
          "scattergl": [
           {
            "marker": {
             "colorbar": {
              "outlinewidth": 0,
              "ticks": ""
             }
            },
            "type": "scattergl"
           }
          ],
          "scattermapbox": [
           {
            "marker": {
             "colorbar": {
              "outlinewidth": 0,
              "ticks": ""
             }
            },
            "type": "scattermapbox"
           }
          ],
          "scatterpolar": [
           {
            "marker": {
             "colorbar": {
              "outlinewidth": 0,
              "ticks": ""
             }
            },
            "type": "scatterpolar"
           }
          ],
          "scatterpolargl": [
           {
            "marker": {
             "colorbar": {
              "outlinewidth": 0,
              "ticks": ""
             }
            },
            "type": "scatterpolargl"
           }
          ],
          "scatterternary": [
           {
            "marker": {
             "colorbar": {
              "outlinewidth": 0,
              "ticks": ""
             }
            },
            "type": "scatterternary"
           }
          ],
          "surface": [
           {
            "colorbar": {
             "outlinewidth": 0,
             "ticks": ""
            },
            "colorscale": [
             [
              0,
              "#0d0887"
             ],
             [
              0.1111111111111111,
              "#46039f"
             ],
             [
              0.2222222222222222,
              "#7201a8"
             ],
             [
              0.3333333333333333,
              "#9c179e"
             ],
             [
              0.4444444444444444,
              "#bd3786"
             ],
             [
              0.5555555555555556,
              "#d8576b"
             ],
             [
              0.6666666666666666,
              "#ed7953"
             ],
             [
              0.7777777777777778,
              "#fb9f3a"
             ],
             [
              0.8888888888888888,
              "#fdca26"
             ],
             [
              1,
              "#f0f921"
             ]
            ],
            "type": "surface"
           }
          ],
          "table": [
           {
            "cells": {
             "fill": {
              "color": "#EBF0F8"
             },
             "line": {
              "color": "white"
             }
            },
            "header": {
             "fill": {
              "color": "#C8D4E3"
             },
             "line": {
              "color": "white"
             }
            },
            "type": "table"
           }
          ]
         },
         "layout": {
          "annotationdefaults": {
           "arrowcolor": "#2a3f5f",
           "arrowhead": 0,
           "arrowwidth": 1
          },
          "autotypenumbers": "strict",
          "coloraxis": {
           "colorbar": {
            "outlinewidth": 0,
            "ticks": ""
           }
          },
          "colorscale": {
           "diverging": [
            [
             0,
             "#8e0152"
            ],
            [
             0.1,
             "#c51b7d"
            ],
            [
             0.2,
             "#de77ae"
            ],
            [
             0.3,
             "#f1b6da"
            ],
            [
             0.4,
             "#fde0ef"
            ],
            [
             0.5,
             "#f7f7f7"
            ],
            [
             0.6,
             "#e6f5d0"
            ],
            [
             0.7,
             "#b8e186"
            ],
            [
             0.8,
             "#7fbc41"
            ],
            [
             0.9,
             "#4d9221"
            ],
            [
             1,
             "#276419"
            ]
           ],
           "sequential": [
            [
             0,
             "#0d0887"
            ],
            [
             0.1111111111111111,
             "#46039f"
            ],
            [
             0.2222222222222222,
             "#7201a8"
            ],
            [
             0.3333333333333333,
             "#9c179e"
            ],
            [
             0.4444444444444444,
             "#bd3786"
            ],
            [
             0.5555555555555556,
             "#d8576b"
            ],
            [
             0.6666666666666666,
             "#ed7953"
            ],
            [
             0.7777777777777778,
             "#fb9f3a"
            ],
            [
             0.8888888888888888,
             "#fdca26"
            ],
            [
             1,
             "#f0f921"
            ]
           ],
           "sequentialminus": [
            [
             0,
             "#0d0887"
            ],
            [
             0.1111111111111111,
             "#46039f"
            ],
            [
             0.2222222222222222,
             "#7201a8"
            ],
            [
             0.3333333333333333,
             "#9c179e"
            ],
            [
             0.4444444444444444,
             "#bd3786"
            ],
            [
             0.5555555555555556,
             "#d8576b"
            ],
            [
             0.6666666666666666,
             "#ed7953"
            ],
            [
             0.7777777777777778,
             "#fb9f3a"
            ],
            [
             0.8888888888888888,
             "#fdca26"
            ],
            [
             1,
             "#f0f921"
            ]
           ]
          },
          "colorway": [
           "#636efa",
           "#EF553B",
           "#00cc96",
           "#ab63fa",
           "#FFA15A",
           "#19d3f3",
           "#FF6692",
           "#B6E880",
           "#FF97FF",
           "#FECB52"
          ],
          "font": {
           "color": "#2a3f5f"
          },
          "geo": {
           "bgcolor": "white",
           "lakecolor": "white",
           "landcolor": "#E5ECF6",
           "showlakes": true,
           "showland": true,
           "subunitcolor": "white"
          },
          "hoverlabel": {
           "align": "left"
          },
          "hovermode": "closest",
          "mapbox": {
           "style": "light"
          },
          "paper_bgcolor": "white",
          "plot_bgcolor": "#E5ECF6",
          "polar": {
           "angularaxis": {
            "gridcolor": "white",
            "linecolor": "white",
            "ticks": ""
           },
           "bgcolor": "#E5ECF6",
           "radialaxis": {
            "gridcolor": "white",
            "linecolor": "white",
            "ticks": ""
           }
          },
          "scene": {
           "xaxis": {
            "backgroundcolor": "#E5ECF6",
            "gridcolor": "white",
            "gridwidth": 2,
            "linecolor": "white",
            "showbackground": true,
            "ticks": "",
            "zerolinecolor": "white"
           },
           "yaxis": {
            "backgroundcolor": "#E5ECF6",
            "gridcolor": "white",
            "gridwidth": 2,
            "linecolor": "white",
            "showbackground": true,
            "ticks": "",
            "zerolinecolor": "white"
           },
           "zaxis": {
            "backgroundcolor": "#E5ECF6",
            "gridcolor": "white",
            "gridwidth": 2,
            "linecolor": "white",
            "showbackground": true,
            "ticks": "",
            "zerolinecolor": "white"
           }
          },
          "shapedefaults": {
           "line": {
            "color": "#2a3f5f"
           }
          },
          "ternary": {
           "aaxis": {
            "gridcolor": "white",
            "linecolor": "white",
            "ticks": ""
           },
           "baxis": {
            "gridcolor": "white",
            "linecolor": "white",
            "ticks": ""
           },
           "bgcolor": "#E5ECF6",
           "caxis": {
            "gridcolor": "white",
            "linecolor": "white",
            "ticks": ""
           }
          },
          "title": {
           "x": 0.05
          },
          "xaxis": {
           "automargin": true,
           "gridcolor": "white",
           "linecolor": "white",
           "ticks": "",
           "title": {
            "standoff": 15
           },
           "zerolinecolor": "white",
           "zerolinewidth": 2
          },
          "yaxis": {
           "automargin": true,
           "gridcolor": "white",
           "linecolor": "white",
           "ticks": "",
           "title": {
            "standoff": 15
           },
           "zerolinecolor": "white",
           "zerolinewidth": 2
          }
         }
        },
        "title": {
         "text": "Hyperparameter Importances"
        },
        "xaxis": {
         "title": {
          "text": "Hyperparameter Importance"
         }
        },
        "yaxis": {
         "title": {
          "text": "Hyperparameter"
         }
        }
       }
      }
     },
     "metadata": {},
     "output_type": "display_data"
    }
   ],
   "source": [
    "import optuna\n",
    "import xgboost as xgb\n",
    "from sklearn.model_selection import train_test_split, KFold\n",
    "from sklearn.metrics import mean_absolute_error, r2_score\n",
    "import numpy as np\n",
    "from sklearn.compose import ColumnTransformer\n",
    "from sklearn.preprocessing import StandardScaler, OrdinalEncoder, OneHotEncoder\n",
    "from sklearn.pipeline import Pipeline\n",
    "import category_encoders as ce\n",
    "\n",
    "# Split the dataset\n",
    "X_train, X_test, y_train, y_test = train_test_split(X, y_transformed, test_size=0.2, random_state=42)\n",
    "\n",
    "def create_features(X):\n",
    "    \"\"\"Create additional features\"\"\"\n",
    "    X = X.copy()\n",
    "    \n",
    "    # Area per bedroom\n",
    "    X['area_per_bedroom'] = X['built_up_area'] / (X['bedRoom'] + 1)\n",
    "    \n",
    "    # Bathroom to bedroom ratio\n",
    "    X['bath_bed_ratio'] = X['bathroom'] / (X['bedRoom'] + 1)\n",
    "    \n",
    "    # Total rooms\n",
    "    X['total_rooms'] = X['bedRoom'] + X['bathroom'] + X['servant room'] + X['store room']\n",
    "    \n",
    "    return X\n",
    "\n",
    "def preprocess_data(X_train, X_val, y_train):\n",
    "    \"\"\"Preprocess data with proper target encoding\"\"\"\n",
    "    # Define features by type\n",
    "    numeric_features = ['bedRoom', 'bathroom', 'built_up_area', 'servant room', 'store room', \n",
    "                       'area_per_bedroom', 'bath_bed_ratio', 'total_rooms']\n",
    "    categorical_features = ['property_type', 'balcony', 'luxury_category', 'floor_category']\n",
    "    target_encode_features = ['sector']\n",
    "    onehot_features = ['agePossession', 'furnishing_type']\n",
    "    \n",
    "    # Scale numeric features\n",
    "    scaler = StandardScaler()\n",
    "    X_train_num = scaler.fit_transform(X_train[numeric_features])\n",
    "    X_val_num = scaler.transform(X_val[numeric_features])\n",
    "    \n",
    "    # Ordinal encode basic categorical features\n",
    "    ord_enc = OrdinalEncoder(handle_unknown='use_encoded_value', unknown_value=-1)\n",
    "    X_train_cat = ord_enc.fit_transform(X_train[categorical_features])\n",
    "    X_val_cat = ord_enc.transform(X_val[categorical_features])\n",
    "    \n",
    "    # Target encode high cardinality features\n",
    "    target_enc = ce.TargetEncoder(smoothing=0.5)\n",
    "    X_train_target = target_enc.fit_transform(X_train[target_encode_features], y_train)\n",
    "    X_val_target = target_enc.transform(X_val[target_encode_features])\n",
    "    \n",
    "    # One-hot encode appropriate features\n",
    "    onehot_enc = OneHotEncoder(drop='first', sparse_output=False, handle_unknown='ignore')\n",
    "    X_train_onehot = onehot_enc.fit_transform(X_train[onehot_features])\n",
    "    X_val_onehot = onehot_enc.transform(X_val[onehot_features])\n",
    "    \n",
    "    # Combine all features\n",
    "    X_train_processed = np.hstack([X_train_num, X_train_cat, X_train_target, X_train_onehot])\n",
    "    X_val_processed = np.hstack([X_val_num, X_val_cat, X_val_target, X_val_onehot])\n",
    "    \n",
    "    return X_train_processed, X_val_processed\n",
    "\n",
    "def objective(trial):\n",
    "    # Create features\n",
    "    X_train_feat = create_features(X_train)\n",
    "    X_test_feat = create_features(X_test)\n",
    "    \n",
    "    # Enhanced hyperparameter search space\n",
    "    param = {\n",
    "        'verbosity': 0,\n",
    "        'objective': 'reg:squarederror',\n",
    "        'eval_metric': 'mae',\n",
    "        'booster': trial.suggest_categorical('booster', ['gbtree', 'dart']),\n",
    "        'lambda': trial.suggest_float('lambda', 1e-8, 10.0, log=True),\n",
    "        'alpha': trial.suggest_float('alpha', 1e-8, 10.0, log=True),\n",
    "        'eta': trial.suggest_float('eta', 0.001, 0.5, log=True),\n",
    "        'gamma': trial.suggest_float('gamma', 1e-8, 10.0, log=True),\n",
    "        'max_depth': trial.suggest_int('max_depth', 3, 30),\n",
    "        'min_child_weight': trial.suggest_int('min_child_weight', 1, 15),\n",
    "        'subsample': trial.suggest_float('subsample', 0.3, 1.0),\n",
    "        'colsample_bytree': trial.suggest_float('colsample_bytree', 0.3, 1.0),\n",
    "        'colsample_bylevel': trial.suggest_float('colsample_bylevel', 0.3, 1.0),\n",
    "        'colsample_bynode': trial.suggest_float('colsample_bynode', 0.3, 1.0),\n",
    "        'max_delta_step': trial.suggest_int('max_delta_step', 0, 10),\n",
    "        'n_estimators': trial.suggest_int('n_estimators', 100, 2000),\n",
    "        'grow_policy': trial.suggest_categorical('grow_policy', ['depthwise', 'lossguide']),\n",
    "    }\n",
    "    \n",
    "    if param['booster'] == 'dart':\n",
    "        param['sample_type'] = trial.suggest_categorical('sample_type', ['uniform', 'weighted'])\n",
    "        param['normalize_type'] = trial.suggest_categorical('normalize_type', ['tree', 'forest'])\n",
    "        param['rate_drop'] = trial.suggest_float('rate_drop', 0.0, 0.5)\n",
    "        param['skip_drop'] = trial.suggest_float('skip_drop', 0.0, 0.5)\n",
    "    \n",
    "    # Implement k-fold cross validation\n",
    "    kf = KFold(n_splits=5, shuffle=True, random_state=42)\n",
    "    mae_scores = []\n",
    "    \n",
    "    for fold, (train_idx, val_idx) in enumerate(kf.split(X_train_feat)):\n",
    "        X_fold_train = X_train_feat.iloc[train_idx]\n",
    "        y_fold_train = y_train.iloc[train_idx]\n",
    "        X_fold_val = X_train_feat.iloc[val_idx]\n",
    "        y_fold_val = y_train.iloc[val_idx]\n",
    "        \n",
    "        # Preprocess the data\n",
    "        X_fold_train_processed, X_fold_val_processed = preprocess_data(\n",
    "            X_fold_train, X_fold_val, y_fold_train\n",
    "        )\n",
    "        \n",
    "        # Create DMatrix\n",
    "        dtrain = xgb.DMatrix(X_fold_train_processed, label=y_fold_train)\n",
    "        dval = xgb.DMatrix(X_fold_val_processed, label=y_fold_val)\n",
    "        \n",
    "        # Train model\n",
    "        model = xgb.train(\n",
    "            param,\n",
    "            dtrain,\n",
    "            num_boost_round=param['n_estimators'],\n",
    "            evals=[(dval, 'val')],\n",
    "            early_stopping_rounds=50,\n",
    "            verbose_eval=False\n",
    "        )\n",
    "        \n",
    "        # Predict and calculate MAE\n",
    "        preds = model.predict(dval)\n",
    "        mae = mean_absolute_error(np.expm1(y_fold_val), np.expm1(preds))\n",
    "        mae_scores.append(mae)\n",
    "    \n",
    "    mean_mae = np.mean(mae_scores)\n",
    "    mae_std = np.std(mae_scores)\n",
    "    final_score = mean_mae * (1 + mae_std)\n",
    "    \n",
    "    trial.set_user_attr('mae_std', mae_std)\n",
    "    trial.set_user_attr('raw_mae', mean_mae)\n",
    "    \n",
    "    return final_score\n",
    "\n",
    "# Create and run study\n",
    "study = optuna.create_study(\n",
    "    direction='minimize',\n",
    "    pruner=optuna.pruners.MedianPruner(\n",
    "        n_startup_trials=5,\n",
    "        n_warmup_steps=5,\n",
    "        interval_steps=3\n",
    "    )\n",
    ")\n",
    "study.optimize(objective, n_trials=150, n_jobs=-1)\n",
    "\n",
    "# Train final model with best parameters\n",
    "best_params = study.best_trial.params\n",
    "best_params['objective'] = 'reg:squarederror'\n",
    "best_params['eval_metric'] = 'mae'\n",
    "\n",
    "# Create final features and preprocess\n",
    "X_train_feat = create_features(X_train)\n",
    "X_test_feat = create_features(X_test)\n",
    "X_train_processed, X_test_processed = preprocess_data(X_train_feat, X_test_feat, y_train)\n",
    "\n",
    "# Train final model\n",
    "dtrain = xgb.DMatrix(X_train_processed, label=y_train)\n",
    "dtest = xgb.DMatrix(X_test_processed, label=y_test)\n",
    "final_model = xgb.train(\n",
    "    best_params,\n",
    "    dtrain,\n",
    "    num_boost_round=best_params['n_estimators'],\n",
    "    early_stopping_rounds=50,\n",
    "    evals=[(dtrain, \"train\"), (dtest, \"eval\")]\n",
    ")\n",
    "\n",
    "# Final evaluation\n",
    "final_preds = final_model.predict(dtest)\n",
    "final_mae = mean_absolute_error(np.expm1(y_test), np.expm1(final_preds))\n",
    "final_r2 = r2_score(y_test, final_preds)\n",
    "\n",
    "print(\"\\nBest trial:\")\n",
    "print(\"  MAE: \", study.best_trial.value)\n",
    "print(\"  Raw MAE: \", study.best_trial.user_attrs['raw_mae'])\n",
    "print(\"  MAE Std: \", study.best_trial.user_attrs['mae_std'])\n",
    "print(\"\\nBest hyperparameters:\")\n",
    "for key, value in study.best_trial.params.items():\n",
    "    print(f\"    {key}: {value}\")\n",
    "\n",
    "print(\"\\nFinal Model Performance:\")\n",
    "print(f\"MAE: {final_mae:.4f}\")\n",
    "print(f\"R2 Score: {final_r2:.4f}\")\n",
    "\n",
    "# Feature importance analysis\n",
    "feature_importance = final_model.get_score(importance_type='gain')\n",
    "sorted_importance = sorted(feature_importance.items(), key=lambda x: x[1], reverse=True)\n",
    "print(\"\\nTop 10 Most Important Features:\")\n",
    "for feat, importance in sorted_importance[:10]:\n",
    "    print(f\"{feat}: {importance:.4f}\")\n",
    "\n",
    "# Visualization\n",
    "try:\n",
    "    import plotly\n",
    "    fig1 = optuna.visualization.plot_optimization_history(study)\n",
    "    fig2 = optuna.visualization.plot_param_importances(study)\n",
    "    fig1.show()\n",
    "    fig2.show()\n",
    "except:\n",
    "    print(\"Visualization requires plotly to be installed\")"
   ]
  },
  {
   "cell_type": "code",
   "execution_count": 24,
   "id": "bbddcb62",
   "metadata": {},
   "outputs": [
    {
     "name": "stdout",
     "output_type": "stream",
     "text": [
      "Best MAE (with variance penalty): 0.5452307215638383\n",
      "Raw MAE: 0.5200646370615968\n",
      "MAE Standard Deviation: 0.04839030133721801\n",
      "\n",
      "Best parameters:\n",
      "{'booster': 'gbtree', 'lambda': 2.806519745479964e-05, 'alpha': 8.971705154637653e-06, 'eta': 0.010106928111265548, 'gamma': 3.587578552074615e-06, 'max_depth': 29, 'min_child_weight': 13, 'subsample': 0.9986782885481962, 'colsample_bytree': 0.6404365813951769, 'colsample_bylevel': 0.5814819838786656, 'colsample_bynode': 0.858396343604288, 'max_delta_step': 10, 'n_estimators': 1288, 'grow_policy': 'depthwise'}\n",
      "\n",
      "Best trial number: 93\n",
      "\n",
      "All trials:\n",
      "     number     value             datetime_start          datetime_complete  \\\n",
      "93       93  0.545231 2024-12-19 21:09:27.456988 2024-12-19 21:10:39.642080   \n",
      "73       73  0.545708 2024-12-19 20:58:07.259950 2024-12-19 20:59:16.675232   \n",
      "144     144  0.545802 2024-12-19 21:19:56.176570 2024-12-19 21:20:54.533170   \n",
      "142     142  0.546033 2024-12-19 21:19:44.109708 2024-12-19 21:21:02.843436   \n",
      "143     143  0.546569 2024-12-19 21:19:49.095622 2024-12-19 21:21:03.459037   \n",
      "\n",
      "                  duration  params_alpha params_booster  \\\n",
      "93  0 days 00:01:12.185092  8.971705e-06         gbtree   \n",
      "73  0 days 00:01:09.415282  2.378259e-08         gbtree   \n",
      "144 0 days 00:00:58.356600  1.717889e-05         gbtree   \n",
      "142 0 days 00:01:18.733728  1.727137e-05         gbtree   \n",
      "143 0 days 00:01:14.363415  1.756040e-05         gbtree   \n",
      "\n",
      "     params_colsample_bylevel  params_colsample_bynode  \\\n",
      "93                   0.581482                 0.858396   \n",
      "73                   0.663720                 0.877847   \n",
      "144                  0.609274                 0.871210   \n",
      "142                  0.585142                 0.872056   \n",
      "143                  0.587672                 0.873963   \n",
      "\n",
      "     params_colsample_bytree  ...  params_min_child_weight  \\\n",
      "93                  0.640437  ...                       13   \n",
      "73                  0.725927  ...                       15   \n",
      "144                 0.638216  ...                       14   \n",
      "142                 0.696446  ...                       14   \n",
      "143                 0.694906  ...                       14   \n",
      "\n",
      "     params_n_estimators params_normalize_type  params_rate_drop  \\\n",
      "93                  1288                   NaN               NaN   \n",
      "73                   656                   NaN               NaN   \n",
      "144                 1509                   NaN               NaN   \n",
      "142                 1448                   NaN               NaN   \n",
      "143                 1177                   NaN               NaN   \n",
      "\n",
      "     params_sample_type  params_skip_drop  params_subsample  \\\n",
      "93                  NaN               NaN          0.998678   \n",
      "73                  NaN               NaN          0.961855   \n",
      "144                 NaN               NaN          0.968244   \n",
      "142                 NaN               NaN          0.976778   \n",
      "143                 NaN               NaN          0.977893   \n",
      "\n",
      "     user_attrs_mae_std user_attrs_raw_mae     state  \n",
      "93             0.048390           0.520065  COMPLETE  \n",
      "73             0.050932           0.519261  COMPLETE  \n",
      "144            0.050218           0.519704  COMPLETE  \n",
      "142            0.048657           0.520698  COMPLETE  \n",
      "143            0.048702           0.521186  COMPLETE  \n",
      "\n",
      "[5 rows x 26 columns]\n"
     ]
    }
   ],
   "source": [
    "# Best MAE (includes variance penalty)\n",
    "print(\"Best MAE (with variance penalty):\", study.best_trial.value)\n",
    "\n",
    "# Raw MAE (without variance penalty)\n",
    "print(\"Raw MAE:\", study.best_trial.user_attrs['raw_mae'])\n",
    "\n",
    "# Standard deviation of MAE across folds\n",
    "print(\"MAE Standard Deviation:\", study.best_trial.user_attrs['mae_std'])\n",
    "\n",
    "# Best parameters\n",
    "print(\"\\nBest parameters:\")\n",
    "print(study.best_params)\n",
    "\n",
    "# Best trial number\n",
    "print(\"\\nBest trial number:\", study.best_trial.number)\n",
    "\n",
    "# All trials information\n",
    "print(\"\\nAll trials:\")\n",
    "trials_df = study.trials_dataframe()\n",
    "print(trials_df.sort_values('value').head())  # Shows top 5 trials"
   ]
  },
  {
   "cell_type": "code",
   "execution_count": 32,
   "id": "6361160d",
   "metadata": {},
   "outputs": [],
   "source": [
    "from xgboost import XGBRegressor\n",
    "\n",
    "def objective(trial):\n",
    "    # Create features\n",
    "    X_train_feat = create_features(X_train)\n",
    "    X_test_feat = create_features(X_test)\n",
    "    \n",
    "    # Define XGBoost parameters\n",
    "    params = {\n",
    "        'n_estimators': trial.suggest_int('n_estimators', 100, 2000),\n",
    "        'max_depth': trial.suggest_int('max_depth', 3, 30),\n",
    "        'learning_rate': trial.suggest_float('learning_rate', 0.001, 0.5, log=True),\n",
    "        'min_child_weight': trial.suggest_int('min_child_weight', 1, 15),\n",
    "        'subsample': trial.suggest_float('subsample', 0.3, 1.0),\n",
    "        'colsample_bytree': trial.suggest_float('colsample_bytree', 0.3, 1.0),\n",
    "        'colsample_bylevel': trial.suggest_float('colsample_bylevel', 0.3, 1.0),\n",
    "        'colsample_bynode': trial.suggest_float('colsample_bynode', 0.3, 1.0),\n",
    "        'reg_alpha': trial.suggest_float('reg_alpha', 1e-8, 10.0, log=True),\n",
    "        'reg_lambda': trial.suggest_float('reg_lambda', 1e-8, 10.0, log=True),\n",
    "        'gamma': trial.suggest_float('gamma', 1e-8, 10.0, log=True),\n",
    "        'max_delta_step': trial.suggest_int('max_delta_step', 0, 10),\n",
    "        'grow_policy': trial.suggest_categorical('grow_policy', ['depthwise', 'lossguide']),\n",
    "        'booster': trial.suggest_categorical('booster', ['gbtree', 'dart']),\n",
    "        'random_state': 42,\n",
    "        'n_jobs': -1,\n",
    "        'early_stopping_rounds': 50  # Moved here\n",
    "    }\n",
    "    \n",
    "    if params['booster'] == 'dart':\n",
    "        params['sample_type'] = trial.suggest_categorical('sample_type', ['uniform', 'weighted'])\n",
    "        params['normalize_type'] = trial.suggest_categorical('normalize_type', ['tree', 'forest'])\n",
    "        params['rate_drop'] = trial.suggest_float('rate_drop', 0.0, 0.5)\n",
    "        params['skip_drop'] = trial.suggest_float('skip_drop', 0.0, 0.5)\n",
    "    \n",
    "    # Implement k-fold cross validation\n",
    "    kf = KFold(n_splits=5, shuffle=True, random_state=42)\n",
    "    mae_scores = []\n",
    "    \n",
    "    for fold, (train_idx, val_idx) in enumerate(kf.split(X_train_feat)):\n",
    "        X_fold_train = X_train_feat.iloc[train_idx]\n",
    "        y_fold_train = y_train.iloc[train_idx]\n",
    "        X_fold_val = X_train_feat.iloc[val_idx]\n",
    "        y_fold_val = y_train.iloc[val_idx]\n",
    "        \n",
    "        # Preprocess the data\n",
    "        X_fold_train_processed, X_fold_val_processed = preprocess_data(\n",
    "            X_fold_train, X_fold_val, y_fold_train\n",
    "        )\n",
    "        \n",
    "        # Create and train model\n",
    "        model = XGBRegressor(**params)\n",
    "        model.fit(\n",
    "            X_fold_train_processed, \n",
    "            y_fold_train,\n",
    "            eval_set=[(X_fold_val_processed, y_fold_val)],\n",
    "            verbose=False\n",
    "        )\n",
    "        \n",
    "        # Predict and calculate MAE\n",
    "        preds = model.predict(X_fold_val_processed)\n",
    "        mae = mean_absolute_error(np.expm1(y_fold_val), np.expm1(preds))\n",
    "        mae_scores.append(mae)\n",
    "    \n",
    "    mean_mae = np.mean(mae_scores)\n",
    "    mae_std = np.std(mae_scores)\n",
    "    final_score = mean_mae * (1 + mae_std)\n",
    "    \n",
    "    trial.set_user_attr('mae_std', mae_std)\n",
    "    trial.set_user_attr('raw_mae', mean_mae)\n",
    "    \n",
    "    return final_score\n",
    "\n",
    "# ... rest of the code remains same until final model training ...\n",
    "\n",
    "# Train final model\n",
    "best_params['early_stopping_rounds'] = 50  # Add early stopping to best params\n",
    "final_model = XGBRegressor(**best_params, random_state=42, n_jobs=-1)\n",
    "final_model.fit(\n",
    "    X_train_processed,\n",
    "    y_train,\n",
    "    eval_set=[(X_test_processed, y_test)],\n",
    "    verbose=False\n",
    ")\n",
    "\n",
    "# Final evaluation\n",
    "final_preds = final_model.predict(X_test_processed)\n",
    "final_mae = mean_absolute_error(np.expm1(y_test), np.expm1(final_preds))\n",
    "final_r2 = r2_score(y_test, final_preds)\n",
    "\n",
    "# Feature importance analysis\n",
    "feature_importance = final_model.feature_importances_\n",
    "feature_names = [f\"feature_{i}\" for i in range(X_train_processed.shape[1])]\n",
    "importance_dict = dict(zip(feature_names, feature_importance))\n",
    "sorted_importance = sorted(importance_dict.items(), key=lambda x: x[1], reverse=True)"
   ]
  },
  {
   "cell_type": "code",
   "execution_count": 35,
   "id": "680a869d",
   "metadata": {},
   "outputs": [
    {
     "data": {
      "text/plain": [
       "(np.float64(0.510324515712915), 0.9017210523727519)"
      ]
     },
     "execution_count": 35,
     "metadata": {},
     "output_type": "execute_result"
    }
   ],
   "source": [
    "final_mae,final_r2"
   ]
  },
  {
   "cell_type": "code",
   "execution_count": 36,
   "id": "59d7b46a",
   "metadata": {},
   "outputs": [
    {
     "name": "stderr",
     "output_type": "stream",
     "text": [
      "[I 2024-12-22 16:33:57,363] A new study created in memory with name: no-name-89d3ec03-2843-4290-bcc8-e40396f5140c\n",
      "[I 2024-12-22 16:34:02,196] Trial 0 finished with value: 0.5604361461782889 and parameters: {'n_estimators': 410, 'max_depth': 26, 'learning_rate': 0.14011894507581135, 'min_child_weight': 2, 'subsample': 0.6826774563596791, 'colsample_bytree': 0.5790888087240276, 'reg_alpha': 1.8089168189992698e-08, 'reg_lambda': 1.7911616055420272e-08}. Best is trial 0 with value: 0.5604361461782889.\n",
      "[I 2024-12-22 16:34:03,666] Trial 1 finished with value: 0.535513141362441 and parameters: {'n_estimators': 1278, 'max_depth': 18, 'learning_rate': 0.13880132132659198, 'min_child_weight': 14, 'subsample': 0.6773880404690773, 'colsample_bytree': 0.5735246420424917, 'reg_alpha': 1.5451762235465848e-05, 'reg_lambda': 7.99103358199112e-07}. Best is trial 1 with value: 0.535513141362441.\n",
      "[I 2024-12-22 16:34:12,486] Trial 2 finished with value: 0.9893437548837595 and parameters: {'n_estimators': 867, 'max_depth': 29, 'learning_rate': 0.0010267408925003956, 'min_child_weight': 10, 'subsample': 0.8276085488123057, 'colsample_bytree': 0.4006277978560381, 'reg_alpha': 0.0003136929472227985, 'reg_lambda': 0.00230077744300875}. Best is trial 1 with value: 0.535513141362441.\n",
      "[I 2024-12-22 16:34:16,928] Trial 3 finished with value: 0.5277172728321646 and parameters: {'n_estimators': 704, 'max_depth': 30, 'learning_rate': 0.02321271170032459, 'min_child_weight': 14, 'subsample': 0.6882575628817321, 'colsample_bytree': 0.3207218544195556, 'reg_alpha': 4.893421197883528e-06, 'reg_lambda': 6.351527989551988e-07}. Best is trial 3 with value: 0.5277172728321646.\n",
      "[I 2024-12-22 16:34:23,696] Trial 4 finished with value: 0.5224494238905538 and parameters: {'n_estimators': 1637, 'max_depth': 23, 'learning_rate': 0.015609321264296476, 'min_child_weight': 9, 'subsample': 0.8599515359633247, 'colsample_bytree': 0.7586329780600722, 'reg_alpha': 4.563269111023834e-06, 'reg_lambda': 9.686976613305213e-06}. Best is trial 4 with value: 0.5224494238905538.\n",
      "[I 2024-12-22 16:34:25,932] Trial 5 finished with value: 0.5256224017906632 and parameters: {'n_estimators': 548, 'max_depth': 7, 'learning_rate': 0.03017100811024107, 'min_child_weight': 7, 'subsample': 0.7469778653867931, 'colsample_bytree': 0.6397591771322876, 'reg_alpha': 0.0005457815049032431, 'reg_lambda': 6.520236847922262}. Best is trial 4 with value: 0.5224494238905538.\n",
      "[I 2024-12-22 16:34:27,896] Trial 6 finished with value: 0.5853597217194496 and parameters: {'n_estimators': 1069, 'max_depth': 19, 'learning_rate': 0.1322034049009396, 'min_child_weight': 4, 'subsample': 0.797168412531474, 'colsample_bytree': 0.3084612687771405, 'reg_alpha': 0.01599561982868548, 'reg_lambda': 2.655529247689528e-06}. Best is trial 4 with value: 0.5224494238905538.\n",
      "[I 2024-12-22 16:34:29,500] Trial 7 finished with value: 0.5228425337002878 and parameters: {'n_estimators': 384, 'max_depth': 15, 'learning_rate': 0.10288637721041871, 'min_child_weight': 5, 'subsample': 0.9576388806087481, 'colsample_bytree': 0.4737299408759894, 'reg_alpha': 1.287131950983178, 'reg_lambda': 1.4168010771932367e-06}. Best is trial 4 with value: 0.5224494238905538.\n",
      "[I 2024-12-22 16:34:33,156] Trial 8 finished with value: 0.555108294630361 and parameters: {'n_estimators': 870, 'max_depth': 6, 'learning_rate': 0.004149851478605058, 'min_child_weight': 5, 'subsample': 0.4442180853541656, 'colsample_bytree': 0.9110166015030774, 'reg_alpha': 1.2194675777763748e-05, 'reg_lambda': 0.006492880564374481}. Best is trial 4 with value: 0.5224494238905538.\n",
      "[I 2024-12-22 16:34:35,767] Trial 9 finished with value: 0.682195523877448 and parameters: {'n_estimators': 1819, 'max_depth': 20, 'learning_rate': 0.4213438806990898, 'min_child_weight': 1, 'subsample': 0.9227411957040175, 'colsample_bytree': 0.3836849616700947, 'reg_alpha': 6.0264140723609805e-05, 'reg_lambda': 2.1017810029081227e-08}. Best is trial 4 with value: 0.5224494238905538.\n",
      "[I 2024-12-22 16:34:45,456] Trial 10 finished with value: 0.5275882892618307 and parameters: {'n_estimators': 1960, 'max_depth': 12, 'learning_rate': 0.005291589266886441, 'min_child_weight': 10, 'subsample': 0.5292851009825978, 'colsample_bytree': 0.8357132913429817, 'reg_alpha': 2.760979566609995e-08, 'reg_lambda': 7.312683954592702e-05}. Best is trial 4 with value: 0.5224494238905538.\n",
      "[I 2024-12-22 16:34:46,223] Trial 11 finished with value: 0.6220134151372352 and parameters: {'n_estimators': 139, 'max_depth': 13, 'learning_rate': 0.05606393904611757, 'min_child_weight': 8, 'subsample': 0.952807147559765, 'colsample_bytree': 0.7771649597727099, 'reg_alpha': 9.607696463073697, 'reg_lambda': 4.8491045835321575e-05}. Best is trial 4 with value: 0.5224494238905538.\n",
      "[I 2024-12-22 16:34:54,089] Trial 12 finished with value: 0.5734035902752221 and parameters: {'n_estimators': 1589, 'max_depth': 23, 'learning_rate': 0.006726027064713442, 'min_child_weight': 11, 'subsample': 0.9938482450214563, 'colsample_bytree': 0.7373320165527503, 'reg_alpha': 4.421865773211484, 'reg_lambda': 1.4155987959103862e-05}. Best is trial 4 with value: 0.5224494238905538.\n",
      "[I 2024-12-22 16:35:02,258] Trial 13 finished with value: 0.521645831865337 and parameters: {'n_estimators': 1427, 'max_depth': 13, 'learning_rate': 0.011533471080735061, 'min_child_weight': 6, 'subsample': 0.8802123381817845, 'colsample_bytree': 0.47422845462699176, 'reg_alpha': 0.028309203844060812, 'reg_lambda': 0.013109312665727596}. Best is trial 13 with value: 0.521645831865337.\n",
      "[I 2024-12-22 16:35:07,157] Trial 14 finished with value: 0.5218376738829973 and parameters: {'n_estimators': 1549, 'max_depth': 9, 'learning_rate': 0.013367610324237163, 'min_child_weight': 7, 'subsample': 0.8693764638013698, 'colsample_bytree': 0.5044030158762123, 'reg_alpha': 0.043207595000942706, 'reg_lambda': 0.2786419650278846}. Best is trial 13 with value: 0.521645831865337.\n",
      "[I 2024-12-22 16:35:10,557] Trial 15 finished with value: 0.7162285005141602 and parameters: {'n_estimators': 1257, 'max_depth': 3, 'learning_rate': 0.0017860143803188348, 'min_child_weight': 7, 'subsample': 0.30188128212441795, 'colsample_bytree': 0.5192257739259896, 'reg_alpha': 0.049378820214207586, 'reg_lambda': 0.1186873727209651}. Best is trial 13 with value: 0.521645831865337.\n",
      "[I 2024-12-22 16:35:20,432] Trial 16 finished with value: 0.5249786763468288 and parameters: {'n_estimators': 1438, 'max_depth': 10, 'learning_rate': 0.008577350950723385, 'min_child_weight': 3, 'subsample': 0.5844726445007759, 'colsample_bytree': 0.45491158135681486, 'reg_alpha': 0.029301891602403582, 'reg_lambda': 0.4729167725619984}. Best is trial 13 with value: 0.521645831865337.\n",
      "[I 2024-12-22 16:35:25,313] Trial 17 finished with value: 0.5225437733580287 and parameters: {'n_estimators': 1541, 'max_depth': 9, 'learning_rate': 0.014616358389072487, 'min_child_weight': 6, 'subsample': 0.8777405880967715, 'colsample_bytree': 0.658680254700913, 'reg_alpha': 0.3538646721769549, 'reg_lambda': 0.02318732286753172}. Best is trial 13 with value: 0.521645831865337.\n",
      "[I 2024-12-22 16:35:34,241] Trial 18 finished with value: 0.5870510384177676 and parameters: {'n_estimators': 1247, 'max_depth': 15, 'learning_rate': 0.0026980531885765504, 'min_child_weight': 11, 'subsample': 0.7725815128471396, 'colsample_bytree': 0.5333546752909248, 'reg_alpha': 0.002179160129310589, 'reg_lambda': 5.823972036190265}. Best is trial 13 with value: 0.521645831865337.\n",
      "[I 2024-12-22 16:35:35,816] Trial 19 finished with value: 0.5339186370738768 and parameters: {'n_estimators': 1813, 'max_depth': 4, 'learning_rate': 0.05493906332901136, 'min_child_weight': 12, 'subsample': 0.8985050083515332, 'colsample_bytree': 0.6462921534031716, 'reg_alpha': 0.2438607927894421, 'reg_lambda': 0.0013033673363730576}. Best is trial 13 with value: 0.521645831865337.\n",
      "[I 2024-12-22 16:35:41,743] Trial 20 finished with value: 0.5314263058129973 and parameters: {'n_estimators': 1403, 'max_depth': 11, 'learning_rate': 0.010553536195281805, 'min_child_weight': 8, 'subsample': 0.5966706622436451, 'colsample_bytree': 0.9901744020267738, 'reg_alpha': 0.003859143393080565, 'reg_lambda': 0.29586333815271665}. Best is trial 13 with value: 0.521645831865337.\n",
      "[I 2024-12-22 16:35:47,658] Trial 21 finished with value: 0.5243718635296438 and parameters: {'n_estimators': 1677, 'max_depth': 22, 'learning_rate': 0.015796139387050254, 'min_child_weight': 9, 'subsample': 0.8448532791237704, 'colsample_bytree': 0.7472649354126321, 'reg_alpha': 7.067622751041757e-07, 'reg_lambda': 0.025449774013983975}. Best is trial 13 with value: 0.521645831865337.\n",
      "[I 2024-12-22 16:35:50,778] Trial 22 finished with value: 0.5277464328745186 and parameters: {'n_estimators': 1726, 'max_depth': 15, 'learning_rate': 0.03903438557907197, 'min_child_weight': 6, 'subsample': 0.8705427990108212, 'colsample_bytree': 0.43872758412905283, 'reg_alpha': 1.3612972999900763e-06, 'reg_lambda': 0.0006968402681441986}. Best is trial 13 with value: 0.521645831865337.\n",
      "[I 2024-12-22 16:35:58,191] Trial 23 finished with value: 0.52367505886528 and parameters: {'n_estimators': 1455, 'max_depth': 26, 'learning_rate': 0.015666219026804575, 'min_child_weight': 9, 'subsample': 0.755893170002055, 'colsample_bytree': 0.706856406302361, 'reg_alpha': 0.00018039586415968207, 'reg_lambda': 1.0331845930763732}. Best is trial 13 with value: 0.521645831865337.\n",
      "[I 2024-12-22 16:36:14,654] Trial 24 finished with value: 0.5285962808637323 and parameters: {'n_estimators': 1966, 'max_depth': 8, 'learning_rate': 0.0035119362985959373, 'min_child_weight': 7, 'subsample': 0.9804086560539884, 'colsample_bytree': 0.823278793011157, 'reg_alpha': 0.005428379062125334, 'reg_lambda': 0.04055735351375266}. Best is trial 13 with value: 0.521645831865337.\n",
      "[I 2024-12-22 16:36:27,610] Trial 25 finished with value: 0.5224067065296514 and parameters: {'n_estimators': 1079, 'max_depth': 13, 'learning_rate': 0.010337585407788615, 'min_child_weight': 4, 'subsample': 0.8136069313614724, 'colsample_bytree': 0.5800995358152906, 'reg_alpha': 3.3147174221386296e-07, 'reg_lambda': 9.592240876352908e-05}. Best is trial 13 with value: 0.521645831865337.\n",
      "[I 2024-12-22 16:36:40,526] Trial 26 finished with value: 0.526697391740196 and parameters: {'n_estimators': 1049, 'max_depth': 13, 'learning_rate': 0.009690875406313148, 'min_child_weight': 3, 'subsample': 0.7333669500427382, 'colsample_bytree': 0.5120291041814867, 'reg_alpha': 1.303369139635587e-07, 'reg_lambda': 0.0001169941792883969}. Best is trial 13 with value: 0.521645831865337.\n",
      "[I 2024-12-22 16:36:59,447] Trial 27 finished with value: 0.5230731932267348 and parameters: {'n_estimators': 1041, 'max_depth': 10, 'learning_rate': 0.005890661031066025, 'min_child_weight': 4, 'subsample': 0.8173553661766333, 'colsample_bytree': 0.5824391684936364, 'reg_alpha': 0.1255183199022475, 'reg_lambda': 0.00028297171462308225}. Best is trial 13 with value: 0.521645831865337.\n",
      "[I 2024-12-22 16:37:05,835] Trial 28 finished with value: 0.5273520735383009 and parameters: {'n_estimators': 1163, 'max_depth': 5, 'learning_rate': 0.023684429499127548, 'min_child_weight': 5, 'subsample': 0.9166936264066222, 'colsample_bytree': 0.3757072459827976, 'reg_alpha': 0.009760841117690417, 'reg_lambda': 0.006173385595184107}. Best is trial 13 with value: 0.521645831865337.\n",
      "[I 2024-12-22 16:37:08,774] Trial 29 finished with value: 0.560320073153797 and parameters: {'n_estimators': 948, 'max_depth': 17, 'learning_rate': 0.4637064025540808, 'min_child_weight': 1, 'subsample': 0.7241502344359568, 'colsample_bytree': 0.5943250540839263, 'reg_alpha': 0.9484246056504585, 'reg_lambda': 1.3832565139609136}. Best is trial 13 with value: 0.521645831865337.\n",
      "[I 2024-12-22 16:37:40,999] Trial 30 finished with value: 0.5581429104915395 and parameters: {'n_estimators': 1363, 'max_depth': 14, 'learning_rate': 0.0023939057995780947, 'min_child_weight': 3, 'subsample': 0.6358361840402209, 'colsample_bytree': 0.48578773270606573, 'reg_alpha': 1.3183779843624551e-08, 'reg_lambda': 0.08164939371584405}. Best is trial 13 with value: 0.521645831865337.\n",
      "[I 2024-12-22 16:37:52,074] Trial 31 finished with value: 0.5249823119038863 and parameters: {'n_estimators': 1580, 'max_depth': 25, 'learning_rate': 0.013657878780157466, 'min_child_weight': 6, 'subsample': 0.8491706474416675, 'colsample_bytree': 0.6914948477028695, 'reg_alpha': 1.7019781126582814e-07, 'reg_lambda': 6.74236194344544e-06}. Best is trial 13 with value: 0.521645831865337.\n",
      "[I 2024-12-22 16:37:55,553] Trial 32 finished with value: 0.5276067391953422 and parameters: {'n_estimators': 1791, 'max_depth': 17, 'learning_rate': 0.04041692969086, 'min_child_weight': 9, 'subsample': 0.8015648230891665, 'colsample_bytree': 0.5602957940128606, 'reg_alpha': 1.4328524958894325e-06, 'reg_lambda': 1.1258230663195325e-07}. Best is trial 13 with value: 0.521645831865337.\n",
      "[W 2024-12-22 16:38:01,111] Trial 33 failed with parameters: {'n_estimators': 1316, 'max_depth': 21, 'learning_rate': 0.008206684510886242, 'min_child_weight': 7, 'subsample': 0.9238705715674491, 'colsample_bytree': 0.6126401066592335, 'reg_alpha': 0.0013828555777954993, 'reg_lambda': 0.005356025255188397} because of the following error: KeyboardInterrupt().\n",
      "Traceback (most recent call last):\n",
      "  File \"c:\\Users\\vijit_singh\\Desktop\\Personal projects repo\\Estate-Radar\\env\\Lib\\site-packages\\optuna\\study\\_optimize.py\", line 197, in _run_trial\n",
      "    value_or_values = func(trial)\n",
      "                      ^^^^^^^^^^^\n",
      "  File \"C:\\Users\\vijit_singh\\AppData\\Local\\Temp\\ipykernel_16416\\1314447397.py\", line 38, in objective\n",
      "    model.fit(\n",
      "  File \"c:\\Users\\vijit_singh\\Desktop\\Personal projects repo\\Estate-Radar\\env\\Lib\\site-packages\\xgboost\\core.py\", line 730, in inner_f\n",
      "    return func(**kwargs)\n",
      "           ^^^^^^^^^^^^^^\n",
      "  File \"c:\\Users\\vijit_singh\\Desktop\\Personal projects repo\\Estate-Radar\\env\\Lib\\site-packages\\xgboost\\sklearn.py\", line 1090, in fit\n",
      "    self._Booster = train(\n",
      "                    ^^^^^^\n",
      "  File \"c:\\Users\\vijit_singh\\Desktop\\Personal projects repo\\Estate-Radar\\env\\Lib\\site-packages\\xgboost\\core.py\", line 730, in inner_f\n",
      "    return func(**kwargs)\n",
      "           ^^^^^^^^^^^^^^\n",
      "  File \"c:\\Users\\vijit_singh\\Desktop\\Personal projects repo\\Estate-Radar\\env\\Lib\\site-packages\\xgboost\\training.py\", line 181, in train\n",
      "    bst.update(dtrain, i, obj)\n",
      "  File \"c:\\Users\\vijit_singh\\Desktop\\Personal projects repo\\Estate-Radar\\env\\Lib\\site-packages\\xgboost\\core.py\", line 2051, in update\n",
      "    _LIB.XGBoosterUpdateOneIter(\n",
      "KeyboardInterrupt\n",
      "[W 2024-12-22 16:38:01,116] Trial 33 failed with value None.\n"
     ]
    },
    {
     "ename": "KeyboardInterrupt",
     "evalue": "",
     "output_type": "error",
     "traceback": [
      "\u001b[1;31m---------------------------------------------------------------------------\u001b[0m",
      "\u001b[1;31mKeyboardInterrupt\u001b[0m                         Traceback (most recent call last)",
      "Cell \u001b[1;32mIn[36], line 54\u001b[0m\n\u001b[0;32m     52\u001b[0m \u001b[38;5;66;03m# Create study with more trials\u001b[39;00m\n\u001b[0;32m     53\u001b[0m study \u001b[38;5;241m=\u001b[39m optuna\u001b[38;5;241m.\u001b[39mcreate_study(direction\u001b[38;5;241m=\u001b[39m\u001b[38;5;124m'\u001b[39m\u001b[38;5;124mminimize\u001b[39m\u001b[38;5;124m'\u001b[39m)\n\u001b[1;32m---> 54\u001b[0m \u001b[43mstudy\u001b[49m\u001b[38;5;241;43m.\u001b[39;49m\u001b[43moptimize\u001b[49m\u001b[43m(\u001b[49m\u001b[43mobjective\u001b[49m\u001b[43m,\u001b[49m\u001b[43m \u001b[49m\u001b[43mn_trials\u001b[49m\u001b[38;5;241;43m=\u001b[39;49m\u001b[38;5;241;43m200\u001b[39;49m\u001b[43m)\u001b[49m  \u001b[38;5;66;03m# Increased number of trials\u001b[39;00m\n\u001b[0;32m     56\u001b[0m \u001b[38;5;66;03m# Print the best parameters\u001b[39;00m\n\u001b[0;32m     57\u001b[0m \u001b[38;5;28mprint\u001b[39m(\u001b[38;5;124m\"\u001b[39m\u001b[38;5;124mBest parameters:\u001b[39m\u001b[38;5;124m\"\u001b[39m, study\u001b[38;5;241m.\u001b[39mbest_params)\n",
      "File \u001b[1;32mc:\\Users\\vijit_singh\\Desktop\\Personal projects repo\\Estate-Radar\\env\\Lib\\site-packages\\optuna\\study\\study.py:475\u001b[0m, in \u001b[0;36mStudy.optimize\u001b[1;34m(self, func, n_trials, timeout, n_jobs, catch, callbacks, gc_after_trial, show_progress_bar)\u001b[0m\n\u001b[0;32m    373\u001b[0m \u001b[38;5;28;01mdef\u001b[39;00m \u001b[38;5;21moptimize\u001b[39m(\n\u001b[0;32m    374\u001b[0m     \u001b[38;5;28mself\u001b[39m,\n\u001b[0;32m    375\u001b[0m     func: ObjectiveFuncType,\n\u001b[1;32m   (...)\u001b[0m\n\u001b[0;32m    382\u001b[0m     show_progress_bar: \u001b[38;5;28mbool\u001b[39m \u001b[38;5;241m=\u001b[39m \u001b[38;5;28;01mFalse\u001b[39;00m,\n\u001b[0;32m    383\u001b[0m ) \u001b[38;5;241m-\u001b[39m\u001b[38;5;241m>\u001b[39m \u001b[38;5;28;01mNone\u001b[39;00m:\n\u001b[0;32m    384\u001b[0m \u001b[38;5;250m    \u001b[39m\u001b[38;5;124;03m\"\"\"Optimize an objective function.\u001b[39;00m\n\u001b[0;32m    385\u001b[0m \n\u001b[0;32m    386\u001b[0m \u001b[38;5;124;03m    Optimization is done by choosing a suitable set of hyperparameter values from a given\u001b[39;00m\n\u001b[1;32m   (...)\u001b[0m\n\u001b[0;32m    473\u001b[0m \u001b[38;5;124;03m            If nested invocation of this method occurs.\u001b[39;00m\n\u001b[0;32m    474\u001b[0m \u001b[38;5;124;03m    \"\"\"\u001b[39;00m\n\u001b[1;32m--> 475\u001b[0m     \u001b[43m_optimize\u001b[49m\u001b[43m(\u001b[49m\n\u001b[0;32m    476\u001b[0m \u001b[43m        \u001b[49m\u001b[43mstudy\u001b[49m\u001b[38;5;241;43m=\u001b[39;49m\u001b[38;5;28;43mself\u001b[39;49m\u001b[43m,\u001b[49m\n\u001b[0;32m    477\u001b[0m \u001b[43m        \u001b[49m\u001b[43mfunc\u001b[49m\u001b[38;5;241;43m=\u001b[39;49m\u001b[43mfunc\u001b[49m\u001b[43m,\u001b[49m\n\u001b[0;32m    478\u001b[0m \u001b[43m        \u001b[49m\u001b[43mn_trials\u001b[49m\u001b[38;5;241;43m=\u001b[39;49m\u001b[43mn_trials\u001b[49m\u001b[43m,\u001b[49m\n\u001b[0;32m    479\u001b[0m \u001b[43m        \u001b[49m\u001b[43mtimeout\u001b[49m\u001b[38;5;241;43m=\u001b[39;49m\u001b[43mtimeout\u001b[49m\u001b[43m,\u001b[49m\n\u001b[0;32m    480\u001b[0m \u001b[43m        \u001b[49m\u001b[43mn_jobs\u001b[49m\u001b[38;5;241;43m=\u001b[39;49m\u001b[43mn_jobs\u001b[49m\u001b[43m,\u001b[49m\n\u001b[0;32m    481\u001b[0m \u001b[43m        \u001b[49m\u001b[43mcatch\u001b[49m\u001b[38;5;241;43m=\u001b[39;49m\u001b[38;5;28;43mtuple\u001b[39;49m\u001b[43m(\u001b[49m\u001b[43mcatch\u001b[49m\u001b[43m)\u001b[49m\u001b[43m \u001b[49m\u001b[38;5;28;43;01mif\u001b[39;49;00m\u001b[43m \u001b[49m\u001b[38;5;28;43misinstance\u001b[39;49m\u001b[43m(\u001b[49m\u001b[43mcatch\u001b[49m\u001b[43m,\u001b[49m\u001b[43m \u001b[49m\u001b[43mIterable\u001b[49m\u001b[43m)\u001b[49m\u001b[43m \u001b[49m\u001b[38;5;28;43;01melse\u001b[39;49;00m\u001b[43m \u001b[49m\u001b[43m(\u001b[49m\u001b[43mcatch\u001b[49m\u001b[43m,\u001b[49m\u001b[43m)\u001b[49m\u001b[43m,\u001b[49m\n\u001b[0;32m    482\u001b[0m \u001b[43m        \u001b[49m\u001b[43mcallbacks\u001b[49m\u001b[38;5;241;43m=\u001b[39;49m\u001b[43mcallbacks\u001b[49m\u001b[43m,\u001b[49m\n\u001b[0;32m    483\u001b[0m \u001b[43m        \u001b[49m\u001b[43mgc_after_trial\u001b[49m\u001b[38;5;241;43m=\u001b[39;49m\u001b[43mgc_after_trial\u001b[49m\u001b[43m,\u001b[49m\n\u001b[0;32m    484\u001b[0m \u001b[43m        \u001b[49m\u001b[43mshow_progress_bar\u001b[49m\u001b[38;5;241;43m=\u001b[39;49m\u001b[43mshow_progress_bar\u001b[49m\u001b[43m,\u001b[49m\n\u001b[0;32m    485\u001b[0m \u001b[43m    \u001b[49m\u001b[43m)\u001b[49m\n",
      "File \u001b[1;32mc:\\Users\\vijit_singh\\Desktop\\Personal projects repo\\Estate-Radar\\env\\Lib\\site-packages\\optuna\\study\\_optimize.py:63\u001b[0m, in \u001b[0;36m_optimize\u001b[1;34m(study, func, n_trials, timeout, n_jobs, catch, callbacks, gc_after_trial, show_progress_bar)\u001b[0m\n\u001b[0;32m     61\u001b[0m \u001b[38;5;28;01mtry\u001b[39;00m:\n\u001b[0;32m     62\u001b[0m     \u001b[38;5;28;01mif\u001b[39;00m n_jobs \u001b[38;5;241m==\u001b[39m \u001b[38;5;241m1\u001b[39m:\n\u001b[1;32m---> 63\u001b[0m         \u001b[43m_optimize_sequential\u001b[49m\u001b[43m(\u001b[49m\n\u001b[0;32m     64\u001b[0m \u001b[43m            \u001b[49m\u001b[43mstudy\u001b[49m\u001b[43m,\u001b[49m\n\u001b[0;32m     65\u001b[0m \u001b[43m            \u001b[49m\u001b[43mfunc\u001b[49m\u001b[43m,\u001b[49m\n\u001b[0;32m     66\u001b[0m \u001b[43m            \u001b[49m\u001b[43mn_trials\u001b[49m\u001b[43m,\u001b[49m\n\u001b[0;32m     67\u001b[0m \u001b[43m            \u001b[49m\u001b[43mtimeout\u001b[49m\u001b[43m,\u001b[49m\n\u001b[0;32m     68\u001b[0m \u001b[43m            \u001b[49m\u001b[43mcatch\u001b[49m\u001b[43m,\u001b[49m\n\u001b[0;32m     69\u001b[0m \u001b[43m            \u001b[49m\u001b[43mcallbacks\u001b[49m\u001b[43m,\u001b[49m\n\u001b[0;32m     70\u001b[0m \u001b[43m            \u001b[49m\u001b[43mgc_after_trial\u001b[49m\u001b[43m,\u001b[49m\n\u001b[0;32m     71\u001b[0m \u001b[43m            \u001b[49m\u001b[43mreseed_sampler_rng\u001b[49m\u001b[38;5;241;43m=\u001b[39;49m\u001b[38;5;28;43;01mFalse\u001b[39;49;00m\u001b[43m,\u001b[49m\n\u001b[0;32m     72\u001b[0m \u001b[43m            \u001b[49m\u001b[43mtime_start\u001b[49m\u001b[38;5;241;43m=\u001b[39;49m\u001b[38;5;28;43;01mNone\u001b[39;49;00m\u001b[43m,\u001b[49m\n\u001b[0;32m     73\u001b[0m \u001b[43m            \u001b[49m\u001b[43mprogress_bar\u001b[49m\u001b[38;5;241;43m=\u001b[39;49m\u001b[43mprogress_bar\u001b[49m\u001b[43m,\u001b[49m\n\u001b[0;32m     74\u001b[0m \u001b[43m        \u001b[49m\u001b[43m)\u001b[49m\n\u001b[0;32m     75\u001b[0m     \u001b[38;5;28;01melse\u001b[39;00m:\n\u001b[0;32m     76\u001b[0m         \u001b[38;5;28;01mif\u001b[39;00m n_jobs \u001b[38;5;241m==\u001b[39m \u001b[38;5;241m-\u001b[39m\u001b[38;5;241m1\u001b[39m:\n",
      "File \u001b[1;32mc:\\Users\\vijit_singh\\Desktop\\Personal projects repo\\Estate-Radar\\env\\Lib\\site-packages\\optuna\\study\\_optimize.py:160\u001b[0m, in \u001b[0;36m_optimize_sequential\u001b[1;34m(study, func, n_trials, timeout, catch, callbacks, gc_after_trial, reseed_sampler_rng, time_start, progress_bar)\u001b[0m\n\u001b[0;32m    157\u001b[0m         \u001b[38;5;28;01mbreak\u001b[39;00m\n\u001b[0;32m    159\u001b[0m \u001b[38;5;28;01mtry\u001b[39;00m:\n\u001b[1;32m--> 160\u001b[0m     frozen_trial \u001b[38;5;241m=\u001b[39m \u001b[43m_run_trial\u001b[49m\u001b[43m(\u001b[49m\u001b[43mstudy\u001b[49m\u001b[43m,\u001b[49m\u001b[43m \u001b[49m\u001b[43mfunc\u001b[49m\u001b[43m,\u001b[49m\u001b[43m \u001b[49m\u001b[43mcatch\u001b[49m\u001b[43m)\u001b[49m\n\u001b[0;32m    161\u001b[0m \u001b[38;5;28;01mfinally\u001b[39;00m:\n\u001b[0;32m    162\u001b[0m     \u001b[38;5;66;03m# The following line mitigates memory problems that can be occurred in some\u001b[39;00m\n\u001b[0;32m    163\u001b[0m     \u001b[38;5;66;03m# environments (e.g., services that use computing containers such as GitHub Actions).\u001b[39;00m\n\u001b[0;32m    164\u001b[0m     \u001b[38;5;66;03m# Please refer to the following PR for further details:\u001b[39;00m\n\u001b[0;32m    165\u001b[0m     \u001b[38;5;66;03m# https://github.com/optuna/optuna/pull/325.\u001b[39;00m\n\u001b[0;32m    166\u001b[0m     \u001b[38;5;28;01mif\u001b[39;00m gc_after_trial:\n",
      "File \u001b[1;32mc:\\Users\\vijit_singh\\Desktop\\Personal projects repo\\Estate-Radar\\env\\Lib\\site-packages\\optuna\\study\\_optimize.py:248\u001b[0m, in \u001b[0;36m_run_trial\u001b[1;34m(study, func, catch)\u001b[0m\n\u001b[0;32m    241\u001b[0m         \u001b[38;5;28;01massert\u001b[39;00m \u001b[38;5;28;01mFalse\u001b[39;00m, \u001b[38;5;124m\"\u001b[39m\u001b[38;5;124mShould not reach.\u001b[39m\u001b[38;5;124m\"\u001b[39m\n\u001b[0;32m    243\u001b[0m \u001b[38;5;28;01mif\u001b[39;00m (\n\u001b[0;32m    244\u001b[0m     frozen_trial\u001b[38;5;241m.\u001b[39mstate \u001b[38;5;241m==\u001b[39m TrialState\u001b[38;5;241m.\u001b[39mFAIL\n\u001b[0;32m    245\u001b[0m     \u001b[38;5;129;01mand\u001b[39;00m func_err \u001b[38;5;129;01mis\u001b[39;00m \u001b[38;5;129;01mnot\u001b[39;00m \u001b[38;5;28;01mNone\u001b[39;00m\n\u001b[0;32m    246\u001b[0m     \u001b[38;5;129;01mand\u001b[39;00m \u001b[38;5;129;01mnot\u001b[39;00m \u001b[38;5;28misinstance\u001b[39m(func_err, catch)\n\u001b[0;32m    247\u001b[0m ):\n\u001b[1;32m--> 248\u001b[0m     \u001b[38;5;28;01mraise\u001b[39;00m func_err\n\u001b[0;32m    249\u001b[0m \u001b[38;5;28;01mreturn\u001b[39;00m frozen_trial\n",
      "File \u001b[1;32mc:\\Users\\vijit_singh\\Desktop\\Personal projects repo\\Estate-Radar\\env\\Lib\\site-packages\\optuna\\study\\_optimize.py:197\u001b[0m, in \u001b[0;36m_run_trial\u001b[1;34m(study, func, catch)\u001b[0m\n\u001b[0;32m    195\u001b[0m \u001b[38;5;28;01mwith\u001b[39;00m get_heartbeat_thread(trial\u001b[38;5;241m.\u001b[39m_trial_id, study\u001b[38;5;241m.\u001b[39m_storage):\n\u001b[0;32m    196\u001b[0m     \u001b[38;5;28;01mtry\u001b[39;00m:\n\u001b[1;32m--> 197\u001b[0m         value_or_values \u001b[38;5;241m=\u001b[39m \u001b[43mfunc\u001b[49m\u001b[43m(\u001b[49m\u001b[43mtrial\u001b[49m\u001b[43m)\u001b[49m\n\u001b[0;32m    198\u001b[0m     \u001b[38;5;28;01mexcept\u001b[39;00m exceptions\u001b[38;5;241m.\u001b[39mTrialPruned \u001b[38;5;28;01mas\u001b[39;00m e:\n\u001b[0;32m    199\u001b[0m         \u001b[38;5;66;03m# TODO(mamu): Handle multi-objective cases.\u001b[39;00m\n\u001b[0;32m    200\u001b[0m         state \u001b[38;5;241m=\u001b[39m TrialState\u001b[38;5;241m.\u001b[39mPRUNED\n",
      "Cell \u001b[1;32mIn[36], line 38\u001b[0m, in \u001b[0;36mobjective\u001b[1;34m(trial)\u001b[0m\n\u001b[0;32m     36\u001b[0m \u001b[38;5;66;03m# Create and train model\u001b[39;00m\n\u001b[0;32m     37\u001b[0m model \u001b[38;5;241m=\u001b[39m XGBRegressor(\u001b[38;5;241m*\u001b[39m\u001b[38;5;241m*\u001b[39mparams)\n\u001b[1;32m---> 38\u001b[0m \u001b[43mmodel\u001b[49m\u001b[38;5;241;43m.\u001b[39;49m\u001b[43mfit\u001b[49m\u001b[43m(\u001b[49m\n\u001b[0;32m     39\u001b[0m \u001b[43m    \u001b[49m\u001b[43mX_fold_train_processed\u001b[49m\u001b[43m,\u001b[49m\u001b[43m \u001b[49m\n\u001b[0;32m     40\u001b[0m \u001b[43m    \u001b[49m\u001b[43my_fold_train\u001b[49m\u001b[43m,\u001b[49m\n\u001b[0;32m     41\u001b[0m \u001b[43m    \u001b[49m\u001b[43meval_set\u001b[49m\u001b[38;5;241;43m=\u001b[39;49m\u001b[43m[\u001b[49m\u001b[43m(\u001b[49m\u001b[43mX_fold_val_processed\u001b[49m\u001b[43m,\u001b[49m\u001b[43m \u001b[49m\u001b[43my_fold_val\u001b[49m\u001b[43m)\u001b[49m\u001b[43m]\u001b[49m\u001b[43m,\u001b[49m\n\u001b[0;32m     42\u001b[0m \u001b[43m    \u001b[49m\u001b[43mverbose\u001b[49m\u001b[38;5;241;43m=\u001b[39;49m\u001b[38;5;28;43;01mFalse\u001b[39;49;00m\n\u001b[0;32m     43\u001b[0m \u001b[43m\u001b[49m\u001b[43m)\u001b[49m\n\u001b[0;32m     45\u001b[0m \u001b[38;5;66;03m# Predict and calculate MAE\u001b[39;00m\n\u001b[0;32m     46\u001b[0m preds \u001b[38;5;241m=\u001b[39m model\u001b[38;5;241m.\u001b[39mpredict(X_fold_val_processed)\n",
      "File \u001b[1;32mc:\\Users\\vijit_singh\\Desktop\\Personal projects repo\\Estate-Radar\\env\\Lib\\site-packages\\xgboost\\core.py:730\u001b[0m, in \u001b[0;36mrequire_keyword_args.<locals>.throw_if.<locals>.inner_f\u001b[1;34m(*args, **kwargs)\u001b[0m\n\u001b[0;32m    728\u001b[0m \u001b[38;5;28;01mfor\u001b[39;00m k, arg \u001b[38;5;129;01min\u001b[39;00m \u001b[38;5;28mzip\u001b[39m(sig\u001b[38;5;241m.\u001b[39mparameters, args):\n\u001b[0;32m    729\u001b[0m     kwargs[k] \u001b[38;5;241m=\u001b[39m arg\n\u001b[1;32m--> 730\u001b[0m \u001b[38;5;28;01mreturn\u001b[39;00m \u001b[43mfunc\u001b[49m\u001b[43m(\u001b[49m\u001b[38;5;241;43m*\u001b[39;49m\u001b[38;5;241;43m*\u001b[39;49m\u001b[43mkwargs\u001b[49m\u001b[43m)\u001b[49m\n",
      "File \u001b[1;32mc:\\Users\\vijit_singh\\Desktop\\Personal projects repo\\Estate-Radar\\env\\Lib\\site-packages\\xgboost\\sklearn.py:1090\u001b[0m, in \u001b[0;36mXGBModel.fit\u001b[1;34m(self, X, y, sample_weight, base_margin, eval_set, eval_metric, early_stopping_rounds, verbose, xgb_model, sample_weight_eval_set, base_margin_eval_set, feature_weights, callbacks)\u001b[0m\n\u001b[0;32m   1079\u001b[0m     obj \u001b[38;5;241m=\u001b[39m \u001b[38;5;28;01mNone\u001b[39;00m\n\u001b[0;32m   1081\u001b[0m (\n\u001b[0;32m   1082\u001b[0m     model,\n\u001b[0;32m   1083\u001b[0m     metric,\n\u001b[1;32m   (...)\u001b[0m\n\u001b[0;32m   1088\u001b[0m     xgb_model, eval_metric, params, early_stopping_rounds, callbacks\n\u001b[0;32m   1089\u001b[0m )\n\u001b[1;32m-> 1090\u001b[0m \u001b[38;5;28mself\u001b[39m\u001b[38;5;241m.\u001b[39m_Booster \u001b[38;5;241m=\u001b[39m \u001b[43mtrain\u001b[49m\u001b[43m(\u001b[49m\n\u001b[0;32m   1091\u001b[0m \u001b[43m    \u001b[49m\u001b[43mparams\u001b[49m\u001b[43m,\u001b[49m\n\u001b[0;32m   1092\u001b[0m \u001b[43m    \u001b[49m\u001b[43mtrain_dmatrix\u001b[49m\u001b[43m,\u001b[49m\n\u001b[0;32m   1093\u001b[0m \u001b[43m    \u001b[49m\u001b[38;5;28;43mself\u001b[39;49m\u001b[38;5;241;43m.\u001b[39;49m\u001b[43mget_num_boosting_rounds\u001b[49m\u001b[43m(\u001b[49m\u001b[43m)\u001b[49m\u001b[43m,\u001b[49m\n\u001b[0;32m   1094\u001b[0m \u001b[43m    \u001b[49m\u001b[43mevals\u001b[49m\u001b[38;5;241;43m=\u001b[39;49m\u001b[43mevals\u001b[49m\u001b[43m,\u001b[49m\n\u001b[0;32m   1095\u001b[0m \u001b[43m    \u001b[49m\u001b[43mearly_stopping_rounds\u001b[49m\u001b[38;5;241;43m=\u001b[39;49m\u001b[43mearly_stopping_rounds\u001b[49m\u001b[43m,\u001b[49m\n\u001b[0;32m   1096\u001b[0m \u001b[43m    \u001b[49m\u001b[43mevals_result\u001b[49m\u001b[38;5;241;43m=\u001b[39;49m\u001b[43mevals_result\u001b[49m\u001b[43m,\u001b[49m\n\u001b[0;32m   1097\u001b[0m \u001b[43m    \u001b[49m\u001b[43mobj\u001b[49m\u001b[38;5;241;43m=\u001b[39;49m\u001b[43mobj\u001b[49m\u001b[43m,\u001b[49m\n\u001b[0;32m   1098\u001b[0m \u001b[43m    \u001b[49m\u001b[43mcustom_metric\u001b[49m\u001b[38;5;241;43m=\u001b[39;49m\u001b[43mmetric\u001b[49m\u001b[43m,\u001b[49m\n\u001b[0;32m   1099\u001b[0m \u001b[43m    \u001b[49m\u001b[43mverbose_eval\u001b[49m\u001b[38;5;241;43m=\u001b[39;49m\u001b[43mverbose\u001b[49m\u001b[43m,\u001b[49m\n\u001b[0;32m   1100\u001b[0m \u001b[43m    \u001b[49m\u001b[43mxgb_model\u001b[49m\u001b[38;5;241;43m=\u001b[39;49m\u001b[43mmodel\u001b[49m\u001b[43m,\u001b[49m\n\u001b[0;32m   1101\u001b[0m \u001b[43m    \u001b[49m\u001b[43mcallbacks\u001b[49m\u001b[38;5;241;43m=\u001b[39;49m\u001b[43mcallbacks\u001b[49m\u001b[43m,\u001b[49m\n\u001b[0;32m   1102\u001b[0m \u001b[43m\u001b[49m\u001b[43m)\u001b[49m\n\u001b[0;32m   1104\u001b[0m \u001b[38;5;28mself\u001b[39m\u001b[38;5;241m.\u001b[39m_set_evaluation_result(evals_result)\n\u001b[0;32m   1105\u001b[0m \u001b[38;5;28;01mreturn\u001b[39;00m \u001b[38;5;28mself\u001b[39m\n",
      "File \u001b[1;32mc:\\Users\\vijit_singh\\Desktop\\Personal projects repo\\Estate-Radar\\env\\Lib\\site-packages\\xgboost\\core.py:730\u001b[0m, in \u001b[0;36mrequire_keyword_args.<locals>.throw_if.<locals>.inner_f\u001b[1;34m(*args, **kwargs)\u001b[0m\n\u001b[0;32m    728\u001b[0m \u001b[38;5;28;01mfor\u001b[39;00m k, arg \u001b[38;5;129;01min\u001b[39;00m \u001b[38;5;28mzip\u001b[39m(sig\u001b[38;5;241m.\u001b[39mparameters, args):\n\u001b[0;32m    729\u001b[0m     kwargs[k] \u001b[38;5;241m=\u001b[39m arg\n\u001b[1;32m--> 730\u001b[0m \u001b[38;5;28;01mreturn\u001b[39;00m \u001b[43mfunc\u001b[49m\u001b[43m(\u001b[49m\u001b[38;5;241;43m*\u001b[39;49m\u001b[38;5;241;43m*\u001b[39;49m\u001b[43mkwargs\u001b[49m\u001b[43m)\u001b[49m\n",
      "File \u001b[1;32mc:\\Users\\vijit_singh\\Desktop\\Personal projects repo\\Estate-Radar\\env\\Lib\\site-packages\\xgboost\\training.py:181\u001b[0m, in \u001b[0;36mtrain\u001b[1;34m(params, dtrain, num_boost_round, evals, obj, feval, maximize, early_stopping_rounds, evals_result, verbose_eval, xgb_model, callbacks, custom_metric)\u001b[0m\n\u001b[0;32m    179\u001b[0m \u001b[38;5;28;01mif\u001b[39;00m cb_container\u001b[38;5;241m.\u001b[39mbefore_iteration(bst, i, dtrain, evals):\n\u001b[0;32m    180\u001b[0m     \u001b[38;5;28;01mbreak\u001b[39;00m\n\u001b[1;32m--> 181\u001b[0m \u001b[43mbst\u001b[49m\u001b[38;5;241;43m.\u001b[39;49m\u001b[43mupdate\u001b[49m\u001b[43m(\u001b[49m\u001b[43mdtrain\u001b[49m\u001b[43m,\u001b[49m\u001b[43m \u001b[49m\u001b[43mi\u001b[49m\u001b[43m,\u001b[49m\u001b[43m \u001b[49m\u001b[43mobj\u001b[49m\u001b[43m)\u001b[49m\n\u001b[0;32m    182\u001b[0m \u001b[38;5;28;01mif\u001b[39;00m cb_container\u001b[38;5;241m.\u001b[39mafter_iteration(bst, i, dtrain, evals):\n\u001b[0;32m    183\u001b[0m     \u001b[38;5;28;01mbreak\u001b[39;00m\n",
      "File \u001b[1;32mc:\\Users\\vijit_singh\\Desktop\\Personal projects repo\\Estate-Radar\\env\\Lib\\site-packages\\xgboost\\core.py:2051\u001b[0m, in \u001b[0;36mBooster.update\u001b[1;34m(self, dtrain, iteration, fobj)\u001b[0m\n\u001b[0;32m   2047\u001b[0m \u001b[38;5;28mself\u001b[39m\u001b[38;5;241m.\u001b[39m_assign_dmatrix_features(dtrain)\n\u001b[0;32m   2049\u001b[0m \u001b[38;5;28;01mif\u001b[39;00m fobj \u001b[38;5;129;01mis\u001b[39;00m \u001b[38;5;28;01mNone\u001b[39;00m:\n\u001b[0;32m   2050\u001b[0m     _check_call(\n\u001b[1;32m-> 2051\u001b[0m         \u001b[43m_LIB\u001b[49m\u001b[38;5;241;43m.\u001b[39;49m\u001b[43mXGBoosterUpdateOneIter\u001b[49m\u001b[43m(\u001b[49m\n\u001b[0;32m   2052\u001b[0m \u001b[43m            \u001b[49m\u001b[38;5;28;43mself\u001b[39;49m\u001b[38;5;241;43m.\u001b[39;49m\u001b[43mhandle\u001b[49m\u001b[43m,\u001b[49m\u001b[43m \u001b[49m\u001b[43mctypes\u001b[49m\u001b[38;5;241;43m.\u001b[39;49m\u001b[43mc_int\u001b[49m\u001b[43m(\u001b[49m\u001b[43miteration\u001b[49m\u001b[43m)\u001b[49m\u001b[43m,\u001b[49m\u001b[43m \u001b[49m\u001b[43mdtrain\u001b[49m\u001b[38;5;241;43m.\u001b[39;49m\u001b[43mhandle\u001b[49m\n\u001b[0;32m   2053\u001b[0m \u001b[43m        \u001b[49m\u001b[43m)\u001b[49m\n\u001b[0;32m   2054\u001b[0m     )\n\u001b[0;32m   2055\u001b[0m \u001b[38;5;28;01melse\u001b[39;00m:\n\u001b[0;32m   2056\u001b[0m     pred \u001b[38;5;241m=\u001b[39m \u001b[38;5;28mself\u001b[39m\u001b[38;5;241m.\u001b[39mpredict(dtrain, output_margin\u001b[38;5;241m=\u001b[39m\u001b[38;5;28;01mTrue\u001b[39;00m, training\u001b[38;5;241m=\u001b[39m\u001b[38;5;28;01mTrue\u001b[39;00m)\n",
      "\u001b[1;31mKeyboardInterrupt\u001b[0m: "
     ]
    }
   ],
   "source": [
    "def objective(trial):\n",
    "    # Create features\n",
    "    X_train_feat = create_features(X_train)\n",
    "    X_test_feat = create_features(X_test)\n",
    "    \n",
    "    # Define XGBoost parameters\n",
    "    params = {\n",
    "        'n_estimators': trial.suggest_int('n_estimators', 100, 2000),\n",
    "        'max_depth': trial.suggest_int('max_depth', 3, 30),\n",
    "        'learning_rate': trial.suggest_float('learning_rate', 0.001, 0.5, log=True),\n",
    "        'min_child_weight': trial.suggest_int('min_child_weight', 1, 15),\n",
    "        'subsample': trial.suggest_float('subsample', 0.3, 1.0),\n",
    "        'colsample_bytree': trial.suggest_float('colsample_bytree', 0.3, 1.0),\n",
    "        'reg_alpha': trial.suggest_float('reg_alpha', 1e-8, 10.0, log=True),\n",
    "        'reg_lambda': trial.suggest_float('reg_lambda', 1e-8, 10.0, log=True),\n",
    "        'random_state': 42,\n",
    "        'n_jobs': -1,\n",
    "        'early_stopping_rounds': 50\n",
    "    }\n",
    "    \n",
    "    # Simplified cross-validation\n",
    "    kf = KFold(n_splits=5, shuffle=True, random_state=42)\n",
    "    mae_scores = []\n",
    "    \n",
    "    for fold, (train_idx, val_idx) in enumerate(kf.split(X_train_feat)):\n",
    "        X_fold_train = X_train_feat.iloc[train_idx]\n",
    "        y_fold_train = y_train.iloc[train_idx]\n",
    "        X_fold_val = X_train_feat.iloc[val_idx]\n",
    "        y_fold_val = y_train.iloc[val_idx]\n",
    "        \n",
    "        # Preprocess the data\n",
    "        X_fold_train_processed, X_fold_val_processed = preprocess_data(\n",
    "            X_fold_train, X_fold_val, y_fold_train\n",
    "        )\n",
    "        \n",
    "        # Create and train model\n",
    "        model = XGBRegressor(**params)\n",
    "        model.fit(\n",
    "            X_fold_train_processed, \n",
    "            y_fold_train,\n",
    "            eval_set=[(X_fold_val_processed, y_fold_val)],\n",
    "            verbose=False\n",
    "        )\n",
    "        \n",
    "        # Predict and calculate MAE\n",
    "        preds = model.predict(X_fold_val_processed)\n",
    "        mae = mean_absolute_error(np.expm1(y_fold_val), np.expm1(preds))\n",
    "        mae_scores.append(mae)\n",
    "    \n",
    "    return np.mean(mae_scores)  # Return just the mean MAE\n",
    "\n",
    "# Create study with more trials\n",
    "study = optuna.create_study(direction='minimize')\n",
    "study.optimize(objective, n_trials=200)  # Increased number of trials\n",
    "\n",
    "# Print the best parameters\n",
    "print(\"Best parameters:\", study.best_params)\n",
    "print(\"Best MAE:\", study.best_value)\n",
    "\n",
    "# Train final model with best parameters\n",
    "best_params = study.best_params\n",
    "best_params['early_stopping_rounds'] = 50\n",
    "final_model = XGBRegressor(**best_params, random_state=42, n_jobs=-1)\n",
    "\n",
    "# Create final features and preprocess\n",
    "X_train_feat = create_features(X_train)\n",
    "X_test_feat = create_features(X_test)\n",
    "X_train_processed, X_test_processed = preprocess_data(X_train_feat, X_test_feat, y_train)\n",
    "\n",
    "# Train and evaluate\n",
    "final_model.fit(\n",
    "    X_train_processed,\n",
    "    y_train,\n",
    "    eval_set=[(X_test_processed, y_test)],\n",
    "    verbose=False\n",
    ")\n",
    "\n",
    "final_preds = final_model.predict(X_test_processed)\n",
    "final_mae = mean_absolute_error(np.expm1(y_test), np.expm1(final_preds))\n",
    "print(f\"Final MAE: {final_mae:.4f}\")"
   ]
  },
  {
   "cell_type": "code",
   "execution_count": 27,
   "id": "97f2024b",
   "metadata": {},
   "outputs": [
    {
     "name": "stderr",
     "output_type": "stream",
     "text": [
      "[I 2024-12-22 18:34:54,994] A new study created in memory with name: no-name-1fb3ee30-b6ed-4959-8af8-c64dc9f4480f\n",
      "[W 2024-12-22 18:34:55,006] Trial 0 failed with parameters: {'n_estimators': 130, 'max_depth': 10, 'learning_rate': 0.06406196892704631, 'min_child_weight': 2, 'subsample': 0.9627888608712818, 'colsample_bytree': 0.9058027646212827, 'gamma': 0.008752130473296371, 'reg_alpha': 0.9963903280345212, 'reg_lambda': 0.9670074373669226} because of the following error: AttributeError('`np.NaN` was removed in the NumPy 2.0 release. Use `np.nan` instead.').\n",
      "Traceback (most recent call last):\n",
      "  File \"c:\\Users\\vijit_singh\\Desktop\\Personal projects repo\\Estate-Radar\\env\\Lib\\site-packages\\optuna\\study\\_optimize.py\", line 197, in _run_trial\n",
      "    value_or_values = func(trial)\n",
      "                      ^^^^^^^^^^^\n",
      "  File \"C:\\Users\\vijit_singh\\AppData\\Local\\Temp\\ipykernel_25736\\4067707982.py\", line 39, in objective\n",
      "    model.fit(\n",
      "  File \"c:\\Users\\vijit_singh\\Desktop\\Personal projects repo\\Estate-Radar\\env\\Lib\\site-packages\\xgboost\\core.py\", line 730, in inner_f\n",
      "    return func(**kwargs)\n",
      "           ^^^^^^^^^^^^^^\n",
      "  File \"c:\\Users\\vijit_singh\\Desktop\\Personal projects repo\\Estate-Radar\\env\\Lib\\site-packages\\xgboost\\sklearn.py\", line 1055, in fit\n",
      "    train_dmatrix, evals = _wrap_evaluation_matrices(\n",
      "                           ^^^^^^^^^^^^^^^^^^^^^^^^^^\n",
      "  File \"c:\\Users\\vijit_singh\\Desktop\\Personal projects repo\\Estate-Radar\\env\\Lib\\site-packages\\xgboost\\sklearn.py\", line 521, in _wrap_evaluation_matrices\n",
      "    train_dmatrix = create_dmatrix(\n",
      "                    ^^^^^^^^^^^^^^^\n",
      "  File \"c:\\Users\\vijit_singh\\Desktop\\Personal projects repo\\Estate-Radar\\env\\Lib\\site-packages\\xgboost\\sklearn.py\", line 958, in _create_dmatrix\n",
      "    return QuantileDMatrix(\n",
      "           ^^^^^^^^^^^^^^^^\n",
      "  File \"c:\\Users\\vijit_singh\\Desktop\\Personal projects repo\\Estate-Radar\\env\\Lib\\site-packages\\xgboost\\core.py\", line 730, in inner_f\n",
      "    return func(**kwargs)\n",
      "           ^^^^^^^^^^^^^^\n",
      "  File \"c:\\Users\\vijit_singh\\Desktop\\Personal projects repo\\Estate-Radar\\env\\Lib\\site-packages\\xgboost\\core.py\", line 1529, in __init__\n",
      "    self._init(\n",
      "  File \"c:\\Users\\vijit_singh\\Desktop\\Personal projects repo\\Estate-Radar\\env\\Lib\\site-packages\\xgboost\\core.py\", line 1588, in _init\n",
      "    it.reraise()\n",
      "  File \"c:\\Users\\vijit_singh\\Desktop\\Personal projects repo\\Estate-Radar\\env\\Lib\\site-packages\\xgboost\\core.py\", line 576, in reraise\n",
      "    raise exc  # pylint: disable=raising-bad-type\n",
      "    ^^^^^^^^^\n",
      "  File \"c:\\Users\\vijit_singh\\Desktop\\Personal projects repo\\Estate-Radar\\env\\Lib\\site-packages\\xgboost\\core.py\", line 557, in _handle_exception\n",
      "    return fn()\n",
      "           ^^^^\n",
      "  File \"c:\\Users\\vijit_singh\\Desktop\\Personal projects repo\\Estate-Radar\\env\\Lib\\site-packages\\xgboost\\core.py\", line 641, in <lambda>\n",
      "    return self._handle_exception(lambda: self.next(input_data), 0)\n",
      "                                          ^^^^^^^^^^^^^^^^^^^^^\n",
      "  File \"c:\\Users\\vijit_singh\\Desktop\\Personal projects repo\\Estate-Radar\\env\\Lib\\site-packages\\xgboost\\data.py\", line 1280, in next\n",
      "    input_data(**self.kwargs)\n",
      "  File \"c:\\Users\\vijit_singh\\Desktop\\Personal projects repo\\Estate-Radar\\env\\Lib\\site-packages\\xgboost\\core.py\", line 730, in inner_f\n",
      "    return func(**kwargs)\n",
      "           ^^^^^^^^^^^^^^\n",
      "  File \"c:\\Users\\vijit_singh\\Desktop\\Personal projects repo\\Estate-Radar\\env\\Lib\\site-packages\\xgboost\\core.py\", line 624, in input_data\n",
      "    new, cat_codes, feature_names, feature_types = _proxy_transform(\n",
      "                                                   ^^^^^^^^^^^^^^^^^\n",
      "  File \"c:\\Users\\vijit_singh\\Desktop\\Personal projects repo\\Estate-Radar\\env\\Lib\\site-packages\\xgboost\\data.py\", line 1315, in _proxy_transform\n",
      "    arr, feature_names, feature_types = _transform_pandas_df(\n",
      "                                        ^^^^^^^^^^^^^^^^^^^^^\n",
      "  File \"c:\\Users\\vijit_singh\\Desktop\\Personal projects repo\\Estate-Radar\\env\\Lib\\site-packages\\xgboost\\data.py\", line 498, in _transform_pandas_df\n",
      "    transformed = pandas_cat_null(data)\n",
      "                  ^^^^^^^^^^^^^^^^^^^^^\n",
      "  File \"c:\\Users\\vijit_singh\\Desktop\\Personal projects repo\\Estate-Radar\\env\\Lib\\site-packages\\xgboost\\data.py\", line 439, in pandas_cat_null\n",
      "    .replace(-1.0, np.NaN)\n",
      "                   ^^^^^^\n",
      "  File \"c:\\Users\\vijit_singh\\Desktop\\Personal projects repo\\Estate-Radar\\env\\Lib\\site-packages\\numpy\\__init__.py\", line 411, in __getattr__\n",
      "    raise AttributeError(\n",
      "AttributeError: `np.NaN` was removed in the NumPy 2.0 release. Use `np.nan` instead.\n",
      "[W 2024-12-22 18:34:55,008] Trial 0 failed with value None.\n"
     ]
    },
    {
     "ename": "AttributeError",
     "evalue": "`np.NaN` was removed in the NumPy 2.0 release. Use `np.nan` instead.",
     "output_type": "error",
     "traceback": [
      "\u001b[1;31m---------------------------------------------------------------------------\u001b[0m",
      "\u001b[1;31mAttributeError\u001b[0m                            Traceback (most recent call last)",
      "Cell \u001b[1;32mIn[27], line 52\u001b[0m\n\u001b[0;32m     50\u001b[0m \u001b[38;5;66;03m# Optimize hyperparameters\u001b[39;00m\n\u001b[0;32m     51\u001b[0m study \u001b[38;5;241m=\u001b[39m optuna\u001b[38;5;241m.\u001b[39mcreate_study(direction\u001b[38;5;241m=\u001b[39m\u001b[38;5;124m'\u001b[39m\u001b[38;5;124mminimize\u001b[39m\u001b[38;5;124m'\u001b[39m)\n\u001b[1;32m---> 52\u001b[0m \u001b[43mstudy\u001b[49m\u001b[38;5;241;43m.\u001b[39;49m\u001b[43moptimize\u001b[49m\u001b[43m(\u001b[49m\u001b[43mobjective\u001b[49m\u001b[43m,\u001b[49m\u001b[43m \u001b[49m\u001b[43mn_trials\u001b[49m\u001b[38;5;241;43m=\u001b[39;49m\u001b[38;5;241;43m100\u001b[39;49m\u001b[43m)\u001b[49m\n\u001b[0;32m     54\u001b[0m \u001b[38;5;66;03m# Train final model with best parameters\u001b[39;00m\n\u001b[0;32m     55\u001b[0m best_params \u001b[38;5;241m=\u001b[39m study\u001b[38;5;241m.\u001b[39mbest_params\n",
      "File \u001b[1;32mc:\\Users\\vijit_singh\\Desktop\\Personal projects repo\\Estate-Radar\\env\\Lib\\site-packages\\optuna\\study\\study.py:475\u001b[0m, in \u001b[0;36mStudy.optimize\u001b[1;34m(self, func, n_trials, timeout, n_jobs, catch, callbacks, gc_after_trial, show_progress_bar)\u001b[0m\n\u001b[0;32m    373\u001b[0m \u001b[38;5;28;01mdef\u001b[39;00m \u001b[38;5;21moptimize\u001b[39m(\n\u001b[0;32m    374\u001b[0m     \u001b[38;5;28mself\u001b[39m,\n\u001b[0;32m    375\u001b[0m     func: ObjectiveFuncType,\n\u001b[1;32m   (...)\u001b[0m\n\u001b[0;32m    382\u001b[0m     show_progress_bar: \u001b[38;5;28mbool\u001b[39m \u001b[38;5;241m=\u001b[39m \u001b[38;5;28;01mFalse\u001b[39;00m,\n\u001b[0;32m    383\u001b[0m ) \u001b[38;5;241m-\u001b[39m\u001b[38;5;241m>\u001b[39m \u001b[38;5;28;01mNone\u001b[39;00m:\n\u001b[0;32m    384\u001b[0m \u001b[38;5;250m    \u001b[39m\u001b[38;5;124;03m\"\"\"Optimize an objective function.\u001b[39;00m\n\u001b[0;32m    385\u001b[0m \n\u001b[0;32m    386\u001b[0m \u001b[38;5;124;03m    Optimization is done by choosing a suitable set of hyperparameter values from a given\u001b[39;00m\n\u001b[1;32m   (...)\u001b[0m\n\u001b[0;32m    473\u001b[0m \u001b[38;5;124;03m            If nested invocation of this method occurs.\u001b[39;00m\n\u001b[0;32m    474\u001b[0m \u001b[38;5;124;03m    \"\"\"\u001b[39;00m\n\u001b[1;32m--> 475\u001b[0m     \u001b[43m_optimize\u001b[49m\u001b[43m(\u001b[49m\n\u001b[0;32m    476\u001b[0m \u001b[43m        \u001b[49m\u001b[43mstudy\u001b[49m\u001b[38;5;241;43m=\u001b[39;49m\u001b[38;5;28;43mself\u001b[39;49m\u001b[43m,\u001b[49m\n\u001b[0;32m    477\u001b[0m \u001b[43m        \u001b[49m\u001b[43mfunc\u001b[49m\u001b[38;5;241;43m=\u001b[39;49m\u001b[43mfunc\u001b[49m\u001b[43m,\u001b[49m\n\u001b[0;32m    478\u001b[0m \u001b[43m        \u001b[49m\u001b[43mn_trials\u001b[49m\u001b[38;5;241;43m=\u001b[39;49m\u001b[43mn_trials\u001b[49m\u001b[43m,\u001b[49m\n\u001b[0;32m    479\u001b[0m \u001b[43m        \u001b[49m\u001b[43mtimeout\u001b[49m\u001b[38;5;241;43m=\u001b[39;49m\u001b[43mtimeout\u001b[49m\u001b[43m,\u001b[49m\n\u001b[0;32m    480\u001b[0m \u001b[43m        \u001b[49m\u001b[43mn_jobs\u001b[49m\u001b[38;5;241;43m=\u001b[39;49m\u001b[43mn_jobs\u001b[49m\u001b[43m,\u001b[49m\n\u001b[0;32m    481\u001b[0m \u001b[43m        \u001b[49m\u001b[43mcatch\u001b[49m\u001b[38;5;241;43m=\u001b[39;49m\u001b[38;5;28;43mtuple\u001b[39;49m\u001b[43m(\u001b[49m\u001b[43mcatch\u001b[49m\u001b[43m)\u001b[49m\u001b[43m \u001b[49m\u001b[38;5;28;43;01mif\u001b[39;49;00m\u001b[43m \u001b[49m\u001b[38;5;28;43misinstance\u001b[39;49m\u001b[43m(\u001b[49m\u001b[43mcatch\u001b[49m\u001b[43m,\u001b[49m\u001b[43m \u001b[49m\u001b[43mIterable\u001b[49m\u001b[43m)\u001b[49m\u001b[43m \u001b[49m\u001b[38;5;28;43;01melse\u001b[39;49;00m\u001b[43m \u001b[49m\u001b[43m(\u001b[49m\u001b[43mcatch\u001b[49m\u001b[43m,\u001b[49m\u001b[43m)\u001b[49m\u001b[43m,\u001b[49m\n\u001b[0;32m    482\u001b[0m \u001b[43m        \u001b[49m\u001b[43mcallbacks\u001b[49m\u001b[38;5;241;43m=\u001b[39;49m\u001b[43mcallbacks\u001b[49m\u001b[43m,\u001b[49m\n\u001b[0;32m    483\u001b[0m \u001b[43m        \u001b[49m\u001b[43mgc_after_trial\u001b[49m\u001b[38;5;241;43m=\u001b[39;49m\u001b[43mgc_after_trial\u001b[49m\u001b[43m,\u001b[49m\n\u001b[0;32m    484\u001b[0m \u001b[43m        \u001b[49m\u001b[43mshow_progress_bar\u001b[49m\u001b[38;5;241;43m=\u001b[39;49m\u001b[43mshow_progress_bar\u001b[49m\u001b[43m,\u001b[49m\n\u001b[0;32m    485\u001b[0m \u001b[43m    \u001b[49m\u001b[43m)\u001b[49m\n",
      "File \u001b[1;32mc:\\Users\\vijit_singh\\Desktop\\Personal projects repo\\Estate-Radar\\env\\Lib\\site-packages\\optuna\\study\\_optimize.py:63\u001b[0m, in \u001b[0;36m_optimize\u001b[1;34m(study, func, n_trials, timeout, n_jobs, catch, callbacks, gc_after_trial, show_progress_bar)\u001b[0m\n\u001b[0;32m     61\u001b[0m \u001b[38;5;28;01mtry\u001b[39;00m:\n\u001b[0;32m     62\u001b[0m     \u001b[38;5;28;01mif\u001b[39;00m n_jobs \u001b[38;5;241m==\u001b[39m \u001b[38;5;241m1\u001b[39m:\n\u001b[1;32m---> 63\u001b[0m         \u001b[43m_optimize_sequential\u001b[49m\u001b[43m(\u001b[49m\n\u001b[0;32m     64\u001b[0m \u001b[43m            \u001b[49m\u001b[43mstudy\u001b[49m\u001b[43m,\u001b[49m\n\u001b[0;32m     65\u001b[0m \u001b[43m            \u001b[49m\u001b[43mfunc\u001b[49m\u001b[43m,\u001b[49m\n\u001b[0;32m     66\u001b[0m \u001b[43m            \u001b[49m\u001b[43mn_trials\u001b[49m\u001b[43m,\u001b[49m\n\u001b[0;32m     67\u001b[0m \u001b[43m            \u001b[49m\u001b[43mtimeout\u001b[49m\u001b[43m,\u001b[49m\n\u001b[0;32m     68\u001b[0m \u001b[43m            \u001b[49m\u001b[43mcatch\u001b[49m\u001b[43m,\u001b[49m\n\u001b[0;32m     69\u001b[0m \u001b[43m            \u001b[49m\u001b[43mcallbacks\u001b[49m\u001b[43m,\u001b[49m\n\u001b[0;32m     70\u001b[0m \u001b[43m            \u001b[49m\u001b[43mgc_after_trial\u001b[49m\u001b[43m,\u001b[49m\n\u001b[0;32m     71\u001b[0m \u001b[43m            \u001b[49m\u001b[43mreseed_sampler_rng\u001b[49m\u001b[38;5;241;43m=\u001b[39;49m\u001b[38;5;28;43;01mFalse\u001b[39;49;00m\u001b[43m,\u001b[49m\n\u001b[0;32m     72\u001b[0m \u001b[43m            \u001b[49m\u001b[43mtime_start\u001b[49m\u001b[38;5;241;43m=\u001b[39;49m\u001b[38;5;28;43;01mNone\u001b[39;49;00m\u001b[43m,\u001b[49m\n\u001b[0;32m     73\u001b[0m \u001b[43m            \u001b[49m\u001b[43mprogress_bar\u001b[49m\u001b[38;5;241;43m=\u001b[39;49m\u001b[43mprogress_bar\u001b[49m\u001b[43m,\u001b[49m\n\u001b[0;32m     74\u001b[0m \u001b[43m        \u001b[49m\u001b[43m)\u001b[49m\n\u001b[0;32m     75\u001b[0m     \u001b[38;5;28;01melse\u001b[39;00m:\n\u001b[0;32m     76\u001b[0m         \u001b[38;5;28;01mif\u001b[39;00m n_jobs \u001b[38;5;241m==\u001b[39m \u001b[38;5;241m-\u001b[39m\u001b[38;5;241m1\u001b[39m:\n",
      "File \u001b[1;32mc:\\Users\\vijit_singh\\Desktop\\Personal projects repo\\Estate-Radar\\env\\Lib\\site-packages\\optuna\\study\\_optimize.py:160\u001b[0m, in \u001b[0;36m_optimize_sequential\u001b[1;34m(study, func, n_trials, timeout, catch, callbacks, gc_after_trial, reseed_sampler_rng, time_start, progress_bar)\u001b[0m\n\u001b[0;32m    157\u001b[0m         \u001b[38;5;28;01mbreak\u001b[39;00m\n\u001b[0;32m    159\u001b[0m \u001b[38;5;28;01mtry\u001b[39;00m:\n\u001b[1;32m--> 160\u001b[0m     frozen_trial \u001b[38;5;241m=\u001b[39m \u001b[43m_run_trial\u001b[49m\u001b[43m(\u001b[49m\u001b[43mstudy\u001b[49m\u001b[43m,\u001b[49m\u001b[43m \u001b[49m\u001b[43mfunc\u001b[49m\u001b[43m,\u001b[49m\u001b[43m \u001b[49m\u001b[43mcatch\u001b[49m\u001b[43m)\u001b[49m\n\u001b[0;32m    161\u001b[0m \u001b[38;5;28;01mfinally\u001b[39;00m:\n\u001b[0;32m    162\u001b[0m     \u001b[38;5;66;03m# The following line mitigates memory problems that can be occurred in some\u001b[39;00m\n\u001b[0;32m    163\u001b[0m     \u001b[38;5;66;03m# environments (e.g., services that use computing containers such as GitHub Actions).\u001b[39;00m\n\u001b[0;32m    164\u001b[0m     \u001b[38;5;66;03m# Please refer to the following PR for further details:\u001b[39;00m\n\u001b[0;32m    165\u001b[0m     \u001b[38;5;66;03m# https://github.com/optuna/optuna/pull/325.\u001b[39;00m\n\u001b[0;32m    166\u001b[0m     \u001b[38;5;28;01mif\u001b[39;00m gc_after_trial:\n",
      "File \u001b[1;32mc:\\Users\\vijit_singh\\Desktop\\Personal projects repo\\Estate-Radar\\env\\Lib\\site-packages\\optuna\\study\\_optimize.py:248\u001b[0m, in \u001b[0;36m_run_trial\u001b[1;34m(study, func, catch)\u001b[0m\n\u001b[0;32m    241\u001b[0m         \u001b[38;5;28;01massert\u001b[39;00m \u001b[38;5;28;01mFalse\u001b[39;00m, \u001b[38;5;124m\"\u001b[39m\u001b[38;5;124mShould not reach.\u001b[39m\u001b[38;5;124m\"\u001b[39m\n\u001b[0;32m    243\u001b[0m \u001b[38;5;28;01mif\u001b[39;00m (\n\u001b[0;32m    244\u001b[0m     frozen_trial\u001b[38;5;241m.\u001b[39mstate \u001b[38;5;241m==\u001b[39m TrialState\u001b[38;5;241m.\u001b[39mFAIL\n\u001b[0;32m    245\u001b[0m     \u001b[38;5;129;01mand\u001b[39;00m func_err \u001b[38;5;129;01mis\u001b[39;00m \u001b[38;5;129;01mnot\u001b[39;00m \u001b[38;5;28;01mNone\u001b[39;00m\n\u001b[0;32m    246\u001b[0m     \u001b[38;5;129;01mand\u001b[39;00m \u001b[38;5;129;01mnot\u001b[39;00m \u001b[38;5;28misinstance\u001b[39m(func_err, catch)\n\u001b[0;32m    247\u001b[0m ):\n\u001b[1;32m--> 248\u001b[0m     \u001b[38;5;28;01mraise\u001b[39;00m func_err\n\u001b[0;32m    249\u001b[0m \u001b[38;5;28;01mreturn\u001b[39;00m frozen_trial\n",
      "File \u001b[1;32mc:\\Users\\vijit_singh\\Desktop\\Personal projects repo\\Estate-Radar\\env\\Lib\\site-packages\\optuna\\study\\_optimize.py:197\u001b[0m, in \u001b[0;36m_run_trial\u001b[1;34m(study, func, catch)\u001b[0m\n\u001b[0;32m    195\u001b[0m \u001b[38;5;28;01mwith\u001b[39;00m get_heartbeat_thread(trial\u001b[38;5;241m.\u001b[39m_trial_id, study\u001b[38;5;241m.\u001b[39m_storage):\n\u001b[0;32m    196\u001b[0m     \u001b[38;5;28;01mtry\u001b[39;00m:\n\u001b[1;32m--> 197\u001b[0m         value_or_values \u001b[38;5;241m=\u001b[39m \u001b[43mfunc\u001b[49m\u001b[43m(\u001b[49m\u001b[43mtrial\u001b[49m\u001b[43m)\u001b[49m\n\u001b[0;32m    198\u001b[0m     \u001b[38;5;28;01mexcept\u001b[39;00m exceptions\u001b[38;5;241m.\u001b[39mTrialPruned \u001b[38;5;28;01mas\u001b[39;00m e:\n\u001b[0;32m    199\u001b[0m         \u001b[38;5;66;03m# TODO(mamu): Handle multi-objective cases.\u001b[39;00m\n\u001b[0;32m    200\u001b[0m         state \u001b[38;5;241m=\u001b[39m TrialState\u001b[38;5;241m.\u001b[39mPRUNED\n",
      "Cell \u001b[1;32mIn[27], line 39\u001b[0m, in \u001b[0;36mobjective\u001b[1;34m(trial)\u001b[0m\n\u001b[0;32m     29\u001b[0m X_train, X_test, y_train, y_test \u001b[38;5;241m=\u001b[39m train_test_split(X, y_transformed, test_size\u001b[38;5;241m=\u001b[39m\u001b[38;5;241m0.2\u001b[39m, random_state\u001b[38;5;241m=\u001b[39m\u001b[38;5;241m42\u001b[39m)\n\u001b[0;32m     31\u001b[0m model \u001b[38;5;241m=\u001b[39m XGBRegressor(\n\u001b[0;32m     32\u001b[0m     \u001b[38;5;241m*\u001b[39m\u001b[38;5;241m*\u001b[39mparams,\n\u001b[0;32m     33\u001b[0m     random_state\u001b[38;5;241m=\u001b[39m\u001b[38;5;241m42\u001b[39m,\n\u001b[1;32m   (...)\u001b[0m\n\u001b[0;32m     36\u001b[0m     missing\u001b[38;5;241m=\u001b[39mnp\u001b[38;5;241m.\u001b[39mnan\n\u001b[0;32m     37\u001b[0m )\n\u001b[1;32m---> 39\u001b[0m \u001b[43mmodel\u001b[49m\u001b[38;5;241;43m.\u001b[39;49m\u001b[43mfit\u001b[49m\u001b[43m(\u001b[49m\n\u001b[0;32m     40\u001b[0m \u001b[43m    \u001b[49m\u001b[43mX_train\u001b[49m\u001b[43m,\u001b[49m\u001b[43m \u001b[49m\n\u001b[0;32m     41\u001b[0m \u001b[43m    \u001b[49m\u001b[43my_train\u001b[49m\u001b[43m,\u001b[49m\n\u001b[0;32m     42\u001b[0m \u001b[43m    \u001b[49m\u001b[43meval_set\u001b[49m\u001b[38;5;241;43m=\u001b[39;49m\u001b[43m[\u001b[49m\u001b[43m(\u001b[49m\u001b[43mX_test\u001b[49m\u001b[43m,\u001b[49m\u001b[43m \u001b[49m\u001b[43my_test\u001b[49m\u001b[43m)\u001b[49m\u001b[43m]\u001b[49m\u001b[43m,\u001b[49m\n\u001b[0;32m     43\u001b[0m \u001b[43m    \u001b[49m\u001b[43mearly_stopping_rounds\u001b[49m\u001b[38;5;241;43m=\u001b[39;49m\u001b[38;5;241;43m10\u001b[39;49m\u001b[43m,\u001b[49m\n\u001b[0;32m     44\u001b[0m \u001b[43m    \u001b[49m\u001b[43mverbose\u001b[49m\u001b[38;5;241;43m=\u001b[39;49m\u001b[38;5;28;43;01mFalse\u001b[39;49;00m\n\u001b[0;32m     45\u001b[0m \u001b[43m\u001b[49m\u001b[43m)\u001b[49m\n\u001b[0;32m     47\u001b[0m y_pred \u001b[38;5;241m=\u001b[39m model\u001b[38;5;241m.\u001b[39mpredict(X_test)\n\u001b[0;32m     48\u001b[0m \u001b[38;5;28;01mreturn\u001b[39;00m mean_absolute_error(np\u001b[38;5;241m.\u001b[39mexpm1(y_test), np\u001b[38;5;241m.\u001b[39mexpm1(y_pred))\n",
      "File \u001b[1;32mc:\\Users\\vijit_singh\\Desktop\\Personal projects repo\\Estate-Radar\\env\\Lib\\site-packages\\xgboost\\core.py:730\u001b[0m, in \u001b[0;36mrequire_keyword_args.<locals>.throw_if.<locals>.inner_f\u001b[1;34m(*args, **kwargs)\u001b[0m\n\u001b[0;32m    728\u001b[0m \u001b[38;5;28;01mfor\u001b[39;00m k, arg \u001b[38;5;129;01min\u001b[39;00m \u001b[38;5;28mzip\u001b[39m(sig\u001b[38;5;241m.\u001b[39mparameters, args):\n\u001b[0;32m    729\u001b[0m     kwargs[k] \u001b[38;5;241m=\u001b[39m arg\n\u001b[1;32m--> 730\u001b[0m \u001b[38;5;28;01mreturn\u001b[39;00m \u001b[43mfunc\u001b[49m\u001b[43m(\u001b[49m\u001b[38;5;241;43m*\u001b[39;49m\u001b[38;5;241;43m*\u001b[39;49m\u001b[43mkwargs\u001b[49m\u001b[43m)\u001b[49m\n",
      "File \u001b[1;32mc:\\Users\\vijit_singh\\Desktop\\Personal projects repo\\Estate-Radar\\env\\Lib\\site-packages\\xgboost\\sklearn.py:1055\u001b[0m, in \u001b[0;36mXGBModel.fit\u001b[1;34m(self, X, y, sample_weight, base_margin, eval_set, eval_metric, early_stopping_rounds, verbose, xgb_model, sample_weight_eval_set, base_margin_eval_set, feature_weights, callbacks)\u001b[0m\n\u001b[0;32m   1053\u001b[0m \u001b[38;5;28;01mwith\u001b[39;00m config_context(verbosity\u001b[38;5;241m=\u001b[39m\u001b[38;5;28mself\u001b[39m\u001b[38;5;241m.\u001b[39mverbosity):\n\u001b[0;32m   1054\u001b[0m     evals_result: TrainingCallback\u001b[38;5;241m.\u001b[39mEvalsLog \u001b[38;5;241m=\u001b[39m {}\n\u001b[1;32m-> 1055\u001b[0m     train_dmatrix, evals \u001b[38;5;241m=\u001b[39m \u001b[43m_wrap_evaluation_matrices\u001b[49m\u001b[43m(\u001b[49m\n\u001b[0;32m   1056\u001b[0m \u001b[43m        \u001b[49m\u001b[43mmissing\u001b[49m\u001b[38;5;241;43m=\u001b[39;49m\u001b[38;5;28;43mself\u001b[39;49m\u001b[38;5;241;43m.\u001b[39;49m\u001b[43mmissing\u001b[49m\u001b[43m,\u001b[49m\n\u001b[0;32m   1057\u001b[0m \u001b[43m        \u001b[49m\u001b[43mX\u001b[49m\u001b[38;5;241;43m=\u001b[39;49m\u001b[43mX\u001b[49m\u001b[43m,\u001b[49m\n\u001b[0;32m   1058\u001b[0m \u001b[43m        \u001b[49m\u001b[43my\u001b[49m\u001b[38;5;241;43m=\u001b[39;49m\u001b[43my\u001b[49m\u001b[43m,\u001b[49m\n\u001b[0;32m   1059\u001b[0m \u001b[43m        \u001b[49m\u001b[43mgroup\u001b[49m\u001b[38;5;241;43m=\u001b[39;49m\u001b[38;5;28;43;01mNone\u001b[39;49;00m\u001b[43m,\u001b[49m\n\u001b[0;32m   1060\u001b[0m \u001b[43m        \u001b[49m\u001b[43mqid\u001b[49m\u001b[38;5;241;43m=\u001b[39;49m\u001b[38;5;28;43;01mNone\u001b[39;49;00m\u001b[43m,\u001b[49m\n\u001b[0;32m   1061\u001b[0m \u001b[43m        \u001b[49m\u001b[43msample_weight\u001b[49m\u001b[38;5;241;43m=\u001b[39;49m\u001b[43msample_weight\u001b[49m\u001b[43m,\u001b[49m\n\u001b[0;32m   1062\u001b[0m \u001b[43m        \u001b[49m\u001b[43mbase_margin\u001b[49m\u001b[38;5;241;43m=\u001b[39;49m\u001b[43mbase_margin\u001b[49m\u001b[43m,\u001b[49m\n\u001b[0;32m   1063\u001b[0m \u001b[43m        \u001b[49m\u001b[43mfeature_weights\u001b[49m\u001b[38;5;241;43m=\u001b[39;49m\u001b[43mfeature_weights\u001b[49m\u001b[43m,\u001b[49m\n\u001b[0;32m   1064\u001b[0m \u001b[43m        \u001b[49m\u001b[43meval_set\u001b[49m\u001b[38;5;241;43m=\u001b[39;49m\u001b[43meval_set\u001b[49m\u001b[43m,\u001b[49m\n\u001b[0;32m   1065\u001b[0m \u001b[43m        \u001b[49m\u001b[43msample_weight_eval_set\u001b[49m\u001b[38;5;241;43m=\u001b[39;49m\u001b[43msample_weight_eval_set\u001b[49m\u001b[43m,\u001b[49m\n\u001b[0;32m   1066\u001b[0m \u001b[43m        \u001b[49m\u001b[43mbase_margin_eval_set\u001b[49m\u001b[38;5;241;43m=\u001b[39;49m\u001b[43mbase_margin_eval_set\u001b[49m\u001b[43m,\u001b[49m\n\u001b[0;32m   1067\u001b[0m \u001b[43m        \u001b[49m\u001b[43meval_group\u001b[49m\u001b[38;5;241;43m=\u001b[39;49m\u001b[38;5;28;43;01mNone\u001b[39;49;00m\u001b[43m,\u001b[49m\n\u001b[0;32m   1068\u001b[0m \u001b[43m        \u001b[49m\u001b[43meval_qid\u001b[49m\u001b[38;5;241;43m=\u001b[39;49m\u001b[38;5;28;43;01mNone\u001b[39;49;00m\u001b[43m,\u001b[49m\n\u001b[0;32m   1069\u001b[0m \u001b[43m        \u001b[49m\u001b[43mcreate_dmatrix\u001b[49m\u001b[38;5;241;43m=\u001b[39;49m\u001b[38;5;28;43mself\u001b[39;49m\u001b[38;5;241;43m.\u001b[39;49m\u001b[43m_create_dmatrix\u001b[49m\u001b[43m,\u001b[49m\n\u001b[0;32m   1070\u001b[0m \u001b[43m        \u001b[49m\u001b[43menable_categorical\u001b[49m\u001b[38;5;241;43m=\u001b[39;49m\u001b[38;5;28;43mself\u001b[39;49m\u001b[38;5;241;43m.\u001b[39;49m\u001b[43menable_categorical\u001b[49m\u001b[43m,\u001b[49m\n\u001b[0;32m   1071\u001b[0m \u001b[43m        \u001b[49m\u001b[43mfeature_types\u001b[49m\u001b[38;5;241;43m=\u001b[39;49m\u001b[38;5;28;43mself\u001b[39;49m\u001b[38;5;241;43m.\u001b[39;49m\u001b[43mfeature_types\u001b[49m\u001b[43m,\u001b[49m\n\u001b[0;32m   1072\u001b[0m \u001b[43m    \u001b[49m\u001b[43m)\u001b[49m\n\u001b[0;32m   1073\u001b[0m     params \u001b[38;5;241m=\u001b[39m \u001b[38;5;28mself\u001b[39m\u001b[38;5;241m.\u001b[39mget_xgb_params()\n\u001b[0;32m   1075\u001b[0m     \u001b[38;5;28;01mif\u001b[39;00m \u001b[38;5;28mcallable\u001b[39m(\u001b[38;5;28mself\u001b[39m\u001b[38;5;241m.\u001b[39mobjective):\n",
      "File \u001b[1;32mc:\\Users\\vijit_singh\\Desktop\\Personal projects repo\\Estate-Radar\\env\\Lib\\site-packages\\xgboost\\sklearn.py:521\u001b[0m, in \u001b[0;36m_wrap_evaluation_matrices\u001b[1;34m(missing, X, y, group, qid, sample_weight, base_margin, feature_weights, eval_set, sample_weight_eval_set, base_margin_eval_set, eval_group, eval_qid, create_dmatrix, enable_categorical, feature_types)\u001b[0m\n\u001b[0;32m    501\u001b[0m \u001b[38;5;28;01mdef\u001b[39;00m \u001b[38;5;21m_wrap_evaluation_matrices\u001b[39m(\n\u001b[0;32m    502\u001b[0m     missing: \u001b[38;5;28mfloat\u001b[39m,\n\u001b[0;32m    503\u001b[0m     X: Any,\n\u001b[1;32m   (...)\u001b[0m\n\u001b[0;32m    517\u001b[0m     feature_types: Optional[FeatureTypes],\n\u001b[0;32m    518\u001b[0m ) \u001b[38;5;241m-\u001b[39m\u001b[38;5;241m>\u001b[39m Tuple[Any, List[Tuple[Any, \u001b[38;5;28mstr\u001b[39m]]]:\n\u001b[0;32m    519\u001b[0m \u001b[38;5;250m    \u001b[39m\u001b[38;5;124;03m\"\"\"Convert array_like evaluation matrices into DMatrix.  Perform validation on the\u001b[39;00m\n\u001b[0;32m    520\u001b[0m \u001b[38;5;124;03m    way.\"\"\"\u001b[39;00m\n\u001b[1;32m--> 521\u001b[0m     train_dmatrix \u001b[38;5;241m=\u001b[39m \u001b[43mcreate_dmatrix\u001b[49m\u001b[43m(\u001b[49m\n\u001b[0;32m    522\u001b[0m \u001b[43m        \u001b[49m\u001b[43mdata\u001b[49m\u001b[38;5;241;43m=\u001b[39;49m\u001b[43mX\u001b[49m\u001b[43m,\u001b[49m\n\u001b[0;32m    523\u001b[0m \u001b[43m        \u001b[49m\u001b[43mlabel\u001b[49m\u001b[38;5;241;43m=\u001b[39;49m\u001b[43my\u001b[49m\u001b[43m,\u001b[49m\n\u001b[0;32m    524\u001b[0m \u001b[43m        \u001b[49m\u001b[43mgroup\u001b[49m\u001b[38;5;241;43m=\u001b[39;49m\u001b[43mgroup\u001b[49m\u001b[43m,\u001b[49m\n\u001b[0;32m    525\u001b[0m \u001b[43m        \u001b[49m\u001b[43mqid\u001b[49m\u001b[38;5;241;43m=\u001b[39;49m\u001b[43mqid\u001b[49m\u001b[43m,\u001b[49m\n\u001b[0;32m    526\u001b[0m \u001b[43m        \u001b[49m\u001b[43mweight\u001b[49m\u001b[38;5;241;43m=\u001b[39;49m\u001b[43msample_weight\u001b[49m\u001b[43m,\u001b[49m\n\u001b[0;32m    527\u001b[0m \u001b[43m        \u001b[49m\u001b[43mbase_margin\u001b[49m\u001b[38;5;241;43m=\u001b[39;49m\u001b[43mbase_margin\u001b[49m\u001b[43m,\u001b[49m\n\u001b[0;32m    528\u001b[0m \u001b[43m        \u001b[49m\u001b[43mfeature_weights\u001b[49m\u001b[38;5;241;43m=\u001b[39;49m\u001b[43mfeature_weights\u001b[49m\u001b[43m,\u001b[49m\n\u001b[0;32m    529\u001b[0m \u001b[43m        \u001b[49m\u001b[43mmissing\u001b[49m\u001b[38;5;241;43m=\u001b[39;49m\u001b[43mmissing\u001b[49m\u001b[43m,\u001b[49m\n\u001b[0;32m    530\u001b[0m \u001b[43m        \u001b[49m\u001b[43menable_categorical\u001b[49m\u001b[38;5;241;43m=\u001b[39;49m\u001b[43menable_categorical\u001b[49m\u001b[43m,\u001b[49m\n\u001b[0;32m    531\u001b[0m \u001b[43m        \u001b[49m\u001b[43mfeature_types\u001b[49m\u001b[38;5;241;43m=\u001b[39;49m\u001b[43mfeature_types\u001b[49m\u001b[43m,\u001b[49m\n\u001b[0;32m    532\u001b[0m \u001b[43m        \u001b[49m\u001b[43mref\u001b[49m\u001b[38;5;241;43m=\u001b[39;49m\u001b[38;5;28;43;01mNone\u001b[39;49;00m\u001b[43m,\u001b[49m\n\u001b[0;32m    533\u001b[0m \u001b[43m    \u001b[49m\u001b[43m)\u001b[49m\n\u001b[0;32m    535\u001b[0m     n_validation \u001b[38;5;241m=\u001b[39m \u001b[38;5;241m0\u001b[39m \u001b[38;5;28;01mif\u001b[39;00m eval_set \u001b[38;5;129;01mis\u001b[39;00m \u001b[38;5;28;01mNone\u001b[39;00m \u001b[38;5;28;01melse\u001b[39;00m \u001b[38;5;28mlen\u001b[39m(eval_set)\n\u001b[0;32m    537\u001b[0m     \u001b[38;5;28;01mdef\u001b[39;00m \u001b[38;5;21mvalidate_or_none\u001b[39m(meta: Optional[Sequence], name: \u001b[38;5;28mstr\u001b[39m) \u001b[38;5;241m-\u001b[39m\u001b[38;5;241m>\u001b[39m Sequence:\n",
      "File \u001b[1;32mc:\\Users\\vijit_singh\\Desktop\\Personal projects repo\\Estate-Radar\\env\\Lib\\site-packages\\xgboost\\sklearn.py:958\u001b[0m, in \u001b[0;36mXGBModel._create_dmatrix\u001b[1;34m(self, ref, **kwargs)\u001b[0m\n\u001b[0;32m    956\u001b[0m \u001b[38;5;28;01mif\u001b[39;00m _can_use_qdm(\u001b[38;5;28mself\u001b[39m\u001b[38;5;241m.\u001b[39mtree_method) \u001b[38;5;129;01mand\u001b[39;00m \u001b[38;5;28mself\u001b[39m\u001b[38;5;241m.\u001b[39mbooster \u001b[38;5;241m!=\u001b[39m \u001b[38;5;124m\"\u001b[39m\u001b[38;5;124mgblinear\u001b[39m\u001b[38;5;124m\"\u001b[39m:\n\u001b[0;32m    957\u001b[0m     \u001b[38;5;28;01mtry\u001b[39;00m:\n\u001b[1;32m--> 958\u001b[0m         \u001b[38;5;28;01mreturn\u001b[39;00m \u001b[43mQuantileDMatrix\u001b[49m\u001b[43m(\u001b[49m\n\u001b[0;32m    959\u001b[0m \u001b[43m            \u001b[49m\u001b[38;5;241;43m*\u001b[39;49m\u001b[38;5;241;43m*\u001b[39;49m\u001b[43mkwargs\u001b[49m\u001b[43m,\u001b[49m\u001b[43m \u001b[49m\u001b[43mref\u001b[49m\u001b[38;5;241;43m=\u001b[39;49m\u001b[43mref\u001b[49m\u001b[43m,\u001b[49m\u001b[43m \u001b[49m\u001b[43mnthread\u001b[49m\u001b[38;5;241;43m=\u001b[39;49m\u001b[38;5;28;43mself\u001b[39;49m\u001b[38;5;241;43m.\u001b[39;49m\u001b[43mn_jobs\u001b[49m\u001b[43m,\u001b[49m\u001b[43m \u001b[49m\u001b[43mmax_bin\u001b[49m\u001b[38;5;241;43m=\u001b[39;49m\u001b[38;5;28;43mself\u001b[39;49m\u001b[38;5;241;43m.\u001b[39;49m\u001b[43mmax_bin\u001b[49m\n\u001b[0;32m    960\u001b[0m \u001b[43m        \u001b[49m\u001b[43m)\u001b[49m\n\u001b[0;32m    961\u001b[0m     \u001b[38;5;28;01mexcept\u001b[39;00m \u001b[38;5;167;01mTypeError\u001b[39;00m:  \u001b[38;5;66;03m# `QuantileDMatrix` supports lesser types than DMatrix\u001b[39;00m\n\u001b[0;32m    962\u001b[0m         \u001b[38;5;28;01mpass\u001b[39;00m\n",
      "File \u001b[1;32mc:\\Users\\vijit_singh\\Desktop\\Personal projects repo\\Estate-Radar\\env\\Lib\\site-packages\\xgboost\\core.py:730\u001b[0m, in \u001b[0;36mrequire_keyword_args.<locals>.throw_if.<locals>.inner_f\u001b[1;34m(*args, **kwargs)\u001b[0m\n\u001b[0;32m    728\u001b[0m \u001b[38;5;28;01mfor\u001b[39;00m k, arg \u001b[38;5;129;01min\u001b[39;00m \u001b[38;5;28mzip\u001b[39m(sig\u001b[38;5;241m.\u001b[39mparameters, args):\n\u001b[0;32m    729\u001b[0m     kwargs[k] \u001b[38;5;241m=\u001b[39m arg\n\u001b[1;32m--> 730\u001b[0m \u001b[38;5;28;01mreturn\u001b[39;00m \u001b[43mfunc\u001b[49m\u001b[43m(\u001b[49m\u001b[38;5;241;43m*\u001b[39;49m\u001b[38;5;241;43m*\u001b[39;49m\u001b[43mkwargs\u001b[49m\u001b[43m)\u001b[49m\n",
      "File \u001b[1;32mc:\\Users\\vijit_singh\\Desktop\\Personal projects repo\\Estate-Radar\\env\\Lib\\site-packages\\xgboost\\core.py:1529\u001b[0m, in \u001b[0;36mQuantileDMatrix.__init__\u001b[1;34m(self, data, label, weight, base_margin, missing, silent, feature_names, feature_types, nthread, max_bin, ref, group, qid, label_lower_bound, label_upper_bound, feature_weights, enable_categorical, data_split_mode)\u001b[0m\n\u001b[0;32m   1509\u001b[0m     \u001b[38;5;28;01mif\u001b[39;00m \u001b[38;5;28many\u001b[39m(\n\u001b[0;32m   1510\u001b[0m         info \u001b[38;5;129;01mis\u001b[39;00m \u001b[38;5;129;01mnot\u001b[39;00m \u001b[38;5;28;01mNone\u001b[39;00m\n\u001b[0;32m   1511\u001b[0m         \u001b[38;5;28;01mfor\u001b[39;00m info \u001b[38;5;129;01min\u001b[39;00m (\n\u001b[1;32m   (...)\u001b[0m\n\u001b[0;32m   1522\u001b[0m         )\n\u001b[0;32m   1523\u001b[0m     ):\n\u001b[0;32m   1524\u001b[0m         \u001b[38;5;28;01mraise\u001b[39;00m \u001b[38;5;167;01mValueError\u001b[39;00m(\n\u001b[0;32m   1525\u001b[0m             \u001b[38;5;124m\"\u001b[39m\u001b[38;5;124mIf data iterator is used as input, data like label should be \u001b[39m\u001b[38;5;124m\"\u001b[39m\n\u001b[0;32m   1526\u001b[0m             \u001b[38;5;124m\"\u001b[39m\u001b[38;5;124mspecified as batch argument.\u001b[39m\u001b[38;5;124m\"\u001b[39m\n\u001b[0;32m   1527\u001b[0m         )\n\u001b[1;32m-> 1529\u001b[0m \u001b[38;5;28;43mself\u001b[39;49m\u001b[38;5;241;43m.\u001b[39;49m\u001b[43m_init\u001b[49m\u001b[43m(\u001b[49m\n\u001b[0;32m   1530\u001b[0m \u001b[43m    \u001b[49m\u001b[43mdata\u001b[49m\u001b[43m,\u001b[49m\n\u001b[0;32m   1531\u001b[0m \u001b[43m    \u001b[49m\u001b[43mref\u001b[49m\u001b[38;5;241;43m=\u001b[39;49m\u001b[43mref\u001b[49m\u001b[43m,\u001b[49m\n\u001b[0;32m   1532\u001b[0m \u001b[43m    \u001b[49m\u001b[43mlabel\u001b[49m\u001b[38;5;241;43m=\u001b[39;49m\u001b[43mlabel\u001b[49m\u001b[43m,\u001b[49m\n\u001b[0;32m   1533\u001b[0m \u001b[43m    \u001b[49m\u001b[43mweight\u001b[49m\u001b[38;5;241;43m=\u001b[39;49m\u001b[43mweight\u001b[49m\u001b[43m,\u001b[49m\n\u001b[0;32m   1534\u001b[0m \u001b[43m    \u001b[49m\u001b[43mbase_margin\u001b[49m\u001b[38;5;241;43m=\u001b[39;49m\u001b[43mbase_margin\u001b[49m\u001b[43m,\u001b[49m\n\u001b[0;32m   1535\u001b[0m \u001b[43m    \u001b[49m\u001b[43mgroup\u001b[49m\u001b[38;5;241;43m=\u001b[39;49m\u001b[43mgroup\u001b[49m\u001b[43m,\u001b[49m\n\u001b[0;32m   1536\u001b[0m \u001b[43m    \u001b[49m\u001b[43mqid\u001b[49m\u001b[38;5;241;43m=\u001b[39;49m\u001b[43mqid\u001b[49m\u001b[43m,\u001b[49m\n\u001b[0;32m   1537\u001b[0m \u001b[43m    \u001b[49m\u001b[43mlabel_lower_bound\u001b[49m\u001b[38;5;241;43m=\u001b[39;49m\u001b[43mlabel_lower_bound\u001b[49m\u001b[43m,\u001b[49m\n\u001b[0;32m   1538\u001b[0m \u001b[43m    \u001b[49m\u001b[43mlabel_upper_bound\u001b[49m\u001b[38;5;241;43m=\u001b[39;49m\u001b[43mlabel_upper_bound\u001b[49m\u001b[43m,\u001b[49m\n\u001b[0;32m   1539\u001b[0m \u001b[43m    \u001b[49m\u001b[43mfeature_weights\u001b[49m\u001b[38;5;241;43m=\u001b[39;49m\u001b[43mfeature_weights\u001b[49m\u001b[43m,\u001b[49m\n\u001b[0;32m   1540\u001b[0m \u001b[43m    \u001b[49m\u001b[43mfeature_names\u001b[49m\u001b[38;5;241;43m=\u001b[39;49m\u001b[43mfeature_names\u001b[49m\u001b[43m,\u001b[49m\n\u001b[0;32m   1541\u001b[0m \u001b[43m    \u001b[49m\u001b[43mfeature_types\u001b[49m\u001b[38;5;241;43m=\u001b[39;49m\u001b[43mfeature_types\u001b[49m\u001b[43m,\u001b[49m\n\u001b[0;32m   1542\u001b[0m \u001b[43m    \u001b[49m\u001b[43menable_categorical\u001b[49m\u001b[38;5;241;43m=\u001b[39;49m\u001b[43menable_categorical\u001b[49m\u001b[43m,\u001b[49m\n\u001b[0;32m   1543\u001b[0m \u001b[43m\u001b[49m\u001b[43m)\u001b[49m\n",
      "File \u001b[1;32mc:\\Users\\vijit_singh\\Desktop\\Personal projects repo\\Estate-Radar\\env\\Lib\\site-packages\\xgboost\\core.py:1588\u001b[0m, in \u001b[0;36mQuantileDMatrix._init\u001b[1;34m(self, data, ref, enable_categorical, **meta)\u001b[0m\n\u001b[0;32m   1576\u001b[0m config \u001b[38;5;241m=\u001b[39m make_jcargs(\n\u001b[0;32m   1577\u001b[0m     nthread\u001b[38;5;241m=\u001b[39m\u001b[38;5;28mself\u001b[39m\u001b[38;5;241m.\u001b[39mnthread, missing\u001b[38;5;241m=\u001b[39m\u001b[38;5;28mself\u001b[39m\u001b[38;5;241m.\u001b[39mmissing, max_bin\u001b[38;5;241m=\u001b[39m\u001b[38;5;28mself\u001b[39m\u001b[38;5;241m.\u001b[39mmax_bin\n\u001b[0;32m   1578\u001b[0m )\n\u001b[0;32m   1579\u001b[0m ret \u001b[38;5;241m=\u001b[39m _LIB\u001b[38;5;241m.\u001b[39mXGQuantileDMatrixCreateFromCallback(\n\u001b[0;32m   1580\u001b[0m     \u001b[38;5;28;01mNone\u001b[39;00m,\n\u001b[0;32m   1581\u001b[0m     it\u001b[38;5;241m.\u001b[39mproxy\u001b[38;5;241m.\u001b[39mhandle,\n\u001b[1;32m   (...)\u001b[0m\n\u001b[0;32m   1586\u001b[0m     ctypes\u001b[38;5;241m.\u001b[39mbyref(handle),\n\u001b[0;32m   1587\u001b[0m )\n\u001b[1;32m-> 1588\u001b[0m \u001b[43mit\u001b[49m\u001b[38;5;241;43m.\u001b[39;49m\u001b[43mreraise\u001b[49m\u001b[43m(\u001b[49m\u001b[43m)\u001b[49m\n\u001b[0;32m   1589\u001b[0m \u001b[38;5;66;03m# delay check_call to throw intermediate exception first\u001b[39;00m\n\u001b[0;32m   1590\u001b[0m _check_call(ret)\n",
      "File \u001b[1;32mc:\\Users\\vijit_singh\\Desktop\\Personal projects repo\\Estate-Radar\\env\\Lib\\site-packages\\xgboost\\core.py:576\u001b[0m, in \u001b[0;36mDataIter.reraise\u001b[1;34m(self)\u001b[0m\n\u001b[0;32m    574\u001b[0m exc \u001b[38;5;241m=\u001b[39m \u001b[38;5;28mself\u001b[39m\u001b[38;5;241m.\u001b[39m_exception\n\u001b[0;32m    575\u001b[0m \u001b[38;5;28mself\u001b[39m\u001b[38;5;241m.\u001b[39m_exception \u001b[38;5;241m=\u001b[39m \u001b[38;5;28;01mNone\u001b[39;00m\n\u001b[1;32m--> 576\u001b[0m \u001b[38;5;28;01mraise\u001b[39;00m exc\n",
      "File \u001b[1;32mc:\\Users\\vijit_singh\\Desktop\\Personal projects repo\\Estate-Radar\\env\\Lib\\site-packages\\xgboost\\core.py:557\u001b[0m, in \u001b[0;36mDataIter._handle_exception\u001b[1;34m(self, fn, dft_ret)\u001b[0m\n\u001b[0;32m    554\u001b[0m     \u001b[38;5;28;01mreturn\u001b[39;00m dft_ret\n\u001b[0;32m    556\u001b[0m \u001b[38;5;28;01mtry\u001b[39;00m:\n\u001b[1;32m--> 557\u001b[0m     \u001b[38;5;28;01mreturn\u001b[39;00m \u001b[43mfn\u001b[49m\u001b[43m(\u001b[49m\u001b[43m)\u001b[49m\n\u001b[0;32m    558\u001b[0m \u001b[38;5;28;01mexcept\u001b[39;00m \u001b[38;5;167;01mException\u001b[39;00m \u001b[38;5;28;01mas\u001b[39;00m e:  \u001b[38;5;66;03m# pylint: disable=broad-except\u001b[39;00m\n\u001b[0;32m    559\u001b[0m     \u001b[38;5;66;03m# Defer the exception in order to return 0 and stop the iteration.\u001b[39;00m\n\u001b[0;32m    560\u001b[0m     \u001b[38;5;66;03m# Exception inside a ctype callback function has no effect except\u001b[39;00m\n\u001b[0;32m    561\u001b[0m     \u001b[38;5;66;03m# for printing to stderr (doesn't stop the execution).\u001b[39;00m\n\u001b[0;32m    562\u001b[0m     tb \u001b[38;5;241m=\u001b[39m sys\u001b[38;5;241m.\u001b[39mexc_info()[\u001b[38;5;241m2\u001b[39m]\n",
      "File \u001b[1;32mc:\\Users\\vijit_singh\\Desktop\\Personal projects repo\\Estate-Radar\\env\\Lib\\site-packages\\xgboost\\core.py:641\u001b[0m, in \u001b[0;36mDataIter._next_wrapper.<locals>.<lambda>\u001b[1;34m()\u001b[0m\n\u001b[0;32m    638\u001b[0m     \u001b[38;5;28mself\u001b[39m\u001b[38;5;241m.\u001b[39m_data_ref \u001b[38;5;241m=\u001b[39m ref\n\u001b[0;32m    640\u001b[0m \u001b[38;5;66;03m# pylint: disable=not-callable\u001b[39;00m\n\u001b[1;32m--> 641\u001b[0m \u001b[38;5;28;01mreturn\u001b[39;00m \u001b[38;5;28mself\u001b[39m\u001b[38;5;241m.\u001b[39m_handle_exception(\u001b[38;5;28;01mlambda\u001b[39;00m: \u001b[38;5;28;43mself\u001b[39;49m\u001b[38;5;241;43m.\u001b[39;49m\u001b[43mnext\u001b[49m\u001b[43m(\u001b[49m\u001b[43minput_data\u001b[49m\u001b[43m)\u001b[49m, \u001b[38;5;241m0\u001b[39m)\n",
      "File \u001b[1;32mc:\\Users\\vijit_singh\\Desktop\\Personal projects repo\\Estate-Radar\\env\\Lib\\site-packages\\xgboost\\data.py:1280\u001b[0m, in \u001b[0;36mSingleBatchInternalIter.next\u001b[1;34m(self, input_data)\u001b[0m\n\u001b[0;32m   1278\u001b[0m     \u001b[38;5;28;01mreturn\u001b[39;00m \u001b[38;5;241m0\u001b[39m\n\u001b[0;32m   1279\u001b[0m \u001b[38;5;28mself\u001b[39m\u001b[38;5;241m.\u001b[39mit \u001b[38;5;241m+\u001b[39m\u001b[38;5;241m=\u001b[39m \u001b[38;5;241m1\u001b[39m\n\u001b[1;32m-> 1280\u001b[0m \u001b[43minput_data\u001b[49m\u001b[43m(\u001b[49m\u001b[38;5;241;43m*\u001b[39;49m\u001b[38;5;241;43m*\u001b[39;49m\u001b[38;5;28;43mself\u001b[39;49m\u001b[38;5;241;43m.\u001b[39;49m\u001b[43mkwargs\u001b[49m\u001b[43m)\u001b[49m\n\u001b[0;32m   1281\u001b[0m \u001b[38;5;28;01mreturn\u001b[39;00m \u001b[38;5;241m1\u001b[39m\n",
      "File \u001b[1;32mc:\\Users\\vijit_singh\\Desktop\\Personal projects repo\\Estate-Radar\\env\\Lib\\site-packages\\xgboost\\core.py:730\u001b[0m, in \u001b[0;36mrequire_keyword_args.<locals>.throw_if.<locals>.inner_f\u001b[1;34m(*args, **kwargs)\u001b[0m\n\u001b[0;32m    728\u001b[0m \u001b[38;5;28;01mfor\u001b[39;00m k, arg \u001b[38;5;129;01min\u001b[39;00m \u001b[38;5;28mzip\u001b[39m(sig\u001b[38;5;241m.\u001b[39mparameters, args):\n\u001b[0;32m    729\u001b[0m     kwargs[k] \u001b[38;5;241m=\u001b[39m arg\n\u001b[1;32m--> 730\u001b[0m \u001b[38;5;28;01mreturn\u001b[39;00m \u001b[43mfunc\u001b[49m\u001b[43m(\u001b[49m\u001b[38;5;241;43m*\u001b[39;49m\u001b[38;5;241;43m*\u001b[39;49m\u001b[43mkwargs\u001b[49m\u001b[43m)\u001b[49m\n",
      "File \u001b[1;32mc:\\Users\\vijit_singh\\Desktop\\Personal projects repo\\Estate-Radar\\env\\Lib\\site-packages\\xgboost\\core.py:624\u001b[0m, in \u001b[0;36mDataIter._next_wrapper.<locals>.input_data\u001b[1;34m(data, feature_names, feature_types, **kwargs)\u001b[0m\n\u001b[0;32m    622\u001b[0m     new, cat_codes, feature_names, feature_types \u001b[38;5;241m=\u001b[39m \u001b[38;5;28mself\u001b[39m\u001b[38;5;241m.\u001b[39m_temporary_data\n\u001b[0;32m    623\u001b[0m \u001b[38;5;28;01melse\u001b[39;00m:\n\u001b[1;32m--> 624\u001b[0m     new, cat_codes, feature_names, feature_types \u001b[38;5;241m=\u001b[39m \u001b[43m_proxy_transform\u001b[49m\u001b[43m(\u001b[49m\n\u001b[0;32m    625\u001b[0m \u001b[43m        \u001b[49m\u001b[43mdata\u001b[49m\u001b[43m,\u001b[49m\n\u001b[0;32m    626\u001b[0m \u001b[43m        \u001b[49m\u001b[43mfeature_names\u001b[49m\u001b[43m,\u001b[49m\n\u001b[0;32m    627\u001b[0m \u001b[43m        \u001b[49m\u001b[43mfeature_types\u001b[49m\u001b[43m,\u001b[49m\n\u001b[0;32m    628\u001b[0m \u001b[43m        \u001b[49m\u001b[38;5;28;43mself\u001b[39;49m\u001b[38;5;241;43m.\u001b[39;49m\u001b[43m_enable_categorical\u001b[49m\u001b[43m,\u001b[49m\n\u001b[0;32m    629\u001b[0m \u001b[43m    \u001b[49m\u001b[43m)\u001b[49m\n\u001b[0;32m    630\u001b[0m \u001b[38;5;66;03m# Stage the data, meta info are copied inside C++ MetaInfo.\u001b[39;00m\n\u001b[0;32m    631\u001b[0m \u001b[38;5;28mself\u001b[39m\u001b[38;5;241m.\u001b[39m_temporary_data \u001b[38;5;241m=\u001b[39m (new, cat_codes, feature_names, feature_types)\n",
      "File \u001b[1;32mc:\\Users\\vijit_singh\\Desktop\\Personal projects repo\\Estate-Radar\\env\\Lib\\site-packages\\xgboost\\data.py:1315\u001b[0m, in \u001b[0;36m_proxy_transform\u001b[1;34m(data, feature_names, feature_types, enable_categorical)\u001b[0m\n\u001b[0;32m   1313\u001b[0m     data \u001b[38;5;241m=\u001b[39m pd\u001b[38;5;241m.\u001b[39mDataFrame(data)\n\u001b[0;32m   1314\u001b[0m \u001b[38;5;28;01mif\u001b[39;00m _is_pandas_df(data):\n\u001b[1;32m-> 1315\u001b[0m     arr, feature_names, feature_types \u001b[38;5;241m=\u001b[39m \u001b[43m_transform_pandas_df\u001b[49m\u001b[43m(\u001b[49m\n\u001b[0;32m   1316\u001b[0m \u001b[43m        \u001b[49m\u001b[43mdata\u001b[49m\u001b[43m,\u001b[49m\u001b[43m \u001b[49m\u001b[43menable_categorical\u001b[49m\u001b[43m,\u001b[49m\u001b[43m \u001b[49m\u001b[43mfeature_names\u001b[49m\u001b[43m,\u001b[49m\u001b[43m \u001b[49m\u001b[43mfeature_types\u001b[49m\n\u001b[0;32m   1317\u001b[0m \u001b[43m    \u001b[49m\u001b[43m)\u001b[49m\n\u001b[0;32m   1318\u001b[0m     arr, _ \u001b[38;5;241m=\u001b[39m _ensure_np_dtype(arr, arr\u001b[38;5;241m.\u001b[39mdtype)\n\u001b[0;32m   1319\u001b[0m     \u001b[38;5;28;01mreturn\u001b[39;00m arr, \u001b[38;5;28;01mNone\u001b[39;00m, feature_names, feature_types\n",
      "File \u001b[1;32mc:\\Users\\vijit_singh\\Desktop\\Personal projects repo\\Estate-Radar\\env\\Lib\\site-packages\\xgboost\\data.py:498\u001b[0m, in \u001b[0;36m_transform_pandas_df\u001b[1;34m(data, enable_categorical, feature_names, feature_types, meta, meta_type)\u001b[0m\n\u001b[0;32m    492\u001b[0m         pyarrow_extension \u001b[38;5;241m=\u001b[39m \u001b[38;5;28;01mTrue\u001b[39;00m\n\u001b[0;32m    494\u001b[0m feature_names, feature_types \u001b[38;5;241m=\u001b[39m pandas_feature_info(\n\u001b[0;32m    495\u001b[0m     data, meta, feature_names, feature_types, enable_categorical\n\u001b[0;32m    496\u001b[0m )\n\u001b[1;32m--> 498\u001b[0m transformed \u001b[38;5;241m=\u001b[39m \u001b[43mpandas_cat_null\u001b[49m\u001b[43m(\u001b[49m\u001b[43mdata\u001b[49m\u001b[43m)\u001b[49m\n\u001b[0;32m    499\u001b[0m \u001b[38;5;28;01mif\u001b[39;00m pyarrow_extension:\n\u001b[0;32m    500\u001b[0m     \u001b[38;5;28;01mif\u001b[39;00m transformed \u001b[38;5;129;01mis\u001b[39;00m data:\n",
      "File \u001b[1;32mc:\\Users\\vijit_singh\\Desktop\\Personal projects repo\\Estate-Radar\\env\\Lib\\site-packages\\xgboost\\data.py:439\u001b[0m, in \u001b[0;36mpandas_cat_null\u001b[1;34m(data)\u001b[0m\n\u001b[0;32m    431\u001b[0m     \u001b[38;5;28;01mreturn\u001b[39;00m ser\u001b[38;5;241m.\u001b[39marray\u001b[38;5;241m.\u001b[39m__arrow_array__()\u001b[38;5;241m.\u001b[39mcombine_chunks()\u001b[38;5;241m.\u001b[39mdictionary_encode()\u001b[38;5;241m.\u001b[39mindices\n\u001b[0;32m    433\u001b[0m \u001b[38;5;28;01mif\u001b[39;00m cat_columns:\n\u001b[0;32m    434\u001b[0m     \u001b[38;5;66;03m# DF doesn't have the cat attribute, as a result, we use apply here\u001b[39;00m\n\u001b[0;32m    435\u001b[0m     transformed[cat_columns] \u001b[38;5;241m=\u001b[39m (\n\u001b[0;32m    436\u001b[0m         transformed[cat_columns]\n\u001b[0;32m    437\u001b[0m         \u001b[38;5;241m.\u001b[39mapply(cat_codes)\n\u001b[0;32m    438\u001b[0m         \u001b[38;5;241m.\u001b[39mastype(np\u001b[38;5;241m.\u001b[39mfloat32)\n\u001b[1;32m--> 439\u001b[0m         \u001b[38;5;241m.\u001b[39mreplace(\u001b[38;5;241m-\u001b[39m\u001b[38;5;241m1.0\u001b[39m, \u001b[43mnp\u001b[49m\u001b[38;5;241;43m.\u001b[39;49m\u001b[43mNaN\u001b[49m)\n\u001b[0;32m    440\u001b[0m     )\n\u001b[0;32m    441\u001b[0m \u001b[38;5;28;01mif\u001b[39;00m nul_columns:\n\u001b[0;32m    442\u001b[0m     transformed[nul_columns] \u001b[38;5;241m=\u001b[39m transformed[nul_columns]\u001b[38;5;241m.\u001b[39mastype(np\u001b[38;5;241m.\u001b[39mfloat32)\n",
      "File \u001b[1;32mc:\\Users\\vijit_singh\\Desktop\\Personal projects repo\\Estate-Radar\\env\\Lib\\site-packages\\numpy\\__init__.py:411\u001b[0m, in \u001b[0;36m__getattr__\u001b[1;34m(attr)\u001b[0m\n\u001b[0;32m    408\u001b[0m     \u001b[38;5;28;01mraise\u001b[39;00m \u001b[38;5;167;01mAttributeError\u001b[39;00m(__former_attrs__[attr])\n\u001b[0;32m    410\u001b[0m \u001b[38;5;28;01mif\u001b[39;00m attr \u001b[38;5;129;01min\u001b[39;00m __expired_attributes__:\n\u001b[1;32m--> 411\u001b[0m     \u001b[38;5;28;01mraise\u001b[39;00m \u001b[38;5;167;01mAttributeError\u001b[39;00m(\n\u001b[0;32m    412\u001b[0m         \u001b[38;5;124mf\u001b[39m\u001b[38;5;124m\"\u001b[39m\u001b[38;5;124m`np.\u001b[39m\u001b[38;5;132;01m{\u001b[39;00mattr\u001b[38;5;132;01m}\u001b[39;00m\u001b[38;5;124m` was removed in the NumPy 2.0 release. \u001b[39m\u001b[38;5;124m\"\u001b[39m\n\u001b[0;32m    413\u001b[0m         \u001b[38;5;124mf\u001b[39m\u001b[38;5;124m\"\u001b[39m\u001b[38;5;132;01m{\u001b[39;00m__expired_attributes__[attr]\u001b[38;5;132;01m}\u001b[39;00m\u001b[38;5;124m\"\u001b[39m\n\u001b[0;32m    414\u001b[0m     )\n\u001b[0;32m    416\u001b[0m \u001b[38;5;28;01mif\u001b[39;00m attr \u001b[38;5;241m==\u001b[39m \u001b[38;5;124m\"\u001b[39m\u001b[38;5;124mchararray\u001b[39m\u001b[38;5;124m\"\u001b[39m:\n\u001b[0;32m    417\u001b[0m     warnings\u001b[38;5;241m.\u001b[39mwarn(\n\u001b[0;32m    418\u001b[0m         \u001b[38;5;124m\"\u001b[39m\u001b[38;5;124m`np.chararray` is deprecated and will be removed from \u001b[39m\u001b[38;5;124m\"\u001b[39m\n\u001b[0;32m    419\u001b[0m         \u001b[38;5;124m\"\u001b[39m\u001b[38;5;124mthe main namespace in the future. Use an array with a string \u001b[39m\u001b[38;5;124m\"\u001b[39m\n\u001b[0;32m    420\u001b[0m         \u001b[38;5;124m\"\u001b[39m\u001b[38;5;124mor bytes dtype instead.\u001b[39m\u001b[38;5;124m\"\u001b[39m, \u001b[38;5;167;01mDeprecationWarning\u001b[39;00m, stacklevel\u001b[38;5;241m=\u001b[39m\u001b[38;5;241m2\u001b[39m)\n",
      "\u001b[1;31mAttributeError\u001b[0m: `np.NaN` was removed in the NumPy 2.0 release. Use `np.nan` instead."
     ]
    }
   ],
   "source": [
    "import numpy as np\n",
    "import pandas as pd\n",
    "import optuna\n",
    "from sklearn.model_selection import train_test_split\n",
    "from sklearn.preprocessing import StandardScaler\n",
    "from xgboost import XGBRegressor\n",
    "from sklearn.metrics import mean_absolute_error\n",
    "\n",
    "# Convert categorical columns to category dtype\n",
    "categorical_cols = ['property_type', 'sector', 'balcony', 'agePossession', \n",
    "                   'furnishing_type', 'luxury_category', 'floor_category']\n",
    "for col in categorical_cols:\n",
    "    X[col] = X[col].astype('category')\n",
    "\n",
    "# Define objective function for Optuna\n",
    "def objective(trial):\n",
    "    params = {\n",
    "        'n_estimators': trial.suggest_int('n_estimators', 100, 1000),\n",
    "        'max_depth': trial.suggest_int('max_depth', 3, 10),\n",
    "        'learning_rate': trial.suggest_float('learning_rate', 0.01, 0.1),\n",
    "        'min_child_weight': trial.suggest_int('min_child_weight', 1, 7),\n",
    "        'subsample': trial.suggest_float('subsample', 0.7, 1.0),\n",
    "        'colsample_bytree': trial.suggest_float('colsample_bytree', 0.7, 1.0),\n",
    "        'gamma': trial.suggest_float('gamma', 0, 0.5),\n",
    "        'reg_alpha': trial.suggest_float('reg_alpha', 0, 1),\n",
    "        'reg_lambda': trial.suggest_float('reg_lambda', 0, 1)\n",
    "    }\n",
    "    \n",
    "    X_train, X_test, y_train, y_test = train_test_split(X, y_transformed, test_size=0.2, random_state=42)\n",
    "    \n",
    "    model = XGBRegressor(\n",
    "        **params,\n",
    "        random_state=42,\n",
    "        enable_categorical=True,\n",
    "        tree_method='hist',\n",
    "        missing=np.nan\n",
    "    )\n",
    "    \n",
    "    model.fit(\n",
    "        X_train, \n",
    "        y_train,\n",
    "        eval_set=[(X_test, y_test)],\n",
    "        early_stopping_rounds=10,\n",
    "        verbose=False\n",
    "    )\n",
    "    \n",
    "    y_pred = model.predict(X_test)\n",
    "    return mean_absolute_error(np.expm1(y_test), np.expm1(y_pred))\n",
    "\n",
    "# Optimize hyperparameters\n",
    "study = optuna.create_study(direction='minimize')\n",
    "study.optimize(objective, n_trials=100)\n",
    "\n",
    "# Train final model with best parameters\n",
    "best_params = study.best_params\n",
    "final_model = XGBRegressor(\n",
    "    **best_params,\n",
    "    random_state=42,\n",
    "    enable_categorical=True,\n",
    "    tree_method='hist',\n",
    "    missing=np.nan\n",
    ")\n",
    "\n",
    "X_train, X_test, y_train, y_test = train_test_split(X, y_transformed, test_size=0.2, random_state=42)\n",
    "final_model.fit(\n",
    "    X_train, \n",
    "    y_train,\n",
    "    eval_set=[(X_test, y_test)],\n",
    "    early_stopping_rounds=10,\n",
    "    verbose=False\n",
    ")\n",
    "\n",
    "# Evaluate final model\n",
    "y_pred = final_model.predict(X_test)\n",
    "mae = mean_absolute_error(np.expm1(y_test), np.expm1(y_pred))\n",
    "print(f'Final MAE: {mae}')"
   ]
  },
  {
   "cell_type": "code",
   "execution_count": 34,
   "id": "e5af4a33",
   "metadata": {},
   "outputs": [
    {
     "name": "stderr",
     "output_type": "stream",
     "text": [
      "[I 2024-12-22 18:50:55,192] A new study created in memory with name: no-name-9281961e-e503-4800-beea-44a4e40e942d\n",
      "[I 2024-12-22 18:51:04,283] Trial 0 finished with value: 0.11358788450891928 and parameters: {'n_estimators': 2772, 'max_depth': 4, 'learning_rate': 0.025527539329031387, 'min_child_weight': 6, 'subsample': 0.662403821071277, 'colsample_bytree': 0.8375612125258681, 'reg_lambda': 0.4519688816856576, 'reg_alpha': 0.39831423122598686}. Best is trial 0 with value: 0.11358788450891928.\n",
      "[I 2024-12-22 18:51:16,288] Trial 1 finished with value: 0.11150526570374461 and parameters: {'n_estimators': 998, 'max_depth': 11, 'learning_rate': 0.0057584787511442675, 'min_child_weight': 6, 'subsample': 0.7658337167365619, 'colsample_bytree': 0.848459791239544, 'reg_lambda': 0.8095937037967035, 'reg_alpha': 0.21715816258337528}. Best is trial 1 with value: 0.11150526570374461.\n",
      "[I 2024-12-22 18:51:26,968] Trial 2 finished with value: 0.11189448573184954 and parameters: {'n_estimators': 1193, 'max_depth': 12, 'learning_rate': 0.0075546037193775575, 'min_child_weight': 6, 'subsample': 0.6863553008981574, 'colsample_bytree': 0.6732647809028462, 'reg_lambda': 0.7181024809944343, 'reg_alpha': 0.4293785166805808}. Best is trial 1 with value: 0.11150526570374461.\n",
      "[I 2024-12-22 18:51:35,919] Trial 3 finished with value: 0.11110772783502407 and parameters: {'n_estimators': 1976, 'max_depth': 6, 'learning_rate': 0.022632764330834092, 'min_child_weight': 3, 'subsample': 0.6497664677092854, 'colsample_bytree': 0.6901214746164426, 'reg_lambda': 0.5749900257863043, 'reg_alpha': 0.37122429562349846}. Best is trial 3 with value: 0.11110772783502407.\n",
      "[I 2024-12-22 18:51:40,388] Trial 4 finished with value: 0.11363827395537725 and parameters: {'n_estimators': 1195, 'max_depth': 5, 'learning_rate': 0.020372924755433085, 'min_child_weight': 7, 'subsample': 0.6080344616379773, 'colsample_bytree': 0.8489108766902116, 'reg_lambda': 0.42427972069941366, 'reg_alpha': 0.18239309315183727}. Best is trial 3 with value: 0.11110772783502407.\n",
      "[I 2024-12-22 18:52:02,169] Trial 5 finished with value: 0.11008923528341208 and parameters: {'n_estimators': 2517, 'max_depth': 10, 'learning_rate': 0.014072506401707468, 'min_child_weight': 1, 'subsample': 0.6735945621358368, 'colsample_bytree': 0.6980649210599578, 'reg_lambda': 0.8577043600481439, 'reg_alpha': 0.3101409862750405}. Best is trial 5 with value: 0.11008923528341208.\n",
      "[I 2024-12-22 18:52:39,889] Trial 6 finished with value: 0.10899701877820415 and parameters: {'n_estimators': 2861, 'max_depth': 10, 'learning_rate': 0.01218994426151724, 'min_child_weight': 3, 'subsample': 0.6271601071660883, 'colsample_bytree': 0.7613324899899268, 'reg_lambda': 0.5803899300573633, 'reg_alpha': 0.0205035327071591}. Best is trial 6 with value: 0.10899701877820415.\n",
      "[I 2024-12-22 18:52:54,923] Trial 7 finished with value: 0.1110915973031722 and parameters: {'n_estimators': 1927, 'max_depth': 12, 'learning_rate': 0.01674256351179825, 'min_child_weight': 5, 'subsample': 0.7054065491856226, 'colsample_bytree': 0.868278216368266, 'reg_lambda': 0.7760079175764055, 'reg_alpha': 0.8698823394941261}. Best is trial 6 with value: 0.10899701877820415.\n",
      "[I 2024-12-22 18:53:02,552] Trial 8 finished with value: 0.1124724072260694 and parameters: {'n_estimators': 1601, 'max_depth': 6, 'learning_rate': 0.01902845988791268, 'min_child_weight': 2, 'subsample': 0.748631461543084, 'colsample_bytree': 0.836977454255557, 'reg_lambda': 0.897838907000835, 'reg_alpha': 0.8314362795117585}. Best is trial 6 with value: 0.10899701877820415.\n",
      "[I 2024-12-22 18:53:15,263] Trial 9 finished with value: 0.11059835000866787 and parameters: {'n_estimators': 2482, 'max_depth': 7, 'learning_rate': 0.022835477708928045, 'min_child_weight': 1, 'subsample': 0.8038938525648424, 'colsample_bytree': 0.7353090045041974, 'reg_lambda': 0.9175609292515268, 'reg_alpha': 0.5401743847167111}. Best is trial 6 with value: 0.10899701877820415.\n",
      "[I 2024-12-22 18:53:40,657] Trial 10 finished with value: 0.1091996700783793 and parameters: {'n_estimators': 2985, 'max_depth': 9, 'learning_rate': 0.010968872949824439, 'min_child_weight': 4, 'subsample': 0.8811257113669437, 'colsample_bytree': 0.6141882093340432, 'reg_lambda': 0.09823710053968054, 'reg_alpha': 0.010091728140596707}. Best is trial 6 with value: 0.10899701877820415.\n",
      "[I 2024-12-22 18:54:06,738] Trial 11 finished with value: 0.10918413674057437 and parameters: {'n_estimators': 2865, 'max_depth': 9, 'learning_rate': 0.010746571818474125, 'min_child_weight': 4, 'subsample': 0.8891907293942991, 'colsample_bytree': 0.6367579131369812, 'reg_lambda': 0.11235527330125654, 'reg_alpha': 0.035475461844510656}. Best is trial 6 with value: 0.10899701877820415.\n",
      "[I 2024-12-22 18:54:30,075] Trial 12 finished with value: 0.10844626225352919 and parameters: {'n_estimators': 2331, 'max_depth': 9, 'learning_rate': 0.01164779050664925, 'min_child_weight': 3, 'subsample': 0.8468290611811377, 'colsample_bytree': 0.7903274063724242, 'reg_lambda': 0.14217753727022486, 'reg_alpha': 0.018997786958450204}. Best is trial 12 with value: 0.10844626225352919.\n",
      "[I 2024-12-22 18:54:42,890] Trial 13 finished with value: 0.11136223608531517 and parameters: {'n_estimators': 2377, 'max_depth': 8, 'learning_rate': 0.029911750508840033, 'min_child_weight': 3, 'subsample': 0.844382264271165, 'colsample_bytree': 0.7814341075640243, 'reg_lambda': 0.3231658009656956, 'reg_alpha': 0.6530714482408287}. Best is trial 12 with value: 0.10844626225352919.\n",
      "[I 2024-12-22 18:55:11,474] Trial 14 finished with value: 0.1091589992998953 and parameters: {'n_estimators': 2235, 'max_depth': 10, 'learning_rate': 0.013842697665777434, 'min_child_weight': 3, 'subsample': 0.8163186851897655, 'colsample_bytree': 0.7802619304464341, 'reg_lambda': 0.27030013739920367, 'reg_alpha': 0.1383722532797883}. Best is trial 12 with value: 0.10844626225352919.\n",
      "[I 2024-12-22 18:55:35,324] Trial 15 finished with value: 0.10754992607912059 and parameters: {'n_estimators': 2674, 'max_depth': 8, 'learning_rate': 0.010000583987081556, 'min_child_weight': 2, 'subsample': 0.7440392987820802, 'colsample_bytree': 0.7903129709438965, 'reg_lambda': 0.6109062342411836, 'reg_alpha': 0.00267942003242691}. Best is trial 15 with value: 0.10754992607912059.\n",
      "[I 2024-12-22 18:55:55,894] Trial 16 finished with value: 0.11144503076560548 and parameters: {'n_estimators': 2164, 'max_depth': 8, 'learning_rate': 0.007968319482631152, 'min_child_weight': 2, 'subsample': 0.7370620913943648, 'colsample_bytree': 0.8023726573191017, 'reg_lambda': 0.6431930916188665, 'reg_alpha': 0.6313736149369833}. Best is trial 15 with value: 0.10754992607912059.\n",
      "[I 2024-12-22 18:56:11,020] Trial 17 finished with value: 0.10875731665682457 and parameters: {'n_estimators': 1599, 'max_depth': 7, 'learning_rate': 0.016167706922943857, 'min_child_weight': 2, 'subsample': 0.7965675216200536, 'colsample_bytree': 0.889606022046113, 'reg_lambda': 0.01671005649312643, 'reg_alpha': 0.14792784480248897}. Best is trial 15 with value: 0.10754992607912059.\n",
      "[I 2024-12-22 18:56:34,088] Trial 18 finished with value: 0.10957955978952091 and parameters: {'n_estimators': 2600, 'max_depth': 9, 'learning_rate': 0.00880256192503665, 'min_child_weight': 1, 'subsample': 0.7139746984638271, 'colsample_bytree': 0.7307798051920976, 'reg_lambda': 0.2758815154144174, 'reg_alpha': 0.27403000207600015}. Best is trial 15 with value: 0.10754992607912059.\n",
      "[I 2024-12-22 18:56:44,436] Trial 19 finished with value: 0.11185813264160312 and parameters: {'n_estimators': 1635, 'max_depth': 7, 'learning_rate': 0.00514232220975651, 'min_child_weight': 2, 'subsample': 0.8487905617419567, 'colsample_bytree': 0.8114844330102754, 'reg_lambda': 0.4029236093149736, 'reg_alpha': 0.09691410572870321}. Best is trial 15 with value: 0.10754992607912059.\n",
      "[I 2024-12-22 18:56:56,920] Trial 20 finished with value: 0.11200437880107961 and parameters: {'n_estimators': 2150, 'max_depth': 8, 'learning_rate': 0.013661242854972451, 'min_child_weight': 5, 'subsample': 0.7788541855825257, 'colsample_bytree': 0.8079426386079736, 'reg_lambda': 0.18888094702387856, 'reg_alpha': 0.9736387947348262}. Best is trial 15 with value: 0.10754992607912059.\n",
      "[I 2024-12-22 18:57:12,986] Trial 21 finished with value: 0.10827742727630003 and parameters: {'n_estimators': 1658, 'max_depth': 7, 'learning_rate': 0.016221511917601975, 'min_child_weight': 2, 'subsample': 0.7948386749129417, 'colsample_bytree': 0.8965764829406168, 'reg_lambda': 0.012607737932127872, 'reg_alpha': 0.12553895057689696}. Best is trial 15 with value: 0.10754992607912059.\n",
      "[I 2024-12-22 18:57:27,791] Trial 22 finished with value: 0.1089093146753473 and parameters: {'n_estimators': 2671, 'max_depth': 6, 'learning_rate': 0.009959584074716222, 'min_child_weight': 2, 'subsample': 0.8387057876075441, 'colsample_bytree': 0.873257010240671, 'reg_lambda': 0.01543587891247514, 'reg_alpha': 0.076272270919561}. Best is trial 15 with value: 0.10754992607912059.\n",
      "[I 2024-12-22 18:57:43,775] Trial 23 finished with value: 0.10968179170351369 and parameters: {'n_estimators': 1797, 'max_depth': 7, 'learning_rate': 0.015616713290806718, 'min_child_weight': 3, 'subsample': 0.7764719388539504, 'colsample_bytree': 0.8997205624753228, 'reg_lambda': 0.15672665553878165, 'reg_alpha': 0.24424029743195141}. Best is trial 15 with value: 0.10754992607912059.\n",
      "[I 2024-12-22 18:57:57,460] Trial 24 finished with value: 0.10875926188328562 and parameters: {'n_estimators': 1402, 'max_depth': 8, 'learning_rate': 0.018761501460664458, 'min_child_weight': 1, 'subsample': 0.8609945612289026, 'colsample_bytree': 0.7483726378077633, 'reg_lambda': 0.1855144765253401, 'reg_alpha': 0.09853246518674874}. Best is trial 15 with value: 0.10754992607912059.\n",
      "[I 2024-12-22 18:58:19,742] Trial 25 finished with value: 0.10846001436429539 and parameters: {'n_estimators': 2383, 'max_depth': 9, 'learning_rate': 0.012282928690302616, 'min_child_weight': 4, 'subsample': 0.8186062415803603, 'colsample_bytree': 0.7750234554758778, 'reg_lambda': 0.5387619152069878, 'reg_alpha': 0.004499014051586599}. Best is trial 15 with value: 0.10754992607912059.\n",
      "[I 2024-12-22 18:58:49,354] Trial 26 finished with value: 0.10944514858862728 and parameters: {'n_estimators': 2052, 'max_depth': 11, 'learning_rate': 0.014943838837611616, 'min_child_weight': 2, 'subsample': 0.7310662030901948, 'colsample_bytree': 0.7225649359181159, 'reg_lambda': 0.6915202533781013, 'reg_alpha': 0.18870416800770204}. Best is trial 15 with value: 0.10754992607912059.\n",
      "[I 2024-12-22 18:58:59,791] Trial 27 finished with value: 0.11169403583583122 and parameters: {'n_estimators': 1800, 'max_depth': 5, 'learning_rate': 0.012385380380087392, 'min_child_weight': 3, 'subsample': 0.8691112086966388, 'colsample_bytree': 0.8139671525064329, 'reg_lambda': 0.08519480619392977, 'reg_alpha': 0.1025464285810472}. Best is trial 15 with value: 0.10754992607912059.\n",
      "[I 2024-12-22 18:59:27,482] Trial 28 finished with value: 0.10975496750909583 and parameters: {'n_estimators': 2279, 'max_depth': 8, 'learning_rate': 0.01768573952852215, 'min_child_weight': 2, 'subsample': 0.8257404550887341, 'colsample_bytree': 0.6510019225274128, 'reg_lambda': 0.3522741245296319, 'reg_alpha': 0.3106798875735723}. Best is trial 15 with value: 0.10754992607912059.\n",
      "[I 2024-12-22 18:59:39,339] Trial 29 finished with value: 0.11737810246947149 and parameters: {'n_estimators': 2654, 'max_depth': 4, 'learning_rate': 0.006778354318169973, 'min_child_weight': 1, 'subsample': 0.800463543873046, 'colsample_bytree': 0.8300422363025264, 'reg_lambda': 0.49379702966922323, 'reg_alpha': 0.35241795634812223}. Best is trial 15 with value: 0.10754992607912059.\n",
      "[I 2024-12-22 18:59:47,306] Trial 30 finished with value: 0.11198044104669806 and parameters: {'n_estimators': 1422, 'max_depth': 7, 'learning_rate': 0.009412869299725192, 'min_child_weight': 5, 'subsample': 0.758227695313358, 'colsample_bytree': 0.8728814509633194, 'reg_lambda': 0.24436338411894598, 'reg_alpha': 0.4655417193213046}. Best is trial 15 with value: 0.10754992607912059.\n",
      "[I 2024-12-22 19:00:10,775] Trial 31 finished with value: 0.10811710926244622 and parameters: {'n_estimators': 2385, 'max_depth': 9, 'learning_rate': 0.012002430839796099, 'min_child_weight': 4, 'subsample': 0.8224123388086703, 'colsample_bytree': 0.7815906136311407, 'reg_lambda': 0.5463764364650842, 'reg_alpha': 0.008882532619304752}. Best is trial 15 with value: 0.10754992607912059.\n",
      "[I 2024-12-22 19:00:39,640] Trial 32 finished with value: 0.10875316342382198 and parameters: {'n_estimators': 2743, 'max_depth': 9, 'learning_rate': 0.011481959425268803, 'min_child_weight': 4, 'subsample': 0.7787624839901621, 'colsample_bytree': 0.7975430655309463, 'reg_lambda': 0.6245249422210442, 'reg_alpha': 0.06503145485968943}. Best is trial 15 with value: 0.10754992607912059.\n",
      "[I 2024-12-22 19:01:10,274] Trial 33 finished with value: 0.10951476094927062 and parameters: {'n_estimators': 2445, 'max_depth': 11, 'learning_rate': 0.009277912463573684, 'min_child_weight': 3, 'subsample': 0.8319003508845918, 'colsample_bytree': 0.7604622111955448, 'reg_lambda': 0.4912831349422244, 'reg_alpha': 0.16373379434685145}. Best is trial 15 with value: 0.10754992607912059.\n",
      "[I 2024-12-22 19:01:28,342] Trial 34 finished with value: 0.10992516731956456 and parameters: {'n_estimators': 2062, 'max_depth': 8, 'learning_rate': 0.007302157974084388, 'min_child_weight': 4, 'subsample': 0.861568423350537, 'colsample_bytree': 0.8269590494909413, 'reg_lambda': 0.7784901013206156, 'reg_alpha': 0.22423387902224307}. Best is trial 15 with value: 0.10754992607912059.\n",
      "[I 2024-12-22 19:01:36,024] Trial 35 finished with value: 0.10937968781388063 and parameters: {'n_estimators': 916, 'max_depth': 10, 'learning_rate': 0.013226281638550615, 'min_child_weight': 7, 'subsample': 0.8990122734860275, 'colsample_bytree': 0.7139608042804059, 'reg_lambda': 0.7075059648099933, 'reg_alpha': 0.007603125825529408}. Best is trial 15 with value: 0.10754992607912059.\n",
      "[I 2024-12-22 19:01:51,050] Trial 36 finished with value: 0.10943082835937934 and parameters: {'n_estimators': 1790, 'max_depth': 9, 'learning_rate': 0.01460123801449228, 'min_child_weight': 5, 'subsample': 0.7973645132534983, 'colsample_bytree': 0.7888540598357549, 'reg_lambda': 0.9912019291908527, 'reg_alpha': 0.1416377527135811}. Best is trial 15 with value: 0.10754992607912059.\n",
      "[I 2024-12-22 19:02:02,678] Trial 37 finished with value: 0.10907032036074318 and parameters: {'n_estimators': 2280, 'max_depth': 6, 'learning_rate': 0.02145206860124039, 'min_child_weight': 3, 'subsample': 0.7673854974218619, 'colsample_bytree': 0.8548971736841008, 'reg_lambda': 0.44040453232985977, 'reg_alpha': 0.067022756752954}. Best is trial 15 with value: 0.10754992607912059.\n",
      "[I 2024-12-22 19:02:25,313] Trial 38 finished with value: 0.11087836775431495 and parameters: {'n_estimators': 2538, 'max_depth': 11, 'learning_rate': 0.017425269017677256, 'min_child_weight': 6, 'subsample': 0.7046545723254778, 'colsample_bytree': 0.6946042851000681, 'reg_lambda': 0.6079490761624181, 'reg_alpha': 0.25183919470458893}. Best is trial 15 with value: 0.10754992607912059.\n",
      "[I 2024-12-22 19:02:36,643] Trial 39 finished with value: 0.10984936483563476 and parameters: {'n_estimators': 1197, 'max_depth': 10, 'learning_rate': 0.010306650915045212, 'min_child_weight': 4, 'subsample': 0.7442471972575191, 'colsample_bytree': 0.7626584454963725, 'reg_lambda': 0.5527869000021282, 'reg_alpha': 0.19864237060160214}. Best is trial 15 with value: 0.10754992607912059.\n"
     ]
    },
    {
     "name": "stdout",
     "output_type": "stream",
     "text": [
      "Final MAE: 0.44413879753668095\n"
     ]
    }
   ],
   "source": [
    "import optuna\n",
    "from sklearn.model_selection import KFold, cross_val_score\n",
    "from sklearn.pipeline import Pipeline\n",
    "from xgboost import XGBRegressor\n",
    "from sklearn.metrics import mean_absolute_error\n",
    "import numpy as np\n",
    "\n",
    "def objective(trial):\n",
    "    params = {\n",
    "        'n_estimators': trial.suggest_int('n_estimators', 800, 3000),\n",
    "        'max_depth': trial.suggest_int('max_depth', 4, 12),\n",
    "        'learning_rate': trial.suggest_float('learning_rate', 0.005, 0.03),\n",
    "        'min_child_weight': trial.suggest_int('min_child_weight', 1, 7),\n",
    "        'subsample': trial.suggest_float('subsample', 0.6, 0.9),\n",
    "        'colsample_bytree': trial.suggest_float('colsample_bytree', 0.6, 0.9),\n",
    "        'reg_lambda': trial.suggest_float('reg_lambda', 0.01, 1.0),\n",
    "        'reg_alpha': trial.suggest_float('reg_alpha', 0, 1.0)\n",
    "    }\n",
    "    \n",
    "    model = Pipeline([\n",
    "        ('preprocessor', preprocessor),\n",
    "        ('regressor', XGBRegressor(\n",
    "            **params,\n",
    "            random_state=42,\n",
    "            enable_categorical=True\n",
    "        ))\n",
    "    ])\n",
    "    \n",
    "    kf = KFold(n_splits=5, shuffle=True, random_state=42)\n",
    "    scores = cross_val_score(\n",
    "        model, X, y_transformed, \n",
    "        cv=kf,\n",
    "        scoring='neg_mean_absolute_error'\n",
    "    )\n",
    "    \n",
    "    return -scores.mean()\n",
    "\n",
    "# Run optimization\n",
    "study = optuna.create_study(direction='minimize')\n",
    "study.optimize(objective, n_trials=40)\n",
    "\n",
    "# Train final model with best parameters\n",
    "final_model = Pipeline([\n",
    "    ('preprocessor', preprocessor),\n",
    "    ('regressor', XGBRegressor(\n",
    "        **study.best_trial.params,\n",
    "        random_state=42,\n",
    "        enable_categorical=True\n",
    "    ))\n",
    "])\n",
    "\n",
    "X_train, X_test, y_train, y_test = train_test_split(X, y_transformed, test_size=0.2, random_state=42)\n",
    "final_model.fit(X_train, y_train)\n",
    "y_pred = final_model.predict(X_test)\n",
    "final_mae = mean_absolute_error(np.expm1(y_test), np.expm1(y_pred))\n",
    "print(f\"Final MAE: {final_mae}\")"
   ]
  },
  {
   "cell_type": "code",
   "execution_count": 28,
   "id": "edbd7885",
   "metadata": {},
   "outputs": [],
   "source": [
    "\n",
    "columns_to_encode = ['property_type','sector', 'balcony', 'agePossession', 'furnishing_type', 'luxury_category', 'floor_category']\n",
    "\n",
    "# Creating a column transformer for preprocessing\n",
    "preprocessor = ColumnTransformer(\n",
    "    transformers=[\n",
    "        ('num', StandardScaler(), ['bedRoom', 'bathroom', 'built_up_area', 'servant room', 'store room']),\n",
    "        ('cat', OrdinalEncoder(), columns_to_encode),\n",
    "        ('cat1',OneHotEncoder(drop='first',sparse_output=False),['agePossession']),\n",
    "        ('target_enc', ce.TargetEncoder(), ['sector'])\n",
    "    ], \n",
    "    remainder='passthrough'\n",
    ")"
   ]
  },
  {
   "cell_type": "code",
   "execution_count": 29,
   "id": "8f0bee38",
   "metadata": {},
   "outputs": [
    {
     "name": "stdout",
     "output_type": "stream",
     "text": [
      "0.9047983252719011\n"
     ]
    }
   ],
   "source": [
    "# def scorer(model_name, model):\n",
    "    \n",
    "# output = []\n",
    "\n",
    "# output.append(model_name)\n",
    "\n",
    "pipeline = Pipeline([\n",
    "    ('preprocessor', preprocessor),\n",
    "    ('regressor', XGBRegressor())\n",
    "])\n",
    "\n",
    "# K-fold cross-validation\n",
    "kfold = KFold(n_splits=10, shuffle=True, random_state=42)\n",
    "scores = cross_val_score(pipeline, X, y_transformed, cv=kfold, scoring='r2')\n",
    "\n",
    "print(scores.mean())\n",
    "\n",
    "\n",
    "\n",
    "    "
   ]
  },
  {
   "cell_type": "code",
   "execution_count": 30,
   "id": "3825672a",
   "metadata": {},
   "outputs": [
    {
     "data": {
      "text/plain": [
       "np.float64(0.447518119423869)"
      ]
     },
     "execution_count": 30,
     "metadata": {},
     "output_type": "execute_result"
    }
   ],
   "source": [
    "X_train, X_test, y_train, y_test = train_test_split(X,y_transformed,test_size=0.2,random_state=42)\n",
    "\n",
    "pipeline.fit(X_train,y_train)\n",
    "\n",
    "y_pred = pipeline.predict(X_test)\n",
    "\n",
    "y_pred = np.expm1(y_pred)\n",
    "\n",
    "mean_absolute_error(np.expm1(y_test),y_pred)\n",
    "\n"
   ]
  },
  {
   "cell_type": "code",
   "execution_count": null,
   "id": "4715cda2",
   "metadata": {},
   "outputs": [],
   "source": []
  }
 ],
 "metadata": {
  "kernelspec": {
   "display_name": "env",
   "language": "python",
   "name": "python3"
  },
  "language_info": {
   "codemirror_mode": {
    "name": "ipython",
    "version": 3
   },
   "file_extension": ".py",
   "mimetype": "text/x-python",
   "name": "python",
   "nbconvert_exporter": "python",
   "pygments_lexer": "ipython3",
   "version": "3.11.0"
  }
 },
 "nbformat": 4,
 "nbformat_minor": 5
}
